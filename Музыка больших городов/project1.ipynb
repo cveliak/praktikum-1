{
 "cells": [
  {
   "cell_type": "markdown",
   "metadata": {
    "id": "E0vqbgi9ay0H"
   },
   "source": [
    "# Исследование данных сервиса “Яндекс.Музыка” — сравнение пользователей двух городов"
   ]
  },
  {
   "cell_type": "markdown",
   "metadata": {},
   "source": [
    "**Описание проекта**\n",
    "\n",
    "Сравнение Москвы и Петербурга окружено мифами:\n",
    "- Москва — мегаполис, подчинённый жёсткому ритму рабочей недели;\n",
    "- Петербург — город своеобразной культуры, непохожий на Москву.\n",
    "\n",
    "Некоторые мифы отражают действительность. Другие — пустые стереотипы. Бизнес должен отличать первые от вторых, чтобы принимать рациональные решения."
   ]
  },
  {
   "cell_type": "markdown",
   "metadata": {},
   "source": [
    "**Задача проекта**\n",
    "\n",
    "На реальных данных Яндекс.Музыки c помощью библиотеки Pandas и её возможностей проверить данные и сравнить поведение и предпочтения пользователей двух столиц — Москвы и Санкт-Петербурга. Проверить гипотезы:\n",
    "1. Пользователи по-разному слушают музыку в Москве и Санкт-Петербурге.\n",
    "2. Утром в понедельник и вечером в пятницу в Москве преобладают одни жанры, а в Петербурге — другие. \n",
    "3. В Петербурге рэп слушают чаще, чем в Москве. В Москве преобладает поп-музыка."
   ]
  },
  {
   "cell_type": "markdown",
   "metadata": {},
   "source": [
    "**Описание данных**\n",
    "\n",
    "* `userID` — идентификатор пользователя;\n",
    "* `Track` — название трека;  \n",
    "* `artist` — имя исполнителя;\n",
    "* `genre` — название жанра;\n",
    "* `City` — город пользователя;\n",
    "* `time` — время начала прослушивания;\n",
    "* `Day` — день недели."
   ]
  },
  {
   "cell_type": "markdown",
   "metadata": {},
   "source": [
    "**План работы**\n",
    "\n",
    "1. Загрузка данных и изучение общей информации\n",
    "2. Предобработка данных\n",
    "3. Проверка гипотез\n",
    "4. Подведение итогов исследования"
   ]
  },
  {
   "cell_type": "markdown",
   "metadata": {
    "id": "Ml1hmfXC_Zcs"
   },
   "source": [
    "## Загрузка данных и изучение общей информации"
   ]
  },
  {
   "cell_type": "markdown",
   "metadata": {},
   "source": [
    "Импортируем файл с данными и изучим общую информацию:"
   ]
  },
  {
   "cell_type": "code",
   "execution_count": 1,
   "metadata": {
    "id": "AXN7PHPN_Zcs"
   },
   "outputs": [
    {
     "data": {
      "text/html": [
       "<div>\n",
       "<style scoped>\n",
       "    .dataframe tbody tr th:only-of-type {\n",
       "        vertical-align: middle;\n",
       "    }\n",
       "\n",
       "    .dataframe tbody tr th {\n",
       "        vertical-align: top;\n",
       "    }\n",
       "\n",
       "    .dataframe thead th {\n",
       "        text-align: right;\n",
       "    }\n",
       "</style>\n",
       "<table border=\"1\" class=\"dataframe\">\n",
       "  <thead>\n",
       "    <tr style=\"text-align: right;\">\n",
       "      <th></th>\n",
       "      <th>userID</th>\n",
       "      <th>Track</th>\n",
       "      <th>artist</th>\n",
       "      <th>genre</th>\n",
       "      <th>City</th>\n",
       "      <th>time</th>\n",
       "      <th>Day</th>\n",
       "    </tr>\n",
       "  </thead>\n",
       "  <tbody>\n",
       "    <tr>\n",
       "      <th>0</th>\n",
       "      <td>FFB692EC</td>\n",
       "      <td>Kamigata To Boots</td>\n",
       "      <td>The Mass Missile</td>\n",
       "      <td>rock</td>\n",
       "      <td>Saint-Petersburg</td>\n",
       "      <td>20:28:33</td>\n",
       "      <td>Wednesday</td>\n",
       "    </tr>\n",
       "    <tr>\n",
       "      <th>1</th>\n",
       "      <td>55204538</td>\n",
       "      <td>Delayed Because of Accident</td>\n",
       "      <td>Andreas Rönnberg</td>\n",
       "      <td>rock</td>\n",
       "      <td>Moscow</td>\n",
       "      <td>14:07:09</td>\n",
       "      <td>Friday</td>\n",
       "    </tr>\n",
       "    <tr>\n",
       "      <th>2</th>\n",
       "      <td>20EC38</td>\n",
       "      <td>Funiculì funiculà</td>\n",
       "      <td>Mario Lanza</td>\n",
       "      <td>pop</td>\n",
       "      <td>Saint-Petersburg</td>\n",
       "      <td>20:58:07</td>\n",
       "      <td>Wednesday</td>\n",
       "    </tr>\n",
       "    <tr>\n",
       "      <th>3</th>\n",
       "      <td>A3DD03C9</td>\n",
       "      <td>Dragons in the Sunset</td>\n",
       "      <td>Fire + Ice</td>\n",
       "      <td>folk</td>\n",
       "      <td>Saint-Petersburg</td>\n",
       "      <td>08:37:09</td>\n",
       "      <td>Monday</td>\n",
       "    </tr>\n",
       "    <tr>\n",
       "      <th>4</th>\n",
       "      <td>E2DC1FAE</td>\n",
       "      <td>Soul People</td>\n",
       "      <td>Space Echo</td>\n",
       "      <td>dance</td>\n",
       "      <td>Moscow</td>\n",
       "      <td>08:34:34</td>\n",
       "      <td>Monday</td>\n",
       "    </tr>\n",
       "    <tr>\n",
       "      <th>5</th>\n",
       "      <td>842029A1</td>\n",
       "      <td>Преданная</td>\n",
       "      <td>IMPERVTOR</td>\n",
       "      <td>rusrap</td>\n",
       "      <td>Saint-Petersburg</td>\n",
       "      <td>13:09:41</td>\n",
       "      <td>Friday</td>\n",
       "    </tr>\n",
       "    <tr>\n",
       "      <th>6</th>\n",
       "      <td>4CB90AA5</td>\n",
       "      <td>True</td>\n",
       "      <td>Roman Messer</td>\n",
       "      <td>dance</td>\n",
       "      <td>Moscow</td>\n",
       "      <td>13:00:07</td>\n",
       "      <td>Wednesday</td>\n",
       "    </tr>\n",
       "    <tr>\n",
       "      <th>7</th>\n",
       "      <td>F03E1C1F</td>\n",
       "      <td>Feeling This Way</td>\n",
       "      <td>Polina Griffith</td>\n",
       "      <td>dance</td>\n",
       "      <td>Moscow</td>\n",
       "      <td>20:47:49</td>\n",
       "      <td>Wednesday</td>\n",
       "    </tr>\n",
       "    <tr>\n",
       "      <th>8</th>\n",
       "      <td>8FA1D3BE</td>\n",
       "      <td>И вновь продолжается бой</td>\n",
       "      <td>NaN</td>\n",
       "      <td>ruspop</td>\n",
       "      <td>Moscow</td>\n",
       "      <td>09:17:40</td>\n",
       "      <td>Friday</td>\n",
       "    </tr>\n",
       "    <tr>\n",
       "      <th>9</th>\n",
       "      <td>E772D5C0</td>\n",
       "      <td>Pessimist</td>\n",
       "      <td>NaN</td>\n",
       "      <td>dance</td>\n",
       "      <td>Saint-Petersburg</td>\n",
       "      <td>21:20:49</td>\n",
       "      <td>Wednesday</td>\n",
       "    </tr>\n",
       "  </tbody>\n",
       "</table>\n",
       "</div>"
      ],
      "text/plain": [
       "     userID                        Track            artist   genre  \\\n",
       "0  FFB692EC            Kamigata To Boots  The Mass Missile    rock   \n",
       "1  55204538  Delayed Because of Accident  Andreas Rönnberg    rock   \n",
       "2    20EC38            Funiculì funiculà       Mario Lanza     pop   \n",
       "3  A3DD03C9        Dragons in the Sunset        Fire + Ice    folk   \n",
       "4  E2DC1FAE                  Soul People        Space Echo   dance   \n",
       "5  842029A1                    Преданная         IMPERVTOR  rusrap   \n",
       "6  4CB90AA5                         True      Roman Messer   dance   \n",
       "7  F03E1C1F             Feeling This Way   Polina Griffith   dance   \n",
       "8  8FA1D3BE     И вновь продолжается бой               NaN  ruspop   \n",
       "9  E772D5C0                    Pessimist               NaN   dance   \n",
       "\n",
       "             City        time        Day  \n",
       "0  Saint-Petersburg  20:28:33  Wednesday  \n",
       "1            Moscow  14:07:09     Friday  \n",
       "2  Saint-Petersburg  20:58:07  Wednesday  \n",
       "3  Saint-Petersburg  08:37:09     Monday  \n",
       "4            Moscow  08:34:34     Monday  \n",
       "5  Saint-Petersburg  13:09:41     Friday  \n",
       "6            Moscow  13:00:07  Wednesday  \n",
       "7            Moscow  20:47:49  Wednesday  \n",
       "8            Moscow  09:17:40     Friday  \n",
       "9  Saint-Petersburg  21:20:49  Wednesday  "
      ]
     },
     "execution_count": 1,
     "metadata": {},
     "output_type": "execute_result"
    }
   ],
   "source": [
    "#импорт бибилиотеки\n",
    "import pandas as pd\n",
    "#загрузка файла\n",
    "df = pd.read_csv('C:/Users/OT/Desktop/проекты/Музыка больших городов/yandex_music_project.csv')\n",
    "#вывод первых 10 строк\n",
    "df.head(10)"
   ]
  },
  {
   "cell_type": "code",
   "execution_count": 2,
   "metadata": {
    "id": "DSf2kIb-_Zct"
   },
   "outputs": [
    {
     "name": "stdout",
     "output_type": "stream",
     "text": [
      "<class 'pandas.core.frame.DataFrame'>\n",
      "RangeIndex: 65079 entries, 0 to 65078\n",
      "Data columns (total 7 columns):\n",
      " #   Column    Non-Null Count  Dtype \n",
      "---  ------    --------------  ----- \n",
      " 0     userID  65079 non-null  object\n",
      " 1   Track     63848 non-null  object\n",
      " 2   artist    57876 non-null  object\n",
      " 3   genre     63881 non-null  object\n",
      " 4     City    65079 non-null  object\n",
      " 5   time      65079 non-null  object\n",
      " 6   Day       65079 non-null  object\n",
      "dtypes: object(7)\n",
      "memory usage: 3.5+ MB\n"
     ]
    }
   ],
   "source": [
    "#вывод общей информации\n",
    "df.info()"
   ]
  },
  {
   "cell_type": "markdown",
   "metadata": {
    "id": "TaQ2Iwbr_Zct"
   },
   "source": [
    "В таблице 65 079 записей и семь столбцов. Тип данных во всех столбцах — `object`.\n",
    "В названиях колонок видны три нарушения стиля:\n",
    "1. Строчные буквы сочетаются с прописными.\n",
    "2. Встречаются пробелы.\n",
    "3. Встречается нарушение \"змеиного регистра\".\n",
    "Количество значений в столбцах различается. Значит, в данных есть пропущенные значения."
   ]
  },
  {
   "cell_type": "markdown",
   "metadata": {
    "id": "MCB6-dXG_Zct"
   },
   "source": [
    "**Выводы**\n",
    "\n",
    "Данные загружены. Предварительно можно утверждать, что данных достаточно для проверки гипотез. Но встречаются пропуски в данных, а в названиях колонок — расхождения с хорошим стилем."
   ]
  },
  {
   "cell_type": "markdown",
   "metadata": {
    "id": "SjYF6Ub9_Zct"
   },
   "source": [
    "## Предобработка данных\n",
    "Исправим стиль в заголовках столбцов, исключим пропуски. Затем проверим данные на дубликаты."
   ]
  },
  {
   "cell_type": "markdown",
   "metadata": {
    "id": "dIaKXr29_Zct"
   },
   "source": [
    "### Стиль заголовков"
   ]
  },
  {
   "cell_type": "code",
   "execution_count": 3,
   "metadata": {
    "id": "oKOTdF_Q_Zct"
   },
   "outputs": [
    {
     "data": {
      "text/plain": [
       "Index(['  userID', 'Track', 'artist', 'genre', '  City  ', 'time', 'Day'], dtype='object')"
      ]
     },
     "execution_count": 3,
     "metadata": {},
     "output_type": "execute_result"
    }
   ],
   "source": [
    "#вывод названия столбцов\n",
    "df.columns"
   ]
  },
  {
   "cell_type": "markdown",
   "metadata": {
    "id": "zj5534cv_Zct"
   },
   "source": [
    "Приведем названия в соответствие с хорошим стилем:\n",
    "* несколько слов в названии запишем в «змеином_регистре»,\n",
    "* все символы сделаем строчными,\n",
    "* устраним пробелы."
   ]
  },
  {
   "cell_type": "code",
   "execution_count": 4,
   "metadata": {
    "id": "ISlFqs5y_Zct"
   },
   "outputs": [],
   "source": [
    "df = df.rename(columns={'  userID': 'user_id', 'Track': 'track', '  City  ': 'city', 'Day' : 'day'})"
   ]
  },
  {
   "cell_type": "markdown",
   "metadata": {
    "id": "1dqbh00J_Zct"
   },
   "source": [
    "Проверим результат. Для этого ещё раз выведем на экран названия столбцов:"
   ]
  },
  {
   "cell_type": "code",
   "execution_count": 5,
   "metadata": {
    "id": "d4NOAmTW_Zct"
   },
   "outputs": [
    {
     "data": {
      "text/plain": [
       "Index(['user_id', 'track', 'artist', 'genre', 'city', 'time', 'day'], dtype='object')"
      ]
     },
     "execution_count": 5,
     "metadata": {},
     "output_type": "execute_result"
    }
   ],
   "source": [
    "df.columns"
   ]
  },
  {
   "cell_type": "markdown",
   "metadata": {
    "id": "5ISfbcfY_Zct"
   },
   "source": [
    "### Пропуски значений\n"
   ]
  },
  {
   "cell_type": "code",
   "execution_count": 6,
   "metadata": {
    "id": "RskX29qr_Zct"
   },
   "outputs": [
    {
     "data": {
      "text/plain": [
       "user_id       0\n",
       "track      1231\n",
       "artist     7203\n",
       "genre      1198\n",
       "city          0\n",
       "time          0\n",
       "day           0\n",
       "dtype: int64"
      ]
     },
     "execution_count": 6,
     "metadata": {},
     "output_type": "execute_result"
    }
   ],
   "source": [
    "#подсчет пропусков\n",
    "df.isna().sum()"
   ]
  },
  {
   "cell_type": "markdown",
   "metadata": {
    "id": "qubhgnlO_Zct"
   },
   "source": [
    "Не все пропущенные значения влияют на исследование, например, в `track` и `artist`можно заменить их явными обозначениями.\n",
    "\n",
    "Но пропуски в `genre` могут помешать сравнению музыкальных вкусов в Москве и Санкт-Петербурге. Было бы правильно установить причину пропусков и восстановить данные, но в рамках учебного проекта нет возможности для этого. Поэтому заполним и эти пропуски явными обозначениями. "
   ]
  },
  {
   "cell_type": "markdown",
   "metadata": {
    "id": "fSv2laPA_Zct"
   },
   "source": [
    "Заменим пропущенные значения в столбцах `track`, `artist` и `genre` на строку `'unknown'`. Для этого создадим список `columns_to_replace`, переберем его элементы циклом `for` и для каждого столбца выполним замену пропущенных значений:"
   ]
  },
  {
   "cell_type": "code",
   "execution_count": 7,
   "metadata": {
    "id": "KplB5qWs_Zct"
   },
   "outputs": [],
   "source": [
    "columns_to_replace = ['track', 'artist', 'genre']\n",
    "for column in columns_to_replace:\n",
    "    df[column] = df[column].fillna('unknown')"
   ]
  },
  {
   "cell_type": "markdown",
   "metadata": {
    "id": "Ilsm-MZo_Zct"
   },
   "source": [
    "Убедимся, что в таблице не осталось пропусков:"
   ]
  },
  {
   "cell_type": "code",
   "execution_count": 8,
   "metadata": {
    "id": "Tq4nYRX4_Zct"
   },
   "outputs": [
    {
     "data": {
      "text/plain": [
       "user_id    0\n",
       "track      0\n",
       "artist     0\n",
       "genre      0\n",
       "city       0\n",
       "time       0\n",
       "day        0\n",
       "dtype: int64"
      ]
     },
     "execution_count": 8,
     "metadata": {},
     "output_type": "execute_result"
    }
   ],
   "source": [
    "df.isna().sum()"
   ]
  },
  {
   "cell_type": "markdown",
   "metadata": {
    "id": "BWKRtBJ3_Zct"
   },
   "source": [
    "### Дубликаты"
   ]
  },
  {
   "cell_type": "markdown",
   "metadata": {},
   "source": [
    "Подсчитаем явные дубликаты, удалим их и проверим, что полностью от них избавились:"
   ]
  },
  {
   "cell_type": "code",
   "execution_count": 9,
   "metadata": {
    "id": "36eES_S0_Zct"
   },
   "outputs": [
    {
     "name": "stdout",
     "output_type": "stream",
     "text": [
      "Количество явных дубликатов до: 3826\n",
      "Количество явных дубликатов после: 0\n"
     ]
    }
   ],
   "source": [
    "#подсчет дубликатов\n",
    "print('Количество явных дубликатов до:', df.duplicated().sum())\n",
    "#удаление дубликатов\n",
    "df = df.drop_duplicates().reset_index(drop=True)\n",
    "#проверка\n",
    "print('Количество явных дубликатов после:', df.duplicated().sum())"
   ]
  },
  {
   "cell_type": "markdown",
   "metadata": {
    "id": "QlFBsxAr_Zct"
   },
   "source": [
    "Теперь избавимся от неявных дубликатов в колонке `genre`. "
   ]
  },
  {
   "cell_type": "code",
   "execution_count": 10,
   "metadata": {},
   "outputs": [
    {
     "data": {
      "text/plain": [
       "array(['acid', 'acoustic', 'action', 'adult', 'africa', 'afrikaans',\n",
       "       'alternative', 'alternativepunk', 'ambient', 'americana',\n",
       "       'animated', 'anime', 'arabesk', 'arabic', 'arena',\n",
       "       'argentinetango', 'art', 'audiobook', 'author', 'avantgarde',\n",
       "       'axé', 'baile', 'balkan', 'beats', 'bigroom', 'black', 'bluegrass',\n",
       "       'blues', 'bollywood', 'bossa', 'brazilian', 'breakbeat', 'breaks',\n",
       "       'broadway', 'cantautori', 'cantopop', 'canzone', 'caribbean',\n",
       "       'caucasian', 'celtic', 'chamber', 'chanson', 'children', 'chill',\n",
       "       'chinese', 'choral', 'christian', 'christmas', 'classical',\n",
       "       'classicmetal', 'club', 'colombian', 'comedy', 'conjazz',\n",
       "       'contemporary', 'country', 'cuban', 'dance', 'dancehall',\n",
       "       'dancepop', 'dark', 'death', 'deep', 'deutschrock', 'deutschspr',\n",
       "       'dirty', 'disco', 'dnb', 'documentary', 'downbeat', 'downtempo',\n",
       "       'drum', 'dub', 'dubstep', 'eastern', 'easy', 'electronic',\n",
       "       'electropop', 'emo', 'entehno', 'epicmetal', 'estrada', 'ethnic',\n",
       "       'eurofolk', 'european', 'experimental', 'extrememetal', 'fado',\n",
       "       'fairytail', 'film', 'fitness', 'flamenco', 'folk', 'folklore',\n",
       "       'folkmetal', 'folkrock', 'folktronica', 'forró', 'frankreich',\n",
       "       'französisch', 'french', 'funk', 'future', 'gangsta', 'garage',\n",
       "       'german', 'ghazal', 'gitarre', 'glitch', 'gospel', 'gothic',\n",
       "       'grime', 'grunge', 'gypsy', 'handsup', \"hard'n'heavy\", 'hardcore',\n",
       "       'hardstyle', 'hardtechno', 'hip', 'hip-hop', 'hiphop',\n",
       "       'historisch', 'holiday', 'hop', 'horror', 'house', 'hymn', 'idm',\n",
       "       'independent', 'indian', 'indie', 'indipop', 'industrial',\n",
       "       'inspirational', 'instrumental', 'international', 'irish', 'jam',\n",
       "       'japanese', 'jazz', 'jewish', 'jpop', 'jungle', 'k-pop',\n",
       "       'karadeniz', 'karaoke', 'kayokyoku', 'korean', 'laiko', 'latin',\n",
       "       'latino', 'leftfield', 'local', 'lounge', 'loungeelectronic',\n",
       "       'lovers', 'malaysian', 'mandopop', 'marschmusik', 'meditative',\n",
       "       'mediterranean', 'melodic', 'metal', 'metalcore', 'mexican',\n",
       "       'middle', 'minimal', 'miscellaneous', 'modern', 'mood', 'mpb',\n",
       "       'muslim', 'native', 'neoklassik', 'neue', 'new', 'newage',\n",
       "       'newwave', 'nu', 'nujazz', 'numetal', 'oceania', 'old', 'opera',\n",
       "       'orchestral', 'other', 'piano', 'podcasts', 'pop', 'popdance',\n",
       "       'popelectronic', 'popeurodance', 'poprussian', 'post',\n",
       "       'posthardcore', 'postrock', 'power', 'progmetal', 'progressive',\n",
       "       'psychedelic', 'punjabi', 'punk', 'quebecois', 'ragga', 'ram',\n",
       "       'rancheras', 'rap', 'rave', 'reggae', 'reggaeton', 'regional',\n",
       "       'relax', 'religious', 'retro', 'rhythm', 'rnb', 'rnr', 'rock',\n",
       "       'rockabilly', 'rockalternative', 'rockindie', 'rockother',\n",
       "       'romance', 'roots', 'ruspop', 'rusrap', 'rusrock', 'russian',\n",
       "       'salsa', 'samba', 'scenic', 'schlager', 'self', 'sertanejo',\n",
       "       'shanson', 'shoegazing', 'showtunes', 'singer', 'ska', 'skarock',\n",
       "       'slow', 'smooth', 'soft', 'soul', 'soulful', 'sound', 'soundtrack',\n",
       "       'southern', 'specialty', 'speech', 'spiritual', 'sport',\n",
       "       'stonerrock', 'surf', 'swing', 'synthpop', 'synthrock',\n",
       "       'sängerportrait', 'tango', 'tanzorchester', 'taraftar', 'tatar',\n",
       "       'tech', 'techno', 'teen', 'thrash', 'top', 'traditional',\n",
       "       'tradjazz', 'trance', 'tribal', 'trip', 'triphop', 'tropical',\n",
       "       'türk', 'türkçe', 'ukrrock', 'unknown', 'urban', 'uzbek',\n",
       "       'variété', 'vi', 'videogame', 'vocal', 'western', 'world',\n",
       "       'worldbeat', 'ïîï', 'электроника'], dtype=object)"
      ]
     },
     "execution_count": 10,
     "metadata": {},
     "output_type": "execute_result"
    }
   ],
   "source": [
    "#вывод списка уникальных названий жанров, сортировка в алфавитном порядке\n",
    "df.sort_values(by='genre')['genre'].unique()"
   ]
  },
  {
   "cell_type": "markdown",
   "metadata": {},
   "source": [
    "Заменим дубликат 'электроника' на electronic:"
   ]
  },
  {
   "cell_type": "code",
   "execution_count": 11,
   "metadata": {},
   "outputs": [],
   "source": [
    "df['genre']=df['genre'].replace('электроника', 'electronic')"
   ]
  },
  {
   "cell_type": "markdown",
   "metadata": {},
   "source": [
    "Для проверки проведенных изменений пересчитаем количество значений 'электроника' в столбце 'genre':"
   ]
  },
  {
   "cell_type": "code",
   "execution_count": 12,
   "metadata": {},
   "outputs": [
    {
     "name": "stdout",
     "output_type": "stream",
     "text": [
      "Количество дубликатов \"электроника\": 0\n"
     ]
    }
   ],
   "source": [
    "genre_final_count=df.loc[df.loc[:,'genre']=='электроника']['genre'].count()\n",
    "print('Количество дубликатов \"электроника\":', genre_final_count)"
   ]
  },
  {
   "cell_type": "markdown",
   "metadata": {
    "id": "qej-Qmuo_Zct"
   },
   "source": [
    "В списке жанров видим неявные дубликаты названия `hiphop`: *hip*, *hop*,  *hip-hop*. Очистим от них таблицу с помощью функции \n",
    " `replace_wrong_genres()`:"
   ]
  },
  {
   "cell_type": "code",
   "execution_count": 13,
   "metadata": {
    "id": "ErNDkmns_Zct"
   },
   "outputs": [],
   "source": [
    "def replace_wrong_genres(wrong_genres, correct_genre):\n",
    "    for wrong_genre in wrong_genres:\n",
    "        df['genre'] = df['genre'].replace(wrong_genre, correct_genre)        "
   ]
  },
  {
   "cell_type": "code",
   "execution_count": 14,
   "metadata": {
    "id": "YN5i2hpmSo09"
   },
   "outputs": [],
   "source": [
    "wrong_genres = ['hip', 'hop', 'hip-hop']\n",
    "correct_genre = 'hiphop'\n",
    "replace_wrong_genres(wrong_genres, correct_genre)"
   ]
  },
  {
   "cell_type": "markdown",
   "metadata": {},
   "source": [
    "Эту же функцию применим для очистки дубликатов *frankreich*, *französisch*,  *french*:"
   ]
  },
  {
   "cell_type": "code",
   "execution_count": 15,
   "metadata": {},
   "outputs": [],
   "source": [
    "wrong_genres = ['frankreich', 'französisch', 'french']\n",
    "correct_genre = 'french'\n",
    "replace_wrong_genres(wrong_genres, correct_genre)"
   ]
  },
  {
   "cell_type": "code",
   "execution_count": 16,
   "metadata": {
    "id": "wvixALnFG15m"
   },
   "outputs": [
    {
     "data": {
      "text/plain": [
       "array(['acid', 'acoustic', 'action', 'adult', 'africa', 'afrikaans',\n",
       "       'alternative', 'alternativepunk', 'ambient', 'americana',\n",
       "       'animated', 'anime', 'arabesk', 'arabic', 'arena',\n",
       "       'argentinetango', 'art', 'audiobook', 'author', 'avantgarde',\n",
       "       'axé', 'baile', 'balkan', 'beats', 'bigroom', 'black', 'bluegrass',\n",
       "       'blues', 'bollywood', 'bossa', 'brazilian', 'breakbeat', 'breaks',\n",
       "       'broadway', 'cantautori', 'cantopop', 'canzone', 'caribbean',\n",
       "       'caucasian', 'celtic', 'chamber', 'chanson', 'children', 'chill',\n",
       "       'chinese', 'choral', 'christian', 'christmas', 'classical',\n",
       "       'classicmetal', 'club', 'colombian', 'comedy', 'conjazz',\n",
       "       'contemporary', 'country', 'cuban', 'dance', 'dancehall',\n",
       "       'dancepop', 'dark', 'death', 'deep', 'deutschrock', 'deutschspr',\n",
       "       'dirty', 'disco', 'dnb', 'documentary', 'downbeat', 'downtempo',\n",
       "       'drum', 'dub', 'dubstep', 'eastern', 'easy', 'electronic',\n",
       "       'electropop', 'emo', 'entehno', 'epicmetal', 'estrada', 'ethnic',\n",
       "       'eurofolk', 'european', 'experimental', 'extrememetal', 'fado',\n",
       "       'fairytail', 'film', 'fitness', 'flamenco', 'folk', 'folklore',\n",
       "       'folkmetal', 'folkrock', 'folktronica', 'forró', 'french', 'funk',\n",
       "       'future', 'gangsta', 'garage', 'german', 'ghazal', 'gitarre',\n",
       "       'glitch', 'gospel', 'gothic', 'grime', 'grunge', 'gypsy',\n",
       "       'handsup', \"hard'n'heavy\", 'hardcore', 'hardstyle', 'hardtechno',\n",
       "       'hiphop', 'historisch', 'holiday', 'horror', 'house', 'hymn',\n",
       "       'idm', 'independent', 'indian', 'indie', 'indipop', 'industrial',\n",
       "       'inspirational', 'instrumental', 'international', 'irish', 'jam',\n",
       "       'japanese', 'jazz', 'jewish', 'jpop', 'jungle', 'k-pop',\n",
       "       'karadeniz', 'karaoke', 'kayokyoku', 'korean', 'laiko', 'latin',\n",
       "       'latino', 'leftfield', 'local', 'lounge', 'loungeelectronic',\n",
       "       'lovers', 'malaysian', 'mandopop', 'marschmusik', 'meditative',\n",
       "       'mediterranean', 'melodic', 'metal', 'metalcore', 'mexican',\n",
       "       'middle', 'minimal', 'miscellaneous', 'modern', 'mood', 'mpb',\n",
       "       'muslim', 'native', 'neoklassik', 'neue', 'new', 'newage',\n",
       "       'newwave', 'nu', 'nujazz', 'numetal', 'oceania', 'old', 'opera',\n",
       "       'orchestral', 'other', 'piano', 'podcasts', 'pop', 'popdance',\n",
       "       'popelectronic', 'popeurodance', 'poprussian', 'post',\n",
       "       'posthardcore', 'postrock', 'power', 'progmetal', 'progressive',\n",
       "       'psychedelic', 'punjabi', 'punk', 'quebecois', 'ragga', 'ram',\n",
       "       'rancheras', 'rap', 'rave', 'reggae', 'reggaeton', 'regional',\n",
       "       'relax', 'religious', 'retro', 'rhythm', 'rnb', 'rnr', 'rock',\n",
       "       'rockabilly', 'rockalternative', 'rockindie', 'rockother',\n",
       "       'romance', 'roots', 'ruspop', 'rusrap', 'rusrock', 'russian',\n",
       "       'salsa', 'samba', 'scenic', 'schlager', 'self', 'sertanejo',\n",
       "       'shanson', 'shoegazing', 'showtunes', 'singer', 'ska', 'skarock',\n",
       "       'slow', 'smooth', 'soft', 'soul', 'soulful', 'sound', 'soundtrack',\n",
       "       'southern', 'specialty', 'speech', 'spiritual', 'sport',\n",
       "       'stonerrock', 'surf', 'swing', 'synthpop', 'synthrock',\n",
       "       'sängerportrait', 'tango', 'tanzorchester', 'taraftar', 'tatar',\n",
       "       'tech', 'techno', 'teen', 'thrash', 'top', 'traditional',\n",
       "       'tradjazz', 'trance', 'tribal', 'trip', 'triphop', 'tropical',\n",
       "       'türk', 'türkçe', 'ukrrock', 'unknown', 'urban', 'uzbek',\n",
       "       'variété', 'vi', 'videogame', 'vocal', 'western', 'world',\n",
       "       'worldbeat', 'ïîï'], dtype=object)"
      ]
     },
     "execution_count": 16,
     "metadata": {},
     "output_type": "execute_result"
    }
   ],
   "source": [
    "#проверка\n",
    "df.sort_values(by='genre')['genre'].unique()"
   ]
  },
  {
   "cell_type": "markdown",
   "metadata": {},
   "source": [
    "Неправильные названия заменены."
   ]
  },
  {
   "cell_type": "markdown",
   "metadata": {},
   "source": [
    "Выведем общую информацию об обработанной таблице:"
   ]
  },
  {
   "cell_type": "code",
   "execution_count": 17,
   "metadata": {},
   "outputs": [
    {
     "name": "stdout",
     "output_type": "stream",
     "text": [
      "<class 'pandas.core.frame.DataFrame'>\n",
      "RangeIndex: 61253 entries, 0 to 61252\n",
      "Data columns (total 7 columns):\n",
      " #   Column   Non-Null Count  Dtype \n",
      "---  ------   --------------  ----- \n",
      " 0   user_id  61253 non-null  object\n",
      " 1   track    61253 non-null  object\n",
      " 2   artist   61253 non-null  object\n",
      " 3   genre    61253 non-null  object\n",
      " 4   city     61253 non-null  object\n",
      " 5   time     61253 non-null  object\n",
      " 6   day      61253 non-null  object\n",
      "dtypes: object(7)\n",
      "memory usage: 3.3+ MB\n"
     ]
    }
   ],
   "source": [
    "df.info()"
   ]
  },
  {
   "cell_type": "markdown",
   "metadata": {
    "id": "jz6a9-7HQUDd"
   },
   "source": [
    "**Выводы**\n",
    "\n",
    "Предобработка обнаружила три проблемы в данных:\n",
    "\n",
    "- нарушения в стиле заголовков,\n",
    "- пропущенные значения,\n",
    "- дубликаты — явные и неявные.\n",
    "\n",
    "Заголовки исправлены. Пропуски заменены на `'unknown'`. Дубликаты очищены. "
   ]
  },
  {
   "cell_type": "markdown",
   "metadata": {
    "id": "WttZHXH0SqKk"
   },
   "source": [
    "## Проверка гипотез"
   ]
  },
  {
   "cell_type": "markdown",
   "metadata": {
    "id": "Im936VVi_Zcu"
   },
   "source": [
    "### Сравнение поведения пользователей двух столиц"
   ]
  },
  {
   "cell_type": "markdown",
   "metadata": {
    "id": "nwt_MuaL_Zcu"
   },
   "source": [
    "Первая гипотеза утверждает, что пользователи по-разному слушают музыку в Москве и Санкт-Петербурге. Проверим это предположение по данным о трёх днях недели — понедельнике, среде и пятнице. Для этого:\n",
    "\n",
    "* Разделим пользователей Москвы и Санкт-Петербурга\n",
    "* Сравним, сколько треков послушала каждая группа пользователей в понедельник, среду и пятницу."
   ]
  },
  {
   "cell_type": "markdown",
   "metadata": {
    "id": "8Dw_YMmT_Zcu"
   },
   "source": [
    "Оценим активность пользователей в каждом городе. Сгруппируем данные по городу и посчитаем прослушивания в каждой группе."
   ]
  },
  {
   "cell_type": "code",
   "execution_count": 18,
   "metadata": {
    "id": "0_Qs96oh_Zcu"
   },
   "outputs": [
    {
     "data": {
      "text/plain": [
       "city\n",
       "Moscow              42741\n",
       "Saint-Petersburg    18512\n",
       "Name: genre, dtype: int64"
      ]
     },
     "execution_count": 18,
     "metadata": {},
     "output_type": "execute_result"
    }
   ],
   "source": [
    "df.groupby('city')['genre'].count()"
   ]
  },
  {
   "cell_type": "markdown",
   "metadata": {
    "id": "dzli3w8o_Zcu"
   },
   "source": [
    "В Москве прослушиваний больше, чем в Петербурге. Из этого не следует, что московские пользователи чаще слушают музыку. Просто самих пользователей в Москве больше.\n",
    "\n",
    "Теперь сгруппируем данные по дню недели и подсчитаем прослушивания в понедельник, среду и пятницу. "
   ]
  },
  {
   "cell_type": "code",
   "execution_count": 19,
   "metadata": {
    "id": "uZMKjiJz_Zcu"
   },
   "outputs": [
    {
     "data": {
      "text/plain": [
       "day\n",
       "Friday       21840\n",
       "Monday       21354\n",
       "Wednesday    18059\n",
       "Name: genre, dtype: int64"
      ]
     },
     "execution_count": 19,
     "metadata": {},
     "output_type": "execute_result"
    }
   ],
   "source": [
    "df.groupby('day')['genre'].count()"
   ]
  },
  {
   "cell_type": "markdown",
   "metadata": {
    "id": "cC2tNrlL_Zcu"
   },
   "source": [
    "В среднем пользователи из двух городов менее активны по средам. Но картина может измениться, если рассмотреть каждый город в отдельности."
   ]
  },
  {
   "cell_type": "markdown",
   "metadata": {
    "id": "POzs8bGa_Zcu"
   },
   "source": [
    "Для этого напишем функцию `number_tracks()`, которая посчитает прослушивания для заданного дня и города:"
   ]
  },
  {
   "cell_type": "code",
   "execution_count": 20,
   "metadata": {
    "id": "Nz3GdQB1_Zcu"
   },
   "outputs": [],
   "source": [
    "def number_tracks(day, city):\n",
    "    track_list = df[(df['day']== day) & (df['city']==city)]\n",
    "    track_list_count = track_list['user_id'].count()\n",
    "    return track_list_count"
   ]
  },
  {
   "cell_type": "markdown",
   "metadata": {
    "id": "ytf7xFrFJQ2r"
   },
   "source": [
    "Вызовем `number_tracks()` шесть раз, меняя значение параметров, чтобы получить данные для каждого города в каждый из трёх дней:"
   ]
  },
  {
   "cell_type": "code",
   "execution_count": 21,
   "metadata": {
    "id": "rJcRATNQ_Zcu"
   },
   "outputs": [
    {
     "name": "stdout",
     "output_type": "stream",
     "text": [
      "Количество прослушиваний в Москве в понедельник: 15740\n",
      "Количество прослушиваний в Петербурге в понедельник: 5614\n",
      "Количество прослушиваний в Москве в среду: 11056\n",
      "Количество прослушиваний в Петербурге в среду: 7003\n",
      "Количество прослушиваний в Москве в пятницу: 15945\n",
      "Количество прослушиваний в Петербурге в пятницу: 5895\n"
     ]
    }
   ],
   "source": [
    "print('Количество прослушиваний в Москве в понедельник:', number_tracks('Monday', 'Moscow'))\n",
    "print('Количество прослушиваний в Петербурге в понедельник:', number_tracks('Monday', 'Saint-Petersburg'))\n",
    "print('Количество прослушиваний в Москве в среду:',number_tracks('Wednesday', 'Moscow'))\n",
    "print('Количество прослушиваний в Петербурге в среду:', number_tracks('Wednesday', 'Saint-Petersburg'))\n",
    "print('Количество прослушиваний в Москве в пятницу:', number_tracks('Friday', 'Moscow'))\n",
    "print('Количество прослушиваний в Петербурге в пятницу:', number_tracks('Friday', 'Saint-Petersburg'))"
   ]
  },
  {
   "cell_type": "markdown",
   "metadata": {
    "id": "7QXffbO-_Zcu"
   },
   "source": [
    "Создадим таблицу, где\n",
    "* названия колонок — `['city', 'monday', 'wednesday', 'friday']`;\n",
    "* данные — результаты, которые вы получили с помощью `number_tracks`."
   ]
  },
  {
   "cell_type": "code",
   "execution_count": 22,
   "metadata": {
    "id": "APAcLpOr_Zcu"
   },
   "outputs": [
    {
     "data": {
      "text/html": [
       "<div>\n",
       "<style scoped>\n",
       "    .dataframe tbody tr th:only-of-type {\n",
       "        vertical-align: middle;\n",
       "    }\n",
       "\n",
       "    .dataframe tbody tr th {\n",
       "        vertical-align: top;\n",
       "    }\n",
       "\n",
       "    .dataframe thead th {\n",
       "        text-align: right;\n",
       "    }\n",
       "</style>\n",
       "<table border=\"1\" class=\"dataframe\">\n",
       "  <thead>\n",
       "    <tr style=\"text-align: right;\">\n",
       "      <th></th>\n",
       "      <th>city</th>\n",
       "      <th>monday</th>\n",
       "      <th>wednesday</th>\n",
       "      <th>friday</th>\n",
       "    </tr>\n",
       "  </thead>\n",
       "  <tbody>\n",
       "    <tr>\n",
       "      <th>0</th>\n",
       "      <td>Moscow</td>\n",
       "      <td>15740</td>\n",
       "      <td>11056</td>\n",
       "      <td>15945</td>\n",
       "    </tr>\n",
       "    <tr>\n",
       "      <th>1</th>\n",
       "      <td>Saint-Petersburg</td>\n",
       "      <td>5614</td>\n",
       "      <td>7003</td>\n",
       "      <td>5895</td>\n",
       "    </tr>\n",
       "  </tbody>\n",
       "</table>\n",
       "</div>"
      ],
      "text/plain": [
       "               city  monday  wednesday  friday\n",
       "0            Moscow   15740      11056   15945\n",
       "1  Saint-Petersburg    5614       7003    5895"
      ]
     },
     "execution_count": 22,
     "metadata": {},
     "output_type": "execute_result"
    }
   ],
   "source": [
    "data = [['Moscow', 15740, 11056, 15945], ['Saint-Petersburg', 5614, 7003, 5895]]\n",
    "columns = ['city', 'monday', 'wednesday', 'friday']\n",
    "table = pd.DataFrame(data=data, columns=columns)\n",
    "table"
   ]
  },
  {
   "cell_type": "markdown",
   "metadata": {
    "id": "-EgPIHYu_Zcu"
   },
   "source": [
    "**Выводы**\n",
    "\n",
    "Данные показывают разницу поведения пользователей:\n",
    "\n",
    "- В Москве пик прослушиваний приходится на понедельник и пятницу, а в среду заметен спад.\n",
    "- В Петербурге, наоборот, больше слушают музыку по средам. Активность в понедельник и пятницу здесь почти в равной мере уступает среде.\n",
    "\n",
    "Значит, данные говорят в пользу первой гипотезы."
   ]
  },
  {
   "cell_type": "markdown",
   "metadata": {
    "id": "atZAxtq4_Zcu"
   },
   "source": [
    "### Музыка в начале и в конце недели"
   ]
  },
  {
   "cell_type": "markdown",
   "metadata": {
    "id": "eXrQqXFH_Zcu"
   },
   "source": [
    "Согласно второй гипотезе, утром в понедельник в Москве преобладают одни жанры, а в Петербурге — другие. Так же и вечером пятницы преобладают разные жанры — в зависимости от города."
   ]
  },
  {
   "cell_type": "markdown",
   "metadata": {
    "id": "S8UcW6Hw_Zcu"
   },
   "source": [
    "Сохраним таблицы с данными в две переменные:"
   ]
  },
  {
   "cell_type": "code",
   "execution_count": 23,
   "metadata": {
    "id": "qeaFfM_P_Zcu"
   },
   "outputs": [
    {
     "data": {
      "text/html": [
       "<div>\n",
       "<style scoped>\n",
       "    .dataframe tbody tr th:only-of-type {\n",
       "        vertical-align: middle;\n",
       "    }\n",
       "\n",
       "    .dataframe tbody tr th {\n",
       "        vertical-align: top;\n",
       "    }\n",
       "\n",
       "    .dataframe thead th {\n",
       "        text-align: right;\n",
       "    }\n",
       "</style>\n",
       "<table border=\"1\" class=\"dataframe\">\n",
       "  <thead>\n",
       "    <tr style=\"text-align: right;\">\n",
       "      <th></th>\n",
       "      <th>user_id</th>\n",
       "      <th>track</th>\n",
       "      <th>artist</th>\n",
       "      <th>genre</th>\n",
       "      <th>city</th>\n",
       "      <th>time</th>\n",
       "      <th>day</th>\n",
       "    </tr>\n",
       "  </thead>\n",
       "  <tbody>\n",
       "    <tr>\n",
       "      <th>1</th>\n",
       "      <td>55204538</td>\n",
       "      <td>Delayed Because of Accident</td>\n",
       "      <td>Andreas Rönnberg</td>\n",
       "      <td>rock</td>\n",
       "      <td>Moscow</td>\n",
       "      <td>14:07:09</td>\n",
       "      <td>Friday</td>\n",
       "    </tr>\n",
       "    <tr>\n",
       "      <th>4</th>\n",
       "      <td>E2DC1FAE</td>\n",
       "      <td>Soul People</td>\n",
       "      <td>Space Echo</td>\n",
       "      <td>dance</td>\n",
       "      <td>Moscow</td>\n",
       "      <td>08:34:34</td>\n",
       "      <td>Monday</td>\n",
       "    </tr>\n",
       "    <tr>\n",
       "      <th>6</th>\n",
       "      <td>4CB90AA5</td>\n",
       "      <td>True</td>\n",
       "      <td>Roman Messer</td>\n",
       "      <td>dance</td>\n",
       "      <td>Moscow</td>\n",
       "      <td>13:00:07</td>\n",
       "      <td>Wednesday</td>\n",
       "    </tr>\n",
       "    <tr>\n",
       "      <th>7</th>\n",
       "      <td>F03E1C1F</td>\n",
       "      <td>Feeling This Way</td>\n",
       "      <td>Polina Griffith</td>\n",
       "      <td>dance</td>\n",
       "      <td>Moscow</td>\n",
       "      <td>20:47:49</td>\n",
       "      <td>Wednesday</td>\n",
       "    </tr>\n",
       "    <tr>\n",
       "      <th>8</th>\n",
       "      <td>8FA1D3BE</td>\n",
       "      <td>И вновь продолжается бой</td>\n",
       "      <td>unknown</td>\n",
       "      <td>ruspop</td>\n",
       "      <td>Moscow</td>\n",
       "      <td>09:17:40</td>\n",
       "      <td>Friday</td>\n",
       "    </tr>\n",
       "  </tbody>\n",
       "</table>\n",
       "</div>"
      ],
      "text/plain": [
       "    user_id                        track            artist   genre    city  \\\n",
       "1  55204538  Delayed Because of Accident  Andreas Rönnberg    rock  Moscow   \n",
       "4  E2DC1FAE                  Soul People        Space Echo   dance  Moscow   \n",
       "6  4CB90AA5                         True      Roman Messer   dance  Moscow   \n",
       "7  F03E1C1F             Feeling This Way   Polina Griffith   dance  Moscow   \n",
       "8  8FA1D3BE     И вновь продолжается бой           unknown  ruspop  Moscow   \n",
       "\n",
       "       time        day  \n",
       "1  14:07:09     Friday  \n",
       "4  08:34:34     Monday  \n",
       "6  13:00:07  Wednesday  \n",
       "7  20:47:49  Wednesday  \n",
       "8  09:17:40     Friday  "
      ]
     },
     "execution_count": 23,
     "metadata": {},
     "output_type": "execute_result"
    }
   ],
   "source": [
    "#данные по Москве\n",
    "moscow_general = df[df['city'] == 'Moscow']\n",
    "moscow_general.head()"
   ]
  },
  {
   "cell_type": "code",
   "execution_count": 24,
   "metadata": {
    "id": "ORaVRKto_Zcu"
   },
   "outputs": [
    {
     "data": {
      "text/html": [
       "<div>\n",
       "<style scoped>\n",
       "    .dataframe tbody tr th:only-of-type {\n",
       "        vertical-align: middle;\n",
       "    }\n",
       "\n",
       "    .dataframe tbody tr th {\n",
       "        vertical-align: top;\n",
       "    }\n",
       "\n",
       "    .dataframe thead th {\n",
       "        text-align: right;\n",
       "    }\n",
       "</style>\n",
       "<table border=\"1\" class=\"dataframe\">\n",
       "  <thead>\n",
       "    <tr style=\"text-align: right;\">\n",
       "      <th></th>\n",
       "      <th>user_id</th>\n",
       "      <th>track</th>\n",
       "      <th>artist</th>\n",
       "      <th>genre</th>\n",
       "      <th>city</th>\n",
       "      <th>time</th>\n",
       "      <th>day</th>\n",
       "    </tr>\n",
       "  </thead>\n",
       "  <tbody>\n",
       "    <tr>\n",
       "      <th>0</th>\n",
       "      <td>FFB692EC</td>\n",
       "      <td>Kamigata To Boots</td>\n",
       "      <td>The Mass Missile</td>\n",
       "      <td>rock</td>\n",
       "      <td>Saint-Petersburg</td>\n",
       "      <td>20:28:33</td>\n",
       "      <td>Wednesday</td>\n",
       "    </tr>\n",
       "    <tr>\n",
       "      <th>2</th>\n",
       "      <td>20EC38</td>\n",
       "      <td>Funiculì funiculà</td>\n",
       "      <td>Mario Lanza</td>\n",
       "      <td>pop</td>\n",
       "      <td>Saint-Petersburg</td>\n",
       "      <td>20:58:07</td>\n",
       "      <td>Wednesday</td>\n",
       "    </tr>\n",
       "    <tr>\n",
       "      <th>3</th>\n",
       "      <td>A3DD03C9</td>\n",
       "      <td>Dragons in the Sunset</td>\n",
       "      <td>Fire + Ice</td>\n",
       "      <td>folk</td>\n",
       "      <td>Saint-Petersburg</td>\n",
       "      <td>08:37:09</td>\n",
       "      <td>Monday</td>\n",
       "    </tr>\n",
       "    <tr>\n",
       "      <th>5</th>\n",
       "      <td>842029A1</td>\n",
       "      <td>Преданная</td>\n",
       "      <td>IMPERVTOR</td>\n",
       "      <td>rusrap</td>\n",
       "      <td>Saint-Petersburg</td>\n",
       "      <td>13:09:41</td>\n",
       "      <td>Friday</td>\n",
       "    </tr>\n",
       "    <tr>\n",
       "      <th>9</th>\n",
       "      <td>E772D5C0</td>\n",
       "      <td>Pessimist</td>\n",
       "      <td>unknown</td>\n",
       "      <td>dance</td>\n",
       "      <td>Saint-Petersburg</td>\n",
       "      <td>21:20:49</td>\n",
       "      <td>Wednesday</td>\n",
       "    </tr>\n",
       "  </tbody>\n",
       "</table>\n",
       "</div>"
      ],
      "text/plain": [
       "    user_id                  track            artist   genre  \\\n",
       "0  FFB692EC      Kamigata To Boots  The Mass Missile    rock   \n",
       "2    20EC38      Funiculì funiculà       Mario Lanza     pop   \n",
       "3  A3DD03C9  Dragons in the Sunset        Fire + Ice    folk   \n",
       "5  842029A1              Преданная         IMPERVTOR  rusrap   \n",
       "9  E772D5C0              Pessimist           unknown   dance   \n",
       "\n",
       "               city      time        day  \n",
       "0  Saint-Petersburg  20:28:33  Wednesday  \n",
       "2  Saint-Petersburg  20:58:07  Wednesday  \n",
       "3  Saint-Petersburg  08:37:09     Monday  \n",
       "5  Saint-Petersburg  13:09:41     Friday  \n",
       "9  Saint-Petersburg  21:20:49  Wednesday  "
      ]
     },
     "execution_count": 24,
     "metadata": {},
     "output_type": "execute_result"
    }
   ],
   "source": [
    "#данные по Санкт-Петербургу\n",
    "spb_general = df[df['city'] == 'Saint-Petersburg']\n",
    "spb_general.head()"
   ]
  },
  {
   "cell_type": "markdown",
   "metadata": {
    "id": "MEJV-CX2_Zcu"
   },
   "source": [
    "Создадим функцию `genre_weekday()`, которая  олжна вернуть информацию о топ-10 жанров тех треков, которые прослушивали в указанный день, в промежутке между двумя отметками времени."
   ]
  },
  {
   "cell_type": "code",
   "execution_count": 25,
   "metadata": {
    "id": "laJT9BYl_Zcu"
   },
   "outputs": [],
   "source": [
    "def genre_weekday(table, day, time1, time2):\n",
    "    genre_df = table[(table['day']==day) & (table['time']>time1) & (table['time']<time2)]\n",
    "    genre_df_sorted = genre_df.groupby('genre')['genre'].count().sort_values(ascending=False).head(10)\n",
    "    return genre_df_sorted"
   ]
  },
  {
   "cell_type": "markdown",
   "metadata": {
    "id": "la2s2_PF_Zcu"
   },
   "source": [
    "Cравним результаты функции `genre_weekday()` для Москвы и Санкт-Петербурга в понедельник утром (с 7:00 до 11:00) и в пятницу вечером (с 17:00 до 23:00):"
   ]
  },
  {
   "cell_type": "code",
   "execution_count": 26,
   "metadata": {
    "id": "yz7itPUQ_Zcu"
   },
   "outputs": [
    {
     "data": {
      "text/plain": [
       "genre\n",
       "pop            781\n",
       "dance          549\n",
       "electronic     480\n",
       "rock           474\n",
       "hiphop         286\n",
       "ruspop         186\n",
       "world          181\n",
       "rusrap         175\n",
       "alternative    164\n",
       "unknown        161\n",
       "Name: genre, dtype: int64"
      ]
     },
     "execution_count": 26,
     "metadata": {},
     "output_type": "execute_result"
    }
   ],
   "source": [
    "genre_weekday(moscow_general,'Monday', '07:00', '11:00')"
   ]
  },
  {
   "cell_type": "code",
   "execution_count": 27,
   "metadata": {
    "id": "kwUcHPdy_Zcu"
   },
   "outputs": [
    {
     "data": {
      "text/plain": [
       "genre\n",
       "pop            218\n",
       "dance          182\n",
       "rock           162\n",
       "electronic     147\n",
       "hiphop          80\n",
       "ruspop          64\n",
       "alternative     58\n",
       "rusrap          55\n",
       "jazz            44\n",
       "classical       40\n",
       "Name: genre, dtype: int64"
      ]
     },
     "execution_count": 27,
     "metadata": {},
     "output_type": "execute_result"
    }
   ],
   "source": [
    "genre_weekday(spb_general,'Monday', '07:00', '11:00')"
   ]
  },
  {
   "cell_type": "code",
   "execution_count": 28,
   "metadata": {
    "id": "EzXVRE1o_Zcu"
   },
   "outputs": [
    {
     "data": {
      "text/plain": [
       "genre\n",
       "pop            713\n",
       "rock           517\n",
       "dance          495\n",
       "electronic     482\n",
       "hiphop         273\n",
       "world          208\n",
       "ruspop         170\n",
       "alternative    163\n",
       "classical      163\n",
       "rusrap         142\n",
       "Name: genre, dtype: int64"
      ]
     },
     "execution_count": 28,
     "metadata": {},
     "output_type": "execute_result"
    }
   ],
   "source": [
    "genre_weekday(moscow_general, 'Friday', '17:00', '23:00')"
   ]
  },
  {
   "cell_type": "code",
   "execution_count": 29,
   "metadata": {
    "id": "JZaEKu5v_Zcu"
   },
   "outputs": [
    {
     "data": {
      "text/plain": [
       "genre\n",
       "pop            256\n",
       "electronic     216\n",
       "rock           216\n",
       "dance          210\n",
       "hiphop          97\n",
       "alternative     63\n",
       "jazz            61\n",
       "classical       60\n",
       "rusrap          59\n",
       "world           54\n",
       "Name: genre, dtype: int64"
      ]
     },
     "execution_count": 29,
     "metadata": {},
     "output_type": "execute_result"
    }
   ],
   "source": [
    "genre_weekday(spb_general, 'Friday', '17:00', '23:00')"
   ]
  },
  {
   "cell_type": "markdown",
   "metadata": {
    "id": "wrCe4MNX_Zcu"
   },
   "source": [
    "**Выводы**\n",
    "\n",
    "Если сравнить топ-10 жанров в понедельник утром, можно сделать такие выводы:\n",
    "\n",
    "1. В Москве и Петербурге слушают похожую музыку. Единственное отличие — в московский рейтинг вошёл жанр “world”, а в петербургский — джаз и классика.\n",
    "\n",
    "2. В Москве пропущенных значений оказалось так много, что значение `'unknown'` заняло десятое место среди самых популярных жанров. Значит, пропущенные значения занимают существенную долю в данных и угрожают достоверности исследования.\n",
    "\n",
    "Вечер пятницы не меняет эту картину. Некоторые жанры поднимаются немного выше, другие спускаются, но в целом топ-10 остаётся тем же самым.\n",
    "\n",
    "Таким образом, вторая гипотеза подтвердилась лишь частично:\n",
    "* Пользователи слушают похожую музыку в начале недели и в конце.\n",
    "* Разница между Москвой и Петербургом не слишком выражена. В Москве чаще слушают русскую популярную музыку, в Петербурге — джаз.\n",
    "\n",
    "Однако пропуски в данных ставят под сомнение этот результат. В Москве их так много, что рейтинг топ-10 мог бы выглядеть иначе, если бы не утерянные  данные о жанрах."
   ]
  },
  {
   "cell_type": "markdown",
   "metadata": {
    "id": "JolODAqr_Zcu"
   },
   "source": [
    "### Жанровые предпочтения в Москве и Петербурге\n",
    "\n",
    "Гипотеза: Петербург — столица рэпа, музыку этого жанра там слушают чаще, чем в Москве.  А Москва — город контрастов, в котором, тем не менее, преобладает поп-музыка."
   ]
  },
  {
   "cell_type": "markdown",
   "metadata": {
    "id": "DlegSvaT_Zcu"
   },
   "source": [
    "Сгруппируем таблицу `moscow_general` по жанру и посчитаем прослушивания треков каждого жанра методом `count()`. Затем отсортируем результат в порядке убывания и сохраним его в таблице `moscow_genres`."
   ]
  },
  {
   "cell_type": "code",
   "execution_count": 30,
   "metadata": {
    "id": "r19lIPke_Zcu"
   },
   "outputs": [
    {
     "data": {
      "text/plain": [
       "genre\n",
       "pop            5892\n",
       "dance          4435\n",
       "rock           3965\n",
       "electronic     3786\n",
       "hiphop         2096\n",
       "classical      1616\n",
       "world          1432\n",
       "alternative    1379\n",
       "ruspop         1372\n",
       "rusrap         1161\n",
       "Name: genre, dtype: int64"
      ]
     },
     "execution_count": 30,
     "metadata": {},
     "output_type": "execute_result"
    }
   ],
   "source": [
    "moscow_genres = moscow_general.groupby('genre')['genre'].count().sort_values(ascending=False)\n",
    "moscow_genres.head(10)"
   ]
  },
  {
   "cell_type": "markdown",
   "metadata": {
    "id": "cnPG2vnN_Zcv"
   },
   "source": [
    "То же самое сделаем для Петербурга:"
   ]
  },
  {
   "cell_type": "code",
   "execution_count": 31,
   "metadata": {
    "id": "gluLIpE7_Zcv"
   },
   "outputs": [
    {
     "data": {
      "text/plain": [
       "genre\n",
       "pop            2431\n",
       "dance          1932\n",
       "rock           1879\n",
       "electronic     1737\n",
       "hiphop          960\n",
       "alternative     649\n",
       "classical       646\n",
       "rusrap          564\n",
       "ruspop          538\n",
       "world           515\n",
       "Name: genre, dtype: int64"
      ]
     },
     "execution_count": 31,
     "metadata": {},
     "output_type": "execute_result"
    }
   ],
   "source": [
    "spb_genres = spb_general.groupby('genre')['genre'].count().sort_values(ascending=False)\n",
    "spb_genres.head(10)"
   ]
  },
  {
   "cell_type": "markdown",
   "metadata": {
    "id": "RY51YJYu_Zcv"
   },
   "source": [
    "**Выводы**"
   ]
  },
  {
   "cell_type": "markdown",
   "metadata": {
    "id": "nVhnJEm__Zcv"
   },
   "source": [
    "Гипотеза частично подтвердилась:\n",
    "* Поп-музыка — самый популярный жанр в Москве, как и предполагала гипотеза. Более того, в топ-10 жанров встречается близкий жанр — русская популярная музыка.\n",
    "* Вопреки ожиданиям, рэп одинаково популярен в Москве и Петербурге. \n"
   ]
  },
  {
   "cell_type": "markdown",
   "metadata": {
    "id": "ykKQ0N65_Zcv"
   },
   "source": [
    "## Итоги исследования"
   ]
  },
  {
   "cell_type": "markdown",
   "metadata": {
    "id": "tjUwbHb3_Zcv"
   },
   "source": [
    "Мы проверили три гипотезы и установили:\n",
    "\n",
    "1. День недели по-разному влияет на активность пользователей в Москве и Петербурге. \n",
    "\n",
    "Первая гипотеза полностью подтвердилась.\n",
    "\n",
    "2. Музыкальные предпочтения не сильно меняются в течение недели — будь то Москва или Петербург. Небольшие различия заметны в начале недели, по понедельникам:\n",
    "* в Москве слушают музыку жанра “world”,\n",
    "* в Петербурге — джаз и классику.\n",
    "\n",
    "Таким образом, вторая гипотеза подтвердилась лишь отчасти. Этот результат мог оказаться иным, если бы не пропуски в данных.\n",
    "\n",
    "3. Во вкусах пользователей Москвы и Петербурга больше общего чем различий. Вопреки ожиданиям, предпочтения жанров в Петербурге напоминают московские.\n",
    "\n",
    "Третья гипотеза не подтвердилась. Если различия в предпочтениях и существуют, на основной массе пользователей они незаметны."
   ]
  }
 ],
 "metadata": {
  "ExecuteTimeLog": [
   {
    "duration": 65,
    "start_time": "2021-11-23T11:58:01.403Z"
   },
   {
    "duration": 513,
    "start_time": "2021-11-23T11:58:06.244Z"
   },
   {
    "duration": 139,
    "start_time": "2021-11-23T11:58:44.973Z"
   },
   {
    "duration": 248,
    "start_time": "2021-11-23T11:59:10.637Z"
   },
   {
    "duration": 20,
    "start_time": "2021-11-23T11:59:20.062Z"
   },
   {
    "duration": 24,
    "start_time": "2021-11-23T11:59:55.654Z"
   },
   {
    "duration": 4,
    "start_time": "2021-11-23T12:15:01.091Z"
   },
   {
    "duration": 20,
    "start_time": "2021-11-23T12:22:03.401Z"
   },
   {
    "duration": 4,
    "start_time": "2021-11-23T12:22:11.517Z"
   },
   {
    "duration": 21,
    "start_time": "2021-11-23T12:22:37.621Z"
   },
   {
    "duration": 4,
    "start_time": "2021-11-23T12:22:40.133Z"
   },
   {
    "duration": 21,
    "start_time": "2021-11-23T12:24:31.010Z"
   },
   {
    "duration": 18,
    "start_time": "2021-11-23T12:40:32.735Z"
   },
   {
    "duration": 22,
    "start_time": "2021-11-23T12:40:47.131Z"
   },
   {
    "duration": 54,
    "start_time": "2021-11-23T12:42:30.421Z"
   },
   {
    "duration": 66,
    "start_time": "2021-11-23T12:45:29.416Z"
   },
   {
    "duration": 52,
    "start_time": "2021-11-23T12:45:40.776Z"
   },
   {
    "duration": 56,
    "start_time": "2021-11-23T12:45:52.497Z"
   },
   {
    "duration": 48,
    "start_time": "2021-11-23T12:45:56.360Z"
   },
   {
    "duration": 5,
    "start_time": "2021-11-23T12:49:13.757Z"
   },
   {
    "duration": 185,
    "start_time": "2021-11-23T12:49:58.734Z"
   },
   {
    "duration": 68,
    "start_time": "2021-11-23T12:50:13.341Z"
   },
   {
    "duration": 68,
    "start_time": "2021-11-23T12:59:55.508Z"
   },
   {
    "duration": 5,
    "start_time": "2021-11-23T13:00:03.990Z"
   },
   {
    "duration": 5,
    "start_time": "2021-11-23T13:03:20.171Z"
   },
   {
    "duration": 5,
    "start_time": "2021-11-23T13:03:54.146Z"
   },
   {
    "duration": 3,
    "start_time": "2021-11-23T13:05:26.244Z"
   },
   {
    "duration": 3,
    "start_time": "2021-11-23T13:05:29.756Z"
   },
   {
    "duration": 324,
    "start_time": "2021-11-23T13:06:33.069Z"
   },
   {
    "duration": 5274,
    "start_time": "2021-11-23T13:06:38.175Z"
   },
   {
    "duration": -17,
    "start_time": "2021-11-23T13:08:26.354Z"
   },
   {
    "duration": 5067,
    "start_time": "2021-11-23T13:08:28.616Z"
   },
   {
    "duration": 6,
    "start_time": "2021-11-23T13:08:47.416Z"
   },
   {
    "duration": 6,
    "start_time": "2021-11-23T13:08:56.064Z"
   },
   {
    "duration": 5,
    "start_time": "2021-11-23T13:09:04.225Z"
   },
   {
    "duration": 193,
    "start_time": "2021-11-23T13:09:30.137Z"
   },
   {
    "duration": 7,
    "start_time": "2021-11-23T13:09:51.380Z"
   },
   {
    "duration": 4,
    "start_time": "2021-11-23T13:11:28.388Z"
   },
   {
    "duration": 4,
    "start_time": "2021-11-23T13:12:05.716Z"
   },
   {
    "duration": 5,
    "start_time": "2021-11-23T13:12:10.284Z"
   },
   {
    "duration": 4,
    "start_time": "2021-11-23T13:12:16.020Z"
   },
   {
    "duration": 42,
    "start_time": "2021-11-23T13:13:53.206Z"
   },
   {
    "duration": 54,
    "start_time": "2021-11-23T13:14:01.038Z"
   },
   {
    "duration": 337,
    "start_time": "2021-11-23T13:14:51.598Z"
   },
   {
    "duration": 5343,
    "start_time": "2021-11-23T13:15:02.383Z"
   },
   {
    "duration": 4849,
    "start_time": "2021-11-23T13:17:03.370Z"
   },
   {
    "duration": 50,
    "start_time": "2021-11-23T13:17:34.563Z"
   },
   {
    "duration": 5239,
    "start_time": "2021-11-23T13:19:40.698Z"
   },
   {
    "duration": 4662,
    "start_time": "2021-11-23T13:20:25.486Z"
   },
   {
    "duration": 44,
    "start_time": "2021-11-23T13:20:41.927Z"
   },
   {
    "duration": 4515,
    "start_time": "2021-11-23T13:23:24.761Z"
   },
   {
    "duration": 209,
    "start_time": "2021-11-23T13:41:15.985Z"
   },
   {
    "duration": 5,
    "start_time": "2021-11-23T13:41:33.378Z"
   },
   {
    "duration": 5,
    "start_time": "2021-11-23T13:42:38.099Z"
   },
   {
    "duration": 5,
    "start_time": "2021-11-23T13:43:09.435Z"
   },
   {
    "duration": 5,
    "start_time": "2021-11-23T13:43:36.500Z"
   },
   {
    "duration": 44,
    "start_time": "2021-11-23T13:44:35.262Z"
   },
   {
    "duration": 55,
    "start_time": "2021-11-23T13:44:50.725Z"
   },
   {
    "duration": 52,
    "start_time": "2021-11-23T13:45:25.453Z"
   },
   {
    "duration": 44,
    "start_time": "2021-11-23T13:45:48.983Z"
   },
   {
    "duration": 47,
    "start_time": "2021-11-23T13:46:49.760Z"
   },
   {
    "duration": 50,
    "start_time": "2021-11-23T13:48:46.386Z"
   },
   {
    "duration": 49,
    "start_time": "2021-11-23T13:49:31.315Z"
   },
   {
    "duration": 6,
    "start_time": "2021-11-23T14:02:46.192Z"
   },
   {
    "duration": 4986,
    "start_time": "2021-11-23T14:04:01.652Z"
   },
   {
    "duration": 11,
    "start_time": "2021-11-23T14:05:00.775Z"
   },
   {
    "duration": 4,
    "start_time": "2021-11-23T14:24:39.917Z"
   },
   {
    "duration": 3,
    "start_time": "2021-11-23T14:24:52.951Z"
   },
   {
    "duration": 182,
    "start_time": "2021-11-23T14:25:58.393Z"
   },
   {
    "duration": 196,
    "start_time": "2021-11-23T14:27:17.906Z"
   },
   {
    "duration": 183,
    "start_time": "2021-11-23T14:27:43.299Z"
   },
   {
    "duration": 4,
    "start_time": "2021-11-23T14:31:10.286Z"
   },
   {
    "duration": 389,
    "start_time": "2021-11-23T14:32:44.248Z"
   },
   {
    "duration": 3,
    "start_time": "2021-11-23T14:39:03.392Z"
   },
   {
    "duration": 270,
    "start_time": "2021-11-23T14:40:07.137Z"
   },
   {
    "duration": 230,
    "start_time": "2021-11-23T14:40:58.696Z"
   },
   {
    "duration": 9,
    "start_time": "2021-11-23T14:41:18.506Z"
   },
   {
    "duration": 18,
    "start_time": "2021-11-23T14:41:30.978Z"
   },
   {
    "duration": 48,
    "start_time": "2021-11-23T14:42:20.356Z"
   },
   {
    "duration": 348,
    "start_time": "2021-11-24T11:53:49.924Z"
   },
   {
    "duration": 355,
    "start_time": "2021-11-24T11:54:39.237Z"
   },
   {
    "duration": 298,
    "start_time": "2021-11-24T11:54:49.607Z"
   },
   {
    "duration": 81,
    "start_time": "2021-11-24T11:56:13.800Z"
   },
   {
    "duration": 908,
    "start_time": "2021-11-24T11:56:20.625Z"
   },
   {
    "duration": 120,
    "start_time": "2021-11-24T11:57:09.146Z"
   },
   {
    "duration": 136,
    "start_time": "2021-11-24T11:57:15.881Z"
   },
   {
    "duration": 371,
    "start_time": "2021-11-24T11:57:26.993Z"
   },
   {
    "duration": 352,
    "start_time": "2021-11-24T11:59:32.604Z"
   },
   {
    "duration": 280,
    "start_time": "2021-11-24T12:00:59.942Z"
   },
   {
    "duration": 235,
    "start_time": "2021-11-24T12:14:09.057Z"
   },
   {
    "duration": 244,
    "start_time": "2021-11-24T12:14:16.626Z"
   },
   {
    "duration": 427,
    "start_time": "2021-11-24T12:15:06.772Z"
   },
   {
    "duration": 11,
    "start_time": "2021-11-24T12:26:58.513Z"
   },
   {
    "duration": 251,
    "start_time": "2021-11-24T12:35:16.480Z"
   },
   {
    "duration": 58,
    "start_time": "2021-11-24T12:36:31.683Z"
   },
   {
    "duration": 48,
    "start_time": "2021-11-24T12:36:46.275Z"
   },
   {
    "duration": 50,
    "start_time": "2021-11-24T12:37:21.459Z"
   },
   {
    "duration": 46,
    "start_time": "2021-11-24T12:38:34.501Z"
   },
   {
    "duration": 243,
    "start_time": "2021-11-24T12:39:22.862Z"
   },
   {
    "duration": 11,
    "start_time": "2021-11-24T13:11:28.975Z"
   },
   {
    "duration": 11,
    "start_time": "2021-11-24T13:13:10.385Z"
   },
   {
    "duration": 11,
    "start_time": "2021-11-24T13:14:17.189Z"
   },
   {
    "duration": 10,
    "start_time": "2021-11-24T13:14:23.181Z"
   },
   {
    "duration": 623,
    "start_time": "2021-11-24T13:18:39.107Z"
   },
   {
    "duration": 117,
    "start_time": "2021-11-24T13:18:39.732Z"
   },
   {
    "duration": 14,
    "start_time": "2021-11-24T13:18:39.851Z"
   },
   {
    "duration": 30,
    "start_time": "2021-11-24T13:18:39.867Z"
   },
   {
    "duration": 4,
    "start_time": "2021-11-24T13:18:39.898Z"
   },
   {
    "duration": 23,
    "start_time": "2021-11-24T13:18:39.904Z"
   },
   {
    "duration": 3,
    "start_time": "2021-11-24T13:18:39.929Z"
   },
   {
    "duration": 22,
    "start_time": "2021-11-24T13:18:39.935Z"
   },
   {
    "duration": 28,
    "start_time": "2021-11-24T13:18:39.959Z"
   },
   {
    "duration": 19,
    "start_time": "2021-11-24T13:18:39.989Z"
   },
   {
    "duration": 51,
    "start_time": "2021-11-24T13:18:40.010Z"
   },
   {
    "duration": 74,
    "start_time": "2021-11-24T13:18:40.062Z"
   },
   {
    "duration": 52,
    "start_time": "2021-11-24T13:18:40.137Z"
   },
   {
    "duration": 42,
    "start_time": "2021-11-24T13:18:40.190Z"
   },
   {
    "duration": 3,
    "start_time": "2021-11-24T13:18:40.233Z"
   },
   {
    "duration": 17,
    "start_time": "2021-11-24T13:18:40.237Z"
   },
   {
    "duration": 60,
    "start_time": "2021-11-24T13:18:40.256Z"
   },
   {
    "duration": 10,
    "start_time": "2021-11-24T13:18:40.318Z"
   },
   {
    "duration": 4,
    "start_time": "2021-11-24T13:18:40.329Z"
   },
   {
    "duration": 5,
    "start_time": "2021-11-24T13:18:40.335Z"
   },
   {
    "duration": 7,
    "start_time": "2021-11-24T13:18:40.341Z"
   },
   {
    "duration": 5,
    "start_time": "2021-11-24T13:18:40.349Z"
   },
   {
    "duration": 6,
    "start_time": "2021-11-24T13:18:40.356Z"
   },
   {
    "duration": 5,
    "start_time": "2021-11-24T13:18:40.364Z"
   },
   {
    "duration": 2,
    "start_time": "2021-11-24T13:18:40.387Z"
   },
   {
    "duration": 11,
    "start_time": "2021-11-24T13:18:40.390Z"
   },
   {
    "duration": 4,
    "start_time": "2021-11-24T13:18:40.402Z"
   },
   {
    "duration": 7,
    "start_time": "2021-11-24T13:18:40.408Z"
   },
   {
    "duration": 4,
    "start_time": "2021-11-24T13:18:40.416Z"
   },
   {
    "duration": 5,
    "start_time": "2021-11-24T13:18:40.422Z"
   },
   {
    "duration": 6,
    "start_time": "2021-11-24T13:18:40.429Z"
   },
   {
    "duration": 4,
    "start_time": "2021-11-24T13:18:40.436Z"
   },
   {
    "duration": 7,
    "start_time": "2021-11-24T13:18:40.442Z"
   },
   {
    "duration": 8,
    "start_time": "2021-11-24T13:18:40.450Z"
   },
   {
    "duration": 11,
    "start_time": "2021-11-24T13:18:40.459Z"
   },
   {
    "duration": 6,
    "start_time": "2021-11-24T13:18:40.471Z"
   },
   {
    "duration": 10,
    "start_time": "2021-11-24T13:18:40.478Z"
   },
   {
    "duration": 9,
    "start_time": "2021-11-24T13:18:40.489Z"
   },
   {
    "duration": 10,
    "start_time": "2021-11-24T13:19:28.933Z"
   },
   {
    "duration": 332,
    "start_time": "2021-11-24T13:25:55.428Z"
   },
   {
    "duration": 235,
    "start_time": "2021-11-24T13:26:15.484Z"
   },
   {
    "duration": 9,
    "start_time": "2021-11-24T13:26:21.748Z"
   },
   {
    "duration": 80,
    "start_time": "2021-11-24T13:32:53.449Z"
   },
   {
    "duration": 97,
    "start_time": "2021-11-24T13:33:05.652Z"
   },
   {
    "duration": 116,
    "start_time": "2021-11-24T13:33:52.094Z"
   },
   {
    "duration": 4,
    "start_time": "2021-11-24T13:34:00.205Z"
   },
   {
    "duration": 378,
    "start_time": "2021-11-24T13:34:55.718Z"
   },
   {
    "duration": 15,
    "start_time": "2021-11-24T13:35:08.606Z"
   },
   {
    "duration": 74,
    "start_time": "2021-11-24T13:35:42.583Z"
   },
   {
    "duration": 14,
    "start_time": "2021-11-24T13:35:52.870Z"
   },
   {
    "duration": 14,
    "start_time": "2021-11-24T13:36:02.359Z"
   },
   {
    "duration": 14,
    "start_time": "2021-11-24T13:36:14.439Z"
   },
   {
    "duration": 15,
    "start_time": "2021-11-24T13:36:23.735Z"
   },
   {
    "duration": 14,
    "start_time": "2021-11-24T13:36:33.567Z"
   },
   {
    "duration": 1037,
    "start_time": "2021-11-24T13:38:06.761Z"
   },
   {
    "duration": 275,
    "start_time": "2021-11-24T13:38:41.481Z"
   },
   {
    "duration": 728,
    "start_time": "2021-11-24T13:40:00.235Z"
   },
   {
    "duration": 4,
    "start_time": "2021-11-24T13:43:08.783Z"
   },
   {
    "duration": 4,
    "start_time": "2021-11-24T13:43:32.855Z"
   },
   {
    "duration": 5,
    "start_time": "2021-11-24T13:44:04.776Z"
   },
   {
    "duration": 8,
    "start_time": "2021-11-24T13:44:17.912Z"
   },
   {
    "duration": 11,
    "start_time": "2021-11-24T13:47:04.619Z"
   },
   {
    "duration": 19,
    "start_time": "2021-11-24T13:47:14.234Z"
   },
   {
    "duration": 10,
    "start_time": "2021-11-24T13:48:13.684Z"
   },
   {
    "duration": 9,
    "start_time": "2021-11-24T13:48:25.634Z"
   },
   {
    "duration": 16,
    "start_time": "2021-11-24T13:48:30.637Z"
   },
   {
    "duration": 9,
    "start_time": "2021-11-24T13:51:54.888Z"
   },
   {
    "duration": 4,
    "start_time": "2021-11-24T13:53:46.266Z"
   },
   {
    "duration": 3,
    "start_time": "2021-11-24T13:55:58.205Z"
   },
   {
    "duration": 14,
    "start_time": "2021-11-24T14:04:05.051Z"
   },
   {
    "duration": 13,
    "start_time": "2021-11-24T14:04:36.070Z"
   },
   {
    "duration": 13,
    "start_time": "2021-11-24T14:05:42.831Z"
   },
   {
    "duration": 13,
    "start_time": "2021-11-24T14:06:16.921Z"
   },
   {
    "duration": 573,
    "start_time": "2021-11-24T14:09:04.180Z"
   },
   {
    "duration": 125,
    "start_time": "2021-11-24T14:09:04.755Z"
   },
   {
    "duration": 16,
    "start_time": "2021-11-24T14:09:04.882Z"
   },
   {
    "duration": 36,
    "start_time": "2021-11-24T14:09:04.900Z"
   },
   {
    "duration": 5,
    "start_time": "2021-11-24T14:09:04.938Z"
   },
   {
    "duration": 20,
    "start_time": "2021-11-24T14:09:04.945Z"
   },
   {
    "duration": 4,
    "start_time": "2021-11-24T14:09:04.967Z"
   },
   {
    "duration": 36,
    "start_time": "2021-11-24T14:09:04.973Z"
   },
   {
    "duration": 17,
    "start_time": "2021-11-24T14:09:05.011Z"
   },
   {
    "duration": 20,
    "start_time": "2021-11-24T14:09:05.030Z"
   },
   {
    "duration": 78,
    "start_time": "2021-11-24T14:09:05.052Z"
   },
   {
    "duration": 66,
    "start_time": "2021-11-24T14:09:05.132Z"
   },
   {
    "duration": 44,
    "start_time": "2021-11-24T14:09:05.199Z"
   },
   {
    "duration": 51,
    "start_time": "2021-11-24T14:09:05.245Z"
   },
   {
    "duration": 3,
    "start_time": "2021-11-24T14:09:05.297Z"
   },
   {
    "duration": 21,
    "start_time": "2021-11-24T14:09:05.301Z"
   },
   {
    "duration": 45,
    "start_time": "2021-11-24T14:09:05.323Z"
   },
   {
    "duration": 10,
    "start_time": "2021-11-24T14:09:05.387Z"
   },
   {
    "duration": 9,
    "start_time": "2021-11-24T14:09:05.399Z"
   },
   {
    "duration": 3,
    "start_time": "2021-11-24T14:09:05.410Z"
   },
   {
    "duration": 19,
    "start_time": "2021-11-24T14:09:05.415Z"
   },
   {
    "duration": 11,
    "start_time": "2021-11-24T14:09:05.436Z"
   },
   {
    "duration": 11,
    "start_time": "2021-11-24T14:09:05.451Z"
   },
   {
    "duration": 13,
    "start_time": "2021-11-24T14:09:05.488Z"
   },
   {
    "duration": 14,
    "start_time": "2021-11-24T14:09:05.503Z"
   },
   {
    "duration": 13,
    "start_time": "2021-11-24T14:09:05.518Z"
   },
   {
    "duration": 11,
    "start_time": "2021-11-24T14:09:05.533Z"
   },
   {
    "duration": 19,
    "start_time": "2021-11-24T14:09:05.546Z"
   },
   {
    "duration": 16,
    "start_time": "2021-11-24T14:09:05.588Z"
   },
   {
    "duration": 887,
    "start_time": "2021-11-24T14:09:05.605Z"
   },
   {
    "duration": 433,
    "start_time": "2021-11-24T14:09:06.060Z"
   },
   {
    "duration": 423,
    "start_time": "2021-11-24T14:09:06.071Z"
   },
   {
    "duration": 422,
    "start_time": "2021-11-24T14:09:06.073Z"
   },
   {
    "duration": 421,
    "start_time": "2021-11-24T14:09:06.075Z"
   },
   {
    "duration": 421,
    "start_time": "2021-11-24T14:09:06.076Z"
   },
   {
    "duration": 420,
    "start_time": "2021-11-24T14:09:06.078Z"
   },
   {
    "duration": 419,
    "start_time": "2021-11-24T14:09:06.080Z"
   },
   {
    "duration": 3,
    "start_time": "2021-11-24T14:10:08.280Z"
   },
   {
    "duration": 15,
    "start_time": "2021-11-24T14:10:13.270Z"
   },
   {
    "duration": 12,
    "start_time": "2021-11-24T14:10:23.186Z"
   },
   {
    "duration": 17,
    "start_time": "2021-11-24T14:11:05.171Z"
   },
   {
    "duration": 12,
    "start_time": "2021-11-24T14:11:16.963Z"
   },
   {
    "duration": 319,
    "start_time": "2021-11-24T14:13:54.894Z"
   },
   {
    "duration": 9,
    "start_time": "2021-11-24T14:14:04.262Z"
   },
   {
    "duration": 265,
    "start_time": "2021-11-24T14:14:19.055Z"
   },
   {
    "duration": 8,
    "start_time": "2021-11-24T14:14:26.743Z"
   },
   {
    "duration": 5,
    "start_time": "2021-11-24T14:14:29.479Z"
   },
   {
    "duration": 7,
    "start_time": "2021-11-24T14:16:57.993Z"
   },
   {
    "duration": 4,
    "start_time": "2021-11-24T14:17:06.865Z"
   },
   {
    "duration": 302,
    "start_time": "2021-11-24T18:54:16.776Z"
   },
   {
    "duration": 265,
    "start_time": "2021-11-24T18:54:36.064Z"
   },
   {
    "duration": 578,
    "start_time": "2021-11-24T18:55:15.155Z"
   },
   {
    "duration": 129,
    "start_time": "2021-11-24T18:55:15.734Z"
   },
   {
    "duration": 15,
    "start_time": "2021-11-24T18:55:15.865Z"
   },
   {
    "duration": 40,
    "start_time": "2021-11-24T18:55:15.882Z"
   },
   {
    "duration": 7,
    "start_time": "2021-11-24T18:55:15.924Z"
   },
   {
    "duration": 32,
    "start_time": "2021-11-24T18:55:15.932Z"
   },
   {
    "duration": 14,
    "start_time": "2021-11-24T18:55:15.965Z"
   },
   {
    "duration": 33,
    "start_time": "2021-11-24T18:55:15.980Z"
   },
   {
    "duration": 38,
    "start_time": "2021-11-24T18:55:16.016Z"
   },
   {
    "duration": 21,
    "start_time": "2021-11-24T18:55:16.057Z"
   },
   {
    "duration": 70,
    "start_time": "2021-11-24T18:55:16.080Z"
   },
   {
    "duration": 55,
    "start_time": "2021-11-24T18:55:16.152Z"
   },
   {
    "duration": 59,
    "start_time": "2021-11-24T18:55:16.208Z"
   },
   {
    "duration": 54,
    "start_time": "2021-11-24T18:55:16.269Z"
   },
   {
    "duration": 3,
    "start_time": "2021-11-24T18:55:16.324Z"
   },
   {
    "duration": 32,
    "start_time": "2021-11-24T18:55:16.328Z"
   },
   {
    "duration": 60,
    "start_time": "2021-11-24T18:55:16.361Z"
   },
   {
    "duration": 10,
    "start_time": "2021-11-24T18:55:16.423Z"
   },
   {
    "duration": 17,
    "start_time": "2021-11-24T18:55:16.435Z"
   },
   {
    "duration": 11,
    "start_time": "2021-11-24T18:55:16.454Z"
   },
   {
    "duration": 28,
    "start_time": "2021-11-24T18:55:16.467Z"
   },
   {
    "duration": 14,
    "start_time": "2021-11-24T18:55:16.497Z"
   },
   {
    "duration": 24,
    "start_time": "2021-11-24T18:55:16.512Z"
   },
   {
    "duration": 12,
    "start_time": "2021-11-24T18:55:16.538Z"
   },
   {
    "duration": 15,
    "start_time": "2021-11-24T18:55:16.551Z"
   },
   {
    "duration": 15,
    "start_time": "2021-11-24T18:55:16.567Z"
   },
   {
    "duration": 14,
    "start_time": "2021-11-24T18:55:16.586Z"
   },
   {
    "duration": 27,
    "start_time": "2021-11-24T18:55:16.602Z"
   },
   {
    "duration": 25,
    "start_time": "2021-11-24T18:55:16.630Z"
   },
   {
    "duration": 2,
    "start_time": "2021-11-24T18:55:16.657Z"
   },
   {
    "duration": 27,
    "start_time": "2021-11-24T18:55:16.661Z"
   },
   {
    "duration": 13,
    "start_time": "2021-11-24T18:55:16.690Z"
   },
   {
    "duration": 30,
    "start_time": "2021-11-24T18:55:16.704Z"
   },
   {
    "duration": 18,
    "start_time": "2021-11-24T18:55:16.736Z"
   },
   {
    "duration": 19,
    "start_time": "2021-11-24T18:55:16.755Z"
   },
   {
    "duration": 18,
    "start_time": "2021-11-24T18:55:16.776Z"
   },
   {
    "duration": 16,
    "start_time": "2021-11-24T18:55:16.796Z"
   },
   {
    "duration": 10,
    "start_time": "2021-11-24T18:55:16.814Z"
   },
   {
    "duration": 50,
    "start_time": "2021-11-24T18:56:42.687Z"
   },
   {
    "duration": 48,
    "start_time": "2021-11-24T18:58:36.839Z"
   },
   {
    "duration": 6,
    "start_time": "2021-11-24T19:00:10.947Z"
   },
   {
    "duration": 8,
    "start_time": "2021-11-24T19:03:47.234Z"
   },
   {
    "duration": 10,
    "start_time": "2021-11-24T19:04:32.215Z"
   },
   {
    "duration": 22,
    "start_time": "2021-11-24T19:06:50.924Z"
   },
   {
    "duration": 50,
    "start_time": "2021-11-24T19:12:22.374Z"
   },
   {
    "duration": 129,
    "start_time": "2021-11-25T05:46:29.961Z"
   },
   {
    "duration": 165,
    "start_time": "2021-11-25T05:52:33.381Z"
   }
  ],
  "colab": {
   "collapsed_sections": [
    "E0vqbgi9ay0H",
    "VUC88oWjTJw2"
   ],
   "name": "yandex_music_project_2021.2.ipynb",
   "provenance": []
  },
  "kernelspec": {
   "display_name": "Python 3 (ipykernel)",
   "language": "python",
   "name": "python3"
  },
  "language_info": {
   "codemirror_mode": {
    "name": "ipython",
    "version": 3
   },
   "file_extension": ".py",
   "mimetype": "text/x-python",
   "name": "python",
   "nbconvert_exporter": "python",
   "pygments_lexer": "ipython3",
   "version": "3.9.7"
  },
  "toc": {
   "base_numbering": 1,
   "nav_menu": {},
   "number_sections": true,
   "sideBar": true,
   "skip_h1_title": true,
   "title_cell": "Table of Contents",
   "title_sidebar": "Contents",
   "toc_cell": false,
   "toc_position": {},
   "toc_section_display": true,
   "toc_window_display": true
  }
 },
 "nbformat": 4,
 "nbformat_minor": 1
}
