{
 "cells": [
  {
   "cell_type": "markdown",
   "id": "d602b79e",
   "metadata": {},
   "source": [
    "# SQL"
   ]
  },
  {
   "cell_type": "markdown",
   "id": "9ded60c9",
   "metadata": {},
   "source": [
    "## Описание проекта"
   ]
  },
  {
   "cell_type": "markdown",
   "id": "20ee8e06",
   "metadata": {},
   "source": [
    "*Заказчик*: компания, купившая крупный сервис для чтения книг по подписке.\n",
    "\n",
    "*Задача аналитика*: проанализировать базу данных сервиса.\n",
    "\n",
    "*Цель исследования*: сформулировать ценностное предложение для нового продукта."
   ]
  },
  {
   "cell_type": "markdown",
   "id": "2d50bdcd",
   "metadata": {},
   "source": [
    "## Описание данных"
   ]
  },
  {
   "cell_type": "markdown",
   "id": "474e4886",
   "metadata": {},
   "source": [
    "Таблица books (данные о книгах):\n",
    "\n",
    "- `book_id` — идентификатор книги;\n",
    "- `author_id` — идентификатор автора;\n",
    "- `title` — название книги;\n",
    "- `num_pages` — количество страниц;\n",
    "- `publication_date` — дата публикации книги;\n",
    "- `publisher_id` — идентификатор издателя."
   ]
  },
  {
   "cell_type": "markdown",
   "id": "dedea2ff",
   "metadata": {},
   "source": [
    "Таблица authors (данные об авторах):\n",
    "\n",
    "- `author_id` — идентификатор автора;\n",
    "- `author` — имя автора."
   ]
  },
  {
   "cell_type": "markdown",
   "id": "5e507d72",
   "metadata": {},
   "source": [
    "Таблица publishers (данные об издательствах):\n",
    "\n",
    "- `publisher_id` — идентификатор издательства;\n",
    "- `publisher` — название издательства;"
   ]
  },
  {
   "cell_type": "markdown",
   "id": "16720d96",
   "metadata": {},
   "source": [
    "Таблица ratings (данные о пользовательских оценках книг):\n",
    "\n",
    "- `rating_id` — идентификатор оценки;\n",
    "- `book_id` — идентификатор книги;\n",
    "- `username` — имя пользователя, оставившего оценку;\n",
    "- `rating` — оценка книги."
   ]
  },
  {
   "cell_type": "markdown",
   "id": "8519927d",
   "metadata": {},
   "source": [
    "Таблица reviews (данные о пользовательских обзорах книг):\n",
    "\n",
    "- `review_id` — идентификатор обзора;\n",
    "- `book_id` — идентификатор книги;\n",
    "- `username` — имя пользователя, написавшего обзор;\n",
    "- `text` — текст обзора."
   ]
  },
  {
   "cell_type": "markdown",
   "id": "34a46432",
   "metadata": {},
   "source": [
    "## План работы\n",
    "\n",
    "- исследовать таблицы (вывод первых строк)\n",
    "- решить задания по SQL\n",
    "- описать выводы по каждому заданию"
   ]
  },
  {
   "cell_type": "markdown",
   "id": "216168d9",
   "metadata": {},
   "source": [
    "## Подключение к базе"
   ]
  },
  {
   "cell_type": "code",
   "execution_count": 1,
   "id": "773ada91",
   "metadata": {},
   "outputs": [],
   "source": [
    "# импортируем библиотеки\n",
    "import pandas as pd\n",
    "from sqlalchemy import create_engine\n",
    "# устанавливаем параметры\n",
    "db_config = {'user': 'praktikum_student', # имя пользователя\n",
    "'pwd': 'Sdf4$2;d-d30pp', # пароль\n",
    "'host': 'rc1b-wcoijxj3yxfsf3fs.mdb.yandexcloud.net',\n",
    "'port': 6432, # порт подключения\n",
    "'db': 'data-analyst-final-project-db'} # название базы данных\n",
    "connection_string = 'postgresql://{}:{}@{}:{}/{}'.format(db_config['user'],\n",
    "db_config['pwd'],\n",
    "db_config['host'],\n",
    "db_config['port'],\n",
    "db_config['db'])\n",
    "# сохраняем коннектор\n",
    "engine = create_engine(connection_string, connect_args={'sslmode':'require'})"
   ]
  },
  {
   "cell_type": "markdown",
   "id": "2bdaa834",
   "metadata": {},
   "source": [
    "## Исследование таблиц"
   ]
  },
  {
   "cell_type": "code",
   "execution_count": 2,
   "id": "b07c1e03",
   "metadata": {
    "scrolled": true
   },
   "outputs": [
    {
     "name": "stdout",
     "output_type": "stream",
     "text": [
      "Таблица - \"books\"\n"
     ]
    },
    {
     "data": {
      "text/html": [
       "<div>\n",
       "<style scoped>\n",
       "    .dataframe tbody tr th:only-of-type {\n",
       "        vertical-align: middle;\n",
       "    }\n",
       "\n",
       "    .dataframe tbody tr th {\n",
       "        vertical-align: top;\n",
       "    }\n",
       "\n",
       "    .dataframe thead th {\n",
       "        text-align: right;\n",
       "    }\n",
       "</style>\n",
       "<table border=\"1\" class=\"dataframe\">\n",
       "  <thead>\n",
       "    <tr style=\"text-align: right;\">\n",
       "      <th></th>\n",
       "      <th>book_id</th>\n",
       "      <th>author_id</th>\n",
       "      <th>title</th>\n",
       "      <th>num_pages</th>\n",
       "      <th>publication_date</th>\n",
       "      <th>publisher_id</th>\n",
       "    </tr>\n",
       "  </thead>\n",
       "  <tbody>\n",
       "    <tr>\n",
       "      <th>0</th>\n",
       "      <td>1</td>\n",
       "      <td>546</td>\n",
       "      <td>'Salem's Lot</td>\n",
       "      <td>594</td>\n",
       "      <td>2005-11-01</td>\n",
       "      <td>93</td>\n",
       "    </tr>\n",
       "    <tr>\n",
       "      <th>1</th>\n",
       "      <td>2</td>\n",
       "      <td>465</td>\n",
       "      <td>1 000 Places to See Before You Die</td>\n",
       "      <td>992</td>\n",
       "      <td>2003-05-22</td>\n",
       "      <td>336</td>\n",
       "    </tr>\n",
       "    <tr>\n",
       "      <th>2</th>\n",
       "      <td>3</td>\n",
       "      <td>407</td>\n",
       "      <td>13 Little Blue Envelopes (Little Blue Envelope...</td>\n",
       "      <td>322</td>\n",
       "      <td>2010-12-21</td>\n",
       "      <td>135</td>\n",
       "    </tr>\n",
       "    <tr>\n",
       "      <th>3</th>\n",
       "      <td>4</td>\n",
       "      <td>82</td>\n",
       "      <td>1491: New Revelations of the Americas Before C...</td>\n",
       "      <td>541</td>\n",
       "      <td>2006-10-10</td>\n",
       "      <td>309</td>\n",
       "    </tr>\n",
       "    <tr>\n",
       "      <th>4</th>\n",
       "      <td>5</td>\n",
       "      <td>125</td>\n",
       "      <td>1776</td>\n",
       "      <td>386</td>\n",
       "      <td>2006-07-04</td>\n",
       "      <td>268</td>\n",
       "    </tr>\n",
       "    <tr>\n",
       "      <th>5</th>\n",
       "      <td>6</td>\n",
       "      <td>257</td>\n",
       "      <td>1st to Die (Women's Murder Club  #1)</td>\n",
       "      <td>424</td>\n",
       "      <td>2005-05-20</td>\n",
       "      <td>116</td>\n",
       "    </tr>\n",
       "    <tr>\n",
       "      <th>6</th>\n",
       "      <td>7</td>\n",
       "      <td>258</td>\n",
       "      <td>2nd Chance (Women's Murder Club  #2)</td>\n",
       "      <td>400</td>\n",
       "      <td>2005-05-20</td>\n",
       "      <td>116</td>\n",
       "    </tr>\n",
       "    <tr>\n",
       "      <th>7</th>\n",
       "      <td>8</td>\n",
       "      <td>260</td>\n",
       "      <td>4th of July (Women's Murder Club  #4)</td>\n",
       "      <td>448</td>\n",
       "      <td>2006-06-01</td>\n",
       "      <td>318</td>\n",
       "    </tr>\n",
       "    <tr>\n",
       "      <th>8</th>\n",
       "      <td>9</td>\n",
       "      <td>563</td>\n",
       "      <td>A Beautiful Mind</td>\n",
       "      <td>461</td>\n",
       "      <td>2002-02-04</td>\n",
       "      <td>104</td>\n",
       "    </tr>\n",
       "    <tr>\n",
       "      <th>9</th>\n",
       "      <td>10</td>\n",
       "      <td>445</td>\n",
       "      <td>A Bend in the Road</td>\n",
       "      <td>341</td>\n",
       "      <td>2005-04-01</td>\n",
       "      <td>116</td>\n",
       "    </tr>\n",
       "  </tbody>\n",
       "</table>\n",
       "</div>"
      ],
      "text/plain": [
       "   book_id  author_id                                              title  \\\n",
       "0        1        546                                       'Salem's Lot   \n",
       "1        2        465                 1 000 Places to See Before You Die   \n",
       "2        3        407  13 Little Blue Envelopes (Little Blue Envelope...   \n",
       "3        4         82  1491: New Revelations of the Americas Before C...   \n",
       "4        5        125                                               1776   \n",
       "5        6        257               1st to Die (Women's Murder Club  #1)   \n",
       "6        7        258               2nd Chance (Women's Murder Club  #2)   \n",
       "7        8        260              4th of July (Women's Murder Club  #4)   \n",
       "8        9        563                                   A Beautiful Mind   \n",
       "9       10        445                                 A Bend in the Road   \n",
       "\n",
       "   num_pages publication_date  publisher_id  \n",
       "0        594       2005-11-01            93  \n",
       "1        992       2003-05-22           336  \n",
       "2        322       2010-12-21           135  \n",
       "3        541       2006-10-10           309  \n",
       "4        386       2006-07-04           268  \n",
       "5        424       2005-05-20           116  \n",
       "6        400       2005-05-20           116  \n",
       "7        448       2006-06-01           318  \n",
       "8        461       2002-02-04           104  \n",
       "9        341       2005-04-01           116  "
      ]
     },
     "metadata": {},
     "output_type": "display_data"
    },
    {
     "name": "stdout",
     "output_type": "stream",
     "text": [
      "<class 'pandas.core.frame.DataFrame'>\n",
      "RangeIndex: 10 entries, 0 to 9\n",
      "Data columns (total 6 columns):\n",
      " #   Column            Non-Null Count  Dtype \n",
      "---  ------            --------------  ----- \n",
      " 0   book_id           10 non-null     int64 \n",
      " 1   author_id         10 non-null     int64 \n",
      " 2   title             10 non-null     object\n",
      " 3   num_pages         10 non-null     int64 \n",
      " 4   publication_date  10 non-null     object\n",
      " 5   publisher_id      10 non-null     int64 \n",
      "dtypes: int64(4), object(2)\n",
      "memory usage: 608.0+ bytes\n",
      "None\n",
      "------------------------------------------------------------\n",
      "Таблица - \"authors\"\n"
     ]
    },
    {
     "data": {
      "text/html": [
       "<div>\n",
       "<style scoped>\n",
       "    .dataframe tbody tr th:only-of-type {\n",
       "        vertical-align: middle;\n",
       "    }\n",
       "\n",
       "    .dataframe tbody tr th {\n",
       "        vertical-align: top;\n",
       "    }\n",
       "\n",
       "    .dataframe thead th {\n",
       "        text-align: right;\n",
       "    }\n",
       "</style>\n",
       "<table border=\"1\" class=\"dataframe\">\n",
       "  <thead>\n",
       "    <tr style=\"text-align: right;\">\n",
       "      <th></th>\n",
       "      <th>author_id</th>\n",
       "      <th>author</th>\n",
       "    </tr>\n",
       "  </thead>\n",
       "  <tbody>\n",
       "    <tr>\n",
       "      <th>0</th>\n",
       "      <td>1</td>\n",
       "      <td>A.S. Byatt</td>\n",
       "    </tr>\n",
       "    <tr>\n",
       "      <th>1</th>\n",
       "      <td>2</td>\n",
       "      <td>Aesop/Laura Harris/Laura Gibbs</td>\n",
       "    </tr>\n",
       "    <tr>\n",
       "      <th>2</th>\n",
       "      <td>3</td>\n",
       "      <td>Agatha Christie</td>\n",
       "    </tr>\n",
       "    <tr>\n",
       "      <th>3</th>\n",
       "      <td>4</td>\n",
       "      <td>Alan Brennert</td>\n",
       "    </tr>\n",
       "    <tr>\n",
       "      <th>4</th>\n",
       "      <td>5</td>\n",
       "      <td>Alan Moore/David   Lloyd</td>\n",
       "    </tr>\n",
       "    <tr>\n",
       "      <th>5</th>\n",
       "      <td>6</td>\n",
       "      <td>Alan Paton</td>\n",
       "    </tr>\n",
       "    <tr>\n",
       "      <th>6</th>\n",
       "      <td>7</td>\n",
       "      <td>Albert Camus/Justin O'Brien</td>\n",
       "    </tr>\n",
       "    <tr>\n",
       "      <th>7</th>\n",
       "      <td>8</td>\n",
       "      <td>Aldous Huxley</td>\n",
       "    </tr>\n",
       "    <tr>\n",
       "      <th>8</th>\n",
       "      <td>9</td>\n",
       "      <td>Aldous Huxley/Christopher Hitchens</td>\n",
       "    </tr>\n",
       "    <tr>\n",
       "      <th>9</th>\n",
       "      <td>10</td>\n",
       "      <td>Aleksandr Solzhenitsyn/H.T. Willetts</td>\n",
       "    </tr>\n",
       "  </tbody>\n",
       "</table>\n",
       "</div>"
      ],
      "text/plain": [
       "   author_id                                author\n",
       "0          1                            A.S. Byatt\n",
       "1          2        Aesop/Laura Harris/Laura Gibbs\n",
       "2          3                       Agatha Christie\n",
       "3          4                         Alan Brennert\n",
       "4          5              Alan Moore/David   Lloyd\n",
       "5          6                            Alan Paton\n",
       "6          7           Albert Camus/Justin O'Brien\n",
       "7          8                         Aldous Huxley\n",
       "8          9    Aldous Huxley/Christopher Hitchens\n",
       "9         10  Aleksandr Solzhenitsyn/H.T. Willetts"
      ]
     },
     "metadata": {},
     "output_type": "display_data"
    },
    {
     "name": "stdout",
     "output_type": "stream",
     "text": [
      "<class 'pandas.core.frame.DataFrame'>\n",
      "RangeIndex: 10 entries, 0 to 9\n",
      "Data columns (total 2 columns):\n",
      " #   Column     Non-Null Count  Dtype \n",
      "---  ------     --------------  ----- \n",
      " 0   author_id  10 non-null     int64 \n",
      " 1   author     10 non-null     object\n",
      "dtypes: int64(1), object(1)\n",
      "memory usage: 288.0+ bytes\n",
      "None\n",
      "------------------------------------------------------------\n",
      "Таблица - \"publishers\"\n"
     ]
    },
    {
     "data": {
      "text/html": [
       "<div>\n",
       "<style scoped>\n",
       "    .dataframe tbody tr th:only-of-type {\n",
       "        vertical-align: middle;\n",
       "    }\n",
       "\n",
       "    .dataframe tbody tr th {\n",
       "        vertical-align: top;\n",
       "    }\n",
       "\n",
       "    .dataframe thead th {\n",
       "        text-align: right;\n",
       "    }\n",
       "</style>\n",
       "<table border=\"1\" class=\"dataframe\">\n",
       "  <thead>\n",
       "    <tr style=\"text-align: right;\">\n",
       "      <th></th>\n",
       "      <th>publisher_id</th>\n",
       "      <th>publisher</th>\n",
       "    </tr>\n",
       "  </thead>\n",
       "  <tbody>\n",
       "    <tr>\n",
       "      <th>0</th>\n",
       "      <td>1</td>\n",
       "      <td>Ace</td>\n",
       "    </tr>\n",
       "    <tr>\n",
       "      <th>1</th>\n",
       "      <td>2</td>\n",
       "      <td>Ace Book</td>\n",
       "    </tr>\n",
       "    <tr>\n",
       "      <th>2</th>\n",
       "      <td>3</td>\n",
       "      <td>Ace Books</td>\n",
       "    </tr>\n",
       "    <tr>\n",
       "      <th>3</th>\n",
       "      <td>4</td>\n",
       "      <td>Ace Hardcover</td>\n",
       "    </tr>\n",
       "    <tr>\n",
       "      <th>4</th>\n",
       "      <td>5</td>\n",
       "      <td>Addison Wesley Publishing Company</td>\n",
       "    </tr>\n",
       "    <tr>\n",
       "      <th>5</th>\n",
       "      <td>6</td>\n",
       "      <td>Aladdin</td>\n",
       "    </tr>\n",
       "    <tr>\n",
       "      <th>6</th>\n",
       "      <td>7</td>\n",
       "      <td>Aladdin Paperbacks</td>\n",
       "    </tr>\n",
       "    <tr>\n",
       "      <th>7</th>\n",
       "      <td>8</td>\n",
       "      <td>Albin Michel</td>\n",
       "    </tr>\n",
       "    <tr>\n",
       "      <th>8</th>\n",
       "      <td>9</td>\n",
       "      <td>Alfred A. Knopf</td>\n",
       "    </tr>\n",
       "    <tr>\n",
       "      <th>9</th>\n",
       "      <td>10</td>\n",
       "      <td>Alfred A. Knopf Books for Young Readers</td>\n",
       "    </tr>\n",
       "  </tbody>\n",
       "</table>\n",
       "</div>"
      ],
      "text/plain": [
       "   publisher_id                                publisher\n",
       "0             1                                      Ace\n",
       "1             2                                 Ace Book\n",
       "2             3                                Ace Books\n",
       "3             4                            Ace Hardcover\n",
       "4             5        Addison Wesley Publishing Company\n",
       "5             6                                  Aladdin\n",
       "6             7                       Aladdin Paperbacks\n",
       "7             8                             Albin Michel\n",
       "8             9                          Alfred A. Knopf\n",
       "9            10  Alfred A. Knopf Books for Young Readers"
      ]
     },
     "metadata": {},
     "output_type": "display_data"
    },
    {
     "name": "stdout",
     "output_type": "stream",
     "text": [
      "<class 'pandas.core.frame.DataFrame'>\n",
      "RangeIndex: 10 entries, 0 to 9\n",
      "Data columns (total 2 columns):\n",
      " #   Column        Non-Null Count  Dtype \n",
      "---  ------        --------------  ----- \n",
      " 0   publisher_id  10 non-null     int64 \n",
      " 1   publisher     10 non-null     object\n",
      "dtypes: int64(1), object(1)\n",
      "memory usage: 288.0+ bytes\n",
      "None\n",
      "------------------------------------------------------------\n",
      "Таблица - \"ratings\"\n"
     ]
    },
    {
     "data": {
      "text/html": [
       "<div>\n",
       "<style scoped>\n",
       "    .dataframe tbody tr th:only-of-type {\n",
       "        vertical-align: middle;\n",
       "    }\n",
       "\n",
       "    .dataframe tbody tr th {\n",
       "        vertical-align: top;\n",
       "    }\n",
       "\n",
       "    .dataframe thead th {\n",
       "        text-align: right;\n",
       "    }\n",
       "</style>\n",
       "<table border=\"1\" class=\"dataframe\">\n",
       "  <thead>\n",
       "    <tr style=\"text-align: right;\">\n",
       "      <th></th>\n",
       "      <th>rating_id</th>\n",
       "      <th>book_id</th>\n",
       "      <th>username</th>\n",
       "      <th>rating</th>\n",
       "    </tr>\n",
       "  </thead>\n",
       "  <tbody>\n",
       "    <tr>\n",
       "      <th>0</th>\n",
       "      <td>1</td>\n",
       "      <td>1</td>\n",
       "      <td>ryanfranco</td>\n",
       "      <td>4</td>\n",
       "    </tr>\n",
       "    <tr>\n",
       "      <th>1</th>\n",
       "      <td>2</td>\n",
       "      <td>1</td>\n",
       "      <td>grantpatricia</td>\n",
       "      <td>2</td>\n",
       "    </tr>\n",
       "    <tr>\n",
       "      <th>2</th>\n",
       "      <td>3</td>\n",
       "      <td>1</td>\n",
       "      <td>brandtandrea</td>\n",
       "      <td>5</td>\n",
       "    </tr>\n",
       "    <tr>\n",
       "      <th>3</th>\n",
       "      <td>4</td>\n",
       "      <td>2</td>\n",
       "      <td>lorichen</td>\n",
       "      <td>3</td>\n",
       "    </tr>\n",
       "    <tr>\n",
       "      <th>4</th>\n",
       "      <td>5</td>\n",
       "      <td>2</td>\n",
       "      <td>mariokeller</td>\n",
       "      <td>2</td>\n",
       "    </tr>\n",
       "    <tr>\n",
       "      <th>5</th>\n",
       "      <td>6</td>\n",
       "      <td>3</td>\n",
       "      <td>johnsonamanda</td>\n",
       "      <td>4</td>\n",
       "    </tr>\n",
       "    <tr>\n",
       "      <th>6</th>\n",
       "      <td>7</td>\n",
       "      <td>3</td>\n",
       "      <td>scotttamara</td>\n",
       "      <td>5</td>\n",
       "    </tr>\n",
       "    <tr>\n",
       "      <th>7</th>\n",
       "      <td>8</td>\n",
       "      <td>3</td>\n",
       "      <td>lesliegibbs</td>\n",
       "      <td>5</td>\n",
       "    </tr>\n",
       "    <tr>\n",
       "      <th>8</th>\n",
       "      <td>9</td>\n",
       "      <td>4</td>\n",
       "      <td>abbottjames</td>\n",
       "      <td>5</td>\n",
       "    </tr>\n",
       "    <tr>\n",
       "      <th>9</th>\n",
       "      <td>10</td>\n",
       "      <td>4</td>\n",
       "      <td>valenciaanne</td>\n",
       "      <td>4</td>\n",
       "    </tr>\n",
       "  </tbody>\n",
       "</table>\n",
       "</div>"
      ],
      "text/plain": [
       "   rating_id  book_id       username  rating\n",
       "0          1        1     ryanfranco       4\n",
       "1          2        1  grantpatricia       2\n",
       "2          3        1   brandtandrea       5\n",
       "3          4        2       lorichen       3\n",
       "4          5        2    mariokeller       2\n",
       "5          6        3  johnsonamanda       4\n",
       "6          7        3    scotttamara       5\n",
       "7          8        3    lesliegibbs       5\n",
       "8          9        4    abbottjames       5\n",
       "9         10        4   valenciaanne       4"
      ]
     },
     "metadata": {},
     "output_type": "display_data"
    },
    {
     "name": "stdout",
     "output_type": "stream",
     "text": [
      "<class 'pandas.core.frame.DataFrame'>\n",
      "RangeIndex: 10 entries, 0 to 9\n",
      "Data columns (total 4 columns):\n",
      " #   Column     Non-Null Count  Dtype \n",
      "---  ------     --------------  ----- \n",
      " 0   rating_id  10 non-null     int64 \n",
      " 1   book_id    10 non-null     int64 \n",
      " 2   username   10 non-null     object\n",
      " 3   rating     10 non-null     int64 \n",
      "dtypes: int64(3), object(1)\n",
      "memory usage: 448.0+ bytes\n",
      "None\n",
      "------------------------------------------------------------\n",
      "Таблица - \"reviews\"\n"
     ]
    },
    {
     "data": {
      "text/html": [
       "<div>\n",
       "<style scoped>\n",
       "    .dataframe tbody tr th:only-of-type {\n",
       "        vertical-align: middle;\n",
       "    }\n",
       "\n",
       "    .dataframe tbody tr th {\n",
       "        vertical-align: top;\n",
       "    }\n",
       "\n",
       "    .dataframe thead th {\n",
       "        text-align: right;\n",
       "    }\n",
       "</style>\n",
       "<table border=\"1\" class=\"dataframe\">\n",
       "  <thead>\n",
       "    <tr style=\"text-align: right;\">\n",
       "      <th></th>\n",
       "      <th>review_id</th>\n",
       "      <th>book_id</th>\n",
       "      <th>username</th>\n",
       "      <th>text</th>\n",
       "    </tr>\n",
       "  </thead>\n",
       "  <tbody>\n",
       "    <tr>\n",
       "      <th>0</th>\n",
       "      <td>1</td>\n",
       "      <td>1</td>\n",
       "      <td>brandtandrea</td>\n",
       "      <td>Mention society tell send professor analysis. ...</td>\n",
       "    </tr>\n",
       "    <tr>\n",
       "      <th>1</th>\n",
       "      <td>2</td>\n",
       "      <td>1</td>\n",
       "      <td>ryanfranco</td>\n",
       "      <td>Foot glass pretty audience hit themselves. Amo...</td>\n",
       "    </tr>\n",
       "    <tr>\n",
       "      <th>2</th>\n",
       "      <td>3</td>\n",
       "      <td>2</td>\n",
       "      <td>lorichen</td>\n",
       "      <td>Listen treat keep worry. Miss husband tax but ...</td>\n",
       "    </tr>\n",
       "    <tr>\n",
       "      <th>3</th>\n",
       "      <td>4</td>\n",
       "      <td>3</td>\n",
       "      <td>johnsonamanda</td>\n",
       "      <td>Finally month interesting blue could nature cu...</td>\n",
       "    </tr>\n",
       "    <tr>\n",
       "      <th>4</th>\n",
       "      <td>5</td>\n",
       "      <td>3</td>\n",
       "      <td>scotttamara</td>\n",
       "      <td>Nation purpose heavy give wait song will. List...</td>\n",
       "    </tr>\n",
       "    <tr>\n",
       "      <th>5</th>\n",
       "      <td>6</td>\n",
       "      <td>3</td>\n",
       "      <td>lesliegibbs</td>\n",
       "      <td>Analysis no several cause international.</td>\n",
       "    </tr>\n",
       "    <tr>\n",
       "      <th>6</th>\n",
       "      <td>7</td>\n",
       "      <td>4</td>\n",
       "      <td>valenciaanne</td>\n",
       "      <td>One there cost another. Say type save. With pe...</td>\n",
       "    </tr>\n",
       "    <tr>\n",
       "      <th>7</th>\n",
       "      <td>8</td>\n",
       "      <td>4</td>\n",
       "      <td>abbottjames</td>\n",
       "      <td>Within enough mother. There at system full rec...</td>\n",
       "    </tr>\n",
       "    <tr>\n",
       "      <th>8</th>\n",
       "      <td>9</td>\n",
       "      <td>5</td>\n",
       "      <td>npowers</td>\n",
       "      <td>Thank now focus realize economy focus fly. Ite...</td>\n",
       "    </tr>\n",
       "    <tr>\n",
       "      <th>9</th>\n",
       "      <td>10</td>\n",
       "      <td>5</td>\n",
       "      <td>staylor</td>\n",
       "      <td>Game push lot reduce where remember. Including...</td>\n",
       "    </tr>\n",
       "  </tbody>\n",
       "</table>\n",
       "</div>"
      ],
      "text/plain": [
       "   review_id  book_id       username  \\\n",
       "0          1        1   brandtandrea   \n",
       "1          2        1     ryanfranco   \n",
       "2          3        2       lorichen   \n",
       "3          4        3  johnsonamanda   \n",
       "4          5        3    scotttamara   \n",
       "5          6        3    lesliegibbs   \n",
       "6          7        4   valenciaanne   \n",
       "7          8        4    abbottjames   \n",
       "8          9        5        npowers   \n",
       "9         10        5        staylor   \n",
       "\n",
       "                                                text  \n",
       "0  Mention society tell send professor analysis. ...  \n",
       "1  Foot glass pretty audience hit themselves. Amo...  \n",
       "2  Listen treat keep worry. Miss husband tax but ...  \n",
       "3  Finally month interesting blue could nature cu...  \n",
       "4  Nation purpose heavy give wait song will. List...  \n",
       "5           Analysis no several cause international.  \n",
       "6  One there cost another. Say type save. With pe...  \n",
       "7  Within enough mother. There at system full rec...  \n",
       "8  Thank now focus realize economy focus fly. Ite...  \n",
       "9  Game push lot reduce where remember. Including...  "
      ]
     },
     "metadata": {},
     "output_type": "display_data"
    },
    {
     "name": "stdout",
     "output_type": "stream",
     "text": [
      "<class 'pandas.core.frame.DataFrame'>\n",
      "RangeIndex: 10 entries, 0 to 9\n",
      "Data columns (total 4 columns):\n",
      " #   Column     Non-Null Count  Dtype \n",
      "---  ------     --------------  ----- \n",
      " 0   review_id  10 non-null     int64 \n",
      " 1   book_id    10 non-null     int64 \n",
      " 2   username   10 non-null     object\n",
      " 3   text       10 non-null     object\n",
      "dtypes: int64(2), object(2)\n",
      "memory usage: 448.0+ bytes\n",
      "None\n",
      "------------------------------------------------------------\n"
     ]
    }
   ],
   "source": [
    "for table in ['books', 'authors', 'publishers', 'ratings', 'reviews']:\n",
    "    query = ''' SELECT * FROM {}\n",
    "    LIMIT 10;\n",
    "    '''.format(table) \n",
    "\n",
    "    request = pd.io.sql.read_sql(query, con = engine) \n",
    "    print(f'Таблица - \"{table}\"')\n",
    "    display(request)\n",
    "    print(request.info())\n",
    "    print('------------------------------------------------------------')"
   ]
  },
  {
   "cell_type": "markdown",
   "id": "f2134e45",
   "metadata": {},
   "source": [
    "Пропусков в данных нет, типы соответствуют, кроме колонки publication_date в таблице books. Заменим на datetime64:"
   ]
  },
  {
   "cell_type": "code",
   "execution_count": 3,
   "id": "25a3c389",
   "metadata": {},
   "outputs": [
    {
     "name": "stdout",
     "output_type": "stream",
     "text": [
      "<class 'pandas.core.frame.DataFrame'>\n",
      "RangeIndex: 1000 entries, 0 to 999\n",
      "Data columns (total 6 columns):\n",
      " #   Column            Non-Null Count  Dtype         \n",
      "---  ------            --------------  -----         \n",
      " 0   book_id           1000 non-null   int64         \n",
      " 1   author_id         1000 non-null   int64         \n",
      " 2   title             1000 non-null   object        \n",
      " 3   num_pages         1000 non-null   int64         \n",
      " 4   publication_date  1000 non-null   datetime64[ns]\n",
      " 5   publisher_id      1000 non-null   int64         \n",
      "dtypes: datetime64[ns](1), int64(4), object(1)\n",
      "memory usage: 47.0+ KB\n"
     ]
    }
   ],
   "source": [
    "query_books = ''' SELECT * FROM books; ''' \n",
    "books = pd.io.sql.read_sql(query_books, con = engine)\n",
    "books['publication_date'] = pd.to_datetime(books['publication_date'], format='%Y.%m.%dT%H:%M:%S')\n",
    "books.info()"
   ]
  },
  {
   "cell_type": "markdown",
   "id": "b139459b",
   "metadata": {},
   "source": [
    "**Задание 1.**"
   ]
  },
  {
   "cell_type": "markdown",
   "id": "8155b87f",
   "metadata": {},
   "source": [
    "Посчитайте, сколько книг вышло после 1 января 2000 года."
   ]
  },
  {
   "cell_type": "code",
   "execution_count": 4,
   "id": "833474cb",
   "metadata": {},
   "outputs": [
    {
     "name": "stdout",
     "output_type": "stream",
     "text": [
      "После 1 января 2000 года вышло 819 книг\n"
     ]
    }
   ],
   "source": [
    "query = ''' \n",
    "SELECT COUNT(*) \n",
    "FROM books\n",
    "WHERE publication_date > '2000-1-1'; \n",
    "''' \n",
    "request = pd.io.sql.read_sql(query, con = engine)\n",
    "\n",
    "print(f'После 1 января 2000 года вышло {request.iloc[0,0]} книг')"
   ]
  },
  {
   "cell_type": "markdown",
   "id": "b9b5496f",
   "metadata": {},
   "source": [
    "Почти все книги в сервисе вышли за последние 20 лет. Сервис может заинтересовать любителей современной литературы. "
   ]
  },
  {
   "cell_type": "markdown",
   "id": "2ba97248",
   "metadata": {},
   "source": [
    "**Задание 2**"
   ]
  },
  {
   "cell_type": "markdown",
   "id": "c001a079",
   "metadata": {},
   "source": [
    "Для каждой книги посчитайте количество обзоров и среднюю оценку."
   ]
  },
  {
   "cell_type": "code",
   "execution_count": 5,
   "id": "920f3a40",
   "metadata": {
    "scrolled": true
   },
   "outputs": [
    {
     "data": {
      "text/html": [
       "<div>\n",
       "<style scoped>\n",
       "    .dataframe tbody tr th:only-of-type {\n",
       "        vertical-align: middle;\n",
       "    }\n",
       "\n",
       "    .dataframe tbody tr th {\n",
       "        vertical-align: top;\n",
       "    }\n",
       "\n",
       "    .dataframe thead th {\n",
       "        text-align: right;\n",
       "    }\n",
       "</style>\n",
       "<table border=\"1\" class=\"dataframe\">\n",
       "  <thead>\n",
       "    <tr style=\"text-align: right;\">\n",
       "      <th></th>\n",
       "      <th>title</th>\n",
       "      <th>id</th>\n",
       "      <th>reviews</th>\n",
       "      <th>avg_rating</th>\n",
       "    </tr>\n",
       "  </thead>\n",
       "  <tbody>\n",
       "    <tr>\n",
       "      <th>0</th>\n",
       "      <td>The Body in the Library (Miss Marple  #3)</td>\n",
       "      <td>652</td>\n",
       "      <td>2.0</td>\n",
       "      <td>4.500000</td>\n",
       "    </tr>\n",
       "    <tr>\n",
       "      <th>1</th>\n",
       "      <td>Galápagos</td>\n",
       "      <td>273</td>\n",
       "      <td>2.0</td>\n",
       "      <td>4.500000</td>\n",
       "    </tr>\n",
       "    <tr>\n",
       "      <th>2</th>\n",
       "      <td>A Tree Grows in Brooklyn</td>\n",
       "      <td>51</td>\n",
       "      <td>5.0</td>\n",
       "      <td>4.250000</td>\n",
       "    </tr>\n",
       "    <tr>\n",
       "      <th>3</th>\n",
       "      <td>Undaunted Courage: The Pioneering First Missio...</td>\n",
       "      <td>951</td>\n",
       "      <td>2.0</td>\n",
       "      <td>4.000000</td>\n",
       "    </tr>\n",
       "    <tr>\n",
       "      <th>4</th>\n",
       "      <td>The Prophet</td>\n",
       "      <td>839</td>\n",
       "      <td>4.0</td>\n",
       "      <td>4.285714</td>\n",
       "    </tr>\n",
       "    <tr>\n",
       "      <th>...</th>\n",
       "      <td>...</td>\n",
       "      <td>...</td>\n",
       "      <td>...</td>\n",
       "      <td>...</td>\n",
       "    </tr>\n",
       "    <tr>\n",
       "      <th>995</th>\n",
       "      <td>Alice in Wonderland</td>\n",
       "      <td>64</td>\n",
       "      <td>4.0</td>\n",
       "      <td>4.230769</td>\n",
       "    </tr>\n",
       "    <tr>\n",
       "      <th>996</th>\n",
       "      <td>A Woman of Substance (Emma Harte Saga #1)</td>\n",
       "      <td>55</td>\n",
       "      <td>2.0</td>\n",
       "      <td>5.000000</td>\n",
       "    </tr>\n",
       "    <tr>\n",
       "      <th>997</th>\n",
       "      <td>Christine</td>\n",
       "      <td>148</td>\n",
       "      <td>3.0</td>\n",
       "      <td>3.428571</td>\n",
       "    </tr>\n",
       "    <tr>\n",
       "      <th>998</th>\n",
       "      <td>The Magicians' Guild (Black Magician Trilogy  #1)</td>\n",
       "      <td>790</td>\n",
       "      <td>2.0</td>\n",
       "      <td>3.500000</td>\n",
       "    </tr>\n",
       "    <tr>\n",
       "      <th>999</th>\n",
       "      <td>The Plot Against America</td>\n",
       "      <td>828</td>\n",
       "      <td>2.0</td>\n",
       "      <td>3.000000</td>\n",
       "    </tr>\n",
       "  </tbody>\n",
       "</table>\n",
       "<p>1000 rows × 4 columns</p>\n",
       "</div>"
      ],
      "text/plain": [
       "                                                 title   id  reviews  \\\n",
       "0            The Body in the Library (Miss Marple  #3)  652      2.0   \n",
       "1                                            Galápagos  273      2.0   \n",
       "2                             A Tree Grows in Brooklyn   51      5.0   \n",
       "3    Undaunted Courage: The Pioneering First Missio...  951      2.0   \n",
       "4                                          The Prophet  839      4.0   \n",
       "..                                                 ...  ...      ...   \n",
       "995                                Alice in Wonderland   64      4.0   \n",
       "996          A Woman of Substance (Emma Harte Saga #1)   55      2.0   \n",
       "997                                          Christine  148      3.0   \n",
       "998  The Magicians' Guild (Black Magician Trilogy  #1)  790      2.0   \n",
       "999                           The Plot Against America  828      2.0   \n",
       "\n",
       "     avg_rating  \n",
       "0      4.500000  \n",
       "1      4.500000  \n",
       "2      4.250000  \n",
       "3      4.000000  \n",
       "4      4.285714  \n",
       "..          ...  \n",
       "995    4.230769  \n",
       "996    5.000000  \n",
       "997    3.428571  \n",
       "998    3.500000  \n",
       "999    3.000000  \n",
       "\n",
       "[1000 rows x 4 columns]"
      ]
     },
     "execution_count": 5,
     "metadata": {},
     "output_type": "execute_result"
    }
   ],
   "source": [
    "query = ''' \n",
    "SELECT \n",
    "    books.title AS title,\n",
    "    books.book_id AS id,\n",
    "    SubRev.n_rev AS reviews,\n",
    "    SubRat.avg_rat AS avg_rating\n",
    "FROM books LEFT JOIN \n",
    "                (SELECT\n",
    "                    book_id,\n",
    "                    AVG(rating) AS avg_rat\n",
    "                FROM\n",
    "                    ratings\n",
    "                GROUP BY \n",
    "                    book_id\n",
    "                ) AS SubRat ON SubRat.book_id = books.book_id\n",
    "        LEFT JOIN\n",
    "                (SELECT \n",
    "                    book_id,\n",
    "                    COUNT(review_id) AS n_rev\n",
    "                FROM\n",
    "                    reviews\n",
    "                GROUP BY \n",
    "                    book_id\n",
    "                ) AS SubRev ON SubRev.book_id = books.book_id; \n",
    "''' \n",
    "request = pd.io.sql.read_sql(query, con = engine)\n",
    "request"
   ]
  },
  {
   "cell_type": "markdown",
   "id": "6dcdbe83",
   "metadata": {},
   "source": [
    "Посчитали количество обзоров и среднюю оценку."
   ]
  },
  {
   "cell_type": "markdown",
   "id": "a0f4e0a3",
   "metadata": {},
   "source": [
    "**Задание 3**"
   ]
  },
  {
   "cell_type": "markdown",
   "id": "dc932574",
   "metadata": {},
   "source": [
    "Определите издательство, которое выпустило наибольшее число книг толще 50 страниц — так вы исключите из анализа брошюры."
   ]
  },
  {
   "cell_type": "code",
   "execution_count": 7,
   "id": "bb7ffc9a",
   "metadata": {},
   "outputs": [
    {
     "data": {
      "text/html": [
       "<div>\n",
       "<style scoped>\n",
       "    .dataframe tbody tr th:only-of-type {\n",
       "        vertical-align: middle;\n",
       "    }\n",
       "\n",
       "    .dataframe tbody tr th {\n",
       "        vertical-align: top;\n",
       "    }\n",
       "\n",
       "    .dataframe thead th {\n",
       "        text-align: right;\n",
       "    }\n",
       "</style>\n",
       "<table border=\"1\" class=\"dataframe\">\n",
       "  <thead>\n",
       "    <tr style=\"text-align: right;\">\n",
       "      <th></th>\n",
       "      <th>publisher_id</th>\n",
       "      <th>publisher</th>\n",
       "      <th>n_books</th>\n",
       "    </tr>\n",
       "  </thead>\n",
       "  <tbody>\n",
       "    <tr>\n",
       "      <th>0</th>\n",
       "      <td>212</td>\n",
       "      <td>Penguin Books</td>\n",
       "      <td>42</td>\n",
       "    </tr>\n",
       "  </tbody>\n",
       "</table>\n",
       "</div>"
      ],
      "text/plain": [
       "   publisher_id      publisher  n_books\n",
       "0           212  Penguin Books       42"
      ]
     },
     "execution_count": 7,
     "metadata": {},
     "output_type": "execute_result"
    }
   ],
   "source": [
    "query ='''\n",
    "SELECT\n",
    "    books.publisher_id,\n",
    "    publishers.publisher,\n",
    "    COUNT(books.book_id) AS n_books\n",
    "FROM \n",
    "    books\n",
    "INNER JOIN publishers ON books.publisher_id = publishers.publisher_id\n",
    "WHERE\n",
    "    books.num_pages > 50\n",
    "GROUP BY\n",
    "    books.publisher_id,\n",
    "    publishers.publisher\n",
    "ORDER BY\n",
    "    n_books DESC\n",
    "LIMIT 1;\n",
    "'''\n",
    "request = pd.io.sql.read_sql(query, con = engine)\n",
    "request"
   ]
  },
  {
   "cell_type": "markdown",
   "id": "ddb0e4ae",
   "metadata": {},
   "source": [
    "Издательство, которое выпустило наибольшее число книг толще 50 страниц - Penguin Books."
   ]
  },
  {
   "cell_type": "markdown",
   "id": "2c85b7af",
   "metadata": {},
   "source": [
    "**Задание 4**"
   ]
  },
  {
   "cell_type": "markdown",
   "id": "d7d7dd46",
   "metadata": {},
   "source": [
    "Определите автора с самой высокой средней оценкой книг — учитывайте только книги с 50 и более оценками."
   ]
  },
  {
   "cell_type": "code",
   "execution_count": 8,
   "id": "a3b710c0",
   "metadata": {},
   "outputs": [
    {
     "data": {
      "text/html": [
       "<div>\n",
       "<style scoped>\n",
       "    .dataframe tbody tr th:only-of-type {\n",
       "        vertical-align: middle;\n",
       "    }\n",
       "\n",
       "    .dataframe tbody tr th {\n",
       "        vertical-align: top;\n",
       "    }\n",
       "\n",
       "    .dataframe thead th {\n",
       "        text-align: right;\n",
       "    }\n",
       "</style>\n",
       "<table border=\"1\" class=\"dataframe\">\n",
       "  <thead>\n",
       "    <tr style=\"text-align: right;\">\n",
       "      <th></th>\n",
       "      <th>author</th>\n",
       "      <th>avg_avg_rating</th>\n",
       "    </tr>\n",
       "  </thead>\n",
       "  <tbody>\n",
       "    <tr>\n",
       "      <th>0</th>\n",
       "      <td>J.K. Rowling/Mary GrandPré</td>\n",
       "      <td>4.283844</td>\n",
       "    </tr>\n",
       "  </tbody>\n",
       "</table>\n",
       "</div>"
      ],
      "text/plain": [
       "                       author  avg_avg_rating\n",
       "0  J.K. Rowling/Mary GrandPré        4.283844"
      ]
     },
     "execution_count": 8,
     "metadata": {},
     "output_type": "execute_result"
    }
   ],
   "source": [
    "query = ''' \n",
    "SELECT \n",
    "    aut_avg.author,\n",
    "    AVG(aut_avg.avg_rating) AS avg_avg_rating\n",
    "FROM\n",
    "        (SELECT \n",
    "            authors.author AS author\n",
    "           , AVG(ratings.rating) AS avg_rating\n",
    "        FROM books\n",
    "            LEFT JOIN authors ON books.author_id = authors.author_id\n",
    "            LEFT JOIN ratings ON books.book_id = ratings.book_id\n",
    "        GROUP BY \n",
    "             books.book_id\n",
    "             , authors.author_id\n",
    "        HAVING\n",
    "            COUNT(ratings.rating_id) >=50 \n",
    "        ) AS aut_avg \n",
    "GROUP BY    \n",
    "    aut_avg.author\n",
    "ORDER BY\n",
    "    avg_avg_rating DESC\n",
    "LIMIT 1; \n",
    "''' \n",
    "request = pd.io.sql.read_sql(query, con = engine)\n",
    "request"
   ]
  },
  {
   "cell_type": "markdown",
   "id": "769820f7",
   "metadata": {},
   "source": [
    "Автор с самой высокой средней оценкой книг - Джоан Роулинг. Заслуженная оценка!"
   ]
  },
  {
   "cell_type": "markdown",
   "id": "dc588b33",
   "metadata": {},
   "source": [
    "**Задание 5**"
   ]
  },
  {
   "cell_type": "markdown",
   "id": "730804de",
   "metadata": {},
   "source": [
    "Посчитайте среднее количество обзоров от пользователей, которые поставили больше 50 оценок."
   ]
  },
  {
   "cell_type": "code",
   "execution_count": 10,
   "id": "17b7305b",
   "metadata": {},
   "outputs": [
    {
     "data": {
      "text/html": [
       "<div>\n",
       "<style scoped>\n",
       "    .dataframe tbody tr th:only-of-type {\n",
       "        vertical-align: middle;\n",
       "    }\n",
       "\n",
       "    .dataframe tbody tr th {\n",
       "        vertical-align: top;\n",
       "    }\n",
       "\n",
       "    .dataframe thead th {\n",
       "        text-align: right;\n",
       "    }\n",
       "</style>\n",
       "<table border=\"1\" class=\"dataframe\">\n",
       "  <thead>\n",
       "    <tr style=\"text-align: right;\">\n",
       "      <th></th>\n",
       "      <th>result</th>\n",
       "    </tr>\n",
       "  </thead>\n",
       "  <tbody>\n",
       "    <tr>\n",
       "      <th>0</th>\n",
       "      <td>24.3</td>\n",
       "    </tr>\n",
       "  </tbody>\n",
       "</table>\n",
       "</div>"
      ],
      "text/plain": [
       "   result\n",
       "0    24.3"
      ]
     },
     "execution_count": 10,
     "metadata": {},
     "output_type": "execute_result"
    }
   ],
   "source": [
    "query = ''' \n",
    "SELECT\n",
    "    ROUND(COUNT(review_id) / COUNT(DISTINCT username) :: decimal,1) AS result\n",
    "FROM\n",
    "    reviews\n",
    "WHERE \n",
    "    username IN \n",
    "    (SELECT \n",
    "         username\n",
    "    FROM \n",
    "        ratings\n",
    "    GROUP BY \n",
    "        username\n",
    "    HAVING COUNT(rating_id) > 50);      \n",
    "''' \n",
    "request = pd.io.sql.read_sql(query, con = engine)\n",
    "request"
   ]
  },
  {
   "cell_type": "markdown",
   "id": "e0d20067",
   "metadata": {},
   "source": [
    "Cреднее количество обзоров от пользователей, которые поставили больше 50 оценок - 24,3."
   ]
  },
  {
   "cell_type": "markdown",
   "id": "25568bba",
   "metadata": {},
   "source": [
    "**Выводы**"
   ]
  },
  {
   "cell_type": "markdown",
   "id": "cfd57a81",
   "metadata": {},
   "source": [
    "Почти все книги в сервисе были опубликованы начиная с 2000 года. Больше всего книг толще 50 страниц выпущены издательством Penguin Books. Cамую высокую оценку книг получила популярная писательница Дж.К.Роулинг. Активные пользователи в среднем делают 24 обзора на книги. "
   ]
  }
 ],
 "metadata": {
  "ExecuteTimeLog": [
   {
    "duration": 9710,
    "start_time": "2022-07-14T20:22:51.980Z"
   },
   {
    "duration": 657,
    "start_time": "2022-07-14T20:23:01.692Z"
   },
   {
    "duration": 81,
    "start_time": "2022-07-14T20:23:02.350Z"
   },
   {
    "duration": 72,
    "start_time": "2022-07-14T20:23:02.434Z"
   },
   {
    "duration": 96,
    "start_time": "2022-07-14T20:23:02.508Z"
   },
   {
    "duration": 78,
    "start_time": "2022-07-14T20:23:02.605Z"
   },
   {
    "duration": 87,
    "start_time": "2022-07-14T20:23:02.685Z"
   },
   {
    "duration": 78,
    "start_time": "2022-07-14T20:23:02.773Z"
   },
   {
    "duration": 105,
    "start_time": "2022-07-14T20:26:05.797Z"
   },
   {
    "duration": 88,
    "start_time": "2022-07-14T20:26:20.681Z"
   },
   {
    "duration": 45,
    "start_time": "2022-07-15T06:22:29.384Z"
   },
   {
    "duration": 9895,
    "start_time": "2022-07-15T06:22:34.626Z"
   },
   {
    "duration": 123,
    "start_time": "2022-07-15T06:22:44.523Z"
   },
   {
    "duration": 33,
    "start_time": "2022-07-15T06:22:44.648Z"
   },
   {
    "duration": 12,
    "start_time": "2022-07-15T06:22:44.683Z"
   },
   {
    "duration": 38,
    "start_time": "2022-07-15T06:22:44.697Z"
   },
   {
    "duration": 12,
    "start_time": "2022-07-15T06:22:44.737Z"
   },
   {
    "duration": 24,
    "start_time": "2022-07-15T06:22:44.751Z"
   },
   {
    "duration": 11,
    "start_time": "2022-07-15T06:22:44.777Z"
   },
   {
    "duration": 4,
    "start_time": "2022-07-15T06:22:50.066Z"
   },
   {
    "duration": 91,
    "start_time": "2022-07-15T06:23:02.057Z"
   },
   {
    "duration": 59,
    "start_time": "2022-07-15T06:23:30.682Z"
   },
   {
    "duration": 98,
    "start_time": "2022-07-15T06:23:44.194Z"
   },
   {
    "duration": 75,
    "start_time": "2022-07-15T06:24:28.946Z"
   },
   {
    "duration": 60,
    "start_time": "2022-07-15T06:24:40.548Z"
   },
   {
    "duration": 10,
    "start_time": "2022-07-15T06:25:03.092Z"
   },
   {
    "duration": 10920,
    "start_time": "2022-07-15T06:25:19.584Z"
   },
   {
    "duration": 109,
    "start_time": "2022-07-15T06:25:30.506Z"
   },
   {
    "duration": 20,
    "start_time": "2022-07-15T06:25:30.617Z"
   },
   {
    "duration": 9,
    "start_time": "2022-07-15T06:25:30.639Z"
   },
   {
    "duration": 42,
    "start_time": "2022-07-15T06:25:30.649Z"
   },
   {
    "duration": 13,
    "start_time": "2022-07-15T06:25:30.692Z"
   },
   {
    "duration": 36,
    "start_time": "2022-07-15T06:25:30.707Z"
   },
   {
    "duration": 16,
    "start_time": "2022-07-15T06:25:30.745Z"
   },
   {
    "duration": 73,
    "start_time": "2022-07-15T06:28:54.151Z"
   },
   {
    "duration": 153,
    "start_time": "2022-07-15T06:29:42.033Z"
   },
   {
    "duration": 108,
    "start_time": "2022-07-15T06:29:48.649Z"
   },
   {
    "duration": 51,
    "start_time": "2022-07-15T06:30:24.287Z"
   },
   {
    "duration": 111,
    "start_time": "2022-07-15T06:30:51.739Z"
   },
   {
    "duration": 175,
    "start_time": "2022-07-15T06:32:12.372Z"
   },
   {
    "duration": 53,
    "start_time": "2022-07-15T06:32:21.972Z"
   },
   {
    "duration": 11351,
    "start_time": "2022-07-15T06:33:29.674Z"
   },
   {
    "duration": 111,
    "start_time": "2022-07-15T06:33:41.027Z"
   },
   {
    "duration": 29,
    "start_time": "2022-07-15T06:33:41.140Z"
   },
   {
    "duration": 16,
    "start_time": "2022-07-15T06:33:41.174Z"
   },
   {
    "duration": 27,
    "start_time": "2022-07-15T06:33:41.192Z"
   },
   {
    "duration": 14,
    "start_time": "2022-07-15T06:33:41.220Z"
   },
   {
    "duration": 16,
    "start_time": "2022-07-15T06:33:41.235Z"
   },
   {
    "duration": 34,
    "start_time": "2022-07-15T06:33:41.256Z"
   },
   {
    "duration": 32,
    "start_time": "2022-07-15T06:34:07.869Z"
   },
   {
    "duration": 23,
    "start_time": "2022-07-15T06:34:10.907Z"
   },
   {
    "duration": 72,
    "start_time": "2022-07-15T06:34:19.231Z"
   },
   {
    "duration": 42,
    "start_time": "2022-07-15T06:34:39.098Z"
   },
   {
    "duration": 6,
    "start_time": "2022-07-15T06:34:46.243Z"
   },
   {
    "duration": 153,
    "start_time": "2022-07-15T06:34:52.731Z"
   },
   {
    "duration": 132,
    "start_time": "2022-07-15T06:41:55.033Z"
   },
   {
    "duration": 99,
    "start_time": "2022-07-15T06:42:09.668Z"
   },
   {
    "duration": 188,
    "start_time": "2022-07-15T06:42:16.236Z"
   },
   {
    "duration": 78,
    "start_time": "2022-07-15T06:42:55.590Z"
   },
   {
    "duration": 63,
    "start_time": "2022-07-15T07:01:39.386Z"
   },
   {
    "duration": 15,
    "start_time": "2022-07-15T07:02:22.211Z"
   },
   {
    "duration": 188,
    "start_time": "2022-07-15T07:05:03.496Z"
   },
   {
    "duration": 114,
    "start_time": "2022-07-15T07:05:24.807Z"
   },
   {
    "duration": 106,
    "start_time": "2022-07-15T07:06:33.648Z"
   },
   {
    "duration": 12,
    "start_time": "2022-07-15T07:07:13.393Z"
   },
   {
    "duration": 102,
    "start_time": "2022-07-15T07:09:01.333Z"
   },
   {
    "duration": 9723,
    "start_time": "2022-07-15T07:09:10.552Z"
   },
   {
    "duration": 122,
    "start_time": "2022-07-15T07:09:20.277Z"
   },
   {
    "duration": 18,
    "start_time": "2022-07-15T07:09:20.400Z"
   },
   {
    "duration": 8,
    "start_time": "2022-07-15T07:09:20.419Z"
   },
   {
    "duration": 28,
    "start_time": "2022-07-15T07:09:20.428Z"
   },
   {
    "duration": 11,
    "start_time": "2022-07-15T07:09:20.457Z"
   },
   {
    "duration": 9,
    "start_time": "2022-07-15T07:09:20.469Z"
   },
   {
    "duration": 186,
    "start_time": "2022-07-15T07:09:20.479Z"
   },
   {
    "duration": 0,
    "start_time": "2022-07-15T07:09:20.666Z"
   },
   {
    "duration": 0,
    "start_time": "2022-07-15T07:09:20.667Z"
   },
   {
    "duration": 12,
    "start_time": "2022-07-15T07:11:14.497Z"
   },
   {
    "duration": 98,
    "start_time": "2022-07-15T07:11:35.497Z"
   },
   {
    "duration": 12,
    "start_time": "2022-07-15T07:11:45.545Z"
   },
   {
    "duration": 81,
    "start_time": "2022-07-15T07:12:23.954Z"
   },
   {
    "duration": 12,
    "start_time": "2022-07-15T07:12:32.658Z"
   },
   {
    "duration": 96,
    "start_time": "2022-07-15T07:12:40.546Z"
   },
   {
    "duration": 12,
    "start_time": "2022-07-15T07:13:08.035Z"
   },
   {
    "duration": 98,
    "start_time": "2022-07-15T07:13:58.748Z"
   },
   {
    "duration": 109,
    "start_time": "2022-07-15T07:16:33.719Z"
   },
   {
    "duration": 96,
    "start_time": "2022-07-15T07:16:41.471Z"
   },
   {
    "duration": 13,
    "start_time": "2022-07-15T07:17:33.163Z"
   },
   {
    "duration": 13,
    "start_time": "2022-07-15T07:17:48.585Z"
   },
   {
    "duration": 15,
    "start_time": "2022-07-15T07:19:29.898Z"
   },
   {
    "duration": 9983,
    "start_time": "2022-07-15T07:34:10.523Z"
   },
   {
    "duration": 176,
    "start_time": "2022-07-15T07:34:20.508Z"
   },
   {
    "duration": 19,
    "start_time": "2022-07-15T07:34:20.686Z"
   },
   {
    "duration": 7,
    "start_time": "2022-07-15T07:34:20.707Z"
   },
   {
    "duration": 35,
    "start_time": "2022-07-15T07:34:20.716Z"
   },
   {
    "duration": 16,
    "start_time": "2022-07-15T07:34:20.762Z"
   },
   {
    "duration": 11,
    "start_time": "2022-07-15T07:34:20.780Z"
   },
   {
    "duration": 16,
    "start_time": "2022-07-15T07:34:20.794Z"
   },
   {
    "duration": 13,
    "start_time": "2022-07-15T07:34:20.811Z"
   },
   {
    "duration": 3,
    "start_time": "2022-07-15T07:34:20.827Z"
   },
   {
    "duration": 3,
    "start_time": "2022-07-15T07:34:33.193Z"
   },
   {
    "duration": 14,
    "start_time": "2022-07-15T07:34:40.203Z"
   },
   {
    "duration": 180,
    "start_time": "2022-07-15T07:36:22.833Z"
   },
   {
    "duration": 13,
    "start_time": "2022-07-15T07:38:21.284Z"
   },
   {
    "duration": 10309,
    "start_time": "2022-07-15T07:39:16.682Z"
   },
   {
    "duration": 131,
    "start_time": "2022-07-15T07:39:26.993Z"
   },
   {
    "duration": 18,
    "start_time": "2022-07-15T07:39:27.126Z"
   },
   {
    "duration": 25,
    "start_time": "2022-07-15T07:39:27.146Z"
   },
   {
    "duration": 23,
    "start_time": "2022-07-15T07:39:27.173Z"
   },
   {
    "duration": 11,
    "start_time": "2022-07-15T07:39:27.197Z"
   },
   {
    "duration": 9,
    "start_time": "2022-07-15T07:39:27.210Z"
   },
   {
    "duration": 15,
    "start_time": "2022-07-15T07:39:27.221Z"
   },
   {
    "duration": 11,
    "start_time": "2022-07-15T07:39:27.237Z"
   },
   {
    "duration": 26,
    "start_time": "2022-07-15T07:39:27.250Z"
   }
  ],
  "kernelspec": {
   "display_name": "Python 3 (ipykernel)",
   "language": "python",
   "name": "python3"
  },
  "language_info": {
   "codemirror_mode": {
    "name": "ipython",
    "version": 3
   },
   "file_extension": ".py",
   "mimetype": "text/x-python",
   "name": "python",
   "nbconvert_exporter": "python",
   "pygments_lexer": "ipython3",
   "version": "3.9.7"
  },
  "toc": {
   "base_numbering": 1,
   "nav_menu": {},
   "number_sections": true,
   "sideBar": true,
   "skip_h1_title": true,
   "title_cell": "Table of Contents",
   "title_sidebar": "Contents",
   "toc_cell": false,
   "toc_position": {},
   "toc_section_display": true,
   "toc_window_display": false
  }
 },
 "nbformat": 4,
 "nbformat_minor": 5
}
