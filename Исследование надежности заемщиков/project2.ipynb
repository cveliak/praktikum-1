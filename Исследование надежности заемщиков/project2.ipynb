{
 "cells": [
  {
   "cell_type": "markdown",
   "metadata": {},
   "source": [
    "# Исследование надёжности заёмщиков — анализ банковских данных"
   ]
  },
  {
   "cell_type": "markdown",
   "metadata": {},
   "source": [
    "**Описание проекта**\n",
    "\n",
    "Заказчик — кредитный отдел банка. Входные данные от банка — статистика о платёжеспособности клиентов. Результаты исследования будут учтены при построении модели кредитного скоринга — специальной системы, которая оценивает способность потенциального заёмщика вернуть кредит банку."
   ]
  },
  {
   "cell_type": "markdown",
   "metadata": {},
   "source": [
    "**Задача проекта**\n",
    "\n",
    "На основе статистики о платёжеспособности клиентов исследовать, влияет ли семейное положение и количество детей клиента на факт возврата кредита в срок."
   ]
  },
  {
   "cell_type": "markdown",
   "metadata": {},
   "source": [
    "**Описание данных**\n",
    "\n",
    "- children — количество детей в семье\n",
    "- days_employed — общий трудовой стаж в днях\n",
    "- dob_years — возраст клиента в годах\n",
    "- education — уровень образования клиента\n",
    "- education_id — идентификатор уровня образования\n",
    "- family_status — семейное положение\n",
    "- family_status_id — идентификатор семейного положения\n",
    "- gender — пол клиента\n",
    "- income_type — тип занятости\n",
    "- debt — имел ли задолженность по возврату кредитов\n",
    "- total_income — ежемесячный доход\n",
    "- purpose — цель получения кредита"
   ]
  },
  {
   "cell_type": "markdown",
   "metadata": {},
   "source": [
    "**План работы**\n",
    "\n",
    "1. Загрузка данных и изучение общей информации\n",
    "2. Предобработка данных (пропуски, аномалии, дубликаты, типы данных)\n",
    "3. Исследование зависимости между семейным положением, количеством детей, уровнем дохода и возвратом кредита в срок\n",
    "4. Подведение итогов исследования"
   ]
  },
  {
   "cell_type": "markdown",
   "metadata": {},
   "source": [
    "## Загрузка данных и изучение общей информации"
   ]
  },
  {
   "cell_type": "code",
   "execution_count": 1,
   "metadata": {},
   "outputs": [],
   "source": [
    "import pandas as pd\n",
    "from pymystem3 import Mystem\n",
    "from collections import Counter"
   ]
  },
  {
   "cell_type": "code",
   "execution_count": 2,
   "metadata": {},
   "outputs": [
    {
     "data": {
      "text/html": [
       "<div>\n",
       "<style scoped>\n",
       "    .dataframe tbody tr th:only-of-type {\n",
       "        vertical-align: middle;\n",
       "    }\n",
       "\n",
       "    .dataframe tbody tr th {\n",
       "        vertical-align: top;\n",
       "    }\n",
       "\n",
       "    .dataframe thead th {\n",
       "        text-align: right;\n",
       "    }\n",
       "</style>\n",
       "<table border=\"1\" class=\"dataframe\">\n",
       "  <thead>\n",
       "    <tr style=\"text-align: right;\">\n",
       "      <th></th>\n",
       "      <th>children</th>\n",
       "      <th>days_employed</th>\n",
       "      <th>dob_years</th>\n",
       "      <th>education</th>\n",
       "      <th>education_id</th>\n",
       "      <th>family_status</th>\n",
       "      <th>family_status_id</th>\n",
       "      <th>gender</th>\n",
       "      <th>income_type</th>\n",
       "      <th>debt</th>\n",
       "      <th>total_income</th>\n",
       "      <th>purpose</th>\n",
       "    </tr>\n",
       "  </thead>\n",
       "  <tbody>\n",
       "    <tr>\n",
       "      <th>0</th>\n",
       "      <td>1</td>\n",
       "      <td>-8437.673028</td>\n",
       "      <td>42</td>\n",
       "      <td>высшее</td>\n",
       "      <td>0</td>\n",
       "      <td>женат / замужем</td>\n",
       "      <td>0</td>\n",
       "      <td>F</td>\n",
       "      <td>сотрудник</td>\n",
       "      <td>0</td>\n",
       "      <td>253875.639453</td>\n",
       "      <td>покупка жилья</td>\n",
       "    </tr>\n",
       "    <tr>\n",
       "      <th>1</th>\n",
       "      <td>1</td>\n",
       "      <td>-4024.803754</td>\n",
       "      <td>36</td>\n",
       "      <td>среднее</td>\n",
       "      <td>1</td>\n",
       "      <td>женат / замужем</td>\n",
       "      <td>0</td>\n",
       "      <td>F</td>\n",
       "      <td>сотрудник</td>\n",
       "      <td>0</td>\n",
       "      <td>112080.014102</td>\n",
       "      <td>приобретение автомобиля</td>\n",
       "    </tr>\n",
       "    <tr>\n",
       "      <th>2</th>\n",
       "      <td>0</td>\n",
       "      <td>-5623.422610</td>\n",
       "      <td>33</td>\n",
       "      <td>Среднее</td>\n",
       "      <td>1</td>\n",
       "      <td>женат / замужем</td>\n",
       "      <td>0</td>\n",
       "      <td>M</td>\n",
       "      <td>сотрудник</td>\n",
       "      <td>0</td>\n",
       "      <td>145885.952297</td>\n",
       "      <td>покупка жилья</td>\n",
       "    </tr>\n",
       "    <tr>\n",
       "      <th>3</th>\n",
       "      <td>3</td>\n",
       "      <td>-4124.747207</td>\n",
       "      <td>32</td>\n",
       "      <td>среднее</td>\n",
       "      <td>1</td>\n",
       "      <td>женат / замужем</td>\n",
       "      <td>0</td>\n",
       "      <td>M</td>\n",
       "      <td>сотрудник</td>\n",
       "      <td>0</td>\n",
       "      <td>267628.550329</td>\n",
       "      <td>дополнительное образование</td>\n",
       "    </tr>\n",
       "    <tr>\n",
       "      <th>4</th>\n",
       "      <td>0</td>\n",
       "      <td>340266.072047</td>\n",
       "      <td>53</td>\n",
       "      <td>среднее</td>\n",
       "      <td>1</td>\n",
       "      <td>гражданский брак</td>\n",
       "      <td>1</td>\n",
       "      <td>F</td>\n",
       "      <td>пенсионер</td>\n",
       "      <td>0</td>\n",
       "      <td>158616.077870</td>\n",
       "      <td>сыграть свадьбу</td>\n",
       "    </tr>\n",
       "  </tbody>\n",
       "</table>\n",
       "</div>"
      ],
      "text/plain": [
       "   children  days_employed  dob_years education  education_id  \\\n",
       "0         1   -8437.673028         42    высшее             0   \n",
       "1         1   -4024.803754         36   среднее             1   \n",
       "2         0   -5623.422610         33   Среднее             1   \n",
       "3         3   -4124.747207         32   среднее             1   \n",
       "4         0  340266.072047         53   среднее             1   \n",
       "\n",
       "      family_status  family_status_id gender income_type  debt   total_income  \\\n",
       "0   женат / замужем                 0      F   сотрудник     0  253875.639453   \n",
       "1   женат / замужем                 0      F   сотрудник     0  112080.014102   \n",
       "2   женат / замужем                 0      M   сотрудник     0  145885.952297   \n",
       "3   женат / замужем                 0      M   сотрудник     0  267628.550329   \n",
       "4  гражданский брак                 1      F   пенсионер     0  158616.077870   \n",
       "\n",
       "                      purpose  \n",
       "0               покупка жилья  \n",
       "1     приобретение автомобиля  \n",
       "2               покупка жилья  \n",
       "3  дополнительное образование  \n",
       "4             сыграть свадьбу  "
      ]
     },
     "execution_count": 2,
     "metadata": {},
     "output_type": "execute_result"
    }
   ],
   "source": [
    "df = pd.read_csv('/datasets/data.csv')\n",
    "df.head()"
   ]
  },
  {
   "cell_type": "code",
   "execution_count": 3,
   "metadata": {
    "scrolled": true
   },
   "outputs": [
    {
     "name": "stdout",
     "output_type": "stream",
     "text": [
      "<class 'pandas.core.frame.DataFrame'>\n",
      "RangeIndex: 21525 entries, 0 to 21524\n",
      "Data columns (total 12 columns):\n",
      " #   Column            Non-Null Count  Dtype  \n",
      "---  ------            --------------  -----  \n",
      " 0   children          21525 non-null  int64  \n",
      " 1   days_employed     19351 non-null  float64\n",
      " 2   dob_years         21525 non-null  int64  \n",
      " 3   education         21525 non-null  object \n",
      " 4   education_id      21525 non-null  int64  \n",
      " 5   family_status     21525 non-null  object \n",
      " 6   family_status_id  21525 non-null  int64  \n",
      " 7   gender            21525 non-null  object \n",
      " 8   income_type       21525 non-null  object \n",
      " 9   debt              21525 non-null  int64  \n",
      " 10  total_income      19351 non-null  float64\n",
      " 11  purpose           21525 non-null  object \n",
      "dtypes: float64(2), int64(5), object(5)\n",
      "memory usage: 2.0+ MB\n"
     ]
    }
   ],
   "source": [
    "df.info()"
   ]
  },
  {
   "cell_type": "markdown",
   "metadata": {},
   "source": [
    "В таблице 21 525 записей и 12 столбцов. Данные в 4 столбцах (children, days_employed, dob_years, total_income) являются количественными переменными, остальные - категориальными.  Колонки названы корректно, без нарушения стиля.\n",
    "Встречаются три типа данных: int64, float64 и object.\n",
    "\n",
    "Количество значений в столбцах 'days_employed' и 'total_income' отличается от количества строк. Значит, в данных в этих колонках есть пропущенные значения. \n",
    "\n",
    "Кроме того, в столбце 'days_employed' есть отрицательные значения."
   ]
  },
  {
   "cell_type": "markdown",
   "metadata": {},
   "source": [
    "**Вывод**"
   ]
  },
  {
   "cell_type": "markdown",
   "metadata": {},
   "source": [
    "Данные в таблице рассказывают о заемщиках (пол, возраст, доход, стаж и т.д.) Есть пропуски и аномалии. Для проверки гипотезы  необходимо сначала устранить проблемы в данных."
   ]
  },
  {
   "cell_type": "markdown",
   "metadata": {},
   "source": [
    "## Предобработка данных"
   ]
  },
  {
   "cell_type": "markdown",
   "metadata": {},
   "source": [
    "### Обработка пропусков"
   ]
  },
  {
   "cell_type": "markdown",
   "metadata": {},
   "source": [
    "Определим количество пропущенных значений:"
   ]
  },
  {
   "cell_type": "code",
   "execution_count": 4,
   "metadata": {},
   "outputs": [
    {
     "data": {
      "text/plain": [
       "children               0\n",
       "days_employed       2174\n",
       "dob_years              0\n",
       "education              0\n",
       "education_id           0\n",
       "family_status          0\n",
       "family_status_id       0\n",
       "gender                 0\n",
       "income_type            0\n",
       "debt                   0\n",
       "total_income        2174\n",
       "purpose                0\n",
       "dtype: int64"
      ]
     },
     "execution_count": 4,
     "metadata": {},
     "output_type": "execute_result"
    }
   ],
   "source": [
    "df.isna().sum()"
   ]
  },
  {
   "cell_type": "markdown",
   "metadata": {},
   "source": [
    "Пропущено по 2174 значения в колонках days_employed и total_income."
   ]
  },
  {
   "cell_type": "markdown",
   "metadata": {},
   "source": [
    "Определим тип пропущенных значений, применив индексацию:"
   ]
  },
  {
   "cell_type": "code",
   "execution_count": 5,
   "metadata": {
    "scrolled": false
   },
   "outputs": [
    {
     "data": {
      "text/html": [
       "<div>\n",
       "<style scoped>\n",
       "    .dataframe tbody tr th:only-of-type {\n",
       "        vertical-align: middle;\n",
       "    }\n",
       "\n",
       "    .dataframe tbody tr th {\n",
       "        vertical-align: top;\n",
       "    }\n",
       "\n",
       "    .dataframe thead th {\n",
       "        text-align: right;\n",
       "    }\n",
       "</style>\n",
       "<table border=\"1\" class=\"dataframe\">\n",
       "  <thead>\n",
       "    <tr style=\"text-align: right;\">\n",
       "      <th></th>\n",
       "      <th>children</th>\n",
       "      <th>days_employed</th>\n",
       "      <th>dob_years</th>\n",
       "      <th>education</th>\n",
       "      <th>education_id</th>\n",
       "      <th>family_status</th>\n",
       "      <th>family_status_id</th>\n",
       "      <th>gender</th>\n",
       "      <th>income_type</th>\n",
       "      <th>debt</th>\n",
       "      <th>total_income</th>\n",
       "      <th>purpose</th>\n",
       "    </tr>\n",
       "  </thead>\n",
       "  <tbody>\n",
       "    <tr>\n",
       "      <th>12</th>\n",
       "      <td>0</td>\n",
       "      <td>NaN</td>\n",
       "      <td>65</td>\n",
       "      <td>среднее</td>\n",
       "      <td>1</td>\n",
       "      <td>гражданский брак</td>\n",
       "      <td>1</td>\n",
       "      <td>M</td>\n",
       "      <td>пенсионер</td>\n",
       "      <td>0</td>\n",
       "      <td>NaN</td>\n",
       "      <td>сыграть свадьбу</td>\n",
       "    </tr>\n",
       "    <tr>\n",
       "      <th>26</th>\n",
       "      <td>0</td>\n",
       "      <td>NaN</td>\n",
       "      <td>41</td>\n",
       "      <td>среднее</td>\n",
       "      <td>1</td>\n",
       "      <td>женат / замужем</td>\n",
       "      <td>0</td>\n",
       "      <td>M</td>\n",
       "      <td>госслужащий</td>\n",
       "      <td>0</td>\n",
       "      <td>NaN</td>\n",
       "      <td>образование</td>\n",
       "    </tr>\n",
       "    <tr>\n",
       "      <th>29</th>\n",
       "      <td>0</td>\n",
       "      <td>NaN</td>\n",
       "      <td>63</td>\n",
       "      <td>среднее</td>\n",
       "      <td>1</td>\n",
       "      <td>Не женат / не замужем</td>\n",
       "      <td>4</td>\n",
       "      <td>F</td>\n",
       "      <td>пенсионер</td>\n",
       "      <td>0</td>\n",
       "      <td>NaN</td>\n",
       "      <td>строительство жилой недвижимости</td>\n",
       "    </tr>\n",
       "    <tr>\n",
       "      <th>41</th>\n",
       "      <td>0</td>\n",
       "      <td>NaN</td>\n",
       "      <td>50</td>\n",
       "      <td>среднее</td>\n",
       "      <td>1</td>\n",
       "      <td>женат / замужем</td>\n",
       "      <td>0</td>\n",
       "      <td>F</td>\n",
       "      <td>госслужащий</td>\n",
       "      <td>0</td>\n",
       "      <td>NaN</td>\n",
       "      <td>сделка с подержанным автомобилем</td>\n",
       "    </tr>\n",
       "    <tr>\n",
       "      <th>55</th>\n",
       "      <td>0</td>\n",
       "      <td>NaN</td>\n",
       "      <td>54</td>\n",
       "      <td>среднее</td>\n",
       "      <td>1</td>\n",
       "      <td>гражданский брак</td>\n",
       "      <td>1</td>\n",
       "      <td>F</td>\n",
       "      <td>пенсионер</td>\n",
       "      <td>1</td>\n",
       "      <td>NaN</td>\n",
       "      <td>сыграть свадьбу</td>\n",
       "    </tr>\n",
       "    <tr>\n",
       "      <th>65</th>\n",
       "      <td>0</td>\n",
       "      <td>NaN</td>\n",
       "      <td>21</td>\n",
       "      <td>среднее</td>\n",
       "      <td>1</td>\n",
       "      <td>Не женат / не замужем</td>\n",
       "      <td>4</td>\n",
       "      <td>M</td>\n",
       "      <td>компаньон</td>\n",
       "      <td>0</td>\n",
       "      <td>NaN</td>\n",
       "      <td>операции с коммерческой недвижимостью</td>\n",
       "    </tr>\n",
       "    <tr>\n",
       "      <th>67</th>\n",
       "      <td>0</td>\n",
       "      <td>NaN</td>\n",
       "      <td>52</td>\n",
       "      <td>высшее</td>\n",
       "      <td>0</td>\n",
       "      <td>женат / замужем</td>\n",
       "      <td>0</td>\n",
       "      <td>F</td>\n",
       "      <td>пенсионер</td>\n",
       "      <td>0</td>\n",
       "      <td>NaN</td>\n",
       "      <td>покупка жилья для семьи</td>\n",
       "    </tr>\n",
       "    <tr>\n",
       "      <th>72</th>\n",
       "      <td>1</td>\n",
       "      <td>NaN</td>\n",
       "      <td>32</td>\n",
       "      <td>высшее</td>\n",
       "      <td>0</td>\n",
       "      <td>женат / замужем</td>\n",
       "      <td>0</td>\n",
       "      <td>M</td>\n",
       "      <td>госслужащий</td>\n",
       "      <td>0</td>\n",
       "      <td>NaN</td>\n",
       "      <td>операции с коммерческой недвижимостью</td>\n",
       "    </tr>\n",
       "    <tr>\n",
       "      <th>82</th>\n",
       "      <td>2</td>\n",
       "      <td>NaN</td>\n",
       "      <td>50</td>\n",
       "      <td>высшее</td>\n",
       "      <td>0</td>\n",
       "      <td>женат / замужем</td>\n",
       "      <td>0</td>\n",
       "      <td>F</td>\n",
       "      <td>сотрудник</td>\n",
       "      <td>0</td>\n",
       "      <td>NaN</td>\n",
       "      <td>жилье</td>\n",
       "    </tr>\n",
       "    <tr>\n",
       "      <th>83</th>\n",
       "      <td>0</td>\n",
       "      <td>NaN</td>\n",
       "      <td>52</td>\n",
       "      <td>среднее</td>\n",
       "      <td>1</td>\n",
       "      <td>женат / замужем</td>\n",
       "      <td>0</td>\n",
       "      <td>M</td>\n",
       "      <td>сотрудник</td>\n",
       "      <td>0</td>\n",
       "      <td>NaN</td>\n",
       "      <td>жилье</td>\n",
       "    </tr>\n",
       "  </tbody>\n",
       "</table>\n",
       "</div>"
      ],
      "text/plain": [
       "    children  days_employed  dob_years education  education_id  \\\n",
       "12         0            NaN         65   среднее             1   \n",
       "26         0            NaN         41   среднее             1   \n",
       "29         0            NaN         63   среднее             1   \n",
       "41         0            NaN         50   среднее             1   \n",
       "55         0            NaN         54   среднее             1   \n",
       "65         0            NaN         21   среднее             1   \n",
       "67         0            NaN         52    высшее             0   \n",
       "72         1            NaN         32    высшее             0   \n",
       "82         2            NaN         50    высшее             0   \n",
       "83         0            NaN         52   среднее             1   \n",
       "\n",
       "            family_status  family_status_id gender  income_type  debt  \\\n",
       "12       гражданский брак                 1      M    пенсионер     0   \n",
       "26        женат / замужем                 0      M  госслужащий     0   \n",
       "29  Не женат / не замужем                 4      F    пенсионер     0   \n",
       "41        женат / замужем                 0      F  госслужащий     0   \n",
       "55       гражданский брак                 1      F    пенсионер     1   \n",
       "65  Не женат / не замужем                 4      M    компаньон     0   \n",
       "67        женат / замужем                 0      F    пенсионер     0   \n",
       "72        женат / замужем                 0      M  госслужащий     0   \n",
       "82        женат / замужем                 0      F    сотрудник     0   \n",
       "83        женат / замужем                 0      M    сотрудник     0   \n",
       "\n",
       "    total_income                                purpose  \n",
       "12           NaN                        сыграть свадьбу  \n",
       "26           NaN                            образование  \n",
       "29           NaN       строительство жилой недвижимости  \n",
       "41           NaN       сделка с подержанным автомобилем  \n",
       "55           NaN                        сыграть свадьбу  \n",
       "65           NaN  операции с коммерческой недвижимостью  \n",
       "67           NaN                покупка жилья для семьи  \n",
       "72           NaN  операции с коммерческой недвижимостью  \n",
       "82           NaN                                  жилье  \n",
       "83           NaN                                  жилье  "
      ]
     },
     "execution_count": 5,
     "metadata": {},
     "output_type": "execute_result"
    }
   ],
   "source": [
    "df[df['days_employed'].isna()].head(10)"
   ]
  },
  {
   "cell_type": "markdown",
   "metadata": {},
   "source": [
    "Тип пропущенных значений в столбцах 'days_employed'и 'total_income' - NaN. Значения пропущены в одних и тех же строках. Было бы логично предположить, что эти заемщики не трудоустроены официально, поэтому у них отсутствует официальный стаж и, соответственно, доход. Проверим наличие категории \"безработный\" в столбце 'income_type'."
   ]
  },
  {
   "cell_type": "code",
   "execution_count": 6,
   "metadata": {},
   "outputs": [
    {
     "data": {
      "text/plain": [
       "сотрудник          11119\n",
       "компаньон           5085\n",
       "пенсионер           3856\n",
       "госслужащий         1459\n",
       "безработный            2\n",
       "предприниматель        2\n",
       "студент                1\n",
       "в декрете              1\n",
       "Name: income_type, dtype: int64"
      ]
     },
     "execution_count": 6,
     "metadata": {},
     "output_type": "execute_result"
    }
   ],
   "source": [
    "df['income_type'].value_counts() "
   ]
  },
  {
   "cell_type": "markdown",
   "metadata": {},
   "source": [
    "Значения в столбце 'income_type' опровергают это предположение. Следовательно, пропуск данных является следствием технической ошибки. В некоторых строках стаж указан не в днях, а в часах. Вероятно, данные взяты из разных систем, в одной стаж указан в днях, в другой - в часах. Определим порог, начиная с которого значение будет считаться указанным в часах: примем максимально возможный стаж в 50 лет, тогда порог 50х365 = 18250. Возьмем значения по модулю и переведем часы в дни:"
   ]
  },
  {
   "cell_type": "code",
   "execution_count": 7,
   "metadata": {},
   "outputs": [
    {
     "data": {
      "text/html": [
       "<div>\n",
       "<style scoped>\n",
       "    .dataframe tbody tr th:only-of-type {\n",
       "        vertical-align: middle;\n",
       "    }\n",
       "\n",
       "    .dataframe tbody tr th {\n",
       "        vertical-align: top;\n",
       "    }\n",
       "\n",
       "    .dataframe thead th {\n",
       "        text-align: right;\n",
       "    }\n",
       "</style>\n",
       "<table border=\"1\" class=\"dataframe\">\n",
       "  <thead>\n",
       "    <tr style=\"text-align: right;\">\n",
       "      <th></th>\n",
       "      <th>min</th>\n",
       "      <th>max</th>\n",
       "    </tr>\n",
       "    <tr>\n",
       "      <th>income_type</th>\n",
       "      <th></th>\n",
       "      <th></th>\n",
       "    </tr>\n",
       "  </thead>\n",
       "  <tbody>\n",
       "    <tr>\n",
       "      <th>безработный</th>\n",
       "      <td>14063.519451</td>\n",
       "      <td>16470.951611</td>\n",
       "    </tr>\n",
       "    <tr>\n",
       "      <th>в декрете</th>\n",
       "      <td>3296.759962</td>\n",
       "      <td>3296.759962</td>\n",
       "    </tr>\n",
       "    <tr>\n",
       "      <th>госслужащий</th>\n",
       "      <td>39.954170</td>\n",
       "      <td>15193.032201</td>\n",
       "    </tr>\n",
       "    <tr>\n",
       "      <th>компаньон</th>\n",
       "      <td>30.195337</td>\n",
       "      <td>17615.563266</td>\n",
       "    </tr>\n",
       "    <tr>\n",
       "      <th>пенсионер</th>\n",
       "      <td>13697.030025</td>\n",
       "      <td>16739.808353</td>\n",
       "    </tr>\n",
       "    <tr>\n",
       "      <th>предприниматель</th>\n",
       "      <td>520.848083</td>\n",
       "      <td>520.848083</td>\n",
       "    </tr>\n",
       "    <tr>\n",
       "      <th>сотрудник</th>\n",
       "      <td>24.141633</td>\n",
       "      <td>16593.472817</td>\n",
       "    </tr>\n",
       "    <tr>\n",
       "      <th>студент</th>\n",
       "      <td>578.751554</td>\n",
       "      <td>578.751554</td>\n",
       "    </tr>\n",
       "  </tbody>\n",
       "</table>\n",
       "</div>"
      ],
      "text/plain": [
       "                          min           max\n",
       "income_type                                \n",
       "безработный      14063.519451  16470.951611\n",
       "в декрете         3296.759962   3296.759962\n",
       "госслужащий         39.954170  15193.032201\n",
       "компаньон           30.195337  17615.563266\n",
       "пенсионер        13697.030025  16739.808353\n",
       "предприниматель    520.848083    520.848083\n",
       "сотрудник           24.141633  16593.472817\n",
       "студент            578.751554    578.751554"
      ]
     },
     "execution_count": 7,
     "metadata": {},
     "output_type": "execute_result"
    }
   ],
   "source": [
    "df['days_employed'] = df['days_employed'].apply(abs)\n",
    "df.loc[df['days_employed'] >18250, 'days_employed'] = df.loc[df['days_employed'] >18250, 'days_employed'] / 24\n",
    "df.groupby('income_type')['days_employed'].agg(['min', 'max'])"
   ]
  },
  {
   "cell_type": "markdown",
   "metadata": {},
   "source": [
    "Теперь стаж указан в днях, значения положительные, аномалий нет."
   ]
  },
  {
   "cell_type": "markdown",
   "metadata": {},
   "source": [
    "Заполним пропуски в стаже средним арифметическим для каждого типа занятости с помощью функции transform:"
   ]
  },
  {
   "cell_type": "code",
   "execution_count": 8,
   "metadata": {},
   "outputs": [
    {
     "name": "stdout",
     "output_type": "stream",
     "text": [
      "Пропуски до: 2174\n",
      "Пропуски после: 0\n"
     ]
    }
   ],
   "source": [
    "print('Пропуски до:', df['days_employed'].isna().sum())\n",
    "df['days_employed'] = df['days_employed'].fillna(df.groupby('income_type')['days_employed'].transform(func='mean'))\n",
    "print('Пропуски после:', df['days_employed'].isna().sum())"
   ]
  },
  {
   "cell_type": "markdown",
   "metadata": {},
   "source": [
    "Заполним пропуски в доходе медианой для каждого типа занятости, применив цикл:"
   ]
  },
  {
   "cell_type": "code",
   "execution_count": 9,
   "metadata": {},
   "outputs": [
    {
     "name": "stdout",
     "output_type": "stream",
     "text": [
      "Пропуски до: 2174\n",
      "сотрудник 142594.39684740017\n",
      "пенсионер 118514.48641164352\n",
      "компаньон 172357.95096577113\n",
      "госслужащий 150447.9352830068\n",
      "безработный 131339.7516762103\n",
      "предприниматель 499163.1449470857\n",
      "студент 98201.62531401133\n",
      "в декрете 53829.13072905995\n",
      "Пропуски после: 0\n"
     ]
    }
   ],
   "source": [
    "print('Пропуски до:', df['total_income'].isna().sum())\n",
    "for income_type in df['income_type'].unique():\n",
    "    median = df.loc[df['income_type'] == income_type, 'total_income'].median()\n",
    "    print(income_type, median)\n",
    "    df.loc[(df['total_income'].isna())& (df['income_type'] == income_type), 'total_income'] = median\n",
    "print('Пропуски после:', df['total_income'].isna().sum())"
   ]
  },
  {
   "cell_type": "markdown",
   "metadata": {},
   "source": [
    "Проверим наличие аномалий и пропусков в других столбцах. При обнаружении исправим их."
   ]
  },
  {
   "cell_type": "code",
   "execution_count": 10,
   "metadata": {},
   "outputs": [
    {
     "data": {
      "text/plain": [
       " 0     14149\n",
       " 1      4818\n",
       " 2      2055\n",
       " 3       330\n",
       " 20       76\n",
       "-1        47\n",
       " 4        41\n",
       " 5         9\n",
       "Name: children, dtype: int64"
      ]
     },
     "execution_count": 10,
     "metadata": {},
     "output_type": "execute_result"
    }
   ],
   "source": [
    "#проверка корректности указания количества детей\n",
    "df['children'].value_counts()"
   ]
  },
  {
   "cell_type": "markdown",
   "metadata": {},
   "source": [
    "Аномальные значения 20 и -1. Допустим, что имеется в виду 2 и 1, и заменим эти значения соответственно:"
   ]
  },
  {
   "cell_type": "code",
   "execution_count": 11,
   "metadata": {},
   "outputs": [
    {
     "data": {
      "text/plain": [
       "0    14149\n",
       "1     4865\n",
       "2     2131\n",
       "3      330\n",
       "4       41\n",
       "5        9\n",
       "Name: children, dtype: int64"
      ]
     },
     "execution_count": 11,
     "metadata": {},
     "output_type": "execute_result"
    }
   ],
   "source": [
    "df['children'] = df['children'].replace(-1, 1)\n",
    "df['children'] = df['children'].replace(20, 2)\n",
    "df['children'].value_counts()"
   ]
  },
  {
   "cell_type": "markdown",
   "metadata": {},
   "source": [
    "Замена произведена."
   ]
  },
  {
   "cell_type": "code",
   "execution_count": 12,
   "metadata": {},
   "outputs": [
    {
     "data": {
      "text/plain": [
       "array([42, 36, 33, 32, 53, 27, 43, 50, 35, 41, 40, 65, 54, 56, 26, 48, 24,\n",
       "       21, 57, 67, 28, 63, 62, 47, 34, 68, 25, 31, 30, 20, 49, 37, 45, 61,\n",
       "       64, 44, 52, 46, 23, 38, 39, 51,  0, 59, 29, 60, 55, 58, 71, 22, 73,\n",
       "       66, 69, 19, 72, 70, 74, 75])"
      ]
     },
     "execution_count": 12,
     "metadata": {},
     "output_type": "execute_result"
    }
   ],
   "source": [
    "#вывод уникальных значений в столбце dob_years\n",
    "df['dob_years'].unique()"
   ]
  },
  {
   "cell_type": "code",
   "execution_count": 13,
   "metadata": {},
   "outputs": [
    {
     "name": "stdout",
     "output_type": "stream",
     "text": [
      "[ 0 19 20 21 22 23 24 25 26 27 28 29 30 31 32 33 34 35 36 37 38 39 40 41\n",
      " 42 43 44 45 46 47 48 49 50 51 52 53 54 55 56 57 58 59 60 61 62 63 64 65\n",
      " 66 67 68 69 70 71 72 73 74 75]\n"
     ]
    }
   ],
   "source": [
    "#сортировка значений по возрастанию для выявления аномалий\n",
    "list_dob_years = df['dob_years'].unique()\n",
    "list_dob_years.sort()\n",
    "print(list_dob_years)"
   ]
  },
  {
   "cell_type": "code",
   "execution_count": 14,
   "metadata": {},
   "outputs": [
    {
     "name": "stdout",
     "output_type": "stream",
     "text": [
      "Количество строк с dob_years = 0: 101\n"
     ]
    }
   ],
   "source": [
    "#подсчет строк, в которых указан возраст 0\n",
    "print('Количество строк с dob_years = 0:', df[df['dob_years'] == 0].count()[0])"
   ]
  },
  {
   "cell_type": "markdown",
   "metadata": {},
   "source": [
    "Заменим 0 на среднее значение для каждого типа занятости:"
   ]
  },
  {
   "cell_type": "code",
   "execution_count": 15,
   "metadata": {},
   "outputs": [
    {
     "name": "stdout",
     "output_type": "stream",
     "text": [
      "сотрудник 39.82102707077975\n",
      "пенсионер 59.06301867219917\n",
      "компаньон 39.69754178957719\n",
      "госслужащий 40.63673749143249\n",
      "безработный 38.0\n",
      "предприниматель 42.5\n",
      "студент 22.0\n",
      "в декрете 39.0\n",
      "Количество строк с dob_years = 0: 0\n"
     ]
    }
   ],
   "source": [
    "for income_type in df['income_type'].unique():\n",
    "    mean = df.loc[df['income_type'] == income_type, 'dob_years'].mean()\n",
    "    print (income_type, mean)\n",
    "    df.loc[(df['dob_years'] == 0) & (df['income_type'] == income_type), 'dob_years'] = mean\n",
    "print('Количество строк с dob_years = 0:', df[df['dob_years'] == 0].count()[0])"
   ]
  },
  {
   "cell_type": "markdown",
   "metadata": {},
   "source": [
    "Замена произведена."
   ]
  },
  {
   "cell_type": "code",
   "execution_count": 16,
   "metadata": {},
   "outputs": [
    {
     "data": {
      "text/plain": [
       "F      14236\n",
       "M       7288\n",
       "XNA        1\n",
       "Name: gender, dtype: int64"
      ]
     },
     "execution_count": 16,
     "metadata": {},
     "output_type": "execute_result"
    }
   ],
   "source": [
    "#поиск аномалий в столбце gender\n",
    "df['gender'].value_counts()"
   ]
  },
  {
   "cell_type": "markdown",
   "metadata": {},
   "source": [
    "1 строка с некорректным указанием пола  - несущественно для исследования. Удалим эту строку через индекс:"
   ]
  },
  {
   "cell_type": "code",
   "execution_count": 17,
   "metadata": {},
   "outputs": [
    {
     "data": {
      "text/plain": [
       "F    14236\n",
       "M     7288\n",
       "Name: gender, dtype: int64"
      ]
     },
     "execution_count": 17,
     "metadata": {},
     "output_type": "execute_result"
    }
   ],
   "source": [
    "df = df.drop(df[df['gender'] == 'XNA'].index)\n",
    "df['gender'].value_counts()"
   ]
  },
  {
   "cell_type": "markdown",
   "metadata": {},
   "source": [
    "**Вывод**"
   ]
  },
  {
   "cell_type": "markdown",
   "metadata": {},
   "source": [
    "Предобработка выявила пропущенные значения в колонках days_employed и total_income в одних и тех же строках. Мы заменили пропущенные значения на среднее и медиану. Кроме того, выявлены аномальные значения в столбцах children, dob_years и неявные дубликаты из-за использования двух регистров в столбце education. Для исправления значений применили замену и приведение к нижнему регистру."
   ]
  },
  {
   "cell_type": "markdown",
   "metadata": {},
   "source": [
    "Однако предпринятых действий недостаточно для проверки гипотез, т.к. есть другие данные, которые требуют предварительной работы с ними."
   ]
  },
  {
   "cell_type": "markdown",
   "metadata": {},
   "source": [
    "### Замена типа данных"
   ]
  },
  {
   "cell_type": "markdown",
   "metadata": {},
   "source": [
    "В столбце days_employed встречаются отрицательные и аномально большие значения стажа в днях. Предположим, что они взяты из другой системы, где стаж указан в часах."
   ]
  },
  {
   "cell_type": "markdown",
   "metadata": {},
   "source": [
    "Приведем отрицательные значения к положительным, переведем часы в дни, далее заменим вещественный тип данных на целочисленный:"
   ]
  },
  {
   "cell_type": "code",
   "execution_count": 18,
   "metadata": {},
   "outputs": [
    {
     "name": "stdout",
     "output_type": "stream",
     "text": [
      "Максимальное значение до изменений: 17615.563265627912\n",
      "Минимальное значение до изменений: 24.14163324048118\n",
      "Максимальное значение после изменений: 17615\n",
      "Минимальное значение после изменений: 24\n"
     ]
    }
   ],
   "source": [
    "print('Максимальное значение до изменений:',df['days_employed'].max())\n",
    "print('Минимальное значение до изменений:',df['days_employed'].min())\n",
    "df['days_employed'] = df['days_employed'].apply(abs)\n",
    "df.loc[df['days_employed'] >30000, 'days_employed'] = df.loc[df['days_employed'] >30000, 'days_employed']/24\n",
    "df['days_employed'] = df['days_employed'].astype('int')\n",
    "print('Максимальное значение после изменений:',df['days_employed'].max())\n",
    "print('Минимальное значение после изменений:',df['days_employed'].min())"
   ]
  },
  {
   "cell_type": "code",
   "execution_count": 19,
   "metadata": {},
   "outputs": [
    {
     "name": "stdout",
     "output_type": "stream",
     "text": [
      "<class 'pandas.core.frame.DataFrame'>\n",
      "Int64Index: 21524 entries, 0 to 21524\n",
      "Data columns (total 12 columns):\n",
      " #   Column            Non-Null Count  Dtype  \n",
      "---  ------            --------------  -----  \n",
      " 0   children          21524 non-null  int64  \n",
      " 1   days_employed     21524 non-null  int64  \n",
      " 2   dob_years         21524 non-null  float64\n",
      " 3   education         21524 non-null  object \n",
      " 4   education_id      21524 non-null  int64  \n",
      " 5   family_status     21524 non-null  object \n",
      " 6   family_status_id  21524 non-null  int64  \n",
      " 7   gender            21524 non-null  object \n",
      " 8   income_type       21524 non-null  object \n",
      " 9   debt              21524 non-null  int64  \n",
      " 10  total_income      21524 non-null  float64\n",
      " 11  purpose           21524 non-null  object \n",
      "dtypes: float64(2), int64(5), object(5)\n",
      "memory usage: 2.1+ MB\n"
     ]
    }
   ],
   "source": [
    "df.info()"
   ]
  },
  {
   "cell_type": "markdown",
   "metadata": {},
   "source": [
    "**Вывод**"
   ]
  },
  {
   "cell_type": "markdown",
   "metadata": {},
   "source": [
    "Теперь стаж в каждой строке указан в днях, все значения положительные, тип данных int64."
   ]
  },
  {
   "cell_type": "markdown",
   "metadata": {},
   "source": [
    "### Обработка дубликатов"
   ]
  },
  {
   "cell_type": "markdown",
   "metadata": {},
   "source": [
    "Найдем неявные дубликаты в стоблце education:"
   ]
  },
  {
   "cell_type": "code",
   "execution_count": 20,
   "metadata": {},
   "outputs": [
    {
     "data": {
      "text/plain": [
       "среднее                13750\n",
       "высшее                  4718\n",
       "СРЕДНЕЕ                  772\n",
       "Среднее                  711\n",
       "неоконченное высшее      667\n",
       "ВЫСШЕЕ                   274\n",
       "Высшее                   268\n",
       "начальное                250\n",
       "Неоконченное высшее       47\n",
       "НЕОКОНЧЕННОЕ ВЫСШЕЕ       29\n",
       "НАЧАЛЬНОЕ                 17\n",
       "Начальное                 15\n",
       "ученая степень             4\n",
       "Ученая степень             1\n",
       "УЧЕНАЯ СТЕПЕНЬ             1\n",
       "Name: education, dtype: int64"
      ]
     },
     "execution_count": 20,
     "metadata": {},
     "output_type": "execute_result"
    }
   ],
   "source": [
    "df['education'].value_counts()"
   ]
  },
  {
   "cell_type": "markdown",
   "metadata": {},
   "source": [
    "Значения дублируются из-за использования разных регистров. Приведем все значения к нижнему регистру:"
   ]
  },
  {
   "cell_type": "code",
   "execution_count": 21,
   "metadata": {},
   "outputs": [
    {
     "data": {
      "text/plain": [
       "array(['высшее', 'среднее', 'неоконченное высшее', 'начальное',\n",
       "       'ученая степень'], dtype=object)"
      ]
     },
     "execution_count": 21,
     "metadata": {},
     "output_type": "execute_result"
    }
   ],
   "source": [
    "df['education'] = df['education'].str.lower()\n",
    "df['education'].unique()"
   ]
  },
  {
   "cell_type": "markdown",
   "metadata": {},
   "source": [
    "Теперь в столбце education пять уникальных значений."
   ]
  },
  {
   "cell_type": "markdown",
   "metadata": {},
   "source": [
    "Посчитаем количество дубликатов в массиве данных:"
   ]
  },
  {
   "cell_type": "code",
   "execution_count": 22,
   "metadata": {},
   "outputs": [
    {
     "name": "stdout",
     "output_type": "stream",
     "text": [
      "Число дубликатов в массиве данных: 71\n"
     ]
    }
   ],
   "source": [
    "print('Число дубликатов в массиве данных:', df.duplicated().sum())"
   ]
  },
  {
   "cell_type": "markdown",
   "metadata": {},
   "source": [
    "Для наглядности выведем первые 10 строк массива данных с дубликатами:"
   ]
  },
  {
   "cell_type": "code",
   "execution_count": 23,
   "metadata": {},
   "outputs": [
    {
     "data": {
      "text/html": [
       "<div>\n",
       "<style scoped>\n",
       "    .dataframe tbody tr th:only-of-type {\n",
       "        vertical-align: middle;\n",
       "    }\n",
       "\n",
       "    .dataframe tbody tr th {\n",
       "        vertical-align: top;\n",
       "    }\n",
       "\n",
       "    .dataframe thead th {\n",
       "        text-align: right;\n",
       "    }\n",
       "</style>\n",
       "<table border=\"1\" class=\"dataframe\">\n",
       "  <thead>\n",
       "    <tr style=\"text-align: right;\">\n",
       "      <th></th>\n",
       "      <th>children</th>\n",
       "      <th>days_employed</th>\n",
       "      <th>dob_years</th>\n",
       "      <th>education</th>\n",
       "      <th>education_id</th>\n",
       "      <th>family_status</th>\n",
       "      <th>family_status_id</th>\n",
       "      <th>gender</th>\n",
       "      <th>income_type</th>\n",
       "      <th>debt</th>\n",
       "      <th>total_income</th>\n",
       "      <th>purpose</th>\n",
       "    </tr>\n",
       "  </thead>\n",
       "  <tbody>\n",
       "    <tr>\n",
       "      <th>2849</th>\n",
       "      <td>0</td>\n",
       "      <td>2324</td>\n",
       "      <td>41.0</td>\n",
       "      <td>среднее</td>\n",
       "      <td>1</td>\n",
       "      <td>женат / замужем</td>\n",
       "      <td>0</td>\n",
       "      <td>F</td>\n",
       "      <td>сотрудник</td>\n",
       "      <td>0</td>\n",
       "      <td>142594.396847</td>\n",
       "      <td>покупка жилья для семьи</td>\n",
       "    </tr>\n",
       "    <tr>\n",
       "      <th>3290</th>\n",
       "      <td>0</td>\n",
       "      <td>15208</td>\n",
       "      <td>58.0</td>\n",
       "      <td>среднее</td>\n",
       "      <td>1</td>\n",
       "      <td>гражданский брак</td>\n",
       "      <td>1</td>\n",
       "      <td>F</td>\n",
       "      <td>пенсионер</td>\n",
       "      <td>0</td>\n",
       "      <td>118514.486412</td>\n",
       "      <td>сыграть свадьбу</td>\n",
       "    </tr>\n",
       "    <tr>\n",
       "      <th>4182</th>\n",
       "      <td>1</td>\n",
       "      <td>2324</td>\n",
       "      <td>34.0</td>\n",
       "      <td>высшее</td>\n",
       "      <td>0</td>\n",
       "      <td>гражданский брак</td>\n",
       "      <td>1</td>\n",
       "      <td>F</td>\n",
       "      <td>сотрудник</td>\n",
       "      <td>0</td>\n",
       "      <td>142594.396847</td>\n",
       "      <td>свадьба</td>\n",
       "    </tr>\n",
       "    <tr>\n",
       "      <th>4851</th>\n",
       "      <td>0</td>\n",
       "      <td>15208</td>\n",
       "      <td>60.0</td>\n",
       "      <td>среднее</td>\n",
       "      <td>1</td>\n",
       "      <td>гражданский брак</td>\n",
       "      <td>1</td>\n",
       "      <td>F</td>\n",
       "      <td>пенсионер</td>\n",
       "      <td>0</td>\n",
       "      <td>118514.486412</td>\n",
       "      <td>свадьба</td>\n",
       "    </tr>\n",
       "    <tr>\n",
       "      <th>5557</th>\n",
       "      <td>0</td>\n",
       "      <td>15208</td>\n",
       "      <td>58.0</td>\n",
       "      <td>среднее</td>\n",
       "      <td>1</td>\n",
       "      <td>гражданский брак</td>\n",
       "      <td>1</td>\n",
       "      <td>F</td>\n",
       "      <td>пенсионер</td>\n",
       "      <td>0</td>\n",
       "      <td>118514.486412</td>\n",
       "      <td>сыграть свадьбу</td>\n",
       "    </tr>\n",
       "    <tr>\n",
       "      <th>6312</th>\n",
       "      <td>0</td>\n",
       "      <td>2324</td>\n",
       "      <td>30.0</td>\n",
       "      <td>среднее</td>\n",
       "      <td>1</td>\n",
       "      <td>женат / замужем</td>\n",
       "      <td>0</td>\n",
       "      <td>M</td>\n",
       "      <td>сотрудник</td>\n",
       "      <td>0</td>\n",
       "      <td>142594.396847</td>\n",
       "      <td>строительство жилой недвижимости</td>\n",
       "    </tr>\n",
       "    <tr>\n",
       "      <th>7808</th>\n",
       "      <td>0</td>\n",
       "      <td>15208</td>\n",
       "      <td>57.0</td>\n",
       "      <td>среднее</td>\n",
       "      <td>1</td>\n",
       "      <td>гражданский брак</td>\n",
       "      <td>1</td>\n",
       "      <td>F</td>\n",
       "      <td>пенсионер</td>\n",
       "      <td>0</td>\n",
       "      <td>118514.486412</td>\n",
       "      <td>на проведение свадьбы</td>\n",
       "    </tr>\n",
       "    <tr>\n",
       "      <th>7921</th>\n",
       "      <td>0</td>\n",
       "      <td>15208</td>\n",
       "      <td>64.0</td>\n",
       "      <td>высшее</td>\n",
       "      <td>0</td>\n",
       "      <td>гражданский брак</td>\n",
       "      <td>1</td>\n",
       "      <td>F</td>\n",
       "      <td>пенсионер</td>\n",
       "      <td>0</td>\n",
       "      <td>118514.486412</td>\n",
       "      <td>на проведение свадьбы</td>\n",
       "    </tr>\n",
       "    <tr>\n",
       "      <th>7938</th>\n",
       "      <td>0</td>\n",
       "      <td>15208</td>\n",
       "      <td>71.0</td>\n",
       "      <td>среднее</td>\n",
       "      <td>1</td>\n",
       "      <td>гражданский брак</td>\n",
       "      <td>1</td>\n",
       "      <td>F</td>\n",
       "      <td>пенсионер</td>\n",
       "      <td>0</td>\n",
       "      <td>118514.486412</td>\n",
       "      <td>на проведение свадьбы</td>\n",
       "    </tr>\n",
       "    <tr>\n",
       "      <th>8583</th>\n",
       "      <td>0</td>\n",
       "      <td>15208</td>\n",
       "      <td>58.0</td>\n",
       "      <td>высшее</td>\n",
       "      <td>0</td>\n",
       "      <td>Не женат / не замужем</td>\n",
       "      <td>4</td>\n",
       "      <td>F</td>\n",
       "      <td>пенсионер</td>\n",
       "      <td>0</td>\n",
       "      <td>118514.486412</td>\n",
       "      <td>дополнительное образование</td>\n",
       "    </tr>\n",
       "  </tbody>\n",
       "</table>\n",
       "</div>"
      ],
      "text/plain": [
       "      children  days_employed  dob_years education  education_id  \\\n",
       "2849         0           2324       41.0   среднее             1   \n",
       "3290         0          15208       58.0   среднее             1   \n",
       "4182         1           2324       34.0    высшее             0   \n",
       "4851         0          15208       60.0   среднее             1   \n",
       "5557         0          15208       58.0   среднее             1   \n",
       "6312         0           2324       30.0   среднее             1   \n",
       "7808         0          15208       57.0   среднее             1   \n",
       "7921         0          15208       64.0    высшее             0   \n",
       "7938         0          15208       71.0   среднее             1   \n",
       "8583         0          15208       58.0    высшее             0   \n",
       "\n",
       "              family_status  family_status_id gender income_type  debt  \\\n",
       "2849        женат / замужем                 0      F   сотрудник     0   \n",
       "3290       гражданский брак                 1      F   пенсионер     0   \n",
       "4182       гражданский брак                 1      F   сотрудник     0   \n",
       "4851       гражданский брак                 1      F   пенсионер     0   \n",
       "5557       гражданский брак                 1      F   пенсионер     0   \n",
       "6312        женат / замужем                 0      M   сотрудник     0   \n",
       "7808       гражданский брак                 1      F   пенсионер     0   \n",
       "7921       гражданский брак                 1      F   пенсионер     0   \n",
       "7938       гражданский брак                 1      F   пенсионер     0   \n",
       "8583  Не женат / не замужем                 4      F   пенсионер     0   \n",
       "\n",
       "       total_income                           purpose  \n",
       "2849  142594.396847           покупка жилья для семьи  \n",
       "3290  118514.486412                   сыграть свадьбу  \n",
       "4182  142594.396847                           свадьба  \n",
       "4851  118514.486412                           свадьба  \n",
       "5557  118514.486412                   сыграть свадьбу  \n",
       "6312  142594.396847  строительство жилой недвижимости  \n",
       "7808  118514.486412             на проведение свадьбы  \n",
       "7921  118514.486412             на проведение свадьбы  \n",
       "7938  118514.486412             на проведение свадьбы  \n",
       "8583  118514.486412        дополнительное образование  "
      ]
     },
     "execution_count": 23,
     "metadata": {},
     "output_type": "execute_result"
    }
   ],
   "source": [
    "df[df.duplicated()].head(10)"
   ]
  },
  {
   "cell_type": "markdown",
   "metadata": {},
   "source": [
    "Удалим одинаковые строки:"
   ]
  },
  {
   "cell_type": "code",
   "execution_count": 24,
   "metadata": {},
   "outputs": [
    {
     "name": "stdout",
     "output_type": "stream",
     "text": [
      "Число дубликатов в массиве данных: 0\n"
     ]
    }
   ],
   "source": [
    "df = df.drop_duplicates().reset_index(drop = True)\n",
    "#проверим количество дубликатов после удаления\n",
    "print('Число дубликатов в массиве данных:', df.duplicated().sum())"
   ]
  },
  {
   "cell_type": "markdown",
   "metadata": {},
   "source": [
    "**Вывод**"
   ]
  },
  {
   "cell_type": "markdown",
   "metadata": {},
   "source": [
    "Дубликаты в данных удалены. Возможная причина возникновения дубликатов: неправильное соединение данных из разных источников."
   ]
  },
  {
   "cell_type": "markdown",
   "metadata": {},
   "source": [
    "### Лемматизация"
   ]
  },
  {
   "cell_type": "markdown",
   "metadata": {},
   "source": [
    "Найдем уникальные значения в столбце purpose, чтобы определить все указанные цели получения кредита:"
   ]
  },
  {
   "cell_type": "code",
   "execution_count": 25,
   "metadata": {},
   "outputs": [
    {
     "data": {
      "text/plain": [
       "array(['покупка жилья', 'приобретение автомобиля',\n",
       "       'дополнительное образование', 'сыграть свадьбу',\n",
       "       'операции с жильем', 'образование', 'на проведение свадьбы',\n",
       "       'покупка жилья для семьи', 'покупка недвижимости',\n",
       "       'покупка коммерческой недвижимости', 'покупка жилой недвижимости',\n",
       "       'строительство собственной недвижимости', 'недвижимость',\n",
       "       'строительство недвижимости', 'на покупку подержанного автомобиля',\n",
       "       'на покупку своего автомобиля',\n",
       "       'операции с коммерческой недвижимостью',\n",
       "       'строительство жилой недвижимости', 'жилье',\n",
       "       'операции со своей недвижимостью', 'автомобили',\n",
       "       'заняться образованием', 'сделка с подержанным автомобилем',\n",
       "       'получение образования', 'автомобиль', 'свадьба',\n",
       "       'получение дополнительного образования', 'покупка своего жилья',\n",
       "       'операции с недвижимостью', 'получение высшего образования',\n",
       "       'свой автомобиль', 'сделка с автомобилем',\n",
       "       'профильное образование', 'высшее образование',\n",
       "       'покупка жилья для сдачи', 'на покупку автомобиля', 'ремонт жилью',\n",
       "       'заняться высшим образованием'], dtype=object)"
      ]
     },
     "execution_count": 25,
     "metadata": {},
     "output_type": "execute_result"
    }
   ],
   "source": [
    "df['purpose'].unique()"
   ]
  },
  {
   "cell_type": "markdown",
   "metadata": {},
   "source": [
    "Из полученного списка значений видно, что одни и те же цели сформулированы по-разному, например, необходимость оплаты свадьбы сформулирована тремя способами: \"свадьба\", \"на проведение свадьбы\", \"сыграть свадьбу\"."
   ]
  },
  {
   "cell_type": "markdown",
   "metadata": {},
   "source": [
    "Проведем лемматизацию целей кредита и посчитаем частоту появления слов:"
   ]
  },
  {
   "cell_type": "code",
   "execution_count": 26,
   "metadata": {},
   "outputs": [
    {
     "name": "stdout",
     "output_type": "stream",
     "text": [
      "Counter({' ': 96, 'покупка': 10, 'недвижимость': 10, 'автомобиль': 9, 'образование': 9, 'жилье': 7, 'с': 5, 'операция': 4, 'на': 4, 'свой': 4, 'свадьба': 3, 'строительство': 3, 'получение': 3, 'высокий': 3, 'дополнительный': 2, 'для': 2, 'коммерческий': 2, 'жилой': 2, 'подержать': 2, 'заниматься': 2, 'сделка': 2, 'приобретение': 1, 'сыграть': 1, 'проведение': 1, 'семья': 1, 'собственный': 1, 'со': 1, 'профильный': 1, 'сдача': 1, 'ремонт': 1, '\\n': 1})\n"
     ]
    }
   ],
   "source": [
    "m = Mystem() \n",
    "text = df['purpose'].unique()\n",
    "separator = ' '\n",
    "text = separator.join(text)\n",
    "lemmas = m.lemmatize(text)\n",
    "print(Counter(lemmas))"
   ]
  },
  {
   "cell_type": "markdown",
   "metadata": {},
   "source": [
    "Среди всех возможных целей получения кредита можно выделить 4 основные категории: \"недвижимость\", \"автомобиль\", \"образование\", \"свадьба\"."
   ]
  },
  {
   "cell_type": "markdown",
   "metadata": {},
   "source": [
    "Пропишем функцию, которая будет лематизировать последовательно каждую ячейку столбца purpose и проверять, какая из категорий обнаруживается в лемматизированном варианте:"
   ]
  },
  {
   "cell_type": "code",
   "execution_count": 27,
   "metadata": {},
   "outputs": [
    {
     "data": {
      "text/html": [
       "<div>\n",
       "<style scoped>\n",
       "    .dataframe tbody tr th:only-of-type {\n",
       "        vertical-align: middle;\n",
       "    }\n",
       "\n",
       "    .dataframe tbody tr th {\n",
       "        vertical-align: top;\n",
       "    }\n",
       "\n",
       "    .dataframe thead th {\n",
       "        text-align: right;\n",
       "    }\n",
       "</style>\n",
       "<table border=\"1\" class=\"dataframe\">\n",
       "  <thead>\n",
       "    <tr style=\"text-align: right;\">\n",
       "      <th></th>\n",
       "      <th>children</th>\n",
       "      <th>days_employed</th>\n",
       "      <th>dob_years</th>\n",
       "      <th>education</th>\n",
       "      <th>education_id</th>\n",
       "      <th>family_status</th>\n",
       "      <th>family_status_id</th>\n",
       "      <th>gender</th>\n",
       "      <th>income_type</th>\n",
       "      <th>debt</th>\n",
       "      <th>total_income</th>\n",
       "      <th>purpose</th>\n",
       "      <th>lemmas_purposes</th>\n",
       "    </tr>\n",
       "  </thead>\n",
       "  <tbody>\n",
       "    <tr>\n",
       "      <th>0</th>\n",
       "      <td>1</td>\n",
       "      <td>8437</td>\n",
       "      <td>42.0</td>\n",
       "      <td>высшее</td>\n",
       "      <td>0</td>\n",
       "      <td>женат / замужем</td>\n",
       "      <td>0</td>\n",
       "      <td>F</td>\n",
       "      <td>сотрудник</td>\n",
       "      <td>0</td>\n",
       "      <td>253875.639453</td>\n",
       "      <td>покупка жилья</td>\n",
       "      <td>недвижимость</td>\n",
       "    </tr>\n",
       "    <tr>\n",
       "      <th>1</th>\n",
       "      <td>1</td>\n",
       "      <td>4024</td>\n",
       "      <td>36.0</td>\n",
       "      <td>среднее</td>\n",
       "      <td>1</td>\n",
       "      <td>женат / замужем</td>\n",
       "      <td>0</td>\n",
       "      <td>F</td>\n",
       "      <td>сотрудник</td>\n",
       "      <td>0</td>\n",
       "      <td>112080.014102</td>\n",
       "      <td>приобретение автомобиля</td>\n",
       "      <td>автомобиль</td>\n",
       "    </tr>\n",
       "    <tr>\n",
       "      <th>2</th>\n",
       "      <td>0</td>\n",
       "      <td>5623</td>\n",
       "      <td>33.0</td>\n",
       "      <td>среднее</td>\n",
       "      <td>1</td>\n",
       "      <td>женат / замужем</td>\n",
       "      <td>0</td>\n",
       "      <td>M</td>\n",
       "      <td>сотрудник</td>\n",
       "      <td>0</td>\n",
       "      <td>145885.952297</td>\n",
       "      <td>покупка жилья</td>\n",
       "      <td>недвижимость</td>\n",
       "    </tr>\n",
       "    <tr>\n",
       "      <th>3</th>\n",
       "      <td>3</td>\n",
       "      <td>4124</td>\n",
       "      <td>32.0</td>\n",
       "      <td>среднее</td>\n",
       "      <td>1</td>\n",
       "      <td>женат / замужем</td>\n",
       "      <td>0</td>\n",
       "      <td>M</td>\n",
       "      <td>сотрудник</td>\n",
       "      <td>0</td>\n",
       "      <td>267628.550329</td>\n",
       "      <td>дополнительное образование</td>\n",
       "      <td>образование</td>\n",
       "    </tr>\n",
       "    <tr>\n",
       "      <th>4</th>\n",
       "      <td>0</td>\n",
       "      <td>14177</td>\n",
       "      <td>53.0</td>\n",
       "      <td>среднее</td>\n",
       "      <td>1</td>\n",
       "      <td>гражданский брак</td>\n",
       "      <td>1</td>\n",
       "      <td>F</td>\n",
       "      <td>пенсионер</td>\n",
       "      <td>0</td>\n",
       "      <td>158616.077870</td>\n",
       "      <td>сыграть свадьбу</td>\n",
       "      <td>свадьба</td>\n",
       "    </tr>\n",
       "    <tr>\n",
       "      <th>5</th>\n",
       "      <td>0</td>\n",
       "      <td>926</td>\n",
       "      <td>27.0</td>\n",
       "      <td>высшее</td>\n",
       "      <td>0</td>\n",
       "      <td>гражданский брак</td>\n",
       "      <td>1</td>\n",
       "      <td>M</td>\n",
       "      <td>компаньон</td>\n",
       "      <td>0</td>\n",
       "      <td>255763.565419</td>\n",
       "      <td>покупка жилья</td>\n",
       "      <td>недвижимость</td>\n",
       "    </tr>\n",
       "    <tr>\n",
       "      <th>6</th>\n",
       "      <td>0</td>\n",
       "      <td>2879</td>\n",
       "      <td>43.0</td>\n",
       "      <td>высшее</td>\n",
       "      <td>0</td>\n",
       "      <td>женат / замужем</td>\n",
       "      <td>0</td>\n",
       "      <td>F</td>\n",
       "      <td>компаньон</td>\n",
       "      <td>0</td>\n",
       "      <td>240525.971920</td>\n",
       "      <td>операции с жильем</td>\n",
       "      <td>недвижимость</td>\n",
       "    </tr>\n",
       "    <tr>\n",
       "      <th>7</th>\n",
       "      <td>0</td>\n",
       "      <td>152</td>\n",
       "      <td>50.0</td>\n",
       "      <td>среднее</td>\n",
       "      <td>1</td>\n",
       "      <td>женат / замужем</td>\n",
       "      <td>0</td>\n",
       "      <td>M</td>\n",
       "      <td>сотрудник</td>\n",
       "      <td>0</td>\n",
       "      <td>135823.934197</td>\n",
       "      <td>образование</td>\n",
       "      <td>образование</td>\n",
       "    </tr>\n",
       "    <tr>\n",
       "      <th>8</th>\n",
       "      <td>2</td>\n",
       "      <td>6929</td>\n",
       "      <td>35.0</td>\n",
       "      <td>высшее</td>\n",
       "      <td>0</td>\n",
       "      <td>гражданский брак</td>\n",
       "      <td>1</td>\n",
       "      <td>F</td>\n",
       "      <td>сотрудник</td>\n",
       "      <td>0</td>\n",
       "      <td>95856.832424</td>\n",
       "      <td>на проведение свадьбы</td>\n",
       "      <td>свадьба</td>\n",
       "    </tr>\n",
       "    <tr>\n",
       "      <th>9</th>\n",
       "      <td>0</td>\n",
       "      <td>2188</td>\n",
       "      <td>41.0</td>\n",
       "      <td>среднее</td>\n",
       "      <td>1</td>\n",
       "      <td>женат / замужем</td>\n",
       "      <td>0</td>\n",
       "      <td>M</td>\n",
       "      <td>сотрудник</td>\n",
       "      <td>0</td>\n",
       "      <td>144425.938277</td>\n",
       "      <td>покупка жилья для семьи</td>\n",
       "      <td>недвижимость</td>\n",
       "    </tr>\n",
       "  </tbody>\n",
       "</table>\n",
       "</div>"
      ],
      "text/plain": [
       "   children  days_employed  dob_years education  education_id  \\\n",
       "0         1           8437       42.0    высшее             0   \n",
       "1         1           4024       36.0   среднее             1   \n",
       "2         0           5623       33.0   среднее             1   \n",
       "3         3           4124       32.0   среднее             1   \n",
       "4         0          14177       53.0   среднее             1   \n",
       "5         0            926       27.0    высшее             0   \n",
       "6         0           2879       43.0    высшее             0   \n",
       "7         0            152       50.0   среднее             1   \n",
       "8         2           6929       35.0    высшее             0   \n",
       "9         0           2188       41.0   среднее             1   \n",
       "\n",
       "      family_status  family_status_id gender income_type  debt   total_income  \\\n",
       "0   женат / замужем                 0      F   сотрудник     0  253875.639453   \n",
       "1   женат / замужем                 0      F   сотрудник     0  112080.014102   \n",
       "2   женат / замужем                 0      M   сотрудник     0  145885.952297   \n",
       "3   женат / замужем                 0      M   сотрудник     0  267628.550329   \n",
       "4  гражданский брак                 1      F   пенсионер     0  158616.077870   \n",
       "5  гражданский брак                 1      M   компаньон     0  255763.565419   \n",
       "6   женат / замужем                 0      F   компаньон     0  240525.971920   \n",
       "7   женат / замужем                 0      M   сотрудник     0  135823.934197   \n",
       "8  гражданский брак                 1      F   сотрудник     0   95856.832424   \n",
       "9   женат / замужем                 0      M   сотрудник     0  144425.938277   \n",
       "\n",
       "                      purpose lemmas_purposes  \n",
       "0               покупка жилья    недвижимость  \n",
       "1     приобретение автомобиля      автомобиль  \n",
       "2               покупка жилья    недвижимость  \n",
       "3  дополнительное образование     образование  \n",
       "4             сыграть свадьбу         свадьба  \n",
       "5               покупка жилья    недвижимость  \n",
       "6           операции с жильем    недвижимость  \n",
       "7                 образование     образование  \n",
       "8       на проведение свадьбы         свадьба  \n",
       "9     покупка жилья для семьи    недвижимость  "
      ]
     },
     "execution_count": 27,
     "metadata": {},
     "output_type": "execute_result"
    }
   ],
   "source": [
    "def purpose_lemmas(row):\n",
    "    purpose = row['purpose']\n",
    "    lemmas_purpose = m.lemmatize(purpose)\n",
    "    if ('недвижимость' in lemmas_purpose or 'жилье' in lemmas_purpose or 'строительство' in lemmas_purpose):\n",
    "        return 'недвижимость'\n",
    "    elif 'автомобиль' in lemmas_purpose:\n",
    "        return 'автомобиль'\n",
    "    elif 'образование' in lemmas_purpose:\n",
    "        return 'образование'\n",
    "    elif 'свадьба' in lemmas_purpose:\n",
    "        return 'свадьба'\n",
    "    else:\n",
    "        return 'цель не определена'\n",
    "#добавим стоблец с указанием цели получения кредита:\n",
    "df['lemmas_purposes'] = df.apply(purpose_lemmas, axis = 1)\n",
    "df.head(10)"
   ]
  },
  {
   "cell_type": "markdown",
   "metadata": {},
   "source": [
    "**Вывод**"
   ]
  },
  {
   "cell_type": "markdown",
   "metadata": {},
   "source": [
    "Из всех указанных в массиве данных целей получения кредита были выделены ключевые слова. Это упрощает дальнейший анализ и сохраняет основной смысл цели получения кредита."
   ]
  },
  {
   "cell_type": "markdown",
   "metadata": {},
   "source": [
    "### Категоризация данных"
   ]
  },
  {
   "cell_type": "code",
   "execution_count": 28,
   "metadata": {},
   "outputs": [
    {
     "data": {
      "text/plain": [
       "недвижимость    10810\n",
       "автомобиль       4306\n",
       "образование      4013\n",
       "свадьба          2324\n",
       "Name: lemmas_purposes, dtype: int64"
      ]
     },
     "execution_count": 28,
     "metadata": {},
     "output_type": "execute_result"
    }
   ],
   "source": [
    "#подсчет категорий целей кредита\n",
    "df['lemmas_purposes'].value_counts()"
   ]
  },
  {
   "cell_type": "code",
   "execution_count": 29,
   "metadata": {},
   "outputs": [
    {
     "name": "stdout",
     "output_type": "stream",
     "text": [
      "Доля недвижимости как цели кредита: 50.39%\n"
     ]
    }
   ],
   "source": [
    "#подсчет доли\n",
    "print('Доля недвижимости как цели кредита: {:.2%}'.format(10811 / len(df)))"
   ]
  },
  {
   "cell_type": "markdown",
   "metadata": {},
   "source": [
    "Операции с недвижимостью (приобретение жилья, коммерческой недвижимости, строительства) являются целью получения кредита у чуть более половины клиентов. "
   ]
  },
  {
   "cell_type": "code",
   "execution_count": 30,
   "metadata": {},
   "outputs": [
    {
     "data": {
      "text/plain": [
       "сотрудник          11084\n",
       "компаньон           5077\n",
       "пенсионер           3829\n",
       "госслужащий         1457\n",
       "безработный            2\n",
       "предприниматель        2\n",
       "студент                1\n",
       "в декрете              1\n",
       "Name: income_type, dtype: int64"
      ]
     },
     "execution_count": 30,
     "metadata": {},
     "output_type": "execute_result"
    }
   ],
   "source": [
    "#подсчет категорий вида занятости\n",
    "df['income_type'].value_counts()"
   ]
  },
  {
   "cell_type": "markdown",
   "metadata": {},
   "source": [
    "Почти все клиенты - трудящиеся."
   ]
  },
  {
   "cell_type": "code",
   "execution_count": 31,
   "metadata": {},
   "outputs": [
    {
     "data": {
      "text/html": [
       "<div>\n",
       "<style scoped>\n",
       "    .dataframe tbody tr th:only-of-type {\n",
       "        vertical-align: middle;\n",
       "    }\n",
       "\n",
       "    .dataframe tbody tr th {\n",
       "        vertical-align: top;\n",
       "    }\n",
       "\n",
       "    .dataframe thead th {\n",
       "        text-align: right;\n",
       "    }\n",
       "</style>\n",
       "<table border=\"1\" class=\"dataframe\">\n",
       "  <thead>\n",
       "    <tr style=\"text-align: right;\">\n",
       "      <th></th>\n",
       "      <th>education</th>\n",
       "    </tr>\n",
       "    <tr>\n",
       "      <th>education_id</th>\n",
       "      <th></th>\n",
       "    </tr>\n",
       "  </thead>\n",
       "  <tbody>\n",
       "    <tr>\n",
       "      <th>0</th>\n",
       "      <td>высшее</td>\n",
       "    </tr>\n",
       "    <tr>\n",
       "      <th>1</th>\n",
       "      <td>среднее</td>\n",
       "    </tr>\n",
       "    <tr>\n",
       "      <th>2</th>\n",
       "      <td>неоконченное высшее</td>\n",
       "    </tr>\n",
       "    <tr>\n",
       "      <th>3</th>\n",
       "      <td>начальное</td>\n",
       "    </tr>\n",
       "    <tr>\n",
       "      <th>4</th>\n",
       "      <td>ученая степень</td>\n",
       "    </tr>\n",
       "  </tbody>\n",
       "</table>\n",
       "</div>"
      ],
      "text/plain": [
       "                        education\n",
       "education_id                     \n",
       "0                          высшее\n",
       "1                         среднее\n",
       "2             неоконченное высшее\n",
       "3                       начальное\n",
       "4                  ученая степень"
      ]
     },
     "execution_count": 31,
     "metadata": {},
     "output_type": "execute_result"
    }
   ],
   "source": [
    "#определение всех категорий уровня образования\n",
    "df[['education_id', 'education']].drop_duplicates().set_index('education_id')"
   ]
  },
  {
   "cell_type": "code",
   "execution_count": 32,
   "metadata": {},
   "outputs": [
    {
     "data": {
      "text/html": [
       "<div>\n",
       "<style scoped>\n",
       "    .dataframe tbody tr th:only-of-type {\n",
       "        vertical-align: middle;\n",
       "    }\n",
       "\n",
       "    .dataframe tbody tr th {\n",
       "        vertical-align: top;\n",
       "    }\n",
       "\n",
       "    .dataframe thead th {\n",
       "        text-align: right;\n",
       "    }\n",
       "</style>\n",
       "<table border=\"1\" class=\"dataframe\">\n",
       "  <thead>\n",
       "    <tr style=\"text-align: right;\">\n",
       "      <th></th>\n",
       "      <th>family_status</th>\n",
       "    </tr>\n",
       "    <tr>\n",
       "      <th>family_status_id</th>\n",
       "      <th></th>\n",
       "    </tr>\n",
       "  </thead>\n",
       "  <tbody>\n",
       "    <tr>\n",
       "      <th>0</th>\n",
       "      <td>женат / замужем</td>\n",
       "    </tr>\n",
       "    <tr>\n",
       "      <th>1</th>\n",
       "      <td>гражданский брак</td>\n",
       "    </tr>\n",
       "    <tr>\n",
       "      <th>2</th>\n",
       "      <td>вдовец / вдова</td>\n",
       "    </tr>\n",
       "    <tr>\n",
       "      <th>3</th>\n",
       "      <td>в разводе</td>\n",
       "    </tr>\n",
       "    <tr>\n",
       "      <th>4</th>\n",
       "      <td>Не женат / не замужем</td>\n",
       "    </tr>\n",
       "  </tbody>\n",
       "</table>\n",
       "</div>"
      ],
      "text/plain": [
       "                          family_status\n",
       "family_status_id                       \n",
       "0                       женат / замужем\n",
       "1                      гражданский брак\n",
       "2                        вдовец / вдова\n",
       "3                             в разводе\n",
       "4                 Не женат / не замужем"
      ]
     },
     "execution_count": 32,
     "metadata": {},
     "output_type": "execute_result"
    }
   ],
   "source": [
    "#определение всех категорий семейного положения\n",
    "df[['family_status_id', 'family_status']].drop_duplicates().set_index('family_status_id')"
   ]
  },
  {
   "cell_type": "markdown",
   "metadata": {},
   "source": [
    "Разделим клиентов на категории в зависимости от уровня дохода (не будем применять здесь понятия \"низкий\", \"средний\", и \"выше среднего\", т.к. они отличаются в зависимости от региона):"
   ]
  },
  {
   "cell_type": "code",
   "execution_count": 33,
   "metadata": {},
   "outputs": [
    {
     "name": "stdout",
     "output_type": "stream",
     "text": [
      "Минимальный доход: 20667.26379327158\n"
     ]
    }
   ],
   "source": [
    "print('Минимальный доход:', df['total_income'].min())"
   ]
  },
  {
   "cell_type": "code",
   "execution_count": 34,
   "metadata": {},
   "outputs": [
    {
     "name": "stdout",
     "output_type": "stream",
     "text": [
      "Максимальный доход: 2265604.028722744\n"
     ]
    }
   ],
   "source": [
    "print('Максимальный доход:', df['total_income'].max())"
   ]
  },
  {
   "cell_type": "markdown",
   "metadata": {},
   "source": [
    "Напишем функцию для категоризации по уровню дохода:"
   ]
  },
  {
   "cell_type": "code",
   "execution_count": 35,
   "metadata": {
    "scrolled": true
   },
   "outputs": [
    {
     "data": {
      "text/html": [
       "<div>\n",
       "<style scoped>\n",
       "    .dataframe tbody tr th:only-of-type {\n",
       "        vertical-align: middle;\n",
       "    }\n",
       "\n",
       "    .dataframe tbody tr th {\n",
       "        vertical-align: top;\n",
       "    }\n",
       "\n",
       "    .dataframe thead th {\n",
       "        text-align: right;\n",
       "    }\n",
       "</style>\n",
       "<table border=\"1\" class=\"dataframe\">\n",
       "  <thead>\n",
       "    <tr style=\"text-align: right;\">\n",
       "      <th></th>\n",
       "      <th>total_income</th>\n",
       "      <th>income_group</th>\n",
       "    </tr>\n",
       "  </thead>\n",
       "  <tbody>\n",
       "    <tr>\n",
       "      <th>0</th>\n",
       "      <td>253875.639453</td>\n",
       "      <td>Доход &gt; 200</td>\n",
       "    </tr>\n",
       "    <tr>\n",
       "      <th>1</th>\n",
       "      <td>112080.014102</td>\n",
       "      <td>Доход 100-200</td>\n",
       "    </tr>\n",
       "    <tr>\n",
       "      <th>2</th>\n",
       "      <td>145885.952297</td>\n",
       "      <td>Доход 100-200</td>\n",
       "    </tr>\n",
       "    <tr>\n",
       "      <th>3</th>\n",
       "      <td>267628.550329</td>\n",
       "      <td>Доход &gt; 200</td>\n",
       "    </tr>\n",
       "    <tr>\n",
       "      <th>4</th>\n",
       "      <td>158616.077870</td>\n",
       "      <td>Доход 100-200</td>\n",
       "    </tr>\n",
       "  </tbody>\n",
       "</table>\n",
       "</div>"
      ],
      "text/plain": [
       "    total_income   income_group\n",
       "0  253875.639453    Доход > 200\n",
       "1  112080.014102  Доход 100-200\n",
       "2  145885.952297  Доход 100-200\n",
       "3  267628.550329    Доход > 200\n",
       "4  158616.077870  Доход 100-200"
      ]
     },
     "execution_count": 35,
     "metadata": {},
     "output_type": "execute_result"
    }
   ],
   "source": [
    "def income_group(row):\n",
    "    income = row['total_income']\n",
    "    if income <= 50000:\n",
    "        return 'Доход <50'\n",
    "    if income <= 100000 and income > 50000:\n",
    "        return 'Доход 50-100'\n",
    "    if income <= 200000 and income > 100000:\n",
    "        return 'Доход 100-200'\n",
    "    else:\n",
    "        return 'Доход > 200'\n",
    "df['income_group'] = df.apply(income_group, axis=1)\n",
    "income_only = df[['total_income', 'income_group']]#выведем только столбцы с доходом и группой дохода\n",
    "income_only.head()"
   ]
  },
  {
   "cell_type": "markdown",
   "metadata": {},
   "source": [
    "**Вывод**"
   ]
  },
  {
   "cell_type": "markdown",
   "metadata": {},
   "source": [
    "Проведена категоризация по целям, типу занятости, семейному положению, уровню образования и по доходу."
   ]
  },
  {
   "cell_type": "markdown",
   "metadata": {},
   "source": [
    "## Исследование зависимости между семейным положением, количеством детей, уровнем дохода и возвратом кредита в срок"
   ]
  },
  {
   "cell_type": "markdown",
   "metadata": {},
   "source": [
    "- Есть ли зависимость между наличием детей и возвратом кредита в срок?"
   ]
  },
  {
   "cell_type": "code",
   "execution_count": 36,
   "metadata": {},
   "outputs": [
    {
     "data": {
      "text/html": [
       "<div>\n",
       "<style scoped>\n",
       "    .dataframe tbody tr th:only-of-type {\n",
       "        vertical-align: middle;\n",
       "    }\n",
       "\n",
       "    .dataframe tbody tr th {\n",
       "        vertical-align: top;\n",
       "    }\n",
       "\n",
       "    .dataframe thead th {\n",
       "        text-align: right;\n",
       "    }\n",
       "</style>\n",
       "<table border=\"1\" class=\"dataframe\">\n",
       "  <thead>\n",
       "    <tr style=\"text-align: right;\">\n",
       "      <th></th>\n",
       "      <th>has_debt</th>\n",
       "      <th>total</th>\n",
       "      <th>%</th>\n",
       "    </tr>\n",
       "    <tr>\n",
       "      <th>children</th>\n",
       "      <th></th>\n",
       "      <th></th>\n",
       "      <th></th>\n",
       "    </tr>\n",
       "  </thead>\n",
       "  <tbody>\n",
       "    <tr>\n",
       "      <th>4</th>\n",
       "      <td>4</td>\n",
       "      <td>41</td>\n",
       "      <td>9.756098</td>\n",
       "    </tr>\n",
       "    <tr>\n",
       "      <th>2</th>\n",
       "      <td>202</td>\n",
       "      <td>2128</td>\n",
       "      <td>9.492481</td>\n",
       "    </tr>\n",
       "    <tr>\n",
       "      <th>1</th>\n",
       "      <td>445</td>\n",
       "      <td>4855</td>\n",
       "      <td>9.165808</td>\n",
       "    </tr>\n",
       "    <tr>\n",
       "      <th>3</th>\n",
       "      <td>27</td>\n",
       "      <td>330</td>\n",
       "      <td>8.181818</td>\n",
       "    </tr>\n",
       "    <tr>\n",
       "      <th>0</th>\n",
       "      <td>1063</td>\n",
       "      <td>14090</td>\n",
       "      <td>7.544358</td>\n",
       "    </tr>\n",
       "    <tr>\n",
       "      <th>5</th>\n",
       "      <td>0</td>\n",
       "      <td>9</td>\n",
       "      <td>0.000000</td>\n",
       "    </tr>\n",
       "  </tbody>\n",
       "</table>\n",
       "</div>"
      ],
      "text/plain": [
       "          has_debt  total         %\n",
       "children                           \n",
       "4                4     41  9.756098\n",
       "2              202   2128  9.492481\n",
       "1              445   4855  9.165808\n",
       "3               27    330  8.181818\n",
       "0             1063  14090  7.544358\n",
       "5                0      9  0.000000"
      ]
     },
     "execution_count": 36,
     "metadata": {},
     "output_type": "execute_result"
    }
   ],
   "source": [
    "# делаем сводную таблицу. Группируем данные по столбцу children. \n",
    "pivot_children = df.pivot_table(index = ['children'], values = 'debt', aggfunc = ['sum', 'count', 'mean'])\n",
    "# отражаем процент\n",
    "pivot_children['mean'] = pivot_children['mean'] * 100\n",
    "# именуем столбцы\n",
    "pivot_children.columns = ['has_debt', 'total', '%']\n",
    "# сортируем таблицу по убыванию\n",
    "pivot_children = pivot_children.sort_values(by = '%', ascending = False)\n",
    "# выводим\n",
    "pivot_children"
   ]
  },
  {
   "cell_type": "markdown",
   "metadata": {},
   "source": [
    "**Вывод**"
   ]
  },
  {
   "cell_type": "markdown",
   "metadata": {},
   "source": [
    " Наличие детей увеличивает вероятность задолженности по кредиту в сравнении с отсутствием детей, т.к. налагает повышенные финансовые обязательства и снижает платежеспособность. В сложной ситуации родители скорее потратят деньги на нужды детей, чем на своевременную выплату банку. А также при рождении именно третьего ребенка семья получает статус многодетной и приобретает право на льготы, которые положительно сказываются на финансовом положении. При увеличении количества детей, возможно, эффект от льгот уже не тот."
   ]
  },
  {
   "cell_type": "markdown",
   "metadata": {},
   "source": [
    "- Есть ли зависимость между семейным положением и возвратом кредита в срок?"
   ]
  },
  {
   "cell_type": "code",
   "execution_count": 37,
   "metadata": {},
   "outputs": [
    {
     "data": {
      "text/html": [
       "<div>\n",
       "<style scoped>\n",
       "    .dataframe tbody tr th:only-of-type {\n",
       "        vertical-align: middle;\n",
       "    }\n",
       "\n",
       "    .dataframe tbody tr th {\n",
       "        vertical-align: top;\n",
       "    }\n",
       "\n",
       "    .dataframe thead th {\n",
       "        text-align: right;\n",
       "    }\n",
       "</style>\n",
       "<table border=\"1\" class=\"dataframe\">\n",
       "  <thead>\n",
       "    <tr style=\"text-align: right;\">\n",
       "      <th></th>\n",
       "      <th>has_debt</th>\n",
       "      <th>total</th>\n",
       "      <th>%</th>\n",
       "    </tr>\n",
       "    <tr>\n",
       "      <th>family_status</th>\n",
       "      <th></th>\n",
       "      <th></th>\n",
       "      <th></th>\n",
       "    </tr>\n",
       "  </thead>\n",
       "  <tbody>\n",
       "    <tr>\n",
       "      <th>Не женат / не замужем</th>\n",
       "      <td>274</td>\n",
       "      <td>2810</td>\n",
       "      <td>9.750890</td>\n",
       "    </tr>\n",
       "    <tr>\n",
       "      <th>гражданский брак</th>\n",
       "      <td>388</td>\n",
       "      <td>4150</td>\n",
       "      <td>9.349398</td>\n",
       "    </tr>\n",
       "    <tr>\n",
       "      <th>женат / замужем</th>\n",
       "      <td>931</td>\n",
       "      <td>12339</td>\n",
       "      <td>7.545182</td>\n",
       "    </tr>\n",
       "    <tr>\n",
       "      <th>в разводе</th>\n",
       "      <td>85</td>\n",
       "      <td>1195</td>\n",
       "      <td>7.112971</td>\n",
       "    </tr>\n",
       "    <tr>\n",
       "      <th>вдовец / вдова</th>\n",
       "      <td>63</td>\n",
       "      <td>959</td>\n",
       "      <td>6.569343</td>\n",
       "    </tr>\n",
       "  </tbody>\n",
       "</table>\n",
       "</div>"
      ],
      "text/plain": [
       "                       has_debt  total         %\n",
       "family_status                                   \n",
       "Не женат / не замужем       274   2810  9.750890\n",
       "гражданский брак            388   4150  9.349398\n",
       "женат / замужем             931  12339  7.545182\n",
       "в разводе                    85   1195  7.112971\n",
       "вдовец / вдова               63    959  6.569343"
      ]
     },
     "execution_count": 37,
     "metadata": {},
     "output_type": "execute_result"
    }
   ],
   "source": [
    "pivot_family_status = df.pivot_table(index = ['family_status'], values = 'debt', aggfunc = ['sum', 'count', 'mean'])\n",
    "pivot_family_status['mean'] = pivot_family_status['mean'] * 100\n",
    "pivot_family_status.columns = ['has_debt', 'total', '%']\n",
    "pivot_family_status = pivot_family_status.sort_values(by = '%', ascending = False)\n",
    "pivot_family_status"
   ]
  },
  {
   "cell_type": "markdown",
   "metadata": {},
   "source": [
    "Представим данные на гистограмме:"
   ]
  },
  {
   "cell_type": "code",
   "execution_count": 38,
   "metadata": {},
   "outputs": [
    {
     "data": {
      "image/png": "[encoded data removed]",
      "text/plain": [
       "<Figure size 432x288 with 1 Axes>"
      ]
     },
     "metadata": {
      "needs_background": "light"
     },
     "output_type": "display_data"
    }
   ],
   "source": [
    "pivot_family_status['%'].plot.bar(rot=30).set_title('Зависимость между семейным положением и возвратом кредита в срок');"
   ]
  },
  {
   "cell_type": "markdown",
   "metadata": {},
   "source": [
    "**Вывод**"
   ]
  },
  {
   "cell_type": "markdown",
   "metadata": {},
   "source": [
    "Вероятность задолженности по кредиту выше у холостых/незамужних и людей в гражданском браке. Клиенты, состоящие или состоявшие в браке, являются более надежными в плане платежеспособности."
   ]
  },
  {
   "cell_type": "markdown",
   "metadata": {},
   "source": [
    "- Есть ли зависимость между уровнем дохода и возвратом кредита в срок?"
   ]
  },
  {
   "cell_type": "code",
   "execution_count": 39,
   "metadata": {},
   "outputs": [
    {
     "data": {
      "text/html": [
       "<div>\n",
       "<style scoped>\n",
       "    .dataframe tbody tr th:only-of-type {\n",
       "        vertical-align: middle;\n",
       "    }\n",
       "\n",
       "    .dataframe tbody tr th {\n",
       "        vertical-align: top;\n",
       "    }\n",
       "\n",
       "    .dataframe thead th {\n",
       "        text-align: right;\n",
       "    }\n",
       "</style>\n",
       "<table border=\"1\" class=\"dataframe\">\n",
       "  <thead>\n",
       "    <tr style=\"text-align: right;\">\n",
       "      <th></th>\n",
       "      <th>has_debt</th>\n",
       "      <th>total</th>\n",
       "      <th>%</th>\n",
       "    </tr>\n",
       "    <tr>\n",
       "      <th>income_group</th>\n",
       "      <th></th>\n",
       "      <th></th>\n",
       "      <th></th>\n",
       "    </tr>\n",
       "  </thead>\n",
       "  <tbody>\n",
       "    <tr>\n",
       "      <th>Доход 100-200</th>\n",
       "      <td>1029</td>\n",
       "      <td>11924</td>\n",
       "      <td>8.629654</td>\n",
       "    </tr>\n",
       "    <tr>\n",
       "      <th>Доход 50-100</th>\n",
       "      <td>331</td>\n",
       "      <td>4091</td>\n",
       "      <td>8.090931</td>\n",
       "    </tr>\n",
       "    <tr>\n",
       "      <th>Доход &gt; 200</th>\n",
       "      <td>358</td>\n",
       "      <td>5066</td>\n",
       "      <td>7.066719</td>\n",
       "    </tr>\n",
       "    <tr>\n",
       "      <th>Доход &lt;50</th>\n",
       "      <td>23</td>\n",
       "      <td>372</td>\n",
       "      <td>6.182796</td>\n",
       "    </tr>\n",
       "  </tbody>\n",
       "</table>\n",
       "</div>"
      ],
      "text/plain": [
       "               has_debt  total         %\n",
       "income_group                            \n",
       "Доход 100-200      1029  11924  8.629654\n",
       "Доход 50-100        331   4091  8.090931\n",
       "Доход > 200         358   5066  7.066719\n",
       "Доход <50            23    372  6.182796"
      ]
     },
     "execution_count": 39,
     "metadata": {},
     "output_type": "execute_result"
    }
   ],
   "source": [
    "pivot_income_group = df.pivot_table(index = ['income_group'], values = 'debt', aggfunc = ['sum', 'count', 'mean'])\n",
    "pivot_income_group['mean'] = pivot_income_group['mean'] * 100\n",
    "pivot_income_group.columns = ['has_debt', 'total', '%']\n",
    "pivot_income_group = pivot_income_group.sort_values(by = '%', ascending = False)\n",
    "pivot_income_group"
   ]
  },
  {
   "cell_type": "code",
   "execution_count": 40,
   "metadata": {},
   "outputs": [
    {
     "data": {
      "image/png": "[encoded data removed]",
      "text/plain": [
       "<Figure size 432x288 with 1 Axes>"
      ]
     },
     "metadata": {
      "needs_background": "light"
     },
     "output_type": "display_data"
    }
   ],
   "source": [
    "pivot_income_group['%'].plot.bar(rot=30).set_title('Зависимость между уровнем дохода и возвратом кредита в срок');"
   ]
  },
  {
   "cell_type": "markdown",
   "metadata": {},
   "source": [
    "**Вывод**"
   ]
  },
  {
   "cell_type": "markdown",
   "metadata": {},
   "source": [
    "Парадокс: клиенты с наименьшим уровнем дохода наиболее ответственны при выплате кредита. На втором месте клиенты с высоким доходом. "
   ]
  },
  {
   "cell_type": "markdown",
   "metadata": {},
   "source": [
    "- Как разные цели кредита влияют на его возврат в срок?"
   ]
  },
  {
   "cell_type": "code",
   "execution_count": 41,
   "metadata": {},
   "outputs": [
    {
     "data": {
      "text/html": [
       "<div>\n",
       "<style scoped>\n",
       "    .dataframe tbody tr th:only-of-type {\n",
       "        vertical-align: middle;\n",
       "    }\n",
       "\n",
       "    .dataframe tbody tr th {\n",
       "        vertical-align: top;\n",
       "    }\n",
       "\n",
       "    .dataframe thead th {\n",
       "        text-align: right;\n",
       "    }\n",
       "</style>\n",
       "<table border=\"1\" class=\"dataframe\">\n",
       "  <thead>\n",
       "    <tr style=\"text-align: right;\">\n",
       "      <th></th>\n",
       "      <th>has_debt</th>\n",
       "      <th>total</th>\n",
       "      <th>%</th>\n",
       "    </tr>\n",
       "    <tr>\n",
       "      <th>lemmas_purposes</th>\n",
       "      <th></th>\n",
       "      <th></th>\n",
       "      <th></th>\n",
       "    </tr>\n",
       "  </thead>\n",
       "  <tbody>\n",
       "    <tr>\n",
       "      <th>автомобиль</th>\n",
       "      <td>403</td>\n",
       "      <td>4306</td>\n",
       "      <td>9.359034</td>\n",
       "    </tr>\n",
       "    <tr>\n",
       "      <th>образование</th>\n",
       "      <td>370</td>\n",
       "      <td>4013</td>\n",
       "      <td>9.220035</td>\n",
       "    </tr>\n",
       "    <tr>\n",
       "      <th>свадьба</th>\n",
       "      <td>186</td>\n",
       "      <td>2324</td>\n",
       "      <td>8.003442</td>\n",
       "    </tr>\n",
       "    <tr>\n",
       "      <th>недвижимость</th>\n",
       "      <td>782</td>\n",
       "      <td>10810</td>\n",
       "      <td>7.234043</td>\n",
       "    </tr>\n",
       "  </tbody>\n",
       "</table>\n",
       "</div>"
      ],
      "text/plain": [
       "                 has_debt  total         %\n",
       "lemmas_purposes                           \n",
       "автомобиль            403   4306  9.359034\n",
       "образование           370   4013  9.220035\n",
       "свадьба               186   2324  8.003442\n",
       "недвижимость          782  10810  7.234043"
      ]
     },
     "execution_count": 41,
     "metadata": {},
     "output_type": "execute_result"
    }
   ],
   "source": [
    "pivot_purposes = df.pivot_table(index = ['lemmas_purposes'], values = 'debt', aggfunc = ['sum', 'count', 'mean'])\n",
    "pivot_purposes['mean'] = pivot_purposes['mean'] * 100\n",
    "pivot_purposes.columns = ['has_debt', 'total', '%']\n",
    "pivot_purposes = pivot_purposes.sort_values(by = '%', ascending = False)\n",
    "pivot_purposes"
   ]
  },
  {
   "cell_type": "code",
   "execution_count": 42,
   "metadata": {},
   "outputs": [
    {
     "data": {
      "image/png": "[encoded data removed]",
      "text/plain": [
       "<Figure size 432x288 with 1 Axes>"
      ]
     },
     "metadata": {
      "needs_background": "light"
     },
     "output_type": "display_data"
    }
   ],
   "source": [
    "pivot_purposes['%'].plot.bar(rot=30).set_title('Зависимость между целями кредита и его возвратом в срок');"
   ]
  },
  {
   "cell_type": "markdown",
   "metadata": {},
   "source": [
    "**Вывод**"
   ]
  },
  {
   "cell_type": "markdown",
   "metadata": {},
   "source": [
    "Самая низкая вероятность задолженности у клиентов, которые берут кредит на недвижимость (покупка, строительство и т.д.). Наименее ответственно платят покупатели автомобилей. "
   ]
  },
  {
   "cell_type": "markdown",
   "metadata": {},
   "source": [
    "## Общий вывод"
   ]
  },
  {
   "cell_type": "markdown",
   "metadata": {},
   "source": [
    "В результате анализа гипотеза о зависимости платежеспособности клиента от семейного положения и наличия детей получила подтверждение. На основание полученных выводов можно получить портрет идеального заемщика в общих чертах: женат (или был в браке), бездетен, низкий уровень дохода, цель кредита - операции с недвижимостью (описание условно дано в мужском роде, но действительно также и для клиента женского пола).\n",
    "Возможные направления дальнейшего исследования: определить, зависит ли погашение кредита в срок от пола заемщика, подробнее рассмотреть парадокс с низким уровнем дохода."
   ]
  }
 ],
 "metadata": {
  "ExecuteTimeLog": [
   {
    "duration": 574,
    "start_time": "2021-12-04T16:42:48.236Z"
   },
   {
    "duration": 10,
    "start_time": "2021-12-04T16:47:10.859Z"
   },
   {
    "duration": 716,
    "start_time": "2021-12-05T09:13:29.660Z"
   },
   {
    "duration": 999,
    "start_time": "2021-12-05T09:14:19.035Z"
   },
   {
    "duration": 98,
    "start_time": "2021-12-05T09:23:21.654Z"
   },
   {
    "duration": 149,
    "start_time": "2021-12-05T09:23:24.853Z"
   },
   {
    "duration": 8,
    "start_time": "2021-12-05T09:35:16.653Z"
   },
   {
    "duration": 5,
    "start_time": "2021-12-05T09:36:13.763Z"
   },
   {
    "duration": 5,
    "start_time": "2021-12-05T09:36:31.418Z"
   },
   {
    "duration": 5,
    "start_time": "2021-12-05T09:38:24.755Z"
   },
   {
    "duration": 9,
    "start_time": "2021-12-05T09:47:40.513Z"
   },
   {
    "duration": 8,
    "start_time": "2021-12-05T09:57:13.603Z"
   },
   {
    "duration": 324,
    "start_time": "2021-12-05T09:59:52.745Z"
   },
   {
    "duration": 8,
    "start_time": "2021-12-05T10:00:13.929Z"
   },
   {
    "duration": 7,
    "start_time": "2021-12-05T10:00:51.763Z"
   },
   {
    "duration": 6,
    "start_time": "2021-12-05T10:00:57.487Z"
   },
   {
    "duration": 41,
    "start_time": "2021-12-05T10:05:35.261Z"
   },
   {
    "duration": 40,
    "start_time": "2021-12-05T10:06:28.438Z"
   },
   {
    "duration": 282,
    "start_time": "2021-12-05T10:09:51.377Z"
   },
   {
    "duration": 6,
    "start_time": "2021-12-05T10:10:51.178Z"
   },
   {
    "duration": 7,
    "start_time": "2021-12-05T10:10:56.743Z"
   },
   {
    "duration": 25,
    "start_time": "2021-12-05T10:14:34.514Z"
   },
   {
    "duration": 8,
    "start_time": "2021-12-05T10:17:21.811Z"
   },
   {
    "duration": 8,
    "start_time": "2021-12-05T10:17:41.485Z"
   },
   {
    "duration": 305,
    "start_time": "2021-12-05T10:17:50.272Z"
   },
   {
    "duration": 9,
    "start_time": "2021-12-05T10:35:06.029Z"
   },
   {
    "duration": 1091,
    "start_time": "2021-12-05T10:39:06.095Z"
   },
   {
    "duration": 97,
    "start_time": "2021-12-05T10:57:31.704Z"
   },
   {
    "duration": 8,
    "start_time": "2021-12-05T10:57:48.825Z"
   },
   {
    "duration": 8,
    "start_time": "2021-12-05T10:58:15.162Z"
   },
   {
    "duration": 2752,
    "start_time": "2021-12-05T10:59:01.666Z"
   },
   {
    "duration": 8,
    "start_time": "2021-12-05T10:59:20.159Z"
   },
   {
    "duration": 9,
    "start_time": "2021-12-05T10:59:43.724Z"
   },
   {
    "duration": 4,
    "start_time": "2021-12-05T11:00:46.117Z"
   },
   {
    "duration": 4,
    "start_time": "2021-12-05T11:01:53.293Z"
   },
   {
    "duration": 4,
    "start_time": "2021-12-05T11:02:42.437Z"
   },
   {
    "duration": 819,
    "start_time": "2021-12-05T11:03:52.708Z"
   },
   {
    "duration": 10,
    "start_time": "2021-12-05T11:03:53.529Z"
   },
   {
    "duration": 5,
    "start_time": "2021-12-05T11:03:53.541Z"
   },
   {
    "duration": 9,
    "start_time": "2021-12-05T11:03:53.548Z"
   },
   {
    "duration": 23,
    "start_time": "2021-12-05T11:03:53.558Z"
   },
   {
    "duration": 7,
    "start_time": "2021-12-05T11:03:53.583Z"
   },
   {
    "duration": 8,
    "start_time": "2021-12-05T11:03:53.591Z"
   },
   {
    "duration": 5,
    "start_time": "2021-12-05T11:04:39.896Z"
   },
   {
    "duration": 87,
    "start_time": "2021-12-05T11:04:49.811Z"
   },
   {
    "duration": 95,
    "start_time": "2021-12-05T11:04:55.147Z"
   },
   {
    "duration": 5,
    "start_time": "2021-12-05T11:05:17.728Z"
   },
   {
    "duration": 4,
    "start_time": "2021-12-05T11:05:37.631Z"
   },
   {
    "duration": 8,
    "start_time": "2021-12-05T11:05:56.632Z"
   },
   {
    "duration": 5,
    "start_time": "2021-12-05T11:09:56.826Z"
   },
   {
    "duration": 685,
    "start_time": "2021-12-08T13:57:32.458Z"
   },
   {
    "duration": 971,
    "start_time": "2021-12-08T13:58:35.131Z"
   },
   {
    "duration": 12,
    "start_time": "2021-12-08T13:58:36.103Z"
   },
   {
    "duration": 10,
    "start_time": "2021-12-08T13:58:36.117Z"
   },
   {
    "duration": 24,
    "start_time": "2021-12-08T13:58:36.129Z"
   },
   {
    "duration": 8,
    "start_time": "2021-12-08T13:58:36.155Z"
   },
   {
    "duration": 47,
    "start_time": "2021-12-08T13:58:36.164Z"
   },
   {
    "duration": 10,
    "start_time": "2021-12-08T13:58:36.213Z"
   },
   {
    "duration": 4,
    "start_time": "2021-12-08T13:58:36.226Z"
   },
   {
    "duration": 7,
    "start_time": "2021-12-08T13:59:29.677Z"
   },
   {
    "duration": 4,
    "start_time": "2021-12-08T14:00:32.879Z"
   },
   {
    "duration": 4,
    "start_time": "2021-12-08T14:00:55.599Z"
   },
   {
    "duration": 4,
    "start_time": "2021-12-08T14:01:38.146Z"
   },
   {
    "duration": 4,
    "start_time": "2021-12-08T14:01:39.920Z"
   },
   {
    "duration": 22,
    "start_time": "2021-12-08T14:02:49.833Z"
   },
   {
    "duration": 20,
    "start_time": "2021-12-08T14:03:07.689Z"
   },
   {
    "duration": 6,
    "start_time": "2021-12-08T14:04:13.635Z"
   },
   {
    "duration": 6,
    "start_time": "2021-12-08T14:06:21.981Z"
   },
   {
    "duration": 9,
    "start_time": "2021-12-08T14:06:34.222Z"
   },
   {
    "duration": 8,
    "start_time": "2021-12-08T14:07:02.086Z"
   },
   {
    "duration": 325,
    "start_time": "2021-12-08T17:34:59.306Z"
   },
   {
    "duration": 791,
    "start_time": "2021-12-08T17:35:09.461Z"
   },
   {
    "duration": 9,
    "start_time": "2021-12-08T17:35:10.254Z"
   },
   {
    "duration": 8,
    "start_time": "2021-12-08T17:35:10.265Z"
   },
   {
    "duration": 20,
    "start_time": "2021-12-08T17:35:10.275Z"
   },
   {
    "duration": 6,
    "start_time": "2021-12-08T17:35:10.297Z"
   },
   {
    "duration": 287,
    "start_time": "2021-12-08T17:35:10.304Z"
   },
   {
    "duration": 7,
    "start_time": "2021-12-08T17:35:10.586Z"
   },
   {
    "duration": 1,
    "start_time": "2021-12-08T17:35:10.593Z"
   },
   {
    "duration": 42,
    "start_time": "2021-12-08T17:35:39.549Z"
   },
   {
    "duration": 41,
    "start_time": "2021-12-08T17:38:33.833Z"
   },
   {
    "duration": 13,
    "start_time": "2021-12-08T18:25:59.949Z"
   },
   {
    "duration": 27,
    "start_time": "2021-12-08T18:26:27.611Z"
   },
   {
    "duration": 24,
    "start_time": "2021-12-08T18:28:18.811Z"
   },
   {
    "duration": 4,
    "start_time": "2021-12-08T18:32:24.854Z"
   },
   {
    "duration": 3,
    "start_time": "2021-12-08T18:33:44.112Z"
   },
   {
    "duration": 10,
    "start_time": "2021-12-08T18:34:23.901Z"
   },
   {
    "duration": 779,
    "start_time": "2021-12-08T18:34:44.874Z"
   },
   {
    "duration": 10,
    "start_time": "2021-12-08T18:34:45.656Z"
   },
   {
    "duration": 9,
    "start_time": "2021-12-08T18:34:45.671Z"
   },
   {
    "duration": 26,
    "start_time": "2021-12-08T18:34:45.681Z"
   },
   {
    "duration": 6,
    "start_time": "2021-12-08T18:34:45.709Z"
   },
   {
    "duration": 43,
    "start_time": "2021-12-08T18:34:45.716Z"
   },
   {
    "duration": 62,
    "start_time": "2021-12-08T18:34:45.761Z"
   },
   {
    "duration": 12,
    "start_time": "2021-12-08T18:34:45.825Z"
   },
   {
    "duration": 300,
    "start_time": "2021-12-08T18:36:59.781Z"
   },
   {
    "duration": 4,
    "start_time": "2021-12-08T18:37:20.077Z"
   },
   {
    "duration": 18,
    "start_time": "2021-12-08T18:37:30.546Z"
   },
   {
    "duration": 15,
    "start_time": "2021-12-08T18:38:20.361Z"
   },
   {
    "duration": 784,
    "start_time": "2021-12-08T18:38:37.263Z"
   },
   {
    "duration": 9,
    "start_time": "2021-12-08T18:38:38.049Z"
   },
   {
    "duration": 8,
    "start_time": "2021-12-08T18:38:38.061Z"
   },
   {
    "duration": 35,
    "start_time": "2021-12-08T18:38:38.070Z"
   },
   {
    "duration": 6,
    "start_time": "2021-12-08T18:38:38.106Z"
   },
   {
    "duration": 42,
    "start_time": "2021-12-08T18:38:38.113Z"
   },
   {
    "duration": 57,
    "start_time": "2021-12-08T18:38:38.157Z"
   },
   {
    "duration": 11,
    "start_time": "2021-12-08T18:38:38.216Z"
   },
   {
    "duration": 16,
    "start_time": "2021-12-08T18:41:58.365Z"
   },
   {
    "duration": 727,
    "start_time": "2021-12-08T18:42:05.729Z"
   },
   {
    "duration": 11,
    "start_time": "2021-12-08T18:42:06.458Z"
   },
   {
    "duration": 9,
    "start_time": "2021-12-08T18:42:06.471Z"
   },
   {
    "duration": 21,
    "start_time": "2021-12-08T18:42:06.482Z"
   },
   {
    "duration": 7,
    "start_time": "2021-12-08T18:42:06.505Z"
   },
   {
    "duration": 42,
    "start_time": "2021-12-08T18:42:06.513Z"
   },
   {
    "duration": 69,
    "start_time": "2021-12-08T18:42:06.557Z"
   },
   {
    "duration": 14,
    "start_time": "2021-12-08T18:42:06.629Z"
   },
   {
    "duration": 76,
    "start_time": "2021-12-08T18:42:06.645Z"
   },
   {
    "duration": 16,
    "start_time": "2021-12-08T18:42:47.431Z"
   },
   {
    "duration": 1065,
    "start_time": "2021-12-08T18:42:57.257Z"
   },
   {
    "duration": 10,
    "start_time": "2021-12-08T18:42:58.324Z"
   },
   {
    "duration": 8,
    "start_time": "2021-12-08T18:42:58.338Z"
   },
   {
    "duration": 43,
    "start_time": "2021-12-08T18:42:58.348Z"
   },
   {
    "duration": 6,
    "start_time": "2021-12-08T18:42:58.393Z"
   },
   {
    "duration": 45,
    "start_time": "2021-12-08T18:42:58.401Z"
   },
   {
    "duration": 63,
    "start_time": "2021-12-08T18:42:58.448Z"
   },
   {
    "duration": 24,
    "start_time": "2021-12-08T18:42:58.513Z"
   },
   {
    "duration": 153,
    "start_time": "2021-12-08T18:42:58.538Z"
   },
   {
    "duration": 10,
    "start_time": "2021-12-08T18:44:36.196Z"
   },
   {
    "duration": 14,
    "start_time": "2021-12-08T18:49:04.828Z"
   },
   {
    "duration": 13,
    "start_time": "2021-12-08T18:49:28.228Z"
   },
   {
    "duration": 289,
    "start_time": "2021-12-09T07:29:30.860Z"
   },
   {
    "duration": 831,
    "start_time": "2021-12-09T07:29:36.920Z"
   },
   {
    "duration": 10,
    "start_time": "2021-12-09T07:29:37.753Z"
   },
   {
    "duration": 7,
    "start_time": "2021-12-09T07:29:37.765Z"
   },
   {
    "duration": 23,
    "start_time": "2021-12-09T07:29:37.774Z"
   },
   {
    "duration": 6,
    "start_time": "2021-12-09T07:29:37.799Z"
   },
   {
    "duration": 42,
    "start_time": "2021-12-09T07:29:37.806Z"
   },
   {
    "duration": 61,
    "start_time": "2021-12-09T07:29:37.850Z"
   },
   {
    "duration": 13,
    "start_time": "2021-12-09T07:29:37.913Z"
   },
   {
    "duration": 9,
    "start_time": "2021-12-09T07:29:37.927Z"
   },
   {
    "duration": 12,
    "start_time": "2021-12-09T07:29:37.937Z"
   },
   {
    "duration": 28,
    "start_time": "2021-12-09T07:30:59.955Z"
   },
   {
    "duration": 24,
    "start_time": "2021-12-09T07:31:51.149Z"
   },
   {
    "duration": 28,
    "start_time": "2021-12-09T07:32:12.251Z"
   },
   {
    "duration": 279,
    "start_time": "2021-12-09T07:54:25.556Z"
   },
   {
    "duration": 27,
    "start_time": "2021-12-09T07:54:32.682Z"
   },
   {
    "duration": 5,
    "start_time": "2021-12-09T07:56:27.367Z"
   },
   {
    "duration": 4,
    "start_time": "2021-12-09T08:05:43.431Z"
   },
   {
    "duration": 7,
    "start_time": "2021-12-09T08:06:03.193Z"
   },
   {
    "duration": 6,
    "start_time": "2021-12-09T08:08:00.347Z"
   },
   {
    "duration": 4,
    "start_time": "2021-12-09T08:08:38.914Z"
   },
   {
    "duration": 233,
    "start_time": "2021-12-09T08:09:35.077Z"
   },
   {
    "duration": 24,
    "start_time": "2021-12-09T08:11:04.686Z"
   },
   {
    "duration": 4,
    "start_time": "2021-12-09T08:12:28.983Z"
   },
   {
    "duration": 4,
    "start_time": "2021-12-09T08:12:56.017Z"
   },
   {
    "duration": 4,
    "start_time": "2021-12-09T08:13:05.385Z"
   },
   {
    "duration": 5,
    "start_time": "2021-12-09T08:13:42.625Z"
   },
   {
    "duration": 249,
    "start_time": "2021-12-09T08:15:06.003Z"
   },
   {
    "duration": 241,
    "start_time": "2021-12-09T08:15:10.212Z"
   },
   {
    "duration": 266,
    "start_time": "2021-12-09T08:15:38.252Z"
   },
   {
    "duration": 6,
    "start_time": "2021-12-09T08:16:34.317Z"
   },
   {
    "duration": 235,
    "start_time": "2021-12-09T08:20:13.345Z"
   },
   {
    "duration": 244,
    "start_time": "2021-12-09T08:20:34.242Z"
   },
   {
    "duration": 240,
    "start_time": "2021-12-09T08:20:43.930Z"
   },
   {
    "duration": 6,
    "start_time": "2021-12-09T08:22:19.923Z"
   },
   {
    "duration": 3,
    "start_time": "2021-12-09T08:23:17.116Z"
   },
   {
    "duration": 3,
    "start_time": "2021-12-09T08:23:45.613Z"
   },
   {
    "duration": 3,
    "start_time": "2021-12-09T08:23:56.421Z"
   },
   {
    "duration": 5,
    "start_time": "2021-12-09T08:24:13.565Z"
   },
   {
    "duration": 4,
    "start_time": "2021-12-09T08:24:36.838Z"
   },
   {
    "duration": 4,
    "start_time": "2021-12-09T08:25:32.855Z"
   },
   {
    "duration": 3,
    "start_time": "2021-12-09T08:26:06.351Z"
   },
   {
    "duration": 3,
    "start_time": "2021-12-09T08:26:25.488Z"
   },
   {
    "duration": 80,
    "start_time": "2021-12-09T08:29:28.292Z"
   },
   {
    "duration": 78,
    "start_time": "2021-12-09T08:31:34.765Z"
   },
   {
    "duration": 123,
    "start_time": "2021-12-09T08:31:48.497Z"
   },
   {
    "duration": 124,
    "start_time": "2021-12-09T08:31:57.648Z"
   },
   {
    "duration": 112,
    "start_time": "2021-12-09T08:32:09.214Z"
   },
   {
    "duration": 6172,
    "start_time": "2021-12-09T08:32:49.559Z"
   },
   {
    "duration": 77,
    "start_time": "2021-12-09T08:32:55.879Z"
   },
   {
    "duration": 6557,
    "start_time": "2021-12-09T08:33:01.695Z"
   },
   {
    "duration": 235,
    "start_time": "2021-12-09T08:34:03.512Z"
   },
   {
    "duration": 7,
    "start_time": "2021-12-09T08:34:10.985Z"
   },
   {
    "duration": 78,
    "start_time": "2021-12-09T08:37:27.948Z"
   },
   {
    "duration": 7,
    "start_time": "2021-12-09T08:37:50.838Z"
   },
   {
    "duration": 5,
    "start_time": "2021-12-09T08:39:04.629Z"
   },
   {
    "duration": 6,
    "start_time": "2021-12-09T08:55:01.949Z"
   },
   {
    "duration": 37,
    "start_time": "2021-12-09T08:57:46.138Z"
   },
   {
    "duration": 43,
    "start_time": "2021-12-09T09:02:14.561Z"
   },
   {
    "duration": 236,
    "start_time": "2021-12-09T09:03:14.768Z"
   },
   {
    "duration": 7,
    "start_time": "2021-12-09T09:03:19.736Z"
   },
   {
    "duration": 682,
    "start_time": "2021-12-09T09:03:35.937Z"
   },
   {
    "duration": 7,
    "start_time": "2021-12-09T09:03:56.297Z"
   },
   {
    "duration": 5,
    "start_time": "2021-12-09T09:04:56.996Z"
   },
   {
    "duration": 10,
    "start_time": "2021-12-09T09:14:13.380Z"
   },
   {
    "duration": 248,
    "start_time": "2021-12-09T09:14:36.021Z"
   },
   {
    "duration": 14,
    "start_time": "2021-12-09T09:14:40.917Z"
   },
   {
    "duration": 7,
    "start_time": "2021-12-09T09:16:40.615Z"
   },
   {
    "duration": 5,
    "start_time": "2021-12-09T09:18:05.841Z"
   },
   {
    "duration": 7,
    "start_time": "2021-12-09T09:18:20.833Z"
   },
   {
    "duration": 6,
    "start_time": "2021-12-09T09:23:59.351Z"
   },
   {
    "duration": 5,
    "start_time": "2021-12-09T09:24:12.279Z"
   },
   {
    "duration": 5,
    "start_time": "2021-12-09T09:24:35.904Z"
   },
   {
    "duration": 18,
    "start_time": "2021-12-09T09:30:42.660Z"
   },
   {
    "duration": 15,
    "start_time": "2021-12-09T09:30:46.535Z"
   },
   {
    "duration": 785,
    "start_time": "2021-12-09T09:30:53.268Z"
   },
   {
    "duration": 10,
    "start_time": "2021-12-09T09:30:54.055Z"
   },
   {
    "duration": 8,
    "start_time": "2021-12-09T09:30:54.069Z"
   },
   {
    "duration": 24,
    "start_time": "2021-12-09T09:30:54.078Z"
   },
   {
    "duration": 6,
    "start_time": "2021-12-09T09:30:54.104Z"
   },
   {
    "duration": 42,
    "start_time": "2021-12-09T09:30:54.111Z"
   },
   {
    "duration": 62,
    "start_time": "2021-12-09T09:30:54.156Z"
   },
   {
    "duration": 6,
    "start_time": "2021-12-09T09:30:54.220Z"
   },
   {
    "duration": 8,
    "start_time": "2021-12-09T09:30:54.227Z"
   },
   {
    "duration": 4,
    "start_time": "2021-12-09T09:30:54.236Z"
   },
   {
    "duration": 4,
    "start_time": "2021-12-09T09:30:54.241Z"
   },
   {
    "duration": 7,
    "start_time": "2021-12-09T09:30:54.247Z"
   },
   {
    "duration": 68,
    "start_time": "2021-12-09T09:30:54.255Z"
   },
   {
    "duration": 6,
    "start_time": "2021-12-09T09:30:54.324Z"
   },
   {
    "duration": 14,
    "start_time": "2021-12-09T09:30:54.332Z"
   },
   {
    "duration": 11,
    "start_time": "2021-12-09T09:30:54.348Z"
   },
   {
    "duration": 38,
    "start_time": "2021-12-09T09:30:54.360Z"
   },
   {
    "duration": 9,
    "start_time": "2021-12-09T09:30:54.399Z"
   },
   {
    "duration": 13,
    "start_time": "2021-12-09T09:30:54.409Z"
   },
   {
    "duration": 27,
    "start_time": "2021-12-09T09:30:54.423Z"
   },
   {
    "duration": 29,
    "start_time": "2021-12-09T09:31:49.421Z"
   },
   {
    "duration": 36,
    "start_time": "2021-12-09T09:41:58.096Z"
   },
   {
    "duration": 27,
    "start_time": "2021-12-09T09:42:39.368Z"
   },
   {
    "duration": 46,
    "start_time": "2021-12-09T09:48:04.453Z"
   },
   {
    "duration": 28,
    "start_time": "2021-12-09T09:49:03.464Z"
   },
   {
    "duration": 14,
    "start_time": "2021-12-09T10:18:26.598Z"
   },
   {
    "duration": 15,
    "start_time": "2021-12-09T10:20:01.073Z"
   },
   {
    "duration": 28,
    "start_time": "2021-12-09T10:21:20.529Z"
   },
   {
    "duration": 22,
    "start_time": "2021-12-09T10:22:43.864Z"
   },
   {
    "duration": 27,
    "start_time": "2021-12-09T10:24:33.119Z"
   },
   {
    "duration": 328,
    "start_time": "2021-12-09T10:35:01.776Z"
   },
   {
    "duration": 8,
    "start_time": "2021-12-09T10:43:44.609Z"
   },
   {
    "duration": 6,
    "start_time": "2021-12-09T10:49:06.512Z"
   },
   {
    "duration": 3,
    "start_time": "2021-12-09T10:49:37.161Z"
   },
   {
    "duration": 3,
    "start_time": "2021-12-09T10:49:40.658Z"
   },
   {
    "duration": 521,
    "start_time": "2021-12-09T11:22:44.011Z"
   },
   {
    "duration": 5,
    "start_time": "2021-12-09T11:25:43.777Z"
   },
   {
    "duration": 6,
    "start_time": "2021-12-09T11:25:54.193Z"
   },
   {
    "duration": 316,
    "start_time": "2021-12-09T11:26:19.458Z"
   },
   {
    "duration": 257,
    "start_time": "2021-12-09T11:32:21.757Z"
   },
   {
    "duration": 6,
    "start_time": "2021-12-09T11:34:55.944Z"
   },
   {
    "duration": 623,
    "start_time": "2021-12-09T11:36:07.442Z"
   },
   {
    "duration": 3,
    "start_time": "2021-12-09T12:07:08.110Z"
   },
   {
    "duration": 3620,
    "start_time": "2021-12-09T12:19:15.724Z"
   },
   {
    "duration": 3576,
    "start_time": "2021-12-09T12:19:42.261Z"
   },
   {
    "duration": 383,
    "start_time": "2021-12-10T06:44:57.226Z"
   },
   {
    "duration": 925,
    "start_time": "2021-12-10T06:45:04.030Z"
   },
   {
    "duration": 12,
    "start_time": "2021-12-10T06:45:04.957Z"
   },
   {
    "duration": 10,
    "start_time": "2021-12-10T06:45:04.973Z"
   },
   {
    "duration": 40,
    "start_time": "2021-12-10T06:45:04.985Z"
   },
   {
    "duration": 7,
    "start_time": "2021-12-10T06:45:05.027Z"
   },
   {
    "duration": 47,
    "start_time": "2021-12-10T06:45:05.035Z"
   },
   {
    "duration": 52,
    "start_time": "2021-12-10T06:45:05.106Z"
   },
   {
    "duration": 6,
    "start_time": "2021-12-10T06:45:05.161Z"
   },
   {
    "duration": 10,
    "start_time": "2021-12-10T06:45:05.169Z"
   },
   {
    "duration": 27,
    "start_time": "2021-12-10T06:45:05.180Z"
   },
   {
    "duration": 4,
    "start_time": "2021-12-10T06:45:05.209Z"
   },
   {
    "duration": 7,
    "start_time": "2021-12-10T06:45:05.215Z"
   },
   {
    "duration": 50,
    "start_time": "2021-12-10T06:45:05.223Z"
   },
   {
    "duration": 36,
    "start_time": "2021-12-10T06:45:05.275Z"
   },
   {
    "duration": 16,
    "start_time": "2021-12-10T06:45:05.313Z"
   },
   {
    "duration": 7,
    "start_time": "2021-12-10T06:45:05.331Z"
   },
   {
    "duration": 19,
    "start_time": "2021-12-10T06:45:05.340Z"
   },
   {
    "duration": 11,
    "start_time": "2021-12-10T06:45:05.361Z"
   },
   {
    "duration": 44,
    "start_time": "2021-12-10T06:45:05.373Z"
   },
   {
    "duration": 25,
    "start_time": "2021-12-10T06:45:05.420Z"
   },
   {
    "duration": 2,
    "start_time": "2021-12-10T06:45:05.447Z"
   },
   {
    "duration": 14,
    "start_time": "2021-12-10T06:45:05.452Z"
   },
   {
    "duration": 711,
    "start_time": "2021-12-10T06:45:05.468Z"
   },
   {
    "duration": 4067,
    "start_time": "2021-12-10T06:45:06.182Z"
   },
   {
    "duration": 9,
    "start_time": "2021-12-10T06:45:10.267Z"
   },
   {
    "duration": 11,
    "start_time": "2021-12-10T06:53:27.744Z"
   },
   {
    "duration": 12,
    "start_time": "2021-12-10T06:53:47.752Z"
   },
   {
    "duration": 12,
    "start_time": "2021-12-10T06:55:35.826Z"
   },
   {
    "duration": 13,
    "start_time": "2021-12-10T06:58:00.377Z"
   },
   {
    "duration": 12,
    "start_time": "2021-12-10T06:58:36.117Z"
   },
   {
    "duration": 9,
    "start_time": "2021-12-10T07:12:49.068Z"
   },
   {
    "duration": 12,
    "start_time": "2021-12-10T07:13:25.715Z"
   },
   {
    "duration": 921,
    "start_time": "2021-12-10T07:13:37.026Z"
   },
   {
    "duration": 12,
    "start_time": "2021-12-10T07:13:37.949Z"
   },
   {
    "duration": 10,
    "start_time": "2021-12-10T07:13:37.963Z"
   },
   {
    "duration": 41,
    "start_time": "2021-12-10T07:13:37.975Z"
   },
   {
    "duration": 8,
    "start_time": "2021-12-10T07:13:38.018Z"
   },
   {
    "duration": 47,
    "start_time": "2021-12-10T07:13:38.027Z"
   },
   {
    "duration": 73,
    "start_time": "2021-12-10T07:13:38.076Z"
   },
   {
    "duration": 5,
    "start_time": "2021-12-10T07:13:38.152Z"
   },
   {
    "duration": 7,
    "start_time": "2021-12-10T07:13:38.159Z"
   },
   {
    "duration": 4,
    "start_time": "2021-12-10T07:13:38.168Z"
   },
   {
    "duration": 4,
    "start_time": "2021-12-10T07:13:38.174Z"
   },
   {
    "duration": 31,
    "start_time": "2021-12-10T07:13:38.180Z"
   },
   {
    "duration": 49,
    "start_time": "2021-12-10T07:13:38.213Z"
   },
   {
    "duration": 6,
    "start_time": "2021-12-10T07:13:38.264Z"
   },
   {
    "duration": 49,
    "start_time": "2021-12-10T07:13:38.272Z"
   },
   {
    "duration": 10,
    "start_time": "2021-12-10T07:13:38.323Z"
   },
   {
    "duration": 7,
    "start_time": "2021-12-10T07:13:38.335Z"
   },
   {
    "duration": 17,
    "start_time": "2021-12-10T07:13:38.344Z"
   },
   {
    "duration": 52,
    "start_time": "2021-12-10T07:13:38.363Z"
   },
   {
    "duration": 2,
    "start_time": "2021-12-10T07:13:38.417Z"
   },
   {
    "duration": 7,
    "start_time": "2021-12-10T07:13:38.421Z"
   },
   {
    "duration": 689,
    "start_time": "2021-12-10T07:13:38.430Z"
   },
   {
    "duration": 3705,
    "start_time": "2021-12-10T07:13:39.122Z"
   },
   {
    "duration": 12,
    "start_time": "2021-12-10T07:13:42.829Z"
   },
   {
    "duration": 10,
    "start_time": "2021-12-10T07:13:42.843Z"
   },
   {
    "duration": 10,
    "start_time": "2021-12-10T07:13:42.855Z"
   },
   {
    "duration": 16,
    "start_time": "2021-12-10T07:15:48.342Z"
   },
   {
    "duration": 53,
    "start_time": "2021-12-10T07:18:05.230Z"
   },
   {
    "duration": 894,
    "start_time": "2021-12-10T07:18:40.158Z"
   },
   {
    "duration": 12,
    "start_time": "2021-12-10T07:18:41.058Z"
   },
   {
    "duration": 10,
    "start_time": "2021-12-10T07:18:41.072Z"
   },
   {
    "duration": 53,
    "start_time": "2021-12-10T07:18:41.084Z"
   },
   {
    "duration": 8,
    "start_time": "2021-12-10T07:18:41.140Z"
   },
   {
    "duration": 64,
    "start_time": "2021-12-10T07:18:41.150Z"
   },
   {
    "duration": 47,
    "start_time": "2021-12-10T07:18:41.217Z"
   },
   {
    "duration": 5,
    "start_time": "2021-12-10T07:18:41.266Z"
   },
   {
    "duration": 8,
    "start_time": "2021-12-10T07:18:41.273Z"
   },
   {
    "duration": 25,
    "start_time": "2021-12-10T07:18:41.283Z"
   },
   {
    "duration": 4,
    "start_time": "2021-12-10T07:18:41.310Z"
   },
   {
    "duration": 7,
    "start_time": "2021-12-10T07:18:41.315Z"
   },
   {
    "duration": 55,
    "start_time": "2021-12-10T07:18:41.323Z"
   },
   {
    "duration": 32,
    "start_time": "2021-12-10T07:18:41.379Z"
   },
   {
    "duration": 20,
    "start_time": "2021-12-10T07:18:41.412Z"
   },
   {
    "duration": 11,
    "start_time": "2021-12-10T07:18:41.433Z"
   },
   {
    "duration": 6,
    "start_time": "2021-12-10T07:18:41.446Z"
   },
   {
    "duration": 17,
    "start_time": "2021-12-10T07:18:41.453Z"
   },
   {
    "duration": 45,
    "start_time": "2021-12-10T07:18:41.472Z"
   },
   {
    "duration": 24,
    "start_time": "2021-12-10T07:18:41.519Z"
   },
   {
    "duration": 31,
    "start_time": "2021-12-10T07:18:41.545Z"
   },
   {
    "duration": 31,
    "start_time": "2021-12-10T07:18:41.579Z"
   },
   {
    "duration": 659,
    "start_time": "2021-12-10T07:18:41.611Z"
   },
   {
    "duration": 3798,
    "start_time": "2021-12-10T07:18:42.272Z"
   },
   {
    "duration": 17,
    "start_time": "2021-12-10T07:18:46.072Z"
   },
   {
    "duration": 15,
    "start_time": "2021-12-10T07:18:46.108Z"
   },
   {
    "duration": 14,
    "start_time": "2021-12-10T07:18:46.125Z"
   },
   {
    "duration": 13,
    "start_time": "2021-12-10T07:39:01.003Z"
   },
   {
    "duration": 11,
    "start_time": "2021-12-10T07:39:14.869Z"
   },
   {
    "duration": 1165,
    "start_time": "2021-12-10T11:08:15.591Z"
   },
   {
    "duration": 16,
    "start_time": "2021-12-10T11:08:16.759Z"
   },
   {
    "duration": 12,
    "start_time": "2021-12-10T11:08:16.779Z"
   },
   {
    "duration": 62,
    "start_time": "2021-12-10T11:08:16.794Z"
   },
   {
    "duration": 10,
    "start_time": "2021-12-10T11:08:16.859Z"
   },
   {
    "duration": 94,
    "start_time": "2021-12-10T11:08:16.872Z"
   },
   {
    "duration": 85,
    "start_time": "2021-12-10T11:08:16.968Z"
   },
   {
    "duration": 8,
    "start_time": "2021-12-10T11:08:17.058Z"
   },
   {
    "duration": 9,
    "start_time": "2021-12-10T11:08:17.069Z"
   },
   {
    "duration": 7,
    "start_time": "2021-12-10T11:08:17.081Z"
   },
   {
    "duration": 38,
    "start_time": "2021-12-10T11:08:17.090Z"
   },
   {
    "duration": 11,
    "start_time": "2021-12-10T11:08:17.130Z"
   },
   {
    "duration": 101,
    "start_time": "2021-12-10T11:08:17.143Z"
   },
   {
    "duration": 9,
    "start_time": "2021-12-10T11:08:17.246Z"
   },
   {
    "duration": 26,
    "start_time": "2021-12-10T11:08:17.258Z"
   },
   {
    "duration": 46,
    "start_time": "2021-12-10T11:08:17.286Z"
   },
   {
    "duration": 10,
    "start_time": "2021-12-10T11:08:17.335Z"
   },
   {
    "duration": 24,
    "start_time": "2021-12-10T11:08:17.348Z"
   },
   {
    "duration": 49,
    "start_time": "2021-12-10T11:08:17.374Z"
   },
   {
    "duration": 36,
    "start_time": "2021-12-10T11:08:17.426Z"
   },
   {
    "duration": 69,
    "start_time": "2021-12-10T11:08:17.465Z"
   },
   {
    "duration": 9,
    "start_time": "2021-12-10T11:08:17.537Z"
   },
   {
    "duration": 958,
    "start_time": "2021-12-10T11:08:17.551Z"
   },
   {
    "duration": 5726,
    "start_time": "2021-12-10T11:08:18.512Z"
   },
   {
    "duration": 18,
    "start_time": "2021-12-10T11:08:24.240Z"
   },
   {
    "duration": 15,
    "start_time": "2021-12-10T11:08:24.260Z"
   },
   {
    "duration": 50,
    "start_time": "2021-12-10T11:08:24.278Z"
   },
   {
    "duration": 13,
    "start_time": "2021-12-10T11:12:22.219Z"
   },
   {
    "duration": 11,
    "start_time": "2021-12-10T11:12:55.677Z"
   },
   {
    "duration": 19,
    "start_time": "2021-12-10T11:18:08.877Z"
   },
   {
    "duration": 10,
    "start_time": "2021-12-10T11:19:01.485Z"
   },
   {
    "duration": 16,
    "start_time": "2021-12-10T11:19:22.086Z"
   },
   {
    "duration": 10,
    "start_time": "2021-12-10T11:20:55.999Z"
   },
   {
    "duration": 6,
    "start_time": "2021-12-10T11:30:20.066Z"
   },
   {
    "duration": 421,
    "start_time": "2021-12-10T11:32:06.906Z"
   },
   {
    "duration": 1033,
    "start_time": "2021-12-10T11:32:21.196Z"
   },
   {
    "duration": 403,
    "start_time": "2021-12-10T11:33:13.733Z"
   },
   {
    "duration": 106,
    "start_time": "2021-12-10T11:33:41.565Z"
   },
   {
    "duration": 96,
    "start_time": "2021-12-10T11:33:46.053Z"
   },
   {
    "duration": 7,
    "start_time": "2021-12-10T11:33:49.501Z"
   },
   {
    "duration": 5,
    "start_time": "2021-12-10T11:36:07.822Z"
   },
   {
    "duration": 50,
    "start_time": "2021-12-10T11:52:08.498Z"
   },
   {
    "duration": 49,
    "start_time": "2021-12-10T11:57:00.806Z"
   },
   {
    "duration": 44,
    "start_time": "2021-12-10T11:57:55.326Z"
   },
   {
    "duration": 47,
    "start_time": "2021-12-10T11:59:21.506Z"
   },
   {
    "duration": 333,
    "start_time": "2021-12-10T12:00:28.146Z"
   },
   {
    "duration": 43,
    "start_time": "2021-12-10T12:02:09.092Z"
   },
   {
    "duration": 42,
    "start_time": "2021-12-10T12:03:06.477Z"
   },
   {
    "duration": 47,
    "start_time": "2021-12-10T12:03:39.583Z"
   },
   {
    "duration": 46,
    "start_time": "2021-12-10T12:03:57.943Z"
   },
   {
    "duration": 879,
    "start_time": "2021-12-10T12:30:43.565Z"
   },
   {
    "duration": 423,
    "start_time": "2021-12-10T12:32:08.655Z"
   },
   {
    "duration": 392,
    "start_time": "2021-12-10T12:34:26.367Z"
   },
   {
    "duration": 50,
    "start_time": "2021-12-10T12:35:20.602Z"
   },
   {
    "duration": 1234,
    "start_time": "2021-12-10T17:52:31.700Z"
   },
   {
    "duration": 12,
    "start_time": "2021-12-10T17:52:32.936Z"
   },
   {
    "duration": 11,
    "start_time": "2021-12-10T17:52:32.950Z"
   },
   {
    "duration": 44,
    "start_time": "2021-12-10T17:52:32.963Z"
   },
   {
    "duration": 7,
    "start_time": "2021-12-10T17:52:33.010Z"
   },
   {
    "duration": 82,
    "start_time": "2021-12-10T17:52:33.019Z"
   },
   {
    "duration": 68,
    "start_time": "2021-12-10T17:52:33.107Z"
   },
   {
    "duration": 5,
    "start_time": "2021-12-10T17:52:33.178Z"
   },
   {
    "duration": 8,
    "start_time": "2021-12-10T17:52:33.206Z"
   },
   {
    "duration": 10,
    "start_time": "2021-12-10T17:52:33.215Z"
   },
   {
    "duration": 7,
    "start_time": "2021-12-10T17:52:33.226Z"
   },
   {
    "duration": 13,
    "start_time": "2021-12-10T17:52:33.235Z"
   },
   {
    "duration": 70,
    "start_time": "2021-12-10T17:52:33.250Z"
   },
   {
    "duration": 7,
    "start_time": "2021-12-10T17:52:33.321Z"
   },
   {
    "duration": 29,
    "start_time": "2021-12-10T17:52:33.330Z"
   },
   {
    "duration": 10,
    "start_time": "2021-12-10T17:52:33.361Z"
   },
   {
    "duration": 7,
    "start_time": "2021-12-10T17:52:33.373Z"
   },
   {
    "duration": 40,
    "start_time": "2021-12-10T17:52:33.381Z"
   },
   {
    "duration": 17,
    "start_time": "2021-12-10T17:52:33.424Z"
   },
   {
    "duration": 25,
    "start_time": "2021-12-10T17:52:33.443Z"
   },
   {
    "duration": 57,
    "start_time": "2021-12-10T17:52:33.471Z"
   },
   {
    "duration": 6,
    "start_time": "2021-12-10T17:52:33.531Z"
   },
   {
    "duration": 687,
    "start_time": "2021-12-10T17:52:33.541Z"
   },
   {
    "duration": 4223,
    "start_time": "2021-12-10T17:52:34.230Z"
   },
   {
    "duration": 8,
    "start_time": "2021-12-10T17:52:38.454Z"
   },
   {
    "duration": 4,
    "start_time": "2021-12-10T17:52:38.464Z"
   },
   {
    "duration": 9,
    "start_time": "2021-12-10T17:52:38.470Z"
   },
   {
    "duration": 37,
    "start_time": "2021-12-10T17:52:38.481Z"
   },
   {
    "duration": 11,
    "start_time": "2021-12-10T17:52:38.520Z"
   },
   {
    "duration": 270,
    "start_time": "2021-12-10T17:52:38.533Z"
   },
   {
    "duration": 34,
    "start_time": "2021-12-10T17:52:38.805Z"
   },
   {
    "duration": 33,
    "start_time": "2021-12-10T17:52:38.840Z"
   },
   {
    "duration": 54,
    "start_time": "2021-12-10T17:52:38.875Z"
   },
   {
    "duration": 32,
    "start_time": "2021-12-10T17:52:38.930Z"
   },
   {
    "duration": 4,
    "start_time": "2021-12-10T17:57:24.420Z"
   },
   {
    "duration": 4,
    "start_time": "2021-12-10T17:57:55.895Z"
   },
   {
    "duration": 4,
    "start_time": "2021-12-10T18:00:07.418Z"
   },
   {
    "duration": 5,
    "start_time": "2021-12-10T18:03:18.742Z"
   },
   {
    "duration": 4,
    "start_time": "2021-12-10T18:04:18.668Z"
   },
   {
    "duration": 4,
    "start_time": "2021-12-10T18:04:37.555Z"
   },
   {
    "duration": 245,
    "start_time": "2021-12-10T18:20:11.438Z"
   },
   {
    "duration": 31,
    "start_time": "2021-12-10T18:22:27.361Z"
   },
   {
    "duration": 348,
    "start_time": "2021-12-10T18:29:09.227Z"
   },
   {
    "duration": 1125,
    "start_time": "2021-12-10T18:30:33.674Z"
   },
   {
    "duration": 21,
    "start_time": "2021-12-10T18:30:34.802Z"
   },
   {
    "duration": 14,
    "start_time": "2021-12-10T18:30:34.826Z"
   },
   {
    "duration": 24,
    "start_time": "2021-12-10T18:30:34.843Z"
   },
   {
    "duration": 7,
    "start_time": "2021-12-10T18:30:34.868Z"
   },
   {
    "duration": 72,
    "start_time": "2021-12-10T18:30:34.878Z"
   },
   {
    "duration": 66,
    "start_time": "2021-12-10T18:30:34.951Z"
   },
   {
    "duration": 6,
    "start_time": "2021-12-10T18:30:35.019Z"
   },
   {
    "duration": 8,
    "start_time": "2021-12-10T18:30:35.027Z"
   },
   {
    "duration": 4,
    "start_time": "2021-12-10T18:30:35.037Z"
   },
   {
    "duration": 5,
    "start_time": "2021-12-10T18:30:35.043Z"
   },
   {
    "duration": 6,
    "start_time": "2021-12-10T18:30:35.050Z"
   },
   {
    "duration": 83,
    "start_time": "2021-12-10T18:30:35.058Z"
   },
   {
    "duration": 6,
    "start_time": "2021-12-10T18:30:35.143Z"
   },
   {
    "duration": 21,
    "start_time": "2021-12-10T18:30:35.151Z"
   },
   {
    "duration": 34,
    "start_time": "2021-12-10T18:30:35.173Z"
   },
   {
    "duration": 8,
    "start_time": "2021-12-10T18:30:35.209Z"
   },
   {
    "duration": 15,
    "start_time": "2021-12-10T18:30:35.219Z"
   },
   {
    "duration": 16,
    "start_time": "2021-12-10T18:30:35.236Z"
   },
   {
    "duration": 54,
    "start_time": "2021-12-10T18:30:35.254Z"
   },
   {
    "duration": 31,
    "start_time": "2021-12-10T18:30:35.309Z"
   },
   {
    "duration": 5,
    "start_time": "2021-12-10T18:30:35.341Z"
   },
   {
    "duration": 666,
    "start_time": "2021-12-10T18:30:35.350Z"
   },
   {
    "duration": 4179,
    "start_time": "2021-12-10T18:30:36.019Z"
   },
   {
    "duration": 14,
    "start_time": "2021-12-10T18:30:40.200Z"
   },
   {
    "duration": 4,
    "start_time": "2021-12-10T18:30:40.215Z"
   },
   {
    "duration": 24,
    "start_time": "2021-12-10T18:30:40.221Z"
   },
   {
    "duration": 29,
    "start_time": "2021-12-10T18:30:40.246Z"
   },
   {
    "duration": 12,
    "start_time": "2021-12-10T18:30:40.276Z"
   },
   {
    "duration": 4,
    "start_time": "2021-12-10T18:30:40.306Z"
   },
   {
    "duration": 5,
    "start_time": "2021-12-10T18:30:40.312Z"
   },
   {
    "duration": 281,
    "start_time": "2021-12-10T18:30:40.319Z"
   },
   {
    "duration": 35,
    "start_time": "2021-12-10T18:30:40.602Z"
   },
   {
    "duration": 34,
    "start_time": "2021-12-10T18:30:40.639Z"
   },
   {
    "duration": 60,
    "start_time": "2021-12-10T18:30:40.674Z"
   },
   {
    "duration": 32,
    "start_time": "2021-12-10T18:30:40.735Z"
   },
   {
    "duration": 248,
    "start_time": "2021-12-10T18:31:23.008Z"
   },
   {
    "duration": 5,
    "start_time": "2021-12-10T18:37:22.277Z"
   },
   {
    "duration": -377,
    "start_time": "2021-12-10T18:38:00.282Z"
   },
   {
    "duration": 11060,
    "start_time": "2021-12-10T18:38:10.612Z"
   },
   {
    "duration": 11,
    "start_time": "2021-12-10T18:41:22.708Z"
   },
   {
    "duration": 235,
    "start_time": "2021-12-10T18:41:51.567Z"
   },
   {
    "duration": 394,
    "start_time": "2021-12-10T18:43:11.064Z"
   },
   {
    "duration": 409,
    "start_time": "2021-12-11T15:21:26.655Z"
   },
   {
    "duration": 922,
    "start_time": "2021-12-11T15:21:33.890Z"
   },
   {
    "duration": 11,
    "start_time": "2021-12-11T15:21:34.814Z"
   },
   {
    "duration": 8,
    "start_time": "2021-12-11T15:21:34.827Z"
   },
   {
    "duration": 28,
    "start_time": "2021-12-11T15:21:34.837Z"
   },
   {
    "duration": 11,
    "start_time": "2021-12-11T15:21:34.866Z"
   },
   {
    "duration": 7,
    "start_time": "2021-12-11T15:21:34.878Z"
   },
   {
    "duration": 65,
    "start_time": "2021-12-11T15:21:34.886Z"
   },
   {
    "duration": 43,
    "start_time": "2021-12-11T15:21:34.953Z"
   },
   {
    "duration": 5,
    "start_time": "2021-12-11T15:21:34.999Z"
   },
   {
    "duration": 8,
    "start_time": "2021-12-11T15:21:35.006Z"
   },
   {
    "duration": 5,
    "start_time": "2021-12-11T15:21:35.045Z"
   },
   {
    "duration": 7,
    "start_time": "2021-12-11T15:21:35.052Z"
   },
   {
    "duration": 7,
    "start_time": "2021-12-11T15:21:35.061Z"
   },
   {
    "duration": 48,
    "start_time": "2021-12-11T15:21:35.070Z"
   },
   {
    "duration": 28,
    "start_time": "2021-12-11T15:21:35.119Z"
   },
   {
    "duration": 24,
    "start_time": "2021-12-11T15:21:35.148Z"
   },
   {
    "duration": 10,
    "start_time": "2021-12-11T15:21:35.174Z"
   },
   {
    "duration": 7,
    "start_time": "2021-12-11T15:21:35.186Z"
   },
   {
    "duration": 17,
    "start_time": "2021-12-11T15:21:35.194Z"
   },
   {
    "duration": 46,
    "start_time": "2021-12-11T15:21:35.213Z"
   },
   {
    "duration": 23,
    "start_time": "2021-12-11T15:21:35.260Z"
   },
   {
    "duration": 29,
    "start_time": "2021-12-11T15:21:35.285Z"
   },
   {
    "duration": 6,
    "start_time": "2021-12-11T15:21:35.316Z"
   },
   {
    "duration": 662,
    "start_time": "2021-12-11T15:21:35.345Z"
   },
   {
    "duration": 3743,
    "start_time": "2021-12-11T15:21:36.010Z"
   },
   {
    "duration": 7,
    "start_time": "2021-12-11T15:21:39.754Z"
   },
   {
    "duration": 18,
    "start_time": "2021-12-11T15:21:39.764Z"
   },
   {
    "duration": 23,
    "start_time": "2021-12-11T15:21:39.784Z"
   },
   {
    "duration": 28,
    "start_time": "2021-12-11T15:21:39.808Z"
   },
   {
    "duration": 11,
    "start_time": "2021-12-11T15:21:39.837Z"
   },
   {
    "duration": 16,
    "start_time": "2021-12-11T15:21:39.850Z"
   },
   {
    "duration": 21,
    "start_time": "2021-12-11T15:21:39.867Z"
   },
   {
    "duration": 271,
    "start_time": "2021-12-11T15:21:39.890Z"
   },
   {
    "duration": 29,
    "start_time": "2021-12-11T15:21:40.162Z"
   },
   {
    "duration": 30,
    "start_time": "2021-12-11T15:21:40.193Z"
   },
   {
    "duration": 47,
    "start_time": "2021-12-11T15:21:40.225Z"
   },
   {
    "duration": 31,
    "start_time": "2021-12-11T15:21:40.274Z"
   },
   {
    "duration": 1148,
    "start_time": "2021-12-11T15:22:22.972Z"
   },
   {
    "duration": 1216,
    "start_time": "2021-12-11T15:22:38.933Z"
   },
   {
    "duration": 251,
    "start_time": "2021-12-11T15:22:49.066Z"
   },
   {
    "duration": 11,
    "start_time": "2021-12-11T15:22:49.806Z"
   },
   {
    "duration": 24,
    "start_time": "2021-12-11T15:22:51.892Z"
   },
   {
    "duration": 25,
    "start_time": "2021-12-11T15:22:52.749Z"
   },
   {
    "duration": 12,
    "start_time": "2021-12-11T15:22:53.822Z"
   },
   {
    "duration": 13,
    "start_time": "2021-12-11T15:22:57.121Z"
   },
   {
    "duration": 13,
    "start_time": "2021-12-11T15:23:00.120Z"
   },
   {
    "duration": 13,
    "start_time": "2021-12-11T15:24:30.202Z"
   },
   {
    "duration": 14,
    "start_time": "2021-12-11T15:24:33.569Z"
   },
   {
    "duration": 8,
    "start_time": "2021-12-11T15:27:42.279Z"
   },
   {
    "duration": 10,
    "start_time": "2021-12-11T15:33:15.386Z"
   },
   {
    "duration": 291,
    "start_time": "2021-12-11T15:35:36.748Z"
   },
   {
    "duration": 467,
    "start_time": "2021-12-11T15:35:51.320Z"
   },
   {
    "duration": 8,
    "start_time": "2021-12-11T15:36:09.925Z"
   },
   {
    "duration": 412,
    "start_time": "2021-12-11T15:38:54.974Z"
   },
   {
    "duration": 10,
    "start_time": "2021-12-11T15:39:15.435Z"
   },
   {
    "duration": 14,
    "start_time": "2021-12-11T15:40:25.583Z"
   },
   {
    "duration": 245,
    "start_time": "2021-12-11T15:41:25.908Z"
   },
   {
    "duration": 12,
    "start_time": "2021-12-11T15:41:26.155Z"
   },
   {
    "duration": 11,
    "start_time": "2021-12-11T15:41:27.854Z"
   },
   {
    "duration": 25,
    "start_time": "2021-12-11T15:41:28.407Z"
   },
   {
    "duration": 14,
    "start_time": "2021-12-11T15:41:29.160Z"
   },
   {
    "duration": 8,
    "start_time": "2021-12-11T15:41:30.700Z"
   },
   {
    "duration": 17,
    "start_time": "2021-12-11T15:43:50.166Z"
   },
   {
    "duration": 10,
    "start_time": "2021-12-11T15:48:09.864Z"
   },
   {
    "duration": 10,
    "start_time": "2021-12-11T15:53:44.746Z"
   },
   {
    "duration": 50,
    "start_time": "2021-12-11T15:53:45.082Z"
   },
   {
    "duration": 6,
    "start_time": "2021-12-11T15:53:45.973Z"
   },
   {
    "duration": 8,
    "start_time": "2021-12-11T15:53:47.001Z"
   },
   {
    "duration": 7,
    "start_time": "2021-12-11T15:53:48.275Z"
   },
   {
    "duration": 5,
    "start_time": "2021-12-11T15:53:48.607Z"
   },
   {
    "duration": 9,
    "start_time": "2021-12-11T15:53:48.883Z"
   },
   {
    "duration": 50,
    "start_time": "2021-12-11T15:53:49.754Z"
   },
   {
    "duration": 9,
    "start_time": "2021-12-11T15:53:51.343Z"
   },
   {
    "duration": 374,
    "start_time": "2021-12-11T15:53:53.253Z"
   },
   {
    "duration": 942,
    "start_time": "2021-12-11T15:54:05.708Z"
   },
   {
    "duration": 11,
    "start_time": "2021-12-11T15:54:06.653Z"
   },
   {
    "duration": 25,
    "start_time": "2021-12-11T15:54:06.666Z"
   },
   {
    "duration": 30,
    "start_time": "2021-12-11T15:54:06.693Z"
   },
   {
    "duration": 18,
    "start_time": "2021-12-11T15:54:06.725Z"
   },
   {
    "duration": 11,
    "start_time": "2021-12-11T15:54:06.746Z"
   },
   {
    "duration": 13,
    "start_time": "2021-12-11T15:54:06.759Z"
   },
   {
    "duration": 79,
    "start_time": "2021-12-11T15:54:06.776Z"
   },
   {
    "duration": 9,
    "start_time": "2021-12-11T15:54:06.857Z"
   },
   {
    "duration": 86,
    "start_time": "2021-12-11T15:54:06.868Z"
   },
   {
    "duration": 8,
    "start_time": "2021-12-11T15:54:06.956Z"
   },
   {
    "duration": 14,
    "start_time": "2021-12-11T15:54:06.966Z"
   },
   {
    "duration": 18,
    "start_time": "2021-12-11T15:54:06.982Z"
   },
   {
    "duration": 14,
    "start_time": "2021-12-11T15:54:07.003Z"
   },
   {
    "duration": 30,
    "start_time": "2021-12-11T15:54:07.019Z"
   },
   {
    "duration": 78,
    "start_time": "2021-12-11T15:54:07.051Z"
   },
   {
    "duration": 11,
    "start_time": "2021-12-11T15:54:07.131Z"
   },
   {
    "duration": 44,
    "start_time": "2021-12-11T15:54:07.144Z"
   },
   {
    "duration": 17,
    "start_time": "2021-12-11T15:54:07.190Z"
   },
   {
    "duration": 34,
    "start_time": "2021-12-11T15:54:07.209Z"
   },
   {
    "duration": 48,
    "start_time": "2021-12-11T15:54:07.245Z"
   },
   {
    "duration": 46,
    "start_time": "2021-12-11T15:54:07.296Z"
   },
   {
    "duration": 34,
    "start_time": "2021-12-11T15:54:07.346Z"
   },
   {
    "duration": 52,
    "start_time": "2021-12-11T15:54:07.383Z"
   },
   {
    "duration": 9,
    "start_time": "2021-12-11T15:54:07.437Z"
   },
   {
    "duration": 679,
    "start_time": "2021-12-11T15:54:07.447Z"
   },
   {
    "duration": 4626,
    "start_time": "2021-12-11T15:54:08.128Z"
   },
   {
    "duration": 10,
    "start_time": "2021-12-11T15:54:12.755Z"
   },
   {
    "duration": 14,
    "start_time": "2021-12-11T15:54:12.768Z"
   },
   {
    "duration": 30,
    "start_time": "2021-12-11T15:54:12.785Z"
   },
   {
    "duration": 39,
    "start_time": "2021-12-11T15:54:12.818Z"
   },
   {
    "duration": 18,
    "start_time": "2021-12-11T15:54:12.859Z"
   },
   {
    "duration": 15,
    "start_time": "2021-12-11T15:54:12.879Z"
   },
   {
    "duration": 28,
    "start_time": "2021-12-11T15:54:12.897Z"
   },
   {
    "duration": 273,
    "start_time": "2021-12-11T15:54:12.927Z"
   },
   {
    "duration": 32,
    "start_time": "2021-12-11T15:54:13.202Z"
   },
   {
    "duration": 35,
    "start_time": "2021-12-11T15:54:13.236Z"
   },
   {
    "duration": 30,
    "start_time": "2021-12-11T15:54:13.272Z"
   },
   {
    "duration": 60,
    "start_time": "2021-12-11T15:54:13.304Z"
   },
   {
    "duration": 8,
    "start_time": "2021-12-11T15:54:46.140Z"
   },
   {
    "duration": 8,
    "start_time": "2021-12-11T15:58:34.726Z"
   },
   {
    "duration": 7,
    "start_time": "2021-12-11T15:58:50.853Z"
   },
   {
    "duration": 332,
    "start_time": "2021-12-11T16:02:35.747Z"
   },
   {
    "duration": 22,
    "start_time": "2021-12-11T16:03:18.610Z"
   },
   {
    "duration": 377,
    "start_time": "2021-12-11T16:05:13.351Z"
   },
   {
    "duration": 19,
    "start_time": "2021-12-11T16:05:44.395Z"
   },
   {
    "duration": 20,
    "start_time": "2021-12-11T16:06:17.598Z"
   },
   {
    "duration": 19,
    "start_time": "2021-12-11T16:07:05.033Z"
   },
   {
    "duration": 18,
    "start_time": "2021-12-11T16:07:31.040Z"
   },
   {
    "duration": 311,
    "start_time": "2021-12-11T16:07:51.390Z"
   },
   {
    "duration": 17,
    "start_time": "2021-12-11T16:07:55.468Z"
   },
   {
    "duration": 227,
    "start_time": "2021-12-11T16:15:13.591Z"
   },
   {
    "duration": 150,
    "start_time": "2021-12-11T16:15:22.655Z"
   },
   {
    "duration": 450,
    "start_time": "2021-12-11T16:16:22.674Z"
   },
   {
    "duration": 482,
    "start_time": "2021-12-11T16:16:26.607Z"
   },
   {
    "duration": 161,
    "start_time": "2021-12-11T16:16:35.283Z"
   },
   {
    "duration": 517,
    "start_time": "2021-12-11T16:16:48.289Z"
   },
   {
    "duration": 227,
    "start_time": "2021-12-11T16:16:53.122Z"
   },
   {
    "duration": 833,
    "start_time": "2021-12-11T16:28:36.546Z"
   },
   {
    "duration": 12,
    "start_time": "2021-12-11T16:28:37.382Z"
   },
   {
    "duration": 9,
    "start_time": "2021-12-11T16:28:37.397Z"
   },
   {
    "duration": 45,
    "start_time": "2021-12-11T16:28:37.408Z"
   },
   {
    "duration": 13,
    "start_time": "2021-12-11T16:28:37.454Z"
   },
   {
    "duration": 9,
    "start_time": "2021-12-11T16:28:37.469Z"
   },
   {
    "duration": 12,
    "start_time": "2021-12-11T16:28:37.480Z"
   },
   {
    "duration": 68,
    "start_time": "2021-12-11T16:28:37.495Z"
   },
   {
    "duration": 7,
    "start_time": "2021-12-11T16:28:37.565Z"
   },
   {
    "duration": 45,
    "start_time": "2021-12-11T16:28:37.574Z"
   },
   {
    "duration": 6,
    "start_time": "2021-12-11T16:28:37.645Z"
   },
   {
    "duration": 13,
    "start_time": "2021-12-11T16:28:37.652Z"
   },
   {
    "duration": 7,
    "start_time": "2021-12-11T16:28:37.667Z"
   },
   {
    "duration": 5,
    "start_time": "2021-12-11T16:28:37.676Z"
   },
   {
    "duration": 8,
    "start_time": "2021-12-11T16:28:37.682Z"
   },
   {
    "duration": 67,
    "start_time": "2021-12-11T16:28:37.691Z"
   },
   {
    "duration": 6,
    "start_time": "2021-12-11T16:28:37.760Z"
   },
   {
    "duration": 18,
    "start_time": "2021-12-11T16:28:37.768Z"
   },
   {
    "duration": 11,
    "start_time": "2021-12-11T16:28:37.787Z"
   },
   {
    "duration": 7,
    "start_time": "2021-12-11T16:28:37.800Z"
   },
   {
    "duration": 49,
    "start_time": "2021-12-11T16:28:37.808Z"
   },
   {
    "duration": 15,
    "start_time": "2021-12-11T16:28:37.859Z"
   },
   {
    "duration": 25,
    "start_time": "2021-12-11T16:28:37.876Z"
   },
   {
    "duration": 50,
    "start_time": "2021-12-11T16:28:37.903Z"
   },
   {
    "duration": 6,
    "start_time": "2021-12-11T16:28:37.955Z"
   },
   {
    "duration": 644,
    "start_time": "2021-12-11T16:28:37.962Z"
   },
   {
    "duration": 3993,
    "start_time": "2021-12-11T16:28:38.608Z"
   },
   {
    "duration": 8,
    "start_time": "2021-12-11T16:28:42.603Z"
   },
   {
    "duration": 11,
    "start_time": "2021-12-11T16:28:42.612Z"
   },
   {
    "duration": 25,
    "start_time": "2021-12-11T16:28:42.625Z"
   },
   {
    "duration": 22,
    "start_time": "2021-12-11T16:28:42.652Z"
   },
   {
    "duration": 17,
    "start_time": "2021-12-11T16:28:42.675Z"
   },
   {
    "duration": 7,
    "start_time": "2021-12-11T16:28:42.694Z"
   },
   {
    "duration": 16,
    "start_time": "2021-12-11T16:28:42.703Z"
   },
   {
    "duration": 261,
    "start_time": "2021-12-11T16:28:42.720Z"
   },
   {
    "duration": 18,
    "start_time": "2021-12-11T16:28:42.983Z"
   },
   {
    "duration": 46,
    "start_time": "2021-12-11T16:28:43.003Z"
   },
   {
    "duration": 30,
    "start_time": "2021-12-11T16:28:43.051Z"
   },
   {
    "duration": 227,
    "start_time": "2021-12-11T16:28:43.083Z"
   },
   {
    "duration": 40,
    "start_time": "2021-12-11T16:28:43.312Z"
   },
   {
    "duration": 29,
    "start_time": "2021-12-11T16:28:43.353Z"
   },
   {
    "duration": 11,
    "start_time": "2021-12-12T17:47:40.941Z"
   },
   {
    "duration": 9,
    "start_time": "2021-12-12T17:47:59.085Z"
   },
   {
    "duration": 817,
    "start_time": "2021-12-12T17:48:07.462Z"
   },
   {
    "duration": 11,
    "start_time": "2021-12-12T17:48:08.281Z"
   },
   {
    "duration": 9,
    "start_time": "2021-12-12T17:48:08.294Z"
   },
   {
    "duration": 24,
    "start_time": "2021-12-12T17:48:08.305Z"
   },
   {
    "duration": 41,
    "start_time": "2021-12-12T17:48:08.331Z"
   },
   {
    "duration": 22,
    "start_time": "2021-12-12T17:48:08.374Z"
   },
   {
    "duration": 7,
    "start_time": "2021-12-12T17:48:08.397Z"
   },
   {
    "duration": 11,
    "start_time": "2021-12-12T17:48:08.407Z"
   },
   {
    "duration": 81,
    "start_time": "2021-12-12T17:48:08.420Z"
   },
   {
    "duration": 9,
    "start_time": "2021-12-12T17:48:08.503Z"
   },
   {
    "duration": 68,
    "start_time": "2021-12-12T17:48:08.514Z"
   },
   {
    "duration": 5,
    "start_time": "2021-12-12T17:48:08.583Z"
   },
   {
    "duration": 9,
    "start_time": "2021-12-12T17:48:08.590Z"
   },
   {
    "duration": 5,
    "start_time": "2021-12-12T17:48:08.601Z"
   },
   {
    "duration": 6,
    "start_time": "2021-12-12T17:48:08.607Z"
   },
   {
    "duration": 8,
    "start_time": "2021-12-12T17:48:08.615Z"
   },
   {
    "duration": 86,
    "start_time": "2021-12-12T17:48:08.625Z"
   },
   {
    "duration": 7,
    "start_time": "2021-12-12T17:48:08.713Z"
   },
   {
    "duration": 20,
    "start_time": "2021-12-12T17:48:08.722Z"
   },
   {
    "duration": 11,
    "start_time": "2021-12-12T17:48:08.764Z"
   },
   {
    "duration": 7,
    "start_time": "2021-12-12T17:48:08.777Z"
   },
   {
    "duration": 18,
    "start_time": "2021-12-12T17:48:08.786Z"
   },
   {
    "duration": 16,
    "start_time": "2021-12-12T17:48:08.807Z"
   },
   {
    "duration": 56,
    "start_time": "2021-12-12T17:48:08.825Z"
   },
   {
    "duration": 31,
    "start_time": "2021-12-12T17:48:08.883Z"
   },
   {
    "duration": 5,
    "start_time": "2021-12-12T17:48:08.916Z"
   },
   {
    "duration": 707,
    "start_time": "2021-12-12T17:48:08.923Z"
   },
   {
    "duration": 3605,
    "start_time": "2021-12-12T17:48:09.632Z"
   },
   {
    "duration": 7,
    "start_time": "2021-12-12T17:48:13.239Z"
   },
   {
    "duration": 4,
    "start_time": "2021-12-12T17:48:13.263Z"
   },
   {
    "duration": 12,
    "start_time": "2021-12-12T17:48:13.268Z"
   },
   {
    "duration": 18,
    "start_time": "2021-12-12T17:48:13.282Z"
   },
   {
    "duration": 11,
    "start_time": "2021-12-12T17:48:13.301Z"
   },
   {
    "duration": 4,
    "start_time": "2021-12-12T17:48:13.313Z"
   },
   {
    "duration": 5,
    "start_time": "2021-12-12T17:48:13.319Z"
   },
   {
    "duration": 354,
    "start_time": "2021-12-12T17:48:13.325Z"
   },
   {
    "duration": 20,
    "start_time": "2021-12-12T17:48:13.681Z"
   },
   {
    "duration": 30,
    "start_time": "2021-12-12T17:48:13.703Z"
   },
   {
    "duration": 59,
    "start_time": "2021-12-12T17:48:13.735Z"
   },
   {
    "duration": 223,
    "start_time": "2021-12-12T17:48:13.796Z"
   },
   {
    "duration": 32,
    "start_time": "2021-12-12T17:48:14.021Z"
   },
   {
    "duration": 31,
    "start_time": "2021-12-12T17:48:14.063Z"
   },
   {
    "duration": 11,
    "start_time": "2021-12-12T17:48:35.995Z"
   },
   {
    "duration": 880,
    "start_time": "2021-12-12T17:48:49.149Z"
   },
   {
    "duration": 11,
    "start_time": "2021-12-12T17:48:50.032Z"
   },
   {
    "duration": 23,
    "start_time": "2021-12-12T17:48:50.045Z"
   },
   {
    "duration": 25,
    "start_time": "2021-12-12T17:48:50.070Z"
   },
   {
    "duration": 13,
    "start_time": "2021-12-12T17:48:50.097Z"
   },
   {
    "duration": 14,
    "start_time": "2021-12-12T17:48:50.112Z"
   },
   {
    "duration": 37,
    "start_time": "2021-12-12T17:48:50.127Z"
   },
   {
    "duration": 11,
    "start_time": "2021-12-12T17:48:50.167Z"
   },
   {
    "duration": 47,
    "start_time": "2021-12-12T17:48:50.180Z"
   },
   {
    "duration": 7,
    "start_time": "2021-12-12T17:48:50.229Z"
   },
   {
    "duration": 70,
    "start_time": "2021-12-12T17:48:50.237Z"
   },
   {
    "duration": 6,
    "start_time": "2021-12-12T17:48:50.309Z"
   },
   {
    "duration": 8,
    "start_time": "2021-12-12T17:48:50.316Z"
   },
   {
    "duration": 4,
    "start_time": "2021-12-12T17:48:50.325Z"
   },
   {
    "duration": 34,
    "start_time": "2021-12-12T17:48:50.331Z"
   },
   {
    "duration": 8,
    "start_time": "2021-12-12T17:48:50.367Z"
   },
   {
    "duration": 51,
    "start_time": "2021-12-12T17:48:50.377Z"
   },
   {
    "duration": 7,
    "start_time": "2021-12-12T17:48:50.430Z"
   },
   {
    "duration": 47,
    "start_time": "2021-12-12T17:48:50.439Z"
   },
   {
    "duration": 11,
    "start_time": "2021-12-12T17:48:50.488Z"
   },
   {
    "duration": 7,
    "start_time": "2021-12-12T17:48:50.501Z"
   },
   {
    "duration": 17,
    "start_time": "2021-12-12T17:48:50.510Z"
   },
   {
    "duration": 45,
    "start_time": "2021-12-12T17:48:50.530Z"
   },
   {
    "duration": 24,
    "start_time": "2021-12-12T17:48:50.577Z"
   },
   {
    "duration": 32,
    "start_time": "2021-12-12T17:48:50.602Z"
   },
   {
    "duration": 27,
    "start_time": "2021-12-12T17:48:50.636Z"
   },
   {
    "duration": 673,
    "start_time": "2021-12-12T17:48:50.665Z"
   },
   {
    "duration": 3572,
    "start_time": "2021-12-12T17:48:51.341Z"
   },
   {
    "duration": 7,
    "start_time": "2021-12-12T17:48:54.915Z"
   },
   {
    "duration": 5,
    "start_time": "2021-12-12T17:48:54.924Z"
   },
   {
    "duration": 9,
    "start_time": "2021-12-12T17:48:54.931Z"
   },
   {
    "duration": 36,
    "start_time": "2021-12-12T17:48:54.943Z"
   },
   {
    "duration": 11,
    "start_time": "2021-12-12T17:48:54.982Z"
   },
   {
    "duration": 3,
    "start_time": "2021-12-12T17:48:54.995Z"
   },
   {
    "duration": 6,
    "start_time": "2021-12-12T17:48:55.000Z"
   },
   {
    "duration": 257,
    "start_time": "2021-12-12T17:48:55.008Z"
   },
   {
    "duration": 17,
    "start_time": "2021-12-12T17:48:55.267Z"
   },
   {
    "duration": 28,
    "start_time": "2021-12-12T17:48:55.286Z"
   },
   {
    "duration": 55,
    "start_time": "2021-12-12T17:48:55.316Z"
   },
   {
    "duration": 214,
    "start_time": "2021-12-12T17:48:55.373Z"
   },
   {
    "duration": 31,
    "start_time": "2021-12-12T17:48:55.588Z"
   },
   {
    "duration": 46,
    "start_time": "2021-12-12T17:48:55.621Z"
   },
   {
    "duration": 18,
    "start_time": "2021-12-12T17:50:58.285Z"
   },
   {
    "duration": 854,
    "start_time": "2021-12-12T17:51:12.968Z"
   },
   {
    "duration": 11,
    "start_time": "2021-12-12T17:51:13.825Z"
   },
   {
    "duration": 26,
    "start_time": "2021-12-12T17:51:13.838Z"
   },
   {
    "duration": 24,
    "start_time": "2021-12-12T17:51:13.866Z"
   },
   {
    "duration": 13,
    "start_time": "2021-12-12T17:51:13.891Z"
   },
   {
    "duration": 13,
    "start_time": "2021-12-12T17:51:13.906Z"
   },
   {
    "duration": 7,
    "start_time": "2021-12-12T17:51:13.920Z"
   },
   {
    "duration": 44,
    "start_time": "2021-12-12T17:51:13.929Z"
   },
   {
    "duration": 14,
    "start_time": "2021-12-12T17:51:13.975Z"
   },
   {
    "duration": 45,
    "start_time": "2021-12-12T17:51:13.991Z"
   },
   {
    "duration": 33,
    "start_time": "2021-12-12T17:51:14.038Z"
   },
   {
    "duration": 48,
    "start_time": "2021-12-12T17:51:14.073Z"
   },
   {
    "duration": 5,
    "start_time": "2021-12-12T17:51:14.123Z"
   },
   {
    "duration": 36,
    "start_time": "2021-12-12T17:51:14.130Z"
   },
   {
    "duration": 4,
    "start_time": "2021-12-12T17:51:14.167Z"
   },
   {
    "duration": 6,
    "start_time": "2021-12-12T17:51:14.173Z"
   },
   {
    "duration": 9,
    "start_time": "2021-12-12T17:51:14.181Z"
   },
   {
    "duration": 77,
    "start_time": "2021-12-12T17:51:14.192Z"
   },
   {
    "duration": 8,
    "start_time": "2021-12-12T17:51:14.271Z"
   },
   {
    "duration": 20,
    "start_time": "2021-12-12T17:51:14.280Z"
   },
   {
    "duration": 11,
    "start_time": "2021-12-12T17:51:14.301Z"
   },
   {
    "duration": 7,
    "start_time": "2021-12-12T17:51:14.314Z"
   },
   {
    "duration": 47,
    "start_time": "2021-12-12T17:51:14.324Z"
   },
   {
    "duration": 17,
    "start_time": "2021-12-12T17:51:14.374Z"
   },
   {
    "duration": 24,
    "start_time": "2021-12-12T17:51:14.392Z"
   },
   {
    "duration": 62,
    "start_time": "2021-12-12T17:51:14.418Z"
   },
   {
    "duration": 7,
    "start_time": "2021-12-12T17:51:14.482Z"
   },
   {
    "duration": 694,
    "start_time": "2021-12-12T17:51:14.491Z"
   },
   {
    "duration": 3665,
    "start_time": "2021-12-12T17:51:15.188Z"
   },
   {
    "duration": 7,
    "start_time": "2021-12-12T17:51:18.863Z"
   },
   {
    "duration": 6,
    "start_time": "2021-12-12T17:51:18.872Z"
   },
   {
    "duration": 7,
    "start_time": "2021-12-12T17:51:18.880Z"
   },
   {
    "duration": 18,
    "start_time": "2021-12-12T17:51:18.889Z"
   },
   {
    "duration": 12,
    "start_time": "2021-12-12T17:51:18.909Z"
   },
   {
    "duration": 3,
    "start_time": "2021-12-12T17:51:18.923Z"
   },
   {
    "duration": 3,
    "start_time": "2021-12-12T17:51:18.964Z"
   },
   {
    "duration": 247,
    "start_time": "2021-12-12T17:51:18.969Z"
   },
   {
    "duration": 20,
    "start_time": "2021-12-12T17:51:19.218Z"
   },
   {
    "duration": 48,
    "start_time": "2021-12-12T17:51:19.239Z"
   },
   {
    "duration": 33,
    "start_time": "2021-12-12T17:51:19.289Z"
   },
   {
    "duration": 239,
    "start_time": "2021-12-12T17:51:19.324Z"
   },
   {
    "duration": 32,
    "start_time": "2021-12-12T17:51:19.564Z"
   },
   {
    "duration": 31,
    "start_time": "2021-12-12T17:51:19.598Z"
   },
   {
    "duration": 6,
    "start_time": "2021-12-12T17:54:20.929Z"
   },
   {
    "duration": 12,
    "start_time": "2021-12-12T17:54:34.249Z"
   },
   {
    "duration": 12,
    "start_time": "2021-12-12T17:55:23.816Z"
   },
   {
    "duration": 811,
    "start_time": "2021-12-12T17:55:47.891Z"
   },
   {
    "duration": 11,
    "start_time": "2021-12-12T17:55:48.703Z"
   },
   {
    "duration": 10,
    "start_time": "2021-12-12T17:55:48.716Z"
   },
   {
    "duration": 39,
    "start_time": "2021-12-12T17:55:48.728Z"
   },
   {
    "duration": 13,
    "start_time": "2021-12-12T17:55:48.769Z"
   },
   {
    "duration": 13,
    "start_time": "2021-12-12T17:55:48.784Z"
   },
   {
    "duration": 7,
    "start_time": "2021-12-12T17:55:48.798Z"
   },
   {
    "duration": 12,
    "start_time": "2021-12-12T17:55:48.808Z"
   },
   {
    "duration": 47,
    "start_time": "2021-12-12T17:55:48.823Z"
   },
   {
    "duration": 47,
    "start_time": "2021-12-12T17:55:48.872Z"
   },
   {
    "duration": 7,
    "start_time": "2021-12-12T17:55:48.921Z"
   },
   {
    "duration": 75,
    "start_time": "2021-12-12T17:55:48.930Z"
   },
   {
    "duration": 5,
    "start_time": "2021-12-12T17:55:49.007Z"
   },
   {
    "duration": 8,
    "start_time": "2021-12-12T17:55:49.014Z"
   },
   {
    "duration": 4,
    "start_time": "2021-12-12T17:55:49.024Z"
   },
   {
    "duration": 34,
    "start_time": "2021-12-12T17:55:49.029Z"
   },
   {
    "duration": 8,
    "start_time": "2021-12-12T17:55:49.065Z"
   },
   {
    "duration": 49,
    "start_time": "2021-12-12T17:55:49.075Z"
   },
   {
    "duration": 7,
    "start_time": "2021-12-12T17:55:49.126Z"
   },
   {
    "duration": 15,
    "start_time": "2021-12-12T17:55:49.163Z"
   },
   {
    "duration": 10,
    "start_time": "2021-12-12T17:55:49.180Z"
   },
   {
    "duration": 7,
    "start_time": "2021-12-12T17:55:49.191Z"
   },
   {
    "duration": 15,
    "start_time": "2021-12-12T17:55:49.202Z"
   },
   {
    "duration": 49,
    "start_time": "2021-12-12T17:55:49.219Z"
   },
   {
    "duration": 26,
    "start_time": "2021-12-12T17:55:49.270Z"
   },
   {
    "duration": 33,
    "start_time": "2021-12-12T17:55:49.298Z"
   },
   {
    "duration": 31,
    "start_time": "2021-12-12T17:55:49.333Z"
   },
   {
    "duration": 685,
    "start_time": "2021-12-12T17:55:49.366Z"
   },
   {
    "duration": 3649,
    "start_time": "2021-12-12T17:55:50.053Z"
   },
   {
    "duration": 8,
    "start_time": "2021-12-12T17:55:53.704Z"
   },
   {
    "duration": 5,
    "start_time": "2021-12-12T17:55:53.713Z"
   },
   {
    "duration": 9,
    "start_time": "2021-12-12T17:55:53.720Z"
   },
   {
    "duration": 36,
    "start_time": "2021-12-12T17:55:53.731Z"
   },
   {
    "duration": 11,
    "start_time": "2021-12-12T17:55:53.769Z"
   },
   {
    "duration": 3,
    "start_time": "2021-12-12T17:55:53.782Z"
   },
   {
    "duration": 5,
    "start_time": "2021-12-12T17:55:53.786Z"
   },
   {
    "duration": 265,
    "start_time": "2021-12-12T17:55:53.792Z"
   },
   {
    "duration": 20,
    "start_time": "2021-12-12T17:55:54.059Z"
   },
   {
    "duration": 29,
    "start_time": "2021-12-12T17:55:54.081Z"
   },
   {
    "duration": 55,
    "start_time": "2021-12-12T17:55:54.112Z"
   },
   {
    "duration": 210,
    "start_time": "2021-12-12T17:55:54.169Z"
   },
   {
    "duration": 30,
    "start_time": "2021-12-12T17:55:54.381Z"
   },
   {
    "duration": 30,
    "start_time": "2021-12-12T17:55:54.412Z"
   },
   {
    "duration": 11,
    "start_time": "2021-12-12T17:56:12.618Z"
   },
   {
    "duration": 11,
    "start_time": "2021-12-12T17:56:18.045Z"
   },
   {
    "duration": 13,
    "start_time": "2021-12-12T18:00:57.890Z"
   },
   {
    "duration": 14,
    "start_time": "2021-12-12T18:01:03.253Z"
   },
   {
    "duration": 20,
    "start_time": "2021-12-12T18:01:36.917Z"
   },
   {
    "duration": 92,
    "start_time": "2021-12-12T18:04:38.252Z"
   },
   {
    "duration": 7,
    "start_time": "2021-12-12T18:08:48.562Z"
   },
   {
    "duration": 9,
    "start_time": "2021-12-12T18:09:55.958Z"
   },
   {
    "duration": 945,
    "start_time": "2021-12-12T18:10:14.218Z"
   },
   {
    "duration": 10,
    "start_time": "2021-12-12T18:10:15.165Z"
   },
   {
    "duration": 8,
    "start_time": "2021-12-12T18:10:15.178Z"
   },
   {
    "duration": 22,
    "start_time": "2021-12-12T18:10:15.187Z"
   },
   {
    "duration": 12,
    "start_time": "2021-12-12T18:10:15.211Z"
   },
   {
    "duration": 12,
    "start_time": "2021-12-12T18:10:15.225Z"
   },
   {
    "duration": 6,
    "start_time": "2021-12-12T18:10:15.238Z"
   },
   {
    "duration": 17,
    "start_time": "2021-12-12T18:10:15.247Z"
   },
   {
    "duration": 20,
    "start_time": "2021-12-12T18:10:15.265Z"
   },
   {
    "duration": 40,
    "start_time": "2021-12-12T18:10:15.286Z"
   },
   {
    "duration": 8,
    "start_time": "2021-12-12T18:10:15.328Z"
   },
   {
    "duration": 7,
    "start_time": "2021-12-12T18:10:15.337Z"
   },
   {
    "duration": 55,
    "start_time": "2021-12-12T18:10:15.346Z"
   },
   {
    "duration": 5,
    "start_time": "2021-12-12T18:10:15.403Z"
   },
   {
    "duration": 9,
    "start_time": "2021-12-12T18:10:15.409Z"
   },
   {
    "duration": 4,
    "start_time": "2021-12-12T18:10:15.420Z"
   },
   {
    "duration": 7,
    "start_time": "2021-12-12T18:10:15.425Z"
   },
   {
    "duration": 16,
    "start_time": "2021-12-12T18:10:15.434Z"
   },
   {
    "duration": 48,
    "start_time": "2021-12-12T18:10:15.452Z"
   },
   {
    "duration": 6,
    "start_time": "2021-12-12T18:10:15.502Z"
   },
   {
    "duration": 18,
    "start_time": "2021-12-12T18:10:15.510Z"
   },
   {
    "duration": 9,
    "start_time": "2021-12-12T18:10:15.530Z"
   },
   {
    "duration": 6,
    "start_time": "2021-12-12T18:10:15.542Z"
   },
   {
    "duration": 22,
    "start_time": "2021-12-12T18:10:15.550Z"
   },
   {
    "duration": 17,
    "start_time": "2021-12-12T18:10:15.574Z"
   },
   {
    "duration": 22,
    "start_time": "2021-12-12T18:10:15.592Z"
   },
   {
    "duration": 29,
    "start_time": "2021-12-12T18:10:15.615Z"
   },
   {
    "duration": 5,
    "start_time": "2021-12-12T18:10:15.646Z"
   },
   {
    "duration": 848,
    "start_time": "2021-12-12T18:10:15.652Z"
   },
   {
    "duration": 3682,
    "start_time": "2021-12-12T18:10:16.502Z"
   },
   {
    "duration": 7,
    "start_time": "2021-12-12T18:10:20.186Z"
   },
   {
    "duration": 12,
    "start_time": "2021-12-12T18:10:20.194Z"
   },
   {
    "duration": 16,
    "start_time": "2021-12-12T18:10:20.208Z"
   },
   {
    "duration": 22,
    "start_time": "2021-12-12T18:10:20.226Z"
   },
   {
    "duration": 15,
    "start_time": "2021-12-12T18:10:20.250Z"
   },
   {
    "duration": 4,
    "start_time": "2021-12-12T18:10:20.267Z"
   },
   {
    "duration": 40,
    "start_time": "2021-12-12T18:10:20.272Z"
   },
   {
    "duration": 231,
    "start_time": "2021-12-12T18:10:20.313Z"
   },
   {
    "duration": 23,
    "start_time": "2021-12-12T18:10:20.546Z"
   },
   {
    "duration": 28,
    "start_time": "2021-12-12T18:10:20.571Z"
   },
   {
    "duration": 31,
    "start_time": "2021-12-12T18:10:20.601Z"
   },
   {
    "duration": 240,
    "start_time": "2021-12-12T18:10:20.635Z"
   },
   {
    "duration": 32,
    "start_time": "2021-12-12T18:10:20.877Z"
   },
   {
    "duration": 52,
    "start_time": "2021-12-12T18:10:20.911Z"
   },
   {
    "duration": 3,
    "start_time": "2021-12-12T18:12:00.495Z"
   },
   {
    "duration": 11,
    "start_time": "2021-12-12T18:12:30.607Z"
   },
   {
    "duration": 770,
    "start_time": "2021-12-12T18:12:50.113Z"
   },
   {
    "duration": 10,
    "start_time": "2021-12-12T18:12:50.885Z"
   },
   {
    "duration": 9,
    "start_time": "2021-12-12T18:12:50.897Z"
   },
   {
    "duration": 24,
    "start_time": "2021-12-12T18:12:50.907Z"
   },
   {
    "duration": 37,
    "start_time": "2021-12-12T18:12:50.933Z"
   },
   {
    "duration": 13,
    "start_time": "2021-12-12T18:12:50.971Z"
   },
   {
    "duration": 7,
    "start_time": "2021-12-12T18:12:50.985Z"
   },
   {
    "duration": 11,
    "start_time": "2021-12-12T18:12:50.995Z"
   },
   {
    "duration": 23,
    "start_time": "2021-12-12T18:12:51.009Z"
   },
   {
    "duration": 31,
    "start_time": "2021-12-12T18:12:51.034Z"
   },
   {
    "duration": 11,
    "start_time": "2021-12-12T18:12:51.067Z"
   },
   {
    "duration": 10,
    "start_time": "2021-12-12T18:12:51.080Z"
   },
   {
    "duration": 71,
    "start_time": "2021-12-12T18:12:51.092Z"
   },
   {
    "duration": 7,
    "start_time": "2021-12-12T18:12:51.165Z"
   },
   {
    "duration": 10,
    "start_time": "2021-12-12T18:12:51.174Z"
   },
   {
    "duration": 5,
    "start_time": "2021-12-12T18:12:51.186Z"
   },
   {
    "duration": 4,
    "start_time": "2021-12-12T18:12:51.192Z"
   },
   {
    "duration": 6,
    "start_time": "2021-12-12T18:12:51.198Z"
   },
   {
    "duration": 82,
    "start_time": "2021-12-12T18:12:51.206Z"
   },
   {
    "duration": 7,
    "start_time": "2021-12-12T18:12:51.290Z"
   },
   {
    "duration": 14,
    "start_time": "2021-12-12T18:12:51.298Z"
   },
   {
    "duration": 10,
    "start_time": "2021-12-12T18:12:51.313Z"
   },
   {
    "duration": 7,
    "start_time": "2021-12-12T18:12:51.326Z"
   },
   {
    "duration": 42,
    "start_time": "2021-12-12T18:12:51.335Z"
   },
   {
    "duration": 17,
    "start_time": "2021-12-12T18:12:51.378Z"
   },
   {
    "duration": 24,
    "start_time": "2021-12-12T18:12:51.397Z"
   },
   {
    "duration": 58,
    "start_time": "2021-12-12T18:12:51.422Z"
   },
   {
    "duration": 5,
    "start_time": "2021-12-12T18:12:51.482Z"
   },
   {
    "duration": 662,
    "start_time": "2021-12-12T18:12:51.488Z"
   },
   {
    "duration": 3749,
    "start_time": "2021-12-12T18:12:52.152Z"
   },
   {
    "duration": 9,
    "start_time": "2021-12-12T18:12:55.903Z"
   },
   {
    "duration": 6,
    "start_time": "2021-12-12T18:12:55.913Z"
   },
   {
    "duration": 9,
    "start_time": "2021-12-12T18:12:55.921Z"
   },
   {
    "duration": 43,
    "start_time": "2021-12-12T18:12:55.931Z"
   },
   {
    "duration": 13,
    "start_time": "2021-12-12T18:12:55.976Z"
   },
   {
    "duration": 4,
    "start_time": "2021-12-12T18:12:55.990Z"
   },
   {
    "duration": 6,
    "start_time": "2021-12-12T18:12:55.995Z"
   },
   {
    "duration": 263,
    "start_time": "2021-12-12T18:12:56.003Z"
   },
   {
    "duration": 16,
    "start_time": "2021-12-12T18:12:56.268Z"
   },
   {
    "duration": 28,
    "start_time": "2021-12-12T18:12:56.285Z"
   },
   {
    "duration": 56,
    "start_time": "2021-12-12T18:12:56.315Z"
   },
   {
    "duration": 212,
    "start_time": "2021-12-12T18:12:56.372Z"
   },
   {
    "duration": 31,
    "start_time": "2021-12-12T18:12:56.586Z"
   },
   {
    "duration": 48,
    "start_time": "2021-12-12T18:12:56.619Z"
   },
   {
    "duration": 9,
    "start_time": "2021-12-12T18:26:02.712Z"
   },
   {
    "duration": 358,
    "start_time": "2021-12-12T18:27:19.275Z"
   },
   {
    "duration": 226,
    "start_time": "2021-12-12T18:27:52.082Z"
   },
   {
    "duration": 237,
    "start_time": "2021-12-12T18:28:02.024Z"
   },
   {
    "duration": 9,
    "start_time": "2021-12-12T18:28:13.210Z"
   },
   {
    "duration": 9,
    "start_time": "2021-12-12T18:35:40.877Z"
   },
   {
    "duration": 7,
    "start_time": "2021-12-12T18:35:49.910Z"
   },
   {
    "duration": 824,
    "start_time": "2021-12-12T18:36:02.954Z"
   },
   {
    "duration": 10,
    "start_time": "2021-12-12T18:36:03.780Z"
   },
   {
    "duration": 9,
    "start_time": "2021-12-12T18:36:03.794Z"
   },
   {
    "duration": 22,
    "start_time": "2021-12-12T18:36:03.804Z"
   },
   {
    "duration": 36,
    "start_time": "2021-12-12T18:36:03.828Z"
   },
   {
    "duration": 14,
    "start_time": "2021-12-12T18:36:03.866Z"
   },
   {
    "duration": 6,
    "start_time": "2021-12-12T18:36:03.883Z"
   },
   {
    "duration": 11,
    "start_time": "2021-12-12T18:36:03.891Z"
   },
   {
    "duration": 17,
    "start_time": "2021-12-12T18:36:03.904Z"
   },
   {
    "duration": 2,
    "start_time": "2021-12-12T18:36:03.923Z"
   },
   {
    "duration": 42,
    "start_time": "2021-12-12T18:36:03.926Z"
   },
   {
    "duration": 8,
    "start_time": "2021-12-12T18:36:03.970Z"
   },
   {
    "duration": 46,
    "start_time": "2021-12-12T18:36:03.980Z"
   },
   {
    "duration": 5,
    "start_time": "2021-12-12T18:36:04.028Z"
   },
   {
    "duration": 8,
    "start_time": "2021-12-12T18:36:04.064Z"
   },
   {
    "duration": 5,
    "start_time": "2021-12-12T18:36:04.073Z"
   },
   {
    "duration": 4,
    "start_time": "2021-12-12T18:36:04.080Z"
   },
   {
    "duration": 8,
    "start_time": "2021-12-12T18:36:04.086Z"
   },
   {
    "duration": 72,
    "start_time": "2021-12-12T18:36:04.096Z"
   },
   {
    "duration": 7,
    "start_time": "2021-12-12T18:36:04.170Z"
   },
   {
    "duration": 9,
    "start_time": "2021-12-12T18:36:04.178Z"
   },
   {
    "duration": 2,
    "start_time": "2021-12-12T18:36:04.191Z"
   },
   {
    "duration": 15,
    "start_time": "2021-12-12T18:36:04.195Z"
   },
   {
    "duration": 10,
    "start_time": "2021-12-12T18:36:04.211Z"
   },
   {
    "duration": 7,
    "start_time": "2021-12-12T18:36:04.222Z"
   },
   {
    "duration": 48,
    "start_time": "2021-12-12T18:36:04.230Z"
   },
   {
    "duration": 17,
    "start_time": "2021-12-12T18:36:04.279Z"
   },
   {
    "duration": 23,
    "start_time": "2021-12-12T18:36:04.297Z"
   },
   {
    "duration": 50,
    "start_time": "2021-12-12T18:36:04.321Z"
   },
   {
    "duration": 5,
    "start_time": "2021-12-12T18:36:04.372Z"
   },
   {
    "duration": 664,
    "start_time": "2021-12-12T18:36:04.379Z"
   },
   {
    "duration": 3344,
    "start_time": "2021-12-12T18:36:05.045Z"
   },
   {
    "duration": 6,
    "start_time": "2021-12-12T18:36:08.391Z"
   },
   {
    "duration": 5,
    "start_time": "2021-12-12T18:36:08.399Z"
   },
   {
    "duration": 9,
    "start_time": "2021-12-12T18:36:08.405Z"
   },
   {
    "duration": 15,
    "start_time": "2021-12-12T18:36:08.416Z"
   },
   {
    "duration": 35,
    "start_time": "2021-12-12T18:36:08.433Z"
   },
   {
    "duration": 4,
    "start_time": "2021-12-12T18:36:08.470Z"
   },
   {
    "duration": 5,
    "start_time": "2021-12-12T18:36:08.475Z"
   },
   {
    "duration": 245,
    "start_time": "2021-12-12T18:36:08.482Z"
   },
   {
    "duration": 17,
    "start_time": "2021-12-12T18:36:08.729Z"
   },
   {
    "duration": 39,
    "start_time": "2021-12-12T18:36:08.748Z"
   },
   {
    "duration": 29,
    "start_time": "2021-12-12T18:36:08.789Z"
   },
   {
    "duration": 231,
    "start_time": "2021-12-12T18:36:08.819Z"
   },
   {
    "duration": 34,
    "start_time": "2021-12-12T18:36:09.051Z"
   },
   {
    "duration": 29,
    "start_time": "2021-12-12T18:36:09.087Z"
   },
   {
    "duration": 447,
    "start_time": "2021-12-12T19:32:11.581Z"
   },
   {
    "duration": 1150,
    "start_time": "2021-12-12T19:32:18.787Z"
   },
   {
    "duration": 28,
    "start_time": "2021-12-12T19:32:19.939Z"
   },
   {
    "duration": 13,
    "start_time": "2021-12-12T19:32:19.970Z"
   },
   {
    "duration": 40,
    "start_time": "2021-12-12T19:32:19.987Z"
   },
   {
    "duration": 53,
    "start_time": "2021-12-12T19:32:20.029Z"
   },
   {
    "duration": 24,
    "start_time": "2021-12-12T19:32:20.084Z"
   },
   {
    "duration": 14,
    "start_time": "2021-12-12T19:32:20.110Z"
   },
   {
    "duration": 19,
    "start_time": "2021-12-12T19:32:20.166Z"
   },
   {
    "duration": 44,
    "start_time": "2021-12-12T19:32:20.188Z"
   },
   {
    "duration": 3,
    "start_time": "2021-12-12T19:32:20.234Z"
   },
   {
    "duration": 11,
    "start_time": "2021-12-12T19:32:20.268Z"
   },
   {
    "duration": 13,
    "start_time": "2021-12-12T19:32:20.281Z"
   },
   {
    "duration": 111,
    "start_time": "2021-12-12T19:32:20.297Z"
   },
   {
    "duration": 8,
    "start_time": "2021-12-12T19:32:20.410Z"
   },
   {
    "duration": 12,
    "start_time": "2021-12-12T19:32:20.422Z"
   },
   {
    "duration": 32,
    "start_time": "2021-12-12T19:32:20.437Z"
   },
   {
    "duration": 12,
    "start_time": "2021-12-12T19:32:20.472Z"
   },
   {
    "duration": 10,
    "start_time": "2021-12-12T19:32:20.486Z"
   },
   {
    "duration": 118,
    "start_time": "2021-12-12T19:32:20.499Z"
   },
   {
    "duration": 11,
    "start_time": "2021-12-12T19:32:20.619Z"
   },
   {
    "duration": 39,
    "start_time": "2021-12-12T19:32:20.632Z"
   },
   {
    "duration": 8,
    "start_time": "2021-12-12T19:32:20.673Z"
   },
   {
    "duration": 11,
    "start_time": "2021-12-12T19:32:20.686Z"
   },
   {
    "duration": 24,
    "start_time": "2021-12-12T19:32:20.700Z"
   },
   {
    "duration": 52,
    "start_time": "2021-12-12T19:32:20.726Z"
   },
   {
    "duration": 10,
    "start_time": "2021-12-12T19:32:20.780Z"
   },
   {
    "duration": 27,
    "start_time": "2021-12-12T19:32:20.794Z"
   },
   {
    "duration": 54,
    "start_time": "2021-12-12T19:32:20.824Z"
   },
   {
    "duration": 38,
    "start_time": "2021-12-12T19:32:20.880Z"
   },
   {
    "duration": 93,
    "start_time": "2021-12-12T19:32:20.920Z"
   },
   {
    "duration": 11,
    "start_time": "2021-12-12T19:32:21.016Z"
   },
   {
    "duration": 981,
    "start_time": "2021-12-12T19:32:21.031Z"
   },
   {
    "duration": 5671,
    "start_time": "2021-12-12T19:32:22.015Z"
   },
   {
    "duration": 10,
    "start_time": "2021-12-12T19:32:27.689Z"
   },
   {
    "duration": 30,
    "start_time": "2021-12-12T19:32:27.701Z"
   },
   {
    "duration": 14,
    "start_time": "2021-12-12T19:32:27.734Z"
   },
   {
    "duration": 33,
    "start_time": "2021-12-12T19:32:27.750Z"
   },
   {
    "duration": 15,
    "start_time": "2021-12-12T19:32:27.786Z"
   },
   {
    "duration": 7,
    "start_time": "2021-12-12T19:32:27.804Z"
   },
   {
    "duration": 10,
    "start_time": "2021-12-12T19:32:27.814Z"
   },
   {
    "duration": 431,
    "start_time": "2021-12-12T19:32:27.866Z"
   },
   {
    "duration": 28,
    "start_time": "2021-12-12T19:32:28.300Z"
   },
   {
    "duration": 70,
    "start_time": "2021-12-12T19:32:28.330Z"
   },
   {
    "duration": 76,
    "start_time": "2021-12-12T19:32:28.402Z"
   },
   {
    "duration": 382,
    "start_time": "2021-12-12T19:32:28.480Z"
   },
   {
    "duration": 52,
    "start_time": "2021-12-12T19:32:28.866Z"
   },
   {
    "duration": 85,
    "start_time": "2021-12-12T19:32:28.921Z"
   },
   {
    "duration": 10,
    "start_time": "2021-12-12T19:33:10.809Z"
   },
   {
    "duration": 19,
    "start_time": "2021-12-12T19:33:28.427Z"
   },
   {
    "duration": 196,
    "start_time": "2021-12-12T19:42:27.345Z"
   },
   {
    "duration": 3,
    "start_time": "2021-12-12T19:43:26.675Z"
   },
   {
    "duration": 1125,
    "start_time": "2021-12-12T19:43:50.473Z"
   },
   {
    "duration": 16,
    "start_time": "2021-12-12T19:43:51.601Z"
   },
   {
    "duration": 31,
    "start_time": "2021-12-12T19:43:51.620Z"
   },
   {
    "duration": 63,
    "start_time": "2021-12-12T19:43:51.654Z"
   },
   {
    "duration": 21,
    "start_time": "2021-12-12T19:43:51.720Z"
   },
   {
    "duration": 46,
    "start_time": "2021-12-12T19:43:51.744Z"
   },
   {
    "duration": 15,
    "start_time": "2021-12-12T19:43:51.793Z"
   },
   {
    "duration": 32,
    "start_time": "2021-12-12T19:43:51.810Z"
   },
   {
    "duration": 51,
    "start_time": "2021-12-12T19:43:51.868Z"
   },
   {
    "duration": 3,
    "start_time": "2021-12-12T19:43:51.923Z"
   },
   {
    "duration": 39,
    "start_time": "2021-12-12T19:43:51.929Z"
   },
   {
    "duration": 19,
    "start_time": "2021-12-12T19:43:51.971Z"
   },
   {
    "duration": 96,
    "start_time": "2021-12-12T19:43:51.992Z"
   },
   {
    "duration": 9,
    "start_time": "2021-12-12T19:43:52.090Z"
   },
   {
    "duration": 26,
    "start_time": "2021-12-12T19:43:52.101Z"
   },
   {
    "duration": 20,
    "start_time": "2021-12-12T19:43:52.130Z"
   },
   {
    "duration": 24,
    "start_time": "2021-12-12T19:43:52.152Z"
   },
   {
    "duration": 30,
    "start_time": "2021-12-12T19:43:52.179Z"
   },
   {
    "duration": 104,
    "start_time": "2021-12-12T19:43:52.212Z"
   },
   {
    "duration": 15,
    "start_time": "2021-12-12T19:43:52.319Z"
   },
   {
    "duration": 31,
    "start_time": "2021-12-12T19:43:52.337Z"
   },
   {
    "duration": 8,
    "start_time": "2021-12-12T19:43:52.371Z"
   },
   {
    "duration": 55,
    "start_time": "2021-12-12T19:43:52.382Z"
   },
   {
    "duration": 24,
    "start_time": "2021-12-12T19:43:52.441Z"
   },
   {
    "duration": 21,
    "start_time": "2021-12-12T19:43:52.468Z"
   },
   {
    "duration": 14,
    "start_time": "2021-12-12T19:43:52.492Z"
   },
   {
    "duration": 33,
    "start_time": "2021-12-12T19:43:52.513Z"
   },
   {
    "duration": 27,
    "start_time": "2021-12-12T19:43:52.568Z"
   },
   {
    "duration": 39,
    "start_time": "2021-12-12T19:43:52.597Z"
   },
   {
    "duration": 73,
    "start_time": "2021-12-12T19:43:52.639Z"
   },
   {
    "duration": 10,
    "start_time": "2021-12-12T19:43:52.715Z"
   },
   {
    "duration": 1135,
    "start_time": "2021-12-12T19:43:52.728Z"
   },
   {
    "duration": 5376,
    "start_time": "2021-12-12T19:43:53.868Z"
   },
   {
    "duration": 23,
    "start_time": "2021-12-12T19:43:59.246Z"
   },
   {
    "duration": 27,
    "start_time": "2021-12-12T19:43:59.272Z"
   },
   {
    "duration": 37,
    "start_time": "2021-12-12T19:43:59.301Z"
   },
   {
    "duration": 59,
    "start_time": "2021-12-12T19:43:59.340Z"
   },
   {
    "duration": 15,
    "start_time": "2021-12-12T19:43:59.402Z"
   },
   {
    "duration": 27,
    "start_time": "2021-12-12T19:43:59.419Z"
   },
   {
    "duration": 26,
    "start_time": "2021-12-12T19:43:59.448Z"
   },
   {
    "duration": 544,
    "start_time": "2021-12-12T19:43:59.476Z"
   },
   {
    "duration": 44,
    "start_time": "2021-12-12T19:44:00.022Z"
   },
   {
    "duration": 51,
    "start_time": "2021-12-12T19:44:00.070Z"
   },
   {
    "duration": 84,
    "start_time": "2021-12-12T19:44:00.124Z"
   },
   {
    "duration": 399,
    "start_time": "2021-12-12T19:44:00.211Z"
   },
   {
    "duration": 63,
    "start_time": "2021-12-12T19:44:00.612Z"
   },
   {
    "duration": 50,
    "start_time": "2021-12-12T19:44:00.678Z"
   },
   {
    "duration": 100,
    "start_time": "2022-08-10T14:21:27.470Z"
   },
   {
    "duration": 99,
    "start_time": "2022-08-10T14:21:54.379Z"
   },
   {
    "duration": 52,
    "start_time": "2022-08-11T14:24:34.016Z"
   },
   {
    "duration": 395,
    "start_time": "2022-08-11T14:26:36.317Z"
   },
   {
    "duration": 110,
    "start_time": "2022-08-11T14:26:56.185Z"
   },
   {
    "duration": 327,
    "start_time": "2022-08-11T14:28:39.102Z"
   },
   {
    "duration": 12,
    "start_time": "2022-08-11T14:29:57.675Z"
   },
   {
    "duration": 14,
    "start_time": "2022-08-11T14:30:19.955Z"
   },
   {
    "duration": 7,
    "start_time": "2022-08-11T14:30:46.692Z"
   },
   {
    "duration": 20,
    "start_time": "2022-08-11T14:31:12.318Z"
   },
   {
    "duration": 9,
    "start_time": "2022-08-11T14:32:01.557Z"
   },
   {
    "duration": 38,
    "start_time": "2022-08-11T14:32:25.383Z"
   },
   {
    "duration": 5,
    "start_time": "2022-08-11T14:32:41.316Z"
   },
   {
    "duration": 7,
    "start_time": "2022-08-11T14:32:49.616Z"
   },
   {
    "duration": 5,
    "start_time": "2022-08-11T14:33:07.183Z"
   },
   {
    "duration": 4,
    "start_time": "2022-08-11T14:33:15.479Z"
   },
   {
    "duration": 7,
    "start_time": "2022-08-11T14:33:23.479Z"
   },
   {
    "duration": 37,
    "start_time": "2022-08-11T14:33:35.743Z"
   },
   {
    "duration": 7,
    "start_time": "2022-08-11T14:33:43.943Z"
   },
   {
    "duration": 12,
    "start_time": "2022-08-11T14:34:10.063Z"
   },
   {
    "duration": 13,
    "start_time": "2022-08-11T14:34:40.914Z"
   },
   {
    "duration": 15,
    "start_time": "2022-08-11T14:34:52.912Z"
   },
   {
    "duration": 7,
    "start_time": "2022-08-11T14:35:11.497Z"
   },
   {
    "duration": 14,
    "start_time": "2022-08-11T14:35:19.513Z"
   },
   {
    "duration": 17,
    "start_time": "2022-08-11T14:35:29.457Z"
   },
   {
    "duration": 25,
    "start_time": "2022-08-11T14:35:39.832Z"
   },
   {
    "duration": 32,
    "start_time": "2022-08-11T14:35:51.882Z"
   },
   {
    "duration": 6,
    "start_time": "2022-08-11T14:36:03.889Z"
   },
   {
    "duration": 709,
    "start_time": "2022-08-11T14:36:17.169Z"
   },
   {
    "duration": 2959,
    "start_time": "2022-08-11T14:36:32.130Z"
   },
   {
    "duration": 7,
    "start_time": "2022-08-11T14:37:42.739Z"
   },
   {
    "duration": 4,
    "start_time": "2022-08-11T14:37:56.412Z"
   },
   {
    "duration": 8,
    "start_time": "2022-08-11T14:38:10.564Z"
   },
   {
    "duration": 16,
    "start_time": "2022-08-11T14:38:26.739Z"
   },
   {
    "duration": 10,
    "start_time": "2022-08-11T14:38:45.140Z"
   },
   {
    "duration": 7,
    "start_time": "2022-08-11T14:38:50.962Z"
   },
   {
    "duration": 11,
    "start_time": "2022-08-11T14:38:55.324Z"
   },
   {
    "duration": 5,
    "start_time": "2022-08-11T14:39:16.532Z"
   },
   {
    "duration": 4,
    "start_time": "2022-08-11T14:39:17.380Z"
   },
   {
    "duration": 142,
    "start_time": "2022-08-11T14:39:30.719Z"
   },
   {
    "duration": 130,
    "start_time": "2022-08-11T14:39:39.205Z"
   },
   {
    "duration": 135,
    "start_time": "2022-08-11T14:39:46.118Z"
   },
   {
    "duration": 28,
    "start_time": "2022-08-11T14:41:24.312Z"
   },
   {
    "duration": 30,
    "start_time": "2022-08-11T14:42:55.569Z"
   },
   {
    "duration": 565,
    "start_time": "2022-08-11T14:46:15.660Z"
   },
   {
    "duration": 117,
    "start_time": "2022-08-11T14:46:44.149Z"
   },
   {
    "duration": 137,
    "start_time": "2022-08-11T14:47:42.069Z"
   },
   {
    "duration": 31,
    "start_time": "2022-08-11T14:50:42.991Z"
   },
   {
    "duration": 114,
    "start_time": "2022-08-11T14:51:12.939Z"
   },
   {
    "duration": 40,
    "start_time": "2022-08-11T14:54:56.328Z"
   },
   {
    "duration": 9,
    "start_time": "2022-08-11T14:54:59.831Z"
   },
   {
    "duration": 32,
    "start_time": "2022-08-11T14:55:06.105Z"
   },
   {
    "duration": 170,
    "start_time": "2022-08-11T14:55:59.305Z"
   },
   {
    "duration": 445,
    "start_time": "2022-08-11T15:01:56.654Z"
   },
   {
    "duration": 89,
    "start_time": "2022-08-11T15:01:57.100Z"
   },
   {
    "duration": 60,
    "start_time": "2022-08-11T15:01:57.190Z"
   },
   {
    "duration": 0,
    "start_time": "2022-08-11T15:01:57.252Z"
   },
   {
    "duration": 0,
    "start_time": "2022-08-11T15:01:57.254Z"
   },
   {
    "duration": 0,
    "start_time": "2022-08-11T15:01:57.255Z"
   },
   {
    "duration": 0,
    "start_time": "2022-08-11T15:01:57.256Z"
   },
   {
    "duration": 0,
    "start_time": "2022-08-11T15:01:57.257Z"
   },
   {
    "duration": 0,
    "start_time": "2022-08-11T15:01:57.258Z"
   },
   {
    "duration": 0,
    "start_time": "2022-08-11T15:01:57.259Z"
   },
   {
    "duration": 0,
    "start_time": "2022-08-11T15:01:57.260Z"
   },
   {
    "duration": 0,
    "start_time": "2022-08-11T15:01:57.261Z"
   },
   {
    "duration": 0,
    "start_time": "2022-08-11T15:01:57.262Z"
   },
   {
    "duration": 0,
    "start_time": "2022-08-11T15:01:57.263Z"
   },
   {
    "duration": 0,
    "start_time": "2022-08-11T15:01:57.264Z"
   },
   {
    "duration": 0,
    "start_time": "2022-08-11T15:01:57.265Z"
   },
   {
    "duration": 0,
    "start_time": "2022-08-11T15:01:57.287Z"
   },
   {
    "duration": 0,
    "start_time": "2022-08-11T15:01:57.288Z"
   },
   {
    "duration": 0,
    "start_time": "2022-08-11T15:01:57.289Z"
   },
   {
    "duration": 0,
    "start_time": "2022-08-11T15:01:57.290Z"
   },
   {
    "duration": 0,
    "start_time": "2022-08-11T15:01:57.292Z"
   },
   {
    "duration": 0,
    "start_time": "2022-08-11T15:01:57.293Z"
   },
   {
    "duration": 0,
    "start_time": "2022-08-11T15:01:57.294Z"
   },
   {
    "duration": 0,
    "start_time": "2022-08-11T15:01:57.295Z"
   },
   {
    "duration": 0,
    "start_time": "2022-08-11T15:01:57.296Z"
   },
   {
    "duration": 0,
    "start_time": "2022-08-11T15:01:57.297Z"
   },
   {
    "duration": 0,
    "start_time": "2022-08-11T15:01:57.298Z"
   },
   {
    "duration": 0,
    "start_time": "2022-08-11T15:01:57.299Z"
   },
   {
    "duration": 0,
    "start_time": "2022-08-11T15:01:57.299Z"
   },
   {
    "duration": 0,
    "start_time": "2022-08-11T15:01:57.300Z"
   },
   {
    "duration": 0,
    "start_time": "2022-08-11T15:01:57.301Z"
   },
   {
    "duration": 0,
    "start_time": "2022-08-11T15:01:57.302Z"
   },
   {
    "duration": 0,
    "start_time": "2022-08-11T15:01:57.303Z"
   },
   {
    "duration": 0,
    "start_time": "2022-08-11T15:01:57.303Z"
   },
   {
    "duration": 0,
    "start_time": "2022-08-11T15:01:57.304Z"
   },
   {
    "duration": 0,
    "start_time": "2022-08-11T15:01:57.305Z"
   },
   {
    "duration": 0,
    "start_time": "2022-08-11T15:01:57.306Z"
   },
   {
    "duration": 0,
    "start_time": "2022-08-11T15:01:57.307Z"
   },
   {
    "duration": 0,
    "start_time": "2022-08-11T15:01:57.307Z"
   },
   {
    "duration": 0,
    "start_time": "2022-08-11T15:01:57.308Z"
   },
   {
    "duration": 0,
    "start_time": "2022-08-11T15:01:57.309Z"
   },
   {
    "duration": 0,
    "start_time": "2022-08-11T15:01:57.310Z"
   },
   {
    "duration": 14,
    "start_time": "2022-08-11T15:02:32.719Z"
   },
   {
    "duration": 399,
    "start_time": "2022-08-11T15:03:47.808Z"
   },
   {
    "duration": 93,
    "start_time": "2022-08-11T15:03:48.209Z"
   },
   {
    "duration": 14,
    "start_time": "2022-08-11T15:03:48.304Z"
   },
   {
    "duration": 9,
    "start_time": "2022-08-11T15:03:48.320Z"
   },
   {
    "duration": 13,
    "start_time": "2022-08-11T15:03:48.331Z"
   },
   {
    "duration": 9,
    "start_time": "2022-08-11T15:03:48.346Z"
   },
   {
    "duration": 42,
    "start_time": "2022-08-11T15:03:48.356Z"
   },
   {
    "duration": 7,
    "start_time": "2022-08-11T15:03:48.400Z"
   },
   {
    "duration": 38,
    "start_time": "2022-08-11T15:03:48.409Z"
   },
   {
    "duration": 4,
    "start_time": "2022-08-11T15:03:48.449Z"
   },
   {
    "duration": 32,
    "start_time": "2022-08-11T15:03:48.455Z"
   },
   {
    "duration": 4,
    "start_time": "2022-08-11T15:03:48.488Z"
   },
   {
    "duration": 6,
    "start_time": "2022-08-11T15:03:48.493Z"
   },
   {
    "duration": 7,
    "start_time": "2022-08-11T15:03:48.502Z"
   },
   {
    "duration": 36,
    "start_time": "2022-08-11T15:03:48.510Z"
   },
   {
    "duration": 6,
    "start_time": "2022-08-11T15:03:48.547Z"
   },
   {
    "duration": 39,
    "start_time": "2022-08-11T15:03:48.555Z"
   },
   {
    "duration": 14,
    "start_time": "2022-08-11T15:03:48.595Z"
   },
   {
    "duration": 17,
    "start_time": "2022-08-11T15:03:48.611Z"
   },
   {
    "duration": 6,
    "start_time": "2022-08-11T15:03:48.630Z"
   },
   {
    "duration": 16,
    "start_time": "2022-08-11T15:03:48.637Z"
   },
   {
    "duration": 42,
    "start_time": "2022-08-11T15:03:48.654Z"
   },
   {
    "duration": 25,
    "start_time": "2022-08-11T15:03:48.698Z"
   },
   {
    "duration": 31,
    "start_time": "2022-08-11T15:03:48.724Z"
   },
   {
    "duration": 5,
    "start_time": "2022-08-11T15:03:48.756Z"
   },
   {
    "duration": 656,
    "start_time": "2022-08-11T15:03:48.787Z"
   },
   {
    "duration": 3064,
    "start_time": "2022-08-11T15:03:49.446Z"
   },
   {
    "duration": 7,
    "start_time": "2022-08-11T15:03:52.511Z"
   },
   {
    "duration": 5,
    "start_time": "2022-08-11T15:03:52.520Z"
   },
   {
    "duration": 12,
    "start_time": "2022-08-11T15:03:52.526Z"
   },
   {
    "duration": 19,
    "start_time": "2022-08-11T15:03:52.539Z"
   },
   {
    "duration": 31,
    "start_time": "2022-08-11T15:03:52.560Z"
   },
   {
    "duration": 3,
    "start_time": "2022-08-11T15:03:52.593Z"
   },
   {
    "duration": 11,
    "start_time": "2022-08-11T15:03:52.597Z"
   },
   {
    "duration": 141,
    "start_time": "2022-08-11T15:03:52.610Z"
   },
   {
    "duration": 35,
    "start_time": "2022-08-11T15:03:52.753Z"
   },
   {
    "duration": 29,
    "start_time": "2022-08-11T15:03:52.790Z"
   },
   {
    "duration": 354,
    "start_time": "2022-08-11T15:03:52.821Z"
   },
   {
    "duration": 34,
    "start_time": "2022-08-11T15:03:53.177Z"
   },
   {
    "duration": 119,
    "start_time": "2022-08-11T15:03:53.213Z"
   },
   {
    "duration": 29,
    "start_time": "2022-08-11T15:03:53.335Z"
   },
   {
    "duration": 123,
    "start_time": "2022-08-11T15:03:53.366Z"
   }
  ],
  "kernelspec": {
   "display_name": "Python 3 (ipykernel)",
   "language": "python",
   "name": "python3"
  },
  "language_info": {
   "codemirror_mode": {
    "name": "ipython",
    "version": 3
   },
   "file_extension": ".py",
   "mimetype": "text/x-python",
   "name": "python",
   "nbconvert_exporter": "python",
   "pygments_lexer": "ipython3",
   "version": "3.9.7"
  },
  "toc": {
   "base_numbering": 1,
   "nav_menu": {},
   "number_sections": true,
   "sideBar": true,
   "skip_h1_title": true,
   "title_cell": "Table of Contents",
   "title_sidebar": "Contents",
   "toc_cell": false,
   "toc_position": {},
   "toc_section_display": true,
   "toc_window_display": true
  }
 },
 "nbformat": 4,
 "nbformat_minor": 2
}
