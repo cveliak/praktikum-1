{
 "cells": [
  {
   "cell_type": "markdown",
   "metadata": {},
   "source": [
    "# Определение выгодного тарифа для телеком компании"
   ]
  },
  {
   "cell_type": "markdown",
   "metadata": {},
   "source": [
    "**Описание проекта**\n",
    "\n",
    "Клиентам оператора сотовой связи предлагают два тарифных плана: «Смарт» и «Ультра». Для корректировки рекламного бюджета требуется выяснить, какой тариф приносит больше денег. Предстоит сделать предварительный анализ тарифов на небольшой выборке клиентов. Имеются данные 500 клиентов за 2018 год. "
   ]
  },
  {
   "cell_type": "markdown",
   "metadata": {},
   "source": [
    "**Задача проекта**\n",
    "\n",
    "На основе данных клиентов оператора сотовой связи проанализировать поведение клиентов и поиск оптимального тарифа"
   ]
  },
  {
   "cell_type": "markdown",
   "metadata": {},
   "source": [
    "**Описание тарифов**\n",
    "\n",
    "*Тариф «Смарт»*\n",
    "1. Ежемесячная плата: 550 рублей\n",
    "2. Включено 500 минут разговора, 50 сообщений и 15 Гб интернет-трафика\n",
    "3. Стоимость услуг сверх тарифного пакета:\n",
    "- минута разговора: 3 рубля\n",
    "- сообщение: 3 рубля\n",
    "- 1 Гб интернет-трафика: 200 рублей\n",
    "\n",
    "*Тариф «Ультра»*\n",
    "1. Ежемесячная плата: 1950 рублей\n",
    "2. Включено 3000 минут разговора, 1000 сообщений и 30 Гб интернет-трафика\n",
    "3. Стоимость услуг сверх тарифного пакета:\n",
    "- минута разговора: 1 рубль\n",
    "- сообщение: 1 рубль\n",
    "- 1 Гб интернет-трафика: 150 рублей"
   ]
  },
  {
   "cell_type": "markdown",
   "metadata": {},
   "source": [
    "**Описание данных**\n",
    "\n",
    "Таблица users (информация о пользователях):\n",
    "- user_id — уникальный идентификатор пользователя\n",
    "- first_name — имя пользователя\n",
    "- last_name — фамилия пользователя\n",
    "- age — возраст пользователя (годы)\n",
    "- reg_date — дата подключения тарифа (день, месяц, год)\n",
    "- churn_date — дата прекращения пользования тарифом (если значение пропущено, то тариф ещё действовал на момент выгрузки данных)\n",
    "- city — город проживания пользователя\n",
    "- tariff — название тарифного плана\n",
    "\n",
    "Таблица calls (информация о звонках):\n",
    "- id — уникальный номер звонка\n",
    "- call_date — дата звонка\n",
    "- duration — длительность звонка в минутах\n",
    "- user_id — идентификатор пользователя, сделавшего звонок\n",
    "\n",
    "Таблица messages (информация о сообщениях):\n",
    "- id — уникальный номер сообщения\n",
    "- message_date — дата сообщения\n",
    "- user_id — идентификатор пользователя, отправившего сообщение\n",
    "\n",
    "Таблица internet (информация об интернет-сессиях):\n",
    "- id — уникальный номер сессии\n",
    "- mb_used — объём потраченного за сессию интернет-трафика (в мегабайтах)\n",
    "- session_date — дата интернет-сессии\n",
    "- user_id — идентификатор пользователя\n",
    "\n",
    "Таблица tariffs (информация о тарифах):\n",
    "- tariff_name — название тарифа\n",
    "- rub_monthly_fee — ежемесячная абонентская плата в рублях\n",
    "- minutes_included — количество минут разговора в месяц, включённых в абонентскую плату\n",
    "- messages_included — количество сообщений в месяц, включённых в абонентскую плату\n",
    "- mb_per_month_included — объём интернет-трафика, включённого в абонентскую плату (в мегабайтах)\n",
    "- rub_per_minute — стоимость минуты разговора сверх тарифного пакета (например, если в тарифе 100 минут разговора в месяц, то со 101 минуты будет взиматься плата)\n",
    "- rub_per_message — стоимость отправки сообщения сверх тарифного пакета\n",
    "- rub_per_gb — стоимость дополнительного гигабайта интернет-трафика сверх тарифного пакета (1 гигабайт = 1024 мегабайта) "
   ]
  },
  {
   "cell_type": "markdown",
   "metadata": {},
   "source": [
    "**План работы**"
   ]
  },
  {
   "cell_type": "markdown",
   "metadata": {},
   "source": [
    "1. Загрузка данных и изучение общей информации \n",
    "2. Предобработка данных(приведение к нужному типу, исправление ошибок)\n",
    "3. Проведение расчетов \n",
    "4. Проверка гипотез\n",
    "5. Подведение итогов исследования "
   ]
  },
  {
   "cell_type": "markdown",
   "metadata": {},
   "source": [
    "## Загрузка данных и изучение общей информации"
   ]
  },
  {
   "cell_type": "markdown",
   "metadata": {},
   "source": [
    "### Знакомство с данными"
   ]
  },
  {
   "cell_type": "code",
   "execution_count": 1,
   "metadata": {},
   "outputs": [],
   "source": [
    "import pandas as pd\n",
    "import numpy as np\n",
    "from scipy import stats as st\n",
    "import matplotlib.pyplot as plt\n",
    "import seaborn as sns\n",
    "import warnings\n",
    "warnings.filterwarnings('ignore')"
   ]
  },
  {
   "cell_type": "code",
   "execution_count": 2,
   "metadata": {},
   "outputs": [
    {
     "data": {
      "text/html": [
       "<div>\n",
       "<style scoped>\n",
       "    .dataframe tbody tr th:only-of-type {\n",
       "        vertical-align: middle;\n",
       "    }\n",
       "\n",
       "    .dataframe tbody tr th {\n",
       "        vertical-align: top;\n",
       "    }\n",
       "\n",
       "    .dataframe thead th {\n",
       "        text-align: right;\n",
       "    }\n",
       "</style>\n",
       "<table border=\"1\" class=\"dataframe\">\n",
       "  <thead>\n",
       "    <tr style=\"text-align: right;\">\n",
       "      <th></th>\n",
       "      <th>id</th>\n",
       "      <th>call_date</th>\n",
       "      <th>duration</th>\n",
       "      <th>user_id</th>\n",
       "    </tr>\n",
       "  </thead>\n",
       "  <tbody>\n",
       "    <tr>\n",
       "      <th>0</th>\n",
       "      <td>1000_0</td>\n",
       "      <td>2018-07-25</td>\n",
       "      <td>0.00</td>\n",
       "      <td>1000</td>\n",
       "    </tr>\n",
       "    <tr>\n",
       "      <th>1</th>\n",
       "      <td>1000_1</td>\n",
       "      <td>2018-08-17</td>\n",
       "      <td>0.00</td>\n",
       "      <td>1000</td>\n",
       "    </tr>\n",
       "    <tr>\n",
       "      <th>2</th>\n",
       "      <td>1000_2</td>\n",
       "      <td>2018-06-11</td>\n",
       "      <td>2.85</td>\n",
       "      <td>1000</td>\n",
       "    </tr>\n",
       "    <tr>\n",
       "      <th>3</th>\n",
       "      <td>1000_3</td>\n",
       "      <td>2018-09-21</td>\n",
       "      <td>13.80</td>\n",
       "      <td>1000</td>\n",
       "    </tr>\n",
       "    <tr>\n",
       "      <th>4</th>\n",
       "      <td>1000_4</td>\n",
       "      <td>2018-12-15</td>\n",
       "      <td>5.18</td>\n",
       "      <td>1000</td>\n",
       "    </tr>\n",
       "    <tr>\n",
       "      <th>5</th>\n",
       "      <td>1000_5</td>\n",
       "      <td>2018-11-02</td>\n",
       "      <td>0.00</td>\n",
       "      <td>1000</td>\n",
       "    </tr>\n",
       "    <tr>\n",
       "      <th>6</th>\n",
       "      <td>1000_6</td>\n",
       "      <td>2018-10-18</td>\n",
       "      <td>0.00</td>\n",
       "      <td>1000</td>\n",
       "    </tr>\n",
       "    <tr>\n",
       "      <th>7</th>\n",
       "      <td>1000_7</td>\n",
       "      <td>2018-08-22</td>\n",
       "      <td>18.31</td>\n",
       "      <td>1000</td>\n",
       "    </tr>\n",
       "    <tr>\n",
       "      <th>8</th>\n",
       "      <td>1000_8</td>\n",
       "      <td>2018-09-15</td>\n",
       "      <td>18.44</td>\n",
       "      <td>1000</td>\n",
       "    </tr>\n",
       "    <tr>\n",
       "      <th>9</th>\n",
       "      <td>1000_9</td>\n",
       "      <td>2018-08-15</td>\n",
       "      <td>0.00</td>\n",
       "      <td>1000</td>\n",
       "    </tr>\n",
       "  </tbody>\n",
       "</table>\n",
       "</div>"
      ],
      "text/plain": [
       "       id   call_date  duration  user_id\n",
       "0  1000_0  2018-07-25      0.00     1000\n",
       "1  1000_1  2018-08-17      0.00     1000\n",
       "2  1000_2  2018-06-11      2.85     1000\n",
       "3  1000_3  2018-09-21     13.80     1000\n",
       "4  1000_4  2018-12-15      5.18     1000\n",
       "5  1000_5  2018-11-02      0.00     1000\n",
       "6  1000_6  2018-10-18      0.00     1000\n",
       "7  1000_7  2018-08-22     18.31     1000\n",
       "8  1000_8  2018-09-15     18.44     1000\n",
       "9  1000_9  2018-08-15      0.00     1000"
      ]
     },
     "execution_count": 2,
     "metadata": {},
     "output_type": "execute_result"
    }
   ],
   "source": [
    "#информация о звонках\n",
    "df_calls = pd.read_csv('C:/Users/OT/Desktop/проекты/Тарифы/calls.csv')\n",
    "df_calls.head(10)"
   ]
  },
  {
   "cell_type": "code",
   "execution_count": 3,
   "metadata": {},
   "outputs": [
    {
     "name": "stdout",
     "output_type": "stream",
     "text": [
      "<class 'pandas.core.frame.DataFrame'>\n",
      "RangeIndex: 202607 entries, 0 to 202606\n",
      "Data columns (total 4 columns):\n",
      " #   Column     Non-Null Count   Dtype  \n",
      "---  ------     --------------   -----  \n",
      " 0   id         202607 non-null  object \n",
      " 1   call_date  202607 non-null  object \n",
      " 2   duration   202607 non-null  float64\n",
      " 3   user_id    202607 non-null  int64  \n",
      "dtypes: float64(1), int64(1), object(2)\n",
      "memory usage: 6.2+ MB\n"
     ]
    }
   ],
   "source": [
    "df_calls.info()"
   ]
  },
  {
   "cell_type": "markdown",
   "metadata": {},
   "source": [
    "Пропущенных значений нет. Четыре столбца, три типа данных. Изменить тип в столбце call_date."
   ]
  },
  {
   "cell_type": "code",
   "execution_count": 4,
   "metadata": {},
   "outputs": [
    {
     "data": {
      "text/html": [
       "<div>\n",
       "<style scoped>\n",
       "    .dataframe tbody tr th:only-of-type {\n",
       "        vertical-align: middle;\n",
       "    }\n",
       "\n",
       "    .dataframe tbody tr th {\n",
       "        vertical-align: top;\n",
       "    }\n",
       "\n",
       "    .dataframe thead th {\n",
       "        text-align: right;\n",
       "    }\n",
       "</style>\n",
       "<table border=\"1\" class=\"dataframe\">\n",
       "  <thead>\n",
       "    <tr style=\"text-align: right;\">\n",
       "      <th></th>\n",
       "      <th>Unnamed: 0</th>\n",
       "      <th>id</th>\n",
       "      <th>mb_used</th>\n",
       "      <th>session_date</th>\n",
       "      <th>user_id</th>\n",
       "    </tr>\n",
       "  </thead>\n",
       "  <tbody>\n",
       "    <tr>\n",
       "      <th>0</th>\n",
       "      <td>0</td>\n",
       "      <td>1000_0</td>\n",
       "      <td>112.95</td>\n",
       "      <td>2018-11-25</td>\n",
       "      <td>1000</td>\n",
       "    </tr>\n",
       "    <tr>\n",
       "      <th>1</th>\n",
       "      <td>1</td>\n",
       "      <td>1000_1</td>\n",
       "      <td>1052.81</td>\n",
       "      <td>2018-09-07</td>\n",
       "      <td>1000</td>\n",
       "    </tr>\n",
       "    <tr>\n",
       "      <th>2</th>\n",
       "      <td>2</td>\n",
       "      <td>1000_2</td>\n",
       "      <td>1197.26</td>\n",
       "      <td>2018-06-25</td>\n",
       "      <td>1000</td>\n",
       "    </tr>\n",
       "    <tr>\n",
       "      <th>3</th>\n",
       "      <td>3</td>\n",
       "      <td>1000_3</td>\n",
       "      <td>550.27</td>\n",
       "      <td>2018-08-22</td>\n",
       "      <td>1000</td>\n",
       "    </tr>\n",
       "    <tr>\n",
       "      <th>4</th>\n",
       "      <td>4</td>\n",
       "      <td>1000_4</td>\n",
       "      <td>302.56</td>\n",
       "      <td>2018-09-24</td>\n",
       "      <td>1000</td>\n",
       "    </tr>\n",
       "    <tr>\n",
       "      <th>5</th>\n",
       "      <td>5</td>\n",
       "      <td>1000_5</td>\n",
       "      <td>399.97</td>\n",
       "      <td>2018-10-02</td>\n",
       "      <td>1000</td>\n",
       "    </tr>\n",
       "    <tr>\n",
       "      <th>6</th>\n",
       "      <td>6</td>\n",
       "      <td>1000_6</td>\n",
       "      <td>540.08</td>\n",
       "      <td>2018-09-07</td>\n",
       "      <td>1000</td>\n",
       "    </tr>\n",
       "    <tr>\n",
       "      <th>7</th>\n",
       "      <td>7</td>\n",
       "      <td>1000_7</td>\n",
       "      <td>415.70</td>\n",
       "      <td>2018-07-11</td>\n",
       "      <td>1000</td>\n",
       "    </tr>\n",
       "    <tr>\n",
       "      <th>8</th>\n",
       "      <td>8</td>\n",
       "      <td>1000_8</td>\n",
       "      <td>505.40</td>\n",
       "      <td>2018-10-08</td>\n",
       "      <td>1000</td>\n",
       "    </tr>\n",
       "    <tr>\n",
       "      <th>9</th>\n",
       "      <td>9</td>\n",
       "      <td>1000_9</td>\n",
       "      <td>345.54</td>\n",
       "      <td>2018-09-03</td>\n",
       "      <td>1000</td>\n",
       "    </tr>\n",
       "  </tbody>\n",
       "</table>\n",
       "</div>"
      ],
      "text/plain": [
       "   Unnamed: 0      id  mb_used session_date  user_id\n",
       "0           0  1000_0   112.95   2018-11-25     1000\n",
       "1           1  1000_1  1052.81   2018-09-07     1000\n",
       "2           2  1000_2  1197.26   2018-06-25     1000\n",
       "3           3  1000_3   550.27   2018-08-22     1000\n",
       "4           4  1000_4   302.56   2018-09-24     1000\n",
       "5           5  1000_5   399.97   2018-10-02     1000\n",
       "6           6  1000_6   540.08   2018-09-07     1000\n",
       "7           7  1000_7   415.70   2018-07-11     1000\n",
       "8           8  1000_8   505.40   2018-10-08     1000\n",
       "9           9  1000_9   345.54   2018-09-03     1000"
      ]
     },
     "execution_count": 4,
     "metadata": {},
     "output_type": "execute_result"
    }
   ],
   "source": [
    "#информация об интернет-сессиях\n",
    "df_internet = pd.read_csv('C:/Users/OT/Desktop/проекты/Тарифы/internet.csv')\n",
    "df_internet.head(10)"
   ]
  },
  {
   "cell_type": "code",
   "execution_count": 5,
   "metadata": {},
   "outputs": [
    {
     "name": "stdout",
     "output_type": "stream",
     "text": [
      "<class 'pandas.core.frame.DataFrame'>\n",
      "RangeIndex: 149396 entries, 0 to 149395\n",
      "Data columns (total 5 columns):\n",
      " #   Column        Non-Null Count   Dtype  \n",
      "---  ------        --------------   -----  \n",
      " 0   Unnamed: 0    149396 non-null  int64  \n",
      " 1   id            149396 non-null  object \n",
      " 2   mb_used       149396 non-null  float64\n",
      " 3   session_date  149396 non-null  object \n",
      " 4   user_id       149396 non-null  int64  \n",
      "dtypes: float64(1), int64(2), object(2)\n",
      "memory usage: 5.7+ MB\n"
     ]
    }
   ],
   "source": [
    "df_internet.info()"
   ]
  },
  {
   "cell_type": "markdown",
   "metadata": {},
   "source": [
    "Пропущенных значений нет. Пять столбцов, три типа данных. Изменить тип данных в столбце session_date."
   ]
  },
  {
   "cell_type": "code",
   "execution_count": 6,
   "metadata": {},
   "outputs": [
    {
     "data": {
      "text/html": [
       "<div>\n",
       "<style scoped>\n",
       "    .dataframe tbody tr th:only-of-type {\n",
       "        vertical-align: middle;\n",
       "    }\n",
       "\n",
       "    .dataframe tbody tr th {\n",
       "        vertical-align: top;\n",
       "    }\n",
       "\n",
       "    .dataframe thead th {\n",
       "        text-align: right;\n",
       "    }\n",
       "</style>\n",
       "<table border=\"1\" class=\"dataframe\">\n",
       "  <thead>\n",
       "    <tr style=\"text-align: right;\">\n",
       "      <th></th>\n",
       "      <th>id</th>\n",
       "      <th>message_date</th>\n",
       "      <th>user_id</th>\n",
       "    </tr>\n",
       "  </thead>\n",
       "  <tbody>\n",
       "    <tr>\n",
       "      <th>0</th>\n",
       "      <td>1000_0</td>\n",
       "      <td>2018-06-27</td>\n",
       "      <td>1000</td>\n",
       "    </tr>\n",
       "    <tr>\n",
       "      <th>1</th>\n",
       "      <td>1000_1</td>\n",
       "      <td>2018-10-08</td>\n",
       "      <td>1000</td>\n",
       "    </tr>\n",
       "    <tr>\n",
       "      <th>2</th>\n",
       "      <td>1000_2</td>\n",
       "      <td>2018-08-04</td>\n",
       "      <td>1000</td>\n",
       "    </tr>\n",
       "    <tr>\n",
       "      <th>3</th>\n",
       "      <td>1000_3</td>\n",
       "      <td>2018-06-16</td>\n",
       "      <td>1000</td>\n",
       "    </tr>\n",
       "    <tr>\n",
       "      <th>4</th>\n",
       "      <td>1000_4</td>\n",
       "      <td>2018-12-05</td>\n",
       "      <td>1000</td>\n",
       "    </tr>\n",
       "    <tr>\n",
       "      <th>5</th>\n",
       "      <td>1000_5</td>\n",
       "      <td>2018-06-20</td>\n",
       "      <td>1000</td>\n",
       "    </tr>\n",
       "    <tr>\n",
       "      <th>6</th>\n",
       "      <td>1000_6</td>\n",
       "      <td>2018-11-19</td>\n",
       "      <td>1000</td>\n",
       "    </tr>\n",
       "    <tr>\n",
       "      <th>7</th>\n",
       "      <td>1000_7</td>\n",
       "      <td>2018-10-29</td>\n",
       "      <td>1000</td>\n",
       "    </tr>\n",
       "    <tr>\n",
       "      <th>8</th>\n",
       "      <td>1000_8</td>\n",
       "      <td>2018-06-25</td>\n",
       "      <td>1000</td>\n",
       "    </tr>\n",
       "    <tr>\n",
       "      <th>9</th>\n",
       "      <td>1000_9</td>\n",
       "      <td>2018-12-18</td>\n",
       "      <td>1000</td>\n",
       "    </tr>\n",
       "  </tbody>\n",
       "</table>\n",
       "</div>"
      ],
      "text/plain": [
       "       id message_date  user_id\n",
       "0  1000_0   2018-06-27     1000\n",
       "1  1000_1   2018-10-08     1000\n",
       "2  1000_2   2018-08-04     1000\n",
       "3  1000_3   2018-06-16     1000\n",
       "4  1000_4   2018-12-05     1000\n",
       "5  1000_5   2018-06-20     1000\n",
       "6  1000_6   2018-11-19     1000\n",
       "7  1000_7   2018-10-29     1000\n",
       "8  1000_8   2018-06-25     1000\n",
       "9  1000_9   2018-12-18     1000"
      ]
     },
     "execution_count": 6,
     "metadata": {},
     "output_type": "execute_result"
    }
   ],
   "source": [
    "#информация о сообщениях\n",
    "df_messages = pd.read_csv('C:/Users/OT/Desktop/проекты/Тарифы/messages.csv')\n",
    "df_messages.head(10)  "
   ]
  },
  {
   "cell_type": "code",
   "execution_count": 7,
   "metadata": {},
   "outputs": [
    {
     "name": "stdout",
     "output_type": "stream",
     "text": [
      "<class 'pandas.core.frame.DataFrame'>\n",
      "RangeIndex: 123036 entries, 0 to 123035\n",
      "Data columns (total 3 columns):\n",
      " #   Column        Non-Null Count   Dtype \n",
      "---  ------        --------------   ----- \n",
      " 0   id            123036 non-null  object\n",
      " 1   message_date  123036 non-null  object\n",
      " 2   user_id       123036 non-null  int64 \n",
      "dtypes: int64(1), object(2)\n",
      "memory usage: 2.8+ MB\n"
     ]
    }
   ],
   "source": [
    "df_messages.info()"
   ]
  },
  {
   "cell_type": "markdown",
   "metadata": {},
   "source": [
    "Пропущенных значений нет. Три столбца, два типа данных. Изменить тип в столбце message_date."
   ]
  },
  {
   "cell_type": "code",
   "execution_count": 8,
   "metadata": {},
   "outputs": [
    {
     "data": {
      "text/html": [
       "<div>\n",
       "<style scoped>\n",
       "    .dataframe tbody tr th:only-of-type {\n",
       "        vertical-align: middle;\n",
       "    }\n",
       "\n",
       "    .dataframe tbody tr th {\n",
       "        vertical-align: top;\n",
       "    }\n",
       "\n",
       "    .dataframe thead th {\n",
       "        text-align: right;\n",
       "    }\n",
       "</style>\n",
       "<table border=\"1\" class=\"dataframe\">\n",
       "  <thead>\n",
       "    <tr style=\"text-align: right;\">\n",
       "      <th></th>\n",
       "      <th>messages_included</th>\n",
       "      <th>mb_per_month_included</th>\n",
       "      <th>minutes_included</th>\n",
       "      <th>rub_monthly_fee</th>\n",
       "      <th>rub_per_gb</th>\n",
       "      <th>rub_per_message</th>\n",
       "      <th>rub_per_minute</th>\n",
       "      <th>tariff_name</th>\n",
       "    </tr>\n",
       "  </thead>\n",
       "  <tbody>\n",
       "    <tr>\n",
       "      <th>0</th>\n",
       "      <td>50</td>\n",
       "      <td>15360</td>\n",
       "      <td>500</td>\n",
       "      <td>550</td>\n",
       "      <td>200</td>\n",
       "      <td>3</td>\n",
       "      <td>3</td>\n",
       "      <td>smart</td>\n",
       "    </tr>\n",
       "    <tr>\n",
       "      <th>1</th>\n",
       "      <td>1000</td>\n",
       "      <td>30720</td>\n",
       "      <td>3000</td>\n",
       "      <td>1950</td>\n",
       "      <td>150</td>\n",
       "      <td>1</td>\n",
       "      <td>1</td>\n",
       "      <td>ultra</td>\n",
       "    </tr>\n",
       "  </tbody>\n",
       "</table>\n",
       "</div>"
      ],
      "text/plain": [
       "   messages_included  mb_per_month_included  minutes_included  \\\n",
       "0                 50                  15360               500   \n",
       "1               1000                  30720              3000   \n",
       "\n",
       "   rub_monthly_fee  rub_per_gb  rub_per_message  rub_per_minute tariff_name  \n",
       "0              550         200                3               3       smart  \n",
       "1             1950         150                1               1       ultra  "
      ]
     },
     "execution_count": 8,
     "metadata": {},
     "output_type": "execute_result"
    }
   ],
   "source": [
    "#информация о тарифах\n",
    "df_tariffs = pd.read_csv('C:/Users/OT/Desktop/проекты/Тарифы/tariffs.csv')\n",
    "df_tariffs "
   ]
  },
  {
   "cell_type": "code",
   "execution_count": 9,
   "metadata": {},
   "outputs": [
    {
     "name": "stdout",
     "output_type": "stream",
     "text": [
      "<class 'pandas.core.frame.DataFrame'>\n",
      "RangeIndex: 2 entries, 0 to 1\n",
      "Data columns (total 8 columns):\n",
      " #   Column                 Non-Null Count  Dtype \n",
      "---  ------                 --------------  ----- \n",
      " 0   messages_included      2 non-null      int64 \n",
      " 1   mb_per_month_included  2 non-null      int64 \n",
      " 2   minutes_included       2 non-null      int64 \n",
      " 3   rub_monthly_fee        2 non-null      int64 \n",
      " 4   rub_per_gb             2 non-null      int64 \n",
      " 5   rub_per_message        2 non-null      int64 \n",
      " 6   rub_per_minute         2 non-null      int64 \n",
      " 7   tariff_name            2 non-null      object\n",
      "dtypes: int64(7), object(1)\n",
      "memory usage: 256.0+ bytes\n"
     ]
    }
   ],
   "source": [
    "df_tariffs.info()"
   ]
  },
  {
   "cell_type": "markdown",
   "metadata": {},
   "source": [
    "Пропущенных значений нет. Восемь столбцов, два типа данных. "
   ]
  },
  {
   "cell_type": "code",
   "execution_count": 10,
   "metadata": {},
   "outputs": [
    {
     "data": {
      "text/html": [
       "<div>\n",
       "<style scoped>\n",
       "    .dataframe tbody tr th:only-of-type {\n",
       "        vertical-align: middle;\n",
       "    }\n",
       "\n",
       "    .dataframe tbody tr th {\n",
       "        vertical-align: top;\n",
       "    }\n",
       "\n",
       "    .dataframe thead th {\n",
       "        text-align: right;\n",
       "    }\n",
       "</style>\n",
       "<table border=\"1\" class=\"dataframe\">\n",
       "  <thead>\n",
       "    <tr style=\"text-align: right;\">\n",
       "      <th></th>\n",
       "      <th>user_id</th>\n",
       "      <th>age</th>\n",
       "      <th>churn_date</th>\n",
       "      <th>city</th>\n",
       "      <th>first_name</th>\n",
       "      <th>last_name</th>\n",
       "      <th>reg_date</th>\n",
       "      <th>tariff</th>\n",
       "    </tr>\n",
       "  </thead>\n",
       "  <tbody>\n",
       "    <tr>\n",
       "      <th>0</th>\n",
       "      <td>1000</td>\n",
       "      <td>52</td>\n",
       "      <td>NaN</td>\n",
       "      <td>Краснодар</td>\n",
       "      <td>Рафаил</td>\n",
       "      <td>Верещагин</td>\n",
       "      <td>2018-05-25</td>\n",
       "      <td>ultra</td>\n",
       "    </tr>\n",
       "    <tr>\n",
       "      <th>1</th>\n",
       "      <td>1001</td>\n",
       "      <td>41</td>\n",
       "      <td>NaN</td>\n",
       "      <td>Москва</td>\n",
       "      <td>Иван</td>\n",
       "      <td>Ежов</td>\n",
       "      <td>2018-11-01</td>\n",
       "      <td>smart</td>\n",
       "    </tr>\n",
       "    <tr>\n",
       "      <th>2</th>\n",
       "      <td>1002</td>\n",
       "      <td>59</td>\n",
       "      <td>NaN</td>\n",
       "      <td>Стерлитамак</td>\n",
       "      <td>Евгений</td>\n",
       "      <td>Абрамович</td>\n",
       "      <td>2018-06-17</td>\n",
       "      <td>smart</td>\n",
       "    </tr>\n",
       "    <tr>\n",
       "      <th>3</th>\n",
       "      <td>1003</td>\n",
       "      <td>23</td>\n",
       "      <td>NaN</td>\n",
       "      <td>Москва</td>\n",
       "      <td>Белла</td>\n",
       "      <td>Белякова</td>\n",
       "      <td>2018-08-17</td>\n",
       "      <td>ultra</td>\n",
       "    </tr>\n",
       "    <tr>\n",
       "      <th>4</th>\n",
       "      <td>1004</td>\n",
       "      <td>68</td>\n",
       "      <td>NaN</td>\n",
       "      <td>Новокузнецк</td>\n",
       "      <td>Татьяна</td>\n",
       "      <td>Авдеенко</td>\n",
       "      <td>2018-05-14</td>\n",
       "      <td>ultra</td>\n",
       "    </tr>\n",
       "    <tr>\n",
       "      <th>5</th>\n",
       "      <td>1005</td>\n",
       "      <td>67</td>\n",
       "      <td>NaN</td>\n",
       "      <td>Набережные Челны</td>\n",
       "      <td>Афанасий</td>\n",
       "      <td>Горлов</td>\n",
       "      <td>2018-01-25</td>\n",
       "      <td>smart</td>\n",
       "    </tr>\n",
       "    <tr>\n",
       "      <th>6</th>\n",
       "      <td>1006</td>\n",
       "      <td>21</td>\n",
       "      <td>NaN</td>\n",
       "      <td>Ульяновск</td>\n",
       "      <td>Леонид</td>\n",
       "      <td>Ермолаев</td>\n",
       "      <td>2018-02-26</td>\n",
       "      <td>smart</td>\n",
       "    </tr>\n",
       "    <tr>\n",
       "      <th>7</th>\n",
       "      <td>1007</td>\n",
       "      <td>65</td>\n",
       "      <td>NaN</td>\n",
       "      <td>Москва</td>\n",
       "      <td>Юна</td>\n",
       "      <td>Березина</td>\n",
       "      <td>2018-04-19</td>\n",
       "      <td>smart</td>\n",
       "    </tr>\n",
       "    <tr>\n",
       "      <th>8</th>\n",
       "      <td>1008</td>\n",
       "      <td>63</td>\n",
       "      <td>NaN</td>\n",
       "      <td>Челябинск</td>\n",
       "      <td>Рустэм</td>\n",
       "      <td>Пономарёв</td>\n",
       "      <td>2018-12-19</td>\n",
       "      <td>smart</td>\n",
       "    </tr>\n",
       "    <tr>\n",
       "      <th>9</th>\n",
       "      <td>1009</td>\n",
       "      <td>24</td>\n",
       "      <td>NaN</td>\n",
       "      <td>Пермь</td>\n",
       "      <td>Василиса</td>\n",
       "      <td>Блинова</td>\n",
       "      <td>2018-03-22</td>\n",
       "      <td>smart</td>\n",
       "    </tr>\n",
       "  </tbody>\n",
       "</table>\n",
       "</div>"
      ],
      "text/plain": [
       "   user_id  age churn_date              city first_name  last_name  \\\n",
       "0     1000   52        NaN         Краснодар     Рафаил  Верещагин   \n",
       "1     1001   41        NaN            Москва       Иван       Ежов   \n",
       "2     1002   59        NaN       Стерлитамак    Евгений  Абрамович   \n",
       "3     1003   23        NaN            Москва      Белла   Белякова   \n",
       "4     1004   68        NaN       Новокузнецк    Татьяна   Авдеенко   \n",
       "5     1005   67        NaN  Набережные Челны   Афанасий     Горлов   \n",
       "6     1006   21        NaN         Ульяновск     Леонид   Ермолаев   \n",
       "7     1007   65        NaN            Москва        Юна   Березина   \n",
       "8     1008   63        NaN         Челябинск     Рустэм  Пономарёв   \n",
       "9     1009   24        NaN             Пермь   Василиса    Блинова   \n",
       "\n",
       "     reg_date tariff  \n",
       "0  2018-05-25  ultra  \n",
       "1  2018-11-01  smart  \n",
       "2  2018-06-17  smart  \n",
       "3  2018-08-17  ultra  \n",
       "4  2018-05-14  ultra  \n",
       "5  2018-01-25  smart  \n",
       "6  2018-02-26  smart  \n",
       "7  2018-04-19  smart  \n",
       "8  2018-12-19  smart  \n",
       "9  2018-03-22  smart  "
      ]
     },
     "execution_count": 10,
     "metadata": {},
     "output_type": "execute_result"
    }
   ],
   "source": [
    "#информация о пользователях\n",
    "df_users = pd.read_csv('C:/Users/OT/Desktop/проекты/Тарифы/users.csv')\n",
    "df_users.head(10)"
   ]
  },
  {
   "cell_type": "code",
   "execution_count": 11,
   "metadata": {},
   "outputs": [
    {
     "name": "stdout",
     "output_type": "stream",
     "text": [
      "<class 'pandas.core.frame.DataFrame'>\n",
      "RangeIndex: 500 entries, 0 to 499\n",
      "Data columns (total 8 columns):\n",
      " #   Column      Non-Null Count  Dtype \n",
      "---  ------      --------------  ----- \n",
      " 0   user_id     500 non-null    int64 \n",
      " 1   age         500 non-null    int64 \n",
      " 2   churn_date  38 non-null     object\n",
      " 3   city        500 non-null    object\n",
      " 4   first_name  500 non-null    object\n",
      " 5   last_name   500 non-null    object\n",
      " 6   reg_date    500 non-null    object\n",
      " 7   tariff      500 non-null    object\n",
      "dtypes: int64(2), object(6)\n",
      "memory usage: 31.4+ KB\n"
     ]
    }
   ],
   "source": [
    "df_users.info()"
   ]
  },
  {
   "cell_type": "markdown",
   "metadata": {},
   "source": [
    "Пропущены значения в столбце churn_date. Восемь столбцов, два типа данных. Изменить тип данных в столбцах churn_date и reg_date. "
   ]
  },
  {
   "cell_type": "markdown",
   "metadata": {},
   "source": [
    "### Вывод "
   ]
  },
  {
   "cell_type": "markdown",
   "metadata": {},
   "source": [
    "Пропущены значения только в столбце churn_date файла с данными о пользователях. Согласно описанию данных, это означает, что тариф еще действовал на момент выгрузки данных. Оставим здесь пропуски, т.к. в анализе они не участвуют. Необходимо изменить тип данных в датах. Присутствуют звонки с нулевой продолжительностью. Необходимо округлить время звонков и объем трафика в большую сторону в соответствии с условиями тарифов."
   ]
  },
  {
   "cell_type": "markdown",
   "metadata": {},
   "source": [
    "## Предобработка данных"
   ]
  },
  {
   "cell_type": "markdown",
   "metadata": {},
   "source": [
    "### Изменение типов данных"
   ]
  },
  {
   "cell_type": "markdown",
   "metadata": {},
   "source": [
    "Изменим тип данных во всех датах:"
   ]
  },
  {
   "cell_type": "code",
   "execution_count": 12,
   "metadata": {},
   "outputs": [],
   "source": [
    "df_calls['call_date']=pd.to_datetime(df_calls['call_date'],format='%Y-%m-%d')\n",
    "df_internet['session_date']=pd.to_datetime(df_internet['session_date'],format='%Y-%m-%d')\n",
    "df_messages['message_date']=pd.to_datetime(df_messages['message_date'],format='%Y-%m-%d')\n",
    "df_users['churn_date']=pd.to_datetime(df_users['churn_date'],format='%Y-%m-%d')\n",
    "df_users['reg_date']=pd.to_datetime(df_users['reg_date'],format='%Y-%m-%d')"
   ]
  },
  {
   "cell_type": "markdown",
   "metadata": {},
   "source": [
    "Округлим время звонков:"
   ]
  },
  {
   "cell_type": "code",
   "execution_count": 13,
   "metadata": {},
   "outputs": [],
   "source": [
    "df_calls['duration'] = np.ceil(df_calls['duration'])"
   ]
  },
  {
   "cell_type": "markdown",
   "metadata": {},
   "source": [
    "Добавим столбец с месяцем в таблицы:"
   ]
  },
  {
   "cell_type": "code",
   "execution_count": 14,
   "metadata": {},
   "outputs": [],
   "source": [
    "df_calls['month'] = pd.DatetimeIndex(df_calls['call_date']).month\n",
    "df_internet['month'] = pd.DatetimeIndex(df_internet['session_date']).month\n",
    "df_messages['month'] = pd.DatetimeIndex(df_messages['message_date']).month\n",
    "df_users['month'] = pd.DatetimeIndex(df_users['reg_date']).month"
   ]
  },
  {
   "cell_type": "markdown",
   "metadata": {},
   "source": [
    "### Сводные таблицы"
   ]
  },
  {
   "cell_type": "markdown",
   "metadata": {},
   "source": [
    "Сделаем сводные по звонкам, сообщениям и интернет-трафику:"
   ]
  },
  {
   "cell_type": "code",
   "execution_count": 15,
   "metadata": {},
   "outputs": [
    {
     "data": {
      "text/html": [
       "<div>\n",
       "<style scoped>\n",
       "    .dataframe tbody tr th:only-of-type {\n",
       "        vertical-align: middle;\n",
       "    }\n",
       "\n",
       "    .dataframe tbody tr th {\n",
       "        vertical-align: top;\n",
       "    }\n",
       "\n",
       "    .dataframe thead th {\n",
       "        text-align: right;\n",
       "    }\n",
       "</style>\n",
       "<table border=\"1\" class=\"dataframe\">\n",
       "  <thead>\n",
       "    <tr style=\"text-align: right;\">\n",
       "      <th></th>\n",
       "      <th></th>\n",
       "      <th>duration</th>\n",
       "    </tr>\n",
       "    <tr>\n",
       "      <th>user_id</th>\n",
       "      <th>month</th>\n",
       "      <th></th>\n",
       "    </tr>\n",
       "  </thead>\n",
       "  <tbody>\n",
       "    <tr>\n",
       "      <th rowspan=\"5\" valign=\"top\">1000</th>\n",
       "      <th>5</th>\n",
       "      <td>159.0</td>\n",
       "    </tr>\n",
       "    <tr>\n",
       "      <th>6</th>\n",
       "      <td>172.0</td>\n",
       "    </tr>\n",
       "    <tr>\n",
       "      <th>7</th>\n",
       "      <td>340.0</td>\n",
       "    </tr>\n",
       "    <tr>\n",
       "      <th>8</th>\n",
       "      <td>408.0</td>\n",
       "    </tr>\n",
       "    <tr>\n",
       "      <th>9</th>\n",
       "      <td>466.0</td>\n",
       "    </tr>\n",
       "    <tr>\n",
       "      <th>...</th>\n",
       "      <th>...</th>\n",
       "      <td>...</td>\n",
       "    </tr>\n",
       "    <tr>\n",
       "      <th>1498</th>\n",
       "      <th>10</th>\n",
       "      <td>247.0</td>\n",
       "    </tr>\n",
       "    <tr>\n",
       "      <th rowspan=\"4\" valign=\"top\">1499</th>\n",
       "      <th>9</th>\n",
       "      <td>70.0</td>\n",
       "    </tr>\n",
       "    <tr>\n",
       "      <th>10</th>\n",
       "      <td>449.0</td>\n",
       "    </tr>\n",
       "    <tr>\n",
       "      <th>11</th>\n",
       "      <td>612.0</td>\n",
       "    </tr>\n",
       "    <tr>\n",
       "      <th>12</th>\n",
       "      <td>492.0</td>\n",
       "    </tr>\n",
       "  </tbody>\n",
       "</table>\n",
       "<p>3174 rows × 1 columns</p>\n",
       "</div>"
      ],
      "text/plain": [
       "               duration\n",
       "user_id month          \n",
       "1000    5         159.0\n",
       "        6         172.0\n",
       "        7         340.0\n",
       "        8         408.0\n",
       "        9         466.0\n",
       "...                 ...\n",
       "1498    10        247.0\n",
       "1499    9          70.0\n",
       "        10        449.0\n",
       "        11        612.0\n",
       "        12        492.0\n",
       "\n",
       "[3174 rows x 1 columns]"
      ]
     },
     "execution_count": 15,
     "metadata": {},
     "output_type": "execute_result"
    }
   ],
   "source": [
    "#звонки\n",
    "month_calls = df_calls.pivot_table(index=['user_id', 'month'],values='duration',aggfunc=('sum'))\n",
    "month_calls"
   ]
  },
  {
   "cell_type": "code",
   "execution_count": 16,
   "metadata": {},
   "outputs": [
    {
     "data": {
      "text/html": [
       "<div>\n",
       "<style scoped>\n",
       "    .dataframe tbody tr th:only-of-type {\n",
       "        vertical-align: middle;\n",
       "    }\n",
       "\n",
       "    .dataframe tbody tr th {\n",
       "        vertical-align: top;\n",
       "    }\n",
       "\n",
       "    .dataframe thead th {\n",
       "        text-align: right;\n",
       "    }\n",
       "</style>\n",
       "<table border=\"1\" class=\"dataframe\">\n",
       "  <thead>\n",
       "    <tr style=\"text-align: right;\">\n",
       "      <th></th>\n",
       "      <th></th>\n",
       "      <th>message_date</th>\n",
       "    </tr>\n",
       "    <tr>\n",
       "      <th>user_id</th>\n",
       "      <th>month</th>\n",
       "      <th></th>\n",
       "    </tr>\n",
       "  </thead>\n",
       "  <tbody>\n",
       "    <tr>\n",
       "      <th rowspan=\"5\" valign=\"top\">1000</th>\n",
       "      <th>5</th>\n",
       "      <td>22</td>\n",
       "    </tr>\n",
       "    <tr>\n",
       "      <th>6</th>\n",
       "      <td>60</td>\n",
       "    </tr>\n",
       "    <tr>\n",
       "      <th>7</th>\n",
       "      <td>75</td>\n",
       "    </tr>\n",
       "    <tr>\n",
       "      <th>8</th>\n",
       "      <td>81</td>\n",
       "    </tr>\n",
       "    <tr>\n",
       "      <th>9</th>\n",
       "      <td>57</td>\n",
       "    </tr>\n",
       "    <tr>\n",
       "      <th>...</th>\n",
       "      <th>...</th>\n",
       "      <td>...</td>\n",
       "    </tr>\n",
       "    <tr>\n",
       "      <th>1498</th>\n",
       "      <th>10</th>\n",
       "      <td>42</td>\n",
       "    </tr>\n",
       "    <tr>\n",
       "      <th rowspan=\"4\" valign=\"top\">1499</th>\n",
       "      <th>9</th>\n",
       "      <td>11</td>\n",
       "    </tr>\n",
       "    <tr>\n",
       "      <th>10</th>\n",
       "      <td>48</td>\n",
       "    </tr>\n",
       "    <tr>\n",
       "      <th>11</th>\n",
       "      <td>59</td>\n",
       "    </tr>\n",
       "    <tr>\n",
       "      <th>12</th>\n",
       "      <td>66</td>\n",
       "    </tr>\n",
       "  </tbody>\n",
       "</table>\n",
       "<p>2717 rows × 1 columns</p>\n",
       "</div>"
      ],
      "text/plain": [
       "               message_date\n",
       "user_id month              \n",
       "1000    5                22\n",
       "        6                60\n",
       "        7                75\n",
       "        8                81\n",
       "        9                57\n",
       "...                     ...\n",
       "1498    10               42\n",
       "1499    9                11\n",
       "        10               48\n",
       "        11               59\n",
       "        12               66\n",
       "\n",
       "[2717 rows x 1 columns]"
      ]
     },
     "execution_count": 16,
     "metadata": {},
     "output_type": "execute_result"
    }
   ],
   "source": [
    "#сообщения\n",
    "month_messages = df_messages.pivot_table(index=['user_id','month',],values='message_date',aggfunc=('count'))\n",
    "month_messages"
   ]
  },
  {
   "cell_type": "code",
   "execution_count": 17,
   "metadata": {},
   "outputs": [
    {
     "data": {
      "text/html": [
       "<div>\n",
       "<style scoped>\n",
       "    .dataframe tbody tr th:only-of-type {\n",
       "        vertical-align: middle;\n",
       "    }\n",
       "\n",
       "    .dataframe tbody tr th {\n",
       "        vertical-align: top;\n",
       "    }\n",
       "\n",
       "    .dataframe thead th {\n",
       "        text-align: right;\n",
       "    }\n",
       "</style>\n",
       "<table border=\"1\" class=\"dataframe\">\n",
       "  <thead>\n",
       "    <tr style=\"text-align: right;\">\n",
       "      <th></th>\n",
       "      <th></th>\n",
       "      <th>mb_used</th>\n",
       "    </tr>\n",
       "    <tr>\n",
       "      <th>user_id</th>\n",
       "      <th>month</th>\n",
       "      <th></th>\n",
       "    </tr>\n",
       "  </thead>\n",
       "  <tbody>\n",
       "    <tr>\n",
       "      <th rowspan=\"5\" valign=\"top\">1000</th>\n",
       "      <th>5</th>\n",
       "      <td>2253.49</td>\n",
       "    </tr>\n",
       "    <tr>\n",
       "      <th>6</th>\n",
       "      <td>23233.77</td>\n",
       "    </tr>\n",
       "    <tr>\n",
       "      <th>7</th>\n",
       "      <td>14003.64</td>\n",
       "    </tr>\n",
       "    <tr>\n",
       "      <th>8</th>\n",
       "      <td>14055.93</td>\n",
       "    </tr>\n",
       "    <tr>\n",
       "      <th>9</th>\n",
       "      <td>14568.91</td>\n",
       "    </tr>\n",
       "    <tr>\n",
       "      <th>...</th>\n",
       "      <th>...</th>\n",
       "      <td>...</td>\n",
       "    </tr>\n",
       "    <tr>\n",
       "      <th>1498</th>\n",
       "      <th>10</th>\n",
       "      <td>20579.36</td>\n",
       "    </tr>\n",
       "    <tr>\n",
       "      <th rowspan=\"4\" valign=\"top\">1499</th>\n",
       "      <th>9</th>\n",
       "      <td>1845.75</td>\n",
       "    </tr>\n",
       "    <tr>\n",
       "      <th>10</th>\n",
       "      <td>17788.51</td>\n",
       "    </tr>\n",
       "    <tr>\n",
       "      <th>11</th>\n",
       "      <td>17963.31</td>\n",
       "    </tr>\n",
       "    <tr>\n",
       "      <th>12</th>\n",
       "      <td>13055.58</td>\n",
       "    </tr>\n",
       "  </tbody>\n",
       "</table>\n",
       "<p>3203 rows × 1 columns</p>\n",
       "</div>"
      ],
      "text/plain": [
       "                mb_used\n",
       "user_id month          \n",
       "1000    5       2253.49\n",
       "        6      23233.77\n",
       "        7      14003.64\n",
       "        8      14055.93\n",
       "        9      14568.91\n",
       "...                 ...\n",
       "1498    10     20579.36\n",
       "1499    9       1845.75\n",
       "        10     17788.51\n",
       "        11     17963.31\n",
       "        12     13055.58\n",
       "\n",
       "[3203 rows x 1 columns]"
      ]
     },
     "execution_count": 17,
     "metadata": {},
     "output_type": "execute_result"
    }
   ],
   "source": [
    "#интернет-трафик\n",
    "month_internet = df_internet.pivot_table(index=['user_id','month'],values='mb_used',aggfunc=('sum'))\n",
    "month_internet"
   ]
  },
  {
   "cell_type": "markdown",
   "metadata": {},
   "source": [
    "Объединим сводные в рабочую таблицу:"
   ]
  },
  {
   "cell_type": "code",
   "execution_count": 18,
   "metadata": {},
   "outputs": [
    {
     "data": {
      "text/html": [
       "<div>\n",
       "<style scoped>\n",
       "    .dataframe tbody tr th:only-of-type {\n",
       "        vertical-align: middle;\n",
       "    }\n",
       "\n",
       "    .dataframe tbody tr th {\n",
       "        vertical-align: top;\n",
       "    }\n",
       "\n",
       "    .dataframe thead th {\n",
       "        text-align: right;\n",
       "    }\n",
       "</style>\n",
       "<table border=\"1\" class=\"dataframe\">\n",
       "  <thead>\n",
       "    <tr style=\"text-align: right;\">\n",
       "      <th></th>\n",
       "      <th>user_id</th>\n",
       "      <th>month</th>\n",
       "      <th>sms</th>\n",
       "      <th>calls</th>\n",
       "      <th>traffic</th>\n",
       "      <th>city</th>\n",
       "      <th>tariff</th>\n",
       "    </tr>\n",
       "  </thead>\n",
       "  <tbody>\n",
       "    <tr>\n",
       "      <th>0</th>\n",
       "      <td>1000</td>\n",
       "      <td>5.0</td>\n",
       "      <td>22.0</td>\n",
       "      <td>159.0</td>\n",
       "      <td>2253.49</td>\n",
       "      <td>Краснодар</td>\n",
       "      <td>ultra</td>\n",
       "    </tr>\n",
       "    <tr>\n",
       "      <th>1</th>\n",
       "      <td>1000</td>\n",
       "      <td>6.0</td>\n",
       "      <td>60.0</td>\n",
       "      <td>172.0</td>\n",
       "      <td>23233.77</td>\n",
       "      <td>Краснодар</td>\n",
       "      <td>ultra</td>\n",
       "    </tr>\n",
       "    <tr>\n",
       "      <th>2</th>\n",
       "      <td>1000</td>\n",
       "      <td>7.0</td>\n",
       "      <td>75.0</td>\n",
       "      <td>340.0</td>\n",
       "      <td>14003.64</td>\n",
       "      <td>Краснодар</td>\n",
       "      <td>ultra</td>\n",
       "    </tr>\n",
       "    <tr>\n",
       "      <th>3</th>\n",
       "      <td>1000</td>\n",
       "      <td>8.0</td>\n",
       "      <td>81.0</td>\n",
       "      <td>408.0</td>\n",
       "      <td>14055.93</td>\n",
       "      <td>Краснодар</td>\n",
       "      <td>ultra</td>\n",
       "    </tr>\n",
       "    <tr>\n",
       "      <th>4</th>\n",
       "      <td>1000</td>\n",
       "      <td>9.0</td>\n",
       "      <td>57.0</td>\n",
       "      <td>466.0</td>\n",
       "      <td>14568.91</td>\n",
       "      <td>Краснодар</td>\n",
       "      <td>ultra</td>\n",
       "    </tr>\n",
       "    <tr>\n",
       "      <th>...</th>\n",
       "      <td>...</td>\n",
       "      <td>...</td>\n",
       "      <td>...</td>\n",
       "      <td>...</td>\n",
       "      <td>...</td>\n",
       "      <td>...</td>\n",
       "      <td>...</td>\n",
       "    </tr>\n",
       "    <tr>\n",
       "      <th>3211</th>\n",
       "      <td>1494</td>\n",
       "      <td>10.0</td>\n",
       "      <td>NaN</td>\n",
       "      <td>354.0</td>\n",
       "      <td>17767.24</td>\n",
       "      <td>Омск</td>\n",
       "      <td>smart</td>\n",
       "    </tr>\n",
       "    <tr>\n",
       "      <th>3212</th>\n",
       "      <td>1494</td>\n",
       "      <td>11.0</td>\n",
       "      <td>NaN</td>\n",
       "      <td>411.0</td>\n",
       "      <td>18052.45</td>\n",
       "      <td>Омск</td>\n",
       "      <td>smart</td>\n",
       "    </tr>\n",
       "    <tr>\n",
       "      <th>3213</th>\n",
       "      <td>1494</td>\n",
       "      <td>12.0</td>\n",
       "      <td>NaN</td>\n",
       "      <td>418.0</td>\n",
       "      <td>17621.21</td>\n",
       "      <td>Омск</td>\n",
       "      <td>smart</td>\n",
       "    </tr>\n",
       "    <tr>\n",
       "      <th>3214</th>\n",
       "      <td>1128</td>\n",
       "      <td>NaN</td>\n",
       "      <td>NaN</td>\n",
       "      <td>NaN</td>\n",
       "      <td>NaN</td>\n",
       "      <td>Волжский</td>\n",
       "      <td>ultra</td>\n",
       "    </tr>\n",
       "    <tr>\n",
       "      <th>3215</th>\n",
       "      <td>1371</td>\n",
       "      <td>NaN</td>\n",
       "      <td>NaN</td>\n",
       "      <td>NaN</td>\n",
       "      <td>NaN</td>\n",
       "      <td>Омск</td>\n",
       "      <td>smart</td>\n",
       "    </tr>\n",
       "  </tbody>\n",
       "</table>\n",
       "<p>3216 rows × 7 columns</p>\n",
       "</div>"
      ],
      "text/plain": [
       "      user_id  month   sms  calls   traffic       city tariff\n",
       "0        1000    5.0  22.0  159.0   2253.49  Краснодар  ultra\n",
       "1        1000    6.0  60.0  172.0  23233.77  Краснодар  ultra\n",
       "2        1000    7.0  75.0  340.0  14003.64  Краснодар  ultra\n",
       "3        1000    8.0  81.0  408.0  14055.93  Краснодар  ultra\n",
       "4        1000    9.0  57.0  466.0  14568.91  Краснодар  ultra\n",
       "...       ...    ...   ...    ...       ...        ...    ...\n",
       "3211     1494   10.0   NaN  354.0  17767.24       Омск  smart\n",
       "3212     1494   11.0   NaN  411.0  18052.45       Омск  smart\n",
       "3213     1494   12.0   NaN  418.0  17621.21       Омск  smart\n",
       "3214     1128    NaN   NaN    NaN       NaN   Волжский  ultra\n",
       "3215     1371    NaN   NaN    NaN       NaN       Омск  smart\n",
       "\n",
       "[3216 rows x 7 columns]"
      ]
     },
     "execution_count": 18,
     "metadata": {},
     "output_type": "execute_result"
    }
   ],
   "source": [
    "messages_calls = month_messages.merge(month_calls,on=['user_id','month'],how='outer') #звонки и сообщения \n",
    "data = messages_calls.merge(month_internet,on=['user_id','month'],how='outer')#звонки-смс-интернет\n",
    "data.rename(columns={'message_date': 'sms','duration': 'calls', 'mb_used':'traffic'}, inplace=True)#переименуем два столбца\n",
    "data = data.reset_index().merge(df_users[['city', 'user_id', 'tariff']], on='user_id', how='outer')#рабочая таблица\n",
    "data"
   ]
  },
  {
   "cell_type": "markdown",
   "metadata": {},
   "source": [
    "Проверим данные о пользователях 1128 и 1371 (у них NaN во всех ключевых столбцах):"
   ]
  },
  {
   "cell_type": "code",
   "execution_count": 19,
   "metadata": {},
   "outputs": [
    {
     "data": {
      "text/html": [
       "<div>\n",
       "<style scoped>\n",
       "    .dataframe tbody tr th:only-of-type {\n",
       "        vertical-align: middle;\n",
       "    }\n",
       "\n",
       "    .dataframe tbody tr th {\n",
       "        vertical-align: top;\n",
       "    }\n",
       "\n",
       "    .dataframe thead th {\n",
       "        text-align: right;\n",
       "    }\n",
       "</style>\n",
       "<table border=\"1\" class=\"dataframe\">\n",
       "  <thead>\n",
       "    <tr style=\"text-align: right;\">\n",
       "      <th></th>\n",
       "      <th>id</th>\n",
       "      <th>call_date</th>\n",
       "      <th>duration</th>\n",
       "      <th>user_id</th>\n",
       "      <th>month</th>\n",
       "    </tr>\n",
       "  </thead>\n",
       "  <tbody>\n",
       "  </tbody>\n",
       "</table>\n",
       "</div>"
      ],
      "text/plain": [
       "Empty DataFrame\n",
       "Columns: [id, call_date, duration, user_id, month]\n",
       "Index: []"
      ]
     },
     "execution_count": 19,
     "metadata": {},
     "output_type": "execute_result"
    }
   ],
   "source": [
    "df_calls.query('user_id == 1128')"
   ]
  },
  {
   "cell_type": "code",
   "execution_count": 20,
   "metadata": {},
   "outputs": [
    {
     "data": {
      "text/html": [
       "<div>\n",
       "<style scoped>\n",
       "    .dataframe tbody tr th:only-of-type {\n",
       "        vertical-align: middle;\n",
       "    }\n",
       "\n",
       "    .dataframe tbody tr th {\n",
       "        vertical-align: top;\n",
       "    }\n",
       "\n",
       "    .dataframe thead th {\n",
       "        text-align: right;\n",
       "    }\n",
       "</style>\n",
       "<table border=\"1\" class=\"dataframe\">\n",
       "  <thead>\n",
       "    <tr style=\"text-align: right;\">\n",
       "      <th></th>\n",
       "      <th>Unnamed: 0</th>\n",
       "      <th>id</th>\n",
       "      <th>mb_used</th>\n",
       "      <th>session_date</th>\n",
       "      <th>user_id</th>\n",
       "      <th>month</th>\n",
       "    </tr>\n",
       "  </thead>\n",
       "  <tbody>\n",
       "  </tbody>\n",
       "</table>\n",
       "</div>"
      ],
      "text/plain": [
       "Empty DataFrame\n",
       "Columns: [Unnamed: 0, id, mb_used, session_date, user_id, month]\n",
       "Index: []"
      ]
     },
     "execution_count": 20,
     "metadata": {},
     "output_type": "execute_result"
    }
   ],
   "source": [
    "df_internet.query('user_id == 1128')"
   ]
  },
  {
   "cell_type": "code",
   "execution_count": 21,
   "metadata": {},
   "outputs": [
    {
     "data": {
      "text/html": [
       "<div>\n",
       "<style scoped>\n",
       "    .dataframe tbody tr th:only-of-type {\n",
       "        vertical-align: middle;\n",
       "    }\n",
       "\n",
       "    .dataframe tbody tr th {\n",
       "        vertical-align: top;\n",
       "    }\n",
       "\n",
       "    .dataframe thead th {\n",
       "        text-align: right;\n",
       "    }\n",
       "</style>\n",
       "<table border=\"1\" class=\"dataframe\">\n",
       "  <thead>\n",
       "    <tr style=\"text-align: right;\">\n",
       "      <th></th>\n",
       "      <th>id</th>\n",
       "      <th>message_date</th>\n",
       "      <th>user_id</th>\n",
       "      <th>month</th>\n",
       "    </tr>\n",
       "  </thead>\n",
       "  <tbody>\n",
       "  </tbody>\n",
       "</table>\n",
       "</div>"
      ],
      "text/plain": [
       "Empty DataFrame\n",
       "Columns: [id, message_date, user_id, month]\n",
       "Index: []"
      ]
     },
     "execution_count": 21,
     "metadata": {},
     "output_type": "execute_result"
    }
   ],
   "source": [
    "df_messages.query('user_id == 1128')"
   ]
  },
  {
   "cell_type": "code",
   "execution_count": 22,
   "metadata": {},
   "outputs": [
    {
     "data": {
      "text/html": [
       "<div>\n",
       "<style scoped>\n",
       "    .dataframe tbody tr th:only-of-type {\n",
       "        vertical-align: middle;\n",
       "    }\n",
       "\n",
       "    .dataframe tbody tr th {\n",
       "        vertical-align: top;\n",
       "    }\n",
       "\n",
       "    .dataframe thead th {\n",
       "        text-align: right;\n",
       "    }\n",
       "</style>\n",
       "<table border=\"1\" class=\"dataframe\">\n",
       "  <thead>\n",
       "    <tr style=\"text-align: right;\">\n",
       "      <th></th>\n",
       "      <th>user_id</th>\n",
       "      <th>age</th>\n",
       "      <th>churn_date</th>\n",
       "      <th>city</th>\n",
       "      <th>first_name</th>\n",
       "      <th>last_name</th>\n",
       "      <th>reg_date</th>\n",
       "      <th>tariff</th>\n",
       "      <th>month</th>\n",
       "    </tr>\n",
       "  </thead>\n",
       "  <tbody>\n",
       "    <tr>\n",
       "      <th>128</th>\n",
       "      <td>1128</td>\n",
       "      <td>51</td>\n",
       "      <td>2018-12-23</td>\n",
       "      <td>Волжский</td>\n",
       "      <td>Ксения</td>\n",
       "      <td>Агаева</td>\n",
       "      <td>2018-12-15</td>\n",
       "      <td>ultra</td>\n",
       "      <td>12</td>\n",
       "    </tr>\n",
       "  </tbody>\n",
       "</table>\n",
       "</div>"
      ],
      "text/plain": [
       "     user_id  age churn_date      city first_name last_name   reg_date tariff  \\\n",
       "128     1128   51 2018-12-23  Волжский     Ксения    Агаева 2018-12-15  ultra   \n",
       "\n",
       "     month  \n",
       "128     12  "
      ]
     },
     "execution_count": 22,
     "metadata": {},
     "output_type": "execute_result"
    }
   ],
   "source": [
    "df_users.query('user_id == 1128')"
   ]
  },
  {
   "cell_type": "code",
   "execution_count": 23,
   "metadata": {},
   "outputs": [
    {
     "data": {
      "text/html": [
       "<div>\n",
       "<style scoped>\n",
       "    .dataframe tbody tr th:only-of-type {\n",
       "        vertical-align: middle;\n",
       "    }\n",
       "\n",
       "    .dataframe tbody tr th {\n",
       "        vertical-align: top;\n",
       "    }\n",
       "\n",
       "    .dataframe thead th {\n",
       "        text-align: right;\n",
       "    }\n",
       "</style>\n",
       "<table border=\"1\" class=\"dataframe\">\n",
       "  <thead>\n",
       "    <tr style=\"text-align: right;\">\n",
       "      <th></th>\n",
       "      <th>id</th>\n",
       "      <th>call_date</th>\n",
       "      <th>duration</th>\n",
       "      <th>user_id</th>\n",
       "      <th>month</th>\n",
       "    </tr>\n",
       "  </thead>\n",
       "  <tbody>\n",
       "  </tbody>\n",
       "</table>\n",
       "</div>"
      ],
      "text/plain": [
       "Empty DataFrame\n",
       "Columns: [id, call_date, duration, user_id, month]\n",
       "Index: []"
      ]
     },
     "execution_count": 23,
     "metadata": {},
     "output_type": "execute_result"
    }
   ],
   "source": [
    "df_calls.query('user_id == 1371')"
   ]
  },
  {
   "cell_type": "code",
   "execution_count": 24,
   "metadata": {},
   "outputs": [
    {
     "data": {
      "text/html": [
       "<div>\n",
       "<style scoped>\n",
       "    .dataframe tbody tr th:only-of-type {\n",
       "        vertical-align: middle;\n",
       "    }\n",
       "\n",
       "    .dataframe tbody tr th {\n",
       "        vertical-align: top;\n",
       "    }\n",
       "\n",
       "    .dataframe thead th {\n",
       "        text-align: right;\n",
       "    }\n",
       "</style>\n",
       "<table border=\"1\" class=\"dataframe\">\n",
       "  <thead>\n",
       "    <tr style=\"text-align: right;\">\n",
       "      <th></th>\n",
       "      <th>Unnamed: 0</th>\n",
       "      <th>id</th>\n",
       "      <th>mb_used</th>\n",
       "      <th>session_date</th>\n",
       "      <th>user_id</th>\n",
       "      <th>month</th>\n",
       "    </tr>\n",
       "  </thead>\n",
       "  <tbody>\n",
       "  </tbody>\n",
       "</table>\n",
       "</div>"
      ],
      "text/plain": [
       "Empty DataFrame\n",
       "Columns: [Unnamed: 0, id, mb_used, session_date, user_id, month]\n",
       "Index: []"
      ]
     },
     "execution_count": 24,
     "metadata": {},
     "output_type": "execute_result"
    }
   ],
   "source": [
    "df_internet.query('user_id == 1371')"
   ]
  },
  {
   "cell_type": "code",
   "execution_count": 25,
   "metadata": {},
   "outputs": [
    {
     "data": {
      "text/html": [
       "<div>\n",
       "<style scoped>\n",
       "    .dataframe tbody tr th:only-of-type {\n",
       "        vertical-align: middle;\n",
       "    }\n",
       "\n",
       "    .dataframe tbody tr th {\n",
       "        vertical-align: top;\n",
       "    }\n",
       "\n",
       "    .dataframe thead th {\n",
       "        text-align: right;\n",
       "    }\n",
       "</style>\n",
       "<table border=\"1\" class=\"dataframe\">\n",
       "  <thead>\n",
       "    <tr style=\"text-align: right;\">\n",
       "      <th></th>\n",
       "      <th>id</th>\n",
       "      <th>message_date</th>\n",
       "      <th>user_id</th>\n",
       "      <th>month</th>\n",
       "    </tr>\n",
       "  </thead>\n",
       "  <tbody>\n",
       "  </tbody>\n",
       "</table>\n",
       "</div>"
      ],
      "text/plain": [
       "Empty DataFrame\n",
       "Columns: [id, message_date, user_id, month]\n",
       "Index: []"
      ]
     },
     "execution_count": 25,
     "metadata": {},
     "output_type": "execute_result"
    }
   ],
   "source": [
    "df_messages.query('user_id == 1371')"
   ]
  },
  {
   "cell_type": "code",
   "execution_count": 26,
   "metadata": {},
   "outputs": [
    {
     "data": {
      "text/html": [
       "<div>\n",
       "<style scoped>\n",
       "    .dataframe tbody tr th:only-of-type {\n",
       "        vertical-align: middle;\n",
       "    }\n",
       "\n",
       "    .dataframe tbody tr th {\n",
       "        vertical-align: top;\n",
       "    }\n",
       "\n",
       "    .dataframe thead th {\n",
       "        text-align: right;\n",
       "    }\n",
       "</style>\n",
       "<table border=\"1\" class=\"dataframe\">\n",
       "  <thead>\n",
       "    <tr style=\"text-align: right;\">\n",
       "      <th></th>\n",
       "      <th>user_id</th>\n",
       "      <th>age</th>\n",
       "      <th>churn_date</th>\n",
       "      <th>city</th>\n",
       "      <th>first_name</th>\n",
       "      <th>last_name</th>\n",
       "      <th>reg_date</th>\n",
       "      <th>tariff</th>\n",
       "      <th>month</th>\n",
       "    </tr>\n",
       "  </thead>\n",
       "  <tbody>\n",
       "    <tr>\n",
       "      <th>371</th>\n",
       "      <td>1371</td>\n",
       "      <td>50</td>\n",
       "      <td>2018-12-30</td>\n",
       "      <td>Омск</td>\n",
       "      <td>Ириней</td>\n",
       "      <td>Трофимов</td>\n",
       "      <td>2018-12-25</td>\n",
       "      <td>smart</td>\n",
       "      <td>12</td>\n",
       "    </tr>\n",
       "  </tbody>\n",
       "</table>\n",
       "</div>"
      ],
      "text/plain": [
       "     user_id  age churn_date  city first_name last_name   reg_date tariff  \\\n",
       "371     1371   50 2018-12-30  Омск     Ириней  Трофимов 2018-12-25  smart   \n",
       "\n",
       "     month  \n",
       "371     12  "
      ]
     },
     "execution_count": 26,
     "metadata": {},
     "output_type": "execute_result"
    }
   ],
   "source": [
    "df_users.query('user_id == 1371')"
   ]
  },
  {
   "cell_type": "markdown",
   "metadata": {},
   "source": [
    "Проверили данные об этих пользователях по всем файлам. Они оба зарегистрированы в декабре,нам о них известно только из данных о пользователях. Вероятно, они не пользовались услугами связи. Поэтому считаем возможным удалить эти строки."
   ]
  },
  {
   "cell_type": "code",
   "execution_count": 27,
   "metadata": {},
   "outputs": [],
   "source": [
    "data = data.drop(index=[3214])\n",
    "data = data.drop(index=[3215])\n",
    "data = data.reset_index(drop=True)"
   ]
  },
  {
   "cell_type": "code",
   "execution_count": 28,
   "metadata": {},
   "outputs": [
    {
     "data": {
      "text/plain": [
       "user_id      0\n",
       "month        0\n",
       "sms        497\n",
       "calls       40\n",
       "traffic     11\n",
       "city         0\n",
       "tariff       0\n",
       "dtype: int64"
      ]
     },
     "execution_count": 28,
     "metadata": {},
     "output_type": "execute_result"
    }
   ],
   "source": [
    "data.isna().sum()#сколько теперь пропусков"
   ]
  },
  {
   "cell_type": "code",
   "execution_count": 29,
   "metadata": {},
   "outputs": [
    {
     "data": {
      "text/plain": [
       "array([1036, 1041, 1051, 1090, 1109, 1159, 1198, 1263, 1279, 1287, 1340,\n",
       "       1384, 1389, 1413, 1439, 1455, 1458, 1476, 1001, 1006, 1010, 1017,\n",
       "       1024, 1040, 1049, 1053, 1063, 1078, 1085, 1095, 1101, 1107, 1114,\n",
       "       1116, 1117, 1118, 1120, 1129, 1132, 1143, 1152, 1153, 1157, 1162,\n",
       "       1175, 1177, 1179, 1185, 1195, 1201, 1204, 1208, 1210, 1220, 1224,\n",
       "       1225, 1228, 1240, 1242, 1248, 1254, 1255, 1260, 1290, 1291, 1292,\n",
       "       1297, 1301, 1305, 1306, 1322, 1334, 1339, 1360, 1363, 1367, 1370,\n",
       "       1376, 1388, 1397, 1428, 1429, 1435, 1442, 1456, 1462, 1466, 1469,\n",
       "       1479, 1494], dtype=int64)"
      ]
     },
     "execution_count": 29,
     "metadata": {},
     "output_type": "execute_result"
    }
   ],
   "source": [
    "df_nan_sms = data[data['sms'].isna()]\n",
    "df_nan_sms['user_id'].unique()#90 пользователей"
   ]
  },
  {
   "cell_type": "code",
   "execution_count": 30,
   "metadata": {},
   "outputs": [
    {
     "data": {
      "text/plain": [
       "1106    9\n",
       "1091    8\n",
       "1231    8\n",
       "1473    5\n",
       "1489    5\n",
       "1328    3\n",
       "1373    1\n",
       "1476    1\n",
       "Name: user_id, dtype: int64"
      ]
     },
     "execution_count": 30,
     "metadata": {},
     "output_type": "execute_result"
    }
   ],
   "source": [
    "df_nan_calls = data[data['calls'].isna()]\n",
    "df_nan_calls['user_id'].value_counts()#8 пользователей"
   ]
  },
  {
   "cell_type": "code",
   "execution_count": 31,
   "metadata": {},
   "outputs": [
    {
     "data": {
      "text/plain": [
       "1273    8\n",
       "1377    1\n",
       "1392    1\n",
       "1446    1\n",
       "Name: user_id, dtype: int64"
      ]
     },
     "execution_count": 31,
     "metadata": {},
     "output_type": "execute_result"
    }
   ],
   "source": [
    "df_nan_internet = data[data['traffic'].isna()]\n",
    "df_nan_internet['user_id'].value_counts()#4 пользователя"
   ]
  },
  {
   "cell_type": "markdown",
   "metadata": {},
   "source": [
    "В результате объдинения данных из изначальных таблиц исчезли данные из отдельных столбцов по разным пользователям. Т.к. совпадений по users_id нет, не будем удалять эти строки, а пропуски заменим на 0. "
   ]
  },
  {
   "cell_type": "code",
   "execution_count": 32,
   "metadata": {},
   "outputs": [
    {
     "data": {
      "text/plain": [
       "user_id    0\n",
       "month      0\n",
       "sms        0\n",
       "calls      0\n",
       "traffic    0\n",
       "city       0\n",
       "tariff     0\n",
       "dtype: int64"
      ]
     },
     "execution_count": 32,
     "metadata": {},
     "output_type": "execute_result"
    }
   ],
   "source": [
    "data['sms'] = data['sms'].fillna(0)\n",
    "data['calls']= data['calls'].fillna(0)\n",
    "data['traffic'] = data['traffic'].fillna(0)\n",
    "data.isna().sum()"
   ]
  },
  {
   "cell_type": "markdown",
   "metadata": {},
   "source": [
    "Добавим информацию о тарифах:"
   ]
  },
  {
   "cell_type": "code",
   "execution_count": 33,
   "metadata": {
    "scrolled": false
   },
   "outputs": [
    {
     "data": {
      "text/html": [
       "<div>\n",
       "<style scoped>\n",
       "    .dataframe tbody tr th:only-of-type {\n",
       "        vertical-align: middle;\n",
       "    }\n",
       "\n",
       "    .dataframe tbody tr th {\n",
       "        vertical-align: top;\n",
       "    }\n",
       "\n",
       "    .dataframe thead th {\n",
       "        text-align: right;\n",
       "    }\n",
       "</style>\n",
       "<table border=\"1\" class=\"dataframe\">\n",
       "  <thead>\n",
       "    <tr style=\"text-align: right;\">\n",
       "      <th></th>\n",
       "      <th>user_id</th>\n",
       "      <th>month</th>\n",
       "      <th>sms</th>\n",
       "      <th>calls</th>\n",
       "      <th>traffic</th>\n",
       "      <th>city</th>\n",
       "      <th>tariff</th>\n",
       "      <th>messages_included</th>\n",
       "      <th>mb_per_month_included</th>\n",
       "      <th>minutes_included</th>\n",
       "      <th>rub_monthly_fee</th>\n",
       "      <th>rub_per_gb</th>\n",
       "      <th>rub_per_message</th>\n",
       "      <th>rub_per_minute</th>\n",
       "    </tr>\n",
       "  </thead>\n",
       "  <tbody>\n",
       "    <tr>\n",
       "      <th>0</th>\n",
       "      <td>1000</td>\n",
       "      <td>5.0</td>\n",
       "      <td>22.0</td>\n",
       "      <td>159.0</td>\n",
       "      <td>2253.49</td>\n",
       "      <td>Краснодар</td>\n",
       "      <td>ultra</td>\n",
       "      <td>1000</td>\n",
       "      <td>30720</td>\n",
       "      <td>3000</td>\n",
       "      <td>1950</td>\n",
       "      <td>150</td>\n",
       "      <td>1</td>\n",
       "      <td>1</td>\n",
       "    </tr>\n",
       "    <tr>\n",
       "      <th>1</th>\n",
       "      <td>1000</td>\n",
       "      <td>6.0</td>\n",
       "      <td>60.0</td>\n",
       "      <td>172.0</td>\n",
       "      <td>23233.77</td>\n",
       "      <td>Краснодар</td>\n",
       "      <td>ultra</td>\n",
       "      <td>1000</td>\n",
       "      <td>30720</td>\n",
       "      <td>3000</td>\n",
       "      <td>1950</td>\n",
       "      <td>150</td>\n",
       "      <td>1</td>\n",
       "      <td>1</td>\n",
       "    </tr>\n",
       "    <tr>\n",
       "      <th>2</th>\n",
       "      <td>1000</td>\n",
       "      <td>7.0</td>\n",
       "      <td>75.0</td>\n",
       "      <td>340.0</td>\n",
       "      <td>14003.64</td>\n",
       "      <td>Краснодар</td>\n",
       "      <td>ultra</td>\n",
       "      <td>1000</td>\n",
       "      <td>30720</td>\n",
       "      <td>3000</td>\n",
       "      <td>1950</td>\n",
       "      <td>150</td>\n",
       "      <td>1</td>\n",
       "      <td>1</td>\n",
       "    </tr>\n",
       "    <tr>\n",
       "      <th>3</th>\n",
       "      <td>1000</td>\n",
       "      <td>8.0</td>\n",
       "      <td>81.0</td>\n",
       "      <td>408.0</td>\n",
       "      <td>14055.93</td>\n",
       "      <td>Краснодар</td>\n",
       "      <td>ultra</td>\n",
       "      <td>1000</td>\n",
       "      <td>30720</td>\n",
       "      <td>3000</td>\n",
       "      <td>1950</td>\n",
       "      <td>150</td>\n",
       "      <td>1</td>\n",
       "      <td>1</td>\n",
       "    </tr>\n",
       "    <tr>\n",
       "      <th>4</th>\n",
       "      <td>1000</td>\n",
       "      <td>9.0</td>\n",
       "      <td>57.0</td>\n",
       "      <td>466.0</td>\n",
       "      <td>14568.91</td>\n",
       "      <td>Краснодар</td>\n",
       "      <td>ultra</td>\n",
       "      <td>1000</td>\n",
       "      <td>30720</td>\n",
       "      <td>3000</td>\n",
       "      <td>1950</td>\n",
       "      <td>150</td>\n",
       "      <td>1</td>\n",
       "      <td>1</td>\n",
       "    </tr>\n",
       "  </tbody>\n",
       "</table>\n",
       "</div>"
      ],
      "text/plain": [
       "   user_id  month   sms  calls   traffic       city tariff  messages_included  \\\n",
       "0     1000    5.0  22.0  159.0   2253.49  Краснодар  ultra               1000   \n",
       "1     1000    6.0  60.0  172.0  23233.77  Краснодар  ultra               1000   \n",
       "2     1000    7.0  75.0  340.0  14003.64  Краснодар  ultra               1000   \n",
       "3     1000    8.0  81.0  408.0  14055.93  Краснодар  ultra               1000   \n",
       "4     1000    9.0  57.0  466.0  14568.91  Краснодар  ultra               1000   \n",
       "\n",
       "   mb_per_month_included  minutes_included  rub_monthly_fee  rub_per_gb  \\\n",
       "0                  30720              3000             1950         150   \n",
       "1                  30720              3000             1950         150   \n",
       "2                  30720              3000             1950         150   \n",
       "3                  30720              3000             1950         150   \n",
       "4                  30720              3000             1950         150   \n",
       "\n",
       "   rub_per_message  rub_per_minute  \n",
       "0                1               1  \n",
       "1                1               1  \n",
       "2                1               1  \n",
       "3                1               1  \n",
       "4                1               1  "
      ]
     },
     "execution_count": 33,
     "metadata": {},
     "output_type": "execute_result"
    }
   ],
   "source": [
    "df_tariffs.rename(columns={'tariff_name': 'tariff'}, inplace=True)#переименуем столбец, чтобы объединить по нему\n",
    "data_final = data.merge(df_tariffs, on=['tariff'], how='outer')\n",
    "data_final.head(5)"
   ]
  },
  {
   "cell_type": "markdown",
   "metadata": {},
   "source": [
    "Округлим трафик до целых Гб:"
   ]
  },
  {
   "cell_type": "code",
   "execution_count": 34,
   "metadata": {},
   "outputs": [
    {
     "data": {
      "text/html": [
       "<div>\n",
       "<style scoped>\n",
       "    .dataframe tbody tr th:only-of-type {\n",
       "        vertical-align: middle;\n",
       "    }\n",
       "\n",
       "    .dataframe tbody tr th {\n",
       "        vertical-align: top;\n",
       "    }\n",
       "\n",
       "    .dataframe thead th {\n",
       "        text-align: right;\n",
       "    }\n",
       "</style>\n",
       "<table border=\"1\" class=\"dataframe\">\n",
       "  <thead>\n",
       "    <tr style=\"text-align: right;\">\n",
       "      <th></th>\n",
       "      <th>user_id</th>\n",
       "      <th>month</th>\n",
       "      <th>sms</th>\n",
       "      <th>calls</th>\n",
       "      <th>traffic</th>\n",
       "      <th>city</th>\n",
       "      <th>tariff</th>\n",
       "      <th>messages_included</th>\n",
       "      <th>mb_per_month_included</th>\n",
       "      <th>minutes_included</th>\n",
       "      <th>rub_monthly_fee</th>\n",
       "      <th>rub_per_gb</th>\n",
       "      <th>rub_per_message</th>\n",
       "      <th>rub_per_minute</th>\n",
       "    </tr>\n",
       "  </thead>\n",
       "  <tbody>\n",
       "    <tr>\n",
       "      <th>0</th>\n",
       "      <td>1000</td>\n",
       "      <td>5.0</td>\n",
       "      <td>22.0</td>\n",
       "      <td>159.0</td>\n",
       "      <td>3.0</td>\n",
       "      <td>Краснодар</td>\n",
       "      <td>ultra</td>\n",
       "      <td>1000</td>\n",
       "      <td>30720</td>\n",
       "      <td>3000</td>\n",
       "      <td>1950</td>\n",
       "      <td>150</td>\n",
       "      <td>1</td>\n",
       "      <td>1</td>\n",
       "    </tr>\n",
       "    <tr>\n",
       "      <th>1</th>\n",
       "      <td>1000</td>\n",
       "      <td>6.0</td>\n",
       "      <td>60.0</td>\n",
       "      <td>172.0</td>\n",
       "      <td>23.0</td>\n",
       "      <td>Краснодар</td>\n",
       "      <td>ultra</td>\n",
       "      <td>1000</td>\n",
       "      <td>30720</td>\n",
       "      <td>3000</td>\n",
       "      <td>1950</td>\n",
       "      <td>150</td>\n",
       "      <td>1</td>\n",
       "      <td>1</td>\n",
       "    </tr>\n",
       "    <tr>\n",
       "      <th>2</th>\n",
       "      <td>1000</td>\n",
       "      <td>7.0</td>\n",
       "      <td>75.0</td>\n",
       "      <td>340.0</td>\n",
       "      <td>14.0</td>\n",
       "      <td>Краснодар</td>\n",
       "      <td>ultra</td>\n",
       "      <td>1000</td>\n",
       "      <td>30720</td>\n",
       "      <td>3000</td>\n",
       "      <td>1950</td>\n",
       "      <td>150</td>\n",
       "      <td>1</td>\n",
       "      <td>1</td>\n",
       "    </tr>\n",
       "    <tr>\n",
       "      <th>3</th>\n",
       "      <td>1000</td>\n",
       "      <td>8.0</td>\n",
       "      <td>81.0</td>\n",
       "      <td>408.0</td>\n",
       "      <td>14.0</td>\n",
       "      <td>Краснодар</td>\n",
       "      <td>ultra</td>\n",
       "      <td>1000</td>\n",
       "      <td>30720</td>\n",
       "      <td>3000</td>\n",
       "      <td>1950</td>\n",
       "      <td>150</td>\n",
       "      <td>1</td>\n",
       "      <td>1</td>\n",
       "    </tr>\n",
       "    <tr>\n",
       "      <th>4</th>\n",
       "      <td>1000</td>\n",
       "      <td>9.0</td>\n",
       "      <td>57.0</td>\n",
       "      <td>466.0</td>\n",
       "      <td>15.0</td>\n",
       "      <td>Краснодар</td>\n",
       "      <td>ultra</td>\n",
       "      <td>1000</td>\n",
       "      <td>30720</td>\n",
       "      <td>3000</td>\n",
       "      <td>1950</td>\n",
       "      <td>150</td>\n",
       "      <td>1</td>\n",
       "      <td>1</td>\n",
       "    </tr>\n",
       "  </tbody>\n",
       "</table>\n",
       "</div>"
      ],
      "text/plain": [
       "   user_id  month   sms  calls  traffic       city tariff  messages_included  \\\n",
       "0     1000    5.0  22.0  159.0      3.0  Краснодар  ultra               1000   \n",
       "1     1000    6.0  60.0  172.0     23.0  Краснодар  ultra               1000   \n",
       "2     1000    7.0  75.0  340.0     14.0  Краснодар  ultra               1000   \n",
       "3     1000    8.0  81.0  408.0     14.0  Краснодар  ultra               1000   \n",
       "4     1000    9.0  57.0  466.0     15.0  Краснодар  ultra               1000   \n",
       "\n",
       "   mb_per_month_included  minutes_included  rub_monthly_fee  rub_per_gb  \\\n",
       "0                  30720              3000             1950         150   \n",
       "1                  30720              3000             1950         150   \n",
       "2                  30720              3000             1950         150   \n",
       "3                  30720              3000             1950         150   \n",
       "4                  30720              3000             1950         150   \n",
       "\n",
       "   rub_per_message  rub_per_minute  \n",
       "0                1               1  \n",
       "1                1               1  \n",
       "2                1               1  \n",
       "3                1               1  \n",
       "4                1               1  "
      ]
     },
     "execution_count": 34,
     "metadata": {},
     "output_type": "execute_result"
    }
   ],
   "source": [
    "data_final['traffic'] = np.ceil(data_final['traffic'] / 1024)\n",
    "data_final.head(5)"
   ]
  },
  {
   "cell_type": "markdown",
   "metadata": {},
   "source": [
    "### Проведение расчетов"
   ]
  },
  {
   "cell_type": "markdown",
   "metadata": {},
   "source": [
    "Подсчет помесячной выручки с каждого пользователя:"
   ]
  },
  {
   "cell_type": "code",
   "execution_count": 35,
   "metadata": {},
   "outputs": [
    {
     "data": {
      "text/html": [
       "<div>\n",
       "<style scoped>\n",
       "    .dataframe tbody tr th:only-of-type {\n",
       "        vertical-align: middle;\n",
       "    }\n",
       "\n",
       "    .dataframe tbody tr th {\n",
       "        vertical-align: top;\n",
       "    }\n",
       "\n",
       "    .dataframe thead th {\n",
       "        text-align: right;\n",
       "    }\n",
       "</style>\n",
       "<table border=\"1\" class=\"dataframe\">\n",
       "  <thead>\n",
       "    <tr style=\"text-align: right;\">\n",
       "      <th></th>\n",
       "      <th>user_id</th>\n",
       "      <th>month</th>\n",
       "      <th>sms</th>\n",
       "      <th>calls</th>\n",
       "      <th>traffic</th>\n",
       "      <th>city</th>\n",
       "      <th>tariff</th>\n",
       "      <th>messages_included</th>\n",
       "      <th>mb_per_month_included</th>\n",
       "      <th>minutes_included</th>\n",
       "      <th>rub_monthly_fee</th>\n",
       "      <th>rub_per_gb</th>\n",
       "      <th>rub_per_message</th>\n",
       "      <th>rub_per_minute</th>\n",
       "      <th>revenue</th>\n",
       "    </tr>\n",
       "  </thead>\n",
       "  <tbody>\n",
       "    <tr>\n",
       "      <th>0</th>\n",
       "      <td>1000</td>\n",
       "      <td>5.0</td>\n",
       "      <td>22.0</td>\n",
       "      <td>159.0</td>\n",
       "      <td>3.0</td>\n",
       "      <td>Краснодар</td>\n",
       "      <td>ultra</td>\n",
       "      <td>1000</td>\n",
       "      <td>30720</td>\n",
       "      <td>3000</td>\n",
       "      <td>1950</td>\n",
       "      <td>150</td>\n",
       "      <td>1</td>\n",
       "      <td>1</td>\n",
       "      <td>1950.0</td>\n",
       "    </tr>\n",
       "    <tr>\n",
       "      <th>1</th>\n",
       "      <td>1000</td>\n",
       "      <td>6.0</td>\n",
       "      <td>60.0</td>\n",
       "      <td>172.0</td>\n",
       "      <td>23.0</td>\n",
       "      <td>Краснодар</td>\n",
       "      <td>ultra</td>\n",
       "      <td>1000</td>\n",
       "      <td>30720</td>\n",
       "      <td>3000</td>\n",
       "      <td>1950</td>\n",
       "      <td>150</td>\n",
       "      <td>1</td>\n",
       "      <td>1</td>\n",
       "      <td>1950.0</td>\n",
       "    </tr>\n",
       "    <tr>\n",
       "      <th>2</th>\n",
       "      <td>1000</td>\n",
       "      <td>7.0</td>\n",
       "      <td>75.0</td>\n",
       "      <td>340.0</td>\n",
       "      <td>14.0</td>\n",
       "      <td>Краснодар</td>\n",
       "      <td>ultra</td>\n",
       "      <td>1000</td>\n",
       "      <td>30720</td>\n",
       "      <td>3000</td>\n",
       "      <td>1950</td>\n",
       "      <td>150</td>\n",
       "      <td>1</td>\n",
       "      <td>1</td>\n",
       "      <td>1950.0</td>\n",
       "    </tr>\n",
       "    <tr>\n",
       "      <th>3</th>\n",
       "      <td>1000</td>\n",
       "      <td>8.0</td>\n",
       "      <td>81.0</td>\n",
       "      <td>408.0</td>\n",
       "      <td>14.0</td>\n",
       "      <td>Краснодар</td>\n",
       "      <td>ultra</td>\n",
       "      <td>1000</td>\n",
       "      <td>30720</td>\n",
       "      <td>3000</td>\n",
       "      <td>1950</td>\n",
       "      <td>150</td>\n",
       "      <td>1</td>\n",
       "      <td>1</td>\n",
       "      <td>1950.0</td>\n",
       "    </tr>\n",
       "    <tr>\n",
       "      <th>4</th>\n",
       "      <td>1000</td>\n",
       "      <td>9.0</td>\n",
       "      <td>57.0</td>\n",
       "      <td>466.0</td>\n",
       "      <td>15.0</td>\n",
       "      <td>Краснодар</td>\n",
       "      <td>ultra</td>\n",
       "      <td>1000</td>\n",
       "      <td>30720</td>\n",
       "      <td>3000</td>\n",
       "      <td>1950</td>\n",
       "      <td>150</td>\n",
       "      <td>1</td>\n",
       "      <td>1</td>\n",
       "      <td>1950.0</td>\n",
       "    </tr>\n",
       "    <tr>\n",
       "      <th>5</th>\n",
       "      <td>1000</td>\n",
       "      <td>10.0</td>\n",
       "      <td>73.0</td>\n",
       "      <td>350.0</td>\n",
       "      <td>15.0</td>\n",
       "      <td>Краснодар</td>\n",
       "      <td>ultra</td>\n",
       "      <td>1000</td>\n",
       "      <td>30720</td>\n",
       "      <td>3000</td>\n",
       "      <td>1950</td>\n",
       "      <td>150</td>\n",
       "      <td>1</td>\n",
       "      <td>1</td>\n",
       "      <td>1950.0</td>\n",
       "    </tr>\n",
       "    <tr>\n",
       "      <th>6</th>\n",
       "      <td>1000</td>\n",
       "      <td>11.0</td>\n",
       "      <td>58.0</td>\n",
       "      <td>338.0</td>\n",
       "      <td>15.0</td>\n",
       "      <td>Краснодар</td>\n",
       "      <td>ultra</td>\n",
       "      <td>1000</td>\n",
       "      <td>30720</td>\n",
       "      <td>3000</td>\n",
       "      <td>1950</td>\n",
       "      <td>150</td>\n",
       "      <td>1</td>\n",
       "      <td>1</td>\n",
       "      <td>1950.0</td>\n",
       "    </tr>\n",
       "    <tr>\n",
       "      <th>7</th>\n",
       "      <td>1000</td>\n",
       "      <td>12.0</td>\n",
       "      <td>70.0</td>\n",
       "      <td>333.0</td>\n",
       "      <td>10.0</td>\n",
       "      <td>Краснодар</td>\n",
       "      <td>ultra</td>\n",
       "      <td>1000</td>\n",
       "      <td>30720</td>\n",
       "      <td>3000</td>\n",
       "      <td>1950</td>\n",
       "      <td>150</td>\n",
       "      <td>1</td>\n",
       "      <td>1</td>\n",
       "      <td>1950.0</td>\n",
       "    </tr>\n",
       "    <tr>\n",
       "      <th>8</th>\n",
       "      <td>1003</td>\n",
       "      <td>8.0</td>\n",
       "      <td>37.0</td>\n",
       "      <td>380.0</td>\n",
       "      <td>9.0</td>\n",
       "      <td>Москва</td>\n",
       "      <td>ultra</td>\n",
       "      <td>1000</td>\n",
       "      <td>30720</td>\n",
       "      <td>3000</td>\n",
       "      <td>1950</td>\n",
       "      <td>150</td>\n",
       "      <td>1</td>\n",
       "      <td>1</td>\n",
       "      <td>1950.0</td>\n",
       "    </tr>\n",
       "    <tr>\n",
       "      <th>9</th>\n",
       "      <td>1003</td>\n",
       "      <td>9.0</td>\n",
       "      <td>91.0</td>\n",
       "      <td>961.0</td>\n",
       "      <td>13.0</td>\n",
       "      <td>Москва</td>\n",
       "      <td>ultra</td>\n",
       "      <td>1000</td>\n",
       "      <td>30720</td>\n",
       "      <td>3000</td>\n",
       "      <td>1950</td>\n",
       "      <td>150</td>\n",
       "      <td>1</td>\n",
       "      <td>1</td>\n",
       "      <td>1950.0</td>\n",
       "    </tr>\n",
       "  </tbody>\n",
       "</table>\n",
       "</div>"
      ],
      "text/plain": [
       "   user_id  month   sms  calls  traffic       city tariff  messages_included  \\\n",
       "0     1000    5.0  22.0  159.0      3.0  Краснодар  ultra               1000   \n",
       "1     1000    6.0  60.0  172.0     23.0  Краснодар  ultra               1000   \n",
       "2     1000    7.0  75.0  340.0     14.0  Краснодар  ultra               1000   \n",
       "3     1000    8.0  81.0  408.0     14.0  Краснодар  ultra               1000   \n",
       "4     1000    9.0  57.0  466.0     15.0  Краснодар  ultra               1000   \n",
       "5     1000   10.0  73.0  350.0     15.0  Краснодар  ultra               1000   \n",
       "6     1000   11.0  58.0  338.0     15.0  Краснодар  ultra               1000   \n",
       "7     1000   12.0  70.0  333.0     10.0  Краснодар  ultra               1000   \n",
       "8     1003    8.0  37.0  380.0      9.0     Москва  ultra               1000   \n",
       "9     1003    9.0  91.0  961.0     13.0     Москва  ultra               1000   \n",
       "\n",
       "   mb_per_month_included  minutes_included  rub_monthly_fee  rub_per_gb  \\\n",
       "0                  30720              3000             1950         150   \n",
       "1                  30720              3000             1950         150   \n",
       "2                  30720              3000             1950         150   \n",
       "3                  30720              3000             1950         150   \n",
       "4                  30720              3000             1950         150   \n",
       "5                  30720              3000             1950         150   \n",
       "6                  30720              3000             1950         150   \n",
       "7                  30720              3000             1950         150   \n",
       "8                  30720              3000             1950         150   \n",
       "9                  30720              3000             1950         150   \n",
       "\n",
       "   rub_per_message  rub_per_minute  revenue  \n",
       "0                1               1   1950.0  \n",
       "1                1               1   1950.0  \n",
       "2                1               1   1950.0  \n",
       "3                1               1   1950.0  \n",
       "4                1               1   1950.0  \n",
       "5                1               1   1950.0  \n",
       "6                1               1   1950.0  \n",
       "7                1               1   1950.0  \n",
       "8                1               1   1950.0  \n",
       "9                1               1   1950.0  "
      ]
     },
     "execution_count": 35,
     "metadata": {},
     "output_type": "execute_result"
    }
   ],
   "source": [
    "def get_revenue(row):\n",
    "    minutes_over = (row['calls'] - row['minutes_included']) *  row['rub_per_minute']\n",
    "    sms_over = (row['sms'] - row['messages_included']) *  row['rub_per_message']\n",
    "    traffic_over = (row['traffic'] - row['mb_per_month_included']) *  (row['rub_per_gb'] / 1024)\n",
    "    rub_monthly_fee = row['rub_monthly_fee']\n",
    "    if minutes_over < 0: \n",
    "        minutes_over = 0\n",
    "    if sms_over < 0:\n",
    "        sms_over = 0\n",
    "    if traffic_over < 0:\n",
    "        traffic_over = 0\n",
    "    return minutes_over + sms_over + traffic_over + rub_monthly_fee\n",
    "data_final['revenue'] = data_final.apply(get_revenue, axis = 1)\n",
    "data_final.head(10)"
   ]
  },
  {
   "cell_type": "markdown",
   "metadata": {},
   "source": [
    "Определим, какой тариф принес оператору больше прибыли:"
   ]
  },
  {
   "cell_type": "code",
   "execution_count": 36,
   "metadata": {},
   "outputs": [
    {
     "name": "stdout",
     "output_type": "stream",
     "text": [
      "Выручка от тарифа \"Ультра\": 1920750.0\n",
      "Выручка от тарифа \"Смарт\": 1542951.0\n",
      "Тариф \"Ультра\" более прибыльный\n"
     ]
    }
   ],
   "source": [
    "ultra_users = data_final.query('tariff== \"ultra\"')\n",
    "total_revenue_ultra = ultra_users['revenue'].sum()\n",
    "smart_users = data_final.query('tariff== \"smart\"')\n",
    "total_revenue_smart = smart_users['revenue'].sum()\n",
    "print('Выручка от тарифа \"Ультра\":', total_revenue_ultra)   \n",
    "print('Выручка от тарифа \"Смарт\":', total_revenue_smart)\n",
    "if total_revenue_ultra > total_revenue_smart:\n",
    "    print('Тариф \"Ультра\" более прибыльный')\n",
    "else:\n",
    "    print('Тариф \"Смарт\" более прибыльный')                                  "
   ]
  },
  {
   "cell_type": "markdown",
   "metadata": {},
   "source": [
    "Почему \"Смарт\" принес больше прибыли, хотя абонентская плата по нему меньше? Посчитаем количество пользователей каждого тарифа в изначальной таблице df_users:"
   ]
  },
  {
   "cell_type": "code",
   "execution_count": 37,
   "metadata": {},
   "outputs": [
    {
     "data": {
      "text/html": [
       "<div>\n",
       "<style scoped>\n",
       "    .dataframe tbody tr th:only-of-type {\n",
       "        vertical-align: middle;\n",
       "    }\n",
       "\n",
       "    .dataframe tbody tr th {\n",
       "        vertical-align: top;\n",
       "    }\n",
       "\n",
       "    .dataframe thead th {\n",
       "        text-align: right;\n",
       "    }\n",
       "</style>\n",
       "<table border=\"1\" class=\"dataframe\">\n",
       "  <thead>\n",
       "    <tr style=\"text-align: right;\">\n",
       "      <th></th>\n",
       "      <th>user_id</th>\n",
       "      <th>age</th>\n",
       "      <th>churn_date</th>\n",
       "      <th>city</th>\n",
       "      <th>first_name</th>\n",
       "      <th>last_name</th>\n",
       "      <th>reg_date</th>\n",
       "      <th>tariff</th>\n",
       "      <th>month</th>\n",
       "    </tr>\n",
       "  </thead>\n",
       "  <tbody>\n",
       "    <tr>\n",
       "      <th>1</th>\n",
       "      <td>1001</td>\n",
       "      <td>41</td>\n",
       "      <td>NaT</td>\n",
       "      <td>Москва</td>\n",
       "      <td>Иван</td>\n",
       "      <td>Ежов</td>\n",
       "      <td>2018-11-01</td>\n",
       "      <td>smart</td>\n",
       "      <td>11</td>\n",
       "    </tr>\n",
       "    <tr>\n",
       "      <th>2</th>\n",
       "      <td>1002</td>\n",
       "      <td>59</td>\n",
       "      <td>NaT</td>\n",
       "      <td>Стерлитамак</td>\n",
       "      <td>Евгений</td>\n",
       "      <td>Абрамович</td>\n",
       "      <td>2018-06-17</td>\n",
       "      <td>smart</td>\n",
       "      <td>6</td>\n",
       "    </tr>\n",
       "    <tr>\n",
       "      <th>5</th>\n",
       "      <td>1005</td>\n",
       "      <td>67</td>\n",
       "      <td>NaT</td>\n",
       "      <td>Набережные Челны</td>\n",
       "      <td>Афанасий</td>\n",
       "      <td>Горлов</td>\n",
       "      <td>2018-01-25</td>\n",
       "      <td>smart</td>\n",
       "      <td>1</td>\n",
       "    </tr>\n",
       "    <tr>\n",
       "      <th>6</th>\n",
       "      <td>1006</td>\n",
       "      <td>21</td>\n",
       "      <td>NaT</td>\n",
       "      <td>Ульяновск</td>\n",
       "      <td>Леонид</td>\n",
       "      <td>Ермолаев</td>\n",
       "      <td>2018-02-26</td>\n",
       "      <td>smart</td>\n",
       "      <td>2</td>\n",
       "    </tr>\n",
       "    <tr>\n",
       "      <th>7</th>\n",
       "      <td>1007</td>\n",
       "      <td>65</td>\n",
       "      <td>NaT</td>\n",
       "      <td>Москва</td>\n",
       "      <td>Юна</td>\n",
       "      <td>Березина</td>\n",
       "      <td>2018-04-19</td>\n",
       "      <td>smart</td>\n",
       "      <td>4</td>\n",
       "    </tr>\n",
       "    <tr>\n",
       "      <th>...</th>\n",
       "      <td>...</td>\n",
       "      <td>...</td>\n",
       "      <td>...</td>\n",
       "      <td>...</td>\n",
       "      <td>...</td>\n",
       "      <td>...</td>\n",
       "      <td>...</td>\n",
       "      <td>...</td>\n",
       "      <td>...</td>\n",
       "    </tr>\n",
       "    <tr>\n",
       "      <th>494</th>\n",
       "      <td>1494</td>\n",
       "      <td>62</td>\n",
       "      <td>NaT</td>\n",
       "      <td>Омск</td>\n",
       "      <td>Ренат</td>\n",
       "      <td>Андропов</td>\n",
       "      <td>2018-08-17</td>\n",
       "      <td>smart</td>\n",
       "      <td>8</td>\n",
       "    </tr>\n",
       "    <tr>\n",
       "      <th>496</th>\n",
       "      <td>1496</td>\n",
       "      <td>36</td>\n",
       "      <td>NaT</td>\n",
       "      <td>Вологда</td>\n",
       "      <td>Трифон</td>\n",
       "      <td>Блохин</td>\n",
       "      <td>2018-01-27</td>\n",
       "      <td>smart</td>\n",
       "      <td>1</td>\n",
       "    </tr>\n",
       "    <tr>\n",
       "      <th>497</th>\n",
       "      <td>1497</td>\n",
       "      <td>32</td>\n",
       "      <td>NaT</td>\n",
       "      <td>Челябинск</td>\n",
       "      <td>Каролина</td>\n",
       "      <td>Агеева</td>\n",
       "      <td>2018-10-09</td>\n",
       "      <td>smart</td>\n",
       "      <td>10</td>\n",
       "    </tr>\n",
       "    <tr>\n",
       "      <th>498</th>\n",
       "      <td>1498</td>\n",
       "      <td>68</td>\n",
       "      <td>2018-10-25</td>\n",
       "      <td>Владикавказ</td>\n",
       "      <td>Всеволод</td>\n",
       "      <td>Акимчин</td>\n",
       "      <td>2018-07-19</td>\n",
       "      <td>smart</td>\n",
       "      <td>7</td>\n",
       "    </tr>\n",
       "    <tr>\n",
       "      <th>499</th>\n",
       "      <td>1499</td>\n",
       "      <td>35</td>\n",
       "      <td>NaT</td>\n",
       "      <td>Пермь</td>\n",
       "      <td>Гектор</td>\n",
       "      <td>Корнилов</td>\n",
       "      <td>2018-09-27</td>\n",
       "      <td>smart</td>\n",
       "      <td>9</td>\n",
       "    </tr>\n",
       "  </tbody>\n",
       "</table>\n",
       "<p>351 rows × 9 columns</p>\n",
       "</div>"
      ],
      "text/plain": [
       "     user_id  age churn_date              city first_name  last_name  \\\n",
       "1       1001   41        NaT            Москва       Иван       Ежов   \n",
       "2       1002   59        NaT       Стерлитамак    Евгений  Абрамович   \n",
       "5       1005   67        NaT  Набережные Челны   Афанасий     Горлов   \n",
       "6       1006   21        NaT         Ульяновск     Леонид   Ермолаев   \n",
       "7       1007   65        NaT            Москва        Юна   Березина   \n",
       "..       ...  ...        ...               ...        ...        ...   \n",
       "494     1494   62        NaT              Омск      Ренат   Андропов   \n",
       "496     1496   36        NaT           Вологда     Трифон     Блохин   \n",
       "497     1497   32        NaT         Челябинск   Каролина     Агеева   \n",
       "498     1498   68 2018-10-25       Владикавказ   Всеволод    Акимчин   \n",
       "499     1499   35        NaT             Пермь     Гектор   Корнилов   \n",
       "\n",
       "      reg_date tariff  month  \n",
       "1   2018-11-01  smart     11  \n",
       "2   2018-06-17  smart      6  \n",
       "5   2018-01-25  smart      1  \n",
       "6   2018-02-26  smart      2  \n",
       "7   2018-04-19  smart      4  \n",
       "..         ...    ...    ...  \n",
       "494 2018-08-17  smart      8  \n",
       "496 2018-01-27  smart      1  \n",
       "497 2018-10-09  smart     10  \n",
       "498 2018-07-19  smart      7  \n",
       "499 2018-09-27  smart      9  \n",
       "\n",
       "[351 rows x 9 columns]"
      ]
     },
     "execution_count": 37,
     "metadata": {},
     "output_type": "execute_result"
    }
   ],
   "source": [
    "smart = df_users.query('tariff==\"smart\"')\n",
    "smart"
   ]
  },
  {
   "cell_type": "code",
   "execution_count": 38,
   "metadata": {},
   "outputs": [
    {
     "data": {
      "text/html": [
       "<div>\n",
       "<style scoped>\n",
       "    .dataframe tbody tr th:only-of-type {\n",
       "        vertical-align: middle;\n",
       "    }\n",
       "\n",
       "    .dataframe tbody tr th {\n",
       "        vertical-align: top;\n",
       "    }\n",
       "\n",
       "    .dataframe thead th {\n",
       "        text-align: right;\n",
       "    }\n",
       "</style>\n",
       "<table border=\"1\" class=\"dataframe\">\n",
       "  <thead>\n",
       "    <tr style=\"text-align: right;\">\n",
       "      <th></th>\n",
       "      <th>user_id</th>\n",
       "      <th>age</th>\n",
       "      <th>churn_date</th>\n",
       "      <th>city</th>\n",
       "      <th>first_name</th>\n",
       "      <th>last_name</th>\n",
       "      <th>reg_date</th>\n",
       "      <th>tariff</th>\n",
       "      <th>month</th>\n",
       "    </tr>\n",
       "  </thead>\n",
       "  <tbody>\n",
       "    <tr>\n",
       "      <th>0</th>\n",
       "      <td>1000</td>\n",
       "      <td>52</td>\n",
       "      <td>NaT</td>\n",
       "      <td>Краснодар</td>\n",
       "      <td>Рафаил</td>\n",
       "      <td>Верещагин</td>\n",
       "      <td>2018-05-25</td>\n",
       "      <td>ultra</td>\n",
       "      <td>5</td>\n",
       "    </tr>\n",
       "    <tr>\n",
       "      <th>3</th>\n",
       "      <td>1003</td>\n",
       "      <td>23</td>\n",
       "      <td>NaT</td>\n",
       "      <td>Москва</td>\n",
       "      <td>Белла</td>\n",
       "      <td>Белякова</td>\n",
       "      <td>2018-08-17</td>\n",
       "      <td>ultra</td>\n",
       "      <td>8</td>\n",
       "    </tr>\n",
       "    <tr>\n",
       "      <th>4</th>\n",
       "      <td>1004</td>\n",
       "      <td>68</td>\n",
       "      <td>NaT</td>\n",
       "      <td>Новокузнецк</td>\n",
       "      <td>Татьяна</td>\n",
       "      <td>Авдеенко</td>\n",
       "      <td>2018-05-14</td>\n",
       "      <td>ultra</td>\n",
       "      <td>5</td>\n",
       "    </tr>\n",
       "    <tr>\n",
       "      <th>13</th>\n",
       "      <td>1013</td>\n",
       "      <td>36</td>\n",
       "      <td>NaT</td>\n",
       "      <td>Иваново</td>\n",
       "      <td>Борис</td>\n",
       "      <td>Андреенко</td>\n",
       "      <td>2018-11-14</td>\n",
       "      <td>ultra</td>\n",
       "      <td>11</td>\n",
       "    </tr>\n",
       "    <tr>\n",
       "      <th>16</th>\n",
       "      <td>1016</td>\n",
       "      <td>58</td>\n",
       "      <td>NaT</td>\n",
       "      <td>Омск</td>\n",
       "      <td>Марица</td>\n",
       "      <td>Сазонова</td>\n",
       "      <td>2018-11-21</td>\n",
       "      <td>ultra</td>\n",
       "      <td>11</td>\n",
       "    </tr>\n",
       "    <tr>\n",
       "      <th>...</th>\n",
       "      <td>...</td>\n",
       "      <td>...</td>\n",
       "      <td>...</td>\n",
       "      <td>...</td>\n",
       "      <td>...</td>\n",
       "      <td>...</td>\n",
       "      <td>...</td>\n",
       "      <td>...</td>\n",
       "      <td>...</td>\n",
       "    </tr>\n",
       "    <tr>\n",
       "      <th>476</th>\n",
       "      <td>1476</td>\n",
       "      <td>50</td>\n",
       "      <td>NaT</td>\n",
       "      <td>Москва</td>\n",
       "      <td>Валентина</td>\n",
       "      <td>Семенова</td>\n",
       "      <td>2018-04-30</td>\n",
       "      <td>ultra</td>\n",
       "      <td>4</td>\n",
       "    </tr>\n",
       "    <tr>\n",
       "      <th>485</th>\n",
       "      <td>1485</td>\n",
       "      <td>34</td>\n",
       "      <td>NaT</td>\n",
       "      <td>Киров</td>\n",
       "      <td>Таисия</td>\n",
       "      <td>Сухова</td>\n",
       "      <td>2018-12-29</td>\n",
       "      <td>ultra</td>\n",
       "      <td>12</td>\n",
       "    </tr>\n",
       "    <tr>\n",
       "      <th>491</th>\n",
       "      <td>1491</td>\n",
       "      <td>56</td>\n",
       "      <td>NaT</td>\n",
       "      <td>Челябинск</td>\n",
       "      <td>Радислав</td>\n",
       "      <td>Андрейкин</td>\n",
       "      <td>2018-04-25</td>\n",
       "      <td>ultra</td>\n",
       "      <td>4</td>\n",
       "    </tr>\n",
       "    <tr>\n",
       "      <th>493</th>\n",
       "      <td>1493</td>\n",
       "      <td>71</td>\n",
       "      <td>NaT</td>\n",
       "      <td>Красноярск</td>\n",
       "      <td>Таисия</td>\n",
       "      <td>Ахматулина</td>\n",
       "      <td>2018-11-24</td>\n",
       "      <td>ultra</td>\n",
       "      <td>11</td>\n",
       "    </tr>\n",
       "    <tr>\n",
       "      <th>495</th>\n",
       "      <td>1495</td>\n",
       "      <td>65</td>\n",
       "      <td>NaT</td>\n",
       "      <td>Иркутск</td>\n",
       "      <td>Авксентий</td>\n",
       "      <td>Фокин</td>\n",
       "      <td>2018-08-28</td>\n",
       "      <td>ultra</td>\n",
       "      <td>8</td>\n",
       "    </tr>\n",
       "  </tbody>\n",
       "</table>\n",
       "<p>149 rows × 9 columns</p>\n",
       "</div>"
      ],
      "text/plain": [
       "     user_id  age churn_date         city first_name   last_name   reg_date  \\\n",
       "0       1000   52        NaT    Краснодар     Рафаил   Верещагин 2018-05-25   \n",
       "3       1003   23        NaT       Москва      Белла    Белякова 2018-08-17   \n",
       "4       1004   68        NaT  Новокузнецк    Татьяна    Авдеенко 2018-05-14   \n",
       "13      1013   36        NaT      Иваново      Борис   Андреенко 2018-11-14   \n",
       "16      1016   58        NaT         Омск     Марица    Сазонова 2018-11-21   \n",
       "..       ...  ...        ...          ...        ...         ...        ...   \n",
       "476     1476   50        NaT       Москва  Валентина    Семенова 2018-04-30   \n",
       "485     1485   34        NaT        Киров     Таисия      Сухова 2018-12-29   \n",
       "491     1491   56        NaT    Челябинск   Радислав   Андрейкин 2018-04-25   \n",
       "493     1493   71        NaT   Красноярск     Таисия  Ахматулина 2018-11-24   \n",
       "495     1495   65        NaT      Иркутск  Авксентий       Фокин 2018-08-28   \n",
       "\n",
       "    tariff  month  \n",
       "0    ultra      5  \n",
       "3    ultra      8  \n",
       "4    ultra      5  \n",
       "13   ultra     11  \n",
       "16   ultra     11  \n",
       "..     ...    ...  \n",
       "476  ultra      4  \n",
       "485  ultra     12  \n",
       "491  ultra      4  \n",
       "493  ultra     11  \n",
       "495  ultra      8  \n",
       "\n",
       "[149 rows x 9 columns]"
      ]
     },
     "execution_count": 38,
     "metadata": {},
     "output_type": "execute_result"
    }
   ],
   "source": [
    "ultra = df_users.query('tariff==\"ultra\"')\n",
    "ultra"
   ]
  },
  {
   "cell_type": "markdown",
   "metadata": {},
   "source": [
    "351 пользователей пользуется тарифом \"Смарт\", и всего лишь 149 клиентов предпочитают \"Ультра\". Поэтому годовая выручка по тарифу \"Смарт\" больше. "
   ]
  },
  {
   "cell_type": "markdown",
   "metadata": {},
   "source": [
    "### Вывод"
   ]
  },
  {
   "cell_type": "markdown",
   "metadata": {},
   "source": [
    "В исходных данных изменили тип данных, где это требовалось. Посчитали помесячный объем звонков, СМС и интернет-трафика, расчитали выручку с каждого пользователя. Выручка с пользователей тарифа \"Смарт\" больше, чем с пользователей \"Ультра\". Рабочая таблица для последующего анализа готова."
   ]
  },
  {
   "cell_type": "markdown",
   "metadata": {},
   "source": [
    "## Анализ данных"
   ]
  },
  {
   "cell_type": "markdown",
   "metadata": {},
   "source": [
    "### Расчеты и графики"
   ]
  },
  {
   "cell_type": "markdown",
   "metadata": {},
   "source": [
    "Подсчитаем среднее количество минут разговора, СМС, объем трафика и среднюю выручку помесячно по каждому тарифу:"
   ]
  },
  {
   "cell_type": "code",
   "execution_count": 39,
   "metadata": {},
   "outputs": [
    {
     "data": {
      "text/html": [
       "<div>\n",
       "<style scoped>\n",
       "    .dataframe tbody tr th:only-of-type {\n",
       "        vertical-align: middle;\n",
       "    }\n",
       "\n",
       "    .dataframe tbody tr th {\n",
       "        vertical-align: top;\n",
       "    }\n",
       "\n",
       "    .dataframe thead th {\n",
       "        text-align: right;\n",
       "    }\n",
       "</style>\n",
       "<table border=\"1\" class=\"dataframe\">\n",
       "  <thead>\n",
       "    <tr style=\"text-align: right;\">\n",
       "      <th></th>\n",
       "      <th>calls</th>\n",
       "      <th>revenue</th>\n",
       "      <th>sms</th>\n",
       "      <th>traffic</th>\n",
       "    </tr>\n",
       "    <tr>\n",
       "      <th>month</th>\n",
       "      <th></th>\n",
       "      <th></th>\n",
       "      <th></th>\n",
       "      <th></th>\n",
       "    </tr>\n",
       "  </thead>\n",
       "  <tbody>\n",
       "    <tr>\n",
       "      <th>1.0</th>\n",
       "      <td>428.111111</td>\n",
       "      <td>1950.0</td>\n",
       "      <td>33.777778</td>\n",
       "      <td>13.222222</td>\n",
       "    </tr>\n",
       "    <tr>\n",
       "      <th>2.0</th>\n",
       "      <td>297.125000</td>\n",
       "      <td>1950.0</td>\n",
       "      <td>21.958333</td>\n",
       "      <td>12.000000</td>\n",
       "    </tr>\n",
       "    <tr>\n",
       "      <th>3.0</th>\n",
       "      <td>489.648649</td>\n",
       "      <td>1950.0</td>\n",
       "      <td>32.297297</td>\n",
       "      <td>17.648649</td>\n",
       "    </tr>\n",
       "    <tr>\n",
       "      <th>4.0</th>\n",
       "      <td>458.018182</td>\n",
       "      <td>1950.0</td>\n",
       "      <td>31.563636</td>\n",
       "      <td>16.963636</td>\n",
       "    </tr>\n",
       "    <tr>\n",
       "      <th>5.0</th>\n",
       "      <td>510.328358</td>\n",
       "      <td>1950.0</td>\n",
       "      <td>37.850746</td>\n",
       "      <td>19.373134</td>\n",
       "    </tr>\n",
       "    <tr>\n",
       "      <th>6.0</th>\n",
       "      <td>479.702381</td>\n",
       "      <td>1950.0</td>\n",
       "      <td>41.726190</td>\n",
       "      <td>18.940476</td>\n",
       "    </tr>\n",
       "    <tr>\n",
       "      <th>7.0</th>\n",
       "      <td>545.791209</td>\n",
       "      <td>1950.0</td>\n",
       "      <td>49.846154</td>\n",
       "      <td>20.505495</td>\n",
       "    </tr>\n",
       "    <tr>\n",
       "      <th>8.0</th>\n",
       "      <td>510.775701</td>\n",
       "      <td>1950.0</td>\n",
       "      <td>48.439252</td>\n",
       "      <td>19.598131</td>\n",
       "    </tr>\n",
       "    <tr>\n",
       "      <th>9.0</th>\n",
       "      <td>539.443478</td>\n",
       "      <td>1950.0</td>\n",
       "      <td>52.286957</td>\n",
       "      <td>19.243478</td>\n",
       "    </tr>\n",
       "    <tr>\n",
       "      <th>10.0</th>\n",
       "      <td>558.081301</td>\n",
       "      <td>1950.0</td>\n",
       "      <td>58.430894</td>\n",
       "      <td>20.065041</td>\n",
       "    </tr>\n",
       "    <tr>\n",
       "      <th>11.0</th>\n",
       "      <td>541.380597</td>\n",
       "      <td>1950.0</td>\n",
       "      <td>55.791045</td>\n",
       "      <td>19.805970</td>\n",
       "    </tr>\n",
       "    <tr>\n",
       "      <th>12.0</th>\n",
       "      <td>592.805755</td>\n",
       "      <td>1950.0</td>\n",
       "      <td>60.611511</td>\n",
       "      <td>21.741007</td>\n",
       "    </tr>\n",
       "  </tbody>\n",
       "</table>\n",
       "</div>"
      ],
      "text/plain": [
       "            calls  revenue        sms    traffic\n",
       "month                                           \n",
       "1.0    428.111111   1950.0  33.777778  13.222222\n",
       "2.0    297.125000   1950.0  21.958333  12.000000\n",
       "3.0    489.648649   1950.0  32.297297  17.648649\n",
       "4.0    458.018182   1950.0  31.563636  16.963636\n",
       "5.0    510.328358   1950.0  37.850746  19.373134\n",
       "6.0    479.702381   1950.0  41.726190  18.940476\n",
       "7.0    545.791209   1950.0  49.846154  20.505495\n",
       "8.0    510.775701   1950.0  48.439252  19.598131\n",
       "9.0    539.443478   1950.0  52.286957  19.243478\n",
       "10.0   558.081301   1950.0  58.430894  20.065041\n",
       "11.0   541.380597   1950.0  55.791045  19.805970\n",
       "12.0   592.805755   1950.0  60.611511  21.741007"
      ]
     },
     "execution_count": 39,
     "metadata": {},
     "output_type": "execute_result"
    }
   ],
   "source": [
    "#среднее ультра\n",
    "mean_ultra=(data_final\n",
    "     .query('tariff==\"ultra\"')\n",
    "     .pivot_table(index='month',values=('calls','sms','traffic', 'revenue'),aggfunc=('mean'))    \n",
    ")\n",
    "mean_ultra"
   ]
  },
  {
   "cell_type": "markdown",
   "metadata": {},
   "source": [
    "Звонки, СМС, интернет в пределах лимита.Выручка незначительно превышает абонентскую плату."
   ]
  },
  {
   "cell_type": "code",
   "execution_count": 40,
   "metadata": {},
   "outputs": [
    {
     "data": {
      "image/png": "[encoded data removed]",
      "text/plain": [
       "<Figure size 936x432 with 1 Axes>"
      ]
     },
     "metadata": {
      "needs_background": "light"
     },
     "output_type": "display_data"
    }
   ],
   "source": [
    "ax=mean_ultra.plot(y='calls',figsize=(13,6),style='o-',kind='bar',label='ultra')\n",
    "plt.title('Звонки Ультра');"
   ]
  },
  {
   "cell_type": "code",
   "execution_count": 41,
   "metadata": {},
   "outputs": [
    {
     "data": {
      "image/png": "[encoded data removed]",
      "text/plain": [
       "<Figure size 936x432 with 1 Axes>"
      ]
     },
     "metadata": {
      "needs_background": "light"
     },
     "output_type": "display_data"
    }
   ],
   "source": [
    "ax=mean_ultra.plot(y='sms',figsize=(13,6),style='o-',kind='bar',label='ultra')\n",
    "plt.title('СМС Ультра');"
   ]
  },
  {
   "cell_type": "code",
   "execution_count": 42,
   "metadata": {},
   "outputs": [
    {
     "data": {
      "image/png": "[encoded data removed]",
      "text/plain": [
       "<Figure size 936x432 with 1 Axes>"
      ]
     },
     "metadata": {
      "needs_background": "light"
     },
     "output_type": "display_data"
    }
   ],
   "source": [
    "ax=mean_ultra.plot(y='traffic',figsize=(13,6),style='o-',kind='bar',label='ultra')\n",
    "plt.title('Интернет Ультра');"
   ]
  },
  {
   "cell_type": "markdown",
   "metadata": {},
   "source": [
    "Распределение по месяцам на всех трех графиках очень похоже: максимум активности пользователей по разговорам, СМС и использованию интернета приходится на предпразничный декабрь. Минимум - на февраль (но это самый короткий месяц в году). Некоторое различие наблюдается в отправке сообщений: в первом полугодии их меньше, чем во втором. По звонкам и интернету нет такого большого различия."
   ]
  },
  {
   "cell_type": "code",
   "execution_count": 43,
   "metadata": {},
   "outputs": [
    {
     "data": {
      "text/html": [
       "<div>\n",
       "<style scoped>\n",
       "    .dataframe tbody tr th:only-of-type {\n",
       "        vertical-align: middle;\n",
       "    }\n",
       "\n",
       "    .dataframe tbody tr th {\n",
       "        vertical-align: top;\n",
       "    }\n",
       "\n",
       "    .dataframe thead th {\n",
       "        text-align: right;\n",
       "    }\n",
       "</style>\n",
       "<table border=\"1\" class=\"dataframe\">\n",
       "  <thead>\n",
       "    <tr style=\"text-align: right;\">\n",
       "      <th></th>\n",
       "      <th>calls</th>\n",
       "      <th>revenue</th>\n",
       "      <th>sms</th>\n",
       "      <th>traffic</th>\n",
       "    </tr>\n",
       "    <tr>\n",
       "      <th>month</th>\n",
       "      <th></th>\n",
       "      <th></th>\n",
       "      <th></th>\n",
       "      <th></th>\n",
       "    </tr>\n",
       "  </thead>\n",
       "  <tbody>\n",
       "    <tr>\n",
       "      <th>1.0</th>\n",
       "      <td>203.852941</td>\n",
       "      <td>556.617647</td>\n",
       "      <td>18.235294</td>\n",
       "      <td>8.735294</td>\n",
       "    </tr>\n",
       "    <tr>\n",
       "      <th>2.0</th>\n",
       "      <td>298.689655</td>\n",
       "      <td>600.017241</td>\n",
       "      <td>24.086207</td>\n",
       "      <td>11.844828</td>\n",
       "    </tr>\n",
       "    <tr>\n",
       "      <th>3.0</th>\n",
       "      <td>390.051948</td>\n",
       "      <td>668.519481</td>\n",
       "      <td>31.857143</td>\n",
       "      <td>15.233766</td>\n",
       "    </tr>\n",
       "    <tr>\n",
       "      <th>4.0</th>\n",
       "      <td>367.133929</td>\n",
       "      <td>641.660714</td>\n",
       "      <td>30.741071</td>\n",
       "      <td>13.625000</td>\n",
       "    </tr>\n",
       "    <tr>\n",
       "      <th>5.0</th>\n",
       "      <td>387.361702</td>\n",
       "      <td>648.574468</td>\n",
       "      <td>33.773050</td>\n",
       "      <td>15.907801</td>\n",
       "    </tr>\n",
       "    <tr>\n",
       "      <th>6.0</th>\n",
       "      <td>395.640244</td>\n",
       "      <td>655.237805</td>\n",
       "      <td>33.402439</td>\n",
       "      <td>15.951220</td>\n",
       "    </tr>\n",
       "    <tr>\n",
       "      <th>7.0</th>\n",
       "      <td>408.353234</td>\n",
       "      <td>670.716418</td>\n",
       "      <td>33.751244</td>\n",
       "      <td>15.875622</td>\n",
       "    </tr>\n",
       "    <tr>\n",
       "      <th>8.0</th>\n",
       "      <td>421.468085</td>\n",
       "      <td>690.808511</td>\n",
       "      <td>33.638298</td>\n",
       "      <td>16.736170</td>\n",
       "    </tr>\n",
       "    <tr>\n",
       "      <th>9.0</th>\n",
       "      <td>428.611538</td>\n",
       "      <td>696.100000</td>\n",
       "      <td>33.638462</td>\n",
       "      <td>16.392308</td>\n",
       "    </tr>\n",
       "    <tr>\n",
       "      <th>10.0</th>\n",
       "      <td>426.136054</td>\n",
       "      <td>700.908163</td>\n",
       "      <td>33.765306</td>\n",
       "      <td>16.880952</td>\n",
       "    </tr>\n",
       "    <tr>\n",
       "      <th>11.0</th>\n",
       "      <td>435.265823</td>\n",
       "      <td>700.009494</td>\n",
       "      <td>34.075949</td>\n",
       "      <td>17.000000</td>\n",
       "    </tr>\n",
       "    <tr>\n",
       "      <th>12.0</th>\n",
       "      <td>478.560831</td>\n",
       "      <td>776.157270</td>\n",
       "      <td>35.994065</td>\n",
       "      <td>18.201780</td>\n",
       "    </tr>\n",
       "  </tbody>\n",
       "</table>\n",
       "</div>"
      ],
      "text/plain": [
       "            calls     revenue        sms    traffic\n",
       "month                                              \n",
       "1.0    203.852941  556.617647  18.235294   8.735294\n",
       "2.0    298.689655  600.017241  24.086207  11.844828\n",
       "3.0    390.051948  668.519481  31.857143  15.233766\n",
       "4.0    367.133929  641.660714  30.741071  13.625000\n",
       "5.0    387.361702  648.574468  33.773050  15.907801\n",
       "6.0    395.640244  655.237805  33.402439  15.951220\n",
       "7.0    408.353234  670.716418  33.751244  15.875622\n",
       "8.0    421.468085  690.808511  33.638298  16.736170\n",
       "9.0    428.611538  696.100000  33.638462  16.392308\n",
       "10.0   426.136054  700.908163  33.765306  16.880952\n",
       "11.0   435.265823  700.009494  34.075949  17.000000\n",
       "12.0   478.560831  776.157270  35.994065  18.201780"
      ]
     },
     "execution_count": 43,
     "metadata": {},
     "output_type": "execute_result"
    }
   ],
   "source": [
    "#среднее смарт\n",
    "mean_smart=(data_final\n",
    "     .query('tariff==\"smart\"')\n",
    "     .pivot_table(index='month',values=('calls','sms','traffic', 'revenue'),aggfunc=('mean'))    \n",
    ")\n",
    "mean_smart"
   ]
  },
  {
   "cell_type": "markdown",
   "metadata": {},
   "source": [
    "Звонки и СМС в пределах лимита, а вот интернет у клиентов \"Смарт\" очень востребован: лимит превышен почти каждый месяц, кроме января, февраля и апреля.  Выручка  сильно превышает абонентскую плату."
   ]
  },
  {
   "cell_type": "code",
   "execution_count": 44,
   "metadata": {},
   "outputs": [
    {
     "data": {
      "image/png": "[encoded data removed]",
      "text/plain": [
       "<Figure size 936x432 with 1 Axes>"
      ]
     },
     "metadata": {
      "needs_background": "light"
     },
     "output_type": "display_data"
    }
   ],
   "source": [
    "ax=mean_smart.plot(y='calls',figsize=(13,6),style='o-',kind='bar',label='smart')\n",
    "plt.title('Звонки Смарт');"
   ]
  },
  {
   "cell_type": "code",
   "execution_count": 45,
   "metadata": {},
   "outputs": [
    {
     "data": {
      "image/png": "[encoded data removed]",
      "text/plain": [
       "<Figure size 936x432 with 1 Axes>"
      ]
     },
     "metadata": {
      "needs_background": "light"
     },
     "output_type": "display_data"
    }
   ],
   "source": [
    "ax=mean_smart.plot(y='sms',figsize=(13,6),style='o-',kind='bar',label='smart')\n",
    "plt.title('СМС Смарт');"
   ]
  },
  {
   "cell_type": "code",
   "execution_count": 46,
   "metadata": {},
   "outputs": [
    {
     "data": {
      "image/png": "[encoded data removed]",
      "text/plain": [
       "<Figure size 936x432 with 1 Axes>"
      ]
     },
     "metadata": {
      "needs_background": "light"
     },
     "output_type": "display_data"
    }
   ],
   "source": [
    "ax=mean_smart.plot(y='traffic',figsize=(13,6),style='o-',kind='bar',label='smart')\n",
    "plt.title('Интернет Смарт');"
   ]
  },
  {
   "cell_type": "markdown",
   "metadata": {},
   "source": [
    "По тарифу \"Смарт\" графики также очень похожи. Максимум в декабре, минимум в январе. СМС с марта по ноябрь распределены примерно одинаково. "
   ]
  },
  {
   "cell_type": "markdown",
   "metadata": {},
   "source": [
    "Сравним активность пользователей обоих тарифов с помощью графиков:"
   ]
  },
  {
   "cell_type": "code",
   "execution_count": 47,
   "metadata": {},
   "outputs": [
    {
     "data": {
      "image/png": "[encoded data removed]",
      "text/plain": [
       "<Figure size 936x432 with 1 Axes>"
      ]
     },
     "metadata": {
      "needs_background": "light"
     },
     "output_type": "display_data"
    }
   ],
   "source": [
    "ax=mean_smart.plot(y='calls',figsize=(13,6),style='o-',kind='bar',label='smart')\n",
    "mean_ultra.plot(y='calls',grid=True,figsize=(13,6),style='o-',kind='bar',label='ultra',alpha=0.5,ax=ax)\n",
    "plt.title('Сравнение по звонкам');"
   ]
  },
  {
   "cell_type": "code",
   "execution_count": 48,
   "metadata": {},
   "outputs": [
    {
     "data": {
      "image/png": "[encoded data removed]",
      "text/plain": [
       "<Figure size 936x432 with 1 Axes>"
      ]
     },
     "metadata": {
      "needs_background": "light"
     },
     "output_type": "display_data"
    }
   ],
   "source": [
    "ax=mean_smart.plot(y='sms',grid=True,figsize=(13,6),style='o-',kind='bar',label='smart')\n",
    "mean_ultra.plot(y='sms',grid=True,figsize=(13,6),style='o-',kind='bar',label='ultra',alpha=0.5,ax=ax)\n",
    "plt.title('Сравнение по СМС');"
   ]
  },
  {
   "cell_type": "code",
   "execution_count": 49,
   "metadata": {},
   "outputs": [
    {
     "data": {
      "image/png": "[encoded data removed]",
      "text/plain": [
       "<Figure size 936x432 with 1 Axes>"
      ]
     },
     "metadata": {
      "needs_background": "light"
     },
     "output_type": "display_data"
    }
   ],
   "source": [
    "ax=mean_smart.plot(y='traffic',figsize=(13,6),style='o-',kind='bar',label='smart')\n",
    "mean_ultra.plot(y='traffic',grid=True,figsize=(13,6),style='o-',kind='bar',label='ultra',alpha=0.5,ax=ax)\n",
    "plt.title('Сравнение по интернет-трафику');"
   ]
  },
  {
   "cell_type": "markdown",
   "metadata": {},
   "source": [
    "По графикам видно, что тариф \"Ультра\" лидирует по всем параметрам. Наибольшее различие составляет продолжительность звонков и отправка сообщений в январе: клиенты \"Ультра\" звонили и отправляли СМС примерно вдвое больше, чем пользователи \"Смарт\". "
   ]
  },
  {
   "cell_type": "markdown",
   "metadata": {},
   "source": [
    "Посчитаем дисперсию по тарифам:"
   ]
  },
  {
   "cell_type": "code",
   "execution_count": 50,
   "metadata": {},
   "outputs": [
    {
     "name": "stdout",
     "output_type": "stream",
     "text": [
      "Дисперсия продолжительности звонков \"Ультра\": 100771.22361720214\n",
      "Дисперсия продолжительности звонков \"Смарт\": 36203.066652094654\n"
     ]
    }
   ],
   "source": [
    "ultra_calls_var = np.var(ultra_users['calls'])\n",
    "print(f'Дисперсия продолжительности звонков \"Ультра\": {ultra_calls_var}')\n",
    "smart_calls_var = np.var(smart_users['calls'])\n",
    "print(f'Дисперсия продолжительности звонков \"Смарт\": {smart_calls_var}')"
   ]
  },
  {
   "cell_type": "code",
   "execution_count": 51,
   "metadata": {},
   "outputs": [
    {
     "name": "stdout",
     "output_type": "stream",
     "text": [
      "Дисперсия количества сообщений \"Ультра\": 2282.946075394905\n",
      "Дисперсия количества сообщений \"Смарт\": 796.4554829170846\n"
     ]
    }
   ],
   "source": [
    "ultra_sms_var = np.var(ultra_users['sms'])\n",
    "print(f'Дисперсия количества сообщений \"Ультра\": {ultra_sms_var}')\n",
    "smart_sms_var = np.var(smart_users['sms'])\n",
    "print(f'Дисперсия количества сообщений \"Смарт\": {smart_sms_var}')"
   ]
  },
  {
   "cell_type": "code",
   "execution_count": 52,
   "metadata": {},
   "outputs": [
    {
     "name": "stdout",
     "output_type": "stream",
     "text": [
      "Дисперсия трафика \"Ультра\": 96.99311602978716\n",
      "Дисперсия трафика \"Смарт\": 33.0138874548374\n"
     ]
    }
   ],
   "source": [
    "ultra_internet_var = np.var(ultra_users['traffic'])\n",
    "print(f'Дисперсия трафика \"Ультра\": {ultra_internet_var}')\n",
    "smart_internet_var = np.var(smart_users['traffic'])\n",
    "print(f'Дисперсия трафика \"Смарт\": {smart_internet_var}')"
   ]
  },
  {
   "cell_type": "markdown",
   "metadata": {},
   "source": [
    "По данным тарифа \"Ультра\" дисперсия значительно выше, чем у \"Смарт\"."
   ]
  },
  {
   "cell_type": "markdown",
   "metadata": {},
   "source": [
    "Посчитаем стандартное отклонение по тарифу \"Ультра\":"
   ]
  },
  {
   "cell_type": "code",
   "execution_count": 53,
   "metadata": {},
   "outputs": [
    {
     "name": "stdout",
     "output_type": "stream",
     "text": [
      "СКО звонков \"Ультра\": 317.4448355497411\n",
      "СКО сообщений \"Ультра\": 47.78018496610185\n",
      "СКО интернет-трафика \"Ультра\": 9.848508314957508\n"
     ]
    }
   ],
   "source": [
    "std_ultra_calls = np.std(ultra_users['calls'])\n",
    "std_ultra_mes= np.std(ultra_users['sms'])\n",
    "std_ultra_internet = np.std(ultra_users['traffic'])\n",
    "print(f'СКО звонков \"Ультра\": {std_ultra_calls}')\n",
    "print(f'СКО сообщений \"Ультра\": {std_ultra_mes}')\n",
    "print(f'СКО интернет-трафика \"Ультра\": {std_ultra_internet}')"
   ]
  },
  {
   "cell_type": "markdown",
   "metadata": {},
   "source": [
    "Посчитаем стандартное отклонение по тарифу \"Смарт\":"
   ]
  },
  {
   "cell_type": "code",
   "execution_count": 54,
   "metadata": {},
   "outputs": [
    {
     "name": "stdout",
     "output_type": "stream",
     "text": [
      "СКО звонков \"Смарт\": 190.27103471651867\n",
      "СКО сообщений \"Смарт\": 28.22154288689909\n",
      "СКО интернет-трафика \"Смарт\": 5.745771267187496\n"
     ]
    }
   ],
   "source": [
    "std_smart_calls = np.std(smart_users['calls'])\n",
    "std_smart_mes= np.std(smart_users['sms'])\n",
    "std_smart_internet = np.std(smart_users['traffic'])\n",
    "print(f'СКО звонков \"Смарт\": {std_smart_calls}')\n",
    "print(f'СКО сообщений \"Смарт\": {std_smart_mes}')\n",
    "print(f'СКО интернет-трафика \"Смарт\": {std_smart_internet}')"
   ]
  },
  {
   "cell_type": "markdown",
   "metadata": {},
   "source": [
    "Соответственно, стандартное отклонение данных по  тарифу \"Ультра\" выше, чем по тарифу \"Смарт\". Данные по \"Ультра\" характеризуются более сильным разбросом от среднего значения, чем у \"Смарт\". По всем параметрам (продолжительность звонков, количество смс, интернет) больше расходуют пользователи тарифа \"Ультра\"."
   ]
  },
  {
   "cell_type": "markdown",
   "metadata": {},
   "source": [
    "Построим графики, чтобы посмотреть распределения:"
   ]
  },
  {
   "cell_type": "code",
   "execution_count": 55,
   "metadata": {},
   "outputs": [
    {
     "data": {
      "image/png": "[encoded data removed]",
      "text/plain": [
       "<Figure size 432x288 with 1 Axes>"
      ]
     },
     "metadata": {
      "needs_background": "light"
     },
     "output_type": "display_data"
    }
   ],
   "source": [
    "sns.distplot(ultra_users['calls'],bins=30)\n",
    "plt.title('Распределение длительности звонков \"Ультра\"');"
   ]
  },
  {
   "cell_type": "markdown",
   "metadata": {},
   "source": [
    "По гистограмме можно сделать вывод, что больше всего пользователи тарифа \"Ультра\" разговаривают около 1 мин."
   ]
  },
  {
   "cell_type": "code",
   "execution_count": 56,
   "metadata": {},
   "outputs": [
    {
     "data": {
      "image/png": "[encoded data removed]",
      "text/plain": [
       "<Figure size 432x288 with 1 Axes>"
      ]
     },
     "metadata": {
      "needs_background": "light"
     },
     "output_type": "display_data"
    }
   ],
   "source": [
    "sns.distplot(ultra_users['sms'],bins=30)\n",
    "plt.title('Распределение количества СМС \"Ультра\"');"
   ]
  },
  {
   "cell_type": "markdown",
   "metadata": {},
   "source": [
    "Больше всего пользователи тарифа \"Ультра\" отправляют ок. 10 CМС."
   ]
  },
  {
   "cell_type": "code",
   "execution_count": 57,
   "metadata": {},
   "outputs": [
    {
     "data": {
      "image/png": "[encoded data removed]",
      "text/plain": [
       "<Figure size 432x288 with 1 Axes>"
      ]
     },
     "metadata": {
      "needs_background": "light"
     },
     "output_type": "display_data"
    }
   ],
   "source": [
    "sns.distplot(ultra_users['traffic'],bins=30)\n",
    "plt.title('Распределение объема интернет-трафика \"Ультра\"');"
   ]
  },
  {
   "cell_type": "markdown",
   "metadata": {},
   "source": [
    "Больше всего пользователи тарифа \"Ультра\" используют ок. 22000 Мб (ок.22 Гб) интернета."
   ]
  },
  {
   "cell_type": "code",
   "execution_count": 58,
   "metadata": {},
   "outputs": [
    {
     "data": {
      "image/png": "[encoded data removed]",
      "text/plain": [
       "<Figure size 432x288 with 1 Axes>"
      ]
     },
     "metadata": {
      "needs_background": "light"
     },
     "output_type": "display_data"
    }
   ],
   "source": [
    "sns.distplot(smart_users['calls'],bins=30)\n",
    "plt.title('Распределение длительности звонков \"Смарт\"');"
   ]
  },
  {
   "cell_type": "markdown",
   "metadata": {},
   "source": [
    "По гистограмме можно сделать вывод, что больше всего пользователи тарифа \"Смарт\" разговаривают около 500 мин."
   ]
  },
  {
   "cell_type": "code",
   "execution_count": 59,
   "metadata": {},
   "outputs": [
    {
     "data": {
      "image/png": "[encoded data removed]",
      "text/plain": [
       "<Figure size 432x288 with 1 Axes>"
      ]
     },
     "metadata": {
      "needs_background": "light"
     },
     "output_type": "display_data"
    }
   ],
   "source": [
    "sns.distplot(smart_users['sms'],bins=30)\n",
    "plt.title('Распределение количества СМС \"Смарт\"');"
   ]
  },
  {
   "cell_type": "markdown",
   "metadata": {},
   "source": [
    "Больше всего пользователи тарифа \"Смарт\" отправляют ок. 5 CМС."
   ]
  },
  {
   "cell_type": "code",
   "execution_count": 60,
   "metadata": {},
   "outputs": [
    {
     "data": {
      "image/png": "[encoded data removed]",
      "text/plain": [
       "<Figure size 432x288 with 1 Axes>"
      ]
     },
     "metadata": {
      "needs_background": "light"
     },
     "output_type": "display_data"
    }
   ],
   "source": [
    "sns.distplot(smart_users['traffic'],bins=30)\n",
    "plt.title('Распределение объема интернет-трафика \"Смарт\"');"
   ]
  },
  {
   "cell_type": "markdown",
   "metadata": {},
   "source": [
    "Больше всего пользователи тарифа \"Смарт\" используют ок. 16000 Мб (ок. 16 Гб) интернета."
   ]
  },
  {
   "cell_type": "markdown",
   "metadata": {},
   "source": [
    "### Вывод"
   ]
  },
  {
   "cell_type": "markdown",
   "metadata": {},
   "source": [
    "Пользователи \"Смарт\" меньше отправляют СМС и расходуют меньше интернет-трафика, при этом большинство клиентов превышает лимит. Средняя ежемесячная выручка с тарифа \"Смарт\" намного больше абонентской платы по нему. Активность пользователей обоих тарифов минимальная в начале года и максимальная в конце. Данные по пользователям тарифа \"Ультра\" имеют более высокую дисперсию и, соответственно, стандартное отклонение, чем данные по тарифу \"Смарт\", т.е. поведение пользователей тарифа \"Ультра\" менее предсказуемое с точки зрения потребления телекоммуникационных услуг.  "
   ]
  },
  {
   "cell_type": "markdown",
   "metadata": {},
   "source": [
    "## Проверка гипотез"
   ]
  },
  {
   "cell_type": "markdown",
   "metadata": {},
   "source": [
    "### Гипотеза 1"
   ]
  },
  {
   "cell_type": "markdown",
   "metadata": {},
   "source": [
    "Нулевая гипотеза 1: средняя выручка пользователей тарифов \"Ультра\" и \"Смарт\" одинаковая. \n",
    "\n",
    "Альтернативная гипотеза 1: средняя выручка пользователей тарифа \"Ультра\" отличается от средней выручки пользователей тарифа \"Смарт\". "
   ]
  },
  {
   "cell_type": "code",
   "execution_count": 61,
   "metadata": {},
   "outputs": [],
   "source": [
    "#выборки для каждого тарифа:\n",
    "ultra_revenue_mean = data_final.query('tariff ==\"ultra\"')['revenue'].values \n",
    "smart_revenue_mean = data_final.query('tariff ==\"smart\"')['revenue'].values"
   ]
  },
  {
   "cell_type": "code",
   "execution_count": 62,
   "metadata": {},
   "outputs": [
    {
     "name": "stdout",
     "output_type": "stream",
     "text": [
      "Дисперсия smart_revenue_mean: 68100.67579146056\n",
      "Дисперсия ultra_revenue_mean: 0.0\n"
     ]
    }
   ],
   "source": [
    "#проверим дисперсии:\n",
    "print('Дисперсия smart_revenue_mean:',np.var(smart_revenue_mean))\n",
    "print('Дисперсия ultra_revenue_mean:',np.var(ultra_revenue_mean))"
   ]
  },
  {
   "cell_type": "markdown",
   "metadata": {},
   "source": [
    "Видно, что дисперсии сильно отличаются. Поэтому для проведения t-теста укажем qual_var = False:"
   ]
  },
  {
   "cell_type": "code",
   "execution_count": 63,
   "metadata": {},
   "outputs": [
    {
     "name": "stdout",
     "output_type": "stream",
     "text": [
      "p-значение: 0.0\n",
      "Отвергаем нулевую гипотезу\n"
     ]
    }
   ],
   "source": [
    "alpha = .05\n",
    "results = st.ttest_ind(smart_revenue_mean, ultra_revenue_mean)\n",
    "print('p-значение:', results.pvalue)\n",
    "if (results.pvalue < alpha):\n",
    "    print(\"Отвергаем нулевую гипотезу\")\n",
    "else:\n",
    "    print(\"Не получилось отвергнуть нулевую гипотезу\")"
   ]
  },
  {
   "cell_type": "markdown",
   "metadata": {},
   "source": [
    "Нулевая гипотеза отвергнута. Значит, средняя выручка пользователей двух тарифов различаются. Итак, Гипотеза 1 подтверждается."
   ]
  },
  {
   "cell_type": "markdown",
   "metadata": {},
   "source": [
    "### Гипотеза 2"
   ]
  },
  {
   "cell_type": "markdown",
   "metadata": {},
   "source": [
    "Нулевая гипотеза 2: cредняя выручка клиентов из Москвы равна средней выручке клиентов из других регионов. \n",
    "\n",
    "Альтернативная гипотеза 2: средняя выручка клиентов из Москвы отличается от средней выручки клиентов из других регионов. "
   ]
  },
  {
   "cell_type": "code",
   "execution_count": 64,
   "metadata": {},
   "outputs": [],
   "source": [
    "#делаем выборки:\n",
    "moscow_revenue_mean = data_final.query('city == \"Москва\"')['revenue'].values\n",
    "other_revenue_mean = data_final.query('city != \"Москва\"')['revenue'].values"
   ]
  },
  {
   "cell_type": "code",
   "execution_count": 65,
   "metadata": {},
   "outputs": [
    {
     "name": "stdout",
     "output_type": "stream",
     "text": [
      "Дисперсия moscow_revenue_mean: 410031.8230691549\n",
      "Дисперсия other_revenue_mean: 375823.9848409199\n"
     ]
    }
   ],
   "source": [
    "#проверим дисперсии:\n",
    "print('Дисперсия moscow_revenue_mean:',np.var(moscow_revenue_mean))\n",
    "print('Дисперсия other_revenue_mean:',np.var(other_revenue_mean))"
   ]
  },
  {
   "cell_type": "markdown",
   "metadata": {},
   "source": [
    "Дисперсия не сильно отличается, поэтому не будем указывать qual_var = False:"
   ]
  },
  {
   "cell_type": "code",
   "execution_count": 66,
   "metadata": {},
   "outputs": [
    {
     "name": "stdout",
     "output_type": "stream",
     "text": [
      "p-значение: 0.0018497307474415955\n",
      "Отвергаем нулевую гипотезу\n"
     ]
    }
   ],
   "source": [
    "alpha = .05\n",
    "results = st.ttest_ind(moscow_revenue_mean, other_revenue_mean)\n",
    "print('p-значение:', results.pvalue)\n",
    "if (results.pvalue < alpha):\n",
    "    print(\"Отвергаем нулевую гипотезу\")\n",
    "else:\n",
    "    print(\"Не получилось отвергнуть нулевую гипотезу\")"
   ]
  },
  {
   "cell_type": "markdown",
   "metadata": {},
   "source": [
    "Нулевая гипотеза не отвергнута. Значит, Гипотеза 2 НЕ подтверждается."
   ]
  },
  {
   "cell_type": "markdown",
   "metadata": {},
   "source": [
    "Для убедительности посмотрим средние значения:"
   ]
  },
  {
   "cell_type": "code",
   "execution_count": 67,
   "metadata": {},
   "outputs": [
    {
     "name": "stdout",
     "output_type": "stream",
     "text": [
      "Средняя выручка пользователей тарифа \"Смарт\": 692.2166890982503\n",
      "Средняя выручка пользователей тарифа \"Ультра\": 1950.0\n",
      "Средняя выручка клентов из Москвы: 1147.859247135843\n",
      "Средняя выручка клентов из других регионов: 1061.2212831348445\n"
     ]
    }
   ],
   "source": [
    "print('Средняя выручка пользователей тарифа \"Смарт\":',smart_revenue_mean.mean())\n",
    "print('Средняя выручка пользователей тарифа \"Ультра\":', ultra_revenue_mean.mean())\n",
    "print('Средняя выручка клентов из Москвы:', moscow_revenue_mean.mean())\n",
    "print('Средняя выручка клентов из других регионов:', other_revenue_mean.mean())"
   ]
  },
  {
   "cell_type": "markdown",
   "metadata": {},
   "source": [
    "Видно, что средняя выручка \"Ультра\" заметно выше \"Смарт\", а вот региональные различия незначительные. "
   ]
  },
  {
   "cell_type": "markdown",
   "metadata": {},
   "source": [
    "## Вывод"
   ]
  },
  {
   "cell_type": "markdown",
   "metadata": {},
   "source": [
    "- Данные преимущественно в хорошем состоянии. Изменены только типы в столбцах с датами на datetime64. Посчитан помесячный объем звонков, СМС и интернет-трафика, рассчитана выручка с каждого пользователя. Подготовлена таблица для последующего анализа.Проверены гипотезы.\n",
    "- В процессе анализа выявлено:\n",
    "1) \"Смарт\" за год принес больше выручки из-за большего числа абонентов.\n",
    "2) Активность пользователей растет в течение года.\n",
    "3) Все клиенты в среднем держатся в рамках лимита, кроме пользователей \"Смарт\", которым обычно не хватает 15 Гб в месяц. \n",
    "4) Средняя выручка не зависит от региона проживания клиентов. \n",
    "5) Средняя месячная выручка с тарифа \"Ультра\" выше, чем с тарифа \"Смарт\".\n",
    "- Тариф \"Ультра\" более перспективный для оператора с точки зрения прибыльности, поэтому лучше скорректировать рекламный бюджет в сторону \"Ультра\"."
   ]
  }
 ],
 "metadata": {
  "ExecuteTimeLog": [
   {
    "duration": 227,
    "start_time": "2022-01-14T11:29:03.138Z"
   },
   {
    "duration": 208,
    "start_time": "2022-01-14T11:29:23.228Z"
   },
   {
    "duration": 1162,
    "start_time": "2022-01-14T11:29:28.573Z"
   },
   {
    "duration": 163,
    "start_time": "2022-01-14T11:29:30.709Z"
   },
   {
    "duration": 385,
    "start_time": "2022-01-14T11:29:42.058Z"
   },
   {
    "duration": 161,
    "start_time": "2022-01-14T11:31:43.087Z"
   },
   {
    "duration": 23,
    "start_time": "2022-01-14T11:32:02.944Z"
   },
   {
    "duration": 145,
    "start_time": "2022-01-14T11:33:02.049Z"
   },
   {
    "duration": 18,
    "start_time": "2022-01-14T11:33:30.153Z"
   },
   {
    "duration": 96,
    "start_time": "2022-01-14T11:34:05.538Z"
   },
   {
    "duration": 970,
    "start_time": "2022-01-14T11:34:32.858Z"
   },
   {
    "duration": 21,
    "start_time": "2022-01-14T11:34:44.089Z"
   },
   {
    "duration": 35,
    "start_time": "2022-01-14T11:35:15.883Z"
   },
   {
    "duration": 163,
    "start_time": "2022-01-14T11:36:06.234Z"
   },
   {
    "duration": 14,
    "start_time": "2022-01-14T11:36:27.757Z"
   },
   {
    "duration": 21,
    "start_time": "2022-01-14T11:36:40.157Z"
   },
   {
    "duration": 181,
    "start_time": "2022-01-14T11:36:54.061Z"
   },
   {
    "duration": 7,
    "start_time": "2022-01-14T11:36:58.478Z"
   },
   {
    "duration": 8,
    "start_time": "2022-01-14T11:37:24.941Z"
   },
   {
    "duration": 3,
    "start_time": "2022-01-14T11:45:17.951Z"
   },
   {
    "duration": 31,
    "start_time": "2022-01-14T12:22:49.441Z"
   },
   {
    "duration": 22,
    "start_time": "2022-01-14T12:23:51.833Z"
   },
   {
    "duration": 19,
    "start_time": "2022-01-14T12:24:38.746Z"
   },
   {
    "duration": 17,
    "start_time": "2022-01-14T12:26:44.723Z"
   },
   {
    "duration": 16,
    "start_time": "2022-01-14T12:26:53.093Z"
   },
   {
    "duration": 16,
    "start_time": "2022-01-14T12:33:05.115Z"
   },
   {
    "duration": 13,
    "start_time": "2022-01-14T12:33:13.801Z"
   },
   {
    "duration": 11,
    "start_time": "2022-01-14T12:33:21.627Z"
   },
   {
    "duration": 6,
    "start_time": "2022-01-14T12:33:33.228Z"
   },
   {
    "duration": 16,
    "start_time": "2022-01-14T12:33:42.948Z"
   },
   {
    "duration": 5,
    "start_time": "2022-01-14T12:42:42.285Z"
   },
   {
    "duration": 15,
    "start_time": "2022-01-14T12:46:25.193Z"
   },
   {
    "duration": 11,
    "start_time": "2022-01-14T12:46:34.736Z"
   },
   {
    "duration": 5,
    "start_time": "2022-01-14T12:46:46.849Z"
   },
   {
    "duration": 112,
    "start_time": "2022-01-24T00:21:01.673Z"
   },
   {
    "duration": 115,
    "start_time": "2022-01-24T00:21:34.423Z"
   },
   {
    "duration": 1435,
    "start_time": "2022-01-24T00:22:02.172Z"
   },
   {
    "duration": 422,
    "start_time": "2022-01-24T00:22:03.610Z"
   },
   {
    "duration": 28,
    "start_time": "2022-01-24T00:22:04.036Z"
   },
   {
    "duration": 393,
    "start_time": "2022-01-24T00:22:04.067Z"
   },
   {
    "duration": 24,
    "start_time": "2022-01-24T00:22:04.463Z"
   },
   {
    "duration": 325,
    "start_time": "2022-01-24T00:22:04.490Z"
   },
   {
    "duration": 27,
    "start_time": "2022-01-24T00:22:04.817Z"
   },
   {
    "duration": 219,
    "start_time": "2022-01-24T00:22:04.846Z"
   },
   {
    "duration": 8,
    "start_time": "2022-01-24T00:22:05.069Z"
   },
   {
    "duration": 251,
    "start_time": "2022-01-24T00:22:05.080Z"
   },
   {
    "duration": 8,
    "start_time": "2022-01-24T00:22:05.333Z"
   },
   {
    "duration": 109,
    "start_time": "2022-01-24T00:22:05.343Z"
   },
   {
    "duration": 5,
    "start_time": "2022-01-24T00:22:05.454Z"
   },
   {
    "duration": 91,
    "start_time": "2022-01-24T00:22:05.461Z"
   },
   {
    "duration": 53,
    "start_time": "2022-01-24T00:22:05.554Z"
   },
   {
    "duration": 48,
    "start_time": "2022-01-24T00:22:05.609Z"
   },
   {
    "duration": 44,
    "start_time": "2022-01-24T00:22:05.659Z"
   },
   {
    "duration": 74,
    "start_time": "2022-01-24T00:22:05.705Z"
   },
   {
    "duration": 10,
    "start_time": "2022-01-24T00:22:05.781Z"
   },
   {
    "duration": 10,
    "start_time": "2022-01-24T00:22:05.794Z"
   },
   {
    "duration": 33,
    "start_time": "2022-01-24T00:22:05.806Z"
   },
   {
    "duration": 11,
    "start_time": "2022-01-24T00:22:05.841Z"
   },
   {
    "duration": 18,
    "start_time": "2022-01-24T00:22:05.854Z"
   },
   {
    "duration": 13,
    "start_time": "2022-01-24T00:22:05.874Z"
   },
   {
    "duration": 55,
    "start_time": "2022-01-24T00:22:05.889Z"
   },
   {
    "duration": 373,
    "start_time": "2022-01-24T00:22:05.946Z"
   },
   {
    "duration": 21,
    "start_time": "2022-01-24T00:22:06.325Z"
   },
   {
    "duration": 24,
    "start_time": "2022-01-24T00:22:06.350Z"
   },
   {
    "duration": 437,
    "start_time": "2022-01-24T00:22:06.376Z"
   },
   {
    "duration": 422,
    "start_time": "2022-01-24T00:22:06.815Z"
   },
   {
    "duration": 408,
    "start_time": "2022-01-24T00:22:07.239Z"
   },
   {
    "duration": 26,
    "start_time": "2022-01-24T00:22:07.650Z"
   },
   {
    "duration": 419,
    "start_time": "2022-01-24T00:22:07.678Z"
   },
   {
    "duration": 433,
    "start_time": "2022-01-24T00:22:08.099Z"
   },
   {
    "duration": 420,
    "start_time": "2022-01-24T00:22:08.534Z"
   },
   {
    "duration": 563,
    "start_time": "2022-01-24T00:22:08.957Z"
   },
   {
    "duration": 494,
    "start_time": "2022-01-24T00:22:09.522Z"
   },
   {
    "duration": 480,
    "start_time": "2022-01-24T00:22:10.018Z"
   },
   {
    "duration": 5,
    "start_time": "2022-01-24T00:22:10.500Z"
   },
   {
    "duration": 24,
    "start_time": "2022-01-24T00:22:10.508Z"
   },
   {
    "duration": 12,
    "start_time": "2022-01-24T00:22:10.534Z"
   },
   {
    "duration": 6,
    "start_time": "2022-01-24T00:22:10.548Z"
   },
   {
    "duration": 7,
    "start_time": "2022-01-24T00:22:10.556Z"
   },
   {
    "duration": 7,
    "start_time": "2022-01-24T00:22:10.565Z"
   },
   {
    "duration": 7,
    "start_time": "2022-01-24T00:22:10.574Z"
   },
   {
    "duration": 8,
    "start_time": "2022-01-24T00:22:10.583Z"
   },
   {
    "duration": 362,
    "start_time": "2022-01-24T00:22:10.633Z"
   },
   {
    "duration": 382,
    "start_time": "2022-01-24T00:22:10.997Z"
   },
   {
    "duration": 384,
    "start_time": "2022-01-24T00:22:11.382Z"
   },
   {
    "duration": 396,
    "start_time": "2022-01-24T00:22:11.768Z"
   },
   {
    "duration": 406,
    "start_time": "2022-01-24T00:22:12.167Z"
   },
   {
    "duration": 398,
    "start_time": "2022-01-24T00:22:12.576Z"
   },
   {
    "duration": 11,
    "start_time": "2022-01-24T00:22:12.976Z"
   },
   {
    "duration": 9,
    "start_time": "2022-01-24T00:22:12.989Z"
   },
   {
    "duration": 7,
    "start_time": "2022-01-24T00:22:13.000Z"
   },
   {
    "duration": 12,
    "start_time": "2022-01-24T00:22:13.033Z"
   },
   {
    "duration": 6,
    "start_time": "2022-01-24T00:22:13.047Z"
   },
   {
    "duration": 7,
    "start_time": "2022-01-24T00:22:13.055Z"
   },
   {
    "duration": 554,
    "start_time": "2022-01-24T12:12:30.158Z"
   },
   {
    "duration": 1310,
    "start_time": "2022-01-24T12:12:49.973Z"
   },
   {
    "duration": 346,
    "start_time": "2022-01-24T12:12:51.285Z"
   },
   {
    "duration": 28,
    "start_time": "2022-01-24T12:12:51.634Z"
   },
   {
    "duration": 317,
    "start_time": "2022-01-24T12:12:51.664Z"
   },
   {
    "duration": 28,
    "start_time": "2022-01-24T12:12:51.982Z"
   },
   {
    "duration": 304,
    "start_time": "2022-01-24T12:12:52.012Z"
   },
   {
    "duration": 15,
    "start_time": "2022-01-24T12:12:52.318Z"
   },
   {
    "duration": 194,
    "start_time": "2022-01-24T12:12:52.336Z"
   },
   {
    "duration": 7,
    "start_time": "2022-01-24T12:12:52.532Z"
   },
   {
    "duration": 217,
    "start_time": "2022-01-24T12:12:52.541Z"
   },
   {
    "duration": 6,
    "start_time": "2022-01-24T12:12:52.760Z"
   },
   {
    "duration": 87,
    "start_time": "2022-01-24T12:12:52.768Z"
   },
   {
    "duration": 6,
    "start_time": "2022-01-24T12:12:52.857Z"
   },
   {
    "duration": 78,
    "start_time": "2022-01-24T12:12:52.865Z"
   },
   {
    "duration": 43,
    "start_time": "2022-01-24T12:12:52.945Z"
   },
   {
    "duration": 41,
    "start_time": "2022-01-24T12:12:52.990Z"
   },
   {
    "duration": 36,
    "start_time": "2022-01-24T12:12:53.033Z"
   },
   {
    "duration": 59,
    "start_time": "2022-01-24T12:12:53.071Z"
   },
   {
    "duration": 8,
    "start_time": "2022-01-24T12:12:53.132Z"
   },
   {
    "duration": 28,
    "start_time": "2022-01-24T12:12:53.142Z"
   },
   {
    "duration": 43,
    "start_time": "2022-01-24T12:12:53.172Z"
   },
   {
    "duration": 28,
    "start_time": "2022-01-24T12:12:53.217Z"
   },
   {
    "duration": 27,
    "start_time": "2022-01-24T12:12:53.249Z"
   },
   {
    "duration": 19,
    "start_time": "2022-01-24T12:12:53.279Z"
   },
   {
    "duration": 33,
    "start_time": "2022-01-24T12:12:53.300Z"
   },
   {
    "duration": 247,
    "start_time": "2022-01-24T12:12:53.335Z"
   },
   {
    "duration": 24,
    "start_time": "2022-01-24T12:12:53.583Z"
   },
   {
    "duration": 26,
    "start_time": "2022-01-24T12:12:53.609Z"
   },
   {
    "duration": 321,
    "start_time": "2022-01-24T12:12:53.637Z"
   },
   {
    "duration": 286,
    "start_time": "2022-01-24T12:12:53.960Z"
   },
   {
    "duration": 376,
    "start_time": "2022-01-24T12:12:54.249Z"
   },
   {
    "duration": 22,
    "start_time": "2022-01-24T12:12:54.627Z"
   },
   {
    "duration": 296,
    "start_time": "2022-01-24T12:12:54.651Z"
   },
   {
    "duration": 285,
    "start_time": "2022-01-24T12:12:54.948Z"
   },
   {
    "duration": 294,
    "start_time": "2022-01-24T12:12:55.235Z"
   },
   {
    "duration": 411,
    "start_time": "2022-01-24T12:12:55.531Z"
   },
   {
    "duration": 350,
    "start_time": "2022-01-24T12:12:55.944Z"
   },
   {
    "duration": 349,
    "start_time": "2022-01-24T12:12:56.296Z"
   },
   {
    "duration": 5,
    "start_time": "2022-01-24T12:12:56.647Z"
   },
   {
    "duration": 9,
    "start_time": "2022-01-24T12:12:56.654Z"
   },
   {
    "duration": 17,
    "start_time": "2022-01-24T12:12:56.665Z"
   },
   {
    "duration": 23,
    "start_time": "2022-01-24T12:12:56.684Z"
   },
   {
    "duration": 4,
    "start_time": "2022-01-24T12:12:56.709Z"
   },
   {
    "duration": 9,
    "start_time": "2022-01-24T12:12:56.715Z"
   },
   {
    "duration": 15,
    "start_time": "2022-01-24T12:12:56.725Z"
   },
   {
    "duration": 8,
    "start_time": "2022-01-24T12:12:56.741Z"
   },
   {
    "duration": 272,
    "start_time": "2022-01-24T12:12:56.751Z"
   },
   {
    "duration": 260,
    "start_time": "2022-01-24T12:12:57.025Z"
   },
   {
    "duration": 252,
    "start_time": "2022-01-24T12:12:57.287Z"
   },
   {
    "duration": 260,
    "start_time": "2022-01-24T12:12:57.540Z"
   },
   {
    "duration": 270,
    "start_time": "2022-01-24T12:12:57.802Z"
   },
   {
    "duration": 268,
    "start_time": "2022-01-24T12:12:58.074Z"
   },
   {
    "duration": 9,
    "start_time": "2022-01-24T12:12:58.344Z"
   },
   {
    "duration": 9,
    "start_time": "2022-01-24T12:12:58.356Z"
   },
   {
    "duration": 8,
    "start_time": "2022-01-24T12:12:58.367Z"
   },
   {
    "duration": 34,
    "start_time": "2022-01-24T12:12:58.377Z"
   },
   {
    "duration": 5,
    "start_time": "2022-01-24T12:12:58.413Z"
   },
   {
    "duration": 8,
    "start_time": "2022-01-24T12:12:58.420Z"
   },
   {
    "duration": 514,
    "start_time": "2022-01-24T12:13:12.118Z"
   },
   {
    "duration": 357,
    "start_time": "2022-01-24T12:13:27.717Z"
   },
   {
    "duration": 381,
    "start_time": "2022-01-24T12:13:49.711Z"
   },
   {
    "duration": 321,
    "start_time": "2022-01-24T12:13:54.326Z"
   },
   {
    "duration": 368,
    "start_time": "2022-01-24T12:14:20.663Z"
   },
   {
    "duration": 279,
    "start_time": "2022-01-24T12:14:28.206Z"
   },
   {
    "duration": 190,
    "start_time": "2022-01-24T12:14:37.837Z"
   },
   {
    "duration": 20,
    "start_time": "2022-01-24T12:14:56.943Z"
   },
   {
    "duration": 231,
    "start_time": "2022-01-24T12:15:02.777Z"
   },
   {
    "duration": 5,
    "start_time": "2022-01-24T12:17:18.564Z"
   },
   {
    "duration": 298,
    "start_time": "2022-01-24T17:57:29.384Z"
   },
   {
    "duration": 1171,
    "start_time": "2022-01-24T17:57:41.447Z"
   },
   {
    "duration": 335,
    "start_time": "2022-01-24T17:57:42.621Z"
   },
   {
    "duration": 21,
    "start_time": "2022-01-24T17:57:42.959Z"
   },
   {
    "duration": 292,
    "start_time": "2022-01-24T17:57:42.982Z"
   },
   {
    "duration": 22,
    "start_time": "2022-01-24T17:57:43.276Z"
   },
   {
    "duration": 258,
    "start_time": "2022-01-24T17:57:43.301Z"
   },
   {
    "duration": 13,
    "start_time": "2022-01-24T17:57:43.561Z"
   },
   {
    "duration": 189,
    "start_time": "2022-01-24T17:57:43.577Z"
   },
   {
    "duration": 5,
    "start_time": "2022-01-24T17:57:43.768Z"
   },
   {
    "duration": 232,
    "start_time": "2022-01-24T17:57:43.775Z"
   },
   {
    "duration": 8,
    "start_time": "2022-01-24T17:57:44.009Z"
   },
   {
    "duration": 79,
    "start_time": "2022-01-24T17:57:44.019Z"
   },
   {
    "duration": 6,
    "start_time": "2022-01-24T17:57:44.101Z"
   },
   {
    "duration": 52,
    "start_time": "2022-01-24T17:57:44.109Z"
   },
   {
    "duration": 62,
    "start_time": "2022-01-24T17:57:44.163Z"
   },
   {
    "duration": 25,
    "start_time": "2022-01-24T17:57:44.227Z"
   },
   {
    "duration": 48,
    "start_time": "2022-01-24T17:57:44.254Z"
   },
   {
    "duration": 36,
    "start_time": "2022-01-24T17:57:44.304Z"
   },
   {
    "duration": 6,
    "start_time": "2022-01-24T17:57:44.342Z"
   },
   {
    "duration": 362,
    "start_time": "2022-01-24T17:57:44.349Z"
   },
   {
    "duration": -48,
    "start_time": "2022-01-24T17:57:44.763Z"
   },
   {
    "duration": -57,
    "start_time": "2022-01-24T17:57:44.773Z"
   },
   {
    "duration": -61,
    "start_time": "2022-01-24T17:57:44.778Z"
   },
   {
    "duration": -66,
    "start_time": "2022-01-24T17:57:44.784Z"
   },
   {
    "duration": -71,
    "start_time": "2022-01-24T17:57:44.790Z"
   },
   {
    "duration": -84,
    "start_time": "2022-01-24T17:57:44.805Z"
   },
   {
    "duration": -89,
    "start_time": "2022-01-24T17:57:44.811Z"
   },
   {
    "duration": -92,
    "start_time": "2022-01-24T17:57:44.816Z"
   },
   {
    "duration": -99,
    "start_time": "2022-01-24T17:57:44.824Z"
   },
   {
    "duration": -106,
    "start_time": "2022-01-24T17:57:44.832Z"
   },
   {
    "duration": -112,
    "start_time": "2022-01-24T17:57:44.840Z"
   },
   {
    "duration": -116,
    "start_time": "2022-01-24T17:57:44.845Z"
   },
   {
    "duration": -124,
    "start_time": "2022-01-24T17:57:44.855Z"
   },
   {
    "duration": -126,
    "start_time": "2022-01-24T17:57:44.859Z"
   },
   {
    "duration": -132,
    "start_time": "2022-01-24T17:57:44.866Z"
   },
   {
    "duration": -137,
    "start_time": "2022-01-24T17:57:44.873Z"
   },
   {
    "duration": -142,
    "start_time": "2022-01-24T17:57:44.879Z"
   },
   {
    "duration": -147,
    "start_time": "2022-01-24T17:57:44.885Z"
   },
   {
    "duration": -153,
    "start_time": "2022-01-24T17:57:44.893Z"
   },
   {
    "duration": -179,
    "start_time": "2022-01-24T17:57:44.920Z"
   },
   {
    "duration": -185,
    "start_time": "2022-01-24T17:57:44.927Z"
   },
   {
    "duration": -192,
    "start_time": "2022-01-24T17:57:44.935Z"
   },
   {
    "duration": -199,
    "start_time": "2022-01-24T17:57:44.943Z"
   },
   {
    "duration": -206,
    "start_time": "2022-01-24T17:57:44.951Z"
   },
   {
    "duration": -211,
    "start_time": "2022-01-24T17:57:44.958Z"
   },
   {
    "duration": -214,
    "start_time": "2022-01-24T17:57:44.962Z"
   },
   {
    "duration": -224,
    "start_time": "2022-01-24T17:57:44.973Z"
   },
   {
    "duration": -229,
    "start_time": "2022-01-24T17:57:44.979Z"
   },
   {
    "duration": -240,
    "start_time": "2022-01-24T17:57:44.991Z"
   },
   {
    "duration": -253,
    "start_time": "2022-01-24T17:57:45.006Z"
   },
   {
    "duration": -257,
    "start_time": "2022-01-24T17:57:45.011Z"
   },
   {
    "duration": -262,
    "start_time": "2022-01-24T17:57:45.017Z"
   },
   {
    "duration": -228,
    "start_time": "2022-01-24T17:57:45.026Z"
   },
   {
    "duration": -232,
    "start_time": "2022-01-24T17:57:45.033Z"
   },
   {
    "duration": -239,
    "start_time": "2022-01-24T17:57:45.041Z"
   },
   {
    "duration": -243,
    "start_time": "2022-01-24T17:57:45.046Z"
   },
   {
    "duration": -250,
    "start_time": "2022-01-24T17:57:45.055Z"
   },
   {
    "duration": -254,
    "start_time": "2022-01-24T17:57:45.060Z"
   },
   {
    "duration": -260,
    "start_time": "2022-01-24T17:57:45.068Z"
   },
   {
    "duration": 10,
    "start_time": "2022-01-24T17:58:09.033Z"
   },
   {
    "duration": 9,
    "start_time": "2022-01-24T17:58:55.265Z"
   },
   {
    "duration": 8,
    "start_time": "2022-01-24T17:59:33.273Z"
   },
   {
    "duration": 13,
    "start_time": "2022-01-24T18:00:18.027Z"
   },
   {
    "duration": 12,
    "start_time": "2022-01-24T18:00:51.300Z"
   },
   {
    "duration": 10,
    "start_time": "2022-01-24T18:01:02.831Z"
   },
   {
    "duration": 14,
    "start_time": "2022-01-24T18:01:16.418Z"
   },
   {
    "duration": 13,
    "start_time": "2022-01-24T18:01:58.369Z"
   },
   {
    "duration": 9,
    "start_time": "2022-01-24T18:02:41.498Z"
   },
   {
    "duration": 7,
    "start_time": "2022-01-24T18:03:15.074Z"
   },
   {
    "duration": 15,
    "start_time": "2022-01-24T18:04:02.957Z"
   },
   {
    "duration": 9,
    "start_time": "2022-01-24T18:04:15.746Z"
   },
   {
    "duration": 10,
    "start_time": "2022-01-24T18:04:57.796Z"
   },
   {
    "duration": 13,
    "start_time": "2022-01-24T18:05:33.041Z"
   },
   {
    "duration": 9,
    "start_time": "2022-01-24T18:05:42.572Z"
   },
   {
    "duration": 8,
    "start_time": "2022-01-24T18:05:58.426Z"
   },
   {
    "duration": 11,
    "start_time": "2022-01-24T18:06:12.706Z"
   },
   {
    "duration": 13,
    "start_time": "2022-01-24T18:06:15.891Z"
   },
   {
    "duration": 6710,
    "start_time": "2022-01-24T18:26:32.879Z"
   },
   {
    "duration": 1258,
    "start_time": "2022-01-24T18:26:51.186Z"
   },
   {
    "duration": 374,
    "start_time": "2022-01-24T18:26:52.445Z"
   },
   {
    "duration": 25,
    "start_time": "2022-01-24T18:26:52.821Z"
   },
   {
    "duration": 312,
    "start_time": "2022-01-24T18:26:52.848Z"
   },
   {
    "duration": 18,
    "start_time": "2022-01-24T18:26:53.162Z"
   },
   {
    "duration": 269,
    "start_time": "2022-01-24T18:26:53.181Z"
   },
   {
    "duration": 16,
    "start_time": "2022-01-24T18:26:53.452Z"
   },
   {
    "duration": 197,
    "start_time": "2022-01-24T18:26:53.471Z"
   },
   {
    "duration": 6,
    "start_time": "2022-01-24T18:26:53.671Z"
   },
   {
    "duration": 217,
    "start_time": "2022-01-24T18:26:53.679Z"
   },
   {
    "duration": 10,
    "start_time": "2022-01-24T18:26:53.898Z"
   },
   {
    "duration": 95,
    "start_time": "2022-01-24T18:26:53.910Z"
   },
   {
    "duration": 7,
    "start_time": "2022-01-24T18:26:54.007Z"
   },
   {
    "duration": 68,
    "start_time": "2022-01-24T18:26:54.016Z"
   },
   {
    "duration": 52,
    "start_time": "2022-01-24T18:26:54.085Z"
   },
   {
    "duration": 25,
    "start_time": "2022-01-24T18:26:54.139Z"
   },
   {
    "duration": 56,
    "start_time": "2022-01-24T18:26:54.166Z"
   },
   {
    "duration": 36,
    "start_time": "2022-01-24T18:26:54.224Z"
   },
   {
    "duration": 5,
    "start_time": "2022-01-24T18:26:54.262Z"
   },
   {
    "duration": 10,
    "start_time": "2022-01-24T18:26:54.269Z"
   },
   {
    "duration": 30,
    "start_time": "2022-01-24T18:26:54.281Z"
   },
   {
    "duration": 12,
    "start_time": "2022-01-24T18:26:54.314Z"
   },
   {
    "duration": 14,
    "start_time": "2022-01-24T18:26:54.332Z"
   },
   {
    "duration": 10,
    "start_time": "2022-01-24T18:26:54.349Z"
   },
   {
    "duration": 40,
    "start_time": "2022-01-24T18:26:54.361Z"
   },
   {
    "duration": 11,
    "start_time": "2022-01-24T18:26:54.404Z"
   },
   {
    "duration": 14,
    "start_time": "2022-01-24T18:26:54.418Z"
   },
   {
    "duration": 9,
    "start_time": "2022-01-24T18:26:54.434Z"
   },
   {
    "duration": 8,
    "start_time": "2022-01-24T18:26:54.445Z"
   },
   {
    "duration": 8,
    "start_time": "2022-01-24T18:26:54.454Z"
   },
   {
    "duration": 40,
    "start_time": "2022-01-24T18:26:54.463Z"
   },
   {
    "duration": 20,
    "start_time": "2022-01-24T18:26:54.505Z"
   },
   {
    "duration": 24,
    "start_time": "2022-01-24T18:26:54.526Z"
   },
   {
    "duration": 7103,
    "start_time": "2022-01-24T18:26:54.551Z"
   },
   {
    "duration": -33,
    "start_time": "2022-01-24T18:27:01.689Z"
   },
   {
    "duration": -46,
    "start_time": "2022-01-24T18:27:01.703Z"
   },
   {
    "duration": -52,
    "start_time": "2022-01-24T18:27:01.711Z"
   },
   {
    "duration": -60,
    "start_time": "2022-01-24T18:27:01.720Z"
   },
   {
    "duration": -65,
    "start_time": "2022-01-24T18:27:01.728Z"
   },
   {
    "duration": -74,
    "start_time": "2022-01-24T18:27:01.738Z"
   },
   {
    "duration": -84,
    "start_time": "2022-01-24T18:27:01.749Z"
   },
   {
    "duration": -90,
    "start_time": "2022-01-24T18:27:01.756Z"
   },
   {
    "duration": -100,
    "start_time": "2022-01-24T18:27:01.767Z"
   },
   {
    "duration": -106,
    "start_time": "2022-01-24T18:27:01.775Z"
   },
   {
    "duration": -114,
    "start_time": "2022-01-24T18:27:01.784Z"
   },
   {
    "duration": -121,
    "start_time": "2022-01-24T18:27:01.792Z"
   },
   {
    "duration": -149,
    "start_time": "2022-01-24T18:27:01.821Z"
   },
   {
    "duration": -155,
    "start_time": "2022-01-24T18:27:01.828Z"
   },
   {
    "duration": -162,
    "start_time": "2022-01-24T18:27:01.836Z"
   },
   {
    "duration": -169,
    "start_time": "2022-01-24T18:27:01.845Z"
   },
   {
    "duration": -177,
    "start_time": "2022-01-24T18:27:01.854Z"
   },
   {
    "duration": -183,
    "start_time": "2022-01-24T18:27:01.861Z"
   },
   {
    "duration": -191,
    "start_time": "2022-01-24T18:27:01.870Z"
   },
   {
    "duration": -197,
    "start_time": "2022-01-24T18:27:01.877Z"
   },
   {
    "duration": -205,
    "start_time": "2022-01-24T18:27:01.886Z"
   },
   {
    "duration": -212,
    "start_time": "2022-01-24T18:27:01.894Z"
   },
   {
    "duration": -220,
    "start_time": "2022-01-24T18:27:01.902Z"
   },
   {
    "duration": -227,
    "start_time": "2022-01-24T18:27:01.910Z"
   },
   {
    "duration": -237,
    "start_time": "2022-01-24T18:27:01.921Z"
   },
   {
    "duration": -246,
    "start_time": "2022-01-24T18:27:01.931Z"
   },
   {
    "duration": -251,
    "start_time": "2022-01-24T18:27:01.937Z"
   },
   {
    "duration": -256,
    "start_time": "2022-01-24T18:27:01.943Z"
   },
   {
    "duration": -263,
    "start_time": "2022-01-24T18:27:01.951Z"
   },
   {
    "duration": -269,
    "start_time": "2022-01-24T18:27:01.958Z"
   },
   {
    "duration": -279,
    "start_time": "2022-01-24T18:27:01.969Z"
   },
   {
    "duration": -285,
    "start_time": "2022-01-24T18:27:01.976Z"
   },
   {
    "duration": -294,
    "start_time": "2022-01-24T18:27:01.986Z"
   },
   {
    "duration": 6478,
    "start_time": "2022-01-24T18:39:50.649Z"
   },
   {
    "duration": 4,
    "start_time": "2022-01-24T18:41:09.595Z"
   },
   {
    "duration": 1194,
    "start_time": "2022-01-24T18:41:37.492Z"
   },
   {
    "duration": 345,
    "start_time": "2022-01-24T18:41:38.688Z"
   },
   {
    "duration": 21,
    "start_time": "2022-01-24T18:41:39.035Z"
   },
   {
    "duration": 310,
    "start_time": "2022-01-24T18:41:39.058Z"
   },
   {
    "duration": 17,
    "start_time": "2022-01-24T18:41:39.369Z"
   },
   {
    "duration": 263,
    "start_time": "2022-01-24T18:41:39.388Z"
   },
   {
    "duration": 14,
    "start_time": "2022-01-24T18:41:39.653Z"
   },
   {
    "duration": 197,
    "start_time": "2022-01-24T18:41:39.669Z"
   },
   {
    "duration": 5,
    "start_time": "2022-01-24T18:41:39.868Z"
   },
   {
    "duration": 223,
    "start_time": "2022-01-24T18:41:39.875Z"
   },
   {
    "duration": 7,
    "start_time": "2022-01-24T18:41:40.100Z"
   },
   {
    "duration": 81,
    "start_time": "2022-01-24T18:41:40.108Z"
   },
   {
    "duration": 10,
    "start_time": "2022-01-24T18:41:40.191Z"
   },
   {
    "duration": 4,
    "start_time": "2022-01-24T18:41:40.203Z"
   },
   {
    "duration": 60,
    "start_time": "2022-01-24T18:41:40.210Z"
   },
   {
    "duration": 57,
    "start_time": "2022-01-24T18:41:40.272Z"
   },
   {
    "duration": 27,
    "start_time": "2022-01-24T18:41:40.331Z"
   },
   {
    "duration": 49,
    "start_time": "2022-01-24T18:41:40.359Z"
   },
   {
    "duration": 36,
    "start_time": "2022-01-24T18:41:40.411Z"
   },
   {
    "duration": 7,
    "start_time": "2022-01-24T18:41:40.449Z"
   },
   {
    "duration": 11,
    "start_time": "2022-01-24T18:41:40.457Z"
   },
   {
    "duration": 39,
    "start_time": "2022-01-24T18:41:40.469Z"
   },
   {
    "duration": 8,
    "start_time": "2022-01-24T18:41:40.513Z"
   },
   {
    "duration": 14,
    "start_time": "2022-01-24T18:41:40.524Z"
   },
   {
    "duration": 15,
    "start_time": "2022-01-24T18:41:40.539Z"
   },
   {
    "duration": 21,
    "start_time": "2022-01-24T18:41:40.555Z"
   },
   {
    "duration": 26,
    "start_time": "2022-01-24T18:41:40.578Z"
   },
   {
    "duration": 29,
    "start_time": "2022-01-24T18:41:40.606Z"
   },
   {
    "duration": 22,
    "start_time": "2022-01-24T18:41:40.637Z"
   },
   {
    "duration": 13,
    "start_time": "2022-01-24T18:41:40.660Z"
   },
   {
    "duration": 19,
    "start_time": "2022-01-24T18:41:40.675Z"
   },
   {
    "duration": 31,
    "start_time": "2022-01-24T18:41:40.696Z"
   },
   {
    "duration": 14,
    "start_time": "2022-01-24T18:41:40.729Z"
   },
   {
    "duration": 29,
    "start_time": "2022-01-24T18:41:40.744Z"
   },
   {
    "duration": 238,
    "start_time": "2022-01-24T18:41:40.775Z"
   },
   {
    "duration": 14,
    "start_time": "2022-01-24T18:41:41.016Z"
   },
   {
    "duration": 20,
    "start_time": "2022-01-24T18:41:41.031Z"
   },
   {
    "duration": 321,
    "start_time": "2022-01-24T18:41:41.053Z"
   },
   {
    "duration": 322,
    "start_time": "2022-01-24T18:41:41.376Z"
   },
   {
    "duration": 290,
    "start_time": "2022-01-24T18:41:41.701Z"
   },
   {
    "duration": 22,
    "start_time": "2022-01-24T18:41:41.998Z"
   },
   {
    "duration": 283,
    "start_time": "2022-01-24T18:41:42.022Z"
   },
   {
    "duration": 315,
    "start_time": "2022-01-24T18:41:42.308Z"
   },
   {
    "duration": 337,
    "start_time": "2022-01-24T18:41:42.625Z"
   },
   {
    "duration": 454,
    "start_time": "2022-01-24T18:41:42.964Z"
   },
   {
    "duration": 380,
    "start_time": "2022-01-24T18:41:43.420Z"
   },
   {
    "duration": 369,
    "start_time": "2022-01-24T18:41:43.803Z"
   },
   {
    "duration": 4,
    "start_time": "2022-01-24T18:41:44.174Z"
   },
   {
    "duration": 21,
    "start_time": "2022-01-24T18:41:44.180Z"
   },
   {
    "duration": 38,
    "start_time": "2022-01-24T18:41:44.204Z"
   },
   {
    "duration": 28,
    "start_time": "2022-01-24T18:41:44.244Z"
   },
   {
    "duration": 17,
    "start_time": "2022-01-24T18:41:44.274Z"
   },
   {
    "duration": 18,
    "start_time": "2022-01-24T18:41:44.293Z"
   },
   {
    "duration": 22,
    "start_time": "2022-01-24T18:41:44.313Z"
   },
   {
    "duration": 28,
    "start_time": "2022-01-24T18:41:44.338Z"
   },
   {
    "duration": 281,
    "start_time": "2022-01-24T18:41:44.367Z"
   },
   {
    "duration": 300,
    "start_time": "2022-01-24T18:41:44.650Z"
   },
   {
    "duration": 316,
    "start_time": "2022-01-24T18:41:44.951Z"
   },
   {
    "duration": 292,
    "start_time": "2022-01-24T18:41:45.269Z"
   },
   {
    "duration": 298,
    "start_time": "2022-01-24T18:41:45.563Z"
   },
   {
    "duration": 275,
    "start_time": "2022-01-24T18:41:45.863Z"
   },
   {
    "duration": 7,
    "start_time": "2022-01-24T18:41:46.140Z"
   },
   {
    "duration": 3,
    "start_time": "2022-01-24T18:41:46.149Z"
   },
   {
    "duration": 6,
    "start_time": "2022-01-24T18:41:46.154Z"
   },
   {
    "duration": 8,
    "start_time": "2022-01-24T18:41:46.161Z"
   },
   {
    "duration": 27,
    "start_time": "2022-01-24T18:41:46.171Z"
   },
   {
    "duration": 6,
    "start_time": "2022-01-24T18:41:46.200Z"
   },
   {
    "duration": 9,
    "start_time": "2022-01-24T18:43:21.897Z"
   },
   {
    "duration": 1219,
    "start_time": "2022-01-24T18:43:29.591Z"
   },
   {
    "duration": 356,
    "start_time": "2022-01-24T18:43:30.812Z"
   },
   {
    "duration": 34,
    "start_time": "2022-01-24T18:43:31.170Z"
   },
   {
    "duration": 331,
    "start_time": "2022-01-24T18:43:31.206Z"
   },
   {
    "duration": 18,
    "start_time": "2022-01-24T18:43:31.538Z"
   },
   {
    "duration": 249,
    "start_time": "2022-01-24T18:43:31.558Z"
   },
   {
    "duration": 19,
    "start_time": "2022-01-24T18:43:31.810Z"
   },
   {
    "duration": 182,
    "start_time": "2022-01-24T18:43:31.831Z"
   },
   {
    "duration": 8,
    "start_time": "2022-01-24T18:43:32.016Z"
   },
   {
    "duration": 211,
    "start_time": "2022-01-24T18:43:32.027Z"
   },
   {
    "duration": 7,
    "start_time": "2022-01-24T18:43:32.240Z"
   },
   {
    "duration": 80,
    "start_time": "2022-01-24T18:43:32.249Z"
   },
   {
    "duration": 7,
    "start_time": "2022-01-24T18:43:32.331Z"
   },
   {
    "duration": 72,
    "start_time": "2022-01-24T18:43:32.339Z"
   },
   {
    "duration": 47,
    "start_time": "2022-01-24T18:43:32.413Z"
   },
   {
    "duration": 37,
    "start_time": "2022-01-24T18:43:32.462Z"
   },
   {
    "duration": 47,
    "start_time": "2022-01-24T18:43:32.501Z"
   },
   {
    "duration": 33,
    "start_time": "2022-01-24T18:43:32.550Z"
   },
   {
    "duration": 19,
    "start_time": "2022-01-24T18:43:32.599Z"
   },
   {
    "duration": 13,
    "start_time": "2022-01-24T18:43:32.620Z"
   },
   {
    "duration": 8,
    "start_time": "2022-01-24T18:43:32.635Z"
   },
   {
    "duration": 7,
    "start_time": "2022-01-24T18:43:32.645Z"
   },
   {
    "duration": 11,
    "start_time": "2022-01-24T18:43:32.656Z"
   },
   {
    "duration": 39,
    "start_time": "2022-01-24T18:43:32.669Z"
   },
   {
    "duration": 9,
    "start_time": "2022-01-24T18:43:32.710Z"
   },
   {
    "duration": 14,
    "start_time": "2022-01-24T18:43:32.721Z"
   },
   {
    "duration": 12,
    "start_time": "2022-01-24T18:43:32.737Z"
   },
   {
    "duration": 7,
    "start_time": "2022-01-24T18:43:32.751Z"
   },
   {
    "duration": 43,
    "start_time": "2022-01-24T18:43:32.759Z"
   },
   {
    "duration": 11,
    "start_time": "2022-01-24T18:43:32.804Z"
   },
   {
    "duration": 11,
    "start_time": "2022-01-24T18:43:32.817Z"
   },
   {
    "duration": 10,
    "start_time": "2022-01-24T18:43:32.830Z"
   },
   {
    "duration": 17,
    "start_time": "2022-01-24T18:43:32.842Z"
   },
   {
    "duration": 269,
    "start_time": "2022-01-24T18:43:32.861Z"
   },
   {
    "duration": 11,
    "start_time": "2022-01-24T18:43:33.133Z"
   },
   {
    "duration": 16,
    "start_time": "2022-01-24T18:43:33.145Z"
   },
   {
    "duration": 311,
    "start_time": "2022-01-24T18:43:33.163Z"
   },
   {
    "duration": 286,
    "start_time": "2022-01-24T18:43:33.476Z"
   },
   {
    "duration": 281,
    "start_time": "2022-01-24T18:43:33.764Z"
   },
   {
    "duration": 17,
    "start_time": "2022-01-24T18:43:34.047Z"
   },
   {
    "duration": 315,
    "start_time": "2022-01-24T18:43:34.065Z"
   },
   {
    "duration": 293,
    "start_time": "2022-01-24T18:43:34.382Z"
   },
   {
    "duration": 328,
    "start_time": "2022-01-24T18:43:34.676Z"
   },
   {
    "duration": 421,
    "start_time": "2022-01-24T18:43:35.007Z"
   },
   {
    "duration": 357,
    "start_time": "2022-01-24T18:43:35.430Z"
   },
   {
    "duration": 363,
    "start_time": "2022-01-24T18:43:35.789Z"
   },
   {
    "duration": 4,
    "start_time": "2022-01-24T18:43:36.153Z"
   },
   {
    "duration": 36,
    "start_time": "2022-01-24T18:43:36.159Z"
   },
   {
    "duration": 43,
    "start_time": "2022-01-24T18:43:36.196Z"
   },
   {
    "duration": 36,
    "start_time": "2022-01-24T18:43:36.242Z"
   },
   {
    "duration": 32,
    "start_time": "2022-01-24T18:43:36.280Z"
   },
   {
    "duration": 20,
    "start_time": "2022-01-24T18:43:36.314Z"
   },
   {
    "duration": 24,
    "start_time": "2022-01-24T18:43:36.336Z"
   },
   {
    "duration": 7,
    "start_time": "2022-01-24T18:43:36.362Z"
   },
   {
    "duration": 278,
    "start_time": "2022-01-24T18:43:36.370Z"
   },
   {
    "duration": 294,
    "start_time": "2022-01-24T18:43:36.650Z"
   },
   {
    "duration": 289,
    "start_time": "2022-01-24T18:43:36.946Z"
   },
   {
    "duration": 282,
    "start_time": "2022-01-24T18:43:37.237Z"
   },
   {
    "duration": 292,
    "start_time": "2022-01-24T18:43:37.521Z"
   },
   {
    "duration": 279,
    "start_time": "2022-01-24T18:43:37.815Z"
   },
   {
    "duration": 10,
    "start_time": "2022-01-24T18:43:38.096Z"
   },
   {
    "duration": 20,
    "start_time": "2022-01-24T18:43:38.108Z"
   },
   {
    "duration": 6,
    "start_time": "2022-01-24T18:43:38.130Z"
   },
   {
    "duration": 8,
    "start_time": "2022-01-24T18:43:38.138Z"
   },
   {
    "duration": 6,
    "start_time": "2022-01-24T18:43:38.147Z"
   },
   {
    "duration": 9,
    "start_time": "2022-01-24T18:43:38.155Z"
   },
   {
    "duration": 1146,
    "start_time": "2022-01-30T18:27:28.364Z"
   },
   {
    "duration": 292,
    "start_time": "2022-01-30T18:27:29.511Z"
   },
   {
    "duration": 22,
    "start_time": "2022-01-30T18:27:29.805Z"
   },
   {
    "duration": 295,
    "start_time": "2022-01-30T18:27:29.829Z"
   },
   {
    "duration": 19,
    "start_time": "2022-01-30T18:27:30.126Z"
   },
   {
    "duration": 233,
    "start_time": "2022-01-30T18:27:30.159Z"
   },
   {
    "duration": 17,
    "start_time": "2022-01-30T18:27:30.394Z"
   },
   {
    "duration": 144,
    "start_time": "2022-01-30T18:27:30.413Z"
   },
   {
    "duration": 7,
    "start_time": "2022-01-30T18:27:30.559Z"
   },
   {
    "duration": 166,
    "start_time": "2022-01-30T18:27:30.567Z"
   },
   {
    "duration": 7,
    "start_time": "2022-01-30T18:27:30.735Z"
   },
   {
    "duration": 78,
    "start_time": "2022-01-30T18:27:30.744Z"
   },
   {
    "duration": 8,
    "start_time": "2022-01-30T18:27:30.824Z"
   },
   {
    "duration": 70,
    "start_time": "2022-01-30T18:27:30.834Z"
   },
   {
    "duration": 59,
    "start_time": "2022-01-30T18:27:30.906Z"
   },
   {
    "duration": 30,
    "start_time": "2022-01-30T18:27:30.968Z"
   },
   {
    "duration": 63,
    "start_time": "2022-01-30T18:27:31.001Z"
   },
   {
    "duration": 36,
    "start_time": "2022-01-30T18:27:31.067Z"
   },
   {
    "duration": 7,
    "start_time": "2022-01-30T18:27:31.105Z"
   },
   {
    "duration": 30,
    "start_time": "2022-01-30T18:27:31.114Z"
   },
   {
    "duration": 25,
    "start_time": "2022-01-30T18:27:31.146Z"
   },
   {
    "duration": 9,
    "start_time": "2022-01-30T18:27:31.173Z"
   },
   {
    "duration": 16,
    "start_time": "2022-01-30T18:27:31.187Z"
   },
   {
    "duration": 16,
    "start_time": "2022-01-30T18:27:31.206Z"
   },
   {
    "duration": 40,
    "start_time": "2022-01-30T18:27:31.224Z"
   },
   {
    "duration": 9,
    "start_time": "2022-01-30T18:27:31.266Z"
   },
   {
    "duration": 21,
    "start_time": "2022-01-30T18:27:31.277Z"
   },
   {
    "duration": 17,
    "start_time": "2022-01-30T18:27:31.300Z"
   },
   {
    "duration": 8,
    "start_time": "2022-01-30T18:27:31.319Z"
   },
   {
    "duration": 31,
    "start_time": "2022-01-30T18:27:31.329Z"
   },
   {
    "duration": 8,
    "start_time": "2022-01-30T18:27:31.362Z"
   },
   {
    "duration": 9,
    "start_time": "2022-01-30T18:27:31.372Z"
   },
   {
    "duration": 19,
    "start_time": "2022-01-30T18:27:31.382Z"
   },
   {
    "duration": 250,
    "start_time": "2022-01-30T18:27:31.403Z"
   },
   {
    "duration": 14,
    "start_time": "2022-01-30T18:27:31.655Z"
   },
   {
    "duration": 19,
    "start_time": "2022-01-30T18:27:31.671Z"
   },
   {
    "duration": 303,
    "start_time": "2022-01-30T18:27:31.692Z"
   },
   {
    "duration": 275,
    "start_time": "2022-01-30T18:27:31.997Z"
   },
   {
    "duration": 270,
    "start_time": "2022-01-30T18:27:32.274Z"
   },
   {
    "duration": 21,
    "start_time": "2022-01-30T18:27:32.546Z"
   },
   {
    "duration": 270,
    "start_time": "2022-01-30T18:27:32.568Z"
   },
   {
    "duration": 274,
    "start_time": "2022-01-30T18:27:32.840Z"
   },
   {
    "duration": 283,
    "start_time": "2022-01-30T18:27:33.115Z"
   },
   {
    "duration": 410,
    "start_time": "2022-01-30T18:27:33.400Z"
   },
   {
    "duration": 326,
    "start_time": "2022-01-30T18:27:33.812Z"
   },
   {
    "duration": 321,
    "start_time": "2022-01-30T18:27:34.140Z"
   },
   {
    "duration": 4,
    "start_time": "2022-01-30T18:27:34.463Z"
   },
   {
    "duration": 6,
    "start_time": "2022-01-30T18:27:34.469Z"
   },
   {
    "duration": 7,
    "start_time": "2022-01-30T18:27:34.476Z"
   },
   {
    "duration": 5,
    "start_time": "2022-01-30T18:27:34.485Z"
   },
   {
    "duration": 7,
    "start_time": "2022-01-30T18:27:34.492Z"
   },
   {
    "duration": 5,
    "start_time": "2022-01-30T18:27:34.500Z"
   },
   {
    "duration": 6,
    "start_time": "2022-01-30T18:27:34.507Z"
   },
   {
    "duration": 6,
    "start_time": "2022-01-30T18:27:34.514Z"
   },
   {
    "duration": 281,
    "start_time": "2022-01-30T18:27:34.522Z"
   },
   {
    "duration": 278,
    "start_time": "2022-01-30T18:27:34.805Z"
   },
   {
    "duration": 284,
    "start_time": "2022-01-30T18:27:35.085Z"
   },
   {
    "duration": 279,
    "start_time": "2022-01-30T18:27:35.371Z"
   },
   {
    "duration": 279,
    "start_time": "2022-01-30T18:27:35.651Z"
   },
   {
    "duration": 265,
    "start_time": "2022-01-30T18:27:35.932Z"
   },
   {
    "duration": 7,
    "start_time": "2022-01-30T18:27:36.199Z"
   },
   {
    "duration": 8,
    "start_time": "2022-01-30T18:27:36.208Z"
   },
   {
    "duration": 7,
    "start_time": "2022-01-30T18:27:36.218Z"
   },
   {
    "duration": 11,
    "start_time": "2022-01-30T18:27:36.227Z"
   },
   {
    "duration": 21,
    "start_time": "2022-01-30T18:27:36.240Z"
   },
   {
    "duration": 7,
    "start_time": "2022-01-30T18:27:36.263Z"
   },
   {
    "duration": 6,
    "start_time": "2022-01-30T18:35:24.501Z"
   },
   {
    "duration": 5,
    "start_time": "2022-01-30T18:35:39.321Z"
   },
   {
    "duration": 5,
    "start_time": "2022-01-30T18:35:49.886Z"
   },
   {
    "duration": 1261,
    "start_time": "2022-01-30T18:36:00.759Z"
   },
   {
    "duration": 354,
    "start_time": "2022-01-30T18:36:02.022Z"
   },
   {
    "duration": 21,
    "start_time": "2022-01-30T18:36:02.378Z"
   },
   {
    "duration": 307,
    "start_time": "2022-01-30T18:36:02.401Z"
   },
   {
    "duration": 17,
    "start_time": "2022-01-30T18:36:02.710Z"
   },
   {
    "duration": 449,
    "start_time": "2022-01-30T18:36:02.728Z"
   },
   {
    "duration": 15,
    "start_time": "2022-01-30T18:36:03.178Z"
   },
   {
    "duration": 212,
    "start_time": "2022-01-30T18:36:03.196Z"
   },
   {
    "duration": 6,
    "start_time": "2022-01-30T18:36:03.410Z"
   },
   {
    "duration": 151,
    "start_time": "2022-01-30T18:36:03.418Z"
   },
   {
    "duration": 7,
    "start_time": "2022-01-30T18:36:03.571Z"
   },
   {
    "duration": 88,
    "start_time": "2022-01-30T18:36:03.579Z"
   },
   {
    "duration": 7,
    "start_time": "2022-01-30T18:36:03.669Z"
   },
   {
    "duration": 53,
    "start_time": "2022-01-30T18:36:03.678Z"
   },
   {
    "duration": 68,
    "start_time": "2022-01-30T18:36:03.733Z"
   },
   {
    "duration": 29,
    "start_time": "2022-01-30T18:36:03.803Z"
   },
   {
    "duration": 56,
    "start_time": "2022-01-30T18:36:03.834Z"
   },
   {
    "duration": 32,
    "start_time": "2022-01-30T18:36:03.892Z"
   },
   {
    "duration": 6,
    "start_time": "2022-01-30T18:36:03.926Z"
   },
   {
    "duration": 36,
    "start_time": "2022-01-30T18:36:03.933Z"
   },
   {
    "duration": 10,
    "start_time": "2022-01-30T18:36:03.971Z"
   },
   {
    "duration": 16,
    "start_time": "2022-01-30T18:36:03.982Z"
   },
   {
    "duration": 18,
    "start_time": "2022-01-30T18:36:04.002Z"
   },
   {
    "duration": 13,
    "start_time": "2022-01-30T18:36:04.023Z"
   },
   {
    "duration": 26,
    "start_time": "2022-01-30T18:36:04.038Z"
   },
   {
    "duration": 8,
    "start_time": "2022-01-30T18:36:04.066Z"
   },
   {
    "duration": 15,
    "start_time": "2022-01-30T18:36:04.075Z"
   },
   {
    "duration": 8,
    "start_time": "2022-01-30T18:36:04.091Z"
   },
   {
    "duration": 19,
    "start_time": "2022-01-30T18:36:04.101Z"
   },
   {
    "duration": 16,
    "start_time": "2022-01-30T18:36:04.122Z"
   },
   {
    "duration": 19,
    "start_time": "2022-01-30T18:36:04.140Z"
   },
   {
    "duration": 14,
    "start_time": "2022-01-30T18:36:04.161Z"
   },
   {
    "duration": 21,
    "start_time": "2022-01-30T18:36:04.176Z"
   },
   {
    "duration": 224,
    "start_time": "2022-01-30T18:36:04.199Z"
   },
   {
    "duration": 12,
    "start_time": "2022-01-30T18:36:04.426Z"
   },
   {
    "duration": 33,
    "start_time": "2022-01-30T18:36:04.439Z"
   },
   {
    "duration": 305,
    "start_time": "2022-01-30T18:36:04.474Z"
   },
   {
    "duration": 294,
    "start_time": "2022-01-30T18:36:04.781Z"
   },
   {
    "duration": 262,
    "start_time": "2022-01-30T18:36:05.076Z"
   },
   {
    "duration": 26,
    "start_time": "2022-01-30T18:36:05.340Z"
   },
   {
    "duration": 284,
    "start_time": "2022-01-30T18:36:05.368Z"
   },
   {
    "duration": 276,
    "start_time": "2022-01-30T18:36:05.654Z"
   },
   {
    "duration": 280,
    "start_time": "2022-01-30T18:36:05.931Z"
   },
   {
    "duration": 397,
    "start_time": "2022-01-30T18:36:06.213Z"
   },
   {
    "duration": 332,
    "start_time": "2022-01-30T18:36:06.612Z"
   },
   {
    "duration": 315,
    "start_time": "2022-01-30T18:36:06.946Z"
   },
   {
    "duration": 4,
    "start_time": "2022-01-30T18:36:07.263Z"
   },
   {
    "duration": 31,
    "start_time": "2022-01-30T18:36:07.269Z"
   },
   {
    "duration": 13,
    "start_time": "2022-01-30T18:36:07.302Z"
   },
   {
    "duration": 20,
    "start_time": "2022-01-30T18:36:07.317Z"
   },
   {
    "duration": 20,
    "start_time": "2022-01-30T18:36:07.339Z"
   },
   {
    "duration": 244,
    "start_time": "2022-01-30T18:36:07.361Z"
   },
   {
    "duration": 247,
    "start_time": "2022-01-30T18:36:07.607Z"
   },
   {
    "duration": 278,
    "start_time": "2022-01-30T18:36:07.855Z"
   },
   {
    "duration": 262,
    "start_time": "2022-01-30T18:36:08.135Z"
   },
   {
    "duration": 266,
    "start_time": "2022-01-30T18:36:08.399Z"
   },
   {
    "duration": 264,
    "start_time": "2022-01-30T18:36:08.666Z"
   },
   {
    "duration": 8,
    "start_time": "2022-01-30T18:36:08.932Z"
   },
   {
    "duration": 18,
    "start_time": "2022-01-30T18:36:08.941Z"
   },
   {
    "duration": 4,
    "start_time": "2022-01-30T18:36:08.961Z"
   },
   {
    "duration": 9,
    "start_time": "2022-01-30T18:36:08.967Z"
   },
   {
    "duration": 5,
    "start_time": "2022-01-30T18:36:08.977Z"
   },
   {
    "duration": 7,
    "start_time": "2022-01-30T18:36:08.984Z"
   },
   {
    "duration": 5,
    "start_time": "2022-01-30T19:06:11.955Z"
   },
   {
    "duration": 4,
    "start_time": "2022-01-30T19:10:43.415Z"
   },
   {
    "duration": 289,
    "start_time": "2022-01-31T14:17:40.035Z"
   },
   {
    "duration": 1232,
    "start_time": "2022-01-31T14:17:47.532Z"
   },
   {
    "duration": 494,
    "start_time": "2022-01-31T14:17:48.766Z"
   },
   {
    "duration": 25,
    "start_time": "2022-01-31T14:17:49.265Z"
   },
   {
    "duration": 308,
    "start_time": "2022-01-31T14:17:49.308Z"
   },
   {
    "duration": 19,
    "start_time": "2022-01-31T14:17:49.617Z"
   },
   {
    "duration": 297,
    "start_time": "2022-01-31T14:17:49.638Z"
   },
   {
    "duration": 16,
    "start_time": "2022-01-31T14:17:49.938Z"
   },
   {
    "duration": 206,
    "start_time": "2022-01-31T14:17:49.957Z"
   },
   {
    "duration": 6,
    "start_time": "2022-01-31T14:17:50.165Z"
   },
   {
    "duration": 206,
    "start_time": "2022-01-31T14:17:50.173Z"
   },
   {
    "duration": 359,
    "start_time": "2022-01-31T14:17:50.381Z"
   },
   {
    "duration": 506,
    "start_time": "2022-01-31T14:17:50.240Z"
   },
   {
    "duration": 503,
    "start_time": "2022-01-31T14:17:50.244Z"
   },
   {
    "duration": 502,
    "start_time": "2022-01-31T14:17:50.247Z"
   },
   {
    "duration": 500,
    "start_time": "2022-01-31T14:17:50.250Z"
   },
   {
    "duration": 499,
    "start_time": "2022-01-31T14:17:50.253Z"
   },
   {
    "duration": 498,
    "start_time": "2022-01-31T14:17:50.255Z"
   },
   {
    "duration": 497,
    "start_time": "2022-01-31T14:17:50.258Z"
   },
   {
    "duration": 494,
    "start_time": "2022-01-31T14:17:50.262Z"
   },
   {
    "duration": 492,
    "start_time": "2022-01-31T14:17:50.266Z"
   },
   {
    "duration": 491,
    "start_time": "2022-01-31T14:17:50.268Z"
   },
   {
    "duration": 490,
    "start_time": "2022-01-31T14:17:50.271Z"
   },
   {
    "duration": 489,
    "start_time": "2022-01-31T14:17:50.274Z"
   },
   {
    "duration": 486,
    "start_time": "2022-01-31T14:17:50.278Z"
   },
   {
    "duration": 485,
    "start_time": "2022-01-31T14:17:50.280Z"
   },
   {
    "duration": 484,
    "start_time": "2022-01-31T14:17:50.283Z"
   },
   {
    "duration": 477,
    "start_time": "2022-01-31T14:17:50.292Z"
   },
   {
    "duration": 475,
    "start_time": "2022-01-31T14:17:50.295Z"
   },
   {
    "duration": 473,
    "start_time": "2022-01-31T14:17:50.299Z"
   },
   {
    "duration": 472,
    "start_time": "2022-01-31T14:17:50.301Z"
   },
   {
    "duration": 502,
    "start_time": "2022-01-31T14:17:50.304Z"
   },
   {
    "duration": 503,
    "start_time": "2022-01-31T14:17:50.306Z"
   },
   {
    "duration": 501,
    "start_time": "2022-01-31T14:17:50.309Z"
   },
   {
    "duration": 499,
    "start_time": "2022-01-31T14:17:50.313Z"
   },
   {
    "duration": 497,
    "start_time": "2022-01-31T14:17:50.316Z"
   },
   {
    "duration": 496,
    "start_time": "2022-01-31T14:17:50.319Z"
   },
   {
    "duration": 495,
    "start_time": "2022-01-31T14:17:50.321Z"
   },
   {
    "duration": 493,
    "start_time": "2022-01-31T14:17:50.324Z"
   },
   {
    "duration": 491,
    "start_time": "2022-01-31T14:17:50.327Z"
   },
   {
    "duration": 489,
    "start_time": "2022-01-31T14:17:50.330Z"
   },
   {
    "duration": 488,
    "start_time": "2022-01-31T14:17:50.333Z"
   },
   {
    "duration": 486,
    "start_time": "2022-01-31T14:17:50.336Z"
   },
   {
    "duration": 485,
    "start_time": "2022-01-31T14:17:50.338Z"
   },
   {
    "duration": 483,
    "start_time": "2022-01-31T14:17:50.341Z"
   },
   {
    "duration": 480,
    "start_time": "2022-01-31T14:17:50.345Z"
   },
   {
    "duration": 478,
    "start_time": "2022-01-31T14:17:50.348Z"
   },
   {
    "duration": 476,
    "start_time": "2022-01-31T14:17:50.351Z"
   },
   {
    "duration": 475,
    "start_time": "2022-01-31T14:17:50.353Z"
   },
   {
    "duration": 474,
    "start_time": "2022-01-31T14:17:50.356Z"
   },
   {
    "duration": 472,
    "start_time": "2022-01-31T14:17:50.359Z"
   },
   {
    "duration": 469,
    "start_time": "2022-01-31T14:17:50.363Z"
   },
   {
    "duration": 467,
    "start_time": "2022-01-31T14:17:50.366Z"
   },
   {
    "duration": 466,
    "start_time": "2022-01-31T14:17:50.368Z"
   },
   {
    "duration": 464,
    "start_time": "2022-01-31T14:17:50.371Z"
   },
   {
    "duration": 463,
    "start_time": "2022-01-31T14:17:50.373Z"
   },
   {
    "duration": 460,
    "start_time": "2022-01-31T14:17:50.377Z"
   },
   {
    "duration": 451,
    "start_time": "2022-01-31T14:17:50.387Z"
   },
   {
    "duration": 446,
    "start_time": "2022-01-31T14:17:50.393Z"
   },
   {
    "duration": 444,
    "start_time": "2022-01-31T14:17:50.396Z"
   },
   {
    "duration": 440,
    "start_time": "2022-01-31T14:17:50.401Z"
   },
   {
    "duration": 439,
    "start_time": "2022-01-31T14:17:50.404Z"
   },
   {
    "duration": 438,
    "start_time": "2022-01-31T14:17:50.406Z"
   },
   {
    "duration": 496,
    "start_time": "2022-01-31T14:17:50.411Z"
   },
   {
    "duration": 495,
    "start_time": "2022-01-31T14:17:50.414Z"
   },
   {
    "duration": 494,
    "start_time": "2022-01-31T14:17:50.416Z"
   },
   {
    "duration": 5,
    "start_time": "2022-01-31T14:18:25.615Z"
   },
   {
    "duration": 17,
    "start_time": "2022-01-31T14:18:30.173Z"
   },
   {
    "duration": 16,
    "start_time": "2022-01-31T14:18:55.190Z"
   },
   {
    "duration": 251,
    "start_time": "2022-01-31T14:27:28.424Z"
   },
   {
    "duration": 1252,
    "start_time": "2022-01-31T14:27:34.599Z"
   },
   {
    "duration": 387,
    "start_time": "2022-01-31T14:27:35.853Z"
   },
   {
    "duration": 24,
    "start_time": "2022-01-31T14:27:36.243Z"
   },
   {
    "duration": 346,
    "start_time": "2022-01-31T14:27:36.270Z"
   },
   {
    "duration": 19,
    "start_time": "2022-01-31T14:27:36.618Z"
   },
   {
    "duration": 273,
    "start_time": "2022-01-31T14:27:36.639Z"
   },
   {
    "duration": 20,
    "start_time": "2022-01-31T14:27:36.914Z"
   },
   {
    "duration": 183,
    "start_time": "2022-01-31T14:27:36.937Z"
   },
   {
    "duration": 6,
    "start_time": "2022-01-31T14:27:37.123Z"
   },
   {
    "duration": 195,
    "start_time": "2022-01-31T14:27:37.131Z"
   },
   {
    "duration": 7,
    "start_time": "2022-01-31T14:27:37.328Z"
   },
   {
    "duration": 76,
    "start_time": "2022-01-31T14:27:37.337Z"
   },
   {
    "duration": 7,
    "start_time": "2022-01-31T14:27:37.415Z"
   },
   {
    "duration": 57,
    "start_time": "2022-01-31T14:27:37.424Z"
   },
   {
    "duration": 62,
    "start_time": "2022-01-31T14:27:37.483Z"
   },
   {
    "duration": 28,
    "start_time": "2022-01-31T14:27:37.548Z"
   },
   {
    "duration": 65,
    "start_time": "2022-01-31T14:27:37.578Z"
   },
   {
    "duration": 39,
    "start_time": "2022-01-31T14:27:37.645Z"
   },
   {
    "duration": 6,
    "start_time": "2022-01-31T14:27:37.686Z"
   },
   {
    "duration": 16,
    "start_time": "2022-01-31T14:27:37.707Z"
   },
   {
    "duration": 9,
    "start_time": "2022-01-31T14:27:37.725Z"
   },
   {
    "duration": 10,
    "start_time": "2022-01-31T14:27:37.736Z"
   },
   {
    "duration": 14,
    "start_time": "2022-01-31T14:27:37.752Z"
   },
   {
    "duration": 44,
    "start_time": "2022-01-31T14:27:37.769Z"
   },
   {
    "duration": 9,
    "start_time": "2022-01-31T14:27:37.815Z"
   },
   {
    "duration": 8,
    "start_time": "2022-01-31T14:27:37.826Z"
   },
   {
    "duration": 12,
    "start_time": "2022-01-31T14:27:37.836Z"
   },
   {
    "duration": 8,
    "start_time": "2022-01-31T14:27:37.850Z"
   },
   {
    "duration": 48,
    "start_time": "2022-01-31T14:27:37.860Z"
   },
   {
    "duration": 8,
    "start_time": "2022-01-31T14:27:37.910Z"
   },
   {
    "duration": 9,
    "start_time": "2022-01-31T14:27:37.920Z"
   },
   {
    "duration": 16,
    "start_time": "2022-01-31T14:27:37.931Z"
   },
   {
    "duration": 19,
    "start_time": "2022-01-31T14:27:37.949Z"
   },
   {
    "duration": 264,
    "start_time": "2022-01-31T14:27:37.970Z"
   },
   {
    "duration": 14,
    "start_time": "2022-01-31T14:27:38.237Z"
   },
   {
    "duration": 20,
    "start_time": "2022-01-31T14:27:38.253Z"
   },
   {
    "duration": 314,
    "start_time": "2022-01-31T14:27:38.275Z"
   },
   {
    "duration": 297,
    "start_time": "2022-01-31T14:27:38.591Z"
   },
   {
    "duration": 281,
    "start_time": "2022-01-31T14:27:38.889Z"
   },
   {
    "duration": 19,
    "start_time": "2022-01-31T14:27:39.172Z"
   },
   {
    "duration": 296,
    "start_time": "2022-01-31T14:27:39.193Z"
   },
   {
    "duration": 292,
    "start_time": "2022-01-31T14:27:39.491Z"
   },
   {
    "duration": 298,
    "start_time": "2022-01-31T14:27:39.785Z"
   },
   {
    "duration": 414,
    "start_time": "2022-01-31T14:27:40.085Z"
   },
   {
    "duration": 338,
    "start_time": "2022-01-31T14:27:40.501Z"
   },
   {
    "duration": 382,
    "start_time": "2022-01-31T14:27:40.841Z"
   },
   {
    "duration": 5,
    "start_time": "2022-01-31T14:27:41.225Z"
   },
   {
    "duration": 8,
    "start_time": "2022-01-31T14:27:41.232Z"
   },
   {
    "duration": 13,
    "start_time": "2022-01-31T14:27:41.241Z"
   },
   {
    "duration": 7,
    "start_time": "2022-01-31T14:27:41.256Z"
   },
   {
    "duration": 7,
    "start_time": "2022-01-31T14:27:41.265Z"
   },
   {
    "duration": 290,
    "start_time": "2022-01-31T14:27:41.274Z"
   },
   {
    "duration": 252,
    "start_time": "2022-01-31T14:27:41.566Z"
   },
   {
    "duration": 290,
    "start_time": "2022-01-31T14:27:41.820Z"
   },
   {
    "duration": 269,
    "start_time": "2022-01-31T14:27:42.112Z"
   },
   {
    "duration": 270,
    "start_time": "2022-01-31T14:27:42.383Z"
   },
   {
    "duration": 268,
    "start_time": "2022-01-31T14:27:42.656Z"
   },
   {
    "duration": 9,
    "start_time": "2022-01-31T14:27:42.927Z"
   },
   {
    "duration": 11,
    "start_time": "2022-01-31T14:27:42.938Z"
   },
   {
    "duration": 11,
    "start_time": "2022-01-31T14:27:42.951Z"
   },
   {
    "duration": 8,
    "start_time": "2022-01-31T14:27:42.965Z"
   },
   {
    "duration": 3,
    "start_time": "2022-01-31T14:27:42.975Z"
   },
   {
    "duration": 6,
    "start_time": "2022-01-31T14:27:43.007Z"
   },
   {
    "duration": 10,
    "start_time": "2022-01-31T14:27:43.014Z"
   },
   {
    "duration": 8,
    "start_time": "2022-01-31T14:29:18.622Z"
   },
   {
    "duration": 351,
    "start_time": "2022-01-31T14:29:39.918Z"
   },
   {
    "duration": 5,
    "start_time": "2022-01-31T14:29:44.446Z"
   },
   {
    "duration": 87,
    "start_time": "2022-01-31T14:30:35.825Z"
   },
   {
    "duration": 4,
    "start_time": "2022-01-31T14:30:48.512Z"
   },
   {
    "duration": 22,
    "start_time": "2022-01-31T14:32:47.202Z"
   },
   {
    "duration": 24,
    "start_time": "2022-01-31T14:34:00.460Z"
   },
   {
    "duration": 402,
    "start_time": "2022-01-31T14:34:40.693Z"
   },
   {
    "duration": 295,
    "start_time": "2022-01-31T14:36:14.118Z"
   },
   {
    "duration": 6,
    "start_time": "2022-01-31T14:36:44.207Z"
   },
   {
    "duration": 6,
    "start_time": "2022-01-31T14:41:28.068Z"
   },
   {
    "duration": 266,
    "start_time": "2022-01-31T14:45:12.638Z"
   },
   {
    "duration": 267,
    "start_time": "2022-01-31T14:45:30.897Z"
   },
   {
    "duration": 76,
    "start_time": "2022-01-31T14:46:56.722Z"
   },
   {
    "duration": 72,
    "start_time": "2022-01-31T14:47:05.170Z"
   },
   {
    "duration": 22,
    "start_time": "2022-01-31T14:48:46.365Z"
   },
   {
    "duration": 15,
    "start_time": "2022-01-31T14:48:56.741Z"
   },
   {
    "duration": 22,
    "start_time": "2022-01-31T14:49:03.295Z"
   },
   {
    "duration": 21,
    "start_time": "2022-01-31T14:56:18.125Z"
   },
   {
    "duration": 320,
    "start_time": "2022-01-31T18:05:59.217Z"
   },
   {
    "duration": 266,
    "start_time": "2022-01-31T18:06:08.068Z"
   },
   {
    "duration": 1531,
    "start_time": "2022-01-31T18:06:14.508Z"
   },
   {
    "duration": 389,
    "start_time": "2022-01-31T18:06:16.042Z"
   },
   {
    "duration": 40,
    "start_time": "2022-01-31T18:06:16.434Z"
   },
   {
    "duration": 353,
    "start_time": "2022-01-31T18:06:16.476Z"
   },
   {
    "duration": 24,
    "start_time": "2022-01-31T18:06:16.831Z"
   },
   {
    "duration": 293,
    "start_time": "2022-01-31T18:06:16.870Z"
   },
   {
    "duration": 21,
    "start_time": "2022-01-31T18:06:17.165Z"
   },
   {
    "duration": 443,
    "start_time": "2022-01-31T18:06:17.190Z"
   },
   {
    "duration": 9,
    "start_time": "2022-01-31T18:06:17.636Z"
   },
   {
    "duration": 204,
    "start_time": "2022-01-31T18:06:17.647Z"
   },
   {
    "duration": 9,
    "start_time": "2022-01-31T18:06:17.853Z"
   },
   {
    "duration": 103,
    "start_time": "2022-01-31T18:06:17.864Z"
   },
   {
    "duration": 7,
    "start_time": "2022-01-31T18:06:17.970Z"
   },
   {
    "duration": 90,
    "start_time": "2022-01-31T18:06:17.980Z"
   },
   {
    "duration": 56,
    "start_time": "2022-01-31T18:06:18.073Z"
   },
   {
    "duration": 56,
    "start_time": "2022-01-31T18:06:18.132Z"
   },
   {
    "duration": 52,
    "start_time": "2022-01-31T18:06:18.190Z"
   },
   {
    "duration": 71,
    "start_time": "2022-01-31T18:06:18.245Z"
   },
   {
    "duration": 8,
    "start_time": "2022-01-31T18:06:18.318Z"
   },
   {
    "duration": 17,
    "start_time": "2022-01-31T18:06:18.328Z"
   },
   {
    "duration": 11,
    "start_time": "2022-01-31T18:06:18.370Z"
   },
   {
    "duration": 14,
    "start_time": "2022-01-31T18:06:18.384Z"
   },
   {
    "duration": 16,
    "start_time": "2022-01-31T18:06:18.404Z"
   },
   {
    "duration": 50,
    "start_time": "2022-01-31T18:06:18.425Z"
   },
   {
    "duration": 14,
    "start_time": "2022-01-31T18:06:18.477Z"
   },
   {
    "duration": 11,
    "start_time": "2022-01-31T18:06:18.493Z"
   },
   {
    "duration": 19,
    "start_time": "2022-01-31T18:06:18.506Z"
   },
   {
    "duration": 46,
    "start_time": "2022-01-31T18:06:18.527Z"
   },
   {
    "duration": 8,
    "start_time": "2022-01-31T18:06:18.576Z"
   },
   {
    "duration": 23,
    "start_time": "2022-01-31T18:06:18.587Z"
   },
   {
    "duration": 19,
    "start_time": "2022-01-31T18:06:18.612Z"
   },
   {
    "duration": 22,
    "start_time": "2022-01-31T18:06:18.634Z"
   },
   {
    "duration": 26,
    "start_time": "2022-01-31T18:06:18.670Z"
   },
   {
    "duration": 382,
    "start_time": "2022-01-31T18:06:18.698Z"
   },
   {
    "duration": 67,
    "start_time": "2022-01-31T18:06:19.082Z"
   },
   {
    "duration": 31,
    "start_time": "2022-01-31T18:06:19.151Z"
   },
   {
    "duration": 40,
    "start_time": "2022-01-31T18:06:19.184Z"
   },
   {
    "duration": 52,
    "start_time": "2022-01-31T18:06:19.227Z"
   },
   {
    "duration": 35,
    "start_time": "2022-01-31T18:06:19.282Z"
   },
   {
    "duration": 449,
    "start_time": "2022-01-31T18:06:19.320Z"
   },
   {
    "duration": 429,
    "start_time": "2022-01-31T18:06:19.772Z"
   },
   {
    "duration": 426,
    "start_time": "2022-01-31T18:06:20.203Z"
   },
   {
    "duration": 39,
    "start_time": "2022-01-31T18:06:20.632Z"
   },
   {
    "duration": 430,
    "start_time": "2022-01-31T18:06:20.674Z"
   },
   {
    "duration": 438,
    "start_time": "2022-01-31T18:06:21.107Z"
   },
   {
    "duration": 548,
    "start_time": "2022-01-31T18:06:21.548Z"
   },
   {
    "duration": 604,
    "start_time": "2022-01-31T18:06:22.098Z"
   },
   {
    "duration": 527,
    "start_time": "2022-01-31T18:06:22.704Z"
   },
   {
    "duration": 508,
    "start_time": "2022-01-31T18:06:23.233Z"
   },
   {
    "duration": 8,
    "start_time": "2022-01-31T18:06:23.743Z"
   },
   {
    "duration": 21,
    "start_time": "2022-01-31T18:06:23.753Z"
   },
   {
    "duration": 8,
    "start_time": "2022-01-31T18:06:23.776Z"
   },
   {
    "duration": 7,
    "start_time": "2022-01-31T18:06:23.787Z"
   },
   {
    "duration": 8,
    "start_time": "2022-01-31T18:06:23.796Z"
   },
   {
    "duration": 438,
    "start_time": "2022-01-31T18:06:23.806Z"
   },
   {
    "duration": 424,
    "start_time": "2022-01-31T18:06:24.246Z"
   },
   {
    "duration": 432,
    "start_time": "2022-01-31T18:06:24.672Z"
   },
   {
    "duration": 406,
    "start_time": "2022-01-31T18:06:25.107Z"
   },
   {
    "duration": 417,
    "start_time": "2022-01-31T18:06:25.515Z"
   },
   {
    "duration": 433,
    "start_time": "2022-01-31T18:06:25.934Z"
   },
   {
    "duration": 11,
    "start_time": "2022-01-31T18:06:26.370Z"
   },
   {
    "duration": 10,
    "start_time": "2022-01-31T18:06:26.383Z"
   },
   {
    "duration": 7,
    "start_time": "2022-01-31T18:06:26.395Z"
   },
   {
    "duration": 11,
    "start_time": "2022-01-31T18:06:26.404Z"
   },
   {
    "duration": 8,
    "start_time": "2022-01-31T18:06:26.418Z"
   },
   {
    "duration": 45,
    "start_time": "2022-01-31T18:06:26.428Z"
   },
   {
    "duration": 8,
    "start_time": "2022-01-31T18:06:26.476Z"
   },
   {
    "duration": 1435,
    "start_time": "2022-01-31T18:15:26.319Z"
   },
   {
    "duration": 379,
    "start_time": "2022-01-31T18:15:27.757Z"
   },
   {
    "duration": 36,
    "start_time": "2022-01-31T18:15:28.139Z"
   },
   {
    "duration": 323,
    "start_time": "2022-01-31T18:15:28.177Z"
   },
   {
    "duration": 23,
    "start_time": "2022-01-31T18:15:28.502Z"
   },
   {
    "duration": 1652,
    "start_time": "2022-01-31T18:15:28.527Z"
   },
   {
    "duration": 19,
    "start_time": "2022-01-31T18:15:30.181Z"
   },
   {
    "duration": 254,
    "start_time": "2022-01-31T18:15:30.204Z"
   },
   {
    "duration": 8,
    "start_time": "2022-01-31T18:15:30.461Z"
   },
   {
    "duration": 265,
    "start_time": "2022-01-31T18:15:30.472Z"
   },
   {
    "duration": 10,
    "start_time": "2022-01-31T18:15:30.739Z"
   },
   {
    "duration": 106,
    "start_time": "2022-01-31T18:15:30.751Z"
   },
   {
    "duration": 9,
    "start_time": "2022-01-31T18:15:30.860Z"
   },
   {
    "duration": 73,
    "start_time": "2022-01-31T18:15:30.871Z"
   },
   {
    "duration": 73,
    "start_time": "2022-01-31T18:15:30.947Z"
   },
   {
    "duration": 65,
    "start_time": "2022-01-31T18:15:31.022Z"
   },
   {
    "duration": 84,
    "start_time": "2022-01-31T18:15:31.090Z"
   },
   {
    "duration": 61,
    "start_time": "2022-01-31T18:15:31.176Z"
   },
   {
    "duration": 32,
    "start_time": "2022-01-31T18:15:31.240Z"
   },
   {
    "duration": 17,
    "start_time": "2022-01-31T18:15:31.274Z"
   },
   {
    "duration": 12,
    "start_time": "2022-01-31T18:15:31.294Z"
   },
   {
    "duration": 12,
    "start_time": "2022-01-31T18:15:31.308Z"
   },
   {
    "duration": 52,
    "start_time": "2022-01-31T18:15:31.326Z"
   },
   {
    "duration": 20,
    "start_time": "2022-01-31T18:15:31.381Z"
   },
   {
    "duration": 11,
    "start_time": "2022-01-31T18:15:31.404Z"
   },
   {
    "duration": 20,
    "start_time": "2022-01-31T18:15:31.417Z"
   },
   {
    "duration": 43,
    "start_time": "2022-01-31T18:15:31.439Z"
   },
   {
    "duration": 10,
    "start_time": "2022-01-31T18:15:31.484Z"
   },
   {
    "duration": 11,
    "start_time": "2022-01-31T18:15:31.497Z"
   },
   {
    "duration": 18,
    "start_time": "2022-01-31T18:15:31.511Z"
   },
   {
    "duration": 46,
    "start_time": "2022-01-31T18:15:31.531Z"
   },
   {
    "duration": 14,
    "start_time": "2022-01-31T18:15:31.580Z"
   },
   {
    "duration": 25,
    "start_time": "2022-01-31T18:15:31.597Z"
   },
   {
    "duration": 409,
    "start_time": "2022-01-31T18:15:31.625Z"
   },
   {
    "duration": 32,
    "start_time": "2022-01-31T18:15:32.038Z"
   },
   {
    "duration": 33,
    "start_time": "2022-01-31T18:15:32.073Z"
   },
   {
    "duration": 32,
    "start_time": "2022-01-31T18:15:32.109Z"
   },
   {
    "duration": 28,
    "start_time": "2022-01-31T18:15:32.170Z"
   },
   {
    "duration": 453,
    "start_time": "2022-01-31T18:15:32.201Z"
   },
   {
    "duration": 444,
    "start_time": "2022-01-31T18:15:32.656Z"
   },
   {
    "duration": 426,
    "start_time": "2022-01-31T18:15:33.102Z"
   },
   {
    "duration": 24,
    "start_time": "2022-01-31T18:15:33.531Z"
   },
   {
    "duration": 420,
    "start_time": "2022-01-31T18:15:33.570Z"
   },
   {
    "duration": 428,
    "start_time": "2022-01-31T18:15:33.992Z"
   },
   {
    "duration": 526,
    "start_time": "2022-01-31T18:15:34.422Z"
   },
   {
    "duration": 679,
    "start_time": "2022-01-31T18:15:34.951Z"
   },
   {
    "duration": 540,
    "start_time": "2022-01-31T18:15:35.633Z"
   },
   {
    "duration": 544,
    "start_time": "2022-01-31T18:15:36.177Z"
   },
   {
    "duration": 7,
    "start_time": "2022-01-31T18:15:36.723Z"
   },
   {
    "duration": 15,
    "start_time": "2022-01-31T18:15:36.732Z"
   },
   {
    "duration": 9,
    "start_time": "2022-01-31T18:15:36.770Z"
   },
   {
    "duration": 9,
    "start_time": "2022-01-31T18:15:36.782Z"
   },
   {
    "duration": 7,
    "start_time": "2022-01-31T18:15:36.794Z"
   },
   {
    "duration": 434,
    "start_time": "2022-01-31T18:15:36.803Z"
   },
   {
    "duration": 413,
    "start_time": "2022-01-31T18:15:37.240Z"
   },
   {
    "duration": 448,
    "start_time": "2022-01-31T18:15:37.656Z"
   },
   {
    "duration": 412,
    "start_time": "2022-01-31T18:15:38.107Z"
   },
   {
    "duration": 416,
    "start_time": "2022-01-31T18:15:38.522Z"
   },
   {
    "duration": 395,
    "start_time": "2022-01-31T18:15:38.940Z"
   },
   {
    "duration": 13,
    "start_time": "2022-01-31T18:15:39.337Z"
   },
   {
    "duration": 6,
    "start_time": "2022-01-31T18:15:39.369Z"
   },
   {
    "duration": 8,
    "start_time": "2022-01-31T18:15:39.378Z"
   },
   {
    "duration": 18,
    "start_time": "2022-01-31T18:15:39.389Z"
   },
   {
    "duration": 9,
    "start_time": "2022-01-31T18:15:39.410Z"
   },
   {
    "duration": 9,
    "start_time": "2022-01-31T18:15:39.422Z"
   },
   {
    "duration": 8,
    "start_time": "2022-01-31T18:15:39.470Z"
   },
   {
    "duration": 28,
    "start_time": "2022-01-31T18:37:54.685Z"
   },
   {
    "duration": 28,
    "start_time": "2022-01-31T18:40:59.021Z"
   },
   {
    "duration": 1966,
    "start_time": "2022-01-31T19:27:29.747Z"
   },
   {
    "duration": 495,
    "start_time": "2022-01-31T19:27:31.716Z"
   },
   {
    "duration": 28,
    "start_time": "2022-01-31T19:27:32.214Z"
   },
   {
    "duration": 440,
    "start_time": "2022-01-31T19:27:32.245Z"
   },
   {
    "duration": 24,
    "start_time": "2022-01-31T19:27:32.687Z"
   },
   {
    "duration": 330,
    "start_time": "2022-01-31T19:27:32.714Z"
   },
   {
    "duration": 31,
    "start_time": "2022-01-31T19:27:33.047Z"
   },
   {
    "duration": 232,
    "start_time": "2022-01-31T19:27:33.083Z"
   },
   {
    "duration": 9,
    "start_time": "2022-01-31T19:27:33.318Z"
   },
   {
    "duration": 229,
    "start_time": "2022-01-31T19:27:33.329Z"
   },
   {
    "duration": 12,
    "start_time": "2022-01-31T19:27:33.560Z"
   },
   {
    "duration": 124,
    "start_time": "2022-01-31T19:27:33.574Z"
   },
   {
    "duration": 9,
    "start_time": "2022-01-31T19:27:33.701Z"
   },
   {
    "duration": 93,
    "start_time": "2022-01-31T19:27:33.713Z"
   },
   {
    "duration": 73,
    "start_time": "2022-01-31T19:27:33.808Z"
   },
   {
    "duration": 39,
    "start_time": "2022-01-31T19:27:33.883Z"
   },
   {
    "duration": 72,
    "start_time": "2022-01-31T19:27:33.925Z"
   },
   {
    "duration": 72,
    "start_time": "2022-01-31T19:27:33.999Z"
   },
   {
    "duration": 13,
    "start_time": "2022-01-31T19:27:34.082Z"
   },
   {
    "duration": 33,
    "start_time": "2022-01-31T19:27:34.099Z"
   },
   {
    "duration": 17,
    "start_time": "2022-01-31T19:27:34.135Z"
   },
   {
    "duration": 29,
    "start_time": "2022-01-31T19:27:34.154Z"
   },
   {
    "duration": 19,
    "start_time": "2022-01-31T19:27:34.192Z"
   },
   {
    "duration": 14,
    "start_time": "2022-01-31T19:27:34.214Z"
   },
   {
    "duration": 50,
    "start_time": "2022-01-31T19:27:34.230Z"
   },
   {
    "duration": 16,
    "start_time": "2022-01-31T19:27:34.283Z"
   },
   {
    "duration": 18,
    "start_time": "2022-01-31T19:27:34.301Z"
   },
   {
    "duration": 11,
    "start_time": "2022-01-31T19:27:34.321Z"
   },
   {
    "duration": 44,
    "start_time": "2022-01-31T19:27:34.335Z"
   },
   {
    "duration": 16,
    "start_time": "2022-01-31T19:27:34.383Z"
   },
   {
    "duration": 24,
    "start_time": "2022-01-31T19:27:34.401Z"
   },
   {
    "duration": 25,
    "start_time": "2022-01-31T19:27:34.428Z"
   },
   {
    "duration": 39,
    "start_time": "2022-01-31T19:27:34.457Z"
   },
   {
    "duration": 415,
    "start_time": "2022-01-31T19:27:34.499Z"
   },
   {
    "duration": 17,
    "start_time": "2022-01-31T19:27:34.917Z"
   },
   {
    "duration": 64,
    "start_time": "2022-01-31T19:27:34.936Z"
   },
   {
    "duration": 29,
    "start_time": "2022-01-31T19:27:35.003Z"
   },
   {
    "duration": 59,
    "start_time": "2022-01-31T19:27:35.035Z"
   },
   {
    "duration": 459,
    "start_time": "2022-01-31T19:27:35.097Z"
   },
   {
    "duration": 502,
    "start_time": "2022-01-31T19:27:35.558Z"
   },
   {
    "duration": 486,
    "start_time": "2022-01-31T19:27:36.070Z"
   },
   {
    "duration": 38,
    "start_time": "2022-01-31T19:27:36.559Z"
   },
   {
    "duration": 588,
    "start_time": "2022-01-31T19:27:36.601Z"
   },
   {
    "duration": 626,
    "start_time": "2022-01-31T19:27:37.192Z"
   },
   {
    "duration": 504,
    "start_time": "2022-01-31T19:27:37.821Z"
   },
   {
    "duration": 735,
    "start_time": "2022-01-31T19:27:38.328Z"
   },
   {
    "duration": 562,
    "start_time": "2022-01-31T19:27:39.066Z"
   },
   {
    "duration": 535,
    "start_time": "2022-01-31T19:27:39.630Z"
   },
   {
    "duration": 8,
    "start_time": "2022-01-31T19:27:40.169Z"
   },
   {
    "duration": 9,
    "start_time": "2022-01-31T19:27:40.180Z"
   },
   {
    "duration": 10,
    "start_time": "2022-01-31T19:27:40.195Z"
   },
   {
    "duration": 13,
    "start_time": "2022-01-31T19:27:40.208Z"
   },
   {
    "duration": 7,
    "start_time": "2022-01-31T19:27:40.223Z"
   },
   {
    "duration": 422,
    "start_time": "2022-01-31T19:27:40.271Z"
   },
   {
    "duration": 579,
    "start_time": "2022-01-31T19:27:40.697Z"
   },
   {
    "duration": 505,
    "start_time": "2022-01-31T19:27:41.280Z"
   },
   {
    "duration": 578,
    "start_time": "2022-01-31T19:27:41.787Z"
   },
   {
    "duration": 436,
    "start_time": "2022-01-31T19:27:42.370Z"
   },
   {
    "duration": 413,
    "start_time": "2022-01-31T19:27:42.809Z"
   },
   {
    "duration": 11,
    "start_time": "2022-01-31T19:27:43.225Z"
   },
   {
    "duration": 11,
    "start_time": "2022-01-31T19:27:43.238Z"
   },
   {
    "duration": 9,
    "start_time": "2022-01-31T19:27:43.269Z"
   },
   {
    "duration": 17,
    "start_time": "2022-01-31T19:27:43.281Z"
   },
   {
    "duration": 7,
    "start_time": "2022-01-31T19:27:43.301Z"
   },
   {
    "duration": 9,
    "start_time": "2022-01-31T19:27:43.311Z"
   },
   {
    "duration": 51,
    "start_time": "2022-01-31T19:27:43.323Z"
   },
   {
    "duration": 1231,
    "start_time": "2022-02-01T01:07:26.668Z"
   },
   {
    "duration": 359,
    "start_time": "2022-02-01T01:07:27.902Z"
   },
   {
    "duration": 23,
    "start_time": "2022-02-01T01:07:28.264Z"
   },
   {
    "duration": 343,
    "start_time": "2022-02-01T01:07:28.289Z"
   },
   {
    "duration": 31,
    "start_time": "2022-02-01T01:07:28.634Z"
   },
   {
    "duration": 297,
    "start_time": "2022-02-01T01:07:28.668Z"
   },
   {
    "duration": 16,
    "start_time": "2022-02-01T01:07:28.967Z"
   },
   {
    "duration": 192,
    "start_time": "2022-02-01T01:07:28.987Z"
   },
   {
    "duration": 7,
    "start_time": "2022-02-01T01:07:29.182Z"
   },
   {
    "duration": 211,
    "start_time": "2022-02-01T01:07:29.191Z"
   },
   {
    "duration": 9,
    "start_time": "2022-02-01T01:07:29.404Z"
   },
   {
    "duration": 91,
    "start_time": "2022-02-01T01:07:29.416Z"
   },
   {
    "duration": 13,
    "start_time": "2022-02-01T01:07:29.510Z"
   },
   {
    "duration": 57,
    "start_time": "2022-02-01T01:07:29.526Z"
   },
   {
    "duration": 71,
    "start_time": "2022-02-01T01:07:29.585Z"
   },
   {
    "duration": 31,
    "start_time": "2022-02-01T01:07:29.659Z"
   },
   {
    "duration": 45,
    "start_time": "2022-02-01T01:07:29.713Z"
   },
   {
    "duration": 56,
    "start_time": "2022-02-01T01:07:29.760Z"
   },
   {
    "duration": 6,
    "start_time": "2022-02-01T01:07:29.818Z"
   },
   {
    "duration": 20,
    "start_time": "2022-02-01T01:07:29.826Z"
   },
   {
    "duration": 12,
    "start_time": "2022-02-01T01:07:29.848Z"
   },
   {
    "duration": 8,
    "start_time": "2022-02-01T01:07:29.862Z"
   },
   {
    "duration": 21,
    "start_time": "2022-02-01T01:07:29.914Z"
   },
   {
    "duration": 16,
    "start_time": "2022-02-01T01:07:29.938Z"
   },
   {
    "duration": 11,
    "start_time": "2022-02-01T01:07:29.956Z"
   },
   {
    "duration": 9,
    "start_time": "2022-02-01T01:07:29.970Z"
   },
   {
    "duration": 52,
    "start_time": "2022-02-01T01:07:29.982Z"
   },
   {
    "duration": 17,
    "start_time": "2022-02-01T01:07:30.036Z"
   },
   {
    "duration": 19,
    "start_time": "2022-02-01T01:07:30.055Z"
   },
   {
    "duration": 20,
    "start_time": "2022-02-01T01:07:30.077Z"
   },
   {
    "duration": 28,
    "start_time": "2022-02-01T01:07:30.099Z"
   },
   {
    "duration": 23,
    "start_time": "2022-02-01T01:07:30.129Z"
   },
   {
    "duration": 35,
    "start_time": "2022-02-01T01:07:30.155Z"
   },
   {
    "duration": 285,
    "start_time": "2022-02-01T01:07:30.192Z"
   },
   {
    "duration": 14,
    "start_time": "2022-02-01T01:07:30.480Z"
   },
   {
    "duration": 27,
    "start_time": "2022-02-01T01:07:30.508Z"
   },
   {
    "duration": 23,
    "start_time": "2022-02-01T01:07:30.537Z"
   },
   {
    "duration": 56,
    "start_time": "2022-02-01T01:07:30.562Z"
   },
   {
    "duration": 521,
    "start_time": "2022-02-01T01:07:30.621Z"
   },
   {
    "duration": 521,
    "start_time": "2022-02-01T01:07:31.144Z"
   },
   {
    "duration": 321,
    "start_time": "2022-02-01T01:07:31.667Z"
   },
   {
    "duration": 38,
    "start_time": "2022-02-01T01:07:31.990Z"
   },
   {
    "duration": 335,
    "start_time": "2022-02-01T01:07:32.030Z"
   },
   {
    "duration": 316,
    "start_time": "2022-02-01T01:07:32.368Z"
   },
   {
    "duration": 429,
    "start_time": "2022-02-01T01:07:32.686Z"
   },
   {
    "duration": 570,
    "start_time": "2022-02-01T01:07:33.118Z"
   },
   {
    "duration": 485,
    "start_time": "2022-02-01T01:07:33.690Z"
   },
   {
    "duration": 486,
    "start_time": "2022-02-01T01:07:34.178Z"
   },
   {
    "duration": 6,
    "start_time": "2022-02-01T01:07:34.667Z"
   },
   {
    "duration": 9,
    "start_time": "2022-02-01T01:07:34.676Z"
   },
   {
    "duration": 28,
    "start_time": "2022-02-01T01:07:34.687Z"
   },
   {
    "duration": 9,
    "start_time": "2022-02-01T01:07:34.719Z"
   },
   {
    "duration": 9,
    "start_time": "2022-02-01T01:07:34.730Z"
   },
   {
    "duration": 283,
    "start_time": "2022-02-01T01:07:34.741Z"
   },
   {
    "duration": 282,
    "start_time": "2022-02-01T01:07:35.027Z"
   },
   {
    "duration": 286,
    "start_time": "2022-02-01T01:07:35.312Z"
   },
   {
    "duration": 281,
    "start_time": "2022-02-01T01:07:35.609Z"
   },
   {
    "duration": 294,
    "start_time": "2022-02-01T01:07:35.892Z"
   },
   {
    "duration": 296,
    "start_time": "2022-02-01T01:07:36.189Z"
   },
   {
    "duration": 9,
    "start_time": "2022-02-01T01:07:36.487Z"
   },
   {
    "duration": 33,
    "start_time": "2022-02-01T01:07:36.498Z"
   },
   {
    "duration": 5,
    "start_time": "2022-02-01T01:07:36.533Z"
   },
   {
    "duration": 10,
    "start_time": "2022-02-01T01:07:36.540Z"
   },
   {
    "duration": 7,
    "start_time": "2022-02-01T01:07:36.552Z"
   },
   {
    "duration": 12,
    "start_time": "2022-02-01T01:07:36.561Z"
   },
   {
    "duration": 7,
    "start_time": "2022-02-01T01:07:36.575Z"
   },
   {
    "duration": 2184,
    "start_time": "2022-02-01T07:15:51.844Z"
   },
   {
    "duration": 1115,
    "start_time": "2022-02-01T07:16:01.998Z"
   },
   {
    "duration": 345,
    "start_time": "2022-02-01T07:16:03.114Z"
   },
   {
    "duration": 18,
    "start_time": "2022-02-01T07:16:03.461Z"
   },
   {
    "duration": 323,
    "start_time": "2022-02-01T07:16:03.480Z"
   },
   {
    "duration": 15,
    "start_time": "2022-02-01T07:16:03.804Z"
   },
   {
    "duration": 300,
    "start_time": "2022-02-01T07:16:03.827Z"
   },
   {
    "duration": 12,
    "start_time": "2022-02-01T07:16:04.128Z"
   },
   {
    "duration": 233,
    "start_time": "2022-02-01T07:16:04.143Z"
   },
   {
    "duration": 5,
    "start_time": "2022-02-01T07:16:04.378Z"
   },
   {
    "duration": 278,
    "start_time": "2022-02-01T07:16:04.384Z"
   },
   {
    "duration": 6,
    "start_time": "2022-02-01T07:16:04.663Z"
   },
   {
    "duration": 65,
    "start_time": "2022-02-01T07:16:04.670Z"
   },
   {
    "duration": 5,
    "start_time": "2022-02-01T07:16:04.736Z"
   },
   {
    "duration": 48,
    "start_time": "2022-02-01T07:16:04.742Z"
   },
   {
    "duration": 53,
    "start_time": "2022-02-01T07:16:04.792Z"
   },
   {
    "duration": 21,
    "start_time": "2022-02-01T07:16:04.847Z"
   },
   {
    "duration": 29,
    "start_time": "2022-02-01T07:16:04.870Z"
   },
   {
    "duration": 48,
    "start_time": "2022-02-01T07:16:04.901Z"
   },
   {
    "duration": 6,
    "start_time": "2022-02-01T07:16:04.950Z"
   },
   {
    "duration": 12,
    "start_time": "2022-02-01T07:16:04.958Z"
   },
   {
    "duration": 8,
    "start_time": "2022-02-01T07:16:04.971Z"
   },
   {
    "duration": 7,
    "start_time": "2022-02-01T07:16:04.981Z"
   },
   {
    "duration": 40,
    "start_time": "2022-02-01T07:16:04.992Z"
   },
   {
    "duration": 9,
    "start_time": "2022-02-01T07:16:05.034Z"
   },
   {
    "duration": 9,
    "start_time": "2022-02-01T07:16:05.044Z"
   },
   {
    "duration": 8,
    "start_time": "2022-02-01T07:16:05.054Z"
   },
   {
    "duration": 10,
    "start_time": "2022-02-01T07:16:05.063Z"
   },
   {
    "duration": 6,
    "start_time": "2022-02-01T07:16:05.074Z"
   },
   {
    "duration": 48,
    "start_time": "2022-02-01T07:16:05.081Z"
   },
   {
    "duration": 12,
    "start_time": "2022-02-01T07:16:05.130Z"
   },
   {
    "duration": 6,
    "start_time": "2022-02-01T07:16:05.143Z"
   },
   {
    "duration": 7,
    "start_time": "2022-02-01T07:16:05.150Z"
   },
   {
    "duration": 14,
    "start_time": "2022-02-01T07:16:05.158Z"
   },
   {
    "duration": 205,
    "start_time": "2022-02-01T07:16:05.173Z"
   },
   {
    "duration": 9,
    "start_time": "2022-02-01T07:16:05.379Z"
   },
   {
    "duration": 15,
    "start_time": "2022-02-01T07:16:05.389Z"
   },
   {
    "duration": 36,
    "start_time": "2022-02-01T07:16:05.406Z"
   },
   {
    "duration": 15,
    "start_time": "2022-02-01T07:16:05.443Z"
   },
   {
    "duration": 230,
    "start_time": "2022-02-01T07:16:05.459Z"
   },
   {
    "duration": 216,
    "start_time": "2022-02-01T07:16:05.691Z"
   },
   {
    "duration": 324,
    "start_time": "2022-02-01T07:16:05.908Z"
   },
   {
    "duration": 15,
    "start_time": "2022-02-01T07:16:06.234Z"
   },
   {
    "duration": 223,
    "start_time": "2022-02-01T07:16:06.251Z"
   },
   {
    "duration": 223,
    "start_time": "2022-02-01T07:16:06.475Z"
   },
   {
    "duration": 230,
    "start_time": "2022-02-01T07:16:06.699Z"
   },
   {
    "duration": 318,
    "start_time": "2022-02-01T07:16:06.930Z"
   },
   {
    "duration": 263,
    "start_time": "2022-02-01T07:16:07.250Z"
   },
   {
    "duration": 261,
    "start_time": "2022-02-01T07:16:07.515Z"
   },
   {
    "duration": 5,
    "start_time": "2022-02-01T07:16:07.778Z"
   },
   {
    "duration": 17,
    "start_time": "2022-02-01T07:16:07.784Z"
   },
   {
    "duration": 13,
    "start_time": "2022-02-01T07:16:07.802Z"
   },
   {
    "duration": 16,
    "start_time": "2022-02-01T07:16:07.817Z"
   },
   {
    "duration": 15,
    "start_time": "2022-02-01T07:16:07.835Z"
   },
   {
    "duration": 185,
    "start_time": "2022-02-01T07:16:07.852Z"
   },
   {
    "duration": 214,
    "start_time": "2022-02-01T07:16:08.039Z"
   },
   {
    "duration": 208,
    "start_time": "2022-02-01T07:16:08.254Z"
   },
   {
    "duration": 221,
    "start_time": "2022-02-01T07:16:08.464Z"
   },
   {
    "duration": 204,
    "start_time": "2022-02-01T07:16:08.687Z"
   },
   {
    "duration": 217,
    "start_time": "2022-02-01T07:16:08.893Z"
   },
   {
    "duration": 7,
    "start_time": "2022-02-01T07:16:09.111Z"
   },
   {
    "duration": 3,
    "start_time": "2022-02-01T07:16:09.128Z"
   },
   {
    "duration": 14,
    "start_time": "2022-02-01T07:16:09.132Z"
   },
   {
    "duration": 16,
    "start_time": "2022-02-01T07:16:09.148Z"
   },
   {
    "duration": 5,
    "start_time": "2022-02-01T07:16:09.166Z"
   },
   {
    "duration": 9,
    "start_time": "2022-02-01T07:16:09.173Z"
   },
   {
    "duration": 13,
    "start_time": "2022-02-01T07:16:09.183Z"
   },
   {
    "duration": 5,
    "start_time": "2022-02-01T07:16:15.270Z"
   },
   {
    "duration": 1086,
    "start_time": "2022-02-01T07:23:41.527Z"
   },
   {
    "duration": 374,
    "start_time": "2022-02-01T07:23:42.614Z"
   },
   {
    "duration": 19,
    "start_time": "2022-02-01T07:23:42.989Z"
   },
   {
    "duration": 335,
    "start_time": "2022-02-01T07:23:43.009Z"
   },
   {
    "duration": 15,
    "start_time": "2022-02-01T07:23:43.345Z"
   },
   {
    "duration": 288,
    "start_time": "2022-02-01T07:23:43.361Z"
   },
   {
    "duration": 12,
    "start_time": "2022-02-01T07:23:43.651Z"
   },
   {
    "duration": 257,
    "start_time": "2022-02-01T07:23:43.665Z"
   },
   {
    "duration": 5,
    "start_time": "2022-02-01T07:23:43.924Z"
   },
   {
    "duration": 356,
    "start_time": "2022-02-01T07:23:43.931Z"
   },
   {
    "duration": 5,
    "start_time": "2022-02-01T07:23:44.288Z"
   },
   {
    "duration": 61,
    "start_time": "2022-02-01T07:23:44.295Z"
   },
   {
    "duration": 4,
    "start_time": "2022-02-01T07:23:44.357Z"
   },
   {
    "duration": 44,
    "start_time": "2022-02-01T07:23:44.363Z"
   },
   {
    "duration": 47,
    "start_time": "2022-02-01T07:23:44.409Z"
   },
   {
    "duration": 22,
    "start_time": "2022-02-01T07:23:44.457Z"
   },
   {
    "duration": 29,
    "start_time": "2022-02-01T07:23:44.480Z"
   },
   {
    "duration": 42,
    "start_time": "2022-02-01T07:23:44.510Z"
   },
   {
    "duration": 5,
    "start_time": "2022-02-01T07:23:44.553Z"
   },
   {
    "duration": 12,
    "start_time": "2022-02-01T07:23:44.559Z"
   },
   {
    "duration": 7,
    "start_time": "2022-02-01T07:23:44.572Z"
   },
   {
    "duration": 6,
    "start_time": "2022-02-01T07:23:44.580Z"
   },
   {
    "duration": 9,
    "start_time": "2022-02-01T07:23:44.589Z"
   },
   {
    "duration": 8,
    "start_time": "2022-02-01T07:23:44.628Z"
   },
   {
    "duration": 8,
    "start_time": "2022-02-01T07:23:44.637Z"
   },
   {
    "duration": 13,
    "start_time": "2022-02-01T07:23:44.646Z"
   },
   {
    "duration": 9,
    "start_time": "2022-02-01T07:23:44.660Z"
   },
   {
    "duration": 5,
    "start_time": "2022-02-01T07:23:44.670Z"
   },
   {
    "duration": 6,
    "start_time": "2022-02-01T07:23:44.676Z"
   },
   {
    "duration": 6,
    "start_time": "2022-02-01T07:23:44.683Z"
   },
   {
    "duration": 37,
    "start_time": "2022-02-01T07:23:44.691Z"
   },
   {
    "duration": 7,
    "start_time": "2022-02-01T07:23:44.729Z"
   },
   {
    "duration": 14,
    "start_time": "2022-02-01T07:23:44.738Z"
   },
   {
    "duration": 204,
    "start_time": "2022-02-01T07:23:44.753Z"
   },
   {
    "duration": 9,
    "start_time": "2022-02-01T07:23:44.960Z"
   },
   {
    "duration": 18,
    "start_time": "2022-02-01T07:23:44.971Z"
   },
   {
    "duration": 37,
    "start_time": "2022-02-01T07:23:44.990Z"
   },
   {
    "duration": 15,
    "start_time": "2022-02-01T07:23:45.029Z"
   },
   {
    "duration": 233,
    "start_time": "2022-02-01T07:23:45.045Z"
   },
   {
    "duration": 216,
    "start_time": "2022-02-01T07:23:45.279Z"
   },
   {
    "duration": 221,
    "start_time": "2022-02-01T07:23:45.497Z"
   },
   {
    "duration": 16,
    "start_time": "2022-02-01T07:23:45.719Z"
   },
   {
    "duration": 226,
    "start_time": "2022-02-01T07:23:45.736Z"
   },
   {
    "duration": 222,
    "start_time": "2022-02-01T07:23:45.964Z"
   },
   {
    "duration": 229,
    "start_time": "2022-02-01T07:23:46.188Z"
   },
   {
    "duration": 415,
    "start_time": "2022-02-01T07:23:46.419Z"
   },
   {
    "duration": 261,
    "start_time": "2022-02-01T07:23:46.836Z"
   },
   {
    "duration": 260,
    "start_time": "2022-02-01T07:23:47.099Z"
   },
   {
    "duration": 4,
    "start_time": "2022-02-01T07:23:47.361Z"
   },
   {
    "duration": 6,
    "start_time": "2022-02-01T07:23:47.366Z"
   },
   {
    "duration": 7,
    "start_time": "2022-02-01T07:23:47.373Z"
   },
   {
    "duration": 6,
    "start_time": "2022-02-01T07:23:47.382Z"
   },
   {
    "duration": 8,
    "start_time": "2022-02-01T07:23:47.389Z"
   },
   {
    "duration": 207,
    "start_time": "2022-02-01T07:23:47.398Z"
   },
   {
    "duration": 206,
    "start_time": "2022-02-01T07:23:47.607Z"
   },
   {
    "duration": 203,
    "start_time": "2022-02-01T07:23:47.814Z"
   },
   {
    "duration": 212,
    "start_time": "2022-02-01T07:23:48.019Z"
   },
   {
    "duration": 212,
    "start_time": "2022-02-01T07:23:48.233Z"
   },
   {
    "duration": 209,
    "start_time": "2022-02-01T07:23:48.447Z"
   },
   {
    "duration": 7,
    "start_time": "2022-02-01T07:23:48.657Z"
   },
   {
    "duration": 5,
    "start_time": "2022-02-01T07:23:48.665Z"
   },
   {
    "duration": 8,
    "start_time": "2022-02-01T07:23:48.671Z"
   },
   {
    "duration": 7,
    "start_time": "2022-02-01T07:23:48.680Z"
   },
   {
    "duration": 6,
    "start_time": "2022-02-01T07:23:48.689Z"
   },
   {
    "duration": 6,
    "start_time": "2022-02-01T07:23:48.696Z"
   },
   {
    "duration": 26,
    "start_time": "2022-02-01T07:23:48.703Z"
   },
   {
    "duration": 4,
    "start_time": "2022-02-01T07:26:15.656Z"
   },
   {
    "duration": 5241,
    "start_time": "2022-02-01T07:26:27.919Z"
   },
   {
    "duration": 4724,
    "start_time": "2022-02-01T07:26:51.872Z"
   },
   {
    "duration": 8321,
    "start_time": "2022-02-01T07:28:41.563Z"
   },
   {
    "duration": 1123,
    "start_time": "2022-02-01T07:29:00.216Z"
   },
   {
    "duration": 427,
    "start_time": "2022-02-01T07:29:01.341Z"
   },
   {
    "duration": 19,
    "start_time": "2022-02-01T07:29:01.769Z"
   },
   {
    "duration": 346,
    "start_time": "2022-02-01T07:29:01.790Z"
   },
   {
    "duration": 15,
    "start_time": "2022-02-01T07:29:02.137Z"
   },
   {
    "duration": 308,
    "start_time": "2022-02-01T07:29:02.154Z"
   },
   {
    "duration": 12,
    "start_time": "2022-02-01T07:29:02.464Z"
   },
   {
    "duration": 252,
    "start_time": "2022-02-01T07:29:02.478Z"
   },
   {
    "duration": 6,
    "start_time": "2022-02-01T07:29:02.732Z"
   },
   {
    "duration": 333,
    "start_time": "2022-02-01T07:29:02.739Z"
   },
   {
    "duration": 5,
    "start_time": "2022-02-01T07:29:03.074Z"
   },
   {
    "duration": 61,
    "start_time": "2022-02-01T07:29:03.080Z"
   },
   {
    "duration": 5,
    "start_time": "2022-02-01T07:29:03.143Z"
   },
   {
    "duration": 47,
    "start_time": "2022-02-01T07:29:03.149Z"
   },
   {
    "duration": 53,
    "start_time": "2022-02-01T07:29:03.197Z"
   },
   {
    "duration": 22,
    "start_time": "2022-02-01T07:29:03.252Z"
   },
   {
    "duration": 31,
    "start_time": "2022-02-01T07:29:03.275Z"
   },
   {
    "duration": 45,
    "start_time": "2022-02-01T07:29:03.307Z"
   },
   {
    "duration": 5,
    "start_time": "2022-02-01T07:29:03.353Z"
   },
   {
    "duration": 12,
    "start_time": "2022-02-01T07:29:03.359Z"
   },
   {
    "duration": 6,
    "start_time": "2022-02-01T07:29:03.373Z"
   },
   {
    "duration": 6,
    "start_time": "2022-02-01T07:29:03.381Z"
   },
   {
    "duration": 10,
    "start_time": "2022-02-01T07:29:03.390Z"
   },
   {
    "duration": 29,
    "start_time": "2022-02-01T07:29:03.402Z"
   },
   {
    "duration": 7,
    "start_time": "2022-02-01T07:29:03.432Z"
   },
   {
    "duration": 7,
    "start_time": "2022-02-01T07:29:03.440Z"
   },
   {
    "duration": 9,
    "start_time": "2022-02-01T07:29:03.448Z"
   },
   {
    "duration": 6,
    "start_time": "2022-02-01T07:29:03.459Z"
   },
   {
    "duration": 5,
    "start_time": "2022-02-01T07:29:03.467Z"
   },
   {
    "duration": 6,
    "start_time": "2022-02-01T07:29:03.474Z"
   },
   {
    "duration": 46,
    "start_time": "2022-02-01T07:29:03.481Z"
   },
   {
    "duration": 7,
    "start_time": "2022-02-01T07:29:03.528Z"
   },
   {
    "duration": 15,
    "start_time": "2022-02-01T07:29:03.536Z"
   },
   {
    "duration": 13,
    "start_time": "2022-02-01T07:29:03.552Z"
   },
   {
    "duration": 219,
    "start_time": "2022-02-01T07:29:03.566Z"
   },
   {
    "duration": 9,
    "start_time": "2022-02-01T07:29:03.786Z"
   },
   {
    "duration": 31,
    "start_time": "2022-02-01T07:29:03.796Z"
   },
   {
    "duration": 16,
    "start_time": "2022-02-01T07:29:03.828Z"
   },
   {
    "duration": 16,
    "start_time": "2022-02-01T07:29:03.845Z"
   },
   {
    "duration": 239,
    "start_time": "2022-02-01T07:29:03.863Z"
   },
   {
    "duration": 226,
    "start_time": "2022-02-01T07:29:04.103Z"
   },
   {
    "duration": 222,
    "start_time": "2022-02-01T07:29:04.331Z"
   },
   {
    "duration": 16,
    "start_time": "2022-02-01T07:29:04.555Z"
   },
   {
    "duration": 258,
    "start_time": "2022-02-01T07:29:04.572Z"
   },
   {
    "duration": 237,
    "start_time": "2022-02-01T07:29:04.832Z"
   },
   {
    "duration": 237,
    "start_time": "2022-02-01T07:29:05.071Z"
   },
   {
    "duration": 327,
    "start_time": "2022-02-01T07:29:05.311Z"
   },
   {
    "duration": 274,
    "start_time": "2022-02-01T07:29:05.640Z"
   },
   {
    "duration": 277,
    "start_time": "2022-02-01T07:29:05.916Z"
   },
   {
    "duration": 5,
    "start_time": "2022-02-01T07:29:06.194Z"
   },
   {
    "duration": 6,
    "start_time": "2022-02-01T07:29:06.201Z"
   },
   {
    "duration": 20,
    "start_time": "2022-02-01T07:29:06.208Z"
   },
   {
    "duration": 10,
    "start_time": "2022-02-01T07:29:06.230Z"
   },
   {
    "duration": 3,
    "start_time": "2022-02-01T07:29:06.242Z"
   },
   {
    "duration": 207,
    "start_time": "2022-02-01T07:29:06.247Z"
   },
   {
    "duration": 209,
    "start_time": "2022-02-01T07:29:06.455Z"
   },
   {
    "duration": 207,
    "start_time": "2022-02-01T07:29:06.665Z"
   },
   {
    "duration": 214,
    "start_time": "2022-02-01T07:29:06.874Z"
   },
   {
    "duration": 214,
    "start_time": "2022-02-01T07:29:07.090Z"
   },
   {
    "duration": 198,
    "start_time": "2022-02-01T07:29:07.305Z"
   },
   {
    "duration": 7,
    "start_time": "2022-02-01T07:29:07.504Z"
   },
   {
    "duration": 16,
    "start_time": "2022-02-01T07:29:07.512Z"
   },
   {
    "duration": 4,
    "start_time": "2022-02-01T07:29:07.529Z"
   },
   {
    "duration": 8,
    "start_time": "2022-02-01T07:29:07.535Z"
   },
   {
    "duration": 4,
    "start_time": "2022-02-01T07:29:07.545Z"
   },
   {
    "duration": 5,
    "start_time": "2022-02-01T07:29:07.550Z"
   },
   {
    "duration": 5,
    "start_time": "2022-02-01T07:29:07.557Z"
   },
   {
    "duration": 1111,
    "start_time": "2022-02-01T07:30:10.013Z"
   },
   {
    "duration": 518,
    "start_time": "2022-02-01T07:30:11.127Z"
   },
   {
    "duration": 17,
    "start_time": "2022-02-01T07:30:11.647Z"
   },
   {
    "duration": 681,
    "start_time": "2022-02-01T07:30:11.666Z"
   },
   {
    "duration": 16,
    "start_time": "2022-02-01T07:30:12.349Z"
   },
   {
    "duration": 296,
    "start_time": "2022-02-01T07:30:12.367Z"
   },
   {
    "duration": 13,
    "start_time": "2022-02-01T07:30:12.665Z"
   },
   {
    "duration": 244,
    "start_time": "2022-02-01T07:30:12.681Z"
   },
   {
    "duration": 7,
    "start_time": "2022-02-01T07:30:12.927Z"
   },
   {
    "duration": 272,
    "start_time": "2022-02-01T07:30:12.936Z"
   },
   {
    "duration": 5,
    "start_time": "2022-02-01T07:30:13.209Z"
   },
   {
    "duration": 63,
    "start_time": "2022-02-01T07:30:13.216Z"
   },
   {
    "duration": 4,
    "start_time": "2022-02-01T07:30:13.280Z"
   },
   {
    "duration": 49,
    "start_time": "2022-02-01T07:30:13.286Z"
   },
   {
    "duration": 35,
    "start_time": "2022-02-01T07:30:13.337Z"
   },
   {
    "duration": 21,
    "start_time": "2022-02-01T07:30:13.374Z"
   },
   {
    "duration": 50,
    "start_time": "2022-02-01T07:30:13.397Z"
   },
   {
    "duration": 28,
    "start_time": "2022-02-01T07:30:13.449Z"
   },
   {
    "duration": 5,
    "start_time": "2022-02-01T07:30:13.478Z"
   },
   {
    "duration": 18,
    "start_time": "2022-02-01T07:30:13.484Z"
   },
   {
    "duration": 29,
    "start_time": "2022-02-01T07:30:13.503Z"
   },
   {
    "duration": 7,
    "start_time": "2022-02-01T07:30:13.533Z"
   },
   {
    "duration": 10,
    "start_time": "2022-02-01T07:30:13.543Z"
   },
   {
    "duration": 8,
    "start_time": "2022-02-01T07:30:13.555Z"
   },
   {
    "duration": 7,
    "start_time": "2022-02-01T07:30:13.565Z"
   },
   {
    "duration": 7,
    "start_time": "2022-02-01T07:30:13.573Z"
   },
   {
    "duration": 10,
    "start_time": "2022-02-01T07:30:13.581Z"
   },
   {
    "duration": 37,
    "start_time": "2022-02-01T07:30:13.592Z"
   },
   {
    "duration": 4,
    "start_time": "2022-02-01T07:30:13.631Z"
   },
   {
    "duration": 8,
    "start_time": "2022-02-01T07:30:13.636Z"
   },
   {
    "duration": 7,
    "start_time": "2022-02-01T07:30:13.645Z"
   },
   {
    "duration": 7,
    "start_time": "2022-02-01T07:30:13.654Z"
   },
   {
    "duration": 14,
    "start_time": "2022-02-01T07:30:13.662Z"
   },
   {
    "duration": 11,
    "start_time": "2022-02-01T07:30:13.677Z"
   },
   {
    "duration": 228,
    "start_time": "2022-02-01T07:30:13.690Z"
   },
   {
    "duration": 13,
    "start_time": "2022-02-01T07:30:13.920Z"
   },
   {
    "duration": 16,
    "start_time": "2022-02-01T07:30:13.934Z"
   },
   {
    "duration": 19,
    "start_time": "2022-02-01T07:30:13.952Z"
   },
   {
    "duration": 17,
    "start_time": "2022-02-01T07:30:13.973Z"
   },
   {
    "duration": 250,
    "start_time": "2022-02-01T07:30:13.991Z"
   },
   {
    "duration": 231,
    "start_time": "2022-02-01T07:30:14.243Z"
   },
   {
    "duration": 221,
    "start_time": "2022-02-01T07:30:14.476Z"
   },
   {
    "duration": 15,
    "start_time": "2022-02-01T07:30:14.699Z"
   },
   {
    "duration": 230,
    "start_time": "2022-02-01T07:30:14.715Z"
   },
   {
    "duration": 233,
    "start_time": "2022-02-01T07:30:14.947Z"
   },
   {
    "duration": 229,
    "start_time": "2022-02-01T07:30:15.181Z"
   },
   {
    "duration": 321,
    "start_time": "2022-02-01T07:30:15.412Z"
   },
   {
    "duration": 261,
    "start_time": "2022-02-01T07:30:15.734Z"
   },
   {
    "duration": 263,
    "start_time": "2022-02-01T07:30:15.996Z"
   },
   {
    "duration": 5,
    "start_time": "2022-02-01T07:30:16.260Z"
   },
   {
    "duration": 7,
    "start_time": "2022-02-01T07:30:16.266Z"
   },
   {
    "duration": 7,
    "start_time": "2022-02-01T07:30:16.274Z"
   },
   {
    "duration": 8,
    "start_time": "2022-02-01T07:30:16.283Z"
   },
   {
    "duration": 9,
    "start_time": "2022-02-01T07:30:16.292Z"
   },
   {
    "duration": 210,
    "start_time": "2022-02-01T07:30:16.302Z"
   },
   {
    "duration": 207,
    "start_time": "2022-02-01T07:30:16.514Z"
   },
   {
    "duration": 203,
    "start_time": "2022-02-01T07:30:16.727Z"
   },
   {
    "duration": 217,
    "start_time": "2022-02-01T07:30:16.931Z"
   },
   {
    "duration": 212,
    "start_time": "2022-02-01T07:30:17.150Z"
   },
   {
    "duration": 197,
    "start_time": "2022-02-01T07:30:17.364Z"
   },
   {
    "duration": 6,
    "start_time": "2022-02-01T07:30:17.563Z"
   },
   {
    "duration": 9,
    "start_time": "2022-02-01T07:30:17.571Z"
   },
   {
    "duration": 6,
    "start_time": "2022-02-01T07:30:17.581Z"
   },
   {
    "duration": 9,
    "start_time": "2022-02-01T07:30:17.588Z"
   },
   {
    "duration": 4,
    "start_time": "2022-02-01T07:30:17.598Z"
   },
   {
    "duration": 5,
    "start_time": "2022-02-01T07:30:17.603Z"
   },
   {
    "duration": 4,
    "start_time": "2022-02-01T07:30:17.627Z"
   },
   {
    "duration": 13,
    "start_time": "2022-02-01T07:33:07.051Z"
   },
   {
    "duration": 1102,
    "start_time": "2022-02-01T07:33:24.915Z"
   },
   {
    "duration": 351,
    "start_time": "2022-02-01T07:33:26.019Z"
   },
   {
    "duration": 18,
    "start_time": "2022-02-01T07:33:26.372Z"
   },
   {
    "duration": 339,
    "start_time": "2022-02-01T07:33:26.392Z"
   },
   {
    "duration": 16,
    "start_time": "2022-02-01T07:33:26.733Z"
   },
   {
    "duration": 302,
    "start_time": "2022-02-01T07:33:26.751Z"
   },
   {
    "duration": 12,
    "start_time": "2022-02-01T07:33:27.055Z"
   },
   {
    "duration": 224,
    "start_time": "2022-02-01T07:33:27.070Z"
   },
   {
    "duration": 5,
    "start_time": "2022-02-01T07:33:27.296Z"
   },
   {
    "duration": 264,
    "start_time": "2022-02-01T07:33:27.302Z"
   },
   {
    "duration": 6,
    "start_time": "2022-02-01T07:33:27.567Z"
   },
   {
    "duration": 60,
    "start_time": "2022-02-01T07:33:27.574Z"
   },
   {
    "duration": 4,
    "start_time": "2022-02-01T07:33:27.636Z"
   },
   {
    "duration": 43,
    "start_time": "2022-02-01T07:33:27.642Z"
   },
   {
    "duration": 47,
    "start_time": "2022-02-01T07:33:27.687Z"
   },
   {
    "duration": 22,
    "start_time": "2022-02-01T07:33:27.735Z"
   },
   {
    "duration": 27,
    "start_time": "2022-02-01T07:33:27.759Z"
   },
   {
    "duration": 44,
    "start_time": "2022-02-01T07:33:27.787Z"
   },
   {
    "duration": 5,
    "start_time": "2022-02-01T07:33:27.832Z"
   },
   {
    "duration": 12,
    "start_time": "2022-02-01T07:33:27.838Z"
   },
   {
    "duration": 7,
    "start_time": "2022-02-01T07:33:27.852Z"
   },
   {
    "duration": 6,
    "start_time": "2022-02-01T07:33:27.860Z"
   },
   {
    "duration": 9,
    "start_time": "2022-02-01T07:33:27.870Z"
   },
   {
    "duration": 8,
    "start_time": "2022-02-01T07:33:27.881Z"
   },
   {
    "duration": 39,
    "start_time": "2022-02-01T07:33:27.890Z"
   },
   {
    "duration": 6,
    "start_time": "2022-02-01T07:33:27.930Z"
   },
   {
    "duration": 9,
    "start_time": "2022-02-01T07:33:27.937Z"
   },
   {
    "duration": 6,
    "start_time": "2022-02-01T07:33:27.948Z"
   },
   {
    "duration": 6,
    "start_time": "2022-02-01T07:33:27.955Z"
   },
   {
    "duration": 7,
    "start_time": "2022-02-01T07:33:27.962Z"
   },
   {
    "duration": 7,
    "start_time": "2022-02-01T07:33:27.970Z"
   },
   {
    "duration": 8,
    "start_time": "2022-02-01T07:33:27.978Z"
   },
   {
    "duration": 45,
    "start_time": "2022-02-01T07:33:27.987Z"
   },
   {
    "duration": 12,
    "start_time": "2022-02-01T07:33:28.033Z"
   },
   {
    "duration": 203,
    "start_time": "2022-02-01T07:33:28.046Z"
   },
   {
    "duration": 9,
    "start_time": "2022-02-01T07:33:28.250Z"
   },
   {
    "duration": 25,
    "start_time": "2022-02-01T07:33:28.261Z"
   },
   {
    "duration": 43,
    "start_time": "2022-02-01T07:33:28.288Z"
   },
   {
    "duration": 20,
    "start_time": "2022-02-01T07:33:28.333Z"
   },
   {
    "duration": 236,
    "start_time": "2022-02-01T07:33:28.354Z"
   },
   {
    "duration": 220,
    "start_time": "2022-02-01T07:33:28.591Z"
   },
   {
    "duration": 219,
    "start_time": "2022-02-01T07:33:28.812Z"
   },
   {
    "duration": 15,
    "start_time": "2022-02-01T07:33:29.032Z"
   },
   {
    "duration": 232,
    "start_time": "2022-02-01T07:33:29.049Z"
   },
   {
    "duration": 236,
    "start_time": "2022-02-01T07:33:29.283Z"
   },
   {
    "duration": 231,
    "start_time": "2022-02-01T07:33:29.521Z"
   },
   {
    "duration": 317,
    "start_time": "2022-02-01T07:33:29.754Z"
   },
   {
    "duration": 263,
    "start_time": "2022-02-01T07:33:30.072Z"
   },
   {
    "duration": 260,
    "start_time": "2022-02-01T07:33:30.336Z"
   },
   {
    "duration": 4,
    "start_time": "2022-02-01T07:33:30.598Z"
   },
   {
    "duration": 10,
    "start_time": "2022-02-01T07:33:30.603Z"
   },
   {
    "duration": 13,
    "start_time": "2022-02-01T07:33:30.615Z"
   },
   {
    "duration": 14,
    "start_time": "2022-02-01T07:33:30.629Z"
   },
   {
    "duration": 12,
    "start_time": "2022-02-01T07:33:30.644Z"
   },
   {
    "duration": 201,
    "start_time": "2022-02-01T07:33:30.657Z"
   },
   {
    "duration": 203,
    "start_time": "2022-02-01T07:33:30.859Z"
   },
   {
    "duration": 207,
    "start_time": "2022-02-01T07:33:31.064Z"
   },
   {
    "duration": 214,
    "start_time": "2022-02-01T07:33:31.273Z"
   },
   {
    "duration": 207,
    "start_time": "2022-02-01T07:33:31.489Z"
   },
   {
    "duration": 196,
    "start_time": "2022-02-01T07:33:31.698Z"
   },
   {
    "duration": 6,
    "start_time": "2022-02-01T07:33:31.896Z"
   },
   {
    "duration": 23,
    "start_time": "2022-02-01T07:33:31.904Z"
   },
   {
    "duration": 19,
    "start_time": "2022-02-01T07:33:31.929Z"
   },
   {
    "duration": 25,
    "start_time": "2022-02-01T07:33:31.950Z"
   },
   {
    "duration": 13,
    "start_time": "2022-02-01T07:33:31.976Z"
   },
   {
    "duration": 17,
    "start_time": "2022-02-01T07:33:31.990Z"
   },
   {
    "duration": 15,
    "start_time": "2022-02-01T07:33:32.008Z"
   },
   {
    "duration": 1365,
    "start_time": "2022-02-01T07:35:48.140Z"
   },
   {
    "duration": 978,
    "start_time": "2022-02-01T07:35:49.507Z"
   },
   {
    "duration": 18,
    "start_time": "2022-02-01T07:35:50.487Z"
   },
   {
    "duration": 600,
    "start_time": "2022-02-01T07:35:50.507Z"
   },
   {
    "duration": 23,
    "start_time": "2022-02-01T07:35:51.108Z"
   },
   {
    "duration": 939,
    "start_time": "2022-02-01T07:35:51.132Z"
   },
   {
    "duration": 13,
    "start_time": "2022-02-01T07:35:52.072Z"
   },
   {
    "duration": 550,
    "start_time": "2022-02-01T07:35:52.087Z"
   },
   {
    "duration": 5,
    "start_time": "2022-02-01T07:35:52.639Z"
   },
   {
    "duration": 1064,
    "start_time": "2022-02-01T07:35:52.646Z"
   },
   {
    "duration": 6,
    "start_time": "2022-02-01T07:35:53.711Z"
   },
   {
    "duration": 61,
    "start_time": "2022-02-01T07:35:53.718Z"
   },
   {
    "duration": 4,
    "start_time": "2022-02-01T07:35:53.780Z"
   },
   {
    "duration": 57,
    "start_time": "2022-02-01T07:35:53.786Z"
   },
   {
    "duration": 42,
    "start_time": "2022-02-01T07:35:53.845Z"
   },
   {
    "duration": 40,
    "start_time": "2022-02-01T07:35:53.888Z"
   },
   {
    "duration": 36,
    "start_time": "2022-02-01T07:35:53.929Z"
   },
   {
    "duration": 30,
    "start_time": "2022-02-01T07:35:53.967Z"
   },
   {
    "duration": 5,
    "start_time": "2022-02-01T07:35:53.998Z"
   },
   {
    "duration": 28,
    "start_time": "2022-02-01T07:35:54.004Z"
   },
   {
    "duration": 7,
    "start_time": "2022-02-01T07:35:54.034Z"
   },
   {
    "duration": 7,
    "start_time": "2022-02-01T07:35:54.042Z"
   },
   {
    "duration": 28,
    "start_time": "2022-02-01T07:35:54.053Z"
   },
   {
    "duration": 21,
    "start_time": "2022-02-01T07:35:54.084Z"
   },
   {
    "duration": 9,
    "start_time": "2022-02-01T07:35:54.106Z"
   },
   {
    "duration": 9,
    "start_time": "2022-02-01T07:35:54.127Z"
   },
   {
    "duration": 18,
    "start_time": "2022-02-01T07:35:54.138Z"
   },
   {
    "duration": 15,
    "start_time": "2022-02-01T07:35:54.157Z"
   },
   {
    "duration": 7,
    "start_time": "2022-02-01T07:35:54.173Z"
   },
   {
    "duration": 7,
    "start_time": "2022-02-01T07:35:54.181Z"
   },
   {
    "duration": 8,
    "start_time": "2022-02-01T07:35:54.189Z"
   },
   {
    "duration": 17,
    "start_time": "2022-02-01T07:35:54.198Z"
   },
   {
    "duration": 19,
    "start_time": "2022-02-01T07:35:54.227Z"
   },
   {
    "duration": 15,
    "start_time": "2022-02-01T07:35:54.248Z"
   },
   {
    "duration": 227,
    "start_time": "2022-02-01T07:35:54.264Z"
   },
   {
    "duration": 9,
    "start_time": "2022-02-01T07:35:54.493Z"
   },
   {
    "duration": 30,
    "start_time": "2022-02-01T07:35:54.504Z"
   },
   {
    "duration": 16,
    "start_time": "2022-02-01T07:35:54.536Z"
   },
   {
    "duration": 16,
    "start_time": "2022-02-01T07:35:54.554Z"
   },
   {
    "duration": 258,
    "start_time": "2022-02-01T07:35:54.571Z"
   },
   {
    "duration": 229,
    "start_time": "2022-02-01T07:35:54.831Z"
   },
   {
    "duration": 219,
    "start_time": "2022-02-01T07:35:55.062Z"
   },
   {
    "duration": 16,
    "start_time": "2022-02-01T07:35:55.283Z"
   },
   {
    "duration": 233,
    "start_time": "2022-02-01T07:35:55.300Z"
   },
   {
    "duration": 322,
    "start_time": "2022-02-01T07:35:55.534Z"
   },
   {
    "duration": 229,
    "start_time": "2022-02-01T07:35:55.858Z"
   },
   {
    "duration": 322,
    "start_time": "2022-02-01T07:35:56.089Z"
   },
   {
    "duration": 261,
    "start_time": "2022-02-01T07:35:56.413Z"
   },
   {
    "duration": 263,
    "start_time": "2022-02-01T07:35:56.676Z"
   },
   {
    "duration": 4,
    "start_time": "2022-02-01T07:35:56.940Z"
   },
   {
    "duration": 6,
    "start_time": "2022-02-01T07:35:56.946Z"
   },
   {
    "duration": 10,
    "start_time": "2022-02-01T07:35:56.953Z"
   },
   {
    "duration": 7,
    "start_time": "2022-02-01T07:35:56.965Z"
   },
   {
    "duration": 4,
    "start_time": "2022-02-01T07:35:56.974Z"
   },
   {
    "duration": 210,
    "start_time": "2022-02-01T07:35:56.980Z"
   },
   {
    "duration": 209,
    "start_time": "2022-02-01T07:35:57.192Z"
   },
   {
    "duration": 196,
    "start_time": "2022-02-01T07:35:57.403Z"
   },
   {
    "duration": 212,
    "start_time": "2022-02-01T07:35:57.600Z"
   },
   {
    "duration": 202,
    "start_time": "2022-02-01T07:35:57.813Z"
   },
   {
    "duration": 206,
    "start_time": "2022-02-01T07:35:58.016Z"
   },
   {
    "duration": 7,
    "start_time": "2022-02-01T07:35:58.227Z"
   },
   {
    "duration": 11,
    "start_time": "2022-02-01T07:35:58.235Z"
   },
   {
    "duration": 9,
    "start_time": "2022-02-01T07:35:58.247Z"
   },
   {
    "duration": 10,
    "start_time": "2022-02-01T07:35:58.257Z"
   },
   {
    "duration": 4,
    "start_time": "2022-02-01T07:35:58.269Z"
   },
   {
    "duration": 5,
    "start_time": "2022-02-01T07:35:58.274Z"
   },
   {
    "duration": 5,
    "start_time": "2022-02-01T07:35:58.281Z"
   },
   {
    "duration": 1069,
    "start_time": "2022-02-01T07:36:29.358Z"
   },
   {
    "duration": 383,
    "start_time": "2022-02-01T07:36:30.428Z"
   },
   {
    "duration": 23,
    "start_time": "2022-02-01T07:36:30.813Z"
   },
   {
    "duration": 374,
    "start_time": "2022-02-01T07:36:30.838Z"
   },
   {
    "duration": 17,
    "start_time": "2022-02-01T07:36:31.214Z"
   },
   {
    "duration": 344,
    "start_time": "2022-02-01T07:36:31.233Z"
   },
   {
    "duration": 12,
    "start_time": "2022-02-01T07:36:31.578Z"
   },
   {
    "duration": 261,
    "start_time": "2022-02-01T07:36:31.593Z"
   },
   {
    "duration": 5,
    "start_time": "2022-02-01T07:36:31.856Z"
   },
   {
    "duration": 280,
    "start_time": "2022-02-01T07:36:31.862Z"
   },
   {
    "duration": 6,
    "start_time": "2022-02-01T07:36:32.143Z"
   },
   {
    "duration": 66,
    "start_time": "2022-02-01T07:36:32.151Z"
   },
   {
    "duration": 8,
    "start_time": "2022-02-01T07:36:32.219Z"
   },
   {
    "duration": 45,
    "start_time": "2022-02-01T07:36:32.228Z"
   },
   {
    "duration": 36,
    "start_time": "2022-02-01T07:36:32.274Z"
   },
   {
    "duration": 23,
    "start_time": "2022-02-01T07:36:32.326Z"
   },
   {
    "duration": 30,
    "start_time": "2022-02-01T07:36:32.351Z"
   },
   {
    "duration": 46,
    "start_time": "2022-02-01T07:36:32.382Z"
   },
   {
    "duration": 5,
    "start_time": "2022-02-01T07:36:32.429Z"
   },
   {
    "duration": 13,
    "start_time": "2022-02-01T07:36:32.436Z"
   },
   {
    "duration": 7,
    "start_time": "2022-02-01T07:36:32.450Z"
   },
   {
    "duration": 6,
    "start_time": "2022-02-01T07:36:32.458Z"
   },
   {
    "duration": 9,
    "start_time": "2022-02-01T07:36:32.468Z"
   },
   {
    "duration": 8,
    "start_time": "2022-02-01T07:36:32.479Z"
   },
   {
    "duration": 7,
    "start_time": "2022-02-01T07:36:32.488Z"
   },
   {
    "duration": 7,
    "start_time": "2022-02-01T07:36:32.527Z"
   },
   {
    "duration": 10,
    "start_time": "2022-02-01T07:36:32.535Z"
   },
   {
    "duration": 9,
    "start_time": "2022-02-01T07:36:32.547Z"
   },
   {
    "duration": 6,
    "start_time": "2022-02-01T07:36:32.558Z"
   },
   {
    "duration": 7,
    "start_time": "2022-02-01T07:36:32.565Z"
   },
   {
    "duration": 7,
    "start_time": "2022-02-01T07:36:32.573Z"
   },
   {
    "duration": 7,
    "start_time": "2022-02-01T07:36:32.581Z"
   },
   {
    "duration": 43,
    "start_time": "2022-02-01T07:36:32.590Z"
   },
   {
    "duration": 11,
    "start_time": "2022-02-01T07:36:32.635Z"
   },
   {
    "duration": 210,
    "start_time": "2022-02-01T07:36:32.648Z"
   },
   {
    "duration": 9,
    "start_time": "2022-02-01T07:36:32.859Z"
   },
   {
    "duration": 19,
    "start_time": "2022-02-01T07:36:32.870Z"
   },
   {
    "duration": 18,
    "start_time": "2022-02-01T07:36:32.890Z"
   },
   {
    "duration": 31,
    "start_time": "2022-02-01T07:36:32.909Z"
   },
   {
    "duration": 227,
    "start_time": "2022-02-01T07:36:32.942Z"
   },
   {
    "duration": 235,
    "start_time": "2022-02-01T07:36:33.171Z"
   },
   {
    "duration": 223,
    "start_time": "2022-02-01T07:36:33.407Z"
   },
   {
    "duration": 14,
    "start_time": "2022-02-01T07:36:33.632Z"
   },
   {
    "duration": 223,
    "start_time": "2022-02-01T07:36:33.648Z"
   },
   {
    "duration": 236,
    "start_time": "2022-02-01T07:36:33.873Z"
   },
   {
    "duration": 229,
    "start_time": "2022-02-01T07:36:34.110Z"
   },
   {
    "duration": 316,
    "start_time": "2022-02-01T07:36:34.340Z"
   },
   {
    "duration": 270,
    "start_time": "2022-02-01T07:36:34.657Z"
   },
   {
    "duration": 259,
    "start_time": "2022-02-01T07:36:34.928Z"
   },
   {
    "duration": 5,
    "start_time": "2022-02-01T07:36:35.188Z"
   },
   {
    "duration": 10,
    "start_time": "2022-02-01T07:36:35.195Z"
   },
   {
    "duration": 8,
    "start_time": "2022-02-01T07:36:35.207Z"
   },
   {
    "duration": 13,
    "start_time": "2022-02-01T07:36:35.216Z"
   },
   {
    "duration": 7,
    "start_time": "2022-02-01T07:36:35.231Z"
   },
   {
    "duration": 200,
    "start_time": "2022-02-01T07:36:35.240Z"
   },
   {
    "duration": 206,
    "start_time": "2022-02-01T07:36:35.441Z"
   },
   {
    "duration": 202,
    "start_time": "2022-02-01T07:36:35.648Z"
   },
   {
    "duration": 210,
    "start_time": "2022-02-01T07:36:35.851Z"
   },
   {
    "duration": 209,
    "start_time": "2022-02-01T07:36:36.062Z"
   },
   {
    "duration": 195,
    "start_time": "2022-02-01T07:36:36.272Z"
   },
   {
    "duration": 7,
    "start_time": "2022-02-01T07:36:36.468Z"
   },
   {
    "duration": 6,
    "start_time": "2022-02-01T07:36:36.477Z"
   },
   {
    "duration": 7,
    "start_time": "2022-02-01T07:36:36.484Z"
   },
   {
    "duration": 7,
    "start_time": "2022-02-01T07:36:36.492Z"
   },
   {
    "duration": 5,
    "start_time": "2022-02-01T07:36:36.500Z"
   },
   {
    "duration": 4,
    "start_time": "2022-02-01T07:36:36.526Z"
   },
   {
    "duration": 5,
    "start_time": "2022-02-01T07:36:36.532Z"
   },
   {
    "duration": 1247,
    "start_time": "2022-02-01T09:18:37.023Z"
   },
   {
    "duration": 345,
    "start_time": "2022-02-01T09:18:38.273Z"
   },
   {
    "duration": 38,
    "start_time": "2022-02-01T09:18:38.621Z"
   },
   {
    "duration": 360,
    "start_time": "2022-02-01T09:18:38.662Z"
   },
   {
    "duration": 29,
    "start_time": "2022-02-01T09:18:39.024Z"
   },
   {
    "duration": 265,
    "start_time": "2022-02-01T09:18:39.055Z"
   },
   {
    "duration": 17,
    "start_time": "2022-02-01T09:18:39.322Z"
   },
   {
    "duration": 204,
    "start_time": "2022-02-01T09:18:39.342Z"
   },
   {
    "duration": 6,
    "start_time": "2022-02-01T09:18:39.549Z"
   },
   {
    "duration": 232,
    "start_time": "2022-02-01T09:18:39.557Z"
   },
   {
    "duration": 7,
    "start_time": "2022-02-01T09:18:39.791Z"
   },
   {
    "duration": 81,
    "start_time": "2022-02-01T09:18:39.801Z"
   },
   {
    "duration": 7,
    "start_time": "2022-02-01T09:18:39.884Z"
   },
   {
    "duration": 63,
    "start_time": "2022-02-01T09:18:39.893Z"
   },
   {
    "duration": 64,
    "start_time": "2022-02-01T09:18:39.958Z"
   },
   {
    "duration": 33,
    "start_time": "2022-02-01T09:18:40.024Z"
   },
   {
    "duration": 65,
    "start_time": "2022-02-01T09:18:40.059Z"
   },
   {
    "duration": 41,
    "start_time": "2022-02-01T09:18:40.126Z"
   },
   {
    "duration": 8,
    "start_time": "2022-02-01T09:18:40.170Z"
   },
   {
    "duration": 40,
    "start_time": "2022-02-01T09:18:40.180Z"
   },
   {
    "duration": 11,
    "start_time": "2022-02-01T09:18:40.222Z"
   },
   {
    "duration": 10,
    "start_time": "2022-02-01T09:18:40.236Z"
   },
   {
    "duration": 14,
    "start_time": "2022-02-01T09:18:40.252Z"
   },
   {
    "duration": 51,
    "start_time": "2022-02-01T09:18:40.269Z"
   },
   {
    "duration": 8,
    "start_time": "2022-02-01T09:18:40.322Z"
   },
   {
    "duration": 14,
    "start_time": "2022-02-01T09:18:40.332Z"
   },
   {
    "duration": 17,
    "start_time": "2022-02-01T09:18:40.348Z"
   },
   {
    "duration": 9,
    "start_time": "2022-02-01T09:18:40.367Z"
   },
   {
    "duration": 30,
    "start_time": "2022-02-01T09:18:40.378Z"
   },
   {
    "duration": 9,
    "start_time": "2022-02-01T09:18:40.410Z"
   },
   {
    "duration": 19,
    "start_time": "2022-02-01T09:18:40.421Z"
   },
   {
    "duration": 15,
    "start_time": "2022-02-01T09:18:40.442Z"
   },
   {
    "duration": 23,
    "start_time": "2022-02-01T09:18:40.460Z"
   },
   {
    "duration": 38,
    "start_time": "2022-02-01T09:18:40.485Z"
   },
   {
    "duration": 265,
    "start_time": "2022-02-01T09:18:40.525Z"
   },
   {
    "duration": 26,
    "start_time": "2022-02-01T09:18:40.793Z"
   },
   {
    "duration": 23,
    "start_time": "2022-02-01T09:18:40.822Z"
   },
   {
    "duration": 61,
    "start_time": "2022-02-01T09:18:40.847Z"
   },
   {
    "duration": 20,
    "start_time": "2022-02-01T09:18:40.910Z"
   },
   {
    "duration": 538,
    "start_time": "2022-02-01T09:18:40.931Z"
   },
   {
    "duration": 303,
    "start_time": "2022-02-01T09:18:41.471Z"
   },
   {
    "duration": 282,
    "start_time": "2022-02-01T09:18:41.776Z"
   },
   {
    "duration": 20,
    "start_time": "2022-02-01T09:18:42.061Z"
   },
   {
    "duration": 298,
    "start_time": "2022-02-01T09:18:42.083Z"
   },
   {
    "duration": 299,
    "start_time": "2022-02-01T09:18:42.383Z"
   },
   {
    "duration": 297,
    "start_time": "2022-02-01T09:18:42.684Z"
   },
   {
    "duration": 414,
    "start_time": "2022-02-01T09:18:42.983Z"
   },
   {
    "duration": 337,
    "start_time": "2022-02-01T09:18:43.399Z"
   },
   {
    "duration": 341,
    "start_time": "2022-02-01T09:18:43.738Z"
   },
   {
    "duration": 6,
    "start_time": "2022-02-01T09:18:44.081Z"
   },
   {
    "duration": 30,
    "start_time": "2022-02-01T09:18:44.089Z"
   },
   {
    "duration": 6,
    "start_time": "2022-02-01T09:18:44.121Z"
   },
   {
    "duration": 8,
    "start_time": "2022-02-01T09:18:44.129Z"
   },
   {
    "duration": 7,
    "start_time": "2022-02-01T09:18:44.139Z"
   },
   {
    "duration": 285,
    "start_time": "2022-02-01T09:18:44.148Z"
   },
   {
    "duration": 268,
    "start_time": "2022-02-01T09:18:44.435Z"
   },
   {
    "duration": 286,
    "start_time": "2022-02-01T09:18:44.704Z"
   },
   {
    "duration": 284,
    "start_time": "2022-02-01T09:18:44.993Z"
   },
   {
    "duration": 268,
    "start_time": "2022-02-01T09:18:45.280Z"
   },
   {
    "duration": 251,
    "start_time": "2022-02-01T09:18:45.550Z"
   },
   {
    "duration": 8,
    "start_time": "2022-02-01T09:18:45.807Z"
   },
   {
    "duration": 8,
    "start_time": "2022-02-01T09:18:45.817Z"
   },
   {
    "duration": 9,
    "start_time": "2022-02-01T09:18:45.827Z"
   },
   {
    "duration": 10,
    "start_time": "2022-02-01T09:18:45.838Z"
   },
   {
    "duration": 13,
    "start_time": "2022-02-01T09:18:45.850Z"
   },
   {
    "duration": 9,
    "start_time": "2022-02-01T09:18:45.865Z"
   },
   {
    "duration": 35,
    "start_time": "2022-02-01T09:18:45.876Z"
   }
  ],
  "kernelspec": {
   "display_name": "Python 3 (ipykernel)",
   "language": "python",
   "name": "python3"
  },
  "language_info": {
   "codemirror_mode": {
    "name": "ipython",
    "version": 3
   },
   "file_extension": ".py",
   "mimetype": "text/x-python",
   "name": "python",
   "nbconvert_exporter": "python",
   "pygments_lexer": "ipython3",
   "version": "3.9.7"
  },
  "toc": {
   "base_numbering": 1,
   "nav_menu": {},
   "number_sections": true,
   "sideBar": true,
   "skip_h1_title": true,
   "title_cell": "Table of Contents",
   "title_sidebar": "Contents",
   "toc_cell": false,
   "toc_position": {
    "height": "calc(100% - 180px)",
    "left": "10px",
    "top": "150px",
    "width": "234.933px"
   },
   "toc_section_display": true,
   "toc_window_display": true
  }
 },
 "nbformat": 4,
 "nbformat_minor": 2
}
