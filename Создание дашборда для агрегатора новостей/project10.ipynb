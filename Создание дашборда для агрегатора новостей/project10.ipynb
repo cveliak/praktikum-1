{
 "cells": [
  {
   "cell_type": "markdown",
   "metadata": {},
   "source": [
    "# Создание дашборда по пользовательским событиям для агрегатора новостей"
   ]
  },
  {
   "cell_type": "markdown",
   "metadata": {},
   "source": [
    "**Описание проекта**\n",
    "\n",
    "Яндекс. Дзен проводит анализ пользовательского взаимодействия с карточками статей. Каждую карточку определяют ее тема и источник, у которого также есть тема. Пользователей системы характеризует возрастная категория. Для менеджеров нужно сделать дашборд на основе файла выгруженных данных dash_visits.csv. "
   ]
  },
  {
   "cell_type": "markdown",
   "metadata": {},
   "source": [
    "**Задача проекта**\n",
    "\n",
    "Используя данные Яндекс.Дзена построить дашборд с метриками взаимодействия пользователей с карточками статей. Дашборд должен помочь ответить на следующие вопросы:\n",
    "- Cколько взаимодействия пользователей с карточками происходит в системе с разбивкой по темам карточек?\n",
    "- Как много карточек генерируют источники с разными темами?\n",
    "- Как соотносятся темы карточек и темы источников?"
   ]
  },
  {
   "cell_type": "markdown",
   "metadata": {},
   "source": [
    "**План работы**\n",
    "- Подключиться к базе\n",
    "- Выгрузить файл с данными для дашборда\n",
    "- В Tableau Public на основе выгруженного файла сформировать дашборд в соответствии с утвержденным макетом\n",
    "- Ответить на поставленные вопросы\n",
    "- Подготовить презентацию с отчетом: ответы на вопросы и графики"
   ]
  },
  {
   "cell_type": "markdown",
   "metadata": {},
   "source": [
    "## Подключение к базе"
   ]
  },
  {
   "cell_type": "code",
   "execution_count": 1,
   "metadata": {},
   "outputs": [
    {
     "name": "stdout",
     "output_type": "stream",
     "text": [
      "Requirement already satisfied: psycopg2 in c:\\users\\ot\\anaconda3\\lib\\site-packages (2.9.3)\n"
     ]
    }
   ],
   "source": [
    "!pip install psycopg2"
   ]
  },
  {
   "cell_type": "markdown",
   "metadata": {},
   "source": [
    "Создаем соединение с базой:"
   ]
  },
  {
   "cell_type": "code",
   "execution_count": 2,
   "metadata": {},
   "outputs": [],
   "source": [
    "# импортируем библиотеки\n",
    "import pandas as pd\n",
    "from sqlalchemy import create_engine\n",
    "\n",
    "db_config = {'user': 'praktikum_student', # имя пользователя\n",
    "            'pwd': 'Sdf4$2;d-d30pp', # пароль\n",
    "            'host': 'rc1b-wcoijxj3yxfsf3fs.mdb.yandexcloud.net',\n",
    "            'port': 6432, # порт подключения\n",
    "            'db': 'data-analyst-zen-project-db'} # название базы данных\n",
    "\n",
    "connection_string = 'postgresql://{}:{}@{}:{}/{}'.format(db_config['user'],\n",
    "                                                db_config['pwd'],\n",
    "                                                db_config['host'],\n",
    "                                                db_config['port'],\n",
    "                                                db_config['db'])\n",
    "\n",
    "engine = create_engine(connection_string)"
   ]
  },
  {
   "cell_type": "markdown",
   "metadata": {},
   "source": [
    "## Загрузка файла для создания дашборда"
   ]
  },
  {
   "cell_type": "markdown",
   "metadata": {},
   "source": [
    "Загружаем данные из таблицы dash_visits в файл dash_visits.csv"
   ]
  },
  {
   "cell_type": "code",
   "execution_count": 3,
   "metadata": {},
   "outputs": [
    {
     "data": {
      "text/html": [
       "<div>\n",
       "<style scoped>\n",
       "    .dataframe tbody tr th:only-of-type {\n",
       "        vertical-align: middle;\n",
       "    }\n",
       "\n",
       "    .dataframe tbody tr th {\n",
       "        vertical-align: top;\n",
       "    }\n",
       "\n",
       "    .dataframe thead th {\n",
       "        text-align: right;\n",
       "    }\n",
       "</style>\n",
       "<table border=\"1\" class=\"dataframe\">\n",
       "  <thead>\n",
       "    <tr style=\"text-align: right;\">\n",
       "      <th></th>\n",
       "      <th>record_id</th>\n",
       "      <th>item_topic</th>\n",
       "      <th>source_topic</th>\n",
       "      <th>age_segment</th>\n",
       "      <th>dt</th>\n",
       "      <th>visits</th>\n",
       "    </tr>\n",
       "  </thead>\n",
       "  <tbody>\n",
       "    <tr>\n",
       "      <th>0</th>\n",
       "      <td>1040597</td>\n",
       "      <td>Деньги</td>\n",
       "      <td>Авто</td>\n",
       "      <td>18-25</td>\n",
       "      <td>2019-09-24 18:32:00</td>\n",
       "      <td>3</td>\n",
       "    </tr>\n",
       "    <tr>\n",
       "      <th>1</th>\n",
       "      <td>1040598</td>\n",
       "      <td>Деньги</td>\n",
       "      <td>Авто</td>\n",
       "      <td>18-25</td>\n",
       "      <td>2019-09-24 18:35:00</td>\n",
       "      <td>1</td>\n",
       "    </tr>\n",
       "    <tr>\n",
       "      <th>2</th>\n",
       "      <td>1040599</td>\n",
       "      <td>Деньги</td>\n",
       "      <td>Авто</td>\n",
       "      <td>18-25</td>\n",
       "      <td>2019-09-24 18:54:00</td>\n",
       "      <td>4</td>\n",
       "    </tr>\n",
       "    <tr>\n",
       "      <th>3</th>\n",
       "      <td>1040600</td>\n",
       "      <td>Деньги</td>\n",
       "      <td>Авто</td>\n",
       "      <td>18-25</td>\n",
       "      <td>2019-09-24 18:55:00</td>\n",
       "      <td>17</td>\n",
       "    </tr>\n",
       "    <tr>\n",
       "      <th>4</th>\n",
       "      <td>1040601</td>\n",
       "      <td>Деньги</td>\n",
       "      <td>Авто</td>\n",
       "      <td>18-25</td>\n",
       "      <td>2019-09-24 18:56:00</td>\n",
       "      <td>27</td>\n",
       "    </tr>\n",
       "  </tbody>\n",
       "</table>\n",
       "</div>"
      ],
      "text/plain": [
       "   record_id item_topic source_topic age_segment                  dt  visits\n",
       "0    1040597     Деньги         Авто       18-25 2019-09-24 18:32:00       3\n",
       "1    1040598     Деньги         Авто       18-25 2019-09-24 18:35:00       1\n",
       "2    1040599     Деньги         Авто       18-25 2019-09-24 18:54:00       4\n",
       "3    1040600     Деньги         Авто       18-25 2019-09-24 18:55:00      17\n",
       "4    1040601     Деньги         Авто       18-25 2019-09-24 18:56:00      27"
      ]
     },
     "execution_count": 3,
     "metadata": {},
     "output_type": "execute_result"
    }
   ],
   "source": [
    "#запрос к базе\n",
    "query = ''' SELECT * \n",
    "        FROM dash_visits\n",
    "    '''\n",
    "dash_visits = pd.io.sql.read_sql(query, con = engine) \n",
    "dash_visits.head(5)"
   ]
  },
  {
   "cell_type": "markdown",
   "metadata": {},
   "source": [
    "В таблице 6 колонок:\n",
    "- record_id - номер записи\n",
    "- item_topic - тема карточки\n",
    "- source_topic - тема источника (карточки, с которой осуществляется переход на другую карточу)\n",
    "- age_segment - возрастная категория пользователя\n",
    "- dt - дата и время события\n",
    "- visits - количество событий"
   ]
  },
  {
   "cell_type": "code",
   "execution_count": 4,
   "metadata": {},
   "outputs": [
    {
     "name": "stdout",
     "output_type": "stream",
     "text": [
      "Всего событий: 310207\n"
     ]
    }
   ],
   "source": [
    "#считаем общее число событий\n",
    "print('Всего событий:', dash_visits['visits'].sum())"
   ]
  },
  {
   "cell_type": "code",
   "execution_count": 5,
   "metadata": {},
   "outputs": [
    {
     "data": {
      "text/html": [
       "<div>\n",
       "<style scoped>\n",
       "    .dataframe tbody tr th:only-of-type {\n",
       "        vertical-align: middle;\n",
       "    }\n",
       "\n",
       "    .dataframe tbody tr th {\n",
       "        vertical-align: top;\n",
       "    }\n",
       "\n",
       "    .dataframe thead th {\n",
       "        text-align: right;\n",
       "    }\n",
       "</style>\n",
       "<table border=\"1\" class=\"dataframe\">\n",
       "  <thead>\n",
       "    <tr style=\"text-align: right;\">\n",
       "      <th></th>\n",
       "      <th>record_id</th>\n",
       "      <th>visits</th>\n",
       "    </tr>\n",
       "    <tr>\n",
       "      <th>item_topic</th>\n",
       "      <th></th>\n",
       "      <th></th>\n",
       "    </tr>\n",
       "  </thead>\n",
       "  <tbody>\n",
       "    <tr>\n",
       "      <th>Наука</th>\n",
       "      <td>1587030025</td>\n",
       "      <td>21736</td>\n",
       "    </tr>\n",
       "    <tr>\n",
       "      <th>Отношения</th>\n",
       "      <td>1624239360</td>\n",
       "      <td>20666</td>\n",
       "    </tr>\n",
       "    <tr>\n",
       "      <th>Интересные факты</th>\n",
       "      <td>1608910250</td>\n",
       "      <td>19942</td>\n",
       "    </tr>\n",
       "    <tr>\n",
       "      <th>Общество</th>\n",
       "      <td>1501587207</td>\n",
       "      <td>19640</td>\n",
       "    </tr>\n",
       "    <tr>\n",
       "      <th>Подборки</th>\n",
       "      <td>1541821736</td>\n",
       "      <td>17772</td>\n",
       "    </tr>\n",
       "  </tbody>\n",
       "</table>\n",
       "</div>"
      ],
      "text/plain": [
       "                   record_id  visits\n",
       "item_topic                          \n",
       "Наука             1587030025   21736\n",
       "Отношения         1624239360   20666\n",
       "Интересные факты  1608910250   19942\n",
       "Общество          1501587207   19640\n",
       "Подборки          1541821736   17772"
      ]
     },
     "execution_count": 5,
     "metadata": {},
     "output_type": "execute_result"
    }
   ],
   "source": [
    "#определим топ-5 карточек, с которыми было больше всего взаимодействий\n",
    "df = dash_visits.groupby('item_topic').sum().sort_values(by='visits', ascending=False)\n",
    "df.head(5)"
   ]
  },
  {
   "cell_type": "code",
   "execution_count": 6,
   "metadata": {},
   "outputs": [
    {
     "data": {
      "text/plain": [
       "99756"
      ]
     },
     "execution_count": 6,
     "metadata": {},
     "output_type": "execute_result"
    }
   ],
   "source": [
    "sum = df.head(5)\n",
    "sum['visits'].sum()"
   ]
  },
  {
   "cell_type": "code",
   "execution_count": 7,
   "metadata": {},
   "outputs": [
    {
     "name": "stdout",
     "output_type": "stream",
     "text": [
      "Начало периода: 2019-09-24 18:28:00\n",
      "Окончание периода: 2019-09-24 19:00:00\n"
     ]
    }
   ],
   "source": [
    "#определяем временной интервал\n",
    "print('Начало периода:', dash_visits['dt'].min())\n",
    "print('Окончание периода:', dash_visits['dt']. max())"
   ]
  },
  {
   "cell_type": "markdown",
   "metadata": {},
   "source": [
    "Данные за один день 24.09.2019 за полчаса с 18:28 до 19:00"
   ]
  },
  {
   "cell_type": "code",
   "execution_count": 8,
   "metadata": {},
   "outputs": [],
   "source": [
    "#выгрузка данных в файл dash_visits.csv\n",
    "dash_visits.to_csv('dash_visits.csv', index=False)"
   ]
  },
  {
   "cell_type": "markdown",
   "metadata": {},
   "source": [
    "## Формирование дашборда"
   ]
  },
  {
   "cell_type": "markdown",
   "metadata": {},
   "source": [
    "Ссылка на дашборд:https://public.tableau.com/app/profile/olga.ts8460/viz/sheet4_16506187123000/Dzen?publish=yes"
   ]
  },
  {
   "cell_type": "markdown",
   "metadata": {},
   "source": [
    "## Ответы на поставленные вопросы"
   ]
  },
  {
   "cell_type": "markdown",
   "metadata": {},
   "source": [
    "1.Cколько взаимодействия пользователей с карточками происходит в системе с разбивкой по темам карточек?\n",
    "- Максимальное количество событий наблюдается по следующим темам карточек: Наука, Отношения, Интересные факты, Общество, Подборки. \n",
    "2.Как много карточек генерируют источники с разными темами?\n",
    "- Топ-5 источников: Cемейные отношения (33309 событий - 10,74%), Россия (29831 событие - 9,62%), Полезные советы (27 412 событий - 8,84%), Путешествия (24 124 события - 7,78%) и Знаменитости (23 945 событий - 7,72%). \n",
    "3.Как соотносятся темы карточек и темы источников?\n",
    " - Максимальное количество событий по темам карточек из источников: Рассказы - Путешествия (4 587 событий), Общество-Россия (3 471 событие), Наука - Кино (3 279 событие), Россия - Россия (2 847 событий), Отношения/Подборки - Полезные советы, История - Путешествия, Общество - Семейные отношения (от 2 643 до 2 795 событий)"
   ]
  },
  {
   "cell_type": "markdown",
   "metadata": {},
   "source": [
    "## Подготовка презентации"
   ]
  },
  {
   "cell_type": "markdown",
   "metadata": {},
   "source": [
    "Ccылка на презентацию:https://disk.yandex.ru/i/7csJS8EWljm0KQ"
   ]
  }
 ],
 "metadata": {
  "ExecuteTimeLog": [
   {
    "duration": 65,
    "start_time": "2021-11-23T11:58:01.403Z"
   },
   {
    "duration": 513,
    "start_time": "2021-11-23T11:58:06.244Z"
   },
   {
    "duration": 139,
    "start_time": "2021-11-23T11:58:44.973Z"
   },
   {
    "duration": 248,
    "start_time": "2021-11-23T11:59:10.637Z"
   },
   {
    "duration": 20,
    "start_time": "2021-11-23T11:59:20.062Z"
   },
   {
    "duration": 24,
    "start_time": "2021-11-23T11:59:55.654Z"
   },
   {
    "duration": 4,
    "start_time": "2021-11-23T12:15:01.091Z"
   },
   {
    "duration": 20,
    "start_time": "2021-11-23T12:22:03.401Z"
   },
   {
    "duration": 4,
    "start_time": "2021-11-23T12:22:11.517Z"
   },
   {
    "duration": 21,
    "start_time": "2021-11-23T12:22:37.621Z"
   },
   {
    "duration": 4,
    "start_time": "2021-11-23T12:22:40.133Z"
   },
   {
    "duration": 21,
    "start_time": "2021-11-23T12:24:31.010Z"
   },
   {
    "duration": 18,
    "start_time": "2021-11-23T12:40:32.735Z"
   },
   {
    "duration": 22,
    "start_time": "2021-11-23T12:40:47.131Z"
   },
   {
    "duration": 54,
    "start_time": "2021-11-23T12:42:30.421Z"
   },
   {
    "duration": 66,
    "start_time": "2021-11-23T12:45:29.416Z"
   },
   {
    "duration": 52,
    "start_time": "2021-11-23T12:45:40.776Z"
   },
   {
    "duration": 56,
    "start_time": "2021-11-23T12:45:52.497Z"
   },
   {
    "duration": 48,
    "start_time": "2021-11-23T12:45:56.360Z"
   },
   {
    "duration": 5,
    "start_time": "2021-11-23T12:49:13.757Z"
   },
   {
    "duration": 185,
    "start_time": "2021-11-23T12:49:58.734Z"
   },
   {
    "duration": 68,
    "start_time": "2021-11-23T12:50:13.341Z"
   },
   {
    "duration": 68,
    "start_time": "2021-11-23T12:59:55.508Z"
   },
   {
    "duration": 5,
    "start_time": "2021-11-23T13:00:03.990Z"
   },
   {
    "duration": 5,
    "start_time": "2021-11-23T13:03:20.171Z"
   },
   {
    "duration": 5,
    "start_time": "2021-11-23T13:03:54.146Z"
   },
   {
    "duration": 3,
    "start_time": "2021-11-23T13:05:26.244Z"
   },
   {
    "duration": 3,
    "start_time": "2021-11-23T13:05:29.756Z"
   },
   {
    "duration": 324,
    "start_time": "2021-11-23T13:06:33.069Z"
   },
   {
    "duration": 5274,
    "start_time": "2021-11-23T13:06:38.175Z"
   },
   {
    "duration": -17,
    "start_time": "2021-11-23T13:08:26.354Z"
   },
   {
    "duration": 5067,
    "start_time": "2021-11-23T13:08:28.616Z"
   },
   {
    "duration": 6,
    "start_time": "2021-11-23T13:08:47.416Z"
   },
   {
    "duration": 6,
    "start_time": "2021-11-23T13:08:56.064Z"
   },
   {
    "duration": 5,
    "start_time": "2021-11-23T13:09:04.225Z"
   },
   {
    "duration": 193,
    "start_time": "2021-11-23T13:09:30.137Z"
   },
   {
    "duration": 7,
    "start_time": "2021-11-23T13:09:51.380Z"
   },
   {
    "duration": 4,
    "start_time": "2021-11-23T13:11:28.388Z"
   },
   {
    "duration": 4,
    "start_time": "2021-11-23T13:12:05.716Z"
   },
   {
    "duration": 5,
    "start_time": "2021-11-23T13:12:10.284Z"
   },
   {
    "duration": 4,
    "start_time": "2021-11-23T13:12:16.020Z"
   },
   {
    "duration": 42,
    "start_time": "2021-11-23T13:13:53.206Z"
   },
   {
    "duration": 54,
    "start_time": "2021-11-23T13:14:01.038Z"
   },
   {
    "duration": 337,
    "start_time": "2021-11-23T13:14:51.598Z"
   },
   {
    "duration": 5343,
    "start_time": "2021-11-23T13:15:02.383Z"
   },
   {
    "duration": 4849,
    "start_time": "2021-11-23T13:17:03.370Z"
   },
   {
    "duration": 50,
    "start_time": "2021-11-23T13:17:34.563Z"
   },
   {
    "duration": 5239,
    "start_time": "2021-11-23T13:19:40.698Z"
   },
   {
    "duration": 4662,
    "start_time": "2021-11-23T13:20:25.486Z"
   },
   {
    "duration": 44,
    "start_time": "2021-11-23T13:20:41.927Z"
   },
   {
    "duration": 4515,
    "start_time": "2021-11-23T13:23:24.761Z"
   },
   {
    "duration": 209,
    "start_time": "2021-11-23T13:41:15.985Z"
   },
   {
    "duration": 5,
    "start_time": "2021-11-23T13:41:33.378Z"
   },
   {
    "duration": 5,
    "start_time": "2021-11-23T13:42:38.099Z"
   },
   {
    "duration": 5,
    "start_time": "2021-11-23T13:43:09.435Z"
   },
   {
    "duration": 5,
    "start_time": "2021-11-23T13:43:36.500Z"
   },
   {
    "duration": 44,
    "start_time": "2021-11-23T13:44:35.262Z"
   },
   {
    "duration": 55,
    "start_time": "2021-11-23T13:44:50.725Z"
   },
   {
    "duration": 52,
    "start_time": "2021-11-23T13:45:25.453Z"
   },
   {
    "duration": 44,
    "start_time": "2021-11-23T13:45:48.983Z"
   },
   {
    "duration": 47,
    "start_time": "2021-11-23T13:46:49.760Z"
   },
   {
    "duration": 50,
    "start_time": "2021-11-23T13:48:46.386Z"
   },
   {
    "duration": 49,
    "start_time": "2021-11-23T13:49:31.315Z"
   },
   {
    "duration": 6,
    "start_time": "2021-11-23T14:02:46.192Z"
   },
   {
    "duration": 4986,
    "start_time": "2021-11-23T14:04:01.652Z"
   },
   {
    "duration": 11,
    "start_time": "2021-11-23T14:05:00.775Z"
   },
   {
    "duration": 4,
    "start_time": "2021-11-23T14:24:39.917Z"
   },
   {
    "duration": 3,
    "start_time": "2021-11-23T14:24:52.951Z"
   },
   {
    "duration": 182,
    "start_time": "2021-11-23T14:25:58.393Z"
   },
   {
    "duration": 196,
    "start_time": "2021-11-23T14:27:17.906Z"
   },
   {
    "duration": 183,
    "start_time": "2021-11-23T14:27:43.299Z"
   },
   {
    "duration": 4,
    "start_time": "2021-11-23T14:31:10.286Z"
   },
   {
    "duration": 389,
    "start_time": "2021-11-23T14:32:44.248Z"
   },
   {
    "duration": 3,
    "start_time": "2021-11-23T14:39:03.392Z"
   },
   {
    "duration": 270,
    "start_time": "2021-11-23T14:40:07.137Z"
   },
   {
    "duration": 230,
    "start_time": "2021-11-23T14:40:58.696Z"
   },
   {
    "duration": 9,
    "start_time": "2021-11-23T14:41:18.506Z"
   },
   {
    "duration": 18,
    "start_time": "2021-11-23T14:41:30.978Z"
   },
   {
    "duration": 48,
    "start_time": "2021-11-23T14:42:20.356Z"
   },
   {
    "duration": 348,
    "start_time": "2021-11-24T11:53:49.924Z"
   },
   {
    "duration": 355,
    "start_time": "2021-11-24T11:54:39.237Z"
   },
   {
    "duration": 298,
    "start_time": "2021-11-24T11:54:49.607Z"
   },
   {
    "duration": 81,
    "start_time": "2021-11-24T11:56:13.800Z"
   },
   {
    "duration": 908,
    "start_time": "2021-11-24T11:56:20.625Z"
   },
   {
    "duration": 120,
    "start_time": "2021-11-24T11:57:09.146Z"
   },
   {
    "duration": 136,
    "start_time": "2021-11-24T11:57:15.881Z"
   },
   {
    "duration": 371,
    "start_time": "2021-11-24T11:57:26.993Z"
   },
   {
    "duration": 352,
    "start_time": "2021-11-24T11:59:32.604Z"
   },
   {
    "duration": 280,
    "start_time": "2021-11-24T12:00:59.942Z"
   },
   {
    "duration": 235,
    "start_time": "2021-11-24T12:14:09.057Z"
   },
   {
    "duration": 244,
    "start_time": "2021-11-24T12:14:16.626Z"
   },
   {
    "duration": 427,
    "start_time": "2021-11-24T12:15:06.772Z"
   },
   {
    "duration": 11,
    "start_time": "2021-11-24T12:26:58.513Z"
   },
   {
    "duration": 251,
    "start_time": "2021-11-24T12:35:16.480Z"
   },
   {
    "duration": 58,
    "start_time": "2021-11-24T12:36:31.683Z"
   },
   {
    "duration": 48,
    "start_time": "2021-11-24T12:36:46.275Z"
   },
   {
    "duration": 50,
    "start_time": "2021-11-24T12:37:21.459Z"
   },
   {
    "duration": 46,
    "start_time": "2021-11-24T12:38:34.501Z"
   },
   {
    "duration": 243,
    "start_time": "2021-11-24T12:39:22.862Z"
   },
   {
    "duration": 11,
    "start_time": "2021-11-24T13:11:28.975Z"
   },
   {
    "duration": 11,
    "start_time": "2021-11-24T13:13:10.385Z"
   },
   {
    "duration": 11,
    "start_time": "2021-11-24T13:14:17.189Z"
   },
   {
    "duration": 10,
    "start_time": "2021-11-24T13:14:23.181Z"
   },
   {
    "duration": 623,
    "start_time": "2021-11-24T13:18:39.107Z"
   },
   {
    "duration": 117,
    "start_time": "2021-11-24T13:18:39.732Z"
   },
   {
    "duration": 14,
    "start_time": "2021-11-24T13:18:39.851Z"
   },
   {
    "duration": 30,
    "start_time": "2021-11-24T13:18:39.867Z"
   },
   {
    "duration": 4,
    "start_time": "2021-11-24T13:18:39.898Z"
   },
   {
    "duration": 23,
    "start_time": "2021-11-24T13:18:39.904Z"
   },
   {
    "duration": 3,
    "start_time": "2021-11-24T13:18:39.929Z"
   },
   {
    "duration": 22,
    "start_time": "2021-11-24T13:18:39.935Z"
   },
   {
    "duration": 28,
    "start_time": "2021-11-24T13:18:39.959Z"
   },
   {
    "duration": 19,
    "start_time": "2021-11-24T13:18:39.989Z"
   },
   {
    "duration": 51,
    "start_time": "2021-11-24T13:18:40.010Z"
   },
   {
    "duration": 74,
    "start_time": "2021-11-24T13:18:40.062Z"
   },
   {
    "duration": 52,
    "start_time": "2021-11-24T13:18:40.137Z"
   },
   {
    "duration": 42,
    "start_time": "2021-11-24T13:18:40.190Z"
   },
   {
    "duration": 3,
    "start_time": "2021-11-24T13:18:40.233Z"
   },
   {
    "duration": 17,
    "start_time": "2021-11-24T13:18:40.237Z"
   },
   {
    "duration": 60,
    "start_time": "2021-11-24T13:18:40.256Z"
   },
   {
    "duration": 10,
    "start_time": "2021-11-24T13:18:40.318Z"
   },
   {
    "duration": 4,
    "start_time": "2021-11-24T13:18:40.329Z"
   },
   {
    "duration": 5,
    "start_time": "2021-11-24T13:18:40.335Z"
   },
   {
    "duration": 7,
    "start_time": "2021-11-24T13:18:40.341Z"
   },
   {
    "duration": 5,
    "start_time": "2021-11-24T13:18:40.349Z"
   },
   {
    "duration": 6,
    "start_time": "2021-11-24T13:18:40.356Z"
   },
   {
    "duration": 5,
    "start_time": "2021-11-24T13:18:40.364Z"
   },
   {
    "duration": 2,
    "start_time": "2021-11-24T13:18:40.387Z"
   },
   {
    "duration": 11,
    "start_time": "2021-11-24T13:18:40.390Z"
   },
   {
    "duration": 4,
    "start_time": "2021-11-24T13:18:40.402Z"
   },
   {
    "duration": 7,
    "start_time": "2021-11-24T13:18:40.408Z"
   },
   {
    "duration": 4,
    "start_time": "2021-11-24T13:18:40.416Z"
   },
   {
    "duration": 5,
    "start_time": "2021-11-24T13:18:40.422Z"
   },
   {
    "duration": 6,
    "start_time": "2021-11-24T13:18:40.429Z"
   },
   {
    "duration": 4,
    "start_time": "2021-11-24T13:18:40.436Z"
   },
   {
    "duration": 7,
    "start_time": "2021-11-24T13:18:40.442Z"
   },
   {
    "duration": 8,
    "start_time": "2021-11-24T13:18:40.450Z"
   },
   {
    "duration": 11,
    "start_time": "2021-11-24T13:18:40.459Z"
   },
   {
    "duration": 6,
    "start_time": "2021-11-24T13:18:40.471Z"
   },
   {
    "duration": 10,
    "start_time": "2021-11-24T13:18:40.478Z"
   },
   {
    "duration": 9,
    "start_time": "2021-11-24T13:18:40.489Z"
   },
   {
    "duration": 10,
    "start_time": "2021-11-24T13:19:28.933Z"
   },
   {
    "duration": 332,
    "start_time": "2021-11-24T13:25:55.428Z"
   },
   {
    "duration": 235,
    "start_time": "2021-11-24T13:26:15.484Z"
   },
   {
    "duration": 9,
    "start_time": "2021-11-24T13:26:21.748Z"
   },
   {
    "duration": 80,
    "start_time": "2021-11-24T13:32:53.449Z"
   },
   {
    "duration": 97,
    "start_time": "2021-11-24T13:33:05.652Z"
   },
   {
    "duration": 116,
    "start_time": "2021-11-24T13:33:52.094Z"
   },
   {
    "duration": 4,
    "start_time": "2021-11-24T13:34:00.205Z"
   },
   {
    "duration": 378,
    "start_time": "2021-11-24T13:34:55.718Z"
   },
   {
    "duration": 15,
    "start_time": "2021-11-24T13:35:08.606Z"
   },
   {
    "duration": 74,
    "start_time": "2021-11-24T13:35:42.583Z"
   },
   {
    "duration": 14,
    "start_time": "2021-11-24T13:35:52.870Z"
   },
   {
    "duration": 14,
    "start_time": "2021-11-24T13:36:02.359Z"
   },
   {
    "duration": 14,
    "start_time": "2021-11-24T13:36:14.439Z"
   },
   {
    "duration": 15,
    "start_time": "2021-11-24T13:36:23.735Z"
   },
   {
    "duration": 14,
    "start_time": "2021-11-24T13:36:33.567Z"
   },
   {
    "duration": 1037,
    "start_time": "2021-11-24T13:38:06.761Z"
   },
   {
    "duration": 275,
    "start_time": "2021-11-24T13:38:41.481Z"
   },
   {
    "duration": 728,
    "start_time": "2021-11-24T13:40:00.235Z"
   },
   {
    "duration": 4,
    "start_time": "2021-11-24T13:43:08.783Z"
   },
   {
    "duration": 4,
    "start_time": "2021-11-24T13:43:32.855Z"
   },
   {
    "duration": 5,
    "start_time": "2021-11-24T13:44:04.776Z"
   },
   {
    "duration": 8,
    "start_time": "2021-11-24T13:44:17.912Z"
   },
   {
    "duration": 11,
    "start_time": "2021-11-24T13:47:04.619Z"
   },
   {
    "duration": 19,
    "start_time": "2021-11-24T13:47:14.234Z"
   },
   {
    "duration": 10,
    "start_time": "2021-11-24T13:48:13.684Z"
   },
   {
    "duration": 9,
    "start_time": "2021-11-24T13:48:25.634Z"
   },
   {
    "duration": 16,
    "start_time": "2021-11-24T13:48:30.637Z"
   },
   {
    "duration": 9,
    "start_time": "2021-11-24T13:51:54.888Z"
   },
   {
    "duration": 4,
    "start_time": "2021-11-24T13:53:46.266Z"
   },
   {
    "duration": 3,
    "start_time": "2021-11-24T13:55:58.205Z"
   },
   {
    "duration": 14,
    "start_time": "2021-11-24T14:04:05.051Z"
   },
   {
    "duration": 13,
    "start_time": "2021-11-24T14:04:36.070Z"
   },
   {
    "duration": 13,
    "start_time": "2021-11-24T14:05:42.831Z"
   },
   {
    "duration": 13,
    "start_time": "2021-11-24T14:06:16.921Z"
   },
   {
    "duration": 573,
    "start_time": "2021-11-24T14:09:04.180Z"
   },
   {
    "duration": 125,
    "start_time": "2021-11-24T14:09:04.755Z"
   },
   {
    "duration": 16,
    "start_time": "2021-11-24T14:09:04.882Z"
   },
   {
    "duration": 36,
    "start_time": "2021-11-24T14:09:04.900Z"
   },
   {
    "duration": 5,
    "start_time": "2021-11-24T14:09:04.938Z"
   },
   {
    "duration": 20,
    "start_time": "2021-11-24T14:09:04.945Z"
   },
   {
    "duration": 4,
    "start_time": "2021-11-24T14:09:04.967Z"
   },
   {
    "duration": 36,
    "start_time": "2021-11-24T14:09:04.973Z"
   },
   {
    "duration": 17,
    "start_time": "2021-11-24T14:09:05.011Z"
   },
   {
    "duration": 20,
    "start_time": "2021-11-24T14:09:05.030Z"
   },
   {
    "duration": 78,
    "start_time": "2021-11-24T14:09:05.052Z"
   },
   {
    "duration": 66,
    "start_time": "2021-11-24T14:09:05.132Z"
   },
   {
    "duration": 44,
    "start_time": "2021-11-24T14:09:05.199Z"
   },
   {
    "duration": 51,
    "start_time": "2021-11-24T14:09:05.245Z"
   },
   {
    "duration": 3,
    "start_time": "2021-11-24T14:09:05.297Z"
   },
   {
    "duration": 21,
    "start_time": "2021-11-24T14:09:05.301Z"
   },
   {
    "duration": 45,
    "start_time": "2021-11-24T14:09:05.323Z"
   },
   {
    "duration": 10,
    "start_time": "2021-11-24T14:09:05.387Z"
   },
   {
    "duration": 9,
    "start_time": "2021-11-24T14:09:05.399Z"
   },
   {
    "duration": 3,
    "start_time": "2021-11-24T14:09:05.410Z"
   },
   {
    "duration": 19,
    "start_time": "2021-11-24T14:09:05.415Z"
   },
   {
    "duration": 11,
    "start_time": "2021-11-24T14:09:05.436Z"
   },
   {
    "duration": 11,
    "start_time": "2021-11-24T14:09:05.451Z"
   },
   {
    "duration": 13,
    "start_time": "2021-11-24T14:09:05.488Z"
   },
   {
    "duration": 14,
    "start_time": "2021-11-24T14:09:05.503Z"
   },
   {
    "duration": 13,
    "start_time": "2021-11-24T14:09:05.518Z"
   },
   {
    "duration": 11,
    "start_time": "2021-11-24T14:09:05.533Z"
   },
   {
    "duration": 19,
    "start_time": "2021-11-24T14:09:05.546Z"
   },
   {
    "duration": 16,
    "start_time": "2021-11-24T14:09:05.588Z"
   },
   {
    "duration": 887,
    "start_time": "2021-11-24T14:09:05.605Z"
   },
   {
    "duration": 433,
    "start_time": "2021-11-24T14:09:06.060Z"
   },
   {
    "duration": 423,
    "start_time": "2021-11-24T14:09:06.071Z"
   },
   {
    "duration": 422,
    "start_time": "2021-11-24T14:09:06.073Z"
   },
   {
    "duration": 421,
    "start_time": "2021-11-24T14:09:06.075Z"
   },
   {
    "duration": 421,
    "start_time": "2021-11-24T14:09:06.076Z"
   },
   {
    "duration": 420,
    "start_time": "2021-11-24T14:09:06.078Z"
   },
   {
    "duration": 419,
    "start_time": "2021-11-24T14:09:06.080Z"
   },
   {
    "duration": 3,
    "start_time": "2021-11-24T14:10:08.280Z"
   },
   {
    "duration": 15,
    "start_time": "2021-11-24T14:10:13.270Z"
   },
   {
    "duration": 12,
    "start_time": "2021-11-24T14:10:23.186Z"
   },
   {
    "duration": 17,
    "start_time": "2021-11-24T14:11:05.171Z"
   },
   {
    "duration": 12,
    "start_time": "2021-11-24T14:11:16.963Z"
   },
   {
    "duration": 319,
    "start_time": "2021-11-24T14:13:54.894Z"
   },
   {
    "duration": 9,
    "start_time": "2021-11-24T14:14:04.262Z"
   },
   {
    "duration": 265,
    "start_time": "2021-11-24T14:14:19.055Z"
   },
   {
    "duration": 8,
    "start_time": "2021-11-24T14:14:26.743Z"
   },
   {
    "duration": 5,
    "start_time": "2021-11-24T14:14:29.479Z"
   },
   {
    "duration": 7,
    "start_time": "2021-11-24T14:16:57.993Z"
   },
   {
    "duration": 4,
    "start_time": "2021-11-24T14:17:06.865Z"
   },
   {
    "duration": 302,
    "start_time": "2021-11-24T18:54:16.776Z"
   },
   {
    "duration": 265,
    "start_time": "2021-11-24T18:54:36.064Z"
   },
   {
    "duration": 578,
    "start_time": "2021-11-24T18:55:15.155Z"
   },
   {
    "duration": 129,
    "start_time": "2021-11-24T18:55:15.734Z"
   },
   {
    "duration": 15,
    "start_time": "2021-11-24T18:55:15.865Z"
   },
   {
    "duration": 40,
    "start_time": "2021-11-24T18:55:15.882Z"
   },
   {
    "duration": 7,
    "start_time": "2021-11-24T18:55:15.924Z"
   },
   {
    "duration": 32,
    "start_time": "2021-11-24T18:55:15.932Z"
   },
   {
    "duration": 14,
    "start_time": "2021-11-24T18:55:15.965Z"
   },
   {
    "duration": 33,
    "start_time": "2021-11-24T18:55:15.980Z"
   },
   {
    "duration": 38,
    "start_time": "2021-11-24T18:55:16.016Z"
   },
   {
    "duration": 21,
    "start_time": "2021-11-24T18:55:16.057Z"
   },
   {
    "duration": 70,
    "start_time": "2021-11-24T18:55:16.080Z"
   },
   {
    "duration": 55,
    "start_time": "2021-11-24T18:55:16.152Z"
   },
   {
    "duration": 59,
    "start_time": "2021-11-24T18:55:16.208Z"
   },
   {
    "duration": 54,
    "start_time": "2021-11-24T18:55:16.269Z"
   },
   {
    "duration": 3,
    "start_time": "2021-11-24T18:55:16.324Z"
   },
   {
    "duration": 32,
    "start_time": "2021-11-24T18:55:16.328Z"
   },
   {
    "duration": 60,
    "start_time": "2021-11-24T18:55:16.361Z"
   },
   {
    "duration": 10,
    "start_time": "2021-11-24T18:55:16.423Z"
   },
   {
    "duration": 17,
    "start_time": "2021-11-24T18:55:16.435Z"
   },
   {
    "duration": 11,
    "start_time": "2021-11-24T18:55:16.454Z"
   },
   {
    "duration": 28,
    "start_time": "2021-11-24T18:55:16.467Z"
   },
   {
    "duration": 14,
    "start_time": "2021-11-24T18:55:16.497Z"
   },
   {
    "duration": 24,
    "start_time": "2021-11-24T18:55:16.512Z"
   },
   {
    "duration": 12,
    "start_time": "2021-11-24T18:55:16.538Z"
   },
   {
    "duration": 15,
    "start_time": "2021-11-24T18:55:16.551Z"
   },
   {
    "duration": 15,
    "start_time": "2021-11-24T18:55:16.567Z"
   },
   {
    "duration": 14,
    "start_time": "2021-11-24T18:55:16.586Z"
   },
   {
    "duration": 27,
    "start_time": "2021-11-24T18:55:16.602Z"
   },
   {
    "duration": 25,
    "start_time": "2021-11-24T18:55:16.630Z"
   },
   {
    "duration": 2,
    "start_time": "2021-11-24T18:55:16.657Z"
   },
   {
    "duration": 27,
    "start_time": "2021-11-24T18:55:16.661Z"
   },
   {
    "duration": 13,
    "start_time": "2021-11-24T18:55:16.690Z"
   },
   {
    "duration": 30,
    "start_time": "2021-11-24T18:55:16.704Z"
   },
   {
    "duration": 18,
    "start_time": "2021-11-24T18:55:16.736Z"
   },
   {
    "duration": 19,
    "start_time": "2021-11-24T18:55:16.755Z"
   },
   {
    "duration": 18,
    "start_time": "2021-11-24T18:55:16.776Z"
   },
   {
    "duration": 16,
    "start_time": "2021-11-24T18:55:16.796Z"
   },
   {
    "duration": 10,
    "start_time": "2021-11-24T18:55:16.814Z"
   },
   {
    "duration": 50,
    "start_time": "2021-11-24T18:56:42.687Z"
   },
   {
    "duration": 48,
    "start_time": "2021-11-24T18:58:36.839Z"
   },
   {
    "duration": 6,
    "start_time": "2021-11-24T19:00:10.947Z"
   },
   {
    "duration": 8,
    "start_time": "2021-11-24T19:03:47.234Z"
   },
   {
    "duration": 10,
    "start_time": "2021-11-24T19:04:32.215Z"
   },
   {
    "duration": 22,
    "start_time": "2021-11-24T19:06:50.924Z"
   },
   {
    "duration": 50,
    "start_time": "2021-11-24T19:12:22.374Z"
   },
   {
    "duration": 129,
    "start_time": "2021-11-25T05:46:29.961Z"
   },
   {
    "duration": 165,
    "start_time": "2021-11-25T05:52:33.381Z"
   }
  ],
  "colab": {
   "collapsed_sections": [
    "E0vqbgi9ay0H",
    "VUC88oWjTJw2"
   ],
   "name": "yandex_music_project_2021.2.ipynb",
   "provenance": []
  },
  "kernelspec": {
   "display_name": "Python 3 (ipykernel)",
   "language": "python",
   "name": "python3"
  },
  "language_info": {
   "codemirror_mode": {
    "name": "ipython",
    "version": 3
   },
   "file_extension": ".py",
   "mimetype": "text/x-python",
   "name": "python",
   "nbconvert_exporter": "python",
   "pygments_lexer": "ipython3",
   "version": "3.9.7"
  },
  "toc": {
   "base_numbering": 1,
   "nav_menu": {},
   "number_sections": true,
   "sideBar": true,
   "skip_h1_title": true,
   "title_cell": "Table of Contents",
   "title_sidebar": "Contents",
   "toc_cell": false,
   "toc_position": {},
   "toc_section_display": true,
   "toc_window_display": false
  }
 },
 "nbformat": 4,
 "nbformat_minor": 1
}
