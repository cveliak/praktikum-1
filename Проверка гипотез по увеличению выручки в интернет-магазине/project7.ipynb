{
 "cells": [
  {
   "cell_type": "markdown",
   "metadata": {},
   "source": [
    "# Проверка гипотез по увеличению выручки в интернет-магазине - оценка результатов A/B теста"
   ]
  },
  {
   "cell_type": "markdown",
   "metadata": {},
   "source": [
    "**Описание проекта**\n",
    "\n",
    "Отдел маркетинга крупного интернет-магазина подготовил список гипотез для увеличения выручки. В нашем распоряжении есть файлы с данными о гипотезах, заказах пользователей и результатами A/B-теста."
   ]
  },
  {
   "cell_type": "markdown",
   "metadata": {},
   "source": [
    "**Задача проекта**\n",
    "\n",
    "Используя данные интернет-магазина приоритезировать гипотезы, произвести оценку результатов A/B-тестирования различными методами."
   ]
  },
  {
   "cell_type": "markdown",
   "metadata": {},
   "source": [
    "**Описание данных**\n",
    "\n",
    "Файл /datasets/hypothesis.csv:\n",
    "- Hypothesis — краткое описание гипотезы;\n",
    "- Reach — охват пользователей по 10-балльной шкале;\n",
    "- Impact — влияние на пользователей по 10-балльной шкале;\n",
    "- Confidence — уверенность в гипотезе по 10-балльной шкале;\n",
    "- Efforts — затраты ресурсов на проверку гипотезы по 10-балльной шкале. "
   ]
  },
  {
   "cell_type": "markdown",
   "metadata": {},
   "source": [
    "Файл /datasets/orders.csv:\n",
    "- transactionId — идентификатор заказа;\n",
    "- visitorId — идентификатор пользователя, совершившего заказ;\n",
    "- date — дата, когда был совершён заказ;\n",
    "- revenue — выручка заказа;\n",
    "- group — группа A/B-теста, в которую попал заказ."
   ]
  },
  {
   "cell_type": "markdown",
   "metadata": {},
   "source": [
    "Файл /datasets/visitors.csv:\n",
    "- date — дата;\n",
    "- group — группа A/B-теста;\n",
    "- visitors — количество пользователей в указанную дату в указанной группе A/B-теста."
   ]
  },
  {
   "cell_type": "markdown",
   "metadata": {},
   "source": [
    "**План работы:**\n",
    "\n",
    "- Загрузить данные и подготовить их к анализу\n",
    "- Приоритизировать гипотезы с применением фреймворков ICE и RICE\n",
    "- Провести анализ A/B-теста\n",
    "- Принять решение по результатам A/B-теста \n",
    "- Сформулировать общий вывод"
   ]
  },
  {
   "cell_type": "markdown",
   "metadata": {},
   "source": [
    "## Подготовка данных"
   ]
  },
  {
   "cell_type": "markdown",
   "metadata": {},
   "source": [
    "### Загрузка данных"
   ]
  },
  {
   "cell_type": "code",
   "execution_count": 1,
   "metadata": {},
   "outputs": [],
   "source": [
    "#импорт библиотек:\n",
    "import pandas as pd\n",
    "import numpy as np\n",
    "import scipy.stats as stats\n",
    "import matplotlib.pyplot as plt\n",
    "import seaborn as sns\n",
    "import statistics \n",
    "import time\n",
    "import datetime as dt\n",
    "from datetime import datetime\n",
    "from datetime import date, timedelta as td\n",
    "from datetime import timedelta\n",
    "import warnings\n",
    "warnings.filterwarnings('ignore')"
   ]
  },
  {
   "cell_type": "code",
   "execution_count": 2,
   "metadata": {},
   "outputs": [
    {
     "name": "stdout",
     "output_type": "stream",
     "text": [
      "hypothesis\n"
     ]
    },
    {
     "data": {
      "text/html": [
       "<div>\n",
       "<style scoped>\n",
       "    .dataframe tbody tr th:only-of-type {\n",
       "        vertical-align: middle;\n",
       "    }\n",
       "\n",
       "    .dataframe tbody tr th {\n",
       "        vertical-align: top;\n",
       "    }\n",
       "\n",
       "    .dataframe thead th {\n",
       "        text-align: right;\n",
       "    }\n",
       "</style>\n",
       "<table border=\"1\" class=\"dataframe\">\n",
       "  <thead>\n",
       "    <tr style=\"text-align: right;\">\n",
       "      <th></th>\n",
       "      <th>Hypothesis</th>\n",
       "      <th>Reach</th>\n",
       "      <th>Impact</th>\n",
       "      <th>Confidence</th>\n",
       "      <th>Efforts</th>\n",
       "    </tr>\n",
       "  </thead>\n",
       "  <tbody>\n",
       "    <tr>\n",
       "      <th>0</th>\n",
       "      <td>Добавить два новых канала привлечения трафика,...</td>\n",
       "      <td>3</td>\n",
       "      <td>10</td>\n",
       "      <td>8</td>\n",
       "      <td>6</td>\n",
       "    </tr>\n",
       "    <tr>\n",
       "      <th>1</th>\n",
       "      <td>Запустить собственную службу доставки, что сок...</td>\n",
       "      <td>2</td>\n",
       "      <td>5</td>\n",
       "      <td>4</td>\n",
       "      <td>10</td>\n",
       "    </tr>\n",
       "    <tr>\n",
       "      <th>2</th>\n",
       "      <td>Добавить блоки рекомендаций товаров на сайт ин...</td>\n",
       "      <td>8</td>\n",
       "      <td>3</td>\n",
       "      <td>7</td>\n",
       "      <td>3</td>\n",
       "    </tr>\n",
       "    <tr>\n",
       "      <th>3</th>\n",
       "      <td>Изменить структура категорий, что увеличит кон...</td>\n",
       "      <td>8</td>\n",
       "      <td>3</td>\n",
       "      <td>3</td>\n",
       "      <td>8</td>\n",
       "    </tr>\n",
       "    <tr>\n",
       "      <th>4</th>\n",
       "      <td>Изменить цвет фона главной страницы, чтобы уве...</td>\n",
       "      <td>3</td>\n",
       "      <td>1</td>\n",
       "      <td>1</td>\n",
       "      <td>1</td>\n",
       "    </tr>\n",
       "    <tr>\n",
       "      <th>5</th>\n",
       "      <td>Добавить страницу отзывов клиентов о магазине,...</td>\n",
       "      <td>3</td>\n",
       "      <td>2</td>\n",
       "      <td>2</td>\n",
       "      <td>3</td>\n",
       "    </tr>\n",
       "    <tr>\n",
       "      <th>6</th>\n",
       "      <td>Показать на главной странице баннеры с актуаль...</td>\n",
       "      <td>5</td>\n",
       "      <td>3</td>\n",
       "      <td>8</td>\n",
       "      <td>3</td>\n",
       "    </tr>\n",
       "    <tr>\n",
       "      <th>7</th>\n",
       "      <td>Добавить форму подписки на все основные страни...</td>\n",
       "      <td>10</td>\n",
       "      <td>7</td>\n",
       "      <td>8</td>\n",
       "      <td>5</td>\n",
       "    </tr>\n",
       "    <tr>\n",
       "      <th>8</th>\n",
       "      <td>Запустить акцию, дающую скидку на товар в день...</td>\n",
       "      <td>1</td>\n",
       "      <td>9</td>\n",
       "      <td>9</td>\n",
       "      <td>5</td>\n",
       "    </tr>\n",
       "  </tbody>\n",
       "</table>\n",
       "</div>"
      ],
      "text/plain": [
       "                                          Hypothesis  Reach  Impact  \\\n",
       "0  Добавить два новых канала привлечения трафика,...      3      10   \n",
       "1  Запустить собственную службу доставки, что сок...      2       5   \n",
       "2  Добавить блоки рекомендаций товаров на сайт ин...      8       3   \n",
       "3  Изменить структура категорий, что увеличит кон...      8       3   \n",
       "4  Изменить цвет фона главной страницы, чтобы уве...      3       1   \n",
       "5  Добавить страницу отзывов клиентов о магазине,...      3       2   \n",
       "6  Показать на главной странице баннеры с актуаль...      5       3   \n",
       "7  Добавить форму подписки на все основные страни...     10       7   \n",
       "8  Запустить акцию, дающую скидку на товар в день...      1       9   \n",
       "\n",
       "   Confidence  Efforts  \n",
       "0           8        6  \n",
       "1           4       10  \n",
       "2           7        3  \n",
       "3           3        8  \n",
       "4           1        1  \n",
       "5           2        3  \n",
       "6           8        3  \n",
       "7           8        5  \n",
       "8           9        5  "
      ]
     },
     "metadata": {},
     "output_type": "display_data"
    },
    {
     "name": "stdout",
     "output_type": "stream",
     "text": [
      "---------------------------------\n",
      "orders\n"
     ]
    },
    {
     "data": {
      "text/html": [
       "<div>\n",
       "<style scoped>\n",
       "    .dataframe tbody tr th:only-of-type {\n",
       "        vertical-align: middle;\n",
       "    }\n",
       "\n",
       "    .dataframe tbody tr th {\n",
       "        vertical-align: top;\n",
       "    }\n",
       "\n",
       "    .dataframe thead th {\n",
       "        text-align: right;\n",
       "    }\n",
       "</style>\n",
       "<table border=\"1\" class=\"dataframe\">\n",
       "  <thead>\n",
       "    <tr style=\"text-align: right;\">\n",
       "      <th></th>\n",
       "      <th>transactionId</th>\n",
       "      <th>visitorId</th>\n",
       "      <th>date</th>\n",
       "      <th>revenue</th>\n",
       "      <th>group</th>\n",
       "    </tr>\n",
       "  </thead>\n",
       "  <tbody>\n",
       "    <tr>\n",
       "      <th>0</th>\n",
       "      <td>3667963787</td>\n",
       "      <td>3312258926</td>\n",
       "      <td>2019-08-15</td>\n",
       "      <td>1650</td>\n",
       "      <td>B</td>\n",
       "    </tr>\n",
       "    <tr>\n",
       "      <th>1</th>\n",
       "      <td>2804400009</td>\n",
       "      <td>3642806036</td>\n",
       "      <td>2019-08-15</td>\n",
       "      <td>730</td>\n",
       "      <td>B</td>\n",
       "    </tr>\n",
       "    <tr>\n",
       "      <th>2</th>\n",
       "      <td>2961555356</td>\n",
       "      <td>4069496402</td>\n",
       "      <td>2019-08-15</td>\n",
       "      <td>400</td>\n",
       "      <td>A</td>\n",
       "    </tr>\n",
       "    <tr>\n",
       "      <th>3</th>\n",
       "      <td>3797467345</td>\n",
       "      <td>1196621759</td>\n",
       "      <td>2019-08-15</td>\n",
       "      <td>9759</td>\n",
       "      <td>B</td>\n",
       "    </tr>\n",
       "    <tr>\n",
       "      <th>4</th>\n",
       "      <td>2282983706</td>\n",
       "      <td>2322279887</td>\n",
       "      <td>2019-08-15</td>\n",
       "      <td>2308</td>\n",
       "      <td>B</td>\n",
       "    </tr>\n",
       "  </tbody>\n",
       "</table>\n",
       "</div>"
      ],
      "text/plain": [
       "   transactionId   visitorId        date  revenue group\n",
       "0     3667963787  3312258926  2019-08-15     1650     B\n",
       "1     2804400009  3642806036  2019-08-15      730     B\n",
       "2     2961555356  4069496402  2019-08-15      400     A\n",
       "3     3797467345  1196621759  2019-08-15     9759     B\n",
       "4     2282983706  2322279887  2019-08-15     2308     B"
      ]
     },
     "metadata": {},
     "output_type": "display_data"
    },
    {
     "name": "stdout",
     "output_type": "stream",
     "text": [
      "---------------------------------\n",
      "visitors\n"
     ]
    },
    {
     "data": {
      "text/html": [
       "<div>\n",
       "<style scoped>\n",
       "    .dataframe tbody tr th:only-of-type {\n",
       "        vertical-align: middle;\n",
       "    }\n",
       "\n",
       "    .dataframe tbody tr th {\n",
       "        vertical-align: top;\n",
       "    }\n",
       "\n",
       "    .dataframe thead th {\n",
       "        text-align: right;\n",
       "    }\n",
       "</style>\n",
       "<table border=\"1\" class=\"dataframe\">\n",
       "  <thead>\n",
       "    <tr style=\"text-align: right;\">\n",
       "      <th></th>\n",
       "      <th>date</th>\n",
       "      <th>group</th>\n",
       "      <th>visitors</th>\n",
       "    </tr>\n",
       "  </thead>\n",
       "  <tbody>\n",
       "    <tr>\n",
       "      <th>0</th>\n",
       "      <td>2019-08-01</td>\n",
       "      <td>A</td>\n",
       "      <td>719</td>\n",
       "    </tr>\n",
       "    <tr>\n",
       "      <th>1</th>\n",
       "      <td>2019-08-02</td>\n",
       "      <td>A</td>\n",
       "      <td>619</td>\n",
       "    </tr>\n",
       "    <tr>\n",
       "      <th>2</th>\n",
       "      <td>2019-08-03</td>\n",
       "      <td>A</td>\n",
       "      <td>507</td>\n",
       "    </tr>\n",
       "    <tr>\n",
       "      <th>3</th>\n",
       "      <td>2019-08-04</td>\n",
       "      <td>A</td>\n",
       "      <td>717</td>\n",
       "    </tr>\n",
       "    <tr>\n",
       "      <th>4</th>\n",
       "      <td>2019-08-05</td>\n",
       "      <td>A</td>\n",
       "      <td>756</td>\n",
       "    </tr>\n",
       "  </tbody>\n",
       "</table>\n",
       "</div>"
      ],
      "text/plain": [
       "         date group  visitors\n",
       "0  2019-08-01     A       719\n",
       "1  2019-08-02     A       619\n",
       "2  2019-08-03     A       507\n",
       "3  2019-08-04     A       717\n",
       "4  2019-08-05     A       756"
      ]
     },
     "metadata": {},
     "output_type": "display_data"
    }
   ],
   "source": [
    "#загрузка данных:\n",
    "hypothesis = pd.read_csv('C:/Users/OT/Desktop/проекты/Выручка им/hypothesis.csv', sep=',')\n",
    "orders = pd.read_csv('C:/Users/OT/Desktop/проекты/Выручка им/orders.csv', sep=',') \n",
    "visitors = pd.read_csv('C:/Users/OT/Desktop/проекты/Выручка им/visitors.csv', sep=',')\n",
    "\n",
    "print('hypothesis')\n",
    "display(hypothesis)\n",
    "print('---------------------------------')\n",
    "print('orders')\n",
    "display(orders.head())\n",
    "print('---------------------------------')\n",
    "print('visitors')\n",
    "display(visitors.head())"
   ]
  },
  {
   "cell_type": "markdown",
   "metadata": {},
   "source": [
    "### Предобработка файлов orders и visitors"
   ]
  },
  {
   "cell_type": "markdown",
   "metadata": {},
   "source": [
    "Проверим файлы orders и visitors на наличие дубликатов, пропусков и соответствие типам данных:"
   ]
  },
  {
   "cell_type": "code",
   "execution_count": 3,
   "metadata": {},
   "outputs": [
    {
     "name": "stdout",
     "output_type": "stream",
     "text": [
      "<class 'pandas.core.frame.DataFrame'>\n",
      "RangeIndex: 1197 entries, 0 to 1196\n",
      "Data columns (total 5 columns):\n",
      " #   Column         Non-Null Count  Dtype \n",
      "---  ------         --------------  ----- \n",
      " 0   transactionId  1197 non-null   int64 \n",
      " 1   visitorId      1197 non-null   int64 \n",
      " 2   date           1197 non-null   object\n",
      " 3   revenue        1197 non-null   int64 \n",
      " 4   group          1197 non-null   object\n",
      "dtypes: int64(3), object(2)\n",
      "memory usage: 46.9+ KB\n"
     ]
    }
   ],
   "source": [
    "#проверяем orders:\n",
    "orders.info()"
   ]
  },
  {
   "cell_type": "code",
   "execution_count": 4,
   "metadata": {},
   "outputs": [
    {
     "name": "stdout",
     "output_type": "stream",
     "text": [
      "Количество дубликатов: 0\n"
     ]
    }
   ],
   "source": [
    "print('Количество дубликатов:',orders.duplicated().sum())"
   ]
  },
  {
   "cell_type": "code",
   "execution_count": 5,
   "metadata": {},
   "outputs": [
    {
     "data": {
      "text/plain": [
       "transactionId    0\n",
       "visitorId        0\n",
       "date             0\n",
       "revenue          0\n",
       "group            0\n",
       "dtype: int64"
      ]
     },
     "execution_count": 5,
     "metadata": {},
     "output_type": "execute_result"
    }
   ],
   "source": [
    "orders.isna().sum()"
   ]
  },
  {
   "cell_type": "code",
   "execution_count": 6,
   "metadata": {},
   "outputs": [
    {
     "name": "stdout",
     "output_type": "stream",
     "text": [
      "\n",
      "Начальная дата 2019-08-01, конечная дата 2019-08-31\n",
      "\n"
     ]
    }
   ],
   "source": [
    "#изменим тип данных в столбце date:\n",
    "orders['date'] = orders['date'].astype('datetime64[D]')\n",
    "orders['date'] = orders['date'].map(lambda x: dt.datetime.strftime(x, '%Y-%m-%d'))\n",
    "print('\\nНачальная дата {}, конечная дата {}\\n'.format(orders['date'].min(), orders['date'].max()))\n",
    "orders['date'] = orders['date'].map(lambda x: dt.datetime.strptime(x, '%Y-%m-%d'))"
   ]
  },
  {
   "cell_type": "code",
   "execution_count": 7,
   "metadata": {},
   "outputs": [
    {
     "name": "stdout",
     "output_type": "stream",
     "text": [
      "<class 'pandas.core.frame.DataFrame'>\n",
      "RangeIndex: 1197 entries, 0 to 1196\n",
      "Data columns (total 5 columns):\n",
      " #   Column         Non-Null Count  Dtype         \n",
      "---  ------         --------------  -----         \n",
      " 0   transactionId  1197 non-null   int64         \n",
      " 1   visitorId      1197 non-null   int64         \n",
      " 2   date           1197 non-null   datetime64[ns]\n",
      " 3   revenue        1197 non-null   int64         \n",
      " 4   group          1197 non-null   object        \n",
      "dtypes: datetime64[ns](1), int64(3), object(1)\n",
      "memory usage: 46.9+ KB\n"
     ]
    }
   ],
   "source": [
    "#проверка:\n",
    "orders.info()"
   ]
  },
  {
   "cell_type": "code",
   "execution_count": 8,
   "metadata": {},
   "outputs": [
    {
     "name": "stdout",
     "output_type": "stream",
     "text": [
      "<class 'pandas.core.frame.DataFrame'>\n",
      "RangeIndex: 62 entries, 0 to 61\n",
      "Data columns (total 3 columns):\n",
      " #   Column    Non-Null Count  Dtype \n",
      "---  ------    --------------  ----- \n",
      " 0   date      62 non-null     object\n",
      " 1   group     62 non-null     object\n",
      " 2   visitors  62 non-null     int64 \n",
      "dtypes: int64(1), object(2)\n",
      "memory usage: 1.6+ KB\n"
     ]
    }
   ],
   "source": [
    "#проверяем visitors:\n",
    "visitors.info()"
   ]
  },
  {
   "cell_type": "code",
   "execution_count": 9,
   "metadata": {},
   "outputs": [
    {
     "name": "stdout",
     "output_type": "stream",
     "text": [
      "Количество дубликатов: 0\n"
     ]
    }
   ],
   "source": [
    "print('Количество дубликатов:',visitors.duplicated().sum())"
   ]
  },
  {
   "cell_type": "code",
   "execution_count": 10,
   "metadata": {},
   "outputs": [
    {
     "data": {
      "text/plain": [
       "date        0\n",
       "group       0\n",
       "visitors    0\n",
       "dtype: int64"
      ]
     },
     "execution_count": 10,
     "metadata": {},
     "output_type": "execute_result"
    }
   ],
   "source": [
    "visitors.isna().sum()"
   ]
  },
  {
   "cell_type": "code",
   "execution_count": 11,
   "metadata": {},
   "outputs": [
    {
     "name": "stdout",
     "output_type": "stream",
     "text": [
      "\n",
      "Начальная дата 2019-08-01, конечная дата 2019-08-31\n",
      "\n"
     ]
    }
   ],
   "source": [
    "#изменим тип данных в столбце date:\n",
    "visitors['date'] = visitors['date'].astype('datetime64[D]')\n",
    "visitors['date'] = visitors['date'].map(lambda x: dt.datetime.strftime(x, '%Y-%m-%d'))\n",
    "print('\\nНачальная дата {}, конечная дата {}\\n'.format(visitors['date'].min(), visitors['date'].max()))\n",
    "visitors['date'] = visitors['date'].map(lambda x: dt.datetime.strptime(x, '%Y-%m-%d'))"
   ]
  },
  {
   "cell_type": "code",
   "execution_count": 12,
   "metadata": {},
   "outputs": [
    {
     "name": "stdout",
     "output_type": "stream",
     "text": [
      "<class 'pandas.core.frame.DataFrame'>\n",
      "RangeIndex: 62 entries, 0 to 61\n",
      "Data columns (total 3 columns):\n",
      " #   Column    Non-Null Count  Dtype         \n",
      "---  ------    --------------  -----         \n",
      " 0   date      62 non-null     datetime64[ns]\n",
      " 1   group     62 non-null     object        \n",
      " 2   visitors  62 non-null     int64         \n",
      "dtypes: datetime64[ns](1), int64(1), object(1)\n",
      "memory usage: 1.6+ KB\n"
     ]
    }
   ],
   "source": [
    "#проверка:\n",
    "visitors.info()"
   ]
  },
  {
   "cell_type": "markdown",
   "metadata": {},
   "source": [
    "### Проверка корректности разбиения на группы"
   ]
  },
  {
   "cell_type": "markdown",
   "metadata": {},
   "source": [
    "Проверим корректность разбиения пользователей на группы (могут быть пользователи, попавшие в обе группы):"
   ]
  },
  {
   "cell_type": "code",
   "execution_count": 13,
   "metadata": {},
   "outputs": [
    {
     "name": "stdout",
     "output_type": "stream",
     "text": [
      "Количество \"двойных\" пользователей: 58\n"
     ]
    }
   ],
   "source": [
    "#находим \"двойных\" пользователей\n",
    "duplicated_users = orders.groupby('visitorId').agg({'group' : ['nunique', 'unique']})\n",
    "duplicated_users.columns = ['groups', 'group_names'] \n",
    "duplicated_users = duplicated_users.query('groups > 1')\n",
    "print('Количество \"двойных\" пользователей:', len(duplicated_users))"
   ]
  },
  {
   "cell_type": "code",
   "execution_count": 14,
   "metadata": {},
   "outputs": [
    {
     "data": {
      "text/plain": [
       "1031"
      ]
     },
     "execution_count": 14,
     "metadata": {},
     "output_type": "execute_result"
    }
   ],
   "source": [
    "#находим число всех пользователей\n",
    "orders['visitorId'].nunique()"
   ]
  },
  {
   "cell_type": "code",
   "execution_count": 15,
   "metadata": {},
   "outputs": [
    {
     "name": "stdout",
     "output_type": "stream",
     "text": [
      "Доля \"двойных\" пользователей: 5.63%\n"
     ]
    }
   ],
   "source": [
    "#считаем долю \"двойных\" пользователей от общего количества покупателей\n",
    "print('Доля \"двойных\" пользователей: {:.2%}'.format(58 / orders['visitorId'].nunique()))"
   ]
  },
  {
   "cell_type": "markdown",
   "metadata": {},
   "source": [
    "Итак, у нас есть больше 5% пользователей, попавших в обе группы. При удалении их из таблицы orders надо также очистить таблицу visitors, но в ней нет данных о visitorId. Поэтому не получится корректно провести удаление \"двойных\" пользователей. Оставляем их в данных."
   ]
  },
  {
   "cell_type": "markdown",
   "metadata": {},
   "source": [
    "### Вывод"
   ]
  },
  {
   "cell_type": "markdown",
   "metadata": {},
   "source": [
    "Данные загружены. Пропусков и дубликатов нет. Тип данных у столбцов с датами изменен с object на datetime64. Начальная и конечная даты в таблицах orders и visitors совпадают."
   ]
  },
  {
   "cell_type": "markdown",
   "metadata": {},
   "source": [
    "## Приоритизация гипотез"
   ]
  },
  {
   "cell_type": "markdown",
   "metadata": {},
   "source": [
    "### Как рассчитываются гипотезы"
   ]
  },
  {
   "cell_type": "markdown",
   "metadata": {},
   "source": [
    "Для оценки и приоритизации гипотез применяются 4 параметра:\n",
    "- Reach — охват (скольких пользователей затронет изменение, которое хотят внести);\n",
    "- Impact — влияние (как изменение повлияет на пользователей, их опыт и удовлетворение от продукта);\n",
    "- Confidence — уверенность в оценках (насколько вы уверены, что это изменение повлияет на пользователей именно так);\n",
    "- Efforts — усилия (трудозатраты, необходимые на тестирование гипотезы)."
   ]
  },
  {
   "cell_type": "markdown",
   "metadata": {},
   "source": [
    "Эти параметры фреймворков оценивают в удобных шкалах: например, от 0 до 10. Высший приоритет получает гипотеза с наибольшим охватом и влиянием при минимальных усилиях."
   ]
  },
  {
   "cell_type": "markdown",
   "metadata": {},
   "source": [
    "### Приоритизация методом ICE"
   ]
  },
  {
   "cell_type": "markdown",
   "metadata": {},
   "source": [
    "Применим фреймворк ICE для приоритизации гипотез. Отсорируем гипотезы по убыванию приоритета."
   ]
  },
  {
   "cell_type": "code",
   "execution_count": 16,
   "metadata": {},
   "outputs": [
    {
     "data": {
      "text/html": [
       "<div>\n",
       "<style scoped>\n",
       "    .dataframe tbody tr th:only-of-type {\n",
       "        vertical-align: middle;\n",
       "    }\n",
       "\n",
       "    .dataframe tbody tr th {\n",
       "        vertical-align: top;\n",
       "    }\n",
       "\n",
       "    .dataframe thead th {\n",
       "        text-align: right;\n",
       "    }\n",
       "</style>\n",
       "<table border=\"1\" class=\"dataframe\">\n",
       "  <thead>\n",
       "    <tr style=\"text-align: right;\">\n",
       "      <th></th>\n",
       "      <th>Hypothesis</th>\n",
       "      <th>ICE</th>\n",
       "    </tr>\n",
       "  </thead>\n",
       "  <tbody>\n",
       "    <tr>\n",
       "      <th>8</th>\n",
       "      <td>Запустить акцию, дающую скидку на товар в день...</td>\n",
       "      <td>16.200000</td>\n",
       "    </tr>\n",
       "    <tr>\n",
       "      <th>0</th>\n",
       "      <td>Добавить два новых канала привлечения трафика,...</td>\n",
       "      <td>13.333333</td>\n",
       "    </tr>\n",
       "    <tr>\n",
       "      <th>7</th>\n",
       "      <td>Добавить форму подписки на все основные страни...</td>\n",
       "      <td>11.200000</td>\n",
       "    </tr>\n",
       "    <tr>\n",
       "      <th>6</th>\n",
       "      <td>Показать на главной странице баннеры с актуаль...</td>\n",
       "      <td>8.000000</td>\n",
       "    </tr>\n",
       "    <tr>\n",
       "      <th>2</th>\n",
       "      <td>Добавить блоки рекомендаций товаров на сайт ин...</td>\n",
       "      <td>7.000000</td>\n",
       "    </tr>\n",
       "    <tr>\n",
       "      <th>1</th>\n",
       "      <td>Запустить собственную службу доставки, что сок...</td>\n",
       "      <td>2.000000</td>\n",
       "    </tr>\n",
       "    <tr>\n",
       "      <th>5</th>\n",
       "      <td>Добавить страницу отзывов клиентов о магазине,...</td>\n",
       "      <td>1.333333</td>\n",
       "    </tr>\n",
       "    <tr>\n",
       "      <th>3</th>\n",
       "      <td>Изменить структура категорий, что увеличит кон...</td>\n",
       "      <td>1.125000</td>\n",
       "    </tr>\n",
       "    <tr>\n",
       "      <th>4</th>\n",
       "      <td>Изменить цвет фона главной страницы, чтобы уве...</td>\n",
       "      <td>1.000000</td>\n",
       "    </tr>\n",
       "  </tbody>\n",
       "</table>\n",
       "</div>"
      ],
      "text/plain": [
       "                                          Hypothesis        ICE\n",
       "8  Запустить акцию, дающую скидку на товар в день...  16.200000\n",
       "0  Добавить два новых канала привлечения трафика,...  13.333333\n",
       "7  Добавить форму подписки на все основные страни...  11.200000\n",
       "6  Показать на главной странице баннеры с актуаль...   8.000000\n",
       "2  Добавить блоки рекомендаций товаров на сайт ин...   7.000000\n",
       "1  Запустить собственную службу доставки, что сок...   2.000000\n",
       "5  Добавить страницу отзывов клиентов о магазине,...   1.333333\n",
       "3  Изменить структура категорий, что увеличит кон...   1.125000\n",
       "4  Изменить цвет фона главной страницы, чтобы уве...   1.000000"
      ]
     },
     "execution_count": 16,
     "metadata": {},
     "output_type": "execute_result"
    }
   ],
   "source": [
    "hypothesis['ICE'] = hypothesis['Impact'] * hypothesis['Confidence'] / hypothesis['Efforts']\n",
    "hypothesis_ICE = hypothesis[['Hypothesis', 'ICE']].sort_values(by='ICE', ascending=False)\n",
    "hypothesis_ICE"
   ]
  },
  {
   "cell_type": "markdown",
   "metadata": {},
   "source": [
    "Наиболее перспективные гипотезы 8, 0 и 7."
   ]
  },
  {
   "cell_type": "markdown",
   "metadata": {},
   "source": [
    "### Приоритизация методом RICE"
   ]
  },
  {
   "cell_type": "markdown",
   "metadata": {},
   "source": [
    "Теперь применим фреймворк RICE для приоритизации гипотез. Отсорируем гипотезы по убыванию приоритета."
   ]
  },
  {
   "cell_type": "code",
   "execution_count": 17,
   "metadata": {},
   "outputs": [],
   "source": [
    "#настроим функцию display для полного отображения названия гипотез\n",
    "pd.options.display.max_colwidth = 400"
   ]
  },
  {
   "cell_type": "code",
   "execution_count": 18,
   "metadata": {},
   "outputs": [
    {
     "data": {
      "text/html": [
       "<div>\n",
       "<style scoped>\n",
       "    .dataframe tbody tr th:only-of-type {\n",
       "        vertical-align: middle;\n",
       "    }\n",
       "\n",
       "    .dataframe tbody tr th {\n",
       "        vertical-align: top;\n",
       "    }\n",
       "\n",
       "    .dataframe thead th {\n",
       "        text-align: right;\n",
       "    }\n",
       "</style>\n",
       "<table border=\"1\" class=\"dataframe\">\n",
       "  <thead>\n",
       "    <tr style=\"text-align: right;\">\n",
       "      <th></th>\n",
       "      <th>Hypothesis</th>\n",
       "      <th>RICE</th>\n",
       "    </tr>\n",
       "  </thead>\n",
       "  <tbody>\n",
       "    <tr>\n",
       "      <th>7</th>\n",
       "      <td>Добавить форму подписки на все основные страницы, чтобы собрать базу клиентов для email-рассылок</td>\n",
       "      <td>112.0</td>\n",
       "    </tr>\n",
       "    <tr>\n",
       "      <th>2</th>\n",
       "      <td>Добавить блоки рекомендаций товаров на сайт интернет магазина, чтобы повысить конверсию и средний чек заказа</td>\n",
       "      <td>56.0</td>\n",
       "    </tr>\n",
       "    <tr>\n",
       "      <th>0</th>\n",
       "      <td>Добавить два новых канала привлечения трафика, что позволит привлекать на 30% больше пользователей</td>\n",
       "      <td>40.0</td>\n",
       "    </tr>\n",
       "    <tr>\n",
       "      <th>6</th>\n",
       "      <td>Показать на главной странице баннеры с актуальными акциями и распродажами, чтобы увеличить конверсию</td>\n",
       "      <td>40.0</td>\n",
       "    </tr>\n",
       "    <tr>\n",
       "      <th>8</th>\n",
       "      <td>Запустить акцию, дающую скидку на товар в день рождения</td>\n",
       "      <td>16.2</td>\n",
       "    </tr>\n",
       "    <tr>\n",
       "      <th>3</th>\n",
       "      <td>Изменить структура категорий, что увеличит конверсию, т.к. пользователи быстрее найдут нужный товар</td>\n",
       "      <td>9.0</td>\n",
       "    </tr>\n",
       "    <tr>\n",
       "      <th>1</th>\n",
       "      <td>Запустить собственную службу доставки, что сократит срок доставки заказов</td>\n",
       "      <td>4.0</td>\n",
       "    </tr>\n",
       "    <tr>\n",
       "      <th>5</th>\n",
       "      <td>Добавить страницу отзывов клиентов о магазине, что позволит увеличить количество заказов</td>\n",
       "      <td>4.0</td>\n",
       "    </tr>\n",
       "    <tr>\n",
       "      <th>4</th>\n",
       "      <td>Изменить цвет фона главной страницы, чтобы увеличить вовлеченность пользователей</td>\n",
       "      <td>3.0</td>\n",
       "    </tr>\n",
       "  </tbody>\n",
       "</table>\n",
       "</div>"
      ],
      "text/plain": [
       "                                                                                                     Hypothesis  \\\n",
       "7              Добавить форму подписки на все основные страницы, чтобы собрать базу клиентов для email-рассылок   \n",
       "2  Добавить блоки рекомендаций товаров на сайт интернет магазина, чтобы повысить конверсию и средний чек заказа   \n",
       "0            Добавить два новых канала привлечения трафика, что позволит привлекать на 30% больше пользователей   \n",
       "6          Показать на главной странице баннеры с актуальными акциями и распродажами, чтобы увеличить конверсию   \n",
       "8                                                       Запустить акцию, дающую скидку на товар в день рождения   \n",
       "3           Изменить структура категорий, что увеличит конверсию, т.к. пользователи быстрее найдут нужный товар   \n",
       "1                                     Запустить собственную службу доставки, что сократит срок доставки заказов   \n",
       "5                      Добавить страницу отзывов клиентов о магазине, что позволит увеличить количество заказов   \n",
       "4                              Изменить цвет фона главной страницы, чтобы увеличить вовлеченность пользователей   \n",
       "\n",
       "    RICE  \n",
       "7  112.0  \n",
       "2   56.0  \n",
       "0   40.0  \n",
       "6   40.0  \n",
       "8   16.2  \n",
       "3    9.0  \n",
       "1    4.0  \n",
       "5    4.0  \n",
       "4    3.0  "
      ]
     },
     "execution_count": 18,
     "metadata": {},
     "output_type": "execute_result"
    }
   ],
   "source": [
    "hypothesis['RICE'] = hypothesis['Reach'] * hypothesis['Impact']*hypothesis['Confidence'] / hypothesis['Efforts']\n",
    "hypothesis_RICE = hypothesis[['Hypothesis', 'RICE']]. sort_values(by='RICE',ascending=False)\n",
    "hypothesis_RICE"
   ]
  },
  {
   "cell_type": "markdown",
   "metadata": {},
   "source": [
    "Наиболее перспективные гипотезы 7, 2 и 0. Гипотеза 7 имеет наивысший приоритет. Гипотеза 0 опустилась со второго на третье место. Гипотеза 2 заняла второе место."
   ]
  },
  {
   "cell_type": "markdown",
   "metadata": {},
   "source": [
    "Сравним приоритизацию гипотез при применении ICE и RICE:"
   ]
  },
  {
   "cell_type": "code",
   "execution_count": 19,
   "metadata": {},
   "outputs": [
    {
     "data": {
      "text/html": [
       "<div>\n",
       "<style scoped>\n",
       "    .dataframe tbody tr th:only-of-type {\n",
       "        vertical-align: middle;\n",
       "    }\n",
       "\n",
       "    .dataframe tbody tr th {\n",
       "        vertical-align: top;\n",
       "    }\n",
       "\n",
       "    .dataframe thead th {\n",
       "        text-align: right;\n",
       "    }\n",
       "</style>\n",
       "<table border=\"1\" class=\"dataframe\">\n",
       "  <thead>\n",
       "    <tr style=\"text-align: right;\">\n",
       "      <th></th>\n",
       "      <th>Hypothesis</th>\n",
       "      <th>ICE</th>\n",
       "      <th>RICE</th>\n",
       "    </tr>\n",
       "  </thead>\n",
       "  <tbody>\n",
       "    <tr>\n",
       "      <th>0</th>\n",
       "      <td>Запустить акцию, дающую скидку на товар в день рождения</td>\n",
       "      <td>16.200000</td>\n",
       "      <td>16.2</td>\n",
       "    </tr>\n",
       "    <tr>\n",
       "      <th>1</th>\n",
       "      <td>Добавить два новых канала привлечения трафика, что позволит привлекать на 30% больше пользователей</td>\n",
       "      <td>13.333333</td>\n",
       "      <td>40.0</td>\n",
       "    </tr>\n",
       "    <tr>\n",
       "      <th>2</th>\n",
       "      <td>Добавить форму подписки на все основные страницы, чтобы собрать базу клиентов для email-рассылок</td>\n",
       "      <td>11.200000</td>\n",
       "      <td>112.0</td>\n",
       "    </tr>\n",
       "    <tr>\n",
       "      <th>3</th>\n",
       "      <td>Показать на главной странице баннеры с актуальными акциями и распродажами, чтобы увеличить конверсию</td>\n",
       "      <td>8.000000</td>\n",
       "      <td>40.0</td>\n",
       "    </tr>\n",
       "    <tr>\n",
       "      <th>4</th>\n",
       "      <td>Добавить блоки рекомендаций товаров на сайт интернет магазина, чтобы повысить конверсию и средний чек заказа</td>\n",
       "      <td>7.000000</td>\n",
       "      <td>56.0</td>\n",
       "    </tr>\n",
       "    <tr>\n",
       "      <th>5</th>\n",
       "      <td>Запустить собственную службу доставки, что сократит срок доставки заказов</td>\n",
       "      <td>2.000000</td>\n",
       "      <td>4.0</td>\n",
       "    </tr>\n",
       "    <tr>\n",
       "      <th>6</th>\n",
       "      <td>Добавить страницу отзывов клиентов о магазине, что позволит увеличить количество заказов</td>\n",
       "      <td>1.333333</td>\n",
       "      <td>4.0</td>\n",
       "    </tr>\n",
       "    <tr>\n",
       "      <th>7</th>\n",
       "      <td>Изменить структура категорий, что увеличит конверсию, т.к. пользователи быстрее найдут нужный товар</td>\n",
       "      <td>1.125000</td>\n",
       "      <td>9.0</td>\n",
       "    </tr>\n",
       "    <tr>\n",
       "      <th>8</th>\n",
       "      <td>Изменить цвет фона главной страницы, чтобы увеличить вовлеченность пользователей</td>\n",
       "      <td>1.000000</td>\n",
       "      <td>3.0</td>\n",
       "    </tr>\n",
       "  </tbody>\n",
       "</table>\n",
       "</div>"
      ],
      "text/plain": [
       "                                                                                                     Hypothesis  \\\n",
       "0                                                       Запустить акцию, дающую скидку на товар в день рождения   \n",
       "1            Добавить два новых канала привлечения трафика, что позволит привлекать на 30% больше пользователей   \n",
       "2              Добавить форму подписки на все основные страницы, чтобы собрать базу клиентов для email-рассылок   \n",
       "3          Показать на главной странице баннеры с актуальными акциями и распродажами, чтобы увеличить конверсию   \n",
       "4  Добавить блоки рекомендаций товаров на сайт интернет магазина, чтобы повысить конверсию и средний чек заказа   \n",
       "5                                     Запустить собственную службу доставки, что сократит срок доставки заказов   \n",
       "6                      Добавить страницу отзывов клиентов о магазине, что позволит увеличить количество заказов   \n",
       "7           Изменить структура категорий, что увеличит конверсию, т.к. пользователи быстрее найдут нужный товар   \n",
       "8                              Изменить цвет фона главной страницы, чтобы увеличить вовлеченность пользователей   \n",
       "\n",
       "         ICE   RICE  \n",
       "0  16.200000   16.2  \n",
       "1  13.333333   40.0  \n",
       "2  11.200000  112.0  \n",
       "3   8.000000   40.0  \n",
       "4   7.000000   56.0  \n",
       "5   2.000000    4.0  \n",
       "6   1.333333    4.0  \n",
       "7   1.125000    9.0  \n",
       "8   1.000000    3.0  "
      ]
     },
     "metadata": {},
     "output_type": "display_data"
    }
   ],
   "source": [
    "priority_of_hypothesis = hypothesis_ICE.merge(hypothesis_RICE, on='Hypothesis')\n",
    "display(priority_of_hypothesis)"
   ]
  },
  {
   "cell_type": "markdown",
   "metadata": {},
   "source": [
    "Изменение приоритетности объясняется тем, что в методе RICE используется параметр охвата изменений Reach. Гипотеза 7 имеет наибольший Reach = 10, поэтому она получила высший приоритет."
   ]
  },
  {
   "cell_type": "markdown",
   "metadata": {},
   "source": [
    "### Вывод"
   ]
  },
  {
   "cell_type": "markdown",
   "metadata": {},
   "source": [
    "- По методу ICE наиболее перспективные гипотезы 8, 0 и 7, по методу RICE - 7, 2 и 0.\n",
    "- Различия в приоритете гипотез обусловлены использованием параметра охвата Reach.\n",
    "- Наиболее приоритетные гипотезы 7, 2, 0."
   ]
  },
  {
   "cell_type": "markdown",
   "metadata": {},
   "source": [
    "## Анализ A/B-теста"
   ]
  },
  {
   "cell_type": "markdown",
   "metadata": {},
   "source": [
    "### График кумулятивной выручки по группам"
   ]
  },
  {
   "cell_type": "code",
   "execution_count": 20,
   "metadata": {},
   "outputs": [
    {
     "name": "stdout",
     "output_type": "stream",
     "text": [
      "        date group  orders  buyers  revenue  visitors\n",
      "0 2019-08-01     A      24      20   148579       719\n",
      "1 2019-08-01     B      21      20   101217       713\n",
      "2 2019-08-02     A      44      38   242401      1338\n",
      "3 2019-08-02     B      45      43   266748      1294\n",
      "4 2019-08-03     A      68      62   354874      1845\n"
     ]
    }
   ],
   "source": [
    "# создаем массив уникальных пар значений дат и групп теста\n",
    "datesGroups = orders[['date','group']].drop_duplicates()\n",
    "\n",
    "# получаем агрегированные кумулятивные по дням данные о заказах \n",
    "ordersAggregated = datesGroups.apply(lambda x: orders[np.logical_and(orders['date'] <= x['date'], orders['group'] == x['group'])].agg({'date' : 'max', 'group' : 'max', 'transactionId' : 'nunique', 'visitorId' : 'nunique', 'revenue' : 'sum'}), axis=1).sort_values(by=['date','group'])\n",
    "\n",
    "# получаем агрегированные кумулятивные по дням данные о посетителях интернет-магазина \n",
    "visitorsAggregated = datesGroups.apply(lambda x: visitors[np.logical_and(visitors['date'] <= x['date'], visitors['group'] == x['group'])].agg({'date' : 'max', 'group' : 'max', 'visitors' : 'sum'}), axis=1).sort_values(by=['date','group'])\n",
    "\n",
    "# объединяем кумулятивные данные в одной таблице и присваиваем ее столбцам понятные названия\n",
    "cumulativeData = ordersAggregated.merge(visitorsAggregated, left_on=['date', 'group'], right_on=['date', 'group'])\n",
    "cumulativeData.columns = ['date', 'group', 'orders', 'buyers', 'revenue', 'visitors']\n",
    "\n",
    "print(cumulativeData.head(5))"
   ]
  },
  {
   "cell_type": "code",
   "execution_count": 21,
   "metadata": {},
   "outputs": [
    {
     "data": {
      "image/png": "[encoded data removed]",
      "text/plain": [
       "<Figure size 1080x360 with 1 Axes>"
      ]
     },
     "metadata": {
      "needs_background": "light"
     },
     "output_type": "display_data"
    }
   ],
   "source": [
    "import matplotlib.pyplot as plt\n",
    "\n",
    "# датафрейм с кумулятивным количеством заказов и кумулятивной выручкой по дням в группе А\n",
    "cumulativeRevenueA = cumulativeData[cumulativeData['group']=='A'][['date','revenue', 'orders']]\n",
    "\n",
    "# датафрейм с кумулятивным количеством заказов и кумулятивной выручкой по дням в группе B\n",
    "cumulativeRevenueB = cumulativeData[cumulativeData['group']=='B'][['date','revenue', 'orders']]\n",
    "\n",
    "plt.figure(figsize=(15,5))\n",
    "\n",
    "# Строим график выручки группы А\n",
    "plt.plot(cumulativeRevenueA['date'], cumulativeRevenueA['revenue'], label='A')\n",
    "\n",
    "# Строим график выручки группы B\n",
    "plt.plot(cumulativeRevenueB['date'], cumulativeRevenueB['revenue'], label='B')\n",
    "\n",
    "plt.grid()\n",
    "plt.legend()\n",
    "plt.title('График кумулятивной выручки по группам');"
   ]
  },
  {
   "cell_type": "markdown",
   "metadata": {},
   "source": [
    "Выручка почти равномерно увеличивается в течение всего теста. В первой половине месяца видно, что выручка в группе B растёт чуть быстрее, чем в A. 13 августа выручки сравнялись. Во второй половине месяца выручка группы B становится значительно больше. 19 августа наблюдается скачок выручки в группе B. Это может сигнализировать о всплесках числа заказов, либо о размещении очень дорогих заказов в этот день."
   ]
  },
  {
   "cell_type": "markdown",
   "metadata": {},
   "source": [
    "### График кумулятивного среднего чека по группам"
   ]
  },
  {
   "cell_type": "code",
   "execution_count": 22,
   "metadata": {},
   "outputs": [
    {
     "data": {
      "image/png": "[encoded data removed]",
      "text/plain": [
       "<Figure size 1080x360 with 1 Axes>"
      ]
     },
     "metadata": {
      "needs_background": "light"
     },
     "output_type": "display_data"
    }
   ],
   "source": [
    "plt.figure(figsize=(15,5))\n",
    "plt.plot(cumulativeRevenueA['date'], cumulativeRevenueA['revenue']/cumulativeRevenueA['orders'], label='A')\n",
    "plt.plot(cumulativeRevenueB['date'], cumulativeRevenueB['revenue']/cumulativeRevenueB['orders'], label='B')\n",
    "plt.legend()\n",
    "plt.grid()\n",
    "plt.title('График кумулятивного среднего чека по группам');"
   ]
  },
  {
   "cell_type": "markdown",
   "metadata": {},
   "source": [
    "Средний чек также растет  на протяжении теста. В группе A он достигает пика 13 августа, затем несколько снижается, а к концу месяца выходит примерно на уровень 13 августа. В группе В видим резкий скачок 19 августа (вероятно, обусловленный крупным заказом), затем средний чек в B постепенно снижается. В целом средний чек в группе В больше. "
   ]
  },
  {
   "cell_type": "markdown",
   "metadata": {},
   "source": [
    "### График относительного изменения кумулятивного среднего чека группы В к группе А"
   ]
  },
  {
   "cell_type": "code",
   "execution_count": 23,
   "metadata": {},
   "outputs": [
    {
     "data": {
      "image/png": "[encoded data removed]",
      "text/plain": [
       "<Figure size 1080x360 with 1 Axes>"
      ]
     },
     "metadata": {
      "needs_background": "light"
     },
     "output_type": "display_data"
    }
   ],
   "source": [
    "# собираем данные в одном датафрейме\n",
    "mergedCumulativeRevenue = cumulativeRevenueA.merge(cumulativeRevenueB, left_on='date', right_on='date', how='left', suffixes=['A', 'B'])\n",
    "\n",
    "plt.figure(figsize=(15,5))\n",
    "plt.grid()\n",
    "\n",
    "# cтроим отношение средних чеков\n",
    "plt.plot(mergedCumulativeRevenue['date'], (mergedCumulativeRevenue['revenueB']/mergedCumulativeRevenue['ordersB'])/(mergedCumulativeRevenue['revenueA']/mergedCumulativeRevenue['ordersA'])-1)\n",
    "\n",
    "# добавляем ось X\n",
    "plt.axhline(y=0, color='black', linestyle='--')\n",
    "\n",
    "plt.title('График относительного изменения кумулятивного среднего чека группы В к группе А');"
   ]
  },
  {
   "cell_type": "markdown",
   "metadata": {},
   "source": [
    "Средний чек B уже 2 августа превысил A и рос до 7 августа. 8 августа начался спад до 13 августа, причем 3 дня 12-14 августа средний чек A был больше B. 16 августа  средний чек B оказался больше А и был больше до конца месяца. Здесь так же виден рост  19 августа с последующим постепенным снижением. "
   ]
  },
  {
   "cell_type": "markdown",
   "metadata": {},
   "source": [
    "### График кумулятивной конверсии по группам"
   ]
  },
  {
   "cell_type": "code",
   "execution_count": 24,
   "metadata": {},
   "outputs": [
    {
     "data": {
      "image/png": "[encoded data removed]",
      "text/plain": [
       "<Figure size 1080x360 with 1 Axes>"
      ]
     },
     "metadata": {
      "needs_background": "light"
     },
     "output_type": "display_data"
    }
   ],
   "source": [
    "# считаем кумулятивную конверсию\n",
    "cumulativeData['conversion'] = cumulativeData['orders']/cumulativeData['visitors']\n",
    "\n",
    "# отделяем данные по группе A\n",
    "cumulativeDataA = cumulativeData[cumulativeData['group']=='A']\n",
    "# отделяем данные по группе B\n",
    "cumulativeDataB = cumulativeData[cumulativeData['group']=='B']\n",
    "\n",
    "# строим графики\n",
    "plt.figure(figsize=(15,5))\n",
    "plt.grid()\n",
    "plt.plot(cumulativeDataA['date'], cumulativeDataA['conversion'], label='кумулятивная конверсия A')\n",
    "plt.plot(cumulativeDataB['date'], cumulativeDataB['conversion'], label='кумулятивная конверсия B')\n",
    "plt.title('Кумулятивная конверсия')\n",
    "plt.legend();\n",
    "# plt.axis([\"2019-08-01\", '2019-08-31', 0.028, 0.038]) ;"
   ]
  },
  {
   "cell_type": "markdown",
   "metadata": {},
   "source": [
    "С начала месяца конверсия A была значительно больше B, после пика 3 августа она начала сильно падать и начиная с 9 августа стагнировала  в  диапазоне 0,029-0,031. Конверсия группы B начала расти с 4 августа, 6 августа превысила конверсию A и росла до 10 августа чуть выше 0,036, затем начала постепенно снижаться. В целом конверсия группы B значительно больше А."
   ]
  },
  {
   "cell_type": "markdown",
   "metadata": {},
   "source": [
    "### График относительного изменения кумулятивной конверсии группы В к группе А"
   ]
  },
  {
   "cell_type": "code",
   "execution_count": 25,
   "metadata": {},
   "outputs": [
    {
     "data": {
      "image/png": "[encoded data removed]",
      "text/plain": [
       "<Figure size 1080x360 with 1 Axes>"
      ]
     },
     "metadata": {
      "needs_background": "light"
     },
     "output_type": "display_data"
    }
   ],
   "source": [
    "mergedCumulativeConversions = cumulativeDataA[['date','conversion']].merge(cumulativeDataB[['date','conversion']], \\\n",
    "                                                    left_on='date', right_on='date', how='left', suffixes=['A', 'B'])\n",
    "plt.figure(figsize=(15,5))\n",
    "plt.grid()\n",
    "plt.plot(mergedCumulativeConversions['date'], mergedCumulativeConversions['conversionB']/mergedCumulativeConversions['conversionA']-1, label=\"Относительный прирост конверсии группы B относительно группы A\")\n",
    "\n",
    "plt.title('Относительное изменение кумулятивной конверсии группы B к группе A')\n",
    "\n",
    "plt.axhline(y=0, color='black', linestyle='--') \n",
    "plt.axhline(y=0.1, color='grey', linestyle='--');"
   ]
  },
  {
   "cell_type": "markdown",
   "metadata": {},
   "source": [
    "В начале теста группа B проигрывала группе A, затем вырвалась вперёд. Начиная с 6 августа группа B лидировала до конца периода; её конверсия росла до 15 августа, затем пошло постепенное снижение. В конце месяца наблюдается рост. "
   ]
  },
  {
   "cell_type": "markdown",
   "metadata": {},
   "source": [
    "### Точечный график количества заказов по пользователям"
   ]
  },
  {
   "cell_type": "code",
   "execution_count": 26,
   "metadata": {},
   "outputs": [
    {
     "data": {
      "text/html": [
       "<div>\n",
       "<style scoped>\n",
       "    .dataframe tbody tr th:only-of-type {\n",
       "        vertical-align: middle;\n",
       "    }\n",
       "\n",
       "    .dataframe tbody tr th {\n",
       "        vertical-align: top;\n",
       "    }\n",
       "\n",
       "    .dataframe thead th {\n",
       "        text-align: right;\n",
       "    }\n",
       "</style>\n",
       "<table border=\"1\" class=\"dataframe\">\n",
       "  <thead>\n",
       "    <tr style=\"text-align: right;\">\n",
       "      <th></th>\n",
       "      <th>user_id</th>\n",
       "      <th>orders</th>\n",
       "    </tr>\n",
       "  </thead>\n",
       "  <tbody>\n",
       "    <tr>\n",
       "      <th>1023</th>\n",
       "      <td>4256040402</td>\n",
       "      <td>11</td>\n",
       "    </tr>\n",
       "    <tr>\n",
       "      <th>591</th>\n",
       "      <td>2458001652</td>\n",
       "      <td>11</td>\n",
       "    </tr>\n",
       "    <tr>\n",
       "      <th>569</th>\n",
       "      <td>2378935119</td>\n",
       "      <td>9</td>\n",
       "    </tr>\n",
       "    <tr>\n",
       "      <th>487</th>\n",
       "      <td>2038680547</td>\n",
       "      <td>8</td>\n",
       "    </tr>\n",
       "    <tr>\n",
       "      <th>44</th>\n",
       "      <td>199603092</td>\n",
       "      <td>5</td>\n",
       "    </tr>\n",
       "    <tr>\n",
       "      <th>744</th>\n",
       "      <td>3062433592</td>\n",
       "      <td>5</td>\n",
       "    </tr>\n",
       "    <tr>\n",
       "      <th>55</th>\n",
       "      <td>237748145</td>\n",
       "      <td>5</td>\n",
       "    </tr>\n",
       "    <tr>\n",
       "      <th>917</th>\n",
       "      <td>3803269165</td>\n",
       "      <td>5</td>\n",
       "    </tr>\n",
       "    <tr>\n",
       "      <th>299</th>\n",
       "      <td>1230306981</td>\n",
       "      <td>5</td>\n",
       "    </tr>\n",
       "    <tr>\n",
       "      <th>897</th>\n",
       "      <td>3717692402</td>\n",
       "      <td>5</td>\n",
       "    </tr>\n",
       "  </tbody>\n",
       "</table>\n",
       "</div>"
      ],
      "text/plain": [
       "         user_id  orders\n",
       "1023  4256040402      11\n",
       "591   2458001652      11\n",
       "569   2378935119       9\n",
       "487   2038680547       8\n",
       "44     199603092       5\n",
       "744   3062433592       5\n",
       "55     237748145       5\n",
       "917   3803269165       5\n",
       "299   1230306981       5\n",
       "897   3717692402       5"
      ]
     },
     "execution_count": 26,
     "metadata": {},
     "output_type": "execute_result"
    }
   ],
   "source": [
    "#сортируем заказы по пользователям\n",
    "ordersByUsers = orders.drop(['group', 'revenue', 'date'], axis=1).groupby('visitorId', as_index=False). \\\n",
    "                                                                        agg({'transactionId' : pd.Series.nunique})\n",
    "ordersByUsers.columns = ['user_id','orders']\n",
    "ordersByUsers.sort_values(by='orders',ascending=False).head(10)"
   ]
  },
  {
   "cell_type": "code",
   "execution_count": 27,
   "metadata": {},
   "outputs": [
    {
     "data": {
      "image/png": "[encoded data removed]",
      "text/plain": [
       "<Figure size 1080x360 with 1 Axes>"
      ]
     },
     "metadata": {
      "needs_background": "light"
     },
     "output_type": "display_data"
    }
   ],
   "source": [
    "#строим график\n",
    "x_values = pd.Series(range(0,len(ordersByUsers)))\n",
    "\n",
    "plt.figure(figsize=(15,5))\n",
    "plt.grid()\n",
    "plt.title('График количества заказов по пользователям')\n",
    "plt.scatter(x_values, ordersByUsers['orders'], alpha=0.5);"
   ]
  },
  {
   "cell_type": "markdown",
   "metadata": {},
   "source": [
    "Большинство пользователей делают 1 заказ. Есть пользователи, которые делают 2 заказа, но их значительно меньше. Еще меньше пользователей делают 3 заказа. Выше 4 заказов - явно аномалия. Точно определить выбросы можно после расчета перцентилей. "
   ]
  },
  {
   "cell_type": "markdown",
   "metadata": {},
   "source": [
    "### Определение аномальных пользователей"
   ]
  },
  {
   "cell_type": "markdown",
   "metadata": {},
   "source": [
    "Посчитаем 95-й и 99-й перцентили количества заказов на пользователя:"
   ]
  },
  {
   "cell_type": "code",
   "execution_count": 28,
   "metadata": {},
   "outputs": [
    {
     "name": "stdout",
     "output_type": "stream",
     "text": [
      "[2. 4.]\n"
     ]
    }
   ],
   "source": [
    "print(np.percentile(ordersByUsers['orders'], [95, 99])) "
   ]
  },
  {
   "cell_type": "markdown",
   "metadata": {},
   "source": [
    "Меньше 1% пользователей сделали больше 4 заказов, меньше 5% пользователей сделали больше 2 заказов."
   ]
  },
  {
   "cell_type": "markdown",
   "metadata": {},
   "source": [
    "Выберем  4 заказа на одного пользователя за нижнюю границу числа заказов."
   ]
  },
  {
   "cell_type": "markdown",
   "metadata": {},
   "source": [
    "### Точечный график стоимости заказов"
   ]
  },
  {
   "cell_type": "code",
   "execution_count": 29,
   "metadata": {},
   "outputs": [
    {
     "data": {
      "image/png": "[encoded data removed]",
      "text/plain": [
       "<Figure size 1080x360 with 1 Axes>"
      ]
     },
     "metadata": {
      "needs_background": "light"
     },
     "output_type": "display_data"
    }
   ],
   "source": [
    "x_values = pd.Series(range(0,len(orders['revenue'])))\n",
    "plt.figure(figsize=(15,5))\n",
    "plt.grid()\n",
    "plt.title('График стоимостей заказов')\n",
    "plt.scatter(x_values, orders['revenue'], alpha=0.5);"
   ]
  },
  {
   "cell_type": "markdown",
   "metadata": {},
   "source": [
    "Видим огромный выброс на одного пользователя со стоимостью заказа более 1.2 млн. Для наглядности построим график с ограничем по У-оси."
   ]
  },
  {
   "cell_type": "code",
   "execution_count": 30,
   "metadata": {},
   "outputs": [
    {
     "data": {
      "image/png": "[encoded data removed]",
      "text/plain": [
       "<Figure size 1080x360 with 1 Axes>"
      ]
     },
     "metadata": {
      "needs_background": "light"
     },
     "output_type": "display_data"
    }
   ],
   "source": [
    "norm_orders = orders[orders['revenue']<=200000]['revenue']\n",
    "xn_values = pd.Series(range(0,len(norm_orders)))\n",
    "plt.figure(figsize=(15,5))\n",
    "plt.grid()\n",
    "plt.title('График стоимостей заказов')\n",
    "plt.scatter(xn_values, norm_orders, alpha=0.5);"
   ]
  },
  {
   "cell_type": "markdown",
   "metadata": {},
   "source": [
    "По графику можно выбрать границу аномальных заказов между 20 000 и 40 000 рублей. Точнее определит расчет перцентилей."
   ]
  },
  {
   "cell_type": "markdown",
   "metadata": {},
   "source": [
    "### Определение аномальных заказов"
   ]
  },
  {
   "cell_type": "markdown",
   "metadata": {},
   "source": [
    "Посчитаем 95-й и 99-й перцентили стоимости заказов:"
   ]
  },
  {
   "cell_type": "code",
   "execution_count": 31,
   "metadata": {},
   "outputs": [
    {
     "name": "stdout",
     "output_type": "stream",
     "text": [
      "[28000.  58233.2]\n"
     ]
    }
   ],
   "source": [
    "print(np.percentile(orders['revenue'], [95, 99])) "
   ]
  },
  {
   "cell_type": "markdown",
   "metadata": {},
   "source": [
    "99% заказов меньше суммы 58233.2 , установим её в качестве границы для аномалий."
   ]
  },
  {
   "cell_type": "markdown",
   "metadata": {},
   "source": [
    "### Расчет статистической значимости различий в конверсии между группами по \"сырым\" данным"
   ]
  },
  {
   "cell_type": "markdown",
   "metadata": {},
   "source": [
    "Посчитаем статистическую значимость различий в конверсии между группами по «сырым» данным — без удаления аномальных пользователей."
   ]
  },
  {
   "cell_type": "markdown",
   "metadata": {},
   "source": [
    "Сформулируем гипотезы:\n",
    "\n",
    "Нулевая гипотеза: различий в конверсии между группами А и В нет.\n",
    "\n",
    "Альтернативная гипотеза: различия в конверсии между группами А и В есть."
   ]
  },
  {
   "cell_type": "markdown",
   "metadata": {},
   "source": [
    "Подготовим данные: создадим несколько таблиц и объединим их:"
   ]
  },
  {
   "cell_type": "code",
   "execution_count": 32,
   "metadata": {},
   "outputs": [
    {
     "data": {
      "text/html": [
       "<div>\n",
       "<style scoped>\n",
       "    .dataframe tbody tr th:only-of-type {\n",
       "        vertical-align: middle;\n",
       "    }\n",
       "\n",
       "    .dataframe tbody tr th {\n",
       "        vertical-align: top;\n",
       "    }\n",
       "\n",
       "    .dataframe thead th {\n",
       "        text-align: right;\n",
       "    }\n",
       "</style>\n",
       "<table border=\"1\" class=\"dataframe\">\n",
       "  <thead>\n",
       "    <tr style=\"text-align: right;\">\n",
       "      <th></th>\n",
       "      <th>date</th>\n",
       "      <th>ordersPerDateA</th>\n",
       "      <th>revenuePerDateA</th>\n",
       "      <th>ordersPerDateB</th>\n",
       "      <th>revenuePerDateB</th>\n",
       "      <th>ordersCummulativeA</th>\n",
       "      <th>revenueCummulativeA</th>\n",
       "      <th>ordersCummulativeB</th>\n",
       "      <th>revenueCummulativeB</th>\n",
       "      <th>visitorsPerDateA</th>\n",
       "      <th>visitorsPerDateB</th>\n",
       "      <th>visitorsCummulativeA</th>\n",
       "      <th>visitorsCummulativeB</th>\n",
       "    </tr>\n",
       "  </thead>\n",
       "  <tbody>\n",
       "    <tr>\n",
       "      <th>0</th>\n",
       "      <td>2019-08-01</td>\n",
       "      <td>24</td>\n",
       "      <td>148579</td>\n",
       "      <td>21</td>\n",
       "      <td>101217</td>\n",
       "      <td>24</td>\n",
       "      <td>148579</td>\n",
       "      <td>21</td>\n",
       "      <td>101217</td>\n",
       "      <td>719</td>\n",
       "      <td>713</td>\n",
       "      <td>719</td>\n",
       "      <td>713</td>\n",
       "    </tr>\n",
       "    <tr>\n",
       "      <th>1</th>\n",
       "      <td>2019-08-02</td>\n",
       "      <td>20</td>\n",
       "      <td>93822</td>\n",
       "      <td>24</td>\n",
       "      <td>165531</td>\n",
       "      <td>44</td>\n",
       "      <td>242401</td>\n",
       "      <td>45</td>\n",
       "      <td>266748</td>\n",
       "      <td>619</td>\n",
       "      <td>581</td>\n",
       "      <td>1338</td>\n",
       "      <td>1294</td>\n",
       "    </tr>\n",
       "    <tr>\n",
       "      <th>2</th>\n",
       "      <td>2019-08-03</td>\n",
       "      <td>24</td>\n",
       "      <td>112473</td>\n",
       "      <td>16</td>\n",
       "      <td>114248</td>\n",
       "      <td>68</td>\n",
       "      <td>354874</td>\n",
       "      <td>61</td>\n",
       "      <td>380996</td>\n",
       "      <td>507</td>\n",
       "      <td>509</td>\n",
       "      <td>1845</td>\n",
       "      <td>1803</td>\n",
       "    </tr>\n",
       "    <tr>\n",
       "      <th>3</th>\n",
       "      <td>2019-08-04</td>\n",
       "      <td>16</td>\n",
       "      <td>70825</td>\n",
       "      <td>17</td>\n",
       "      <td>108571</td>\n",
       "      <td>84</td>\n",
       "      <td>425699</td>\n",
       "      <td>78</td>\n",
       "      <td>489567</td>\n",
       "      <td>717</td>\n",
       "      <td>770</td>\n",
       "      <td>2562</td>\n",
       "      <td>2573</td>\n",
       "    </tr>\n",
       "    <tr>\n",
       "      <th>4</th>\n",
       "      <td>2019-08-05</td>\n",
       "      <td>25</td>\n",
       "      <td>124218</td>\n",
       "      <td>23</td>\n",
       "      <td>92428</td>\n",
       "      <td>109</td>\n",
       "      <td>549917</td>\n",
       "      <td>101</td>\n",
       "      <td>581995</td>\n",
       "      <td>756</td>\n",
       "      <td>707</td>\n",
       "      <td>3318</td>\n",
       "      <td>3280</td>\n",
       "    </tr>\n",
       "  </tbody>\n",
       "</table>\n",
       "</div>"
      ],
      "text/plain": [
       "        date  ordersPerDateA  revenuePerDateA  ordersPerDateB  \\\n",
       "0 2019-08-01              24           148579              21   \n",
       "1 2019-08-02              20            93822              24   \n",
       "2 2019-08-03              24           112473              16   \n",
       "3 2019-08-04              16            70825              17   \n",
       "4 2019-08-05              25           124218              23   \n",
       "\n",
       "   revenuePerDateB  ordersCummulativeA  revenueCummulativeA  \\\n",
       "0           101217                  24               148579   \n",
       "1           165531                  44               242401   \n",
       "2           114248                  68               354874   \n",
       "3           108571                  84               425699   \n",
       "4            92428                 109               549917   \n",
       "\n",
       "   ordersCummulativeB  revenueCummulativeB  visitorsPerDateA  \\\n",
       "0                  21               101217               719   \n",
       "1                  45               266748               619   \n",
       "2                  61               380996               507   \n",
       "3                  78               489567               717   \n",
       "4                 101               581995               756   \n",
       "\n",
       "   visitorsPerDateB  visitorsCummulativeA  visitorsCummulativeB  \n",
       "0               713                   719                   713  \n",
       "1               581                  1338                  1294  \n",
       "2               509                  1845                  1803  \n",
       "3               770                  2562                  2573  \n",
       "4               707                  3318                  3280  "
      ]
     },
     "metadata": {},
     "output_type": "display_data"
    }
   ],
   "source": [
    "#cобираем таблицы с данными о пользователях\n",
    "visitorsADaily = visitors[visitors['group'] == 'A'][['date', 'visitors']]\n",
    "visitorsADaily.columns = ['date', 'visitorsPerDateA']\n",
    "\n",
    "visitorsACummulative = visitorsADaily.apply(\n",
    "    lambda x: visitorsADaily[visitorsADaily['date'] <= x['date']].agg(\n",
    "        {'date': 'max', 'visitorsPerDateA': 'sum'}\n",
    "    ),\n",
    "    axis=1,\n",
    ")\n",
    "visitorsACummulative.columns = ['date', 'visitorsCummulativeA']\n",
    "\n",
    "visitorsBDaily = visitors[visitors['group'] == 'B'][['date', 'visitors']]\n",
    "visitorsBDaily.columns = ['date', 'visitorsPerDateB']\n",
    "\n",
    "visitorsBCummulative = visitorsBDaily.apply(\n",
    "    lambda x: visitorsBDaily[visitorsBDaily['date'] <= x['date']].agg(\n",
    "        {'date': 'max', 'visitorsPerDateB': 'sum'}\n",
    "    ),\n",
    "    axis=1,\n",
    ")\n",
    "visitorsBCummulative.columns = ['date', 'visitorsCummulativeB']\n",
    "\n",
    "#собираем таблицы с данными о заказах\n",
    "ordersADaily = (\n",
    "    orders[orders['group'] == 'A'][['date', 'transactionId', 'visitorId', 'revenue']]\n",
    "    .groupby('date', as_index=False)\n",
    "    .agg({'transactionId': pd.Series.nunique, 'revenue': 'sum'})\n",
    ")\n",
    "ordersADaily.columns = ['date', 'ordersPerDateA', 'revenuePerDateA']\n",
    "\n",
    "ordersACummulative = ordersADaily.apply(\n",
    "    lambda x: ordersADaily[ordersADaily['date'] <= x['date']].agg(\n",
    "        {'date': 'max', 'ordersPerDateA': 'sum', 'revenuePerDateA': 'sum'}\n",
    "    ),\n",
    "    axis=1,\n",
    ").sort_values(by=['date'])\n",
    "ordersACummulative.columns = [\n",
    "    'date',\n",
    "    'ordersCummulativeA',\n",
    "    'revenueCummulativeA',\n",
    "]\n",
    "\n",
    "ordersBDaily = (\n",
    "    orders[orders['group'] == 'B'][['date', 'transactionId', 'visitorId', 'revenue']]\n",
    "    .groupby('date', as_index=False)\n",
    "    .agg({'transactionId': pd.Series.nunique, 'revenue': 'sum'})\n",
    ")\n",
    "ordersBDaily.columns = ['date', 'ordersPerDateB', 'revenuePerDateB']\n",
    "\n",
    "ordersBCummulative = ordersBDaily.apply(\n",
    "    lambda x: ordersBDaily[ordersBDaily['date'] <= x['date']].agg(\n",
    "        {'date': 'max', 'ordersPerDateB': 'sum', 'revenuePerDateB': 'sum'}\n",
    "    ),\n",
    "    axis=1,\n",
    ").sort_values(by=['date'])\n",
    "ordersBCummulative.columns = [\n",
    "    'date',\n",
    "    'ordersCummulativeB',\n",
    "    'revenueCummulativeB',\n",
    "]\n",
    "\n",
    "#объединяем в одну таблицу\n",
    "data = (\n",
    "    ordersADaily.merge(\n",
    "        ordersBDaily, left_on='date', right_on='date', how='left'\n",
    "    )\n",
    "    .merge(ordersACummulative, left_on='date', right_on='date', how='left')\n",
    "    .merge(ordersBCummulative, left_on='date', right_on='date', how='left')\n",
    "    .merge(visitorsADaily, left_on='date', right_on='date', how='left')\n",
    "    .merge(visitorsBDaily, left_on='date', right_on='date', how='left')\n",
    "    .merge(visitorsACummulative, left_on='date', right_on='date', how='left')\n",
    "    .merge(visitorsBCummulative, left_on='date', right_on='date', how='left')\n",
    ")\n",
    "\n",
    "display(data.head(5))"
   ]
  },
  {
   "cell_type": "markdown",
   "metadata": {},
   "source": [
    "Для расчета статистической значимости различия в конверсии между группами создадим переменные ordersByUsersA и ordersByUsersB со столбцами ['userId', 'orders']. В них для пользователей, которые заказывали хотя бы 1 раз, укажем число совершённых заказов."
   ]
  },
  {
   "cell_type": "code",
   "execution_count": 33,
   "metadata": {},
   "outputs": [],
   "source": [
    "ordersByUsersA = (\n",
    "    orders[orders['group'] == 'A']\n",
    "    .groupby('visitorId', as_index=False)\n",
    "    .agg({'transactionId': pd.Series.nunique})\n",
    ")\n",
    "ordersByUsersA.columns = ['visitorId', 'orders']\n",
    "\n",
    "ordersByUsersB = (\n",
    "    orders[orders['group'] == 'B']\n",
    "    .groupby('visitorId', as_index=False)\n",
    "    .agg({'transactionId': pd.Series.nunique})\n",
    ")\n",
    "ordersByUsersB.columns = ['visitorId', 'orders']"
   ]
  },
  {
   "cell_type": "markdown",
   "metadata": {},
   "source": [
    "Объявим переменные sampleA и sampleB, в которых пользователям из разных групп будет соответствовать количество заказов. Тем, кто ничего не заказал, будут соответствовать нули. "
   ]
  },
  {
   "cell_type": "code",
   "execution_count": 34,
   "metadata": {},
   "outputs": [],
   "source": [
    "sampleA = pd.concat([ordersByUsersA['orders'],pd.Series(0, index=np.arange(data['visitorsPerDateA'].sum() - len(ordersByUsersA['orders'])), name='orders')],axis=0)\n",
    "\n",
    "sampleB = pd.concat([ordersByUsersB['orders'],pd.Series(0, index=np.arange(data['visitorsPerDateB'].sum() - len(ordersByUsersB['orders'])), name='orders')],axis=0)"
   ]
  },
  {
   "cell_type": "markdown",
   "metadata": {},
   "source": [
    "Применим непараметрический критерий Манна-Уитни, так как он подходит для нашего случая, когда в данных есть выбросы."
   ]
  },
  {
   "cell_type": "code",
   "execution_count": 35,
   "metadata": {},
   "outputs": [
    {
     "name": "stdout",
     "output_type": "stream",
     "text": [
      "alpha = 0.05\n",
      "p-value = 0.017\n",
      "Относительный показатель 'B' и 'A' = 0.138\n"
     ]
    }
   ],
   "source": [
    "print(\"alpha =\",0.05)\n",
    "print(\"p-value = {0:.3f}\".format(stats.mannwhitneyu(sampleA, sampleB)[1]))\n",
    "print(\"Относительный показатель 'B' и 'A' = {0:.3f}\".format(sampleB.mean()/sampleA.mean()-1)) "
   ]
  },
  {
   "cell_type": "markdown",
   "metadata": {},
   "source": [
    "p-value = 0.017 меньше 0.05. Значит, отвергаем нулевую гипотезу о том, что статистически значимых различий в конверсии между группами нет. То есть по «сырым» данным различия в конверсии групп A и B есть. Относительный выигрыш группы B над A равен 13.8% ."
   ]
  },
  {
   "cell_type": "markdown",
   "metadata": {},
   "source": [
    "### Расчет статистической значимости различий в среднем чеке заказа между группами по \"сырым\" данным"
   ]
  },
  {
   "cell_type": "markdown",
   "metadata": {},
   "source": [
    "Теперь проверим статистическую значимость различий в среднем чеке между сегментами. Нулевая гипотеза: различий в среднем чеке между группами нет. Альтернативная гипотеза: различия в среднем чеке между группами есть."
   ]
  },
  {
   "cell_type": "markdown",
   "metadata": {},
   "source": [
    "Для расчета статистической значимости различий в среднем чеке передадим критерию mannwhitneyu() данные о выручке с заказов и\n",
    "найдём относительные различия в среднем чеке между группами:"
   ]
  },
  {
   "cell_type": "code",
   "execution_count": 36,
   "metadata": {},
   "outputs": [
    {
     "name": "stdout",
     "output_type": "stream",
     "text": [
      "alpha = 0.05\n",
      "p-value = 0.729\n",
      "Относительный показатель 'B' и 'A' = 0.259\n"
     ]
    }
   ],
   "source": [
    "print(\"alpha =\",0.05)\n",
    "print('p-value = {0:.3f}'.format(stats.mannwhitneyu(orders[orders['group']=='A']['revenue'], orders[orders['group']=='B']['revenue'])[1]))\n",
    "print(\"Относительный показатель 'B' и 'A' = {0:.3f}\".format(orders[orders['group']=='B']['revenue'].mean()/orders[orders['group']=='A']['revenue'].mean()-1)) "
   ]
  },
  {
   "cell_type": "markdown",
   "metadata": {},
   "source": [
    "По \"сырым\", не очищенным от выбросов данным наблюдаем различие: cредний чек группы B значительно выше среднего чека группы A (на ~26%). Но p-value = 0.729 больше 0.05, т.к. тест Манна-Уитни не чувствителен к выбросам и все равно показывает, что различий нет. Значит, нет причин отвергать нулевую гипотезу. По «сырым» данным средние чеки групп А и В схожи. "
   ]
  },
  {
   "cell_type": "markdown",
   "metadata": {},
   "source": [
    "### Расчет статистической значимости различий в конверсии между группами по \"очищенным\" данным"
   ]
  },
  {
   "cell_type": "markdown",
   "metadata": {},
   "source": [
    "В предыдущих пунктах мы приняли за аномальных пользователей тех, кто совершил больше 4 заказов или заказ дороже 58233.2 рублей. Сделаем срезы пользователей с числом заказов больше 4 — usersWithManyOrders и пользователей, совершивших заказы дороже 58233.2  — usersWithExpensiveOrders. Объединим их в таблице abnormalUsers. Узнаем, сколько всего аномальных пользователей методом shape()."
   ]
  },
  {
   "cell_type": "code",
   "execution_count": 37,
   "metadata": {},
   "outputs": [
    {
     "name": "stdout",
     "output_type": "stream",
     "text": [
      "1099     148427295\n",
      "949      887908475\n",
      "744      888512513\n",
      "1103    1164614297\n",
      "1136    1307669133\n",
      "Name: visitorId, dtype: int64\n",
      "(15,)\n"
     ]
    }
   ],
   "source": [
    "usersWithManyOrders = pd.concat(\n",
    "    [\n",
    "        ordersByUsersA[ordersByUsersA['orders'] > 4]['visitorId'],\n",
    "        ordersByUsersB[ordersByUsersB['orders'] > 4]['visitorId'],\n",
    "    ],\n",
    "    axis=0,\n",
    ")\n",
    "revenue_lim = np.percentile(orders['revenue'], 99)\n",
    "usersWithExpensiveOrders = orders[orders['revenue'] > revenue_lim]['visitorId']\n",
    "abnormalUsers = (\n",
    "    pd.concat([usersWithManyOrders, usersWithExpensiveOrders], axis=0)\n",
    "    .drop_duplicates()\n",
    "    .sort_values()\n",
    ")\n",
    "print(abnormalUsers.head(5))\n",
    "print(abnormalUsers.shape)"
   ]
  },
  {
   "cell_type": "markdown",
   "metadata": {},
   "source": [
    "Всего 15 аномальных пользователей.\n",
    "Узнаем, как их действия повлияли на результаты теста. Посчитаем статистическую значимость различий в конверсии между группами теста по очищенным данным. Сначала подготовим выборки количества заказов по пользователям по группам теста:"
   ]
  },
  {
   "cell_type": "code",
   "execution_count": 38,
   "metadata": {},
   "outputs": [],
   "source": [
    "sampleAFiltered = pd.concat(\n",
    "    [\n",
    "        ordersByUsersA[\n",
    "            np.logical_not(ordersByUsersA['visitorId'].isin(abnormalUsers))\n",
    "        ]['orders'],\n",
    "        pd.Series(\n",
    "            0,\n",
    "            index=np.arange(\n",
    "                data['visitorsPerDateA'].sum() - len(ordersByUsersA['orders'])\n",
    "            ),\n",
    "            name='orders',\n",
    "        ),\n",
    "    ],\n",
    "    axis=0,\n",
    ")\n",
    "\n",
    "sampleBFiltered = pd.concat(\n",
    "    [\n",
    "        ordersByUsersB[\n",
    "            np.logical_not(ordersByUsersB['visitorId'].isin(abnormalUsers))\n",
    "        ]['orders'],\n",
    "        pd.Series(\n",
    "            0,\n",
    "            index=np.arange(\n",
    "                data['visitorsPerDateB'].sum() - len(ordersByUsersB['orders'])\n",
    "            ),\n",
    "            name='orders',\n",
    "        ),\n",
    "    ],\n",
    "    axis=0,\n",
    ")"
   ]
  },
  {
   "cell_type": "markdown",
   "metadata": {},
   "source": [
    "Нулевая: различий в конверсии между группами нет. Альтернативная: различия в конверсии между группами есть. Применим статистический критерий Манна-Уитни к полученным выборкам."
   ]
  },
  {
   "cell_type": "code",
   "execution_count": 39,
   "metadata": {},
   "outputs": [
    {
     "name": "stdout",
     "output_type": "stream",
     "text": [
      "alpha = 0.05\n",
      "p-value = 0.014\n",
      "Относительный показатель 'B' и 'A' = 0.153\n"
     ]
    }
   ],
   "source": [
    "print(\"alpha =\",0.05)\n",
    "print(\"p-value = {0:.3f}\".format(stats.mannwhitneyu(sampleAFiltered, sampleBFiltered, alternative = 'two-sided')[1]))\n",
    "print(\"Относительный показатель 'B' и 'A' = {0:.3f}\".format(sampleBFiltered.mean()/sampleAFiltered.mean()-1)) "
   ]
  },
  {
   "cell_type": "markdown",
   "metadata": {},
   "source": [
    "p-value = 0.014 меньше 0.05. Значит, отвергаем нулевую гипотезу о том, что статистически значимых различий в конверсии между группами нет. То есть и по \"очищенным\" данным различия в конверсии групп A и B есть. Относительный выигрыш группы B над A равен 15,3% (этот на 1,5% выше, чем по «сырым» данным)."
   ]
  },
  {
   "cell_type": "markdown",
   "metadata": {},
   "source": [
    "### Расчет статистической значимости различий в среднем чеке заказа между группами по \"очищенным\" данным"
   ]
  },
  {
   "cell_type": "markdown",
   "metadata": {},
   "source": [
    "Посмотрим теперь результаты по среднему чеку. Нулевая и альтернативная гипотезы те же."
   ]
  },
  {
   "cell_type": "code",
   "execution_count": 40,
   "metadata": {},
   "outputs": [
    {
     "name": "stdout",
     "output_type": "stream",
     "text": [
      "alpha = 0.05\n",
      "p-value = 0.851\n",
      "Относительный показатель 'B' и 'A' = -0.006\n"
     ]
    }
   ],
   "source": [
    "print(\"alpha =\",0.05)\n",
    "print(\"p-value = {0:.3f}\".format(stats.mannwhitneyu(\n",
    "    orders[np.logical_and(\n",
    "        orders['group']=='A',\n",
    "        np.logical_not(orders['visitorId'].isin(abnormalUsers)))]['revenue'],\n",
    "    orders[np.logical_and(\n",
    "        orders['group']=='B',\n",
    "        np.logical_not(orders['visitorId'].isin(abnormalUsers)))]['revenue'], alternative = 'two-sided')[1]))\n",
    "\n",
    "print(\"Относительный показатель 'B' и 'A' = {0:.3f}\".format(\n",
    "    orders[np.logical_and(orders['group']=='B',np.logical_not(orders['visitorId'].isin(abnormalUsers)))]['revenue'].mean()/\n",
    "    orders[np.logical_and(\n",
    "        orders['group']=='A',\n",
    "        np.logical_not(orders['visitorId'].isin(abnormalUsers)))]['revenue'].mean() - 1)) "
   ]
  },
  {
   "cell_type": "markdown",
   "metadata": {},
   "source": [
    "p-value больше 0.05, т.е. нет причин отвергать нулевую гипотезу. Имеется статистически незначимое различие: средний чек группы B чуть ниже среднего чека группы A (на 0,6%). По \"сырым\" данным он был больше на 13,8%. Причина в выбросе - заказе на 1,29 млн, который мы удалили из выборки. Можем заключить, что по «очищенным» данным средние чеки схожи (как и по \"сырым\" данным). "
   ]
  },
  {
   "cell_type": "markdown",
   "metadata": {},
   "source": [
    "### Принятие решения по результатам теста"
   ]
  },
  {
   "cell_type": "markdown",
   "metadata": {},
   "source": [
    "По результатам теста было выявлено:\n",
    "- имеются статистические различия между конверсией группы А и конверсией группы В как по \"сырым\", так и по \"очищенным\" данным; \n",
    "- относительный выигрыш группы B над А по конверсии равен 15,3% по \"очищенным\" и 13.8% по \"сырым\" данным;\n",
    "- статистические различия в среднем чеке между группами А и В отсутствуют как по \"сырым\", так и по \"очищенным\" данным;\n",
    "- средний чек группы B был больше по \"сырым\" данным на ~26%, а по \"очищенным\" оказался незначительно (на 0,6%) ниже среднего чека группы A. Причина - аномальный заказ на 1,29 млн."
   ]
  },
  {
   "cell_type": "markdown",
   "metadata": {},
   "source": [
    "Можно принять решение остановить тест и зафиксировать победу группы В: она значительно лучше по конверсии, хотя по среднему чеку группы примерно равны."
   ]
  },
  {
   "cell_type": "markdown",
   "metadata": {},
   "source": [
    "## Вывод"
   ]
  },
  {
   "cell_type": "markdown",
   "metadata": {},
   "source": [
    "- Данные были загружены и подготовлены к анализу.\n",
    "- Были определены наиболее приоритетные гипотезы: 7, 2, 0.\n",
    "- Группа B лучше группы А по конверсии. По среднем чеку нет больших различий.\n",
    "- Можно остановить A/B-тест и зафиксировать победу группы В."
   ]
  }
 ],
 "metadata": {
  "ExecuteTimeLog": [
   {
    "duration": 48,
    "start_time": "2022-03-28T17:55:12.659Z"
   },
   {
    "duration": 1291,
    "start_time": "2022-03-28T17:58:53.569Z"
   },
   {
    "duration": 87,
    "start_time": "2022-03-28T17:58:57.062Z"
   },
   {
    "duration": 69,
    "start_time": "2022-03-28T18:01:34.954Z"
   },
   {
    "duration": 23,
    "start_time": "2022-03-28T18:04:15.733Z"
   },
   {
    "duration": 67,
    "start_time": "2022-03-28T18:06:33.985Z"
   },
   {
    "duration": 7,
    "start_time": "2022-03-28T18:07:16.055Z"
   },
   {
    "duration": 6,
    "start_time": "2022-03-28T18:08:11.336Z"
   },
   {
    "duration": 7,
    "start_time": "2022-03-28T18:11:01.189Z"
   },
   {
    "duration": 11,
    "start_time": "2022-03-28T18:11:34.112Z"
   },
   {
    "duration": 69,
    "start_time": "2022-03-28T18:14:00.867Z"
   },
   {
    "duration": 11,
    "start_time": "2022-03-28T18:14:06.810Z"
   },
   {
    "duration": 6,
    "start_time": "2022-03-28T18:14:10.625Z"
   },
   {
    "duration": 7,
    "start_time": "2022-03-28T18:14:13.199Z"
   },
   {
    "duration": 505,
    "start_time": "2022-03-28T18:15:12.033Z"
   },
   {
    "duration": 1151,
    "start_time": "2022-03-28T18:15:42.565Z"
   },
   {
    "duration": 65,
    "start_time": "2022-03-28T18:15:43.718Z"
   },
   {
    "duration": 10,
    "start_time": "2022-03-28T18:15:43.785Z"
   },
   {
    "duration": 30,
    "start_time": "2022-03-28T18:15:43.798Z"
   },
   {
    "duration": 14,
    "start_time": "2022-03-28T18:15:43.829Z"
   },
   {
    "duration": 590,
    "start_time": "2022-03-28T18:15:43.845Z"
   },
   {
    "duration": 571,
    "start_time": "2022-03-28T18:16:11.419Z"
   },
   {
    "duration": 504,
    "start_time": "2022-03-28T18:16:22.894Z"
   },
   {
    "duration": 4,
    "start_time": "2022-03-28T18:17:39.401Z"
   },
   {
    "duration": 27,
    "start_time": "2022-03-28T18:17:44.819Z"
   },
   {
    "duration": 522,
    "start_time": "2022-03-28T18:17:55.428Z"
   },
   {
    "duration": 523,
    "start_time": "2022-03-28T18:18:02.432Z"
   },
   {
    "duration": 17,
    "start_time": "2022-03-28T18:18:09.824Z"
   },
   {
    "duration": 10,
    "start_time": "2022-03-28T18:18:15.109Z"
   },
   {
    "duration": 11,
    "start_time": "2022-03-28T18:18:29.732Z"
   },
   {
    "duration": 1198,
    "start_time": "2022-03-28T18:18:39.132Z"
   },
   {
    "duration": 74,
    "start_time": "2022-03-28T18:18:40.333Z"
   },
   {
    "duration": 11,
    "start_time": "2022-03-28T18:18:40.409Z"
   },
   {
    "duration": 11,
    "start_time": "2022-03-28T18:18:40.422Z"
   },
   {
    "duration": 8,
    "start_time": "2022-03-28T18:18:40.435Z"
   },
   {
    "duration": 13,
    "start_time": "2022-03-28T18:18:40.445Z"
   },
   {
    "duration": 10,
    "start_time": "2022-03-28T18:18:40.459Z"
   },
   {
    "duration": 32,
    "start_time": "2022-03-28T18:18:58.422Z"
   },
   {
    "duration": 16,
    "start_time": "2022-03-28T18:19:08.282Z"
   },
   {
    "duration": 10,
    "start_time": "2022-03-28T18:20:18.987Z"
   },
   {
    "duration": 10,
    "start_time": "2022-03-28T18:21:39.116Z"
   },
   {
    "duration": 4,
    "start_time": "2022-03-28T18:22:12.032Z"
   },
   {
    "duration": 7,
    "start_time": "2022-03-28T18:22:31.120Z"
   },
   {
    "duration": 8,
    "start_time": "2022-03-28T18:23:10.172Z"
   },
   {
    "duration": 10,
    "start_time": "2022-03-28T18:25:34.891Z"
   },
   {
    "duration": 10,
    "start_time": "2022-03-28T18:25:42.483Z"
   },
   {
    "duration": 0,
    "start_time": "2022-03-28T18:31:35.922Z"
   },
   {
    "duration": 2014,
    "start_time": "2022-03-28T18:33:06.805Z"
   },
   {
    "duration": 13,
    "start_time": "2022-03-28T18:33:43.906Z"
   },
   {
    "duration": 11,
    "start_time": "2022-03-28T18:37:15.879Z"
   },
   {
    "duration": 4,
    "start_time": "2022-03-28T18:38:00.098Z"
   },
   {
    "duration": 12,
    "start_time": "2022-03-28T18:38:10.447Z"
   },
   {
    "duration": 79,
    "start_time": "2022-03-29T07:45:36.768Z"
   },
   {
    "duration": 1847,
    "start_time": "2022-03-29T07:45:42.353Z"
   },
   {
    "duration": 81,
    "start_time": "2022-03-29T07:45:44.203Z"
   },
   {
    "duration": 16,
    "start_time": "2022-03-29T07:45:44.286Z"
   },
   {
    "duration": 32,
    "start_time": "2022-03-29T07:45:44.305Z"
   },
   {
    "duration": 31,
    "start_time": "2022-03-29T07:45:44.339Z"
   },
   {
    "duration": 43,
    "start_time": "2022-03-29T07:45:44.373Z"
   },
   {
    "duration": 17,
    "start_time": "2022-03-29T07:45:44.418Z"
   },
   {
    "duration": 39,
    "start_time": "2022-03-29T07:45:44.438Z"
   },
   {
    "duration": 23,
    "start_time": "2022-03-29T07:45:44.480Z"
   },
   {
    "duration": 32,
    "start_time": "2022-03-29T07:45:44.507Z"
   },
   {
    "duration": 26,
    "start_time": "2022-03-29T07:45:44.541Z"
   },
   {
    "duration": 38,
    "start_time": "2022-03-29T07:45:44.569Z"
   },
   {
    "duration": 45,
    "start_time": "2022-03-29T07:45:44.609Z"
   },
   {
    "duration": 17,
    "start_time": "2022-03-29T07:45:44.657Z"
   },
   {
    "duration": 177,
    "start_time": "2022-03-29T07:45:44.677Z"
   },
   {
    "duration": 0,
    "start_time": "2022-03-29T07:45:44.857Z"
   },
   {
    "duration": 0,
    "start_time": "2022-03-29T07:45:44.859Z"
   },
   {
    "duration": 0,
    "start_time": "2022-03-29T07:45:44.862Z"
   },
   {
    "duration": 0,
    "start_time": "2022-03-29T07:45:44.864Z"
   },
   {
    "duration": 0,
    "start_time": "2022-03-29T07:45:44.866Z"
   },
   {
    "duration": 0,
    "start_time": "2022-03-29T07:45:44.884Z"
   },
   {
    "duration": 0,
    "start_time": "2022-03-29T07:45:44.887Z"
   },
   {
    "duration": 0,
    "start_time": "2022-03-29T07:45:44.889Z"
   },
   {
    "duration": 0,
    "start_time": "2022-03-29T07:45:44.891Z"
   },
   {
    "duration": 18,
    "start_time": "2022-03-29T07:48:57.039Z"
   },
   {
    "duration": 18,
    "start_time": "2022-03-29T07:48:59.656Z"
   },
   {
    "duration": 1596,
    "start_time": "2022-03-29T07:49:19.706Z"
   },
   {
    "duration": 88,
    "start_time": "2022-03-29T07:49:21.305Z"
   },
   {
    "duration": 15,
    "start_time": "2022-03-29T07:49:21.396Z"
   },
   {
    "duration": 11,
    "start_time": "2022-03-29T07:49:21.415Z"
   },
   {
    "duration": 10,
    "start_time": "2022-03-29T07:49:21.428Z"
   },
   {
    "duration": 66,
    "start_time": "2022-03-29T07:49:21.440Z"
   },
   {
    "duration": 38,
    "start_time": "2022-03-29T07:49:21.508Z"
   },
   {
    "duration": 27,
    "start_time": "2022-03-29T07:49:21.548Z"
   },
   {
    "duration": 16,
    "start_time": "2022-03-29T07:49:21.577Z"
   },
   {
    "duration": 9,
    "start_time": "2022-03-29T07:49:21.597Z"
   },
   {
    "duration": 12,
    "start_time": "2022-03-29T07:49:21.608Z"
   },
   {
    "duration": 21,
    "start_time": "2022-03-29T07:49:21.623Z"
   },
   {
    "duration": 47,
    "start_time": "2022-03-29T07:49:21.646Z"
   },
   {
    "duration": 16,
    "start_time": "2022-03-29T07:49:21.696Z"
   },
   {
    "duration": 181,
    "start_time": "2022-03-29T07:49:21.714Z"
   },
   {
    "duration": 0,
    "start_time": "2022-03-29T07:49:21.897Z"
   },
   {
    "duration": 0,
    "start_time": "2022-03-29T07:49:21.898Z"
   },
   {
    "duration": 0,
    "start_time": "2022-03-29T07:49:21.900Z"
   },
   {
    "duration": 0,
    "start_time": "2022-03-29T07:49:21.901Z"
   },
   {
    "duration": 0,
    "start_time": "2022-03-29T07:49:21.902Z"
   },
   {
    "duration": 0,
    "start_time": "2022-03-29T07:49:21.904Z"
   },
   {
    "duration": 0,
    "start_time": "2022-03-29T07:49:21.905Z"
   },
   {
    "duration": 0,
    "start_time": "2022-03-29T07:49:21.906Z"
   },
   {
    "duration": 0,
    "start_time": "2022-03-29T07:49:21.908Z"
   },
   {
    "duration": 17,
    "start_time": "2022-03-29T07:50:09.651Z"
   },
   {
    "duration": 50,
    "start_time": "2022-03-29T07:50:18.843Z"
   },
   {
    "duration": 9,
    "start_time": "2022-03-29T07:53:11.448Z"
   },
   {
    "duration": 41,
    "start_time": "2022-03-29T07:53:18.703Z"
   },
   {
    "duration": 286,
    "start_time": "2022-03-29T07:54:25.064Z"
   },
   {
    "duration": 451,
    "start_time": "2022-03-29T07:54:36.936Z"
   },
   {
    "duration": 457,
    "start_time": "2022-03-29T07:54:50.128Z"
   },
   {
    "duration": 457,
    "start_time": "2022-03-29T07:54:54.065Z"
   },
   {
    "duration": 408,
    "start_time": "2022-03-29T07:55:09.632Z"
   },
   {
    "duration": 404,
    "start_time": "2022-03-29T07:55:18.105Z"
   },
   {
    "duration": 293,
    "start_time": "2022-03-29T08:04:25.060Z"
   },
   {
    "duration": 2041,
    "start_time": "2022-03-29T08:14:24.921Z"
   },
   {
    "duration": 87,
    "start_time": "2022-03-29T08:14:26.965Z"
   },
   {
    "duration": 16,
    "start_time": "2022-03-29T08:14:27.055Z"
   },
   {
    "duration": 12,
    "start_time": "2022-03-29T08:14:27.075Z"
   },
   {
    "duration": 17,
    "start_time": "2022-03-29T08:14:27.089Z"
   },
   {
    "duration": 38,
    "start_time": "2022-03-29T08:14:27.108Z"
   },
   {
    "duration": 17,
    "start_time": "2022-03-29T08:14:27.173Z"
   },
   {
    "duration": 17,
    "start_time": "2022-03-29T08:14:27.195Z"
   },
   {
    "duration": 9,
    "start_time": "2022-03-29T08:14:27.214Z"
   },
   {
    "duration": 50,
    "start_time": "2022-03-29T08:14:27.229Z"
   },
   {
    "duration": 14,
    "start_time": "2022-03-29T08:14:27.281Z"
   },
   {
    "duration": 27,
    "start_time": "2022-03-29T08:14:27.298Z"
   },
   {
    "duration": 52,
    "start_time": "2022-03-29T08:14:27.328Z"
   },
   {
    "duration": 18,
    "start_time": "2022-03-29T08:14:27.382Z"
   },
   {
    "duration": 21,
    "start_time": "2022-03-29T08:14:27.403Z"
   },
   {
    "duration": 524,
    "start_time": "2022-03-29T08:14:27.426Z"
   },
   {
    "duration": 479,
    "start_time": "2022-03-29T08:14:27.954Z"
   },
   {
    "duration": 313,
    "start_time": "2022-03-29T08:14:28.436Z"
   },
   {
    "duration": 531,
    "start_time": "2022-03-29T08:14:28.752Z"
   },
   {
    "duration": 470,
    "start_time": "2022-03-29T08:14:29.286Z"
   },
   {
    "duration": 1,
    "start_time": "2022-03-29T08:14:29.758Z"
   },
   {
    "duration": 0,
    "start_time": "2022-03-29T08:14:29.760Z"
   },
   {
    "duration": 0,
    "start_time": "2022-03-29T08:14:29.774Z"
   },
   {
    "duration": 0,
    "start_time": "2022-03-29T08:14:29.776Z"
   },
   {
    "duration": 330,
    "start_time": "2022-03-29T08:16:01.928Z"
   },
   {
    "duration": 295,
    "start_time": "2022-03-29T08:17:10.409Z"
   },
   {
    "duration": 348,
    "start_time": "2022-03-29T08:17:19.481Z"
   },
   {
    "duration": 324,
    "start_time": "2022-03-29T08:21:05.192Z"
   },
   {
    "duration": 446,
    "start_time": "2022-03-29T08:22:10.819Z"
   },
   {
    "duration": 557,
    "start_time": "2022-03-29T09:31:16.801Z"
   },
   {
    "duration": 467,
    "start_time": "2022-03-29T09:31:43.161Z"
   },
   {
    "duration": 1687,
    "start_time": "2022-03-29T10:45:37.858Z"
   },
   {
    "duration": 83,
    "start_time": "2022-03-29T10:45:39.548Z"
   },
   {
    "duration": 14,
    "start_time": "2022-03-29T10:45:39.634Z"
   },
   {
    "duration": 24,
    "start_time": "2022-03-29T10:45:39.651Z"
   },
   {
    "duration": 9,
    "start_time": "2022-03-29T10:45:39.677Z"
   },
   {
    "duration": 33,
    "start_time": "2022-03-29T10:45:39.688Z"
   },
   {
    "duration": 14,
    "start_time": "2022-03-29T10:45:39.723Z"
   },
   {
    "duration": 15,
    "start_time": "2022-03-29T10:45:39.767Z"
   },
   {
    "duration": 18,
    "start_time": "2022-03-29T10:45:39.784Z"
   },
   {
    "duration": 21,
    "start_time": "2022-03-29T10:45:39.805Z"
   },
   {
    "duration": 27,
    "start_time": "2022-03-29T10:45:39.828Z"
   },
   {
    "duration": 25,
    "start_time": "2022-03-29T10:45:39.857Z"
   },
   {
    "duration": 21,
    "start_time": "2022-03-29T10:45:39.885Z"
   },
   {
    "duration": 15,
    "start_time": "2022-03-29T10:45:39.909Z"
   },
   {
    "duration": 14,
    "start_time": "2022-03-29T10:45:39.927Z"
   },
   {
    "duration": 477,
    "start_time": "2022-03-29T10:45:39.944Z"
   },
   {
    "duration": 455,
    "start_time": "2022-03-29T10:45:40.423Z"
   },
   {
    "duration": 432,
    "start_time": "2022-03-29T10:45:40.880Z"
   },
   {
    "duration": 512,
    "start_time": "2022-03-29T10:45:41.314Z"
   },
   {
    "duration": 443,
    "start_time": "2022-03-29T10:45:41.830Z"
   },
   {
    "duration": 0,
    "start_time": "2022-03-29T10:45:42.276Z"
   },
   {
    "duration": 0,
    "start_time": "2022-03-29T10:45:42.279Z"
   },
   {
    "duration": 0,
    "start_time": "2022-03-29T10:45:42.281Z"
   },
   {
    "duration": 0,
    "start_time": "2022-03-29T10:45:42.284Z"
   },
   {
    "duration": 305,
    "start_time": "2022-03-29T10:56:48.832Z"
   },
   {
    "duration": 357,
    "start_time": "2022-03-29T10:57:23.834Z"
   },
   {
    "duration": 535,
    "start_time": "2022-03-29T10:58:27.961Z"
   },
   {
    "duration": 415,
    "start_time": "2022-03-29T11:04:23.610Z"
   },
   {
    "duration": 472,
    "start_time": "2022-03-29T11:05:03.507Z"
   },
   {
    "duration": 420,
    "start_time": "2022-03-29T11:07:09.950Z"
   },
   {
    "duration": 412,
    "start_time": "2022-03-29T11:07:35.846Z"
   },
   {
    "duration": 408,
    "start_time": "2022-03-29T11:07:42.270Z"
   },
   {
    "duration": 359,
    "start_time": "2022-03-29T11:08:34.079Z"
   },
   {
    "duration": 441,
    "start_time": "2022-03-29T11:10:02.801Z"
   },
   {
    "duration": 460,
    "start_time": "2022-03-29T11:10:07.129Z"
   },
   {
    "duration": 11,
    "start_time": "2022-03-29T11:13:08.427Z"
   },
   {
    "duration": 189,
    "start_time": "2022-03-29T11:16:53.096Z"
   },
   {
    "duration": 282,
    "start_time": "2022-03-29T11:19:52.747Z"
   },
   {
    "duration": 248,
    "start_time": "2022-03-29T11:20:46.836Z"
   },
   {
    "duration": 202,
    "start_time": "2022-03-29T11:21:10.453Z"
   },
   {
    "duration": 237,
    "start_time": "2022-03-29T11:22:00.285Z"
   },
   {
    "duration": 11,
    "start_time": "2022-03-29T11:26:31.202Z"
   },
   {
    "duration": 6,
    "start_time": "2022-03-29T11:26:54.727Z"
   },
   {
    "duration": 223,
    "start_time": "2022-03-29T11:41:35.947Z"
   },
   {
    "duration": 251,
    "start_time": "2022-03-29T11:42:54.013Z"
   },
   {
    "duration": 343,
    "start_time": "2022-03-29T11:46:38.649Z"
   },
   {
    "duration": 265,
    "start_time": "2022-03-29T11:48:18.674Z"
   },
   {
    "duration": 1315,
    "start_time": "2022-03-29T12:04:12.344Z"
   },
   {
    "duration": 64,
    "start_time": "2022-03-29T12:04:13.661Z"
   },
   {
    "duration": 11,
    "start_time": "2022-03-29T12:04:13.726Z"
   },
   {
    "duration": 8,
    "start_time": "2022-03-29T12:04:13.739Z"
   },
   {
    "duration": 8,
    "start_time": "2022-03-29T12:04:13.749Z"
   },
   {
    "duration": 25,
    "start_time": "2022-03-29T12:04:13.759Z"
   },
   {
    "duration": 13,
    "start_time": "2022-03-29T12:04:13.785Z"
   },
   {
    "duration": 35,
    "start_time": "2022-03-29T12:04:13.799Z"
   },
   {
    "duration": 5,
    "start_time": "2022-03-29T12:04:13.835Z"
   },
   {
    "duration": 7,
    "start_time": "2022-03-29T12:04:13.842Z"
   },
   {
    "duration": 7,
    "start_time": "2022-03-29T12:04:13.851Z"
   },
   {
    "duration": 11,
    "start_time": "2022-03-29T12:04:13.860Z"
   },
   {
    "duration": 20,
    "start_time": "2022-03-29T12:04:13.873Z"
   },
   {
    "duration": 10,
    "start_time": "2022-03-29T12:04:13.895Z"
   },
   {
    "duration": 11,
    "start_time": "2022-03-29T12:04:13.932Z"
   },
   {
    "duration": 283,
    "start_time": "2022-03-29T12:04:13.945Z"
   },
   {
    "duration": 269,
    "start_time": "2022-03-29T12:04:14.229Z"
   },
   {
    "duration": 191,
    "start_time": "2022-03-29T12:04:14.500Z"
   },
   {
    "duration": 381,
    "start_time": "2022-03-29T12:04:14.692Z"
   },
   {
    "duration": 212,
    "start_time": "2022-03-29T12:04:15.075Z"
   },
   {
    "duration": 278,
    "start_time": "2022-03-29T12:04:15.289Z"
   },
   {
    "duration": 129,
    "start_time": "2022-03-29T12:04:15.569Z"
   },
   {
    "duration": 134,
    "start_time": "2022-03-29T12:04:15.700Z"
   },
   {
    "duration": 5,
    "start_time": "2022-03-29T12:04:15.836Z"
   },
   {
    "duration": 151,
    "start_time": "2022-03-29T12:04:15.842Z"
   },
   {
    "duration": 162,
    "start_time": "2022-03-29T12:04:15.995Z"
   },
   {
    "duration": 93,
    "start_time": "2022-03-29T12:05:30.786Z"
   },
   {
    "duration": 5,
    "start_time": "2022-03-29T12:05:37.497Z"
   },
   {
    "duration": 170,
    "start_time": "2022-03-29T12:14:51.245Z"
   },
   {
    "duration": 101,
    "start_time": "2022-03-29T12:16:10.349Z"
   },
   {
    "duration": 152,
    "start_time": "2022-03-29T12:16:30.511Z"
   },
   {
    "duration": 213,
    "start_time": "2022-03-29T12:16:42.543Z"
   },
   {
    "duration": 217,
    "start_time": "2022-03-29T12:17:11.600Z"
   },
   {
    "duration": 225,
    "start_time": "2022-03-29T12:17:24.784Z"
   },
   {
    "duration": 119,
    "start_time": "2022-03-29T12:26:39.375Z"
   },
   {
    "duration": 7,
    "start_time": "2022-03-29T12:27:40.632Z"
   },
   {
    "duration": 127,
    "start_time": "2022-03-29T12:30:04.373Z"
   },
   {
    "duration": 3,
    "start_time": "2022-03-29T12:30:35.293Z"
   },
   {
    "duration": 152,
    "start_time": "2022-03-29T12:30:47.965Z"
   },
   {
    "duration": 155,
    "start_time": "2022-03-29T12:34:32.289Z"
   },
   {
    "duration": 12,
    "start_time": "2022-03-29T12:38:21.660Z"
   },
   {
    "duration": 229,
    "start_time": "2022-03-29T12:39:16.787Z"
   },
   {
    "duration": 10,
    "start_time": "2022-03-29T12:39:49.783Z"
   },
   {
    "duration": 9,
    "start_time": "2022-03-29T12:55:00.327Z"
   },
   {
    "duration": 8,
    "start_time": "2022-03-29T12:56:52.109Z"
   },
   {
    "duration": 23,
    "start_time": "2022-03-29T12:57:14.537Z"
   },
   {
    "duration": 22,
    "start_time": "2022-03-29T12:57:36.298Z"
   },
   {
    "duration": 1915,
    "start_time": "2022-03-29T13:03:01.529Z"
   },
   {
    "duration": 16,
    "start_time": "2022-03-29T13:03:25.166Z"
   },
   {
    "duration": 136,
    "start_time": "2022-03-29T13:04:05.465Z"
   },
   {
    "duration": 117,
    "start_time": "2022-03-29T13:04:35.706Z"
   },
   {
    "duration": 151,
    "start_time": "2022-03-29T13:04:56.178Z"
   },
   {
    "duration": 13,
    "start_time": "2022-03-29T13:05:31.491Z"
   },
   {
    "duration": 1137,
    "start_time": "2022-03-29T13:42:03.667Z"
   },
   {
    "duration": 59,
    "start_time": "2022-03-29T13:42:04.806Z"
   },
   {
    "duration": 11,
    "start_time": "2022-03-29T13:42:04.868Z"
   },
   {
    "duration": 9,
    "start_time": "2022-03-29T13:42:04.881Z"
   },
   {
    "duration": 8,
    "start_time": "2022-03-29T13:42:04.892Z"
   },
   {
    "duration": 38,
    "start_time": "2022-03-29T13:42:04.902Z"
   },
   {
    "duration": 10,
    "start_time": "2022-03-29T13:42:04.942Z"
   },
   {
    "duration": 13,
    "start_time": "2022-03-29T13:42:04.954Z"
   },
   {
    "duration": 10,
    "start_time": "2022-03-29T13:42:04.969Z"
   },
   {
    "duration": 6,
    "start_time": "2022-03-29T13:42:04.982Z"
   },
   {
    "duration": 11,
    "start_time": "2022-03-29T13:42:04.989Z"
   },
   {
    "duration": 36,
    "start_time": "2022-03-29T13:42:05.001Z"
   },
   {
    "duration": 19,
    "start_time": "2022-03-29T13:42:05.039Z"
   },
   {
    "duration": 11,
    "start_time": "2022-03-29T13:42:05.059Z"
   },
   {
    "duration": 15,
    "start_time": "2022-03-29T13:42:05.071Z"
   },
   {
    "duration": 293,
    "start_time": "2022-03-29T13:42:05.088Z"
   },
   {
    "duration": 276,
    "start_time": "2022-03-29T13:42:05.383Z"
   },
   {
    "duration": 193,
    "start_time": "2022-03-29T13:42:05.661Z"
   },
   {
    "duration": 310,
    "start_time": "2022-03-29T13:42:05.856Z"
   },
   {
    "duration": 211,
    "start_time": "2022-03-29T13:42:06.168Z"
   },
   {
    "duration": 281,
    "start_time": "2022-03-29T13:42:06.380Z"
   },
   {
    "duration": 122,
    "start_time": "2022-03-29T13:42:06.663Z"
   },
   {
    "duration": 134,
    "start_time": "2022-03-29T13:42:06.786Z"
   },
   {
    "duration": 12,
    "start_time": "2022-03-29T13:42:06.922Z"
   },
   {
    "duration": 154,
    "start_time": "2022-03-29T13:42:06.936Z"
   },
   {
    "duration": 189,
    "start_time": "2022-03-29T13:42:07.092Z"
   },
   {
    "duration": 4,
    "start_time": "2022-03-29T13:42:07.283Z"
   },
   {
    "duration": 302,
    "start_time": "2022-03-29T13:42:07.291Z"
   },
   {
    "duration": 143,
    "start_time": "2022-03-29T13:42:07.594Z"
   },
   {
    "duration": 6,
    "start_time": "2022-03-29T13:42:07.739Z"
   },
   {
    "duration": 174,
    "start_time": "2022-03-29T13:42:07.747Z"
   },
   {
    "duration": 20,
    "start_time": "2022-03-29T13:42:07.923Z"
   },
   {
    "duration": 14,
    "start_time": "2022-03-29T13:42:07.944Z"
   },
   {
    "duration": 15,
    "start_time": "2022-03-29T13:42:07.959Z"
   },
   {
    "duration": 29,
    "start_time": "2022-03-29T13:42:07.976Z"
   },
   {
    "duration": 26,
    "start_time": "2022-03-29T13:42:08.007Z"
   },
   {
    "duration": 1239,
    "start_time": "2022-03-30T06:46:16.163Z"
   },
   {
    "duration": 58,
    "start_time": "2022-03-30T06:46:17.404Z"
   },
   {
    "duration": 11,
    "start_time": "2022-03-30T06:46:17.463Z"
   },
   {
    "duration": 9,
    "start_time": "2022-03-30T06:46:17.476Z"
   },
   {
    "duration": 7,
    "start_time": "2022-03-30T06:46:17.486Z"
   },
   {
    "duration": 30,
    "start_time": "2022-03-30T06:46:17.495Z"
   },
   {
    "duration": 10,
    "start_time": "2022-03-30T06:46:17.527Z"
   },
   {
    "duration": 23,
    "start_time": "2022-03-30T06:46:17.538Z"
   },
   {
    "duration": 16,
    "start_time": "2022-03-30T06:46:17.562Z"
   },
   {
    "duration": 8,
    "start_time": "2022-03-30T06:46:17.581Z"
   },
   {
    "duration": 8,
    "start_time": "2022-03-30T06:46:17.591Z"
   },
   {
    "duration": 10,
    "start_time": "2022-03-30T06:46:17.608Z"
   },
   {
    "duration": 14,
    "start_time": "2022-03-30T06:46:17.619Z"
   },
   {
    "duration": 11,
    "start_time": "2022-03-30T06:46:17.634Z"
   },
   {
    "duration": 12,
    "start_time": "2022-03-30T06:46:17.646Z"
   },
   {
    "duration": 303,
    "start_time": "2022-03-30T06:46:17.660Z"
   },
   {
    "duration": 294,
    "start_time": "2022-03-30T06:46:17.965Z"
   },
   {
    "duration": 218,
    "start_time": "2022-03-30T06:46:18.261Z"
   },
   {
    "duration": 389,
    "start_time": "2022-03-30T06:46:18.481Z"
   },
   {
    "duration": 240,
    "start_time": "2022-03-30T06:46:18.872Z"
   },
   {
    "duration": 317,
    "start_time": "2022-03-30T06:46:19.114Z"
   },
   {
    "duration": 152,
    "start_time": "2022-03-30T06:46:19.433Z"
   },
   {
    "duration": 157,
    "start_time": "2022-03-30T06:46:19.587Z"
   },
   {
    "duration": 4,
    "start_time": "2022-03-30T06:46:19.746Z"
   },
   {
    "duration": 171,
    "start_time": "2022-03-30T06:46:19.751Z"
   },
   {
    "duration": 190,
    "start_time": "2022-03-30T06:46:19.923Z"
   },
   {
    "duration": 3,
    "start_time": "2022-03-30T06:46:20.115Z"
   },
   {
    "duration": 288,
    "start_time": "2022-03-30T06:46:20.121Z"
   },
   {
    "duration": 130,
    "start_time": "2022-03-30T06:46:20.411Z"
   },
   {
    "duration": 6,
    "start_time": "2022-03-30T06:46:20.543Z"
   },
   {
    "duration": 159,
    "start_time": "2022-03-30T06:46:20.550Z"
   },
   {
    "duration": 11,
    "start_time": "2022-03-30T06:46:20.710Z"
   },
   {
    "duration": 8,
    "start_time": "2022-03-30T06:46:20.723Z"
   },
   {
    "duration": 11,
    "start_time": "2022-03-30T06:46:20.732Z"
   },
   {
    "duration": 31,
    "start_time": "2022-03-30T06:46:20.745Z"
   },
   {
    "duration": 34,
    "start_time": "2022-03-30T06:46:20.778Z"
   },
   {
    "duration": 3,
    "start_time": "2022-03-30T06:46:52.468Z"
   },
   {
    "duration": 12,
    "start_time": "2022-03-30T06:46:57.877Z"
   },
   {
    "duration": 12,
    "start_time": "2022-03-30T06:47:05.397Z"
   },
   {
    "duration": 62,
    "start_time": "2022-03-30T06:48:21.326Z"
   },
   {
    "duration": 2,
    "start_time": "2022-03-30T06:54:51.445Z"
   },
   {
    "duration": 74,
    "start_time": "2022-03-30T07:33:00.042Z"
   },
   {
    "duration": 80,
    "start_time": "2022-03-30T07:33:26.690Z"
   },
   {
    "duration": 77,
    "start_time": "2022-03-30T07:33:44.821Z"
   },
   {
    "duration": 63,
    "start_time": "2022-03-30T07:34:56.974Z"
   },
   {
    "duration": 71,
    "start_time": "2022-03-30T07:35:51.502Z"
   },
   {
    "duration": 78,
    "start_time": "2022-03-30T07:37:01.456Z"
   },
   {
    "duration": 168,
    "start_time": "2022-03-30T07:40:23.442Z"
   },
   {
    "duration": 1127,
    "start_time": "2022-03-30T07:41:03.940Z"
   },
   {
    "duration": 61,
    "start_time": "2022-03-30T07:41:05.069Z"
   },
   {
    "duration": 10,
    "start_time": "2022-03-30T07:41:05.132Z"
   },
   {
    "duration": 7,
    "start_time": "2022-03-30T07:41:05.144Z"
   },
   {
    "duration": 9,
    "start_time": "2022-03-30T07:41:05.153Z"
   },
   {
    "duration": 45,
    "start_time": "2022-03-30T07:41:05.164Z"
   },
   {
    "duration": 11,
    "start_time": "2022-03-30T07:41:05.210Z"
   },
   {
    "duration": 16,
    "start_time": "2022-03-30T07:41:05.223Z"
   },
   {
    "duration": 10,
    "start_time": "2022-03-30T07:41:05.240Z"
   },
   {
    "duration": 8,
    "start_time": "2022-03-30T07:41:05.253Z"
   },
   {
    "duration": 10,
    "start_time": "2022-03-30T07:41:05.262Z"
   },
   {
    "duration": 36,
    "start_time": "2022-03-30T07:41:05.273Z"
   },
   {
    "duration": 182,
    "start_time": "2022-03-30T07:41:05.310Z"
   },
   {
    "duration": 0,
    "start_time": "2022-03-30T07:41:05.493Z"
   },
   {
    "duration": 0,
    "start_time": "2022-03-30T07:41:05.495Z"
   },
   {
    "duration": 0,
    "start_time": "2022-03-30T07:41:05.496Z"
   },
   {
    "duration": 0,
    "start_time": "2022-03-30T07:41:05.509Z"
   },
   {
    "duration": 0,
    "start_time": "2022-03-30T07:41:05.509Z"
   },
   {
    "duration": 0,
    "start_time": "2022-03-30T07:41:05.510Z"
   },
   {
    "duration": 0,
    "start_time": "2022-03-30T07:41:05.512Z"
   },
   {
    "duration": 0,
    "start_time": "2022-03-30T07:41:05.513Z"
   },
   {
    "duration": 0,
    "start_time": "2022-03-30T07:41:05.514Z"
   },
   {
    "duration": 0,
    "start_time": "2022-03-30T07:41:05.514Z"
   },
   {
    "duration": 0,
    "start_time": "2022-03-30T07:41:05.515Z"
   },
   {
    "duration": 0,
    "start_time": "2022-03-30T07:41:05.516Z"
   },
   {
    "duration": 0,
    "start_time": "2022-03-30T07:41:05.517Z"
   },
   {
    "duration": 0,
    "start_time": "2022-03-30T07:41:05.518Z"
   },
   {
    "duration": 0,
    "start_time": "2022-03-30T07:41:05.519Z"
   },
   {
    "duration": 0,
    "start_time": "2022-03-30T07:41:05.520Z"
   },
   {
    "duration": 0,
    "start_time": "2022-03-30T07:41:05.521Z"
   },
   {
    "duration": 0,
    "start_time": "2022-03-30T07:41:05.522Z"
   },
   {
    "duration": 0,
    "start_time": "2022-03-30T07:41:05.524Z"
   },
   {
    "duration": 0,
    "start_time": "2022-03-30T07:41:05.525Z"
   },
   {
    "duration": 0,
    "start_time": "2022-03-30T07:41:05.526Z"
   },
   {
    "duration": 0,
    "start_time": "2022-03-30T07:41:05.527Z"
   },
   {
    "duration": 0,
    "start_time": "2022-03-30T07:41:05.528Z"
   },
   {
    "duration": 0,
    "start_time": "2022-03-30T07:41:05.529Z"
   },
   {
    "duration": 0,
    "start_time": "2022-03-30T07:41:05.530Z"
   },
   {
    "duration": 83,
    "start_time": "2022-03-30T07:47:11.978Z"
   },
   {
    "duration": 76,
    "start_time": "2022-03-30T07:47:38.778Z"
   },
   {
    "duration": 77,
    "start_time": "2022-03-30T07:48:53.523Z"
   },
   {
    "duration": 71,
    "start_time": "2022-03-30T07:52:26.207Z"
   },
   {
    "duration": 66,
    "start_time": "2022-03-30T07:54:49.289Z"
   },
   {
    "duration": 4,
    "start_time": "2022-03-30T07:56:20.491Z"
   },
   {
    "duration": 3,
    "start_time": "2022-03-30T07:57:46.916Z"
   },
   {
    "duration": 4,
    "start_time": "2022-03-30T07:57:51.668Z"
   },
   {
    "duration": 6,
    "start_time": "2022-03-30T07:57:59.923Z"
   },
   {
    "duration": 60,
    "start_time": "2022-03-30T07:59:12.837Z"
   },
   {
    "duration": 78,
    "start_time": "2022-03-30T07:59:21.517Z"
   },
   {
    "duration": 4,
    "start_time": "2022-03-30T07:59:49.309Z"
   },
   {
    "duration": 4,
    "start_time": "2022-03-30T07:59:54.671Z"
   },
   {
    "duration": 6,
    "start_time": "2022-03-30T08:00:25.894Z"
   },
   {
    "duration": 4,
    "start_time": "2022-03-30T08:00:35.446Z"
   },
   {
    "duration": 64,
    "start_time": "2022-03-30T08:01:09.711Z"
   },
   {
    "duration": 4,
    "start_time": "2022-03-30T08:01:34.384Z"
   },
   {
    "duration": 4,
    "start_time": "2022-03-30T08:02:29.984Z"
   },
   {
    "duration": 1304,
    "start_time": "2022-03-30T08:54:42.156Z"
   },
   {
    "duration": 93,
    "start_time": "2022-03-30T08:54:43.462Z"
   },
   {
    "duration": 10,
    "start_time": "2022-03-30T08:54:43.557Z"
   },
   {
    "duration": 5,
    "start_time": "2022-03-30T08:54:43.570Z"
   },
   {
    "duration": 12,
    "start_time": "2022-03-30T08:54:43.576Z"
   },
   {
    "duration": 25,
    "start_time": "2022-03-30T08:54:43.590Z"
   },
   {
    "duration": 9,
    "start_time": "2022-03-30T08:54:43.616Z"
   },
   {
    "duration": 14,
    "start_time": "2022-03-30T08:54:43.627Z"
   },
   {
    "duration": 7,
    "start_time": "2022-03-30T08:54:43.642Z"
   },
   {
    "duration": 9,
    "start_time": "2022-03-30T08:54:43.651Z"
   },
   {
    "duration": 7,
    "start_time": "2022-03-30T08:54:43.681Z"
   },
   {
    "duration": 11,
    "start_time": "2022-03-30T08:54:43.689Z"
   },
   {
    "duration": 61,
    "start_time": "2022-03-30T08:54:43.701Z"
   },
   {
    "duration": 17,
    "start_time": "2022-03-30T08:54:43.764Z"
   },
   {
    "duration": 4,
    "start_time": "2022-03-30T08:54:43.782Z"
   },
   {
    "duration": 14,
    "start_time": "2022-03-30T08:54:43.787Z"
   },
   {
    "duration": 6,
    "start_time": "2022-03-30T08:54:43.802Z"
   },
   {
    "duration": 16,
    "start_time": "2022-03-30T08:54:43.809Z"
   },
   {
    "duration": 10,
    "start_time": "2022-03-30T08:54:43.827Z"
   },
   {
    "duration": 277,
    "start_time": "2022-03-30T08:54:43.839Z"
   },
   {
    "duration": 255,
    "start_time": "2022-03-30T08:54:44.118Z"
   },
   {
    "duration": 175,
    "start_time": "2022-03-30T08:54:44.375Z"
   },
   {
    "duration": 362,
    "start_time": "2022-03-30T08:54:44.552Z"
   },
   {
    "duration": 198,
    "start_time": "2022-03-30T08:54:44.915Z"
   },
   {
    "duration": 370,
    "start_time": "2022-03-30T08:54:45.114Z"
   },
   {
    "duration": 245,
    "start_time": "2022-03-30T08:54:45.486Z"
   },
   {
    "duration": 193,
    "start_time": "2022-03-30T08:54:45.733Z"
   },
   {
    "duration": 4,
    "start_time": "2022-03-30T08:54:45.931Z"
   },
   {
    "duration": 159,
    "start_time": "2022-03-30T08:54:45.937Z"
   },
   {
    "duration": 244,
    "start_time": "2022-03-30T08:54:46.097Z"
   },
   {
    "duration": 5,
    "start_time": "2022-03-30T08:54:46.343Z"
   },
   {
    "duration": 208,
    "start_time": "2022-03-30T08:54:46.349Z"
   },
   {
    "duration": 125,
    "start_time": "2022-03-30T08:54:46.558Z"
   },
   {
    "duration": 6,
    "start_time": "2022-03-30T08:54:46.685Z"
   },
   {
    "duration": 147,
    "start_time": "2022-03-30T08:54:46.692Z"
   },
   {
    "duration": 10,
    "start_time": "2022-03-30T08:54:46.840Z"
   },
   {
    "duration": 8,
    "start_time": "2022-03-30T08:54:46.852Z"
   },
   {
    "duration": 28,
    "start_time": "2022-03-30T08:54:46.861Z"
   },
   {
    "duration": 25,
    "start_time": "2022-03-30T08:54:46.891Z"
   },
   {
    "duration": 12,
    "start_time": "2022-03-30T08:54:46.918Z"
   },
   {
    "duration": 202,
    "start_time": "2022-03-30T08:58:10.434Z"
   },
   {
    "duration": 21,
    "start_time": "2022-03-30T08:58:40.194Z"
   },
   {
    "duration": 1177,
    "start_time": "2022-03-30T09:04:07.992Z"
   },
   {
    "duration": 86,
    "start_time": "2022-03-30T09:04:09.172Z"
   },
   {
    "duration": 13,
    "start_time": "2022-03-30T09:04:09.260Z"
   },
   {
    "duration": 13,
    "start_time": "2022-03-30T09:04:09.275Z"
   },
   {
    "duration": 8,
    "start_time": "2022-03-30T09:04:09.290Z"
   },
   {
    "duration": 35,
    "start_time": "2022-03-30T09:04:09.300Z"
   },
   {
    "duration": 13,
    "start_time": "2022-03-30T09:04:09.337Z"
   },
   {
    "duration": 14,
    "start_time": "2022-03-30T09:04:09.352Z"
   },
   {
    "duration": 15,
    "start_time": "2022-03-30T09:04:09.368Z"
   },
   {
    "duration": 6,
    "start_time": "2022-03-30T09:04:09.387Z"
   },
   {
    "duration": 12,
    "start_time": "2022-03-30T09:04:09.395Z"
   },
   {
    "duration": 14,
    "start_time": "2022-03-30T09:04:09.409Z"
   },
   {
    "duration": 81,
    "start_time": "2022-03-30T09:04:09.425Z"
   },
   {
    "duration": 4,
    "start_time": "2022-03-30T09:04:09.508Z"
   },
   {
    "duration": 11,
    "start_time": "2022-03-30T09:04:09.513Z"
   },
   {
    "duration": 11,
    "start_time": "2022-03-30T09:04:09.525Z"
   },
   {
    "duration": 6,
    "start_time": "2022-03-30T09:04:09.538Z"
   },
   {
    "duration": 14,
    "start_time": "2022-03-30T09:04:09.546Z"
   },
   {
    "duration": 31,
    "start_time": "2022-03-30T09:04:09.562Z"
   },
   {
    "duration": 425,
    "start_time": "2022-03-30T09:04:09.595Z"
   },
   {
    "duration": 431,
    "start_time": "2022-03-30T09:04:10.022Z"
   },
   {
    "duration": 286,
    "start_time": "2022-03-30T09:04:10.456Z"
   },
   {
    "duration": 424,
    "start_time": "2022-03-30T09:04:10.745Z"
   },
   {
    "duration": 210,
    "start_time": "2022-03-30T09:04:11.171Z"
   },
   {
    "duration": 284,
    "start_time": "2022-03-30T09:04:11.382Z"
   },
   {
    "duration": 133,
    "start_time": "2022-03-30T09:04:11.667Z"
   },
   {
    "duration": 138,
    "start_time": "2022-03-30T09:04:11.801Z"
   },
   {
    "duration": 4,
    "start_time": "2022-03-30T09:04:11.942Z"
   },
   {
    "duration": 150,
    "start_time": "2022-03-30T09:04:11.947Z"
   },
   {
    "duration": 219,
    "start_time": "2022-03-30T09:04:12.098Z"
   },
   {
    "duration": 3,
    "start_time": "2022-03-30T09:04:12.319Z"
   },
   {
    "duration": 202,
    "start_time": "2022-03-30T09:04:12.324Z"
   },
   {
    "duration": 122,
    "start_time": "2022-03-30T09:04:12.527Z"
   },
   {
    "duration": 6,
    "start_time": "2022-03-30T09:04:12.651Z"
   },
   {
    "duration": 31,
    "start_time": "2022-03-30T09:04:12.658Z"
   },
   {
    "duration": 10,
    "start_time": "2022-03-30T09:04:12.691Z"
   },
   {
    "duration": 8,
    "start_time": "2022-03-30T09:04:12.703Z"
   },
   {
    "duration": 8,
    "start_time": "2022-03-30T09:04:12.713Z"
   },
   {
    "duration": 22,
    "start_time": "2022-03-30T09:04:12.722Z"
   },
   {
    "duration": 44,
    "start_time": "2022-03-30T09:04:12.745Z"
   },
   {
    "duration": 8,
    "start_time": "2022-03-30T09:19:45.757Z"
   },
   {
    "duration": 9,
    "start_time": "2022-03-30T09:29:12.600Z"
   },
   {
    "duration": 256,
    "start_time": "2022-03-30T09:29:53.536Z"
   },
   {
    "duration": 3,
    "start_time": "2022-03-30T09:29:56.640Z"
   },
   {
    "duration": 4,
    "start_time": "2022-03-30T09:30:07.881Z"
   },
   {
    "duration": 11,
    "start_time": "2022-03-30T09:31:31.681Z"
   },
   {
    "duration": 11,
    "start_time": "2022-03-30T09:31:41.731Z"
   },
   {
    "duration": 10,
    "start_time": "2022-03-30T09:33:18.917Z"
   },
   {
    "duration": 36,
    "start_time": "2022-03-30T09:33:31.509Z"
   },
   {
    "duration": 14,
    "start_time": "2022-03-30T09:35:11.842Z"
   },
   {
    "duration": 9,
    "start_time": "2022-03-30T09:42:12.902Z"
   },
   {
    "duration": 1125,
    "start_time": "2022-03-30T10:56:02.793Z"
   },
   {
    "duration": 95,
    "start_time": "2022-03-30T10:56:03.919Z"
   },
   {
    "duration": 9,
    "start_time": "2022-03-30T10:56:04.016Z"
   },
   {
    "duration": 17,
    "start_time": "2022-03-30T10:56:04.027Z"
   },
   {
    "duration": 12,
    "start_time": "2022-03-30T10:56:04.045Z"
   },
   {
    "duration": 40,
    "start_time": "2022-03-30T10:56:04.059Z"
   },
   {
    "duration": 14,
    "start_time": "2022-03-30T10:56:04.100Z"
   },
   {
    "duration": 31,
    "start_time": "2022-03-30T10:56:04.116Z"
   },
   {
    "duration": 20,
    "start_time": "2022-03-30T10:56:04.149Z"
   },
   {
    "duration": 11,
    "start_time": "2022-03-30T10:56:04.171Z"
   },
   {
    "duration": 18,
    "start_time": "2022-03-30T10:56:04.184Z"
   },
   {
    "duration": 24,
    "start_time": "2022-03-30T10:56:04.203Z"
   },
   {
    "duration": 84,
    "start_time": "2022-03-30T10:56:04.229Z"
   },
   {
    "duration": 5,
    "start_time": "2022-03-30T10:56:04.314Z"
   },
   {
    "duration": 17,
    "start_time": "2022-03-30T10:56:04.320Z"
   },
   {
    "duration": 22,
    "start_time": "2022-03-30T10:56:04.338Z"
   },
   {
    "duration": 15,
    "start_time": "2022-03-30T10:56:04.362Z"
   },
   {
    "duration": 24,
    "start_time": "2022-03-30T10:56:04.378Z"
   },
   {
    "duration": 30,
    "start_time": "2022-03-30T10:56:04.403Z"
   },
   {
    "duration": 268,
    "start_time": "2022-03-30T10:56:04.435Z"
   },
   {
    "duration": 247,
    "start_time": "2022-03-30T10:56:04.705Z"
   },
   {
    "duration": 183,
    "start_time": "2022-03-30T10:56:04.953Z"
   },
   {
    "duration": 276,
    "start_time": "2022-03-30T10:56:05.138Z"
   },
   {
    "duration": 208,
    "start_time": "2022-03-30T10:56:05.416Z"
   },
   {
    "duration": 271,
    "start_time": "2022-03-30T10:56:05.626Z"
   },
   {
    "duration": 123,
    "start_time": "2022-03-30T10:56:05.899Z"
   },
   {
    "duration": 140,
    "start_time": "2022-03-30T10:56:06.024Z"
   },
   {
    "duration": 4,
    "start_time": "2022-03-30T10:56:06.168Z"
   },
   {
    "duration": 141,
    "start_time": "2022-03-30T10:56:06.181Z"
   },
   {
    "duration": 233,
    "start_time": "2022-03-30T10:56:06.324Z"
   },
   {
    "duration": 5,
    "start_time": "2022-03-30T10:56:06.559Z"
   },
   {
    "duration": 206,
    "start_time": "2022-03-30T10:56:06.565Z"
   },
   {
    "duration": 141,
    "start_time": "2022-03-30T10:56:06.772Z"
   },
   {
    "duration": 6,
    "start_time": "2022-03-30T10:56:06.914Z"
   },
   {
    "duration": 23,
    "start_time": "2022-03-30T10:56:06.922Z"
   },
   {
    "duration": 9,
    "start_time": "2022-03-30T10:56:06.946Z"
   },
   {
    "duration": 28,
    "start_time": "2022-03-30T10:56:06.957Z"
   },
   {
    "duration": 7,
    "start_time": "2022-03-30T10:56:06.987Z"
   },
   {
    "duration": 37,
    "start_time": "2022-03-30T10:56:06.995Z"
   },
   {
    "duration": 13,
    "start_time": "2022-03-30T10:56:07.034Z"
   },
   {
    "duration": 1181,
    "start_time": "2022-03-31T06:27:57.838Z"
   },
   {
    "duration": 56,
    "start_time": "2022-03-31T06:27:59.021Z"
   },
   {
    "duration": 9,
    "start_time": "2022-03-31T06:27:59.079Z"
   },
   {
    "duration": 7,
    "start_time": "2022-03-31T06:27:59.090Z"
   },
   {
    "duration": 6,
    "start_time": "2022-03-31T06:27:59.098Z"
   },
   {
    "duration": 24,
    "start_time": "2022-03-31T06:27:59.105Z"
   },
   {
    "duration": 36,
    "start_time": "2022-03-31T06:27:59.130Z"
   },
   {
    "duration": 16,
    "start_time": "2022-03-31T06:27:59.168Z"
   },
   {
    "duration": 14,
    "start_time": "2022-03-31T06:27:59.186Z"
   },
   {
    "duration": 6,
    "start_time": "2022-03-31T06:27:59.202Z"
   },
   {
    "duration": 10,
    "start_time": "2022-03-31T06:27:59.210Z"
   },
   {
    "duration": 12,
    "start_time": "2022-03-31T06:27:59.221Z"
   },
   {
    "duration": 80,
    "start_time": "2022-03-31T06:27:59.235Z"
   },
   {
    "duration": 4,
    "start_time": "2022-03-31T06:27:59.316Z"
   },
   {
    "duration": 7,
    "start_time": "2022-03-31T06:27:59.321Z"
   },
   {
    "duration": 12,
    "start_time": "2022-03-31T06:27:59.329Z"
   },
   {
    "duration": 20,
    "start_time": "2022-03-31T06:27:59.343Z"
   },
   {
    "duration": 11,
    "start_time": "2022-03-31T06:27:59.364Z"
   },
   {
    "duration": 12,
    "start_time": "2022-03-31T06:27:59.377Z"
   },
   {
    "duration": 286,
    "start_time": "2022-03-31T06:27:59.390Z"
   },
   {
    "duration": 281,
    "start_time": "2022-03-31T06:27:59.677Z"
   },
   {
    "duration": 199,
    "start_time": "2022-03-31T06:27:59.960Z"
   },
   {
    "duration": 304,
    "start_time": "2022-03-31T06:28:00.163Z"
   },
   {
    "duration": 200,
    "start_time": "2022-03-31T06:28:00.469Z"
   },
   {
    "duration": 281,
    "start_time": "2022-03-31T06:28:00.671Z"
   },
   {
    "duration": 159,
    "start_time": "2022-03-31T06:28:00.954Z"
   },
   {
    "duration": 135,
    "start_time": "2022-03-31T06:28:01.114Z"
   },
   {
    "duration": 12,
    "start_time": "2022-03-31T06:28:01.253Z"
   },
   {
    "duration": 146,
    "start_time": "2022-03-31T06:28:01.266Z"
   },
   {
    "duration": 265,
    "start_time": "2022-03-31T06:28:01.414Z"
   },
   {
    "duration": 4,
    "start_time": "2022-03-31T06:28:01.681Z"
   },
   {
    "duration": 203,
    "start_time": "2022-03-31T06:28:01.686Z"
   },
   {
    "duration": 119,
    "start_time": "2022-03-31T06:28:01.891Z"
   },
   {
    "duration": 6,
    "start_time": "2022-03-31T06:28:02.012Z"
   },
   {
    "duration": 24,
    "start_time": "2022-03-31T06:28:02.020Z"
   },
   {
    "duration": 25,
    "start_time": "2022-03-31T06:28:02.046Z"
   },
   {
    "duration": 14,
    "start_time": "2022-03-31T06:28:02.073Z"
   },
   {
    "duration": 8,
    "start_time": "2022-03-31T06:28:02.089Z"
   },
   {
    "duration": 26,
    "start_time": "2022-03-31T06:28:02.098Z"
   },
   {
    "duration": 13,
    "start_time": "2022-03-31T06:28:02.125Z"
   },
   {
    "duration": 1368,
    "start_time": "2022-07-10T16:18:57.066Z"
   },
   {
    "duration": 287,
    "start_time": "2022-07-10T16:18:58.436Z"
   },
   {
    "duration": 13,
    "start_time": "2022-07-10T16:18:58.725Z"
   },
   {
    "duration": 12,
    "start_time": "2022-07-10T16:18:58.741Z"
   },
   {
    "duration": 8,
    "start_time": "2022-07-10T16:18:58.755Z"
   },
   {
    "duration": 64,
    "start_time": "2022-07-10T16:18:58.765Z"
   },
   {
    "duration": 12,
    "start_time": "2022-07-10T16:18:58.832Z"
   },
   {
    "duration": 17,
    "start_time": "2022-07-10T16:18:58.847Z"
   },
   {
    "duration": 9,
    "start_time": "2022-07-10T16:18:58.866Z"
   },
   {
    "duration": 9,
    "start_time": "2022-07-10T16:18:58.906Z"
   },
   {
    "duration": 14,
    "start_time": "2022-07-10T16:18:58.917Z"
   },
   {
    "duration": 21,
    "start_time": "2022-07-10T16:18:58.933Z"
   },
   {
    "duration": 97,
    "start_time": "2022-07-10T16:18:58.957Z"
   },
   {
    "duration": 6,
    "start_time": "2022-07-10T16:18:59.056Z"
   },
   {
    "duration": 6,
    "start_time": "2022-07-10T16:18:59.065Z"
   },
   {
    "duration": 40,
    "start_time": "2022-07-10T16:18:59.073Z"
   },
   {
    "duration": 7,
    "start_time": "2022-07-10T16:18:59.115Z"
   },
   {
    "duration": 20,
    "start_time": "2022-07-10T16:18:59.125Z"
   },
   {
    "duration": 22,
    "start_time": "2022-07-10T16:18:59.148Z"
   },
   {
    "duration": 375,
    "start_time": "2022-07-10T16:18:59.172Z"
   },
   {
    "duration": 299,
    "start_time": "2022-07-10T16:18:59.549Z"
   },
   {
    "duration": 254,
    "start_time": "2022-07-10T16:18:59.850Z"
   },
   {
    "duration": 339,
    "start_time": "2022-07-10T16:19:00.106Z"
   },
   {
    "duration": 246,
    "start_time": "2022-07-10T16:19:00.447Z"
   },
   {
    "duration": 342,
    "start_time": "2022-07-10T16:19:00.695Z"
   },
   {
    "duration": 177,
    "start_time": "2022-07-10T16:19:01.039Z"
   },
   {
    "duration": 226,
    "start_time": "2022-07-10T16:19:01.218Z"
   },
   {
    "duration": 5,
    "start_time": "2022-07-10T16:19:01.449Z"
   },
   {
    "duration": 238,
    "start_time": "2022-07-10T16:19:01.456Z"
   },
   {
    "duration": 257,
    "start_time": "2022-07-10T16:19:01.696Z"
   },
   {
    "duration": 4,
    "start_time": "2022-07-10T16:19:01.955Z"
   },
   {
    "duration": 220,
    "start_time": "2022-07-10T16:19:01.961Z"
   },
   {
    "duration": 137,
    "start_time": "2022-07-10T16:19:02.182Z"
   },
   {
    "duration": 7,
    "start_time": "2022-07-10T16:19:02.322Z"
   },
   {
    "duration": 28,
    "start_time": "2022-07-10T16:19:02.331Z"
   },
   {
    "duration": 11,
    "start_time": "2022-07-10T16:19:02.361Z"
   },
   {
    "duration": 33,
    "start_time": "2022-07-10T16:19:02.374Z"
   },
   {
    "duration": 9,
    "start_time": "2022-07-10T16:19:02.409Z"
   },
   {
    "duration": 22,
    "start_time": "2022-07-10T16:19:02.420Z"
   },
   {
    "duration": 14,
    "start_time": "2022-07-10T16:19:02.444Z"
   }
  ],
  "kernelspec": {
   "display_name": "Python 3 (ipykernel)",
   "language": "python",
   "name": "python3"
  },
  "language_info": {
   "codemirror_mode": {
    "name": "ipython",
    "version": 3
   },
   "file_extension": ".py",
   "mimetype": "text/x-python",
   "name": "python",
   "nbconvert_exporter": "python",
   "pygments_lexer": "ipython3",
   "version": "3.9.7"
  },
  "toc": {
   "base_numbering": 1,
   "nav_menu": {},
   "number_sections": true,
   "sideBar": true,
   "skip_h1_title": true,
   "title_cell": "Table of Contents",
   "title_sidebar": "Contents",
   "toc_cell": false,
   "toc_position": {
    "height": "calc(100% - 180px)",
    "left": "10px",
    "top": "150px",
    "width": "195px"
   },
   "toc_section_display": true,
   "toc_window_display": true
  }
 },
 "nbformat": 4,
 "nbformat_minor": 2
}
